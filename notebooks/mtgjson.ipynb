{
 "metadata": {
  "language_info": {
   "codemirror_mode": {
    "name": "ipython",
    "version": 3
   },
   "file_extension": ".py",
   "mimetype": "text/x-python",
   "name": "python",
   "nbconvert_exporter": "python",
   "pygments_lexer": "ipython3",
   "version": "3.7.9-final"
  },
  "orig_nbformat": 2,
  "kernelspec": {
   "name": "python3",
   "display_name": "Python 3.7.9 64-bit ('magicml': conda)",
   "metadata": {
    "interpreter": {
     "hash": "d21976708c890d4f5e403de40721946a087be811acbfab0d40a467fb62beb492"
    }
   }
  }
 },
 "nbformat": 4,
 "nbformat_minor": 2,
 "cells": [
  {
   "source": [
    "# TODO  \n",
    "## Card Similarity Search  \n",
    "### Data Prep (raw card data > clean card data) \n",
    "  - ~~merge card, set, and legality data~~  \n",
    "  - ~~concat token cards (later - may not want to)~~  \n",
    "  - ensure clean  \n",
    "    - fillna, non-english issues, maybe replace symbols ({T}...) w/ text  \n",
    "  - **AWS**  \n",
    "    - ~~Load raw MTGJson from S3~~  \n",
    "    - ~~Lambda (or Glue): Prep > to S3~~  \n",
    "### Similarity (clean card data > embeddings, similarity matrix)\n",
    "  - USE embeddings from card text  \n",
    "  - explore including other card props as text (color, type, mana cost...)  \n",
    "  - similarity matrix  \n",
    "  - pre-sort and save each card (50K+ cards)\n",
    "  - **AWS**  \n",
    "    - Load clean card data from S3  \n",
    "    - SM Batch Job: USE embeddings & similarity matrix > to S3  \n",
    "    - Lambda: embeddings/sim_matrix from S3 > EFS (?)  \n",
    "    - Lambda: sort each card by similarity EFS > EFS (?)\n",
    "    - Data Pipeline: cards data from S3 to Dynamo (?)  \n",
    "### App Backend  \n",
    "  - API accepts card name and returns topK similar cards (w/ some metadata for filtering)  \n",
    "  - **AWS**  \n",
    "    - Lambda: API queries EFS or Dynamo  \n",
    "    - StepFunctions or Lambda destinations: refresh data pipeline as needed\n",
    "### App Frontend  \n",
    "  - Home page  \n",
    "    - Search box and results  \n",
    "    - A few filters (color, type, mana cost...)  \n",
    "    - add placement  \n",
    "    - sign in (eventually)  \n",
    "### Deploy  \n",
    "  - Backend\n",
    "    - Serverless  \n",
    "    - Seed  \n",
    "  - Frontend  \n",
    "    - React  \n",
    "    - Amplify"
   ],
   "cell_type": "markdown",
   "metadata": {}
  },
  {
   "source": [
    "# Data Prep"
   ],
   "cell_type": "markdown",
   "metadata": {}
  },
  {
   "cell_type": "code",
   "execution_count": 1,
   "metadata": {},
   "outputs": [],
   "source": [
    "import os\n",
    "import numpy as np\n",
    "import pandas as pd\n",
    "\n",
    "import tensorflow as tf\n",
    "import tensorflow_hub as hub\n",
    "import matplotlib.pyplot as plt"
   ]
  },
  {
   "cell_type": "code",
   "execution_count": 2,
   "metadata": {},
   "outputs": [
    {
     "output_type": "stream",
     "name": "stdout",
     "text": [
      "(55943, 74)\n33.12 MB\n"
     ]
    },
    {
     "output_type": "execute_result",
     "data": {
      "text/plain": [
       "   id        artist asciiName availability borderColor  cardKingdomFoilId  \\\n",
       "0   1  Rebecca Guay       NaN   mtgo,paper       black           123335.0   \n",
       "\n",
       "   cardKingdomId colorIdentity colorIndicator colors  ...  subtypes  \\\n",
       "0       122967.0             G            NaN      G  ...       NaN   \n",
       "\n",
       "  supertypes  tcgplayerProductId  \\\n",
       "0        NaN             15023.0   \n",
       "\n",
       "                                                text toughness         type  \\\n",
       "0  If you would draw a card, you may instead choo...       NaN  Enchantment   \n",
       "\n",
       "         types                                  uuid variations  watermark  \n",
       "0  Enchantment  38513fa0-ea83-5642-8ecd-4f0b3daa6768        NaN        NaN  \n",
       "\n",
       "[1 rows x 74 columns]"
      ],
      "text/html": "<div>\n<style scoped>\n    .dataframe tbody tr th:only-of-type {\n        vertical-align: middle;\n    }\n\n    .dataframe tbody tr th {\n        vertical-align: top;\n    }\n\n    .dataframe thead th {\n        text-align: right;\n    }\n</style>\n<table border=\"1\" class=\"dataframe\">\n  <thead>\n    <tr style=\"text-align: right;\">\n      <th></th>\n      <th>id</th>\n      <th>artist</th>\n      <th>asciiName</th>\n      <th>availability</th>\n      <th>borderColor</th>\n      <th>cardKingdomFoilId</th>\n      <th>cardKingdomId</th>\n      <th>colorIdentity</th>\n      <th>colorIndicator</th>\n      <th>colors</th>\n      <th>...</th>\n      <th>subtypes</th>\n      <th>supertypes</th>\n      <th>tcgplayerProductId</th>\n      <th>text</th>\n      <th>toughness</th>\n      <th>type</th>\n      <th>types</th>\n      <th>uuid</th>\n      <th>variations</th>\n      <th>watermark</th>\n    </tr>\n  </thead>\n  <tbody>\n    <tr>\n      <th>0</th>\n      <td>1</td>\n      <td>Rebecca Guay</td>\n      <td>NaN</td>\n      <td>mtgo,paper</td>\n      <td>black</td>\n      <td>123335.0</td>\n      <td>122967.0</td>\n      <td>G</td>\n      <td>NaN</td>\n      <td>G</td>\n      <td>...</td>\n      <td>NaN</td>\n      <td>NaN</td>\n      <td>15023.0</td>\n      <td>If you would draw a card, you may instead choo...</td>\n      <td>NaN</td>\n      <td>Enchantment</td>\n      <td>Enchantment</td>\n      <td>38513fa0-ea83-5642-8ecd-4f0b3daa6768</td>\n      <td>NaN</td>\n      <td>NaN</td>\n    </tr>\n  </tbody>\n</table>\n<p>1 rows × 74 columns</p>\n</div>"
     },
     "metadata": {},
     "execution_count": 2
    }
   ],
   "source": [
    "cards_df = pd.read_csv('../data/mtgjson/cards.csv')\\\n",
    "    .drop(columns=['index'])\n",
    "\n",
    "print(cards_df.shape)\n",
    "print('{} MB'.format(round(cards_df.memory_usage().sum()/1000000, 2)))\n",
    "cards_df.head(1)"
   ]
  },
  {
   "cell_type": "code",
   "execution_count": 3,
   "metadata": {},
   "outputs": [
    {
     "output_type": "stream",
     "name": "stdout",
     "text": [
      "(545, 2)\n0.01 MB\n"
     ]
    },
    {
     "output_type": "execute_result",
     "data": {
      "text/plain": [
       "  setCode        setName\n",
       "0     10E  Tenth Edition"
      ],
      "text/html": "<div>\n<style scoped>\n    .dataframe tbody tr th:only-of-type {\n        vertical-align: middle;\n    }\n\n    .dataframe tbody tr th {\n        vertical-align: top;\n    }\n\n    .dataframe thead th {\n        text-align: right;\n    }\n</style>\n<table border=\"1\" class=\"dataframe\">\n  <thead>\n    <tr style=\"text-align: right;\">\n      <th></th>\n      <th>setCode</th>\n      <th>setName</th>\n    </tr>\n  </thead>\n  <tbody>\n    <tr>\n      <th>0</th>\n      <td>10E</td>\n      <td>Tenth Edition</td>\n    </tr>\n  </tbody>\n</table>\n</div>"
     },
     "metadata": {},
     "execution_count": 3
    }
   ],
   "source": [
    "sets_df = pd.read_csv('../data/mtgjson/sets.csv')[['code','name']]\\\n",
    "    .rename(columns={'name': 'setName', 'code':'setCode'})\n",
    "\n",
    "print(sets_df.shape)\n",
    "print('{} MB'.format(round(sets_df.memory_usage().sum()/1000000, 2)))\n",
    "sets_df.head(1)"
   ]
  },
  {
   "cell_type": "code",
   "execution_count": 4,
   "metadata": {},
   "outputs": [
    {
     "output_type": "stream",
     "name": "stdout",
     "text": [
      "(55943, 75)\n34.01 MB\n"
     ]
    },
    {
     "output_type": "execute_result",
     "data": {
      "text/plain": [
       "   id        artist asciiName availability borderColor  cardKingdomFoilId  \\\n",
       "0   1  Rebecca Guay       NaN   mtgo,paper       black           123335.0   \n",
       "\n",
       "   cardKingdomId colorIdentity colorIndicator colors  ...  supertypes  \\\n",
       "0       122967.0             G            NaN      G  ...         NaN   \n",
       "\n",
       "  tcgplayerProductId                                               text  \\\n",
       "0            15023.0  If you would draw a card, you may instead choo...   \n",
       "\n",
       "   toughness         type        types                                  uuid  \\\n",
       "0        NaN  Enchantment  Enchantment  38513fa0-ea83-5642-8ecd-4f0b3daa6768   \n",
       "\n",
       "  variations watermark        setName  \n",
       "0        NaN       NaN  Tenth Edition  \n",
       "\n",
       "[1 rows x 75 columns]"
      ],
      "text/html": "<div>\n<style scoped>\n    .dataframe tbody tr th:only-of-type {\n        vertical-align: middle;\n    }\n\n    .dataframe tbody tr th {\n        vertical-align: top;\n    }\n\n    .dataframe thead th {\n        text-align: right;\n    }\n</style>\n<table border=\"1\" class=\"dataframe\">\n  <thead>\n    <tr style=\"text-align: right;\">\n      <th></th>\n      <th>id</th>\n      <th>artist</th>\n      <th>asciiName</th>\n      <th>availability</th>\n      <th>borderColor</th>\n      <th>cardKingdomFoilId</th>\n      <th>cardKingdomId</th>\n      <th>colorIdentity</th>\n      <th>colorIndicator</th>\n      <th>colors</th>\n      <th>...</th>\n      <th>supertypes</th>\n      <th>tcgplayerProductId</th>\n      <th>text</th>\n      <th>toughness</th>\n      <th>type</th>\n      <th>types</th>\n      <th>uuid</th>\n      <th>variations</th>\n      <th>watermark</th>\n      <th>setName</th>\n    </tr>\n  </thead>\n  <tbody>\n    <tr>\n      <th>0</th>\n      <td>1</td>\n      <td>Rebecca Guay</td>\n      <td>NaN</td>\n      <td>mtgo,paper</td>\n      <td>black</td>\n      <td>123335.0</td>\n      <td>122967.0</td>\n      <td>G</td>\n      <td>NaN</td>\n      <td>G</td>\n      <td>...</td>\n      <td>NaN</td>\n      <td>15023.0</td>\n      <td>If you would draw a card, you may instead choo...</td>\n      <td>NaN</td>\n      <td>Enchantment</td>\n      <td>Enchantment</td>\n      <td>38513fa0-ea83-5642-8ecd-4f0b3daa6768</td>\n      <td>NaN</td>\n      <td>NaN</td>\n      <td>Tenth Edition</td>\n    </tr>\n  </tbody>\n</table>\n<p>1 rows × 75 columns</p>\n</div>"
     },
     "metadata": {},
     "execution_count": 4
    }
   ],
   "source": [
    "# Merge set names into cards\n",
    "cards_df = cards_df\\\n",
    "    .merge(sets_df, how='left', on='setCode')\n",
    "\n",
    "print(cards_df.shape)\n",
    "print('{} MB'.format(round(cards_df.memory_usage().sum()/1000000, 2)))\n",
    "cards_df.head(1)"
   ]
  },
  {
   "cell_type": "code",
   "execution_count": 5,
   "metadata": {},
   "outputs": [
    {
     "output_type": "stream",
     "name": "stdout",
     "text": [
      "(54718, 14)\n6.13 MB\n"
     ]
    },
    {
     "output_type": "execute_result",
     "data": {
      "text/plain": [
       "format                                  uuid  brawl commander   duel future  \\\n",
       "0       00010d56-fe38-5e35-8aed-518019aa36a5  Blank     Legal  Legal  Blank   \n",
       "\n",
       "format historic legacy modern oldschool pauper  penny pioneer standard vintage  \n",
       "0         Blank  Legal  Legal     Blank  Blank  Blank   Legal    Blank   Legal  "
      ],
      "text/html": "<div>\n<style scoped>\n    .dataframe tbody tr th:only-of-type {\n        vertical-align: middle;\n    }\n\n    .dataframe tbody tr th {\n        vertical-align: top;\n    }\n\n    .dataframe thead th {\n        text-align: right;\n    }\n</style>\n<table border=\"1\" class=\"dataframe\">\n  <thead>\n    <tr style=\"text-align: right;\">\n      <th>format</th>\n      <th>uuid</th>\n      <th>brawl</th>\n      <th>commander</th>\n      <th>duel</th>\n      <th>future</th>\n      <th>historic</th>\n      <th>legacy</th>\n      <th>modern</th>\n      <th>oldschool</th>\n      <th>pauper</th>\n      <th>penny</th>\n      <th>pioneer</th>\n      <th>standard</th>\n      <th>vintage</th>\n    </tr>\n  </thead>\n  <tbody>\n    <tr>\n      <th>0</th>\n      <td>00010d56-fe38-5e35-8aed-518019aa36a5</td>\n      <td>Blank</td>\n      <td>Legal</td>\n      <td>Legal</td>\n      <td>Blank</td>\n      <td>Blank</td>\n      <td>Legal</td>\n      <td>Legal</td>\n      <td>Blank</td>\n      <td>Blank</td>\n      <td>Blank</td>\n      <td>Legal</td>\n      <td>Blank</td>\n      <td>Legal</td>\n    </tr>\n  </tbody>\n</table>\n</div>"
     },
     "metadata": {},
     "execution_count": 5
    }
   ],
   "source": [
    "legs_df = pd.read_csv('../data/mtgjson/legalities.csv')\\\n",
    "    .pivot(index='uuid', columns='format', values='status')\\\n",
    "    .reset_index()\\\n",
    "    .fillna('Blank')\n",
    "\n",
    "print(legs_df.shape)\n",
    "print('{} MB'.format(round(legs_df.memory_usage().sum()/1000000, 2)))\n",
    "legs_df.head(1)"
   ]
  },
  {
   "cell_type": "code",
   "execution_count": 6,
   "metadata": {},
   "outputs": [
    {
     "output_type": "stream",
     "name": "stdout",
     "text": [
      "(55943, 88)\n39.83 MB\n"
     ]
    },
    {
     "output_type": "execute_result",
     "data": {
      "text/plain": [
       "   id        artist asciiName availability borderColor  cardKingdomFoilId  \\\n",
       "0   1  Rebecca Guay       NaN   mtgo,paper       black           123335.0   \n",
       "\n",
       "   cardKingdomId colorIdentity colorIndicator colors  ...  future historic  \\\n",
       "0       122967.0             G            NaN      G  ...   Blank    Blank   \n",
       "\n",
       "   legacy  modern oldschool pauper  penny pioneer standard  vintage  \n",
       "0   Legal   Legal     Blank  Blank  Legal   Blank    Blank    Legal  \n",
       "\n",
       "[1 rows x 88 columns]"
      ],
      "text/html": "<div>\n<style scoped>\n    .dataframe tbody tr th:only-of-type {\n        vertical-align: middle;\n    }\n\n    .dataframe tbody tr th {\n        vertical-align: top;\n    }\n\n    .dataframe thead th {\n        text-align: right;\n    }\n</style>\n<table border=\"1\" class=\"dataframe\">\n  <thead>\n    <tr style=\"text-align: right;\">\n      <th></th>\n      <th>id</th>\n      <th>artist</th>\n      <th>asciiName</th>\n      <th>availability</th>\n      <th>borderColor</th>\n      <th>cardKingdomFoilId</th>\n      <th>cardKingdomId</th>\n      <th>colorIdentity</th>\n      <th>colorIndicator</th>\n      <th>colors</th>\n      <th>...</th>\n      <th>future</th>\n      <th>historic</th>\n      <th>legacy</th>\n      <th>modern</th>\n      <th>oldschool</th>\n      <th>pauper</th>\n      <th>penny</th>\n      <th>pioneer</th>\n      <th>standard</th>\n      <th>vintage</th>\n    </tr>\n  </thead>\n  <tbody>\n    <tr>\n      <th>0</th>\n      <td>1</td>\n      <td>Rebecca Guay</td>\n      <td>NaN</td>\n      <td>mtgo,paper</td>\n      <td>black</td>\n      <td>123335.0</td>\n      <td>122967.0</td>\n      <td>G</td>\n      <td>NaN</td>\n      <td>G</td>\n      <td>...</td>\n      <td>Blank</td>\n      <td>Blank</td>\n      <td>Legal</td>\n      <td>Legal</td>\n      <td>Blank</td>\n      <td>Blank</td>\n      <td>Legal</td>\n      <td>Blank</td>\n      <td>Blank</td>\n      <td>Legal</td>\n    </tr>\n  </tbody>\n</table>\n<p>1 rows × 88 columns</p>\n</div>"
     },
     "metadata": {},
     "execution_count": 6
    }
   ],
   "source": [
    "# Merge legalities into cards\n",
    "cards_df = cards_df\\\n",
    "    .merge(legs_df, how='left', on='uuid')\n",
    "\n",
    "print(cards_df.shape)\n",
    "print('{} MB'.format(round(cards_df.memory_usage().sum()/1000000, 2)))\n",
    "cards_df.head(1)"
   ]
  },
  {
   "cell_type": "code",
   "execution_count": 34,
   "metadata": {},
   "outputs": [],
   "source": [
    "cards_df.to_csv('cards/cards.csv', index=False)"
   ]
  },
  {
   "source": [
    "### Handle token cards later"
   ],
   "cell_type": "markdown",
   "metadata": {}
  },
  {
   "cell_type": "code",
   "execution_count": 53,
   "metadata": {},
   "outputs": [
    {
     "output_type": "stream",
     "name": "stdout",
     "text": [
      "(1704, 45)\n0.61 MB\n"
     ]
    },
    {
     "output_type": "execute_result",
     "data": {
      "text/plain": [
       "   index  id       artist asciiName availability borderColor colorIdentity  \\\n",
       "0      0   1  Jim Pavelec       NaN        paper       black             R   \n",
       "\n",
       "  colors  edhrecRank faceName  ... side subtypes  supertypes  \\\n",
       "0      R         NaN      NaN  ...  NaN   Dragon         NaN   \n",
       "\n",
       "   tcgplayerProductId    text  toughness                     type  \\\n",
       "0             78608.0  Flying          5  Token Creature — Dragon   \n",
       "\n",
       "            types                                  uuid watermark  \n",
       "0  Token,Creature  7decf258-eb10-50da-83f7-c7eba74adbfb       NaN  \n",
       "\n",
       "[1 rows x 45 columns]"
      ],
      "text/html": "<div>\n<style scoped>\n    .dataframe tbody tr th:only-of-type {\n        vertical-align: middle;\n    }\n\n    .dataframe tbody tr th {\n        vertical-align: top;\n    }\n\n    .dataframe thead th {\n        text-align: right;\n    }\n</style>\n<table border=\"1\" class=\"dataframe\">\n  <thead>\n    <tr style=\"text-align: right;\">\n      <th></th>\n      <th>index</th>\n      <th>id</th>\n      <th>artist</th>\n      <th>asciiName</th>\n      <th>availability</th>\n      <th>borderColor</th>\n      <th>colorIdentity</th>\n      <th>colors</th>\n      <th>edhrecRank</th>\n      <th>faceName</th>\n      <th>...</th>\n      <th>side</th>\n      <th>subtypes</th>\n      <th>supertypes</th>\n      <th>tcgplayerProductId</th>\n      <th>text</th>\n      <th>toughness</th>\n      <th>type</th>\n      <th>types</th>\n      <th>uuid</th>\n      <th>watermark</th>\n    </tr>\n  </thead>\n  <tbody>\n    <tr>\n      <th>0</th>\n      <td>0</td>\n      <td>1</td>\n      <td>Jim Pavelec</td>\n      <td>NaN</td>\n      <td>paper</td>\n      <td>black</td>\n      <td>R</td>\n      <td>R</td>\n      <td>NaN</td>\n      <td>NaN</td>\n      <td>...</td>\n      <td>NaN</td>\n      <td>Dragon</td>\n      <td>NaN</td>\n      <td>78608.0</td>\n      <td>Flying</td>\n      <td>5</td>\n      <td>Token Creature — Dragon</td>\n      <td>Token,Creature</td>\n      <td>7decf258-eb10-50da-83f7-c7eba74adbfb</td>\n      <td>NaN</td>\n    </tr>\n  </tbody>\n</table>\n<p>1 rows × 45 columns</p>\n</div>"
     },
     "metadata": {},
     "execution_count": 53
    }
   ],
   "source": [
    "tokens_df = pd.read_csv('../data/mtgjson/tokens.csv')\n",
    "\n",
    "print(tokens_df.shape)\n",
    "print('{} MB'.format(round(tokens_df.memory_usage().sum()/1000000, 2)))\n",
    "tokens_df.head(1)"
   ]
  },
  {
   "cell_type": "code",
   "execution_count": null,
   "metadata": {},
   "outputs": [],
   "source": []
  },
  {
   "cell_type": "code",
   "execution_count": null,
   "metadata": {},
   "outputs": [],
   "source": []
  },
  {
   "cell_type": "code",
   "execution_count": null,
   "metadata": {},
   "outputs": [],
   "source": []
  },
  {
   "cell_type": "code",
   "execution_count": 3,
   "metadata": {},
   "outputs": [
    {
     "output_type": "stream",
     "name": "stdout",
     "text": [
      "(55943, 74)\n"
     ]
    },
    {
     "output_type": "execute_result",
     "data": {
      "text/plain": [
       "   id           artist asciiName availability borderColor  cardKingdomFoilId  \\\n",
       "0   1     Rebecca Guay       NaN   mtgo,paper       black           123335.0   \n",
       "1   2  Stephen Daniele       NaN   mtgo,paper       black           123149.0   \n",
       "\n",
       "   cardKingdomId colorIdentity colorIndicator colors  ...      subtypes  \\\n",
       "0       122967.0             G            NaN      G  ...           NaN   \n",
       "1       122781.0             U            NaN      U  ...  Human,Wizard   \n",
       "\n",
       "  supertypes  tcgplayerProductId  \\\n",
       "0        NaN             15023.0   \n",
       "1        NaN             15024.0   \n",
       "\n",
       "                                                text toughness  \\\n",
       "0  If you would draw a card, you may instead choo...       NaN   \n",
       "1  When Academy Researchers enters the battlefiel...         2   \n",
       "\n",
       "                      type        types                                  uuid  \\\n",
       "0              Enchantment  Enchantment  38513fa0-ea83-5642-8ecd-4f0b3daa6768   \n",
       "1  Creature — Human Wizard     Creature  b8a68840-4044-52c0-a14e-0a1c630ba42c   \n",
       "\n",
       "  variations  watermark  \n",
       "0        NaN        NaN  \n",
       "1        NaN        NaN  \n",
       "\n",
       "[2 rows x 74 columns]"
      ],
      "text/html": "<div>\n<style scoped>\n    .dataframe tbody tr th:only-of-type {\n        vertical-align: middle;\n    }\n\n    .dataframe tbody tr th {\n        vertical-align: top;\n    }\n\n    .dataframe thead th {\n        text-align: right;\n    }\n</style>\n<table border=\"1\" class=\"dataframe\">\n  <thead>\n    <tr style=\"text-align: right;\">\n      <th></th>\n      <th>id</th>\n      <th>artist</th>\n      <th>asciiName</th>\n      <th>availability</th>\n      <th>borderColor</th>\n      <th>cardKingdomFoilId</th>\n      <th>cardKingdomId</th>\n      <th>colorIdentity</th>\n      <th>colorIndicator</th>\n      <th>colors</th>\n      <th>...</th>\n      <th>subtypes</th>\n      <th>supertypes</th>\n      <th>tcgplayerProductId</th>\n      <th>text</th>\n      <th>toughness</th>\n      <th>type</th>\n      <th>types</th>\n      <th>uuid</th>\n      <th>variations</th>\n      <th>watermark</th>\n    </tr>\n  </thead>\n  <tbody>\n    <tr>\n      <th>0</th>\n      <td>1</td>\n      <td>Rebecca Guay</td>\n      <td>NaN</td>\n      <td>mtgo,paper</td>\n      <td>black</td>\n      <td>123335.0</td>\n      <td>122967.0</td>\n      <td>G</td>\n      <td>NaN</td>\n      <td>G</td>\n      <td>...</td>\n      <td>NaN</td>\n      <td>NaN</td>\n      <td>15023.0</td>\n      <td>If you would draw a card, you may instead choo...</td>\n      <td>NaN</td>\n      <td>Enchantment</td>\n      <td>Enchantment</td>\n      <td>38513fa0-ea83-5642-8ecd-4f0b3daa6768</td>\n      <td>NaN</td>\n      <td>NaN</td>\n    </tr>\n    <tr>\n      <th>1</th>\n      <td>2</td>\n      <td>Stephen Daniele</td>\n      <td>NaN</td>\n      <td>mtgo,paper</td>\n      <td>black</td>\n      <td>123149.0</td>\n      <td>122781.0</td>\n      <td>U</td>\n      <td>NaN</td>\n      <td>U</td>\n      <td>...</td>\n      <td>Human,Wizard</td>\n      <td>NaN</td>\n      <td>15024.0</td>\n      <td>When Academy Researchers enters the battlefiel...</td>\n      <td>2</td>\n      <td>Creature — Human Wizard</td>\n      <td>Creature</td>\n      <td>b8a68840-4044-52c0-a14e-0a1c630ba42c</td>\n      <td>NaN</td>\n      <td>NaN</td>\n    </tr>\n  </tbody>\n</table>\n<p>2 rows × 74 columns</p>\n</div>"
     },
     "metadata": {},
     "execution_count": 3
    }
   ],
   "source": [
    "print(cards_df.shape)\n",
    "cards_df.head(2)"
   ]
  },
  {
   "cell_type": "code",
   "execution_count": 55,
   "metadata": {},
   "outputs": [
    {
     "output_type": "execute_result",
     "data": {
      "text/plain": [
       "Index(['id', 'artist', 'asciiName', 'availability', 'borderColor',\n",
       "       'cardKingdomFoilId', 'cardKingdomId', 'colorIdentity', 'colorIndicator',\n",
       "       'colors', 'convertedManaCost', 'duelDeck', 'edhrecRank',\n",
       "       'faceConvertedManaCost', 'faceName', 'flavorName', 'flavorText',\n",
       "       'frameEffects', 'frameVersion', 'hand', 'hasAlternativeDeckLimit',\n",
       "       'hasContentWarning', 'hasFoil', 'hasNonFoil', 'isAlternative',\n",
       "       'isFullArt', 'isOnlineOnly', 'isOversized', 'isPromo', 'isReprint',\n",
       "       'isReserved', 'isStarter', 'isStorySpotlight', 'isTextless',\n",
       "       'isTimeshifted', 'keywords', 'layout', 'leadershipSkills', 'life',\n",
       "       'loyalty', 'manaCost', 'mcmId', 'mcmMetaId', 'mtgArenaId',\n",
       "       'mtgjsonV4Id', 'mtgoFoilId', 'mtgoId', 'multiverseId', 'name', 'number',\n",
       "       'originalReleaseDate', 'originalText', 'originalType', 'otherFaceIds',\n",
       "       'power', 'printings', 'promoTypes', 'purchaseUrls', 'rarity',\n",
       "       'scryfallId', 'scryfallIllustrationId', 'scryfallOracleId', 'setCode',\n",
       "       'side', 'subtypes', 'supertypes', 'tcgplayerProductId', 'text',\n",
       "       'toughness', 'type', 'types', 'uuid', 'variations', 'watermark',\n",
       "       'setName', 'brawl', 'commander', 'duel', 'future', 'historic', 'legacy',\n",
       "       'modern', 'oldschool', 'pauper', 'penny', 'pioneer', 'standard',\n",
       "       'vintage'],\n",
       "      dtype='object')"
      ]
     },
     "metadata": {},
     "execution_count": 55
    }
   ],
   "source": [
    "cards_df.columns"
   ]
  },
  {
   "cell_type": "code",
   "execution_count": 7,
   "metadata": {},
   "outputs": [
    {
     "output_type": "execute_result",
     "data": {
      "text/plain": [
       "1971"
      ]
     },
     "metadata": {},
     "execution_count": 7
    }
   ],
   "source": [
    "cards_df.type.nunique()"
   ]
  },
  {
   "cell_type": "code",
   "execution_count": 8,
   "metadata": {},
   "outputs": [
    {
     "output_type": "execute_result",
     "data": {
      "text/plain": [
       "531"
      ]
     },
     "metadata": {},
     "execution_count": 8
    }
   ],
   "source": [
    "cards_df.setCode.nunique()"
   ]
  },
  {
   "cell_type": "code",
   "execution_count": 9,
   "metadata": {},
   "outputs": [
    {
     "output_type": "execute_result",
     "data": {
      "text/plain": [
       "33.118384"
      ]
     },
     "metadata": {},
     "execution_count": 9
    }
   ],
   "source": [
    "cards_df.memory_usage().sum()/1000000"
   ]
  },
  {
   "cell_type": "code",
   "execution_count": 56,
   "metadata": {},
   "outputs": [
    {
     "output_type": "stream",
     "name": "stdout",
     "text": [
      "id: 1\n\nartist: Rebecca Guay\n\nasciiName: nan\n\navailability: mtgo,paper\n\nborderColor: black\n\ncardKingdomFoilId: 123335.0\n\ncardKingdomId: 122967.0\n\ncolorIdentity: G\n\ncolorIndicator: nan\n\ncolors: G\n\nconvertedManaCost: 4.0\n\nduelDeck: nan\n\nedhrecRank: 1111.0\n\nfaceConvertedManaCost: nan\n\nfaceName: nan\n\nflavorName: nan\n\nflavorText: nan\n\nframeEffects: nan\n\nframeVersion: 2003\n\nhand: nan\n\nhasAlternativeDeckLimit: 0\n\nhasContentWarning: 0\n\nhasFoil: 1\n\nhasNonFoil: 1\n\nisAlternative: 0\n\nisFullArt: 0\n\nisOnlineOnly: 0\n\nisOversized: 0\n\nisPromo: 0\n\nisReprint: 1\n\nisReserved: 0\n\nisStarter: 0\n\nisStorySpotlight: 0\n\nisTextless: 0\n\nisTimeshifted: 0\n\nkeywords: nan\n\nlayout: normal\n\nleadershipSkills: nan\n\nlife: nan\n\nloyalty: nan\n\nmanaCost: {2}{G}{G}\n\nmcmId: 16413.0\n\nmcmMetaId: 19.0\n\nmtgArenaId: nan\n\nmtgjsonV4Id: 1669af17-d287-5094-b005-4b143441442f\n\nmtgoFoilId: 27283.0\n\nmtgoId: 27282.0\n\nmultiverseId: 130483.0\n\nname: Abundance\n\nnumber: 249\n\noriginalReleaseDate: nan\n\noriginalText: If you would draw a card, you may instead choose land or nonland and reveal cards from the top of your library until you reveal a card of the chosen kind. Put that card into your hand and put all other cards revealed this way on the bottom of your library in any order.\n\noriginalType: Enchantment\n\notherFaceIds: nan\n\npower: nan\n\nprintings: 10E,C17,DDR,USG,ZNC\n\npromoTypes: nan\n\npurchaseUrls: {'cardKingdom': 'https://mtgjson.com/links/be6bfd8d4a84e5ec', 'cardKingdomFoil': 'https://mtgjson.com/links/4015cfd69a1e9820', 'cardmarket': 'https://mtgjson.com/links/39cb422913cf114f', 'tcgplayer': 'https://mtgjson.com/links/6e092a03d6bbffec'}\n\nrarity: rare\n\nscryfallId: 46184f97-d5c9-4a98-9fd9-e19057ce9b7e\n\nscryfallIllustrationId: 4be12219-df08-4a40-b32f-69737db62615\n\nscryfallOracleId: eccc9a54-2b56-4a02-9926-258d5b2e25fb\n\nsetCode: 10E\n\nside: nan\n\nsubtypes: nan\n\nsupertypes: nan\n\ntcgplayerProductId: 15023.0\n\ntext: If you would draw a card, you may instead choose land or nonland and reveal cards from the top of your library until you reveal a card of the chosen kind. Put that card into your hand and put all other cards revealed this way on the bottom of your library in any order.\n\ntoughness: nan\n\ntype: Enchantment\n\ntypes: Enchantment\n\nuuid: 38513fa0-ea83-5642-8ecd-4f0b3daa6768\n\nvariations: nan\n\nwatermark: nan\n\nsetName: Tenth Edition\n\nbrawl: Blank\n\ncommander: Legal\n\nduel: Legal\n\nfuture: Blank\n\nhistoric: Blank\n\nlegacy: Legal\n\nmodern: Legal\n\noldschool: Blank\n\npauper: Blank\n\npenny: Legal\n\npioneer: Blank\n\nstandard: Blank\n\nvintage: Legal\n\n"
     ]
    }
   ],
   "source": [
    "for col in cards_df.columns:\n",
    "    print(col + ': ' + str(cards_df[col][0]) + '\\n')"
   ]
  },
  {
   "source": [
    "# Download and Store USE Model from TFHub"
   ],
   "cell_type": "markdown",
   "metadata": {}
  },
  {
   "cell_type": "code",
   "execution_count": 5,
   "metadata": {},
   "outputs": [
    {
     "output_type": "stream",
     "name": "stdout",
     "text": [
      "module https://tfhub.dev/google/universal-sentence-encoder-large/5 loaded\n"
     ]
    }
   ],
   "source": [
    "module_url = 'https://tfhub.dev/google/universal-sentence-encoder-large/5'\n",
    "model = hub.load(module_url)\n",
    "print (\"module %s loaded\" % module_url)"
   ]
  },
  {
   "source": [
    "## Saved the downloaded USE-Large model"
   ],
   "cell_type": "markdown",
   "metadata": {}
  },
  {
   "cell_type": "code",
   "execution_count": 6,
   "metadata": {},
   "outputs": [
    {
     "output_type": "stream",
     "name": "stdout",
     "text": [
      "INFO:tensorflow:Assets written to: ../models/use-large\\assets\n",
      "INFO:tensorflow:Assets written to: ../models/use-large\\assets\n"
     ]
    }
   ],
   "source": [
    "tf.saved_model.save(model, \"../models/use-large\")"
   ]
  },
  {
   "source": [
    "## Load USE-Large from local disk"
   ],
   "cell_type": "markdown",
   "metadata": {}
  },
  {
   "cell_type": "code",
   "execution_count": 16,
   "metadata": {},
   "outputs": [],
   "source": [
    "use_embed = hub.KerasLayer('../models/use-large')"
   ]
  },
  {
   "cell_type": "code",
   "execution_count": null,
   "metadata": {},
   "outputs": [],
   "source": []
  },
  {
   "source": [
    "***\n",
    "# Get USE Embeddings"
   ],
   "cell_type": "markdown",
   "metadata": {}
  },
  {
   "cell_type": "code",
   "execution_count": 7,
   "metadata": {},
   "outputs": [],
   "source": [
    "arena_df = cards_df.query('mtgArenaId.notnull()')\\\n",
    "    .reset_index(drop=True)\\\n",
    "    .fillna(value={'text': 'Blank'})"
   ]
  },
  {
   "cell_type": "code",
   "execution_count": 8,
   "metadata": {},
   "outputs": [
    {
     "output_type": "execute_result",
     "data": {
      "text/plain": [
       "43480"
      ]
     },
     "metadata": {},
     "execution_count": 8
    }
   ],
   "source": [
    "arena_df[['uuid']].memory_usage().sum()"
   ]
  },
  {
   "cell_type": "code",
   "execution_count": 9,
   "metadata": {},
   "outputs": [
    {
     "output_type": "execute_result",
     "data": {
      "text/plain": [
       "'Flying, lifelink\\nPegasus creatures you control have lifelink.\\nConstellation — Whenever an enchantment enters the battlefield under your control, create a 2/2 white Pegasus creature token with flying.'"
      ]
     },
     "metadata": {},
     "execution_count": 9
    }
   ],
   "source": [
    "arena_txt = list(arena_df.text)\n",
    "arena_txt[0]"
   ]
  },
  {
   "cell_type": "code",
   "execution_count": 25,
   "metadata": {},
   "outputs": [
    {
     "output_type": "execute_result",
     "data": {
      "text/plain": [
       "\"Archon_of_Sun's_Grace-AJMP\""
      ]
     },
     "metadata": {},
     "execution_count": 25
    }
   ],
   "source": [
    "arena_name = [(name + '-' + set_name).replace(' ','_') for name, set_name in zip(arena_df.name, arena_df.setCode)]\n",
    "arena_name[0]"
   ]
  },
  {
   "cell_type": "code",
   "execution_count": 14,
   "metadata": {},
   "outputs": [
    {
     "output_type": "execute_result",
     "data": {
      "text/plain": [
       "'Blank'"
      ]
     },
     "metadata": {},
     "execution_count": 14
    }
   ],
   "source": [
    "arena_txt[23]"
   ]
  },
  {
   "cell_type": "code",
   "execution_count": 17,
   "metadata": {},
   "outputs": [
    {
     "output_type": "stream",
     "name": "stdout",
     "text": [
      "(5419, 512)\n"
     ]
    }
   ],
   "source": [
    "embeddings = use_embed(arena_txt)\n",
    "print(embeddings.shape)"
   ]
  },
  {
   "cell_type": "code",
   "execution_count": 21,
   "metadata": {},
   "outputs": [
    {
     "output_type": "execute_result",
     "data": {
      "text/plain": [
       "20480"
      ]
     },
     "metadata": {},
     "execution_count": 21
    }
   ],
   "source": [
    "embeddings.numpy().size * embeddings.numpy().itemsize"
   ]
  },
  {
   "cell_type": "code",
   "execution_count": 21,
   "metadata": {},
   "outputs": [
    {
     "output_type": "stream",
     "name": "stdout",
     "text": [
      "(5419, 5419)\n"
     ]
    }
   ],
   "source": [
    "corr = np.inner(embeddings, embeddings)\n",
    "print(corr.shape)"
   ]
  },
  {
   "cell_type": "code",
   "execution_count": 34,
   "metadata": {},
   "outputs": [],
   "source": [
    "import plotly.express as px"
   ]
  },
  {
   "cell_type": "code",
   "execution_count": 26,
   "metadata": {},
   "outputs": [
    {
     "output_type": "execute_result",
     "data": {
      "text/plain": [
       "                            Archon_of_Sun's_Grace-AJMP  Audacious_Thief-AJMP  \\\n",
       "Archon_of_Sun's_Grace-AJMP                    1.000000              0.388027   \n",
       "Audacious_Thief-AJMP                          0.388027              1.000000   \n",
       "Banishing_Light-AJMP                          0.540133              0.364457   \n",
       "Bond_of_Revival-AJMP                          0.626441              0.447599   \n",
       "Carnifex_Demon-AJMP                           0.514713              0.297466   \n",
       "\n",
       "                            Banishing_Light-AJMP  Bond_of_Revival-AJMP  \\\n",
       "Archon_of_Sun's_Grace-AJMP              0.540133              0.626441   \n",
       "Audacious_Thief-AJMP                    0.364457              0.447599   \n",
       "Banishing_Light-AJMP                    1.000000              0.583113   \n",
       "Bond_of_Revival-AJMP                    0.583113              1.000000   \n",
       "Carnifex_Demon-AJMP                     0.458850              0.434825   \n",
       "\n",
       "                            Carnifex_Demon-AJMP  Doomed_Necromancer-AJMP  \\\n",
       "Archon_of_Sun's_Grace-AJMP             0.514713                 0.497357   \n",
       "Audacious_Thief-AJMP                   0.297466                 0.377156   \n",
       "Banishing_Light-AJMP                   0.458850                 0.504666   \n",
       "Bond_of_Revival-AJMP                   0.434825                 0.724121   \n",
       "Carnifex_Demon-AJMP                    1.000000                 0.416845   \n",
       "\n",
       "                            Dryad_Greenseeker-AJMP  Fanatic_of_Mogis-AJMP  \\\n",
       "Archon_of_Sun's_Grace-AJMP                0.414993               0.587006   \n",
       "Audacious_Thief-AJMP                      0.339213               0.379261   \n",
       "Banishing_Light-AJMP                      0.293982               0.581625   \n",
       "Bond_of_Revival-AJMP                      0.501235               0.621211   \n",
       "Carnifex_Demon-AJMP                       0.235222               0.385975   \n",
       "\n",
       "                            Gadwick,_the_Wizened-AJMP  Goblin_Oriflamme-AJMP  \\\n",
       "Archon_of_Sun's_Grace-AJMP                   0.667409               0.597402   \n",
       "Audacious_Thief-AJMP                         0.452389               0.415212   \n",
       "Banishing_Light-AJMP                         0.707416               0.389173   \n",
       "Bond_of_Revival-AJMP                         0.629852               0.517640   \n",
       "Carnifex_Demon-AJMP                          0.495592               0.379345   \n",
       "\n",
       "                            ...  Veteran_Adventurer-ZNR  Vine_Gecko-ZNR  \\\n",
       "Archon_of_Sun's_Grace-AJMP  ...                0.372712        0.545192   \n",
       "Audacious_Thief-AJMP        ...                0.386959        0.421869   \n",
       "Banishing_Light-AJMP        ...                0.250604        0.421688   \n",
       "Bond_of_Revival-AJMP        ...                0.403822        0.546920   \n",
       "Carnifex_Demon-AJMP         ...                0.288310        0.477718   \n",
       "\n",
       "                            Wayward_Guide-Beast-ZNR  Windrider_Wizard-ZNR  \\\n",
       "Archon_of_Sun's_Grace-AJMP                 0.698247              0.554204   \n",
       "Audacious_Thief-AJMP                       0.409472              0.473218   \n",
       "Banishing_Light-AJMP                       0.535110              0.520927   \n",
       "Bond_of_Revival-AJMP                       0.636535              0.627735   \n",
       "Carnifex_Demon-AJMP                        0.459487              0.346581   \n",
       "\n",
       "                            Yasharn,_Implacable_Earth-ZNR  \\\n",
       "Archon_of_Sun's_Grace-AJMP                       0.654835   \n",
       "Audacious_Thief-AJMP                             0.464308   \n",
       "Banishing_Light-AJMP                             0.534659   \n",
       "Bond_of_Revival-AJMP                             0.653420   \n",
       "Carnifex_Demon-AJMP                              0.424836   \n",
       "\n",
       "                            Zagras,_Thief_of_Heartbeats-ZNR  \\\n",
       "Archon_of_Sun's_Grace-AJMP                         0.693039   \n",
       "Audacious_Thief-AJMP                               0.392080   \n",
       "Banishing_Light-AJMP                               0.525379   \n",
       "Bond_of_Revival-AJMP                               0.622629   \n",
       "Carnifex_Demon-AJMP                                0.498399   \n",
       "\n",
       "                            Zareth_San,_the_Trickster-ZNR  \\\n",
       "Archon_of_Sun's_Grace-AJMP                       0.552946   \n",
       "Audacious_Thief-AJMP                             0.448119   \n",
       "Banishing_Light-AJMP                             0.570414   \n",
       "Bond_of_Revival-AJMP                             0.633170   \n",
       "Carnifex_Demon-AJMP                              0.440100   \n",
       "\n",
       "                            Zof_Consumption_//_Zof_Bloodbog-ZNR  \\\n",
       "Archon_of_Sun's_Grace-AJMP                             0.199106   \n",
       "Audacious_Thief-AJMP                                   0.156082   \n",
       "Banishing_Light-AJMP                                   0.242288   \n",
       "Bond_of_Revival-AJMP                                   0.261863   \n",
       "Carnifex_Demon-AJMP                                    0.355213   \n",
       "\n",
       "                            Zof_Consumption_//_Zof_Bloodbog-ZNR  \\\n",
       "Archon_of_Sun's_Grace-AJMP                             0.365390   \n",
       "Audacious_Thief-AJMP                                   0.608094   \n",
       "Banishing_Light-AJMP                                   0.342716   \n",
       "Bond_of_Revival-AJMP                                   0.468044   \n",
       "Carnifex_Demon-AJMP                                    0.344039   \n",
       "\n",
       "                            Zulaport_Duelist-ZNR  \n",
       "Archon_of_Sun's_Grace-AJMP              0.576491  \n",
       "Audacious_Thief-AJMP                    0.399204  \n",
       "Banishing_Light-AJMP                    0.529742  \n",
       "Bond_of_Revival-AJMP                    0.594412  \n",
       "Carnifex_Demon-AJMP                     0.480329  \n",
       "\n",
       "[5 rows x 5419 columns]"
      ],
      "text/html": "<div>\n<style scoped>\n    .dataframe tbody tr th:only-of-type {\n        vertical-align: middle;\n    }\n\n    .dataframe tbody tr th {\n        vertical-align: top;\n    }\n\n    .dataframe thead th {\n        text-align: right;\n    }\n</style>\n<table border=\"1\" class=\"dataframe\">\n  <thead>\n    <tr style=\"text-align: right;\">\n      <th></th>\n      <th>Archon_of_Sun's_Grace-AJMP</th>\n      <th>Audacious_Thief-AJMP</th>\n      <th>Banishing_Light-AJMP</th>\n      <th>Bond_of_Revival-AJMP</th>\n      <th>Carnifex_Demon-AJMP</th>\n      <th>Doomed_Necromancer-AJMP</th>\n      <th>Dryad_Greenseeker-AJMP</th>\n      <th>Fanatic_of_Mogis-AJMP</th>\n      <th>Gadwick,_the_Wizened-AJMP</th>\n      <th>Goblin_Oriflamme-AJMP</th>\n      <th>...</th>\n      <th>Veteran_Adventurer-ZNR</th>\n      <th>Vine_Gecko-ZNR</th>\n      <th>Wayward_Guide-Beast-ZNR</th>\n      <th>Windrider_Wizard-ZNR</th>\n      <th>Yasharn,_Implacable_Earth-ZNR</th>\n      <th>Zagras,_Thief_of_Heartbeats-ZNR</th>\n      <th>Zareth_San,_the_Trickster-ZNR</th>\n      <th>Zof_Consumption_//_Zof_Bloodbog-ZNR</th>\n      <th>Zof_Consumption_//_Zof_Bloodbog-ZNR</th>\n      <th>Zulaport_Duelist-ZNR</th>\n    </tr>\n  </thead>\n  <tbody>\n    <tr>\n      <th>Archon_of_Sun's_Grace-AJMP</th>\n      <td>1.000000</td>\n      <td>0.388027</td>\n      <td>0.540133</td>\n      <td>0.626441</td>\n      <td>0.514713</td>\n      <td>0.497357</td>\n      <td>0.414993</td>\n      <td>0.587006</td>\n      <td>0.667409</td>\n      <td>0.597402</td>\n      <td>...</td>\n      <td>0.372712</td>\n      <td>0.545192</td>\n      <td>0.698247</td>\n      <td>0.554204</td>\n      <td>0.654835</td>\n      <td>0.693039</td>\n      <td>0.552946</td>\n      <td>0.199106</td>\n      <td>0.365390</td>\n      <td>0.576491</td>\n    </tr>\n    <tr>\n      <th>Audacious_Thief-AJMP</th>\n      <td>0.388027</td>\n      <td>1.000000</td>\n      <td>0.364457</td>\n      <td>0.447599</td>\n      <td>0.297466</td>\n      <td>0.377156</td>\n      <td>0.339213</td>\n      <td>0.379261</td>\n      <td>0.452389</td>\n      <td>0.415212</td>\n      <td>...</td>\n      <td>0.386959</td>\n      <td>0.421869</td>\n      <td>0.409472</td>\n      <td>0.473218</td>\n      <td>0.464308</td>\n      <td>0.392080</td>\n      <td>0.448119</td>\n      <td>0.156082</td>\n      <td>0.608094</td>\n      <td>0.399204</td>\n    </tr>\n    <tr>\n      <th>Banishing_Light-AJMP</th>\n      <td>0.540133</td>\n      <td>0.364457</td>\n      <td>1.000000</td>\n      <td>0.583113</td>\n      <td>0.458850</td>\n      <td>0.504666</td>\n      <td>0.293982</td>\n      <td>0.581625</td>\n      <td>0.707416</td>\n      <td>0.389173</td>\n      <td>...</td>\n      <td>0.250604</td>\n      <td>0.421688</td>\n      <td>0.535110</td>\n      <td>0.520927</td>\n      <td>0.534659</td>\n      <td>0.525379</td>\n      <td>0.570414</td>\n      <td>0.242288</td>\n      <td>0.342716</td>\n      <td>0.529742</td>\n    </tr>\n    <tr>\n      <th>Bond_of_Revival-AJMP</th>\n      <td>0.626441</td>\n      <td>0.447599</td>\n      <td>0.583113</td>\n      <td>1.000000</td>\n      <td>0.434825</td>\n      <td>0.724121</td>\n      <td>0.501235</td>\n      <td>0.621211</td>\n      <td>0.629852</td>\n      <td>0.517640</td>\n      <td>...</td>\n      <td>0.403822</td>\n      <td>0.546920</td>\n      <td>0.636535</td>\n      <td>0.627735</td>\n      <td>0.653420</td>\n      <td>0.622629</td>\n      <td>0.633170</td>\n      <td>0.261863</td>\n      <td>0.468044</td>\n      <td>0.594412</td>\n    </tr>\n    <tr>\n      <th>Carnifex_Demon-AJMP</th>\n      <td>0.514713</td>\n      <td>0.297466</td>\n      <td>0.458850</td>\n      <td>0.434825</td>\n      <td>1.000000</td>\n      <td>0.416845</td>\n      <td>0.235222</td>\n      <td>0.385975</td>\n      <td>0.495592</td>\n      <td>0.379345</td>\n      <td>...</td>\n      <td>0.288310</td>\n      <td>0.477718</td>\n      <td>0.459487</td>\n      <td>0.346581</td>\n      <td>0.424836</td>\n      <td>0.498399</td>\n      <td>0.440100</td>\n      <td>0.355213</td>\n      <td>0.344039</td>\n      <td>0.480329</td>\n    </tr>\n  </tbody>\n</table>\n<p>5 rows × 5419 columns</p>\n</div>"
     },
     "metadata": {},
     "execution_count": 26
    }
   ],
   "source": [
    "card_df = pd.DataFrame(corr, columns=arena_name, index=arena_name)\n",
    "card_df.head()"
   ]
  },
  {
   "cell_type": "code",
   "execution_count": 29,
   "metadata": {},
   "outputs": [
    {
     "output_type": "execute_result",
     "data": {
      "text/plain": [
       "                                             Archon_of_Sun's_Grace-AJMP\n",
       "Archon_of_Sun's_Grace-AJMP                                     1.000000\n",
       "Archon_of_Sun's_Grace-THB                                      1.000000\n",
       "Alela,_Artful_Provocateur-ELD                                  0.868950\n",
       "Ethereal_Absolution-RNA                                        0.832532\n",
       "Depose_//_Deploy-RNA                                           0.817002\n",
       "...                                                                 ...\n",
       "Clearwater_Pathway_//_Murkwater_Pathway-ZNR                   -0.019223\n",
       "Island-ANA                                                    -0.019223\n",
       "Wind_Strider-XLN                                              -0.023939\n",
       "Living_Tempest-ZNR                                            -0.023939\n",
       "Vexing_Gull-THB                                               -0.023939\n",
       "\n",
       "[5419 rows x 1 columns]"
      ],
      "text/html": "<div>\n<style scoped>\n    .dataframe tbody tr th:only-of-type {\n        vertical-align: middle;\n    }\n\n    .dataframe tbody tr th {\n        vertical-align: top;\n    }\n\n    .dataframe thead th {\n        text-align: right;\n    }\n</style>\n<table border=\"1\" class=\"dataframe\">\n  <thead>\n    <tr style=\"text-align: right;\">\n      <th></th>\n      <th>Archon_of_Sun's_Grace-AJMP</th>\n    </tr>\n  </thead>\n  <tbody>\n    <tr>\n      <th>Archon_of_Sun's_Grace-AJMP</th>\n      <td>1.000000</td>\n    </tr>\n    <tr>\n      <th>Archon_of_Sun's_Grace-THB</th>\n      <td>1.000000</td>\n    </tr>\n    <tr>\n      <th>Alela,_Artful_Provocateur-ELD</th>\n      <td>0.868950</td>\n    </tr>\n    <tr>\n      <th>Ethereal_Absolution-RNA</th>\n      <td>0.832532</td>\n    </tr>\n    <tr>\n      <th>Depose_//_Deploy-RNA</th>\n      <td>0.817002</td>\n    </tr>\n    <tr>\n      <th>...</th>\n      <td>...</td>\n    </tr>\n    <tr>\n      <th>Clearwater_Pathway_//_Murkwater_Pathway-ZNR</th>\n      <td>-0.019223</td>\n    </tr>\n    <tr>\n      <th>Island-ANA</th>\n      <td>-0.019223</td>\n    </tr>\n    <tr>\n      <th>Wind_Strider-XLN</th>\n      <td>-0.023939</td>\n    </tr>\n    <tr>\n      <th>Living_Tempest-ZNR</th>\n      <td>-0.023939</td>\n    </tr>\n    <tr>\n      <th>Vexing_Gull-THB</th>\n      <td>-0.023939</td>\n    </tr>\n  </tbody>\n</table>\n<p>5419 rows × 1 columns</p>\n</div>"
     },
     "metadata": {},
     "execution_count": 29
    }
   ],
   "source": [
    "card_df[[\"Archon_of_Sun's_Grace-AJMP\"]].sort_values(by=\"Archon_of_Sun's_Grace-AJMP\", ascending=False)"
   ]
  },
  {
   "cell_type": "code",
   "execution_count": null,
   "metadata": {},
   "outputs": [],
   "source": []
  },
  {
   "cell_type": "code",
   "execution_count": 107,
   "metadata": {},
   "outputs": [
    {
     "output_type": "execute_result",
     "data": {
      "text/plain": [
       "'Golos,_Tireless_Pilgrim'"
      ]
     },
     "metadata": {},
     "execution_count": 107
    }
   ],
   "source": [
    "test_card = 'Golos,_Tireless_Pilgrim'\n",
    "test_card"
   ]
  },
  {
   "cell_type": "code",
   "execution_count": 106,
   "metadata": {},
   "outputs": [
    {
     "output_type": "execute_result",
     "data": {
      "text/plain": [
       "['Golos,_Tireless_Pilgrim']"
      ]
     },
     "metadata": {},
     "execution_count": 106
    }
   ],
   "source": [
    "[card for card in card_df.columns if card.startswith('Golos')]"
   ]
  },
  {
   "cell_type": "code",
   "execution_count": 108,
   "metadata": {},
   "outputs": [
    {
     "output_type": "execute_result",
     "data": {
      "text/plain": [
       "      Golos,_Tireless_Pilgrim\n",
       "3059                 1.000000\n",
       "1687                 0.805584\n",
       "1583                 0.801413\n",
       "2606                 0.798853\n",
       "835                  0.796900\n",
       "...                       ...\n",
       "5170                -0.020036\n",
       "3215                -0.020036\n",
       "5212                -0.041830\n",
       "4441                -0.041830\n",
       "5055                -0.041830\n",
       "\n",
       "[5419 rows x 1 columns]"
      ],
      "text/html": "<div>\n<style scoped>\n    .dataframe tbody tr th:only-of-type {\n        vertical-align: middle;\n    }\n\n    .dataframe tbody tr th {\n        vertical-align: top;\n    }\n\n    .dataframe thead th {\n        text-align: right;\n    }\n</style>\n<table border=\"1\" class=\"dataframe\">\n  <thead>\n    <tr style=\"text-align: right;\">\n      <th></th>\n      <th>Golos,_Tireless_Pilgrim</th>\n    </tr>\n  </thead>\n  <tbody>\n    <tr>\n      <th>3059</th>\n      <td>1.000000</td>\n    </tr>\n    <tr>\n      <th>1687</th>\n      <td>0.805584</td>\n    </tr>\n    <tr>\n      <th>1583</th>\n      <td>0.801413</td>\n    </tr>\n    <tr>\n      <th>2606</th>\n      <td>0.798853</td>\n    </tr>\n    <tr>\n      <th>835</th>\n      <td>0.796900</td>\n    </tr>\n    <tr>\n      <th>...</th>\n      <td>...</td>\n    </tr>\n    <tr>\n      <th>5170</th>\n      <td>-0.020036</td>\n    </tr>\n    <tr>\n      <th>3215</th>\n      <td>-0.020036</td>\n    </tr>\n    <tr>\n      <th>5212</th>\n      <td>-0.041830</td>\n    </tr>\n    <tr>\n      <th>4441</th>\n      <td>-0.041830</td>\n    </tr>\n    <tr>\n      <th>5055</th>\n      <td>-0.041830</td>\n    </tr>\n  </tbody>\n</table>\n<p>5419 rows × 1 columns</p>\n</div>"
     },
     "metadata": {},
     "execution_count": 108
    }
   ],
   "source": [
    "card_df[[test_card]].sort_values(by=test_card, ascending=False)"
   ]
  },
  {
   "cell_type": "code",
   "execution_count": 109,
   "metadata": {},
   "outputs": [
    {
     "output_type": "execute_result",
     "data": {
      "text/plain": [
       "array(['When Golos, Tireless Pilgrim enters the battlefield, you may search your library for a land card, put that card onto the battlefield tapped, then shuffle your library.\\n{2}{W}{U}{B}{R}{G}: Exile the top three cards of your library. You may play them this turn without paying their mana costs.'],\n",
       "      dtype=object)"
      ]
     },
     "metadata": {},
     "execution_count": 109
    }
   ],
   "source": [
    "test_card = test_card.replace('_',' ')\n",
    "arena_df.query('name == @test_card').text.values"
   ]
  },
  {
   "cell_type": "code",
   "execution_count": 112,
   "metadata": {},
   "outputs": [
    {
     "output_type": "execute_result",
     "data": {
      "text/plain": [
       "'Emergent Ultimatum'"
      ]
     },
     "metadata": {},
     "execution_count": 112
    }
   ],
   "source": [
    "test_name = arena_name[1583].replace('_',' ')\n",
    "test_name"
   ]
  },
  {
   "cell_type": "code",
   "execution_count": 113,
   "metadata": {},
   "outputs": [
    {
     "output_type": "execute_result",
     "data": {
      "text/plain": [
       "array(['Search your library for up to three monocolored cards with different names and exile them. An opponent chooses one of those cards. Shuffle that card into your library. You may cast the other cards without paying their mana costs. Exile Emergent Ultimatum.'],\n",
       "      dtype=object)"
      ]
     },
     "metadata": {},
     "execution_count": 113
    }
   ],
   "source": [
    "arena_df.query('name == @test_name').text.values"
   ]
  },
  {
   "cell_type": "code",
   "execution_count": null,
   "metadata": {},
   "outputs": [],
   "source": []
  },
  {
   "cell_type": "code",
   "execution_count": 52,
   "metadata": {},
   "outputs": [
    {
     "output_type": "display_data",
     "data": {
      "application/vnd.plotly.v1+json": {
       "config": {
        "plotlyServerURL": "https://plot.ly"
       },
       "data": [
        {
         "coloraxis": "coloraxis",
         "hovertemplate": "id: %{x}<br>y: %{y}<br>color: %{z}<extra></extra>",
         "name": "0",
         "type": "heatmap",
         "x": [
          1,
          2,
          3,
          4,
          5,
          6,
          7,
          8,
          9,
          10
         ],
         "xaxis": "x",
         "y": [
          0,
          1,
          2,
          3,
          4,
          5,
          6,
          7,
          8,
          9
         ],
         "yaxis": "y",
         "z": [
          [
           1.0000001192092896,
           0.43268269300460815,
           0.1982838213443756,
           0.4084489345550537,
           0.44457873702049255,
           0.6839911937713623,
           0.04675719514489174,
           0.04675719514489174,
           0.2960525453090668,
           0.35232847929000854
          ],
          [
           0.43268269300460815,
           0.9999998807907104,
           0.1713927835226059,
           0.2999640107154846,
           0.33728212118148804,
           0.3846588730812073,
           0.0043781716376543045,
           0.0043781716376543045,
           0.2117869257926941,
           0.20900708436965942
          ],
          [
           0.1982838213443756,
           0.1713927835226059,
           1.000000238418579,
           0.33882585167884827,
           0.3357154428958893,
           0.1662398874759674,
           -0.03446309268474579,
           -0.03446309268474579,
           0.14857716858386993,
           0.3640593886375427
          ],
          [
           0.4084489345550537,
           0.2999640107154846,
           0.33882585167884827,
           1.0000003576278687,
           0.8902944922447205,
           0.36681851744651794,
           0.017472369596362114,
           0.017472369596362114,
           0.3879379630088806,
           0.5560060143470764
          ],
          [
           0.44457873702049255,
           0.33728212118148804,
           0.3357154428958893,
           0.8902944922447205,
           0.9999993443489075,
           0.3403155207633972,
           -0.006887190043926239,
           -0.006887190043926239,
           0.39015257358551025,
           0.5617526173591614
          ],
          [
           0.6839911937713623,
           0.3846588730812073,
           0.1662398874759674,
           0.36681851744651794,
           0.3403155207633972,
           1.0000005960464478,
           0.016503848135471344,
           0.016503848135471344,
           0.4686405062675476,
           0.27479633688926697
          ],
          [
           0.04675719514489174,
           0.0043781716376543045,
           -0.03446309268474579,
           0.017472369596362114,
           -0.006887190043926239,
           0.016503848135471344,
           0.9999998807907104,
           0.9999998807907104,
           -0.025838594883680344,
           0.01003270037472248
          ],
          [
           0.04675719514489174,
           0.0043781716376543045,
           -0.03446309268474579,
           0.017472369596362114,
           -0.006887190043926239,
           0.016503848135471344,
           0.9999998807907104,
           0.9999998807907104,
           -0.025838594883680344,
           0.01003270037472248
          ],
          [
           0.2960525453090668,
           0.2117869257926941,
           0.14857716858386993,
           0.3879379630088806,
           0.39015257358551025,
           0.4686405062675476,
           -0.025838594883680344,
           -0.025838594883680344,
           1,
           0.19687208533287048
          ],
          [
           0.35232847929000854,
           0.20900708436965942,
           0.3640593886375427,
           0.5560060143470764,
           0.5617526173591614,
           0.27479633688926697,
           0.01003270037472248,
           0.01003270037472248,
           0.19687208533287048,
           0.9999991655349731
          ]
         ]
        }
       ],
       "layout": {
        "coloraxis": {
         "colorscale": [
          [
           0,
           "#0d0887"
          ],
          [
           0.1111111111111111,
           "#46039f"
          ],
          [
           0.2222222222222222,
           "#7201a8"
          ],
          [
           0.3333333333333333,
           "#9c179e"
          ],
          [
           0.4444444444444444,
           "#bd3786"
          ],
          [
           0.5555555555555556,
           "#d8576b"
          ],
          [
           0.6666666666666666,
           "#ed7953"
          ],
          [
           0.7777777777777778,
           "#fb9f3a"
          ],
          [
           0.8888888888888888,
           "#fdca26"
          ],
          [
           1,
           "#f0f921"
          ]
         ]
        },
        "margin": {
         "t": 60
        },
        "template": {
         "data": {
          "bar": [
           {
            "error_x": {
             "color": "#2a3f5f"
            },
            "error_y": {
             "color": "#2a3f5f"
            },
            "marker": {
             "line": {
              "color": "#E5ECF6",
              "width": 0.5
             }
            },
            "type": "bar"
           }
          ],
          "barpolar": [
           {
            "marker": {
             "line": {
              "color": "#E5ECF6",
              "width": 0.5
             }
            },
            "type": "barpolar"
           }
          ],
          "carpet": [
           {
            "aaxis": {
             "endlinecolor": "#2a3f5f",
             "gridcolor": "white",
             "linecolor": "white",
             "minorgridcolor": "white",
             "startlinecolor": "#2a3f5f"
            },
            "baxis": {
             "endlinecolor": "#2a3f5f",
             "gridcolor": "white",
             "linecolor": "white",
             "minorgridcolor": "white",
             "startlinecolor": "#2a3f5f"
            },
            "type": "carpet"
           }
          ],
          "choropleth": [
           {
            "colorbar": {
             "outlinewidth": 0,
             "ticks": ""
            },
            "type": "choropleth"
           }
          ],
          "contour": [
           {
            "colorbar": {
             "outlinewidth": 0,
             "ticks": ""
            },
            "colorscale": [
             [
              0,
              "#0d0887"
             ],
             [
              0.1111111111111111,
              "#46039f"
             ],
             [
              0.2222222222222222,
              "#7201a8"
             ],
             [
              0.3333333333333333,
              "#9c179e"
             ],
             [
              0.4444444444444444,
              "#bd3786"
             ],
             [
              0.5555555555555556,
              "#d8576b"
             ],
             [
              0.6666666666666666,
              "#ed7953"
             ],
             [
              0.7777777777777778,
              "#fb9f3a"
             ],
             [
              0.8888888888888888,
              "#fdca26"
             ],
             [
              1,
              "#f0f921"
             ]
            ],
            "type": "contour"
           }
          ],
          "contourcarpet": [
           {
            "colorbar": {
             "outlinewidth": 0,
             "ticks": ""
            },
            "type": "contourcarpet"
           }
          ],
          "heatmap": [
           {
            "colorbar": {
             "outlinewidth": 0,
             "ticks": ""
            },
            "colorscale": [
             [
              0,
              "#0d0887"
             ],
             [
              0.1111111111111111,
              "#46039f"
             ],
             [
              0.2222222222222222,
              "#7201a8"
             ],
             [
              0.3333333333333333,
              "#9c179e"
             ],
             [
              0.4444444444444444,
              "#bd3786"
             ],
             [
              0.5555555555555556,
              "#d8576b"
             ],
             [
              0.6666666666666666,
              "#ed7953"
             ],
             [
              0.7777777777777778,
              "#fb9f3a"
             ],
             [
              0.8888888888888888,
              "#fdca26"
             ],
             [
              1,
              "#f0f921"
             ]
            ],
            "type": "heatmap"
           }
          ],
          "heatmapgl": [
           {
            "colorbar": {
             "outlinewidth": 0,
             "ticks": ""
            },
            "colorscale": [
             [
              0,
              "#0d0887"
             ],
             [
              0.1111111111111111,
              "#46039f"
             ],
             [
              0.2222222222222222,
              "#7201a8"
             ],
             [
              0.3333333333333333,
              "#9c179e"
             ],
             [
              0.4444444444444444,
              "#bd3786"
             ],
             [
              0.5555555555555556,
              "#d8576b"
             ],
             [
              0.6666666666666666,
              "#ed7953"
             ],
             [
              0.7777777777777778,
              "#fb9f3a"
             ],
             [
              0.8888888888888888,
              "#fdca26"
             ],
             [
              1,
              "#f0f921"
             ]
            ],
            "type": "heatmapgl"
           }
          ],
          "histogram": [
           {
            "marker": {
             "colorbar": {
              "outlinewidth": 0,
              "ticks": ""
             }
            },
            "type": "histogram"
           }
          ],
          "histogram2d": [
           {
            "colorbar": {
             "outlinewidth": 0,
             "ticks": ""
            },
            "colorscale": [
             [
              0,
              "#0d0887"
             ],
             [
              0.1111111111111111,
              "#46039f"
             ],
             [
              0.2222222222222222,
              "#7201a8"
             ],
             [
              0.3333333333333333,
              "#9c179e"
             ],
             [
              0.4444444444444444,
              "#bd3786"
             ],
             [
              0.5555555555555556,
              "#d8576b"
             ],
             [
              0.6666666666666666,
              "#ed7953"
             ],
             [
              0.7777777777777778,
              "#fb9f3a"
             ],
             [
              0.8888888888888888,
              "#fdca26"
             ],
             [
              1,
              "#f0f921"
             ]
            ],
            "type": "histogram2d"
           }
          ],
          "histogram2dcontour": [
           {
            "colorbar": {
             "outlinewidth": 0,
             "ticks": ""
            },
            "colorscale": [
             [
              0,
              "#0d0887"
             ],
             [
              0.1111111111111111,
              "#46039f"
             ],
             [
              0.2222222222222222,
              "#7201a8"
             ],
             [
              0.3333333333333333,
              "#9c179e"
             ],
             [
              0.4444444444444444,
              "#bd3786"
             ],
             [
              0.5555555555555556,
              "#d8576b"
             ],
             [
              0.6666666666666666,
              "#ed7953"
             ],
             [
              0.7777777777777778,
              "#fb9f3a"
             ],
             [
              0.8888888888888888,
              "#fdca26"
             ],
             [
              1,
              "#f0f921"
             ]
            ],
            "type": "histogram2dcontour"
           }
          ],
          "mesh3d": [
           {
            "colorbar": {
             "outlinewidth": 0,
             "ticks": ""
            },
            "type": "mesh3d"
           }
          ],
          "parcoords": [
           {
            "line": {
             "colorbar": {
              "outlinewidth": 0,
              "ticks": ""
             }
            },
            "type": "parcoords"
           }
          ],
          "pie": [
           {
            "automargin": true,
            "type": "pie"
           }
          ],
          "scatter": [
           {
            "marker": {
             "colorbar": {
              "outlinewidth": 0,
              "ticks": ""
             }
            },
            "type": "scatter"
           }
          ],
          "scatter3d": [
           {
            "line": {
             "colorbar": {
              "outlinewidth": 0,
              "ticks": ""
             }
            },
            "marker": {
             "colorbar": {
              "outlinewidth": 0,
              "ticks": ""
             }
            },
            "type": "scatter3d"
           }
          ],
          "scattercarpet": [
           {
            "marker": {
             "colorbar": {
              "outlinewidth": 0,
              "ticks": ""
             }
            },
            "type": "scattercarpet"
           }
          ],
          "scattergeo": [
           {
            "marker": {
             "colorbar": {
              "outlinewidth": 0,
              "ticks": ""
             }
            },
            "type": "scattergeo"
           }
          ],
          "scattergl": [
           {
            "marker": {
             "colorbar": {
              "outlinewidth": 0,
              "ticks": ""
             }
            },
            "type": "scattergl"
           }
          ],
          "scattermapbox": [
           {
            "marker": {
             "colorbar": {
              "outlinewidth": 0,
              "ticks": ""
             }
            },
            "type": "scattermapbox"
           }
          ],
          "scatterpolar": [
           {
            "marker": {
             "colorbar": {
              "outlinewidth": 0,
              "ticks": ""
             }
            },
            "type": "scatterpolar"
           }
          ],
          "scatterpolargl": [
           {
            "marker": {
             "colorbar": {
              "outlinewidth": 0,
              "ticks": ""
             }
            },
            "type": "scatterpolargl"
           }
          ],
          "scatterternary": [
           {
            "marker": {
             "colorbar": {
              "outlinewidth": 0,
              "ticks": ""
             }
            },
            "type": "scatterternary"
           }
          ],
          "surface": [
           {
            "colorbar": {
             "outlinewidth": 0,
             "ticks": ""
            },
            "colorscale": [
             [
              0,
              "#0d0887"
             ],
             [
              0.1111111111111111,
              "#46039f"
             ],
             [
              0.2222222222222222,
              "#7201a8"
             ],
             [
              0.3333333333333333,
              "#9c179e"
             ],
             [
              0.4444444444444444,
              "#bd3786"
             ],
             [
              0.5555555555555556,
              "#d8576b"
             ],
             [
              0.6666666666666666,
              "#ed7953"
             ],
             [
              0.7777777777777778,
              "#fb9f3a"
             ],
             [
              0.8888888888888888,
              "#fdca26"
             ],
             [
              1,
              "#f0f921"
             ]
            ],
            "type": "surface"
           }
          ],
          "table": [
           {
            "cells": {
             "fill": {
              "color": "#EBF0F8"
             },
             "line": {
              "color": "white"
             }
            },
            "header": {
             "fill": {
              "color": "#C8D4E3"
             },
             "line": {
              "color": "white"
             }
            },
            "type": "table"
           }
          ]
         },
         "layout": {
          "annotationdefaults": {
           "arrowcolor": "#2a3f5f",
           "arrowhead": 0,
           "arrowwidth": 1
          },
          "autotypenumbers": "strict",
          "coloraxis": {
           "colorbar": {
            "outlinewidth": 0,
            "ticks": ""
           }
          },
          "colorscale": {
           "diverging": [
            [
             0,
             "#8e0152"
            ],
            [
             0.1,
             "#c51b7d"
            ],
            [
             0.2,
             "#de77ae"
            ],
            [
             0.3,
             "#f1b6da"
            ],
            [
             0.4,
             "#fde0ef"
            ],
            [
             0.5,
             "#f7f7f7"
            ],
            [
             0.6,
             "#e6f5d0"
            ],
            [
             0.7,
             "#b8e186"
            ],
            [
             0.8,
             "#7fbc41"
            ],
            [
             0.9,
             "#4d9221"
            ],
            [
             1,
             "#276419"
            ]
           ],
           "sequential": [
            [
             0,
             "#0d0887"
            ],
            [
             0.1111111111111111,
             "#46039f"
            ],
            [
             0.2222222222222222,
             "#7201a8"
            ],
            [
             0.3333333333333333,
             "#9c179e"
            ],
            [
             0.4444444444444444,
             "#bd3786"
            ],
            [
             0.5555555555555556,
             "#d8576b"
            ],
            [
             0.6666666666666666,
             "#ed7953"
            ],
            [
             0.7777777777777778,
             "#fb9f3a"
            ],
            [
             0.8888888888888888,
             "#fdca26"
            ],
            [
             1,
             "#f0f921"
            ]
           ],
           "sequentialminus": [
            [
             0,
             "#0d0887"
            ],
            [
             0.1111111111111111,
             "#46039f"
            ],
            [
             0.2222222222222222,
             "#7201a8"
            ],
            [
             0.3333333333333333,
             "#9c179e"
            ],
            [
             0.4444444444444444,
             "#bd3786"
            ],
            [
             0.5555555555555556,
             "#d8576b"
            ],
            [
             0.6666666666666666,
             "#ed7953"
            ],
            [
             0.7777777777777778,
             "#fb9f3a"
            ],
            [
             0.8888888888888888,
             "#fdca26"
            ],
            [
             1,
             "#f0f921"
            ]
           ]
          },
          "colorway": [
           "#636efa",
           "#EF553B",
           "#00cc96",
           "#ab63fa",
           "#FFA15A",
           "#19d3f3",
           "#FF6692",
           "#B6E880",
           "#FF97FF",
           "#FECB52"
          ],
          "font": {
           "color": "#2a3f5f"
          },
          "geo": {
           "bgcolor": "white",
           "lakecolor": "white",
           "landcolor": "#E5ECF6",
           "showlakes": true,
           "showland": true,
           "subunitcolor": "white"
          },
          "hoverlabel": {
           "align": "left"
          },
          "hovermode": "closest",
          "mapbox": {
           "style": "light"
          },
          "paper_bgcolor": "white",
          "plot_bgcolor": "#E5ECF6",
          "polar": {
           "angularaxis": {
            "gridcolor": "white",
            "linecolor": "white",
            "ticks": ""
           },
           "bgcolor": "#E5ECF6",
           "radialaxis": {
            "gridcolor": "white",
            "linecolor": "white",
            "ticks": ""
           }
          },
          "scene": {
           "xaxis": {
            "backgroundcolor": "#E5ECF6",
            "gridcolor": "white",
            "gridwidth": 2,
            "linecolor": "white",
            "showbackground": true,
            "ticks": "",
            "zerolinecolor": "white"
           },
           "yaxis": {
            "backgroundcolor": "#E5ECF6",
            "gridcolor": "white",
            "gridwidth": 2,
            "linecolor": "white",
            "showbackground": true,
            "ticks": "",
            "zerolinecolor": "white"
           },
           "zaxis": {
            "backgroundcolor": "#E5ECF6",
            "gridcolor": "white",
            "gridwidth": 2,
            "linecolor": "white",
            "showbackground": true,
            "ticks": "",
            "zerolinecolor": "white"
           }
          },
          "shapedefaults": {
           "line": {
            "color": "#2a3f5f"
           }
          },
          "ternary": {
           "aaxis": {
            "gridcolor": "white",
            "linecolor": "white",
            "ticks": ""
           },
           "baxis": {
            "gridcolor": "white",
            "linecolor": "white",
            "ticks": ""
           },
           "bgcolor": "#E5ECF6",
           "caxis": {
            "gridcolor": "white",
            "linecolor": "white",
            "ticks": ""
           }
          },
          "title": {
           "x": 0.05
          },
          "xaxis": {
           "automargin": true,
           "gridcolor": "white",
           "linecolor": "white",
           "ticks": "",
           "title": {
            "standoff": 15
           },
           "zerolinecolor": "white",
           "zerolinewidth": 2
          },
          "yaxis": {
           "automargin": true,
           "gridcolor": "white",
           "linecolor": "white",
           "ticks": "",
           "title": {
            "standoff": 15
           },
           "zerolinecolor": "white",
           "zerolinewidth": 2
          }
         }
        },
        "xaxis": {
         "anchor": "y",
         "constrain": "domain",
         "domain": [
          0,
          1
         ],
         "scaleanchor": "y",
         "title": {
          "text": "id"
         }
        },
        "yaxis": {
         "anchor": "x",
         "autorange": "reversed",
         "constrain": "domain",
         "domain": [
          0,
          1
         ]
        }
       }
      }
     },
     "metadata": {}
    }
   ],
   "source": [
    "fig = px.imshow(card_df)\n",
    "fig.show()"
   ]
  },
  {
   "cell_type": "code",
   "execution_count": null,
   "metadata": {},
   "outputs": [],
   "source": []
  }
 ]
}