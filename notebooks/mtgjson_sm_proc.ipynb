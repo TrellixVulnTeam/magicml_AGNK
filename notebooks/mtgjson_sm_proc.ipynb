{
 "metadata": {
  "language_info": {
   "codemirror_mode": {
    "name": "ipython",
    "version": 3
   },
   "file_extension": ".py",
   "mimetype": "text/x-python",
   "name": "python",
   "nbconvert_exporter": "python",
   "pygments_lexer": "ipython3",
   "version": "3.7.9-final"
  },
  "orig_nbformat": 2,
  "kernelspec": {
   "name": "python3",
   "display_name": "Python 3.7.9 64-bit ('magicml': conda)",
   "metadata": {
    "interpreter": {
     "hash": "d21976708c890d4f5e403de40721946a087be811acbfab0d40a467fb62beb492"
    }
   }
  }
 },
 "nbformat": 4,
 "nbformat_minor": 2,
 "cells": [
  {
   "source": [
    "# TODO  \n",
    "## Card Similarity Search  \n",
    "### Data Prep (raw card data > clean card data) \n",
    "  - ~~merge card, set, and legality data~~  \n",
    "  - ~~concat token cards (later - may not want to)~~  \n",
    "  - ensure clean  \n",
    "    - fillna, non-english issues, maybe replace symbols ({T}...) w/ text  \n",
    "  - **AWS**  \n",
    "    - ~~Load raw MTGJson from S3~~  \n",
    "    - ~~Lambda (or Glue): Prep > to S3~~  \n",
    "### Similarity (clean card data > embeddings, similarity matrix)\n",
    "  - ~~USE embeddings from card text~~  \n",
    "  - ~~explore including other card props as text (color, type, mana cost...)~~  \n",
    "  - ~~similarity matrix~~  \n",
    "  - ~~pre-sort and save each card (50K+ cards)~~  \n",
    "  - STILL NEED TO ADD SCRYFALL IMAGE URLs TO DATA PREP PIPELINE\n",
    "  - **AWS**  \n",
    "    - ~~Load clean card data from S3~~  \n",
    "    - ~~SM Processing Job: USE embeddings & similarity matrix > to S3~~  \n",
    "    - ~~Lambda: embeddings/sim_matrix from S3 > EFS~~  \n",
    "    - ~~Lambda: sort each card by similarity EFS > EFS & DynamoDB~~\n",
    "### App Backend  \n",
    "  - API accepts card name and returns topK similar cards (w/ some metadata for filtering)  \n",
    "  - **AWS**  \n",
    "    - Lambda: API queries EFS or Dynamo  \n",
    "    - StepFunctions or Lambda destinations: refresh data pipeline as needed\n",
    "### App Frontend  \n",
    "  - Home page  \n",
    "    - Search box and results  \n",
    "    - A few filters (color, type, mana cost...)  \n",
    "    - add placement  \n",
    "    - sign in (eventually)  \n",
    "### Deploy  \n",
    "  - Backend\n",
    "    - Serverless  \n",
    "    - Seed  \n",
    "  - Frontend  \n",
    "    - React  \n",
    "    - Amplify"
   ],
   "cell_type": "markdown",
   "metadata": {}
  },
  {
   "source": [
    "# Data Prep"
   ],
   "cell_type": "markdown",
   "metadata": {}
  },
  {
   "cell_type": "code",
   "execution_count": 1,
   "metadata": {},
   "outputs": [],
   "source": [
    "import os\n",
    "import json\n",
    "import numpy as np\n",
    "import pandas as pd\n",
    "\n",
    "#import tensorflow as tf\n",
    "#import tensorflow_hub as hub\n",
    "#import matplotlib.pyplot as plt"
   ]
  },
  {
   "cell_type": "code",
   "execution_count": 75,
   "metadata": {},
   "outputs": [
    {
     "output_type": "stream",
     "name": "stdout",
     "text": [
      "(55943, 74)\n33.12 MB\n"
     ]
    },
    {
     "output_type": "execute_result",
     "data": {
      "text/plain": [
       "   id        artist asciiName availability borderColor  cardKingdomFoilId  \\\n",
       "0   1  Rebecca Guay       NaN   mtgo,paper       black           123335.0   \n",
       "\n",
       "   cardKingdomId colorIdentity colorIndicator colors  ...  subtypes  \\\n",
       "0       122967.0             G            NaN      G  ...       NaN   \n",
       "\n",
       "  supertypes  tcgplayerProductId  \\\n",
       "0        NaN             15023.0   \n",
       "\n",
       "                                                text toughness         type  \\\n",
       "0  If you would draw a card, you may instead choo...       NaN  Enchantment   \n",
       "\n",
       "         types                                  uuid variations  watermark  \n",
       "0  Enchantment  38513fa0-ea83-5642-8ecd-4f0b3daa6768        NaN        NaN  \n",
       "\n",
       "[1 rows x 74 columns]"
      ],
      "text/html": "<div>\n<style scoped>\n    .dataframe tbody tr th:only-of-type {\n        vertical-align: middle;\n    }\n\n    .dataframe tbody tr th {\n        vertical-align: top;\n    }\n\n    .dataframe thead th {\n        text-align: right;\n    }\n</style>\n<table border=\"1\" class=\"dataframe\">\n  <thead>\n    <tr style=\"text-align: right;\">\n      <th></th>\n      <th>id</th>\n      <th>artist</th>\n      <th>asciiName</th>\n      <th>availability</th>\n      <th>borderColor</th>\n      <th>cardKingdomFoilId</th>\n      <th>cardKingdomId</th>\n      <th>colorIdentity</th>\n      <th>colorIndicator</th>\n      <th>colors</th>\n      <th>...</th>\n      <th>subtypes</th>\n      <th>supertypes</th>\n      <th>tcgplayerProductId</th>\n      <th>text</th>\n      <th>toughness</th>\n      <th>type</th>\n      <th>types</th>\n      <th>uuid</th>\n      <th>variations</th>\n      <th>watermark</th>\n    </tr>\n  </thead>\n  <tbody>\n    <tr>\n      <th>0</th>\n      <td>1</td>\n      <td>Rebecca Guay</td>\n      <td>NaN</td>\n      <td>mtgo,paper</td>\n      <td>black</td>\n      <td>123335.0</td>\n      <td>122967.0</td>\n      <td>G</td>\n      <td>NaN</td>\n      <td>G</td>\n      <td>...</td>\n      <td>NaN</td>\n      <td>NaN</td>\n      <td>15023.0</td>\n      <td>If you would draw a card, you may instead choo...</td>\n      <td>NaN</td>\n      <td>Enchantment</td>\n      <td>Enchantment</td>\n      <td>38513fa0-ea83-5642-8ecd-4f0b3daa6768</td>\n      <td>NaN</td>\n      <td>NaN</td>\n    </tr>\n  </tbody>\n</table>\n<p>1 rows × 74 columns</p>\n</div>"
     },
     "metadata": {},
     "execution_count": 75
    }
   ],
   "source": [
    "cards_df = pd.read_csv('../data/mtgjson/cards.csv')\\\n",
    "    .drop(columns=['index'])\n",
    "\n",
    "print(cards_df.shape)\n",
    "print('{} MB'.format(round(cards_df.memory_usage().sum()/1000000, 2)))\n",
    "cards_df.head(1)"
   ]
  },
  {
   "cell_type": "code",
   "execution_count": 76,
   "metadata": {},
   "outputs": [
    {
     "output_type": "stream",
     "name": "stdout",
     "text": [
      "(545, 2)\n0.01 MB\n"
     ]
    },
    {
     "output_type": "execute_result",
     "data": {
      "text/plain": [
       "  setCode        setName\n",
       "0     10E  Tenth Edition"
      ],
      "text/html": "<div>\n<style scoped>\n    .dataframe tbody tr th:only-of-type {\n        vertical-align: middle;\n    }\n\n    .dataframe tbody tr th {\n        vertical-align: top;\n    }\n\n    .dataframe thead th {\n        text-align: right;\n    }\n</style>\n<table border=\"1\" class=\"dataframe\">\n  <thead>\n    <tr style=\"text-align: right;\">\n      <th></th>\n      <th>setCode</th>\n      <th>setName</th>\n    </tr>\n  </thead>\n  <tbody>\n    <tr>\n      <th>0</th>\n      <td>10E</td>\n      <td>Tenth Edition</td>\n    </tr>\n  </tbody>\n</table>\n</div>"
     },
     "metadata": {},
     "execution_count": 76
    }
   ],
   "source": [
    "sets_df = pd.read_csv('../data/mtgjson/sets.csv')[['code','name']]\\\n",
    "    .rename(columns={'name': 'setName', 'code':'setCode'})\n",
    "\n",
    "print(sets_df.shape)\n",
    "print('{} MB'.format(round(sets_df.memory_usage().sum()/1000000, 2)))\n",
    "sets_df.head(1)"
   ]
  },
  {
   "cell_type": "code",
   "execution_count": 77,
   "metadata": {},
   "outputs": [
    {
     "output_type": "stream",
     "name": "stdout",
     "text": [
      "(55943, 75)\n34.01 MB\n"
     ]
    },
    {
     "output_type": "execute_result",
     "data": {
      "text/plain": [
       "   id        artist asciiName availability borderColor  cardKingdomFoilId  \\\n",
       "0   1  Rebecca Guay       NaN   mtgo,paper       black           123335.0   \n",
       "\n",
       "   cardKingdomId colorIdentity colorIndicator colors  ...  supertypes  \\\n",
       "0       122967.0             G            NaN      G  ...         NaN   \n",
       "\n",
       "  tcgplayerProductId                                               text  \\\n",
       "0            15023.0  If you would draw a card, you may instead choo...   \n",
       "\n",
       "   toughness         type        types                                  uuid  \\\n",
       "0        NaN  Enchantment  Enchantment  38513fa0-ea83-5642-8ecd-4f0b3daa6768   \n",
       "\n",
       "  variations watermark        setName  \n",
       "0        NaN       NaN  Tenth Edition  \n",
       "\n",
       "[1 rows x 75 columns]"
      ],
      "text/html": "<div>\n<style scoped>\n    .dataframe tbody tr th:only-of-type {\n        vertical-align: middle;\n    }\n\n    .dataframe tbody tr th {\n        vertical-align: top;\n    }\n\n    .dataframe thead th {\n        text-align: right;\n    }\n</style>\n<table border=\"1\" class=\"dataframe\">\n  <thead>\n    <tr style=\"text-align: right;\">\n      <th></th>\n      <th>id</th>\n      <th>artist</th>\n      <th>asciiName</th>\n      <th>availability</th>\n      <th>borderColor</th>\n      <th>cardKingdomFoilId</th>\n      <th>cardKingdomId</th>\n      <th>colorIdentity</th>\n      <th>colorIndicator</th>\n      <th>colors</th>\n      <th>...</th>\n      <th>supertypes</th>\n      <th>tcgplayerProductId</th>\n      <th>text</th>\n      <th>toughness</th>\n      <th>type</th>\n      <th>types</th>\n      <th>uuid</th>\n      <th>variations</th>\n      <th>watermark</th>\n      <th>setName</th>\n    </tr>\n  </thead>\n  <tbody>\n    <tr>\n      <th>0</th>\n      <td>1</td>\n      <td>Rebecca Guay</td>\n      <td>NaN</td>\n      <td>mtgo,paper</td>\n      <td>black</td>\n      <td>123335.0</td>\n      <td>122967.0</td>\n      <td>G</td>\n      <td>NaN</td>\n      <td>G</td>\n      <td>...</td>\n      <td>NaN</td>\n      <td>15023.0</td>\n      <td>If you would draw a card, you may instead choo...</td>\n      <td>NaN</td>\n      <td>Enchantment</td>\n      <td>Enchantment</td>\n      <td>38513fa0-ea83-5642-8ecd-4f0b3daa6768</td>\n      <td>NaN</td>\n      <td>NaN</td>\n      <td>Tenth Edition</td>\n    </tr>\n  </tbody>\n</table>\n<p>1 rows × 75 columns</p>\n</div>"
     },
     "metadata": {},
     "execution_count": 77
    }
   ],
   "source": [
    "# Merge set names into cards\n",
    "cards_df = cards_df\\\n",
    "    .merge(sets_df, how='left', on='setCode')\n",
    "\n",
    "print(cards_df.shape)\n",
    "print('{} MB'.format(round(cards_df.memory_usage().sum()/1000000, 2)))\n",
    "cards_df.head(1)"
   ]
  },
  {
   "cell_type": "code",
   "execution_count": 78,
   "metadata": {},
   "outputs": [
    {
     "output_type": "stream",
     "name": "stdout",
     "text": [
      "(54718, 14)\n6.13 MB\n"
     ]
    },
    {
     "output_type": "execute_result",
     "data": {
      "text/plain": [
       "format                                  uuid  brawl commander   duel future  \\\n",
       "0       00010d56-fe38-5e35-8aed-518019aa36a5  Blank     Legal  Legal  Blank   \n",
       "\n",
       "format historic legacy modern oldschool pauper  penny pioneer standard vintage  \n",
       "0         Blank  Legal  Legal     Blank  Blank  Blank   Legal    Blank   Legal  "
      ],
      "text/html": "<div>\n<style scoped>\n    .dataframe tbody tr th:only-of-type {\n        vertical-align: middle;\n    }\n\n    .dataframe tbody tr th {\n        vertical-align: top;\n    }\n\n    .dataframe thead th {\n        text-align: right;\n    }\n</style>\n<table border=\"1\" class=\"dataframe\">\n  <thead>\n    <tr style=\"text-align: right;\">\n      <th>format</th>\n      <th>uuid</th>\n      <th>brawl</th>\n      <th>commander</th>\n      <th>duel</th>\n      <th>future</th>\n      <th>historic</th>\n      <th>legacy</th>\n      <th>modern</th>\n      <th>oldschool</th>\n      <th>pauper</th>\n      <th>penny</th>\n      <th>pioneer</th>\n      <th>standard</th>\n      <th>vintage</th>\n    </tr>\n  </thead>\n  <tbody>\n    <tr>\n      <th>0</th>\n      <td>00010d56-fe38-5e35-8aed-518019aa36a5</td>\n      <td>Blank</td>\n      <td>Legal</td>\n      <td>Legal</td>\n      <td>Blank</td>\n      <td>Blank</td>\n      <td>Legal</td>\n      <td>Legal</td>\n      <td>Blank</td>\n      <td>Blank</td>\n      <td>Blank</td>\n      <td>Legal</td>\n      <td>Blank</td>\n      <td>Legal</td>\n    </tr>\n  </tbody>\n</table>\n</div>"
     },
     "metadata": {},
     "execution_count": 78
    }
   ],
   "source": [
    "legs_df = pd.read_csv('../data/mtgjson/legalities.csv')\\\n",
    "    .pivot(index='uuid', columns='format', values='status')\\\n",
    "    .reset_index()\\\n",
    "    .fillna('Blank')\n",
    "\n",
    "print(legs_df.shape)\n",
    "print('{} MB'.format(round(legs_df.memory_usage().sum()/1000000, 2)))\n",
    "legs_df.head(1)"
   ]
  },
  {
   "cell_type": "code",
   "execution_count": 79,
   "metadata": {},
   "outputs": [
    {
     "output_type": "stream",
     "name": "stdout",
     "text": [
      "(55943, 88)\n39.83 MB\n"
     ]
    },
    {
     "output_type": "execute_result",
     "data": {
      "text/plain": [
       "   id        artist asciiName availability borderColor  cardKingdomFoilId  \\\n",
       "0   1  Rebecca Guay       NaN   mtgo,paper       black           123335.0   \n",
       "\n",
       "   cardKingdomId colorIdentity colorIndicator colors  ...  future historic  \\\n",
       "0       122967.0             G            NaN      G  ...   Blank    Blank   \n",
       "\n",
       "   legacy  modern oldschool pauper  penny pioneer standard  vintage  \n",
       "0   Legal   Legal     Blank  Blank  Legal   Blank    Blank    Legal  \n",
       "\n",
       "[1 rows x 88 columns]"
      ],
      "text/html": "<div>\n<style scoped>\n    .dataframe tbody tr th:only-of-type {\n        vertical-align: middle;\n    }\n\n    .dataframe tbody tr th {\n        vertical-align: top;\n    }\n\n    .dataframe thead th {\n        text-align: right;\n    }\n</style>\n<table border=\"1\" class=\"dataframe\">\n  <thead>\n    <tr style=\"text-align: right;\">\n      <th></th>\n      <th>id</th>\n      <th>artist</th>\n      <th>asciiName</th>\n      <th>availability</th>\n      <th>borderColor</th>\n      <th>cardKingdomFoilId</th>\n      <th>cardKingdomId</th>\n      <th>colorIdentity</th>\n      <th>colorIndicator</th>\n      <th>colors</th>\n      <th>...</th>\n      <th>future</th>\n      <th>historic</th>\n      <th>legacy</th>\n      <th>modern</th>\n      <th>oldschool</th>\n      <th>pauper</th>\n      <th>penny</th>\n      <th>pioneer</th>\n      <th>standard</th>\n      <th>vintage</th>\n    </tr>\n  </thead>\n  <tbody>\n    <tr>\n      <th>0</th>\n      <td>1</td>\n      <td>Rebecca Guay</td>\n      <td>NaN</td>\n      <td>mtgo,paper</td>\n      <td>black</td>\n      <td>123335.0</td>\n      <td>122967.0</td>\n      <td>G</td>\n      <td>NaN</td>\n      <td>G</td>\n      <td>...</td>\n      <td>Blank</td>\n      <td>Blank</td>\n      <td>Legal</td>\n      <td>Legal</td>\n      <td>Blank</td>\n      <td>Blank</td>\n      <td>Legal</td>\n      <td>Blank</td>\n      <td>Blank</td>\n      <td>Legal</td>\n    </tr>\n  </tbody>\n</table>\n<p>1 rows × 88 columns</p>\n</div>"
     },
     "metadata": {},
     "execution_count": 79
    }
   ],
   "source": [
    "# Merge legalities into cards\n",
    "cards_df = cards_df\\\n",
    "    .merge(legs_df, how='left', on='uuid')\n",
    "\n",
    "print(cards_df.shape)\n",
    "print('{} MB'.format(round(cards_df.memory_usage().sum()/1000000, 2)))\n",
    "cards_df.head(1)"
   ]
  },
  {
   "cell_type": "code",
   "execution_count": 82,
   "metadata": {},
   "outputs": [],
   "source": [
    "cards_df.to_csv('cards.csv', index=False)"
   ]
  },
  {
   "source": [
    "### Handle token cards later"
   ],
   "cell_type": "markdown",
   "metadata": {}
  },
  {
   "cell_type": "code",
   "execution_count": 53,
   "metadata": {},
   "outputs": [
    {
     "output_type": "stream",
     "name": "stdout",
     "text": [
      "(1704, 45)\n0.61 MB\n"
     ]
    },
    {
     "output_type": "execute_result",
     "data": {
      "text/plain": [
       "   index  id       artist asciiName availability borderColor colorIdentity  \\\n",
       "0      0   1  Jim Pavelec       NaN        paper       black             R   \n",
       "\n",
       "  colors  edhrecRank faceName  ... side subtypes  supertypes  \\\n",
       "0      R         NaN      NaN  ...  NaN   Dragon         NaN   \n",
       "\n",
       "   tcgplayerProductId    text  toughness                     type  \\\n",
       "0             78608.0  Flying          5  Token Creature — Dragon   \n",
       "\n",
       "            types                                  uuid watermark  \n",
       "0  Token,Creature  7decf258-eb10-50da-83f7-c7eba74adbfb       NaN  \n",
       "\n",
       "[1 rows x 45 columns]"
      ],
      "text/html": "<div>\n<style scoped>\n    .dataframe tbody tr th:only-of-type {\n        vertical-align: middle;\n    }\n\n    .dataframe tbody tr th {\n        vertical-align: top;\n    }\n\n    .dataframe thead th {\n        text-align: right;\n    }\n</style>\n<table border=\"1\" class=\"dataframe\">\n  <thead>\n    <tr style=\"text-align: right;\">\n      <th></th>\n      <th>index</th>\n      <th>id</th>\n      <th>artist</th>\n      <th>asciiName</th>\n      <th>availability</th>\n      <th>borderColor</th>\n      <th>colorIdentity</th>\n      <th>colors</th>\n      <th>edhrecRank</th>\n      <th>faceName</th>\n      <th>...</th>\n      <th>side</th>\n      <th>subtypes</th>\n      <th>supertypes</th>\n      <th>tcgplayerProductId</th>\n      <th>text</th>\n      <th>toughness</th>\n      <th>type</th>\n      <th>types</th>\n      <th>uuid</th>\n      <th>watermark</th>\n    </tr>\n  </thead>\n  <tbody>\n    <tr>\n      <th>0</th>\n      <td>0</td>\n      <td>1</td>\n      <td>Jim Pavelec</td>\n      <td>NaN</td>\n      <td>paper</td>\n      <td>black</td>\n      <td>R</td>\n      <td>R</td>\n      <td>NaN</td>\n      <td>NaN</td>\n      <td>...</td>\n      <td>NaN</td>\n      <td>Dragon</td>\n      <td>NaN</td>\n      <td>78608.0</td>\n      <td>Flying</td>\n      <td>5</td>\n      <td>Token Creature — Dragon</td>\n      <td>Token,Creature</td>\n      <td>7decf258-eb10-50da-83f7-c7eba74adbfb</td>\n      <td>NaN</td>\n    </tr>\n  </tbody>\n</table>\n<p>1 rows × 45 columns</p>\n</div>"
     },
     "metadata": {},
     "execution_count": 53
    }
   ],
   "source": [
    "tokens_df = pd.read_csv('../data/mtgjson/tokens.csv')\n",
    "\n",
    "print(tokens_df.shape)\n",
    "print('{} MB'.format(round(tokens_df.memory_usage().sum()/1000000, 2)))\n",
    "tokens_df.head(1)"
   ]
  },
  {
   "cell_type": "code",
   "execution_count": 3,
   "metadata": {},
   "outputs": [
    {
     "output_type": "stream",
     "name": "stdout",
     "text": [
      "(55943, 74)\n"
     ]
    },
    {
     "output_type": "execute_result",
     "data": {
      "text/plain": [
       "   id           artist asciiName availability borderColor  cardKingdomFoilId  \\\n",
       "0   1     Rebecca Guay       NaN   mtgo,paper       black           123335.0   \n",
       "1   2  Stephen Daniele       NaN   mtgo,paper       black           123149.0   \n",
       "\n",
       "   cardKingdomId colorIdentity colorIndicator colors  ...      subtypes  \\\n",
       "0       122967.0             G            NaN      G  ...           NaN   \n",
       "1       122781.0             U            NaN      U  ...  Human,Wizard   \n",
       "\n",
       "  supertypes  tcgplayerProductId  \\\n",
       "0        NaN             15023.0   \n",
       "1        NaN             15024.0   \n",
       "\n",
       "                                                text toughness  \\\n",
       "0  If you would draw a card, you may instead choo...       NaN   \n",
       "1  When Academy Researchers enters the battlefiel...         2   \n",
       "\n",
       "                      type        types                                  uuid  \\\n",
       "0              Enchantment  Enchantment  38513fa0-ea83-5642-8ecd-4f0b3daa6768   \n",
       "1  Creature — Human Wizard     Creature  b8a68840-4044-52c0-a14e-0a1c630ba42c   \n",
       "\n",
       "  variations  watermark  \n",
       "0        NaN        NaN  \n",
       "1        NaN        NaN  \n",
       "\n",
       "[2 rows x 74 columns]"
      ],
      "text/html": "<div>\n<style scoped>\n    .dataframe tbody tr th:only-of-type {\n        vertical-align: middle;\n    }\n\n    .dataframe tbody tr th {\n        vertical-align: top;\n    }\n\n    .dataframe thead th {\n        text-align: right;\n    }\n</style>\n<table border=\"1\" class=\"dataframe\">\n  <thead>\n    <tr style=\"text-align: right;\">\n      <th></th>\n      <th>id</th>\n      <th>artist</th>\n      <th>asciiName</th>\n      <th>availability</th>\n      <th>borderColor</th>\n      <th>cardKingdomFoilId</th>\n      <th>cardKingdomId</th>\n      <th>colorIdentity</th>\n      <th>colorIndicator</th>\n      <th>colors</th>\n      <th>...</th>\n      <th>subtypes</th>\n      <th>supertypes</th>\n      <th>tcgplayerProductId</th>\n      <th>text</th>\n      <th>toughness</th>\n      <th>type</th>\n      <th>types</th>\n      <th>uuid</th>\n      <th>variations</th>\n      <th>watermark</th>\n    </tr>\n  </thead>\n  <tbody>\n    <tr>\n      <th>0</th>\n      <td>1</td>\n      <td>Rebecca Guay</td>\n      <td>NaN</td>\n      <td>mtgo,paper</td>\n      <td>black</td>\n      <td>123335.0</td>\n      <td>122967.0</td>\n      <td>G</td>\n      <td>NaN</td>\n      <td>G</td>\n      <td>...</td>\n      <td>NaN</td>\n      <td>NaN</td>\n      <td>15023.0</td>\n      <td>If you would draw a card, you may instead choo...</td>\n      <td>NaN</td>\n      <td>Enchantment</td>\n      <td>Enchantment</td>\n      <td>38513fa0-ea83-5642-8ecd-4f0b3daa6768</td>\n      <td>NaN</td>\n      <td>NaN</td>\n    </tr>\n    <tr>\n      <th>1</th>\n      <td>2</td>\n      <td>Stephen Daniele</td>\n      <td>NaN</td>\n      <td>mtgo,paper</td>\n      <td>black</td>\n      <td>123149.0</td>\n      <td>122781.0</td>\n      <td>U</td>\n      <td>NaN</td>\n      <td>U</td>\n      <td>...</td>\n      <td>Human,Wizard</td>\n      <td>NaN</td>\n      <td>15024.0</td>\n      <td>When Academy Researchers enters the battlefiel...</td>\n      <td>2</td>\n      <td>Creature — Human Wizard</td>\n      <td>Creature</td>\n      <td>b8a68840-4044-52c0-a14e-0a1c630ba42c</td>\n      <td>NaN</td>\n      <td>NaN</td>\n    </tr>\n  </tbody>\n</table>\n<p>2 rows × 74 columns</p>\n</div>"
     },
     "metadata": {},
     "execution_count": 3
    }
   ],
   "source": [
    "print(cards_df.shape)\n",
    "cards_df.head(2)"
   ]
  },
  {
   "cell_type": "code",
   "execution_count": 55,
   "metadata": {},
   "outputs": [
    {
     "output_type": "execute_result",
     "data": {
      "text/plain": [
       "Index(['id', 'artist', 'asciiName', 'availability', 'borderColor',\n",
       "       'cardKingdomFoilId', 'cardKingdomId', 'colorIdentity', 'colorIndicator',\n",
       "       'colors', 'convertedManaCost', 'duelDeck', 'edhrecRank',\n",
       "       'faceConvertedManaCost', 'faceName', 'flavorName', 'flavorText',\n",
       "       'frameEffects', 'frameVersion', 'hand', 'hasAlternativeDeckLimit',\n",
       "       'hasContentWarning', 'hasFoil', 'hasNonFoil', 'isAlternative',\n",
       "       'isFullArt', 'isOnlineOnly', 'isOversized', 'isPromo', 'isReprint',\n",
       "       'isReserved', 'isStarter', 'isStorySpotlight', 'isTextless',\n",
       "       'isTimeshifted', 'keywords', 'layout', 'leadershipSkills', 'life',\n",
       "       'loyalty', 'manaCost', 'mcmId', 'mcmMetaId', 'mtgArenaId',\n",
       "       'mtgjsonV4Id', 'mtgoFoilId', 'mtgoId', 'multiverseId', 'name', 'number',\n",
       "       'originalReleaseDate', 'originalText', 'originalType', 'otherFaceIds',\n",
       "       'power', 'printings', 'promoTypes', 'purchaseUrls', 'rarity',\n",
       "       'scryfallId', 'scryfallIllustrationId', 'scryfallOracleId', 'setCode',\n",
       "       'side', 'subtypes', 'supertypes', 'tcgplayerProductId', 'text',\n",
       "       'toughness', 'type', 'types', 'uuid', 'variations', 'watermark',\n",
       "       'setName', 'brawl', 'commander', 'duel', 'future', 'historic', 'legacy',\n",
       "       'modern', 'oldschool', 'pauper', 'penny', 'pioneer', 'standard',\n",
       "       'vintage'],\n",
       "      dtype='object')"
      ]
     },
     "metadata": {},
     "execution_count": 55
    }
   ],
   "source": [
    "cards_df.columns"
   ]
  },
  {
   "cell_type": "code",
   "execution_count": 7,
   "metadata": {},
   "outputs": [
    {
     "output_type": "execute_result",
     "data": {
      "text/plain": [
       "1971"
      ]
     },
     "metadata": {},
     "execution_count": 7
    }
   ],
   "source": [
    "cards_df.type.nunique()"
   ]
  },
  {
   "cell_type": "code",
   "execution_count": 8,
   "metadata": {},
   "outputs": [
    {
     "output_type": "execute_result",
     "data": {
      "text/plain": [
       "531"
      ]
     },
     "metadata": {},
     "execution_count": 8
    }
   ],
   "source": [
    "cards_df.setCode.nunique()"
   ]
  },
  {
   "cell_type": "code",
   "execution_count": 9,
   "metadata": {},
   "outputs": [
    {
     "output_type": "execute_result",
     "data": {
      "text/plain": [
       "33.118384"
      ]
     },
     "metadata": {},
     "execution_count": 9
    }
   ],
   "source": [
    "cards_df.memory_usage().sum()/1000000"
   ]
  },
  {
   "cell_type": "code",
   "execution_count": 56,
   "metadata": {},
   "outputs": [
    {
     "output_type": "stream",
     "name": "stdout",
     "text": [
      "id: 1\n\nartist: Rebecca Guay\n\nasciiName: nan\n\navailability: mtgo,paper\n\nborderColor: black\n\ncardKingdomFoilId: 123335.0\n\ncardKingdomId: 122967.0\n\ncolorIdentity: G\n\ncolorIndicator: nan\n\ncolors: G\n\nconvertedManaCost: 4.0\n\nduelDeck: nan\n\nedhrecRank: 1111.0\n\nfaceConvertedManaCost: nan\n\nfaceName: nan\n\nflavorName: nan\n\nflavorText: nan\n\nframeEffects: nan\n\nframeVersion: 2003\n\nhand: nan\n\nhasAlternativeDeckLimit: 0\n\nhasContentWarning: 0\n\nhasFoil: 1\n\nhasNonFoil: 1\n\nisAlternative: 0\n\nisFullArt: 0\n\nisOnlineOnly: 0\n\nisOversized: 0\n\nisPromo: 0\n\nisReprint: 1\n\nisReserved: 0\n\nisStarter: 0\n\nisStorySpotlight: 0\n\nisTextless: 0\n\nisTimeshifted: 0\n\nkeywords: nan\n\nlayout: normal\n\nleadershipSkills: nan\n\nlife: nan\n\nloyalty: nan\n\nmanaCost: {2}{G}{G}\n\nmcmId: 16413.0\n\nmcmMetaId: 19.0\n\nmtgArenaId: nan\n\nmtgjsonV4Id: 1669af17-d287-5094-b005-4b143441442f\n\nmtgoFoilId: 27283.0\n\nmtgoId: 27282.0\n\nmultiverseId: 130483.0\n\nname: Abundance\n\nnumber: 249\n\noriginalReleaseDate: nan\n\noriginalText: If you would draw a card, you may instead choose land or nonland and reveal cards from the top of your library until you reveal a card of the chosen kind. Put that card into your hand and put all other cards revealed this way on the bottom of your library in any order.\n\noriginalType: Enchantment\n\notherFaceIds: nan\n\npower: nan\n\nprintings: 10E,C17,DDR,USG,ZNC\n\npromoTypes: nan\n\npurchaseUrls: {'cardKingdom': 'https://mtgjson.com/links/be6bfd8d4a84e5ec', 'cardKingdomFoil': 'https://mtgjson.com/links/4015cfd69a1e9820', 'cardmarket': 'https://mtgjson.com/links/39cb422913cf114f', 'tcgplayer': 'https://mtgjson.com/links/6e092a03d6bbffec'}\n\nrarity: rare\n\nscryfallId: 46184f97-d5c9-4a98-9fd9-e19057ce9b7e\n\nscryfallIllustrationId: 4be12219-df08-4a40-b32f-69737db62615\n\nscryfallOracleId: eccc9a54-2b56-4a02-9926-258d5b2e25fb\n\nsetCode: 10E\n\nside: nan\n\nsubtypes: nan\n\nsupertypes: nan\n\ntcgplayerProductId: 15023.0\n\ntext: If you would draw a card, you may instead choose land or nonland and reveal cards from the top of your library until you reveal a card of the chosen kind. Put that card into your hand and put all other cards revealed this way on the bottom of your library in any order.\n\ntoughness: nan\n\ntype: Enchantment\n\ntypes: Enchantment\n\nuuid: 38513fa0-ea83-5642-8ecd-4f0b3daa6768\n\nvariations: nan\n\nwatermark: nan\n\nsetName: Tenth Edition\n\nbrawl: Blank\n\ncommander: Legal\n\nduel: Legal\n\nfuture: Blank\n\nhistoric: Blank\n\nlegacy: Legal\n\nmodern: Legal\n\noldschool: Blank\n\npauper: Blank\n\npenny: Legal\n\npioneer: Blank\n\nstandard: Blank\n\nvintage: Legal\n\n"
     ]
    }
   ],
   "source": [
    "for col in cards_df.columns:\n",
    "    print(col + ': ' + str(cards_df[col][0]) + '\\n')"
   ]
  },
  {
   "source": [
    "# Download and Store USE Model from TFHub"
   ],
   "cell_type": "markdown",
   "metadata": {}
  },
  {
   "cell_type": "code",
   "execution_count": 5,
   "metadata": {},
   "outputs": [
    {
     "output_type": "stream",
     "name": "stdout",
     "text": [
      "module https://tfhub.dev/google/universal-sentence-encoder-large/5 loaded\n"
     ]
    }
   ],
   "source": [
    "module_url = 'https://tfhub.dev/google/universal-sentence-encoder-large/5'\n",
    "model = hub.load(module_url)\n",
    "print (\"module %s loaded\" % module_url)"
   ]
  },
  {
   "source": [
    "## Saved the downloaded USE-Large model"
   ],
   "cell_type": "markdown",
   "metadata": {}
  },
  {
   "cell_type": "code",
   "execution_count": 2,
   "metadata": {},
   "outputs": [
    {
     "output_type": "error",
     "ename": "NameError",
     "evalue": "name 'model' is not defined",
     "traceback": [
      "\u001b[1;31m---------------------------------------------------------------------------\u001b[0m",
      "\u001b[1;31mNameError\u001b[0m                                 Traceback (most recent call last)",
      "\u001b[1;32m<ipython-input-2-a12f0001efb1>\u001b[0m in \u001b[0;36m<module>\u001b[1;34m\u001b[0m\n\u001b[1;32m----> 1\u001b[1;33m \u001b[0mtf\u001b[0m\u001b[1;33m.\u001b[0m\u001b[0msaved_model\u001b[0m\u001b[1;33m.\u001b[0m\u001b[0msave\u001b[0m\u001b[1;33m(\u001b[0m\u001b[0mmodel\u001b[0m\u001b[1;33m,\u001b[0m \u001b[1;34m\"../models/use-large\"\u001b[0m\u001b[1;33m)\u001b[0m\u001b[1;33m\u001b[0m\u001b[1;33m\u001b[0m\u001b[0m\n\u001b[0m",
      "\u001b[1;31mNameError\u001b[0m: name 'model' is not defined"
     ]
    }
   ],
   "source": [
    "tf.saved_model.save(model, \"../models/use-large\")"
   ]
  },
  {
   "source": [
    "## Load USE-Large from local disk"
   ],
   "cell_type": "markdown",
   "metadata": {}
  },
  {
   "cell_type": "code",
   "execution_count": 30,
   "metadata": {},
   "outputs": [],
   "source": [
    "import tensorflow as tf"
   ]
  },
  {
   "cell_type": "code",
   "execution_count": 31,
   "metadata": {},
   "outputs": [],
   "source": [
    "use_embed = tf.saved_model.load('../models/use-large/1')"
   ]
  },
  {
   "cell_type": "code",
   "execution_count": 27,
   "metadata": {},
   "outputs": [],
   "source": [
    "for local_path in model_files:\n",
    "    s3_key = '/'.join(str(local_path).split('\\\\')[2:])\n",
    "    if '.' in s3_key:\n",
    "        s3.upload_file(str(local_path), 'magicml-models.dev', s3_key)"
   ]
  },
  {
   "source": [
    "***\n",
    "# Get USE Embeddings"
   ],
   "cell_type": "markdown",
   "metadata": {}
  },
  {
   "cell_type": "code",
   "execution_count": 70,
   "metadata": {},
   "outputs": [
    {
     "output_type": "stream",
     "name": "stdout",
     "text": [
      "(5, 5)\n"
     ]
    }
   ],
   "source": [
    "corr = np.inner(embeddings, embeddings)\n",
    "print(corr.shape)"
   ]
  },
  {
   "cell_type": "code",
   "execution_count": 72,
   "metadata": {},
   "outputs": [],
   "source": [
    "import plotly.express as px"
   ]
  },
  {
   "cell_type": "code",
   "execution_count": 73,
   "metadata": {},
   "outputs": [
    {
     "output_type": "error",
     "ename": "NameError",
     "evalue": "name 'arena_name' is not defined",
     "traceback": [
      "\u001b[1;31m---------------------------------------------------------------------------\u001b[0m",
      "\u001b[1;31mNameError\u001b[0m                                 Traceback (most recent call last)",
      "\u001b[1;32m<ipython-input-73-fab3a43054c8>\u001b[0m in \u001b[0;36m<module>\u001b[1;34m\u001b[0m\n\u001b[1;32m----> 1\u001b[1;33m \u001b[0mcard_df\u001b[0m \u001b[1;33m=\u001b[0m \u001b[0mpd\u001b[0m\u001b[1;33m.\u001b[0m\u001b[0mDataFrame\u001b[0m\u001b[1;33m(\u001b[0m\u001b[0mcorr\u001b[0m\u001b[1;33m,\u001b[0m \u001b[0mcolumns\u001b[0m\u001b[1;33m=\u001b[0m\u001b[0marena_name\u001b[0m\u001b[1;33m,\u001b[0m \u001b[0mindex\u001b[0m\u001b[1;33m=\u001b[0m\u001b[0marena_name\u001b[0m\u001b[1;33m)\u001b[0m\u001b[1;33m\u001b[0m\u001b[1;33m\u001b[0m\u001b[0m\n\u001b[0m\u001b[0;32m      2\u001b[0m \u001b[0mcard_df\u001b[0m\u001b[1;33m.\u001b[0m\u001b[0mhead\u001b[0m\u001b[1;33m(\u001b[0m\u001b[1;33m)\u001b[0m\u001b[1;33m\u001b[0m\u001b[1;33m\u001b[0m\u001b[0m\n",
      "\u001b[1;31mNameError\u001b[0m: name 'arena_name' is not defined"
     ]
    }
   ],
   "source": [
    "card_df = pd.DataFrame(corr, columns=arena_name, index=arena_name)\n",
    "card_df.head()"
   ]
  },
  {
   "cell_type": "code",
   "execution_count": 107,
   "metadata": {},
   "outputs": [
    {
     "output_type": "execute_result",
     "data": {
      "text/plain": [
       "'Golos,_Tireless_Pilgrim'"
      ]
     },
     "metadata": {},
     "execution_count": 107
    }
   ],
   "source": [
    "test_card = 'Golos,_Tireless_Pilgrim'\n",
    "test_card"
   ]
  },
  {
   "cell_type": "code",
   "execution_count": 106,
   "metadata": {},
   "outputs": [
    {
     "output_type": "execute_result",
     "data": {
      "text/plain": [
       "['Golos,_Tireless_Pilgrim']"
      ]
     },
     "metadata": {},
     "execution_count": 106
    }
   ],
   "source": [
    "[card for card in card_df.columns if card.startswith('Golos')]"
   ]
  },
  {
   "cell_type": "code",
   "execution_count": 108,
   "metadata": {},
   "outputs": [
    {
     "output_type": "execute_result",
     "data": {
      "text/plain": [
       "      Golos,_Tireless_Pilgrim\n",
       "3059                 1.000000\n",
       "1687                 0.805584\n",
       "1583                 0.801413\n",
       "2606                 0.798853\n",
       "835                  0.796900\n",
       "...                       ...\n",
       "5170                -0.020036\n",
       "3215                -0.020036\n",
       "5212                -0.041830\n",
       "4441                -0.041830\n",
       "5055                -0.041830\n",
       "\n",
       "[5419 rows x 1 columns]"
      ],
      "text/html": "<div>\n<style scoped>\n    .dataframe tbody tr th:only-of-type {\n        vertical-align: middle;\n    }\n\n    .dataframe tbody tr th {\n        vertical-align: top;\n    }\n\n    .dataframe thead th {\n        text-align: right;\n    }\n</style>\n<table border=\"1\" class=\"dataframe\">\n  <thead>\n    <tr style=\"text-align: right;\">\n      <th></th>\n      <th>Golos,_Tireless_Pilgrim</th>\n    </tr>\n  </thead>\n  <tbody>\n    <tr>\n      <th>3059</th>\n      <td>1.000000</td>\n    </tr>\n    <tr>\n      <th>1687</th>\n      <td>0.805584</td>\n    </tr>\n    <tr>\n      <th>1583</th>\n      <td>0.801413</td>\n    </tr>\n    <tr>\n      <th>2606</th>\n      <td>0.798853</td>\n    </tr>\n    <tr>\n      <th>835</th>\n      <td>0.796900</td>\n    </tr>\n    <tr>\n      <th>...</th>\n      <td>...</td>\n    </tr>\n    <tr>\n      <th>5170</th>\n      <td>-0.020036</td>\n    </tr>\n    <tr>\n      <th>3215</th>\n      <td>-0.020036</td>\n    </tr>\n    <tr>\n      <th>5212</th>\n      <td>-0.041830</td>\n    </tr>\n    <tr>\n      <th>4441</th>\n      <td>-0.041830</td>\n    </tr>\n    <tr>\n      <th>5055</th>\n      <td>-0.041830</td>\n    </tr>\n  </tbody>\n</table>\n<p>5419 rows × 1 columns</p>\n</div>"
     },
     "metadata": {},
     "execution_count": 108
    }
   ],
   "source": [
    "card_df[[test_card]].sort_values(by=test_card, ascending=False)"
   ]
  },
  {
   "cell_type": "code",
   "execution_count": 109,
   "metadata": {},
   "outputs": [
    {
     "output_type": "execute_result",
     "data": {
      "text/plain": [
       "array(['When Golos, Tireless Pilgrim enters the battlefield, you may search your library for a land card, put that card onto the battlefield tapped, then shuffle your library.\\n{2}{W}{U}{B}{R}{G}: Exile the top three cards of your library. You may play them this turn without paying their mana costs.'],\n",
       "      dtype=object)"
      ]
     },
     "metadata": {},
     "execution_count": 109
    }
   ],
   "source": [
    "test_card = test_card.replace('_',' ')\n",
    "arena_df.query('name == @test_card').text.values"
   ]
  },
  {
   "cell_type": "code",
   "execution_count": 112,
   "metadata": {},
   "outputs": [
    {
     "output_type": "execute_result",
     "data": {
      "text/plain": [
       "'Emergent Ultimatum'"
      ]
     },
     "metadata": {},
     "execution_count": 112
    }
   ],
   "source": [
    "test_name = arena_name[1583].replace('_',' ')\n",
    "test_name"
   ]
  },
  {
   "cell_type": "code",
   "execution_count": 113,
   "metadata": {},
   "outputs": [
    {
     "output_type": "execute_result",
     "data": {
      "text/plain": [
       "array(['Search your library for up to three monocolored cards with different names and exile them. An opponent chooses one of those cards. Shuffle that card into your library. You may cast the other cards without paying their mana costs. Exile Emergent Ultimatum.'],\n",
       "      dtype=object)"
      ]
     },
     "metadata": {},
     "execution_count": 113
    }
   ],
   "source": [
    "arena_df.query('name == @test_name').text.values"
   ]
  },
  {
   "cell_type": "code",
   "execution_count": null,
   "metadata": {},
   "outputs": [],
   "source": []
  },
  {
   "cell_type": "code",
   "execution_count": null,
   "metadata": {},
   "outputs": [],
   "source": []
  },
  {
   "cell_type": "code",
   "execution_count": null,
   "metadata": {},
   "outputs": [],
   "source": []
  },
  {
   "source": [
    "# Sagemaker Processing Workflow"
   ],
   "cell_type": "markdown",
   "metadata": {}
  },
  {
   "cell_type": "code",
   "execution_count": 6,
   "metadata": {},
   "outputs": [],
   "source": [
    "import os\n",
    "import pathlib\n",
    "import boto3\n",
    "from boto3.session import Session\n",
    "\n",
    "def aws_connect(service, profile='default', session=False):\n",
    "    # Connect to AWS with IAM Role\n",
    "    sess = Session(profile_name=profile)\n",
    "\n",
    "    try:\n",
    "        resource = sess.resource(service)\n",
    "        client = resource.meta.client\n",
    "\n",
    "        if session:\n",
    "            return resource, client, sess\n",
    "        else:\n",
    "            return resource, client\n",
    "    except:\n",
    "        client = sess.client(service)\n",
    "\n",
    "        if session:\n",
    "            return client, sess\n",
    "        else:\n",
    "            return client"
   ]
  },
  {
   "cell_type": "code",
   "execution_count": 7,
   "metadata": {},
   "outputs": [],
   "source": [
    "_, s3, boto_sess = aws_connect('s3', 'lw2134', session=True)"
   ]
  },
  {
   "cell_type": "code",
   "execution_count": null,
   "metadata": {},
   "outputs": [],
   "source": [
    "# Tar the model.tar.gz package\n",
    "# from models/use-large directory\n",
    "'tar -czvf model.tar.gz 1'"
   ]
  },
  {
   "cell_type": "code",
   "execution_count": 40,
   "metadata": {},
   "outputs": [],
   "source": [
    "## SM Processing Job"
   ]
  },
  {
   "cell_type": "code",
   "execution_count": 33,
   "metadata": {},
   "outputs": [],
   "source": [
    "import os\n",
    "import boto3\n",
    "#import sagemaker\n",
    "#from sagemaker.processing import ScriptProcessor, ProcessingInput, ProcessingOutput"
   ]
  },
  {
   "cell_type": "code",
   "execution_count": 138,
   "metadata": {},
   "outputs": [],
   "source": [
    "_, s3, boto_sess = aws_connect('s3', 'lw2134', session=True)\n",
    "sm_client = boto_sess.client('sagemaker')"
   ]
  },
  {
   "cell_type": "code",
   "execution_count": 21,
   "metadata": {},
   "outputs": [],
   "source": [
    "#sagemaker_session = sagemaker.Session(boto_session=boto_sess)\n",
    "role = 'arn:aws:iam::553371509391:role/magicml-sagemaker'\n",
    "image_uri = '763104351884.dkr.ecr.us-east-1.amazonaws.com/tensorflow-training:2.3.1-cpu-py37-ubuntu18.04'\n",
    "\n",
    "model_bucket = 'magicml-models.dev'\n",
    "model_prefix = 'use-large'\n",
    "model_data = 's3://{}/{}/model.tar.gz'.format(model_bucket, model_prefix)\n",
    "\n",
    "input_bucket = 'magicml-clean-data.dev'\n",
    "input_prefix = 'cards'\n",
    "input_data = 's3://{}/{}/cards.csv'.format(input_bucket, input_prefix)\n",
    "\n",
    "src_bucket = 'magicml-src.dev'\n",
    "src_prefix = 'sm_processing'\n",
    "src_code = 's3://{}/{}/process_embeddings.py'.format(src_bucket, src_prefix)\n",
    "\n",
    "output_bucket = 'magicml-inference.dev'\n",
    "output_prefix = 'use-large'\n",
    "output_data = 's3://{}/{}'.format(output_bucket, output_prefix)"
   ]
  },
  {
   "cell_type": "code",
   "execution_count": 18,
   "metadata": {},
   "outputs": [],
   "source": [
    "s3.upload_file('../services/similarity/src/process_embeddings.py', 'magicml-src.dev', 'sm_processing/process_embeddings.py')"
   ]
  },
  {
   "cell_type": "code",
   "execution_count": 24,
   "metadata": {},
   "outputs": [],
   "source": [
    "import datetime"
   ]
  },
  {
   "cell_type": "code",
   "execution_count": 30,
   "metadata": {},
   "outputs": [
    {
     "output_type": "execute_result",
     "data": {
      "text/plain": [
       "'2020-25-12-01-48-25'"
      ]
     },
     "metadata": {},
     "execution_count": 30
    }
   ],
   "source": [
    "now = datetime.datetime.now().strftime(format='%Y-%d-%m-%H-%M-%S')\n",
    "now"
   ]
  },
  {
   "cell_type": "code",
   "execution_count": 31,
   "metadata": {},
   "outputs": [
    {
     "output_type": "execute_result",
     "data": {
      "text/plain": [
       "{'ProcessingJobArn': 'arn:aws:sagemaker:us-east-1:553371509391:processing-job/use-large-embeddings-2020-25-12-01-48-25',\n",
       " 'ResponseMetadata': {'RequestId': 'd6479411-03f0-4e78-b0ff-b5575e855867',\n",
       "  'HTTPStatusCode': 200,\n",
       "  'HTTPHeaders': {'x-amzn-requestid': 'd6479411-03f0-4e78-b0ff-b5575e855867',\n",
       "   'content-type': 'application/x-amz-json-1.1',\n",
       "   'content-length': '119',\n",
       "   'date': 'Fri, 25 Dec 2020 06:48:13 GMT'},\n",
       "  'RetryAttempts': 0}}"
      ]
     },
     "metadata": {},
     "execution_count": 31
    }
   ],
   "source": [
    "sm_client.create_processing_job(\n",
    "    ProcessingJobName='use-large-embeddings-{}'.format(now),\n",
    "    RoleArn=role,\n",
    "    StoppingCondition={\n",
    "        'MaxRuntimeInSeconds': 7200\n",
    "    },\n",
    "    AppSpecification={\n",
    "        'ImageUri': image_uri,\n",
    "        'ContainerEntrypoint': [\n",
    "            'python3',\n",
    "            '-v',\n",
    "            '/opt/ml/processing/input/code/process_embeddings.py'\n",
    "        ]\n",
    "    },\n",
    "    ProcessingResources={\n",
    "        'ClusterConfig': {\n",
    "            'InstanceCount': 1,\n",
    "            'InstanceType': 'ml.m5.2xlarge',\n",
    "            'VolumeSizeInGB': 30\n",
    "        }\n",
    "    },\n",
    "    ProcessingInputs=[\n",
    "        {\n",
    "            'InputName': 'model',\n",
    "            'S3Input': {\n",
    "                'S3Uri': model_data,\n",
    "                'LocalPath': '/opt/ml/processing/model',\n",
    "                'S3DataType': 'S3Prefix',\n",
    "                'S3InputMode': 'File',\n",
    "                'S3DataDistributionType': 'FullyReplicated'\n",
    "            }\n",
    "        },\n",
    "        {\n",
    "            'InputName': 'cards',\n",
    "            'S3Input': {\n",
    "                'S3Uri': input_data,\n",
    "                'LocalPath': '/opt/ml/processing/input',\n",
    "                'S3DataType': 'S3Prefix',\n",
    "                'S3InputMode': 'File',\n",
    "                'S3DataDistributionType': 'FullyReplicated',\n",
    "            }\n",
    "        },\n",
    "        {\n",
    "            'InputName': 'code',\n",
    "            'S3Input': {\n",
    "                'S3Uri': src_code,\n",
    "                'LocalPath': '/opt/ml/processing/input/code',\n",
    "                'S3DataType': 'S3Prefix',\n",
    "                'S3InputMode': 'File',\n",
    "                'S3DataDistributionType': 'FullyReplicated'\n",
    "            }\n",
    "        }\n",
    "    ],\n",
    "    ProcessingOutputConfig={\n",
    "        'Outputs': [\n",
    "            {\n",
    "                'OutputName': 'embeddings',\n",
    "                'S3Output': {\n",
    "                    'S3Uri': output_data,\n",
    "                    'LocalPath': '/opt/ml/processing/output',\n",
    "                    'S3UploadMode': 'EndOfJob'\n",
    "                }\n",
    "            }\n",
    "        ]\n",
    "    }\n",
    ")"
   ]
  },
  {
   "source": [
    "# Stage in Lambda - Sort, Merge, and Save in EFS"
   ],
   "cell_type": "markdown",
   "metadata": {}
  },
  {
   "cell_type": "code",
   "execution_count": 9,
   "metadata": {},
   "outputs": [],
   "source": [
    "import pandas as pd"
   ]
  },
  {
   "cell_type": "code",
   "execution_count": 35,
   "metadata": {},
   "outputs": [],
   "source": [
    "s3.download_file('magicml-inference.dev', 'use-large/arena_embeddings.csv', 'embeddings.csv')"
   ]
  },
  {
   "cell_type": "code",
   "execution_count": 10,
   "metadata": {},
   "outputs": [
    {
     "output_type": "stream",
     "name": "stdout",
     "text": [
      "(5419, 5420)\n"
     ]
    },
    {
     "output_type": "execute_result",
     "data": {
      "text/plain": [
       "                        Names  Archon_of_Sun's_Grace-AJMP  \\\n",
       "0  Archon_of_Sun's_Grace-AJMP                    1.000000   \n",
       "1        Audacious_Thief-AJMP                    0.388027   \n",
       "2        Banishing_Light-AJMP                    0.540133   \n",
       "\n",
       "   Audacious_Thief-AJMP  Banishing_Light-AJMP  Bond_of_Revival-AJMP  \\\n",
       "0              0.388027              0.540133              0.626441   \n",
       "1              1.000000              0.364457              0.447599   \n",
       "2              0.364457              1.000000              0.583114   \n",
       "\n",
       "   Carnifex_Demon-AJMP  Doomed_Necromancer-AJMP  Dryad_Greenseeker-AJMP  \\\n",
       "0             0.514713                 0.497357                0.414993   \n",
       "1             0.297466                 0.377156                0.339213   \n",
       "2             0.458850                 0.504666                0.293982   \n",
       "\n",
       "   Fanatic_of_Mogis-AJMP  Gadwick,_the_Wizened-AJMP  ...  \\\n",
       "0               0.587006                   0.667408  ...   \n",
       "1               0.379261                   0.452389  ...   \n",
       "2               0.581624                   0.707415  ...   \n",
       "\n",
       "   Veteran_Adventurer-ZNR  Vine_Gecko-ZNR  Wayward_Guide-Beast-ZNR  \\\n",
       "0                0.372712        0.545192                 0.698247   \n",
       "1                0.386959        0.421869                 0.409473   \n",
       "2                0.250604        0.421688                 0.535110   \n",
       "\n",
       "   Windrider_Wizard-ZNR  Yasharn,_Implacable_Earth-ZNR  \\\n",
       "0              0.554204                       0.654834   \n",
       "1              0.473218                       0.464308   \n",
       "2              0.520927                       0.534659   \n",
       "\n",
       "   Zagras,_Thief_of_Heartbeats-ZNR  Zareth_San,_the_Trickster-ZNR  \\\n",
       "0                         0.693039                       0.552945   \n",
       "1                         0.392080                       0.448119   \n",
       "2                         0.525378                       0.570414   \n",
       "\n",
       "   Zof_Consumption_II_Zof_Bloodbog-ZNR  Zof_Consumption_II_Zof_Bloodbog-ZNR.1  \\\n",
       "0                             0.199106                               0.365390   \n",
       "1                             0.156082                               0.608094   \n",
       "2                             0.242288                               0.342716   \n",
       "\n",
       "   Zulaport_Duelist-ZNR  \n",
       "0              0.576490  \n",
       "1              0.399204  \n",
       "2              0.529742  \n",
       "\n",
       "[3 rows x 5420 columns]"
      ],
      "text/html": "<div>\n<style scoped>\n    .dataframe tbody tr th:only-of-type {\n        vertical-align: middle;\n    }\n\n    .dataframe tbody tr th {\n        vertical-align: top;\n    }\n\n    .dataframe thead th {\n        text-align: right;\n    }\n</style>\n<table border=\"1\" class=\"dataframe\">\n  <thead>\n    <tr style=\"text-align: right;\">\n      <th></th>\n      <th>Names</th>\n      <th>Archon_of_Sun's_Grace-AJMP</th>\n      <th>Audacious_Thief-AJMP</th>\n      <th>Banishing_Light-AJMP</th>\n      <th>Bond_of_Revival-AJMP</th>\n      <th>Carnifex_Demon-AJMP</th>\n      <th>Doomed_Necromancer-AJMP</th>\n      <th>Dryad_Greenseeker-AJMP</th>\n      <th>Fanatic_of_Mogis-AJMP</th>\n      <th>Gadwick,_the_Wizened-AJMP</th>\n      <th>...</th>\n      <th>Veteran_Adventurer-ZNR</th>\n      <th>Vine_Gecko-ZNR</th>\n      <th>Wayward_Guide-Beast-ZNR</th>\n      <th>Windrider_Wizard-ZNR</th>\n      <th>Yasharn,_Implacable_Earth-ZNR</th>\n      <th>Zagras,_Thief_of_Heartbeats-ZNR</th>\n      <th>Zareth_San,_the_Trickster-ZNR</th>\n      <th>Zof_Consumption_II_Zof_Bloodbog-ZNR</th>\n      <th>Zof_Consumption_II_Zof_Bloodbog-ZNR.1</th>\n      <th>Zulaport_Duelist-ZNR</th>\n    </tr>\n  </thead>\n  <tbody>\n    <tr>\n      <th>0</th>\n      <td>Archon_of_Sun's_Grace-AJMP</td>\n      <td>1.000000</td>\n      <td>0.388027</td>\n      <td>0.540133</td>\n      <td>0.626441</td>\n      <td>0.514713</td>\n      <td>0.497357</td>\n      <td>0.414993</td>\n      <td>0.587006</td>\n      <td>0.667408</td>\n      <td>...</td>\n      <td>0.372712</td>\n      <td>0.545192</td>\n      <td>0.698247</td>\n      <td>0.554204</td>\n      <td>0.654834</td>\n      <td>0.693039</td>\n      <td>0.552945</td>\n      <td>0.199106</td>\n      <td>0.365390</td>\n      <td>0.576490</td>\n    </tr>\n    <tr>\n      <th>1</th>\n      <td>Audacious_Thief-AJMP</td>\n      <td>0.388027</td>\n      <td>1.000000</td>\n      <td>0.364457</td>\n      <td>0.447599</td>\n      <td>0.297466</td>\n      <td>0.377156</td>\n      <td>0.339213</td>\n      <td>0.379261</td>\n      <td>0.452389</td>\n      <td>...</td>\n      <td>0.386959</td>\n      <td>0.421869</td>\n      <td>0.409473</td>\n      <td>0.473218</td>\n      <td>0.464308</td>\n      <td>0.392080</td>\n      <td>0.448119</td>\n      <td>0.156082</td>\n      <td>0.608094</td>\n      <td>0.399204</td>\n    </tr>\n    <tr>\n      <th>2</th>\n      <td>Banishing_Light-AJMP</td>\n      <td>0.540133</td>\n      <td>0.364457</td>\n      <td>1.000000</td>\n      <td>0.583114</td>\n      <td>0.458850</td>\n      <td>0.504666</td>\n      <td>0.293982</td>\n      <td>0.581624</td>\n      <td>0.707415</td>\n      <td>...</td>\n      <td>0.250604</td>\n      <td>0.421688</td>\n      <td>0.535110</td>\n      <td>0.520927</td>\n      <td>0.534659</td>\n      <td>0.525378</td>\n      <td>0.570414</td>\n      <td>0.242288</td>\n      <td>0.342716</td>\n      <td>0.529742</td>\n    </tr>\n  </tbody>\n</table>\n<p>3 rows × 5420 columns</p>\n</div>"
     },
     "metadata": {},
     "execution_count": 10
    }
   ],
   "source": [
    "pred_df = pd.read_csv('embeddings.csv')\\\n",
    "    .rename(columns={'Unnamed: 0': 'Names'})\n",
    "\n",
    "print(pred_df.shape)\n",
    "pred_df.head(3)"
   ]
  },
  {
   "cell_type": "code",
   "execution_count": 11,
   "metadata": {},
   "outputs": [],
   "source": [
    "all_cards = pred_df.columns\n",
    "\n",
    "BATCH_SIZE = 100\n",
    "batches = [list(all_cards[n:n+BATCH_SIZE]) for n in range(1, len(all_cards), BATCH_SIZE)]"
   ]
  },
  {
   "cell_type": "code",
   "execution_count": 16,
   "metadata": {},
   "outputs": [
    {
     "output_type": "execute_result",
     "data": {
      "text/plain": [
       "[\"Archon_of_Sun's_Grace-AJMP\",\n",
       " 'Audacious_Thief-AJMP',\n",
       " 'Banishing_Light-AJMP',\n",
       " 'Bond_of_Revival-AJMP',\n",
       " 'Carnifex_Demon-AJMP',\n",
       " 'Doomed_Necromancer-AJMP',\n",
       " 'Dryad_Greenseeker-AJMP',\n",
       " 'Fanatic_of_Mogis-AJMP',\n",
       " 'Gadwick,_the_Wizened-AJMP',\n",
       " 'Goblin_Oriflamme-AJMP',\n",
       " 'Lightning_Serpent-AJMP',\n",
       " 'Lightning_Strike-AJMP',\n",
       " 'Pollenbright_Druid-AJMP',\n",
       " 'Prey_Upon-AJMP',\n",
       " 'Scorching_Dragonfire-AJMP',\n",
       " \"Serra's_Guardian-AJMP\",\n",
       " 'Weight_of_Memory-AJMP',\n",
       " 'Woe_Strider-AJMP',\n",
       " 'Abandoned_Sarcophagus-AKR',\n",
       " 'Abrade-AKR',\n",
       " 'Aerial_Guide-AKR',\n",
       " 'Ahn-Crop_Champion-AKR',\n",
       " 'Ahn-Crop_Crasher-AKR',\n",
       " 'Ancient_Crab-AKR',\n",
       " 'Angel_of_Sanctions-AKR',\n",
       " 'Anger_of_the_Gods-AKR',\n",
       " 'Anointed_Procession-AKR',\n",
       " 'Anointer_Priest-AKR',\n",
       " 'Appeal_II_Authority-AKR',\n",
       " 'Appeal_II_Authority-AKR.1',\n",
       " 'Approach_of_the_Second_Sun-AKR',\n",
       " 'Archfiend_of_Ifnir-AKR',\n",
       " 'As_Foretold-AKR',\n",
       " 'Aven_Initiate-AKR',\n",
       " 'Aven_Mindcensor-AKR',\n",
       " 'Aven_Wind_Guide-AKR',\n",
       " 'Aven_of_Enduring_Hope-AKR',\n",
       " 'Baleful_Ammit-AKR',\n",
       " 'Battlefield_Scavenger-AKR',\n",
       " 'Beneath_the_Sands-AKR',\n",
       " 'Binding_Mummy-AKR',\n",
       " 'Bitterbow_Sharpshooters-AKR',\n",
       " 'Blighted_Bat-AKR',\n",
       " 'Bloodlust_Inciter-AKR',\n",
       " 'Blur_of_Blades-AKR',\n",
       " 'Bone_Picker-AKR',\n",
       " 'Bontu_the_Glorified-AKR',\n",
       " \"Bontu's_Last_Reckoning-AKR\",\n",
       " \"Bontu's_Monument-AKR\",\n",
       " 'Brute_Strength-AKR',\n",
       " 'Burning-Fist_Minotaur-AKR',\n",
       " 'By_Force-AKR',\n",
       " 'Canyon_Slough-AKR',\n",
       " 'Cartouche_of_Ambition-AKR',\n",
       " 'Cartouche_of_Knowledge-AKR',\n",
       " 'Cartouche_of_Solidarity-AKR',\n",
       " 'Cartouche_of_Strength-AKR',\n",
       " 'Cartouche_of_Zeal-AKR',\n",
       " 'Cascading_Cataracts-AKR',\n",
       " 'Cast_Out-AKR',\n",
       " 'Censor-AKR',\n",
       " 'Champion_of_Rhonas-AKR',\n",
       " 'Champion_of_Wits-AKR',\n",
       " \"Chandra's_Defeat-AKR\",\n",
       " 'Chandra,_Pyromaster-AKR',\n",
       " 'Claim_II_Fame-AKR',\n",
       " 'Claim_II_Fame-AKR.1',\n",
       " 'Collected_Company-AKR',\n",
       " 'Combat_Celebrant-AKR',\n",
       " 'Commit_II_Memory-AKR',\n",
       " 'Commit_II_Memory-AKR.1',\n",
       " 'Compelling_Argument-AKR',\n",
       " 'Compulsory_Rest-AKR',\n",
       " 'Consign_II_Oblivion-AKR',\n",
       " 'Consign_II_Oblivion-AKR.1',\n",
       " 'Countervailing_Winds-AKR',\n",
       " 'Crash_Through-AKR',\n",
       " 'Crested_Sunmare-AKR',\n",
       " 'Crocodile_of_the_Crossing-AKR',\n",
       " 'Cruel_Reality-AKR',\n",
       " 'Crypt_of_the_Eternals-AKR',\n",
       " 'Cryptic_Serpent-AKR',\n",
       " 'Curator_of_Mysteries-AKR',\n",
       " 'Cut_II_Ribbons-AKR',\n",
       " 'Cut_II_Ribbons-AKR.1',\n",
       " 'Dauntless_Aven-AKR',\n",
       " 'Deem_Worthy-AKR',\n",
       " 'Defiant_Greatmaw-AKR',\n",
       " 'Demonic_Pact-AKR',\n",
       " 'Desert_Cerodon-AKR',\n",
       " 'Desert_of_the_Fervent-AKR',\n",
       " 'Desert_of_the_Glorified-AKR',\n",
       " 'Desert_of_the_Indomitable-AKR',\n",
       " 'Desert_of_the_Mindful-AKR',\n",
       " 'Desert_of_the_True-AKR',\n",
       " \"Desert's_Hold-AKR\",\n",
       " 'Destined_II_Lead-AKR',\n",
       " 'Destined_II_Lead-AKR.1',\n",
       " 'Disposal_Mummy-AKR',\n",
       " 'Dispossess-AKR']"
      ]
     },
     "metadata": {},
     "execution_count": 16
    }
   ],
   "source": [
    "batches[0]"
   ]
  },
  {
   "cell_type": "code",
   "execution_count": null,
   "metadata": {},
   "outputs": [],
   "source": []
  },
  {
   "cell_type": "code",
   "execution_count": 100,
   "metadata": {},
   "outputs": [],
   "source": [
    "merge_cols = [\n",
    "    'Names','id','mtgArenaId','scryfallId','name','colors','setName',\n",
    "    'convertedManaCost','manaCost','loyalty','power','toughness',\n",
    "    'type','types','subtypes','text',\n",
    "    'brawl','commander','duel','future','historic','legacy','modern',\n",
    "    'oldschool','pauper','penny','pioneer','standard','vintage'\n",
    "]"
   ]
  },
  {
   "cell_type": "code",
   "execution_count": 183,
   "metadata": {},
   "outputs": [
    {
     "output_type": "stream",
     "name": "stdout",
     "text": [
      "(5419, 29)\n"
     ]
    },
    {
     "output_type": "execute_result",
     "data": {
      "text/plain": [
       "                           Names    id  mtgArenaId  \\\n",
       "4753  Archon_of_Sun's_Grace-AJMP  4754     74983.0   \n",
       "4754        Audacious_Thief-AJMP  4755     74991.0   \n",
       "4755        Banishing_Light-AJMP  4756     74986.0   \n",
       "\n",
       "                                scryfallId                   name colors  \\\n",
       "4753  94f05268-0d4f-4638-aec3-a85fc339e3a7  Archon of Sun's Grace      W   \n",
       "4754  ba315deb-d5a9-4013-b6ef-e4efe652e569        Audacious Thief      B   \n",
       "4755  ca112bae-6ac5-4cdf-9e8c-1b99f7396995        Banishing Light      W   \n",
       "\n",
       "                         setName  convertedManaCost   manaCost loyalty  ...  \\\n",
       "4753  Jumpstart Arena Exclusives                4.0  {2}{W}{W}       0  ...   \n",
       "4754  Jumpstart Arena Exclusives                3.0     {2}{B}       0  ...   \n",
       "4755  Jumpstart Arena Exclusives                3.0     {2}{W}       0  ...   \n",
       "\n",
       "     future historic legacy modern oldschool pauper  penny pioneer standard  \\\n",
       "4753  Legal    Legal  Legal  Legal     Blank  Blank  Blank   Legal    Legal   \n",
       "4754  Blank    Legal  Legal  Legal     Blank  Legal  Blank   Legal    Blank   \n",
       "4755  Legal    Legal  Legal  Legal     Blank  Blank  Legal   Legal    Legal   \n",
       "\n",
       "     vintage  \n",
       "4753   Legal  \n",
       "4754   Legal  \n",
       "4755   Legal  \n",
       "\n",
       "[3 rows x 29 columns]"
      ],
      "text/html": "<div>\n<style scoped>\n    .dataframe tbody tr th:only-of-type {\n        vertical-align: middle;\n    }\n\n    .dataframe tbody tr th {\n        vertical-align: top;\n    }\n\n    .dataframe thead th {\n        text-align: right;\n    }\n</style>\n<table border=\"1\" class=\"dataframe\">\n  <thead>\n    <tr style=\"text-align: right;\">\n      <th></th>\n      <th>Names</th>\n      <th>id</th>\n      <th>mtgArenaId</th>\n      <th>scryfallId</th>\n      <th>name</th>\n      <th>colors</th>\n      <th>setName</th>\n      <th>convertedManaCost</th>\n      <th>manaCost</th>\n      <th>loyalty</th>\n      <th>...</th>\n      <th>future</th>\n      <th>historic</th>\n      <th>legacy</th>\n      <th>modern</th>\n      <th>oldschool</th>\n      <th>pauper</th>\n      <th>penny</th>\n      <th>pioneer</th>\n      <th>standard</th>\n      <th>vintage</th>\n    </tr>\n  </thead>\n  <tbody>\n    <tr>\n      <th>4753</th>\n      <td>Archon_of_Sun's_Grace-AJMP</td>\n      <td>4754</td>\n      <td>74983.0</td>\n      <td>94f05268-0d4f-4638-aec3-a85fc339e3a7</td>\n      <td>Archon of Sun's Grace</td>\n      <td>W</td>\n      <td>Jumpstart Arena Exclusives</td>\n      <td>4.0</td>\n      <td>{2}{W}{W}</td>\n      <td>0</td>\n      <td>...</td>\n      <td>Legal</td>\n      <td>Legal</td>\n      <td>Legal</td>\n      <td>Legal</td>\n      <td>Blank</td>\n      <td>Blank</td>\n      <td>Blank</td>\n      <td>Legal</td>\n      <td>Legal</td>\n      <td>Legal</td>\n    </tr>\n    <tr>\n      <th>4754</th>\n      <td>Audacious_Thief-AJMP</td>\n      <td>4755</td>\n      <td>74991.0</td>\n      <td>ba315deb-d5a9-4013-b6ef-e4efe652e569</td>\n      <td>Audacious Thief</td>\n      <td>B</td>\n      <td>Jumpstart Arena Exclusives</td>\n      <td>3.0</td>\n      <td>{2}{B}</td>\n      <td>0</td>\n      <td>...</td>\n      <td>Blank</td>\n      <td>Legal</td>\n      <td>Legal</td>\n      <td>Legal</td>\n      <td>Blank</td>\n      <td>Legal</td>\n      <td>Blank</td>\n      <td>Legal</td>\n      <td>Blank</td>\n      <td>Legal</td>\n    </tr>\n    <tr>\n      <th>4755</th>\n      <td>Banishing_Light-AJMP</td>\n      <td>4756</td>\n      <td>74986.0</td>\n      <td>ca112bae-6ac5-4cdf-9e8c-1b99f7396995</td>\n      <td>Banishing Light</td>\n      <td>W</td>\n      <td>Jumpstart Arena Exclusives</td>\n      <td>3.0</td>\n      <td>{2}{W}</td>\n      <td>0</td>\n      <td>...</td>\n      <td>Legal</td>\n      <td>Legal</td>\n      <td>Legal</td>\n      <td>Legal</td>\n      <td>Blank</td>\n      <td>Blank</td>\n      <td>Legal</td>\n      <td>Legal</td>\n      <td>Legal</td>\n      <td>Legal</td>\n    </tr>\n  </tbody>\n</table>\n<p>3 rows × 29 columns</p>\n</div>"
     },
     "metadata": {},
     "execution_count": 183
    }
   ],
   "source": [
    "cards_df = pd.read_csv('cards.csv')\\\n",
    "    .query('mtgArenaId.notnull()')\\\n",
    "    .assign(Names=lambda df: df.name + '-' + df.setCode)\\\n",
    "    .assign(Names=lambda df: df.Names.apply(lambda x: x.replace(' ', '_')))\\\n",
    "    .fillna('0')\\\n",
    "    [merge_cols]\n",
    "\n",
    "print(cards_df.shape)\n",
    "cards_df.head(3)"
   ]
  },
  {
   "cell_type": "code",
   "execution_count": 184,
   "metadata": {},
   "outputs": [
    {
     "output_type": "execute_result",
     "data": {
      "text/plain": [
       "'Banishing_Light-AJMP'"
      ]
     },
     "metadata": {},
     "execution_count": 184
    }
   ],
   "source": [
    "card = pred_df.columns[3]\n",
    "card"
   ]
  },
  {
   "cell_type": "code",
   "execution_count": 185,
   "metadata": {},
   "outputs": [
    {
     "output_type": "stream",
     "name": "stdout",
     "text": [
      "Banishing_Light-AJMP\n"
     ]
    },
    {
     "output_type": "execute_result",
     "data": {
      "text/plain": [
       "                     Names similarity     id  mtgArenaId  \\\n",
       "5812   Banishing_Light-THB        1.0  49136       70515   \n",
       "2     Banishing_Light-AJMP        1.0   4756       74986   \n",
       "\n",
       "                                scryfallId             name colors  \\\n",
       "5812  a1ddd113-140f-49c9-b45c-cf1b0d1dffd8  Banishing Light      W   \n",
       "2     ca112bae-6ac5-4cdf-9e8c-1b99f7396995  Banishing Light      W   \n",
       "\n",
       "                         setName convertedManaCost manaCost  ... future  \\\n",
       "5812         Theros Beyond Death               3.0   {2}{W}  ...  Legal   \n",
       "2     Jumpstart Arena Exclusives               3.0   {2}{W}  ...  Legal   \n",
       "\n",
       "     historic legacy modern oldschool pauper  penny pioneer standard vintage  \n",
       "5812    Legal  Legal  Legal     Blank  Blank  Legal   Legal    Legal   Legal  \n",
       "2       Legal  Legal  Legal     Blank  Blank  Legal   Legal    Legal   Legal  \n",
       "\n",
       "[2 rows x 30 columns]"
      ],
      "text/html": "<div>\n<style scoped>\n    .dataframe tbody tr th:only-of-type {\n        vertical-align: middle;\n    }\n\n    .dataframe tbody tr th {\n        vertical-align: top;\n    }\n\n    .dataframe thead th {\n        text-align: right;\n    }\n</style>\n<table border=\"1\" class=\"dataframe\">\n  <thead>\n    <tr style=\"text-align: right;\">\n      <th></th>\n      <th>Names</th>\n      <th>similarity</th>\n      <th>id</th>\n      <th>mtgArenaId</th>\n      <th>scryfallId</th>\n      <th>name</th>\n      <th>colors</th>\n      <th>setName</th>\n      <th>convertedManaCost</th>\n      <th>manaCost</th>\n      <th>...</th>\n      <th>future</th>\n      <th>historic</th>\n      <th>legacy</th>\n      <th>modern</th>\n      <th>oldschool</th>\n      <th>pauper</th>\n      <th>penny</th>\n      <th>pioneer</th>\n      <th>standard</th>\n      <th>vintage</th>\n    </tr>\n  </thead>\n  <tbody>\n    <tr>\n      <th>5812</th>\n      <td>Banishing_Light-THB</td>\n      <td>1.0</td>\n      <td>49136</td>\n      <td>70515</td>\n      <td>a1ddd113-140f-49c9-b45c-cf1b0d1dffd8</td>\n      <td>Banishing Light</td>\n      <td>W</td>\n      <td>Theros Beyond Death</td>\n      <td>3.0</td>\n      <td>{2}{W}</td>\n      <td>...</td>\n      <td>Legal</td>\n      <td>Legal</td>\n      <td>Legal</td>\n      <td>Legal</td>\n      <td>Blank</td>\n      <td>Blank</td>\n      <td>Legal</td>\n      <td>Legal</td>\n      <td>Legal</td>\n      <td>Legal</td>\n    </tr>\n    <tr>\n      <th>2</th>\n      <td>Banishing_Light-AJMP</td>\n      <td>1.0</td>\n      <td>4756</td>\n      <td>74986</td>\n      <td>ca112bae-6ac5-4cdf-9e8c-1b99f7396995</td>\n      <td>Banishing Light</td>\n      <td>W</td>\n      <td>Jumpstart Arena Exclusives</td>\n      <td>3.0</td>\n      <td>{2}{W}</td>\n      <td>...</td>\n      <td>Legal</td>\n      <td>Legal</td>\n      <td>Legal</td>\n      <td>Legal</td>\n      <td>Blank</td>\n      <td>Blank</td>\n      <td>Legal</td>\n      <td>Legal</td>\n      <td>Legal</td>\n      <td>Legal</td>\n    </tr>\n  </tbody>\n</table>\n<p>2 rows × 30 columns</p>\n</div>"
     },
     "metadata": {},
     "execution_count": 185
    }
   ],
   "source": [
    "staged_card = pred_df[['Names', card]]\\\n",
    "    .merge(cards_df, how='left', on='Names')\\\n",
    "    .sort_values(by=card, ascending=False)\\\n",
    "    .head(10)\\\n",
    "    .rename(columns={card: 'similarity'})\\\n",
    "    .assign(similarity=lambda df: df.similarity.astype('str'))\\\n",
    "    .assign(id=lambda df: df.id.astype('int'))\\\n",
    "    .assign(mtgArenaId=lambda df: df.mtgArenaId.astype('int'))\\\n",
    "    .assign(loyalty=lambda df: df.loyalty.astype('str'))\\\n",
    "    .assign(power=lambda df: df.power.astype('str'))\\\n",
    "    .assign(toughness=lambda df: df.toughness.astype('str'))\\\n",
    "    .assign(convertedManaCost=lambda df: df.convertedManaCost.astype('str'))\n",
    "\n",
    "print(card)\n",
    "staged_card.head(2)"
   ]
  },
  {
   "cell_type": "code",
   "execution_count": 190,
   "metadata": {},
   "outputs": [],
   "source": [
    "staged_card_dict = staged_card.to_dict(orient='records')\n",
    "Item = staged_card_dict[0]\n",
    "Item['similarities'] = json.dumps(staged_card_dict[1:])"
   ]
  },
  {
   "cell_type": "code",
   "execution_count": 191,
   "metadata": {},
   "outputs": [],
   "source": [
    "dynamodb = boto_sess.resource('dynamodb')\n",
    "dynamo_client = boto_sess.client('dynamodb')\n",
    "\n",
    "table = dynamodb.Table(SIMILARITY_TABLE)"
   ]
  },
  {
   "cell_type": "code",
   "execution_count": 192,
   "metadata": {},
   "outputs": [
    {
     "output_type": "execute_result",
     "data": {
      "text/plain": [
       "                                 scryfallId                             name\n",
       "55936  ac81448c-f87b-4ca1-b951-b359216ab1d0      Zagras, Thief of Heartbeats\n",
       "55938  9cfe4fbe-277f-410c-9eee-f7617f4cb850        Zareth San, the Trickster\n",
       "55940  98496d5b-1519-4f0c-8b46-0a43be643dfb  Zof Consumption // Zof Bloodbog\n",
       "55941  98496d5b-1519-4f0c-8b46-0a43be643dfb  Zof Consumption // Zof Bloodbog\n",
       "55942  0b4c7268-60c6-4038-8ce9-d9d51bed4577                 Zulaport Duelist"
      ],
      "text/html": "<div>\n<style scoped>\n    .dataframe tbody tr th:only-of-type {\n        vertical-align: middle;\n    }\n\n    .dataframe tbody tr th {\n        vertical-align: top;\n    }\n\n    .dataframe thead th {\n        text-align: right;\n    }\n</style>\n<table border=\"1\" class=\"dataframe\">\n  <thead>\n    <tr style=\"text-align: right;\">\n      <th></th>\n      <th>scryfallId</th>\n      <th>name</th>\n    </tr>\n  </thead>\n  <tbody>\n    <tr>\n      <th>55936</th>\n      <td>ac81448c-f87b-4ca1-b951-b359216ab1d0</td>\n      <td>Zagras, Thief of Heartbeats</td>\n    </tr>\n    <tr>\n      <th>55938</th>\n      <td>9cfe4fbe-277f-410c-9eee-f7617f4cb850</td>\n      <td>Zareth San, the Trickster</td>\n    </tr>\n    <tr>\n      <th>55940</th>\n      <td>98496d5b-1519-4f0c-8b46-0a43be643dfb</td>\n      <td>Zof Consumption // Zof Bloodbog</td>\n    </tr>\n    <tr>\n      <th>55941</th>\n      <td>98496d5b-1519-4f0c-8b46-0a43be643dfb</td>\n      <td>Zof Consumption // Zof Bloodbog</td>\n    </tr>\n    <tr>\n      <th>55942</th>\n      <td>0b4c7268-60c6-4038-8ce9-d9d51bed4577</td>\n      <td>Zulaport Duelist</td>\n    </tr>\n  </tbody>\n</table>\n</div>"
     },
     "metadata": {},
     "execution_count": 192
    }
   ],
   "source": [
    "cards_df[['scryfallId','name']].tail(5)"
   ]
  },
  {
   "source": [
    "## Get card item from Dyanmo"
   ],
   "cell_type": "markdown",
   "metadata": {}
  },
  {
   "cell_type": "code",
   "execution_count": 33,
   "metadata": {},
   "outputs": [],
   "source": [
    "import os\n",
    "import json\n",
    "import boto3\n",
    "from boto3.dynamodb.conditions import Key"
   ]
  },
  {
   "cell_type": "code",
   "execution_count": 20,
   "metadata": {},
   "outputs": [],
   "source": [
    "SIMILARITY_TABLE = 'similarity-dev'"
   ]
  },
  {
   "cell_type": "code",
   "execution_count": 21,
   "metadata": {},
   "outputs": [],
   "source": [
    "boto_sess = boto3.Session(profile_name='lw2134')\n",
    "dynamodb = boto_sess.resource('dynamodb')\n",
    "table = dynamodb.Table(SIMILARITY_TABLE)"
   ]
  },
  {
   "cell_type": "code",
   "execution_count": 39,
   "metadata": {},
   "outputs": [],
   "source": [
    "# QUERY BY NAME\n",
    "card_item = table.query(\n",
    "    TableName=SIMILARITY_TABLE,\n",
    "    IndexName='name-index',\n",
    "    KeyConditionExpression=Key('name').eq('Zof Consumption // Zof Bloodbog')\n",
    ")"
   ]
  },
  {
   "cell_type": "code",
   "execution_count": 23,
   "metadata": {},
   "outputs": [],
   "source": [
    "# QUERY BY SCRYFALL ID\n",
    "card_item = table.get_item(\n",
    "    TableName='similarity-dev',\n",
    "    Key={'scryfallId': '0b4c7268-60c6-4038-8ce9-d9d51bed4577'}\n",
    ")"
   ]
  },
  {
   "cell_type": "code",
   "execution_count": 40,
   "metadata": {},
   "outputs": [
    {
     "output_type": "stream",
     "name": "stdout",
     "text": [
      "Zof Consumption // Zof Bloodbog\nEach opponent loses 4 life and you gain 4 life.\n"
     ]
    }
   ],
   "source": [
    "print(card_item['Items'][0]['name'])\n",
    "print(card_item['Items'][0]['text'])"
   ]
  },
  {
   "cell_type": "code",
   "execution_count": 36,
   "metadata": {},
   "outputs": [],
   "source": [
    "#json.loads(card_item['Items'][0]['similarities'])"
   ]
  },
  {
   "cell_type": "code",
   "execution_count": 41,
   "metadata": {},
   "outputs": [],
   "source": [
    "import requests"
   ]
  },
  {
   "cell_type": "code",
   "execution_count": 42,
   "metadata": {},
   "outputs": [],
   "source": [
    "query = {\n",
    "    'scryfallId': '0b4c7268-60c6-4038-8ce9-d9d51bed4577'\n",
    "}"
   ]
  },
  {
   "cell_type": "code",
   "execution_count": 44,
   "metadata": {},
   "outputs": [],
   "source": [
    "res = requests.post('http://localhost:3000/query', json=query)"
   ]
  },
  {
   "cell_type": "code",
   "execution_count": 48,
   "metadata": {},
   "outputs": [
    {
     "output_type": "error",
     "ename": "JSONDecodeError",
     "evalue": "Expecting value: line 1 column 1 (char 0)",
     "traceback": [
      "\u001b[1;31m---------------------------------------------------------------------------\u001b[0m",
      "\u001b[1;31mJSONDecodeError\u001b[0m                           Traceback (most recent call last)",
      "\u001b[1;32m<ipython-input-48-5990537c6b86>\u001b[0m in \u001b[0;36m<module>\u001b[1;34m\u001b[0m\n\u001b[1;32m----> 1\u001b[1;33m \u001b[0mres\u001b[0m\u001b[1;33m.\u001b[0m\u001b[0mjson\u001b[0m\u001b[1;33m(\u001b[0m\u001b[1;33m)\u001b[0m\u001b[1;33m\u001b[0m\u001b[1;33m\u001b[0m\u001b[0m\n\u001b[0m",
      "\u001b[1;32m~\\Anaconda3\\envs\\magicml\\lib\\site-packages\\requests\\models.py\u001b[0m in \u001b[0;36mjson\u001b[1;34m(self, **kwargs)\u001b[0m\n\u001b[0;32m    898\u001b[0m                     \u001b[1;31m# used.\u001b[0m\u001b[1;33m\u001b[0m\u001b[1;33m\u001b[0m\u001b[1;33m\u001b[0m\u001b[0m\n\u001b[0;32m    899\u001b[0m                     \u001b[1;32mpass\u001b[0m\u001b[1;33m\u001b[0m\u001b[1;33m\u001b[0m\u001b[0m\n\u001b[1;32m--> 900\u001b[1;33m         \u001b[1;32mreturn\u001b[0m \u001b[0mcomplexjson\u001b[0m\u001b[1;33m.\u001b[0m\u001b[0mloads\u001b[0m\u001b[1;33m(\u001b[0m\u001b[0mself\u001b[0m\u001b[1;33m.\u001b[0m\u001b[0mtext\u001b[0m\u001b[1;33m,\u001b[0m \u001b[1;33m**\u001b[0m\u001b[0mkwargs\u001b[0m\u001b[1;33m)\u001b[0m\u001b[1;33m\u001b[0m\u001b[1;33m\u001b[0m\u001b[0m\n\u001b[0m\u001b[0;32m    901\u001b[0m \u001b[1;33m\u001b[0m\u001b[0m\n\u001b[0;32m    902\u001b[0m     \u001b[1;33m@\u001b[0m\u001b[0mproperty\u001b[0m\u001b[1;33m\u001b[0m\u001b[1;33m\u001b[0m\u001b[0m\n",
      "\u001b[1;32m~\\Anaconda3\\envs\\magicml\\lib\\json\\__init__.py\u001b[0m in \u001b[0;36mloads\u001b[1;34m(s, encoding, cls, object_hook, parse_float, parse_int, parse_constant, object_pairs_hook, **kw)\u001b[0m\n\u001b[0;32m    346\u001b[0m             \u001b[0mparse_int\u001b[0m \u001b[1;32mis\u001b[0m \u001b[1;32mNone\u001b[0m \u001b[1;32mand\u001b[0m \u001b[0mparse_float\u001b[0m \u001b[1;32mis\u001b[0m \u001b[1;32mNone\u001b[0m \u001b[1;32mand\u001b[0m\u001b[1;33m\u001b[0m\u001b[1;33m\u001b[0m\u001b[0m\n\u001b[0;32m    347\u001b[0m             parse_constant is None and object_pairs_hook is None and not kw):\n\u001b[1;32m--> 348\u001b[1;33m         \u001b[1;32mreturn\u001b[0m \u001b[0m_default_decoder\u001b[0m\u001b[1;33m.\u001b[0m\u001b[0mdecode\u001b[0m\u001b[1;33m(\u001b[0m\u001b[0ms\u001b[0m\u001b[1;33m)\u001b[0m\u001b[1;33m\u001b[0m\u001b[1;33m\u001b[0m\u001b[0m\n\u001b[0m\u001b[0;32m    349\u001b[0m     \u001b[1;32mif\u001b[0m \u001b[0mcls\u001b[0m \u001b[1;32mis\u001b[0m \u001b[1;32mNone\u001b[0m\u001b[1;33m:\u001b[0m\u001b[1;33m\u001b[0m\u001b[1;33m\u001b[0m\u001b[0m\n\u001b[0;32m    350\u001b[0m         \u001b[0mcls\u001b[0m \u001b[1;33m=\u001b[0m \u001b[0mJSONDecoder\u001b[0m\u001b[1;33m\u001b[0m\u001b[1;33m\u001b[0m\u001b[0m\n",
      "\u001b[1;32m~\\Anaconda3\\envs\\magicml\\lib\\json\\decoder.py\u001b[0m in \u001b[0;36mdecode\u001b[1;34m(self, s, _w)\u001b[0m\n\u001b[0;32m    335\u001b[0m \u001b[1;33m\u001b[0m\u001b[0m\n\u001b[0;32m    336\u001b[0m         \"\"\"\n\u001b[1;32m--> 337\u001b[1;33m         \u001b[0mobj\u001b[0m\u001b[1;33m,\u001b[0m \u001b[0mend\u001b[0m \u001b[1;33m=\u001b[0m \u001b[0mself\u001b[0m\u001b[1;33m.\u001b[0m\u001b[0mraw_decode\u001b[0m\u001b[1;33m(\u001b[0m\u001b[0ms\u001b[0m\u001b[1;33m,\u001b[0m \u001b[0midx\u001b[0m\u001b[1;33m=\u001b[0m\u001b[0m_w\u001b[0m\u001b[1;33m(\u001b[0m\u001b[0ms\u001b[0m\u001b[1;33m,\u001b[0m \u001b[1;36m0\u001b[0m\u001b[1;33m)\u001b[0m\u001b[1;33m.\u001b[0m\u001b[0mend\u001b[0m\u001b[1;33m(\u001b[0m\u001b[1;33m)\u001b[0m\u001b[1;33m)\u001b[0m\u001b[1;33m\u001b[0m\u001b[1;33m\u001b[0m\u001b[0m\n\u001b[0m\u001b[0;32m    338\u001b[0m         \u001b[0mend\u001b[0m \u001b[1;33m=\u001b[0m \u001b[0m_w\u001b[0m\u001b[1;33m(\u001b[0m\u001b[0ms\u001b[0m\u001b[1;33m,\u001b[0m \u001b[0mend\u001b[0m\u001b[1;33m)\u001b[0m\u001b[1;33m.\u001b[0m\u001b[0mend\u001b[0m\u001b[1;33m(\u001b[0m\u001b[1;33m)\u001b[0m\u001b[1;33m\u001b[0m\u001b[1;33m\u001b[0m\u001b[0m\n\u001b[0;32m    339\u001b[0m         \u001b[1;32mif\u001b[0m \u001b[0mend\u001b[0m \u001b[1;33m!=\u001b[0m \u001b[0mlen\u001b[0m\u001b[1;33m(\u001b[0m\u001b[0ms\u001b[0m\u001b[1;33m)\u001b[0m\u001b[1;33m:\u001b[0m\u001b[1;33m\u001b[0m\u001b[1;33m\u001b[0m\u001b[0m\n",
      "\u001b[1;32m~\\Anaconda3\\envs\\magicml\\lib\\json\\decoder.py\u001b[0m in \u001b[0;36mraw_decode\u001b[1;34m(self, s, idx)\u001b[0m\n\u001b[0;32m    353\u001b[0m             \u001b[0mobj\u001b[0m\u001b[1;33m,\u001b[0m \u001b[0mend\u001b[0m \u001b[1;33m=\u001b[0m \u001b[0mself\u001b[0m\u001b[1;33m.\u001b[0m\u001b[0mscan_once\u001b[0m\u001b[1;33m(\u001b[0m\u001b[0ms\u001b[0m\u001b[1;33m,\u001b[0m \u001b[0midx\u001b[0m\u001b[1;33m)\u001b[0m\u001b[1;33m\u001b[0m\u001b[1;33m\u001b[0m\u001b[0m\n\u001b[0;32m    354\u001b[0m         \u001b[1;32mexcept\u001b[0m \u001b[0mStopIteration\u001b[0m \u001b[1;32mas\u001b[0m \u001b[0merr\u001b[0m\u001b[1;33m:\u001b[0m\u001b[1;33m\u001b[0m\u001b[1;33m\u001b[0m\u001b[0m\n\u001b[1;32m--> 355\u001b[1;33m             \u001b[1;32mraise\u001b[0m \u001b[0mJSONDecodeError\u001b[0m\u001b[1;33m(\u001b[0m\u001b[1;34m\"Expecting value\"\u001b[0m\u001b[1;33m,\u001b[0m \u001b[0ms\u001b[0m\u001b[1;33m,\u001b[0m \u001b[0merr\u001b[0m\u001b[1;33m.\u001b[0m\u001b[0mvalue\u001b[0m\u001b[1;33m)\u001b[0m \u001b[1;32mfrom\u001b[0m \u001b[1;32mNone\u001b[0m\u001b[1;33m\u001b[0m\u001b[1;33m\u001b[0m\u001b[0m\n\u001b[0m\u001b[0;32m    356\u001b[0m         \u001b[1;32mreturn\u001b[0m \u001b[0mobj\u001b[0m\u001b[1;33m,\u001b[0m \u001b[0mend\u001b[0m\u001b[1;33m\u001b[0m\u001b[1;33m\u001b[0m\u001b[0m\n",
      "\u001b[1;31mJSONDecodeError\u001b[0m: Expecting value: line 1 column 1 (char 0)"
     ]
    }
   ],
   "source": [
    "res.json()"
   ]
  },
  {
   "source": [
    "## Lambda Cards Sorter Master"
   ],
   "cell_type": "markdown",
   "metadata": {}
  },
  {
   "cell_type": "code",
   "execution_count": 39,
   "metadata": {},
   "outputs": [],
   "source": [
    "STAGE = 'dev'"
   ]
  },
  {
   "cell_type": "code",
   "execution_count": 40,
   "metadata": {},
   "outputs": [],
   "source": [
    "_, s3, boto_sess = aws_connect('s3', 'lw2134', session=True)\n",
    "lambda_client = boto_sess.client('lambda')"
   ]
  },
  {
   "cell_type": "code",
   "execution_count": 41,
   "metadata": {},
   "outputs": [],
   "source": [
    "all_cards = pred_df.columns"
   ]
  },
  {
   "cell_type": "code",
   "execution_count": 47,
   "metadata": {},
   "outputs": [
    {
     "output_type": "stream",
     "name": "stdout",
     "text": [
      "542\n"
     ]
    },
    {
     "output_type": "execute_result",
     "data": {
      "text/plain": [
       "[\"Archon_of_Sun's_Grace-AJMP\",\n",
       " 'Audacious_Thief-AJMP',\n",
       " 'Banishing_Light-AJMP',\n",
       " 'Bond_of_Revival-AJMP',\n",
       " 'Carnifex_Demon-AJMP',\n",
       " 'Doomed_Necromancer-AJMP',\n",
       " 'Dryad_Greenseeker-AJMP',\n",
       " 'Fanatic_of_Mogis-AJMP',\n",
       " 'Gadwick,_the_Wizened-AJMP',\n",
       " 'Goblin_Oriflamme-AJMP']"
      ]
     },
     "metadata": {},
     "execution_count": 47
    }
   ],
   "source": [
    "BATCHES_OF = 10\n",
    "batches = [list(all_cards[n:n+BATCHES_OF]) for n in range(1, len(all_cards), BATCHES_OF)]\n",
    "print(len(batches))\n",
    "batches[0]"
   ]
  },
  {
   "cell_type": "code",
   "execution_count": 49,
   "metadata": {},
   "outputs": [],
   "source": [
    "import json"
   ]
  },
  {
   "cell_type": "code",
   "execution_count": 54,
   "metadata": {},
   "outputs": [
    {
     "output_type": "execute_result",
     "data": {
      "text/plain": [
       "'[\"Archon_of_Sun\\'s_Grace-AJMP\", \"Audacious_Thief-AJMP\", \"Banishing_Light-AJMP\", \"Bond_of_Revival-AJMP\", \"Carnifex_Demon-AJMP\"]'"
      ]
     },
     "metadata": {},
     "execution_count": 54
    }
   ],
   "source": [
    "json.dumps(batches[0][0:5])"
   ]
  },
  {
   "cell_type": "code",
   "execution_count": 141,
   "metadata": {},
   "outputs": [],
   "source": [
    "for cards in batches:\n",
    "    payload = {'cards': cards}\n",
    "\n",
    "    res = lambda_client.invoke(\n",
    "        FunctionName='magicml-similarity-{}-stage_embed_worker'.format(STAGE),\n",
    "        InvocationType='Event',\n",
    "        Payload=json.dumps(payload)\n",
    "    )"
   ]
  },
  {
   "cell_type": "code",
   "execution_count": null,
   "metadata": {},
   "outputs": [],
   "source": []
  },
  {
   "cell_type": "code",
   "execution_count": null,
   "metadata": {},
   "outputs": [],
   "source": []
  },
  {
   "cell_type": "code",
   "execution_count": 142,
   "metadata": {},
   "outputs": [
    {
     "output_type": "stream",
     "name": "stdout",
     "text": [
      "(7639, 33)\n"
     ]
    }
   ],
   "source": [
    "a_card = pd.read_csv('sorted/Banishing_Light-AJMP.csv')\n",
    "print(a_card.shape)"
   ]
  },
  {
   "cell_type": "code",
   "execution_count": 149,
   "metadata": {},
   "outputs": [
    {
     "output_type": "execute_result",
     "data": {
      "text/plain": [
       "   Banishing_Light-AJMP     id  mtgArenaId  \\\n",
       "0              1.000000   4756     74986.0   \n",
       "1              1.000000  49136     70515.0   \n",
       "2              0.773027  28775     67708.0   \n",
       "\n",
       "                             scryfallId                name colorIdentity  \\\n",
       "0  ca112bae-6ac5-4cdf-9e8c-1b99f7396995     Banishing Light             W   \n",
       "1  a1ddd113-140f-49c9-b45c-cf1b0d1dffd8     Banishing Light             W   \n",
       "2  197743cd-249c-42ba-ac8d-027c088f8418  Hieromancer's Cage             W   \n",
       "\n",
       "  colors                     setName  convertedManaCost manaCost  ...  future  \\\n",
       "0      W  Jumpstart Arena Exclusives                3.0   {2}{W}  ...   Legal   \n",
       "1      W         Theros Beyond Death                3.0   {2}{W}  ...   Legal   \n",
       "2      W               Core Set 2019                4.0   {3}{W}  ...   Blank   \n",
       "\n",
       "  historic legacy modern oldschool pauper  penny pioneer standard vintage  \n",
       "0    Legal  Legal  Legal     Blank  Blank  Legal   Legal    Legal   Legal  \n",
       "1    Legal  Legal  Legal     Blank  Blank  Legal   Legal    Legal   Legal  \n",
       "2    Legal  Legal  Legal     Blank  Blank  Blank   Legal    Blank   Legal  \n",
       "\n",
       "[3 rows x 33 columns]"
      ],
      "text/html": "<div>\n<style scoped>\n    .dataframe tbody tr th:only-of-type {\n        vertical-align: middle;\n    }\n\n    .dataframe tbody tr th {\n        vertical-align: top;\n    }\n\n    .dataframe thead th {\n        text-align: right;\n    }\n</style>\n<table border=\"1\" class=\"dataframe\">\n  <thead>\n    <tr style=\"text-align: right;\">\n      <th></th>\n      <th>Banishing_Light-AJMP</th>\n      <th>id</th>\n      <th>mtgArenaId</th>\n      <th>scryfallId</th>\n      <th>name</th>\n      <th>colorIdentity</th>\n      <th>colors</th>\n      <th>setName</th>\n      <th>convertedManaCost</th>\n      <th>manaCost</th>\n      <th>...</th>\n      <th>future</th>\n      <th>historic</th>\n      <th>legacy</th>\n      <th>modern</th>\n      <th>oldschool</th>\n      <th>pauper</th>\n      <th>penny</th>\n      <th>pioneer</th>\n      <th>standard</th>\n      <th>vintage</th>\n    </tr>\n  </thead>\n  <tbody>\n    <tr>\n      <th>0</th>\n      <td>1.000000</td>\n      <td>4756</td>\n      <td>74986.0</td>\n      <td>ca112bae-6ac5-4cdf-9e8c-1b99f7396995</td>\n      <td>Banishing Light</td>\n      <td>W</td>\n      <td>W</td>\n      <td>Jumpstart Arena Exclusives</td>\n      <td>3.0</td>\n      <td>{2}{W}</td>\n      <td>...</td>\n      <td>Legal</td>\n      <td>Legal</td>\n      <td>Legal</td>\n      <td>Legal</td>\n      <td>Blank</td>\n      <td>Blank</td>\n      <td>Legal</td>\n      <td>Legal</td>\n      <td>Legal</td>\n      <td>Legal</td>\n    </tr>\n    <tr>\n      <th>1</th>\n      <td>1.000000</td>\n      <td>49136</td>\n      <td>70515.0</td>\n      <td>a1ddd113-140f-49c9-b45c-cf1b0d1dffd8</td>\n      <td>Banishing Light</td>\n      <td>W</td>\n      <td>W</td>\n      <td>Theros Beyond Death</td>\n      <td>3.0</td>\n      <td>{2}{W}</td>\n      <td>...</td>\n      <td>Legal</td>\n      <td>Legal</td>\n      <td>Legal</td>\n      <td>Legal</td>\n      <td>Blank</td>\n      <td>Blank</td>\n      <td>Legal</td>\n      <td>Legal</td>\n      <td>Legal</td>\n      <td>Legal</td>\n    </tr>\n    <tr>\n      <th>2</th>\n      <td>0.773027</td>\n      <td>28775</td>\n      <td>67708.0</td>\n      <td>197743cd-249c-42ba-ac8d-027c088f8418</td>\n      <td>Hieromancer's Cage</td>\n      <td>W</td>\n      <td>W</td>\n      <td>Core Set 2019</td>\n      <td>4.0</td>\n      <td>{3}{W}</td>\n      <td>...</td>\n      <td>Blank</td>\n      <td>Legal</td>\n      <td>Legal</td>\n      <td>Legal</td>\n      <td>Blank</td>\n      <td>Blank</td>\n      <td>Blank</td>\n      <td>Legal</td>\n      <td>Blank</td>\n      <td>Legal</td>\n    </tr>\n  </tbody>\n</table>\n<p>3 rows × 33 columns</p>\n</div>"
     },
     "metadata": {},
     "execution_count": 149
    }
   ],
   "source": [
    "a_card.head(3)"
   ]
  },
  {
   "cell_type": "code",
   "execution_count": null,
   "metadata": {},
   "outputs": [],
   "source": []
  }
 ]
}