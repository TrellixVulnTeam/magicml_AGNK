{
 "metadata": {
  "language_info": {
   "codemirror_mode": {
    "name": "ipython",
    "version": 3
   },
   "file_extension": ".py",
   "mimetype": "text/x-python",
   "name": "python",
   "nbconvert_exporter": "python",
   "pygments_lexer": "ipython3",
   "version": "3.7.9-final"
  },
  "orig_nbformat": 2,
  "kernelspec": {
   "name": "python3",
   "display_name": "Python 3.7.9 64-bit ('magicml': conda)",
   "metadata": {
    "interpreter": {
     "hash": "d21976708c890d4f5e403de40721946a087be811acbfab0d40a467fb62beb492"
    }
   }
  }
 },
 "nbformat": 4,
 "nbformat_minor": 2,
 "cells": [
  {
   "source": [
    "# TODO  \n",
    "## Card Similarity Search  \n",
    "### Data Prep (raw card data > clean card data) \n",
    "  - ~~merge card, set, and legality data~~  \n",
    "  - ~~concat token cards (later - may not want to)~~  \n",
    "  - ensure clean  \n",
    "    - fillna, non-english issues, maybe replace symbols ({T}...) w/ text  \n",
    "  - **AWS**  \n",
    "    - ~~Load raw MTGJson from S3~~  \n",
    "    - ~~Lambda (or Glue): Prep > to S3~~  \n",
    "### Similarity (clean card data > embeddings, similarity matrix)\n",
    "  - ~~USE embeddings from card text~~  \n",
    "  - ~~explore including other card props as text (color, type, mana cost...)~~  \n",
    "  - ~~similarity matrix~~  \n",
    "  - ~~pre-sort and save each card (50K+ cards)~~  \n",
    "  - STILL NEED TO ADD SCRYFALL IMAGE URLs TO DATA PREP PIPELINE\n",
    "  - **AWS**  \n",
    "    - ~~Load clean card data from S3~~  \n",
    "    - ~~SM Processing Job: USE embeddings & similarity matrix > to S3~~  \n",
    "    - ~~Lambda: embeddings/sim_matrix from S3 > EFS~~  \n",
    "    - ~~Lambda: sort each card by similarity EFS > EFS & DynamoDB~~\n",
    "### App Backend  \n",
    "  - API accepts card name and returns topK similar cards (w/ some metadata for filtering)  \n",
    "  - **AWS**  \n",
    "    - Lambda: API queries EFS or Dynamo  \n",
    "    - StepFunctions or Lambda destinations: refresh data pipeline as needed\n",
    "### App Frontend  \n",
    "  - Home page  \n",
    "    - Search box and results  \n",
    "    - A few filters (color, type, mana cost...)  \n",
    "    - add placement  \n",
    "    - sign in (eventually)  \n",
    "### Deploy  \n",
    "  - Backend\n",
    "    - Serverless  \n",
    "    - Seed  \n",
    "  - Frontend  \n",
    "    - React  \n",
    "    - Amplify"
   ],
   "cell_type": "markdown",
   "metadata": {}
  },
  {
   "source": [
    "# Data Prep"
   ],
   "cell_type": "markdown",
   "metadata": {}
  },
  {
   "cell_type": "code",
   "execution_count": 204,
   "metadata": {},
   "outputs": [],
   "source": [
    "import os\n",
    "import json\n",
    "import numpy as np\n",
    "import pandas as pd\n",
    "\n",
    "#import tensorflow as tf\n",
    "#import tensorflow_hub as hub\n",
    "#import matplotlib.pyplot as plt"
   ]
  },
  {
   "cell_type": "code",
   "execution_count": 216,
   "metadata": {},
   "outputs": [
    {
     "output_type": "stream",
     "name": "stdout",
     "text": [
      "(55943, 74)\n33.12 MB\n"
     ]
    },
    {
     "output_type": "execute_result",
     "data": {
      "text/plain": [
       "   id        artist asciiName availability borderColor  cardKingdomFoilId  \\\n",
       "0   1  Rebecca Guay       NaN   mtgo,paper       black           123335.0   \n",
       "\n",
       "   cardKingdomId colorIdentity colorIndicator colors  ...  subtypes  \\\n",
       "0       122967.0             G            NaN      G  ...       NaN   \n",
       "\n",
       "  supertypes  tcgplayerProductId  \\\n",
       "0        NaN             15023.0   \n",
       "\n",
       "                                                text toughness         type  \\\n",
       "0  If you would draw a card, you may instead choo...       NaN  Enchantment   \n",
       "\n",
       "         types                                  uuid variations  watermark  \n",
       "0  Enchantment  38513fa0-ea83-5642-8ecd-4f0b3daa6768        NaN        NaN  \n",
       "\n",
       "[1 rows x 74 columns]"
      ],
      "text/html": "<div>\n<style scoped>\n    .dataframe tbody tr th:only-of-type {\n        vertical-align: middle;\n    }\n\n    .dataframe tbody tr th {\n        vertical-align: top;\n    }\n\n    .dataframe thead th {\n        text-align: right;\n    }\n</style>\n<table border=\"1\" class=\"dataframe\">\n  <thead>\n    <tr style=\"text-align: right;\">\n      <th></th>\n      <th>id</th>\n      <th>artist</th>\n      <th>asciiName</th>\n      <th>availability</th>\n      <th>borderColor</th>\n      <th>cardKingdomFoilId</th>\n      <th>cardKingdomId</th>\n      <th>colorIdentity</th>\n      <th>colorIndicator</th>\n      <th>colors</th>\n      <th>...</th>\n      <th>subtypes</th>\n      <th>supertypes</th>\n      <th>tcgplayerProductId</th>\n      <th>text</th>\n      <th>toughness</th>\n      <th>type</th>\n      <th>types</th>\n      <th>uuid</th>\n      <th>variations</th>\n      <th>watermark</th>\n    </tr>\n  </thead>\n  <tbody>\n    <tr>\n      <th>0</th>\n      <td>1</td>\n      <td>Rebecca Guay</td>\n      <td>NaN</td>\n      <td>mtgo,paper</td>\n      <td>black</td>\n      <td>123335.0</td>\n      <td>122967.0</td>\n      <td>G</td>\n      <td>NaN</td>\n      <td>G</td>\n      <td>...</td>\n      <td>NaN</td>\n      <td>NaN</td>\n      <td>15023.0</td>\n      <td>If you would draw a card, you may instead choo...</td>\n      <td>NaN</td>\n      <td>Enchantment</td>\n      <td>Enchantment</td>\n      <td>38513fa0-ea83-5642-8ecd-4f0b3daa6768</td>\n      <td>NaN</td>\n      <td>NaN</td>\n    </tr>\n  </tbody>\n</table>\n<p>1 rows × 74 columns</p>\n</div>"
     },
     "metadata": {},
     "execution_count": 216
    }
   ],
   "source": [
    "cards_df = pd.read_csv('../data/mtgjson/cards.csv')\\\n",
    "    .drop(columns=['index'])\n",
    "\n",
    "print(cards_df.shape)\n",
    "print('{} MB'.format(round(cards_df.memory_usage().sum()/1000000, 2)))\n",
    "cards_df.head(1)"
   ]
  },
  {
   "cell_type": "code",
   "execution_count": 217,
   "metadata": {},
   "outputs": [
    {
     "output_type": "stream",
     "name": "stdout",
     "text": [
      "(545, 2)\n0.01 MB\n"
     ]
    },
    {
     "output_type": "execute_result",
     "data": {
      "text/plain": [
       "  setCode        setName\n",
       "0     10E  Tenth Edition"
      ],
      "text/html": "<div>\n<style scoped>\n    .dataframe tbody tr th:only-of-type {\n        vertical-align: middle;\n    }\n\n    .dataframe tbody tr th {\n        vertical-align: top;\n    }\n\n    .dataframe thead th {\n        text-align: right;\n    }\n</style>\n<table border=\"1\" class=\"dataframe\">\n  <thead>\n    <tr style=\"text-align: right;\">\n      <th></th>\n      <th>setCode</th>\n      <th>setName</th>\n    </tr>\n  </thead>\n  <tbody>\n    <tr>\n      <th>0</th>\n      <td>10E</td>\n      <td>Tenth Edition</td>\n    </tr>\n  </tbody>\n</table>\n</div>"
     },
     "metadata": {},
     "execution_count": 217
    }
   ],
   "source": [
    "sets_df = pd.read_csv('../data/mtgjson/sets.csv')[['code','name']]\\\n",
    "    .rename(columns={'name': 'setName', 'code':'setCode'})\n",
    "\n",
    "print(sets_df.shape)\n",
    "print('{} MB'.format(round(sets_df.memory_usage().sum()/1000000, 2)))\n",
    "sets_df.head(1)"
   ]
  },
  {
   "cell_type": "code",
   "execution_count": 218,
   "metadata": {},
   "outputs": [
    {
     "output_type": "stream",
     "name": "stdout",
     "text": [
      "(55943, 75)\n34.01 MB\n"
     ]
    },
    {
     "output_type": "execute_result",
     "data": {
      "text/plain": [
       "   id        artist asciiName availability borderColor  cardKingdomFoilId  \\\n",
       "0   1  Rebecca Guay       NaN   mtgo,paper       black           123335.0   \n",
       "\n",
       "   cardKingdomId colorIdentity colorIndicator colors  ...  supertypes  \\\n",
       "0       122967.0             G            NaN      G  ...         NaN   \n",
       "\n",
       "  tcgplayerProductId                                               text  \\\n",
       "0            15023.0  If you would draw a card, you may instead choo...   \n",
       "\n",
       "   toughness         type        types                                  uuid  \\\n",
       "0        NaN  Enchantment  Enchantment  38513fa0-ea83-5642-8ecd-4f0b3daa6768   \n",
       "\n",
       "  variations watermark        setName  \n",
       "0        NaN       NaN  Tenth Edition  \n",
       "\n",
       "[1 rows x 75 columns]"
      ],
      "text/html": "<div>\n<style scoped>\n    .dataframe tbody tr th:only-of-type {\n        vertical-align: middle;\n    }\n\n    .dataframe tbody tr th {\n        vertical-align: top;\n    }\n\n    .dataframe thead th {\n        text-align: right;\n    }\n</style>\n<table border=\"1\" class=\"dataframe\">\n  <thead>\n    <tr style=\"text-align: right;\">\n      <th></th>\n      <th>id</th>\n      <th>artist</th>\n      <th>asciiName</th>\n      <th>availability</th>\n      <th>borderColor</th>\n      <th>cardKingdomFoilId</th>\n      <th>cardKingdomId</th>\n      <th>colorIdentity</th>\n      <th>colorIndicator</th>\n      <th>colors</th>\n      <th>...</th>\n      <th>supertypes</th>\n      <th>tcgplayerProductId</th>\n      <th>text</th>\n      <th>toughness</th>\n      <th>type</th>\n      <th>types</th>\n      <th>uuid</th>\n      <th>variations</th>\n      <th>watermark</th>\n      <th>setName</th>\n    </tr>\n  </thead>\n  <tbody>\n    <tr>\n      <th>0</th>\n      <td>1</td>\n      <td>Rebecca Guay</td>\n      <td>NaN</td>\n      <td>mtgo,paper</td>\n      <td>black</td>\n      <td>123335.0</td>\n      <td>122967.0</td>\n      <td>G</td>\n      <td>NaN</td>\n      <td>G</td>\n      <td>...</td>\n      <td>NaN</td>\n      <td>15023.0</td>\n      <td>If you would draw a card, you may instead choo...</td>\n      <td>NaN</td>\n      <td>Enchantment</td>\n      <td>Enchantment</td>\n      <td>38513fa0-ea83-5642-8ecd-4f0b3daa6768</td>\n      <td>NaN</td>\n      <td>NaN</td>\n      <td>Tenth Edition</td>\n    </tr>\n  </tbody>\n</table>\n<p>1 rows × 75 columns</p>\n</div>"
     },
     "metadata": {},
     "execution_count": 218
    }
   ],
   "source": [
    "# Merge set names into cards\n",
    "cards_df = cards_df\\\n",
    "    .merge(sets_df, how='left', on='setCode')\n",
    "\n",
    "print(cards_df.shape)\n",
    "print('{} MB'.format(round(cards_df.memory_usage().sum()/1000000, 2)))\n",
    "cards_df.head(1)"
   ]
  },
  {
   "cell_type": "code",
   "execution_count": 219,
   "metadata": {},
   "outputs": [
    {
     "output_type": "stream",
     "name": "stdout",
     "text": [
      "(54718, 14)\n6.13 MB\n"
     ]
    },
    {
     "output_type": "execute_result",
     "data": {
      "text/plain": [
       "format                                  uuid  brawl commander   duel future  \\\n",
       "0       00010d56-fe38-5e35-8aed-518019aa36a5  Blank     Legal  Legal  Blank   \n",
       "\n",
       "format historic legacy modern oldschool pauper  penny pioneer standard vintage  \n",
       "0         Blank  Legal  Legal     Blank  Blank  Blank   Legal    Blank   Legal  "
      ],
      "text/html": "<div>\n<style scoped>\n    .dataframe tbody tr th:only-of-type {\n        vertical-align: middle;\n    }\n\n    .dataframe tbody tr th {\n        vertical-align: top;\n    }\n\n    .dataframe thead th {\n        text-align: right;\n    }\n</style>\n<table border=\"1\" class=\"dataframe\">\n  <thead>\n    <tr style=\"text-align: right;\">\n      <th>format</th>\n      <th>uuid</th>\n      <th>brawl</th>\n      <th>commander</th>\n      <th>duel</th>\n      <th>future</th>\n      <th>historic</th>\n      <th>legacy</th>\n      <th>modern</th>\n      <th>oldschool</th>\n      <th>pauper</th>\n      <th>penny</th>\n      <th>pioneer</th>\n      <th>standard</th>\n      <th>vintage</th>\n    </tr>\n  </thead>\n  <tbody>\n    <tr>\n      <th>0</th>\n      <td>00010d56-fe38-5e35-8aed-518019aa36a5</td>\n      <td>Blank</td>\n      <td>Legal</td>\n      <td>Legal</td>\n      <td>Blank</td>\n      <td>Blank</td>\n      <td>Legal</td>\n      <td>Legal</td>\n      <td>Blank</td>\n      <td>Blank</td>\n      <td>Blank</td>\n      <td>Legal</td>\n      <td>Blank</td>\n      <td>Legal</td>\n    </tr>\n  </tbody>\n</table>\n</div>"
     },
     "metadata": {},
     "execution_count": 219
    }
   ],
   "source": [
    "legs_df = pd.read_csv('../data/mtgjson/legalities.csv')\\\n",
    "    .pivot(index='uuid', columns='format', values='status')\\\n",
    "    .reset_index()\\\n",
    "    .fillna('Blank')\n",
    "\n",
    "print(legs_df.shape)\n",
    "print('{} MB'.format(round(legs_df.memory_usage().sum()/1000000, 2)))\n",
    "legs_df.head(1)"
   ]
  },
  {
   "cell_type": "code",
   "execution_count": 220,
   "metadata": {},
   "outputs": [
    {
     "output_type": "stream",
     "name": "stdout",
     "text": [
      "(55943, 88)\n39.83 MB\n"
     ]
    },
    {
     "output_type": "execute_result",
     "data": {
      "text/plain": [
       "   id        artist asciiName availability borderColor  cardKingdomFoilId  \\\n",
       "0   1  Rebecca Guay       NaN   mtgo,paper       black           123335.0   \n",
       "\n",
       "   cardKingdomId colorIdentity colorIndicator colors  ...  future historic  \\\n",
       "0       122967.0             G            NaN      G  ...   Blank    Blank   \n",
       "\n",
       "   legacy  modern oldschool pauper  penny pioneer standard  vintage  \n",
       "0   Legal   Legal     Blank  Blank  Legal   Blank    Blank    Legal  \n",
       "\n",
       "[1 rows x 88 columns]"
      ],
      "text/html": "<div>\n<style scoped>\n    .dataframe tbody tr th:only-of-type {\n        vertical-align: middle;\n    }\n\n    .dataframe tbody tr th {\n        vertical-align: top;\n    }\n\n    .dataframe thead th {\n        text-align: right;\n    }\n</style>\n<table border=\"1\" class=\"dataframe\">\n  <thead>\n    <tr style=\"text-align: right;\">\n      <th></th>\n      <th>id</th>\n      <th>artist</th>\n      <th>asciiName</th>\n      <th>availability</th>\n      <th>borderColor</th>\n      <th>cardKingdomFoilId</th>\n      <th>cardKingdomId</th>\n      <th>colorIdentity</th>\n      <th>colorIndicator</th>\n      <th>colors</th>\n      <th>...</th>\n      <th>future</th>\n      <th>historic</th>\n      <th>legacy</th>\n      <th>modern</th>\n      <th>oldschool</th>\n      <th>pauper</th>\n      <th>penny</th>\n      <th>pioneer</th>\n      <th>standard</th>\n      <th>vintage</th>\n    </tr>\n  </thead>\n  <tbody>\n    <tr>\n      <th>0</th>\n      <td>1</td>\n      <td>Rebecca Guay</td>\n      <td>NaN</td>\n      <td>mtgo,paper</td>\n      <td>black</td>\n      <td>123335.0</td>\n      <td>122967.0</td>\n      <td>G</td>\n      <td>NaN</td>\n      <td>G</td>\n      <td>...</td>\n      <td>Blank</td>\n      <td>Blank</td>\n      <td>Legal</td>\n      <td>Legal</td>\n      <td>Blank</td>\n      <td>Blank</td>\n      <td>Legal</td>\n      <td>Blank</td>\n      <td>Blank</td>\n      <td>Legal</td>\n    </tr>\n  </tbody>\n</table>\n<p>1 rows × 88 columns</p>\n</div>"
     },
     "metadata": {},
     "execution_count": 220
    }
   ],
   "source": [
    "# Merge legalities into cards\n",
    "cards_df = cards_df\\\n",
    "    .merge(legs_df, how='left', on='uuid')\n",
    "\n",
    "print(cards_df.shape)\n",
    "print('{} MB'.format(round(cards_df.memory_usage().sum()/1000000, 2)))\n",
    "cards_df.head(1)"
   ]
  },
  {
   "cell_type": "code",
   "execution_count": 221,
   "metadata": {},
   "outputs": [],
   "source": [
    "def get_image_uris(row):\n",
    "    try:\n",
    "        if pd.notna(row['image_uris']):\n",
    "            return row['image_uris']\n",
    "        else:\n",
    "            return [card['image_uris'] for card in row['card_faces']]\n",
    "    except:\n",
    "        return 'Blank'"
   ]
  },
  {
   "cell_type": "code",
   "execution_count": 222,
   "metadata": {},
   "outputs": [
    {
     "output_type": "stream",
     "name": "stdout",
     "text": [
      "(5360, 2)\n0.09 MB\n"
     ]
    },
    {
     "output_type": "execute_result",
     "data": {
      "text/plain": [
       "                             scryfallId  \\\n",
       "0  0000cd57-91fe-411f-b798-646e965eec37   \n",
       "1  0001f1ef-b957-4a55-b47f-14839cdbab6f   \n",
       "2  0002ab72-834b-4c81-82b1-0d2760ea96b0   \n",
       "\n",
       "                                          image_urls  \n",
       "0  {'small': 'https://c1.scryfall.com/file/scryfa...  \n",
       "1  {'small': 'https://c1.scryfall.com/file/scryfa...  \n",
       "2  {'small': 'https://c1.scryfall.com/file/scryfa...  "
      ],
      "text/html": "<div>\n<style scoped>\n    .dataframe tbody tr th:only-of-type {\n        vertical-align: middle;\n    }\n\n    .dataframe tbody tr th {\n        vertical-align: top;\n    }\n\n    .dataframe thead th {\n        text-align: right;\n    }\n</style>\n<table border=\"1\" class=\"dataframe\">\n  <thead>\n    <tr style=\"text-align: right;\">\n      <th></th>\n      <th>scryfallId</th>\n      <th>image_urls</th>\n    </tr>\n  </thead>\n  <tbody>\n    <tr>\n      <th>0</th>\n      <td>0000cd57-91fe-411f-b798-646e965eec37</td>\n      <td>{'small': 'https://c1.scryfall.com/file/scryfa...</td>\n    </tr>\n    <tr>\n      <th>1</th>\n      <td>0001f1ef-b957-4a55-b47f-14839cdbab6f</td>\n      <td>{'small': 'https://c1.scryfall.com/file/scryfa...</td>\n    </tr>\n    <tr>\n      <th>2</th>\n      <td>0002ab72-834b-4c81-82b1-0d2760ea96b0</td>\n      <td>{'small': 'https://c1.scryfall.com/file/scryfa...</td>\n    </tr>\n  </tbody>\n</table>\n</div>"
     },
     "metadata": {},
     "execution_count": 222
    }
   ],
   "source": [
    "# Scryfall image urls\n",
    "scryfall_df = pd.read_json('../data/scryfall/cards.json')\\\n",
    "    .query('arena_id.notnull()')\\\n",
    "    [['id','image_uris','card_faces']]\\\n",
    "    .reset_index(drop=True)\\\n",
    "    .assign(image_urls=lambda df: df.apply(get_image_uris, axis=1))\\\n",
    "    .drop(columns=['image_uris','card_faces'])\\\n",
    "    .rename(columns={'id': 'scryfallId'})\n",
    "\n",
    "print(scryfall_df.shape)\n",
    "print('{} MB'.format(round(scryfall_df.memory_usage().sum()/1000000, 2)))\n",
    "scryfall_df.head(3)"
   ]
  },
  {
   "cell_type": "code",
   "execution_count": 226,
   "metadata": {},
   "outputs": [
    {
     "output_type": "stream",
     "name": "stdout",
     "text": [
      "(55943, 89)\n40.28 MB\n"
     ]
    },
    {
     "output_type": "execute_result",
     "data": {
      "text/plain": [
       "   id        artist asciiName availability borderColor  cardKingdomFoilId  \\\n",
       "0   1  Rebecca Guay       NaN   mtgo,paper       black           123335.0   \n",
       "\n",
       "   cardKingdomId colorIdentity colorIndicator colors  ...  historic legacy  \\\n",
       "0       122967.0             G            NaN      G  ...     Blank  Legal   \n",
       "\n",
       "   modern  oldschool pauper  penny pioneer standard vintage  image_urls  \n",
       "0   Legal      Blank  Blank  Legal   Blank    Blank   Legal         NaN  \n",
       "\n",
       "[1 rows x 89 columns]"
      ],
      "text/html": "<div>\n<style scoped>\n    .dataframe tbody tr th:only-of-type {\n        vertical-align: middle;\n    }\n\n    .dataframe tbody tr th {\n        vertical-align: top;\n    }\n\n    .dataframe thead th {\n        text-align: right;\n    }\n</style>\n<table border=\"1\" class=\"dataframe\">\n  <thead>\n    <tr style=\"text-align: right;\">\n      <th></th>\n      <th>id</th>\n      <th>artist</th>\n      <th>asciiName</th>\n      <th>availability</th>\n      <th>borderColor</th>\n      <th>cardKingdomFoilId</th>\n      <th>cardKingdomId</th>\n      <th>colorIdentity</th>\n      <th>colorIndicator</th>\n      <th>colors</th>\n      <th>...</th>\n      <th>historic</th>\n      <th>legacy</th>\n      <th>modern</th>\n      <th>oldschool</th>\n      <th>pauper</th>\n      <th>penny</th>\n      <th>pioneer</th>\n      <th>standard</th>\n      <th>vintage</th>\n      <th>image_urls</th>\n    </tr>\n  </thead>\n  <tbody>\n    <tr>\n      <th>0</th>\n      <td>1</td>\n      <td>Rebecca Guay</td>\n      <td>NaN</td>\n      <td>mtgo,paper</td>\n      <td>black</td>\n      <td>123335.0</td>\n      <td>122967.0</td>\n      <td>G</td>\n      <td>NaN</td>\n      <td>G</td>\n      <td>...</td>\n      <td>Blank</td>\n      <td>Legal</td>\n      <td>Legal</td>\n      <td>Blank</td>\n      <td>Blank</td>\n      <td>Legal</td>\n      <td>Blank</td>\n      <td>Blank</td>\n      <td>Legal</td>\n      <td>NaN</td>\n    </tr>\n  </tbody>\n</table>\n<p>1 rows × 89 columns</p>\n</div>"
     },
     "metadata": {},
     "execution_count": 226
    }
   ],
   "source": [
    "cards_df = cards_df\\\n",
    "    .merge(scryfall_df, how='left', on='scryfallId')\n",
    "\n",
    "print(cards_df.shape)\n",
    "print('{} MB'.format(round(cards_df.memory_usage().sum()/1000000, 2)))\n",
    "cards_df.head(1)"
   ]
  },
  {
   "cell_type": "code",
   "execution_count": 230,
   "metadata": {},
   "outputs": [],
   "source": [
    "cards_df.to_csv('cards.csv', index=False)"
   ]
  },
  {
   "source": [
    "### Handle token cards later"
   ],
   "cell_type": "markdown",
   "metadata": {}
  },
  {
   "cell_type": "code",
   "execution_count": 53,
   "metadata": {},
   "outputs": [
    {
     "output_type": "stream",
     "name": "stdout",
     "text": [
      "(1704, 45)\n0.61 MB\n"
     ]
    },
    {
     "output_type": "execute_result",
     "data": {
      "text/plain": [
       "   index  id       artist asciiName availability borderColor colorIdentity  \\\n",
       "0      0   1  Jim Pavelec       NaN        paper       black             R   \n",
       "\n",
       "  colors  edhrecRank faceName  ... side subtypes  supertypes  \\\n",
       "0      R         NaN      NaN  ...  NaN   Dragon         NaN   \n",
       "\n",
       "   tcgplayerProductId    text  toughness                     type  \\\n",
       "0             78608.0  Flying          5  Token Creature — Dragon   \n",
       "\n",
       "            types                                  uuid watermark  \n",
       "0  Token,Creature  7decf258-eb10-50da-83f7-c7eba74adbfb       NaN  \n",
       "\n",
       "[1 rows x 45 columns]"
      ],
      "text/html": "<div>\n<style scoped>\n    .dataframe tbody tr th:only-of-type {\n        vertical-align: middle;\n    }\n\n    .dataframe tbody tr th {\n        vertical-align: top;\n    }\n\n    .dataframe thead th {\n        text-align: right;\n    }\n</style>\n<table border=\"1\" class=\"dataframe\">\n  <thead>\n    <tr style=\"text-align: right;\">\n      <th></th>\n      <th>index</th>\n      <th>id</th>\n      <th>artist</th>\n      <th>asciiName</th>\n      <th>availability</th>\n      <th>borderColor</th>\n      <th>colorIdentity</th>\n      <th>colors</th>\n      <th>edhrecRank</th>\n      <th>faceName</th>\n      <th>...</th>\n      <th>side</th>\n      <th>subtypes</th>\n      <th>supertypes</th>\n      <th>tcgplayerProductId</th>\n      <th>text</th>\n      <th>toughness</th>\n      <th>type</th>\n      <th>types</th>\n      <th>uuid</th>\n      <th>watermark</th>\n    </tr>\n  </thead>\n  <tbody>\n    <tr>\n      <th>0</th>\n      <td>0</td>\n      <td>1</td>\n      <td>Jim Pavelec</td>\n      <td>NaN</td>\n      <td>paper</td>\n      <td>black</td>\n      <td>R</td>\n      <td>R</td>\n      <td>NaN</td>\n      <td>NaN</td>\n      <td>...</td>\n      <td>NaN</td>\n      <td>Dragon</td>\n      <td>NaN</td>\n      <td>78608.0</td>\n      <td>Flying</td>\n      <td>5</td>\n      <td>Token Creature — Dragon</td>\n      <td>Token,Creature</td>\n      <td>7decf258-eb10-50da-83f7-c7eba74adbfb</td>\n      <td>NaN</td>\n    </tr>\n  </tbody>\n</table>\n<p>1 rows × 45 columns</p>\n</div>"
     },
     "metadata": {},
     "execution_count": 53
    }
   ],
   "source": [
    "tokens_df = pd.read_csv('../data/mtgjson/tokens.csv')\n",
    "\n",
    "print(tokens_df.shape)\n",
    "print('{} MB'.format(round(tokens_df.memory_usage().sum()/1000000, 2)))\n",
    "tokens_df.head(1)"
   ]
  },
  {
   "cell_type": "code",
   "execution_count": 3,
   "metadata": {},
   "outputs": [
    {
     "output_type": "stream",
     "name": "stdout",
     "text": [
      "(55943, 74)\n"
     ]
    },
    {
     "output_type": "execute_result",
     "data": {
      "text/plain": [
       "   id           artist asciiName availability borderColor  cardKingdomFoilId  \\\n",
       "0   1     Rebecca Guay       NaN   mtgo,paper       black           123335.0   \n",
       "1   2  Stephen Daniele       NaN   mtgo,paper       black           123149.0   \n",
       "\n",
       "   cardKingdomId colorIdentity colorIndicator colors  ...      subtypes  \\\n",
       "0       122967.0             G            NaN      G  ...           NaN   \n",
       "1       122781.0             U            NaN      U  ...  Human,Wizard   \n",
       "\n",
       "  supertypes  tcgplayerProductId  \\\n",
       "0        NaN             15023.0   \n",
       "1        NaN             15024.0   \n",
       "\n",
       "                                                text toughness  \\\n",
       "0  If you would draw a card, you may instead choo...       NaN   \n",
       "1  When Academy Researchers enters the battlefiel...         2   \n",
       "\n",
       "                      type        types                                  uuid  \\\n",
       "0              Enchantment  Enchantment  38513fa0-ea83-5642-8ecd-4f0b3daa6768   \n",
       "1  Creature — Human Wizard     Creature  b8a68840-4044-52c0-a14e-0a1c630ba42c   \n",
       "\n",
       "  variations  watermark  \n",
       "0        NaN        NaN  \n",
       "1        NaN        NaN  \n",
       "\n",
       "[2 rows x 74 columns]"
      ],
      "text/html": "<div>\n<style scoped>\n    .dataframe tbody tr th:only-of-type {\n        vertical-align: middle;\n    }\n\n    .dataframe tbody tr th {\n        vertical-align: top;\n    }\n\n    .dataframe thead th {\n        text-align: right;\n    }\n</style>\n<table border=\"1\" class=\"dataframe\">\n  <thead>\n    <tr style=\"text-align: right;\">\n      <th></th>\n      <th>id</th>\n      <th>artist</th>\n      <th>asciiName</th>\n      <th>availability</th>\n      <th>borderColor</th>\n      <th>cardKingdomFoilId</th>\n      <th>cardKingdomId</th>\n      <th>colorIdentity</th>\n      <th>colorIndicator</th>\n      <th>colors</th>\n      <th>...</th>\n      <th>subtypes</th>\n      <th>supertypes</th>\n      <th>tcgplayerProductId</th>\n      <th>text</th>\n      <th>toughness</th>\n      <th>type</th>\n      <th>types</th>\n      <th>uuid</th>\n      <th>variations</th>\n      <th>watermark</th>\n    </tr>\n  </thead>\n  <tbody>\n    <tr>\n      <th>0</th>\n      <td>1</td>\n      <td>Rebecca Guay</td>\n      <td>NaN</td>\n      <td>mtgo,paper</td>\n      <td>black</td>\n      <td>123335.0</td>\n      <td>122967.0</td>\n      <td>G</td>\n      <td>NaN</td>\n      <td>G</td>\n      <td>...</td>\n      <td>NaN</td>\n      <td>NaN</td>\n      <td>15023.0</td>\n      <td>If you would draw a card, you may instead choo...</td>\n      <td>NaN</td>\n      <td>Enchantment</td>\n      <td>Enchantment</td>\n      <td>38513fa0-ea83-5642-8ecd-4f0b3daa6768</td>\n      <td>NaN</td>\n      <td>NaN</td>\n    </tr>\n    <tr>\n      <th>1</th>\n      <td>2</td>\n      <td>Stephen Daniele</td>\n      <td>NaN</td>\n      <td>mtgo,paper</td>\n      <td>black</td>\n      <td>123149.0</td>\n      <td>122781.0</td>\n      <td>U</td>\n      <td>NaN</td>\n      <td>U</td>\n      <td>...</td>\n      <td>Human,Wizard</td>\n      <td>NaN</td>\n      <td>15024.0</td>\n      <td>When Academy Researchers enters the battlefiel...</td>\n      <td>2</td>\n      <td>Creature — Human Wizard</td>\n      <td>Creature</td>\n      <td>b8a68840-4044-52c0-a14e-0a1c630ba42c</td>\n      <td>NaN</td>\n      <td>NaN</td>\n    </tr>\n  </tbody>\n</table>\n<p>2 rows × 74 columns</p>\n</div>"
     },
     "metadata": {},
     "execution_count": 3
    }
   ],
   "source": [
    "print(cards_df.shape)\n",
    "cards_df.head(2)"
   ]
  },
  {
   "cell_type": "code",
   "execution_count": 55,
   "metadata": {},
   "outputs": [
    {
     "output_type": "execute_result",
     "data": {
      "text/plain": [
       "Index(['id', 'artist', 'asciiName', 'availability', 'borderColor',\n",
       "       'cardKingdomFoilId', 'cardKingdomId', 'colorIdentity', 'colorIndicator',\n",
       "       'colors', 'convertedManaCost', 'duelDeck', 'edhrecRank',\n",
       "       'faceConvertedManaCost', 'faceName', 'flavorName', 'flavorText',\n",
       "       'frameEffects', 'frameVersion', 'hand', 'hasAlternativeDeckLimit',\n",
       "       'hasContentWarning', 'hasFoil', 'hasNonFoil', 'isAlternative',\n",
       "       'isFullArt', 'isOnlineOnly', 'isOversized', 'isPromo', 'isReprint',\n",
       "       'isReserved', 'isStarter', 'isStorySpotlight', 'isTextless',\n",
       "       'isTimeshifted', 'keywords', 'layout', 'leadershipSkills', 'life',\n",
       "       'loyalty', 'manaCost', 'mcmId', 'mcmMetaId', 'mtgArenaId',\n",
       "       'mtgjsonV4Id', 'mtgoFoilId', 'mtgoId', 'multiverseId', 'name', 'number',\n",
       "       'originalReleaseDate', 'originalText', 'originalType', 'otherFaceIds',\n",
       "       'power', 'printings', 'promoTypes', 'purchaseUrls', 'rarity',\n",
       "       'scryfallId', 'scryfallIllustrationId', 'scryfallOracleId', 'setCode',\n",
       "       'side', 'subtypes', 'supertypes', 'tcgplayerProductId', 'text',\n",
       "       'toughness', 'type', 'types', 'uuid', 'variations', 'watermark',\n",
       "       'setName', 'brawl', 'commander', 'duel', 'future', 'historic', 'legacy',\n",
       "       'modern', 'oldschool', 'pauper', 'penny', 'pioneer', 'standard',\n",
       "       'vintage'],\n",
       "      dtype='object')"
      ]
     },
     "metadata": {},
     "execution_count": 55
    }
   ],
   "source": [
    "cards_df.columns"
   ]
  },
  {
   "cell_type": "code",
   "execution_count": 7,
   "metadata": {},
   "outputs": [
    {
     "output_type": "execute_result",
     "data": {
      "text/plain": [
       "1971"
      ]
     },
     "metadata": {},
     "execution_count": 7
    }
   ],
   "source": [
    "cards_df.type.nunique()"
   ]
  },
  {
   "cell_type": "code",
   "execution_count": 8,
   "metadata": {},
   "outputs": [
    {
     "output_type": "execute_result",
     "data": {
      "text/plain": [
       "531"
      ]
     },
     "metadata": {},
     "execution_count": 8
    }
   ],
   "source": [
    "cards_df.setCode.nunique()"
   ]
  },
  {
   "cell_type": "code",
   "execution_count": 9,
   "metadata": {},
   "outputs": [
    {
     "output_type": "execute_result",
     "data": {
      "text/plain": [
       "33.118384"
      ]
     },
     "metadata": {},
     "execution_count": 9
    }
   ],
   "source": [
    "cards_df.memory_usage().sum()/1000000"
   ]
  },
  {
   "cell_type": "code",
   "execution_count": 56,
   "metadata": {},
   "outputs": [
    {
     "output_type": "stream",
     "name": "stdout",
     "text": [
      "id: 1\n\nartist: Rebecca Guay\n\nasciiName: nan\n\navailability: mtgo,paper\n\nborderColor: black\n\ncardKingdomFoilId: 123335.0\n\ncardKingdomId: 122967.0\n\ncolorIdentity: G\n\ncolorIndicator: nan\n\ncolors: G\n\nconvertedManaCost: 4.0\n\nduelDeck: nan\n\nedhrecRank: 1111.0\n\nfaceConvertedManaCost: nan\n\nfaceName: nan\n\nflavorName: nan\n\nflavorText: nan\n\nframeEffects: nan\n\nframeVersion: 2003\n\nhand: nan\n\nhasAlternativeDeckLimit: 0\n\nhasContentWarning: 0\n\nhasFoil: 1\n\nhasNonFoil: 1\n\nisAlternative: 0\n\nisFullArt: 0\n\nisOnlineOnly: 0\n\nisOversized: 0\n\nisPromo: 0\n\nisReprint: 1\n\nisReserved: 0\n\nisStarter: 0\n\nisStorySpotlight: 0\n\nisTextless: 0\n\nisTimeshifted: 0\n\nkeywords: nan\n\nlayout: normal\n\nleadershipSkills: nan\n\nlife: nan\n\nloyalty: nan\n\nmanaCost: {2}{G}{G}\n\nmcmId: 16413.0\n\nmcmMetaId: 19.0\n\nmtgArenaId: nan\n\nmtgjsonV4Id: 1669af17-d287-5094-b005-4b143441442f\n\nmtgoFoilId: 27283.0\n\nmtgoId: 27282.0\n\nmultiverseId: 130483.0\n\nname: Abundance\n\nnumber: 249\n\noriginalReleaseDate: nan\n\noriginalText: If you would draw a card, you may instead choose land or nonland and reveal cards from the top of your library until you reveal a card of the chosen kind. Put that card into your hand and put all other cards revealed this way on the bottom of your library in any order.\n\noriginalType: Enchantment\n\notherFaceIds: nan\n\npower: nan\n\nprintings: 10E,C17,DDR,USG,ZNC\n\npromoTypes: nan\n\npurchaseUrls: {'cardKingdom': 'https://mtgjson.com/links/be6bfd8d4a84e5ec', 'cardKingdomFoil': 'https://mtgjson.com/links/4015cfd69a1e9820', 'cardmarket': 'https://mtgjson.com/links/39cb422913cf114f', 'tcgplayer': 'https://mtgjson.com/links/6e092a03d6bbffec'}\n\nrarity: rare\n\nscryfallId: 46184f97-d5c9-4a98-9fd9-e19057ce9b7e\n\nscryfallIllustrationId: 4be12219-df08-4a40-b32f-69737db62615\n\nscryfallOracleId: eccc9a54-2b56-4a02-9926-258d5b2e25fb\n\nsetCode: 10E\n\nside: nan\n\nsubtypes: nan\n\nsupertypes: nan\n\ntcgplayerProductId: 15023.0\n\ntext: If you would draw a card, you may instead choose land or nonland and reveal cards from the top of your library until you reveal a card of the chosen kind. Put that card into your hand and put all other cards revealed this way on the bottom of your library in any order.\n\ntoughness: nan\n\ntype: Enchantment\n\ntypes: Enchantment\n\nuuid: 38513fa0-ea83-5642-8ecd-4f0b3daa6768\n\nvariations: nan\n\nwatermark: nan\n\nsetName: Tenth Edition\n\nbrawl: Blank\n\ncommander: Legal\n\nduel: Legal\n\nfuture: Blank\n\nhistoric: Blank\n\nlegacy: Legal\n\nmodern: Legal\n\noldschool: Blank\n\npauper: Blank\n\npenny: Legal\n\npioneer: Blank\n\nstandard: Blank\n\nvintage: Legal\n\n"
     ]
    }
   ],
   "source": [
    "for col in cards_df.columns:\n",
    "    print(col + ': ' + str(cards_df[col][0]) + '\\n')"
   ]
  },
  {
   "source": [
    "# Download and Store USE Model from TFHub"
   ],
   "cell_type": "markdown",
   "metadata": {}
  },
  {
   "cell_type": "code",
   "execution_count": 5,
   "metadata": {},
   "outputs": [
    {
     "output_type": "stream",
     "name": "stdout",
     "text": [
      "module https://tfhub.dev/google/universal-sentence-encoder-large/5 loaded\n"
     ]
    }
   ],
   "source": [
    "module_url = 'https://tfhub.dev/google/universal-sentence-encoder-large/5'\n",
    "model = hub.load(module_url)\n",
    "print (\"module %s loaded\" % module_url)"
   ]
  },
  {
   "source": [
    "## Saved the downloaded USE-Large model"
   ],
   "cell_type": "markdown",
   "metadata": {}
  },
  {
   "cell_type": "code",
   "execution_count": 2,
   "metadata": {},
   "outputs": [
    {
     "output_type": "error",
     "ename": "NameError",
     "evalue": "name 'model' is not defined",
     "traceback": [
      "\u001b[1;31m---------------------------------------------------------------------------\u001b[0m",
      "\u001b[1;31mNameError\u001b[0m                                 Traceback (most recent call last)",
      "\u001b[1;32m<ipython-input-2-a12f0001efb1>\u001b[0m in \u001b[0;36m<module>\u001b[1;34m\u001b[0m\n\u001b[1;32m----> 1\u001b[1;33m \u001b[0mtf\u001b[0m\u001b[1;33m.\u001b[0m\u001b[0msaved_model\u001b[0m\u001b[1;33m.\u001b[0m\u001b[0msave\u001b[0m\u001b[1;33m(\u001b[0m\u001b[0mmodel\u001b[0m\u001b[1;33m,\u001b[0m \u001b[1;34m\"../models/use-large\"\u001b[0m\u001b[1;33m)\u001b[0m\u001b[1;33m\u001b[0m\u001b[1;33m\u001b[0m\u001b[0m\n\u001b[0m",
      "\u001b[1;31mNameError\u001b[0m: name 'model' is not defined"
     ]
    }
   ],
   "source": [
    "tf.saved_model.save(model, \"../models/use-large\")"
   ]
  },
  {
   "source": [
    "## Load USE-Large from local disk"
   ],
   "cell_type": "markdown",
   "metadata": {}
  },
  {
   "cell_type": "code",
   "execution_count": 30,
   "metadata": {},
   "outputs": [],
   "source": [
    "import tensorflow as tf"
   ]
  },
  {
   "cell_type": "code",
   "execution_count": 31,
   "metadata": {},
   "outputs": [],
   "source": [
    "use_embed = tf.saved_model.load('../models/use-large/1')"
   ]
  },
  {
   "cell_type": "code",
   "execution_count": 27,
   "metadata": {},
   "outputs": [],
   "source": [
    "for local_path in model_files:\n",
    "    s3_key = '/'.join(str(local_path).split('\\\\')[2:])\n",
    "    if '.' in s3_key:\n",
    "        s3.upload_file(str(local_path), 'magicml-models.dev', s3_key)"
   ]
  },
  {
   "source": [
    "***\n",
    "# Get USE Embeddings"
   ],
   "cell_type": "markdown",
   "metadata": {}
  },
  {
   "cell_type": "code",
   "execution_count": 70,
   "metadata": {},
   "outputs": [
    {
     "output_type": "stream",
     "name": "stdout",
     "text": [
      "(5, 5)\n"
     ]
    }
   ],
   "source": [
    "corr = np.inner(embeddings, embeddings)\n",
    "print(corr.shape)"
   ]
  },
  {
   "cell_type": "code",
   "execution_count": 72,
   "metadata": {},
   "outputs": [],
   "source": [
    "import plotly.express as px"
   ]
  },
  {
   "cell_type": "code",
   "execution_count": 73,
   "metadata": {},
   "outputs": [
    {
     "output_type": "error",
     "ename": "NameError",
     "evalue": "name 'arena_name' is not defined",
     "traceback": [
      "\u001b[1;31m---------------------------------------------------------------------------\u001b[0m",
      "\u001b[1;31mNameError\u001b[0m                                 Traceback (most recent call last)",
      "\u001b[1;32m<ipython-input-73-fab3a43054c8>\u001b[0m in \u001b[0;36m<module>\u001b[1;34m\u001b[0m\n\u001b[1;32m----> 1\u001b[1;33m \u001b[0mcard_df\u001b[0m \u001b[1;33m=\u001b[0m \u001b[0mpd\u001b[0m\u001b[1;33m.\u001b[0m\u001b[0mDataFrame\u001b[0m\u001b[1;33m(\u001b[0m\u001b[0mcorr\u001b[0m\u001b[1;33m,\u001b[0m \u001b[0mcolumns\u001b[0m\u001b[1;33m=\u001b[0m\u001b[0marena_name\u001b[0m\u001b[1;33m,\u001b[0m \u001b[0mindex\u001b[0m\u001b[1;33m=\u001b[0m\u001b[0marena_name\u001b[0m\u001b[1;33m)\u001b[0m\u001b[1;33m\u001b[0m\u001b[1;33m\u001b[0m\u001b[0m\n\u001b[0m\u001b[0;32m      2\u001b[0m \u001b[0mcard_df\u001b[0m\u001b[1;33m.\u001b[0m\u001b[0mhead\u001b[0m\u001b[1;33m(\u001b[0m\u001b[1;33m)\u001b[0m\u001b[1;33m\u001b[0m\u001b[1;33m\u001b[0m\u001b[0m\n",
      "\u001b[1;31mNameError\u001b[0m: name 'arena_name' is not defined"
     ]
    }
   ],
   "source": [
    "card_df = pd.DataFrame(corr, columns=arena_name, index=arena_name)\n",
    "card_df.head()"
   ]
  },
  {
   "cell_type": "code",
   "execution_count": 107,
   "metadata": {},
   "outputs": [
    {
     "output_type": "execute_result",
     "data": {
      "text/plain": [
       "'Golos,_Tireless_Pilgrim'"
      ]
     },
     "metadata": {},
     "execution_count": 107
    }
   ],
   "source": [
    "test_card = 'Golos,_Tireless_Pilgrim'\n",
    "test_card"
   ]
  },
  {
   "cell_type": "code",
   "execution_count": 106,
   "metadata": {},
   "outputs": [
    {
     "output_type": "execute_result",
     "data": {
      "text/plain": [
       "['Golos,_Tireless_Pilgrim']"
      ]
     },
     "metadata": {},
     "execution_count": 106
    }
   ],
   "source": [
    "[card for card in card_df.columns if card.startswith('Golos')]"
   ]
  },
  {
   "cell_type": "code",
   "execution_count": 108,
   "metadata": {},
   "outputs": [
    {
     "output_type": "execute_result",
     "data": {
      "text/plain": [
       "      Golos,_Tireless_Pilgrim\n",
       "3059                 1.000000\n",
       "1687                 0.805584\n",
       "1583                 0.801413\n",
       "2606                 0.798853\n",
       "835                  0.796900\n",
       "...                       ...\n",
       "5170                -0.020036\n",
       "3215                -0.020036\n",
       "5212                -0.041830\n",
       "4441                -0.041830\n",
       "5055                -0.041830\n",
       "\n",
       "[5419 rows x 1 columns]"
      ],
      "text/html": "<div>\n<style scoped>\n    .dataframe tbody tr th:only-of-type {\n        vertical-align: middle;\n    }\n\n    .dataframe tbody tr th {\n        vertical-align: top;\n    }\n\n    .dataframe thead th {\n        text-align: right;\n    }\n</style>\n<table border=\"1\" class=\"dataframe\">\n  <thead>\n    <tr style=\"text-align: right;\">\n      <th></th>\n      <th>Golos,_Tireless_Pilgrim</th>\n    </tr>\n  </thead>\n  <tbody>\n    <tr>\n      <th>3059</th>\n      <td>1.000000</td>\n    </tr>\n    <tr>\n      <th>1687</th>\n      <td>0.805584</td>\n    </tr>\n    <tr>\n      <th>1583</th>\n      <td>0.801413</td>\n    </tr>\n    <tr>\n      <th>2606</th>\n      <td>0.798853</td>\n    </tr>\n    <tr>\n      <th>835</th>\n      <td>0.796900</td>\n    </tr>\n    <tr>\n      <th>...</th>\n      <td>...</td>\n    </tr>\n    <tr>\n      <th>5170</th>\n      <td>-0.020036</td>\n    </tr>\n    <tr>\n      <th>3215</th>\n      <td>-0.020036</td>\n    </tr>\n    <tr>\n      <th>5212</th>\n      <td>-0.041830</td>\n    </tr>\n    <tr>\n      <th>4441</th>\n      <td>-0.041830</td>\n    </tr>\n    <tr>\n      <th>5055</th>\n      <td>-0.041830</td>\n    </tr>\n  </tbody>\n</table>\n<p>5419 rows × 1 columns</p>\n</div>"
     },
     "metadata": {},
     "execution_count": 108
    }
   ],
   "source": [
    "card_df[[test_card]].sort_values(by=test_card, ascending=False)"
   ]
  },
  {
   "cell_type": "code",
   "execution_count": 109,
   "metadata": {},
   "outputs": [
    {
     "output_type": "execute_result",
     "data": {
      "text/plain": [
       "array(['When Golos, Tireless Pilgrim enters the battlefield, you may search your library for a land card, put that card onto the battlefield tapped, then shuffle your library.\\n{2}{W}{U}{B}{R}{G}: Exile the top three cards of your library. You may play them this turn without paying their mana costs.'],\n",
       "      dtype=object)"
      ]
     },
     "metadata": {},
     "execution_count": 109
    }
   ],
   "source": [
    "test_card = test_card.replace('_',' ')\n",
    "arena_df.query('name == @test_card').text.values"
   ]
  },
  {
   "cell_type": "code",
   "execution_count": 112,
   "metadata": {},
   "outputs": [
    {
     "output_type": "execute_result",
     "data": {
      "text/plain": [
       "'Emergent Ultimatum'"
      ]
     },
     "metadata": {},
     "execution_count": 112
    }
   ],
   "source": [
    "test_name = arena_name[1583].replace('_',' ')\n",
    "test_name"
   ]
  },
  {
   "cell_type": "code",
   "execution_count": 113,
   "metadata": {},
   "outputs": [
    {
     "output_type": "execute_result",
     "data": {
      "text/plain": [
       "array(['Search your library for up to three monocolored cards with different names and exile them. An opponent chooses one of those cards. Shuffle that card into your library. You may cast the other cards without paying their mana costs. Exile Emergent Ultimatum.'],\n",
       "      dtype=object)"
      ]
     },
     "metadata": {},
     "execution_count": 113
    }
   ],
   "source": [
    "arena_df.query('name == @test_name').text.values"
   ]
  },
  {
   "cell_type": "code",
   "execution_count": null,
   "metadata": {},
   "outputs": [],
   "source": []
  },
  {
   "cell_type": "code",
   "execution_count": null,
   "metadata": {},
   "outputs": [],
   "source": []
  },
  {
   "cell_type": "code",
   "execution_count": null,
   "metadata": {},
   "outputs": [],
   "source": []
  },
  {
   "source": [
    "# Sagemaker Processing Workflow"
   ],
   "cell_type": "markdown",
   "metadata": {}
  },
  {
   "cell_type": "code",
   "execution_count": 6,
   "metadata": {},
   "outputs": [],
   "source": [
    "import os\n",
    "import pathlib\n",
    "import boto3\n",
    "from boto3.session import Session\n",
    "\n",
    "def aws_connect(service, profile='default', session=False):\n",
    "    # Connect to AWS with IAM Role\n",
    "    sess = Session(profile_name=profile)\n",
    "\n",
    "    try:\n",
    "        resource = sess.resource(service)\n",
    "        client = resource.meta.client\n",
    "\n",
    "        if session:\n",
    "            return resource, client, sess\n",
    "        else:\n",
    "            return resource, client\n",
    "    except:\n",
    "        client = sess.client(service)\n",
    "\n",
    "        if session:\n",
    "            return client, sess\n",
    "        else:\n",
    "            return client"
   ]
  },
  {
   "cell_type": "code",
   "execution_count": 7,
   "metadata": {},
   "outputs": [],
   "source": [
    "_, s3, boto_sess = aws_connect('s3', 'lw2134', session=True)"
   ]
  },
  {
   "cell_type": "code",
   "execution_count": null,
   "metadata": {},
   "outputs": [],
   "source": [
    "# Tar the model.tar.gz package\n",
    "# from models/use-large directory\n",
    "'tar -czvf model.tar.gz 1'"
   ]
  },
  {
   "cell_type": "code",
   "execution_count": 40,
   "metadata": {},
   "outputs": [],
   "source": [
    "## SM Processing Job"
   ]
  },
  {
   "cell_type": "code",
   "execution_count": 33,
   "metadata": {},
   "outputs": [],
   "source": [
    "import os\n",
    "import boto3\n",
    "#import sagemaker\n",
    "#from sagemaker.processing import ScriptProcessor, ProcessingInput, ProcessingOutput"
   ]
  },
  {
   "cell_type": "code",
   "execution_count": 138,
   "metadata": {},
   "outputs": [],
   "source": [
    "_, s3, boto_sess = aws_connect('s3', 'lw2134', session=True)\n",
    "sm_client = boto_sess.client('sagemaker')"
   ]
  },
  {
   "cell_type": "code",
   "execution_count": 21,
   "metadata": {},
   "outputs": [],
   "source": [
    "#sagemaker_session = sagemaker.Session(boto_session=boto_sess)\n",
    "role = 'arn:aws:iam::553371509391:role/magicml-sagemaker'\n",
    "image_uri = '763104351884.dkr.ecr.us-east-1.amazonaws.com/tensorflow-training:2.3.1-cpu-py37-ubuntu18.04'\n",
    "\n",
    "model_bucket = 'magicml-models.dev'\n",
    "model_prefix = 'use-large'\n",
    "model_data = 's3://{}/{}/model.tar.gz'.format(model_bucket, model_prefix)\n",
    "\n",
    "input_bucket = 'magicml-clean-data.dev'\n",
    "input_prefix = 'cards'\n",
    "input_data = 's3://{}/{}/cards.csv'.format(input_bucket, input_prefix)\n",
    "\n",
    "src_bucket = 'magicml-src.dev'\n",
    "src_prefix = 'sm_processing'\n",
    "src_code = 's3://{}/{}/process_embeddings.py'.format(src_bucket, src_prefix)\n",
    "\n",
    "output_bucket = 'magicml-inference.dev'\n",
    "output_prefix = 'use-large'\n",
    "output_data = 's3://{}/{}'.format(output_bucket, output_prefix)"
   ]
  },
  {
   "cell_type": "code",
   "execution_count": 18,
   "metadata": {},
   "outputs": [],
   "source": [
    "s3.upload_file('../services/similarity/src/process_embeddings.py', 'magicml-src.dev', 'sm_processing/process_embeddings.py')"
   ]
  },
  {
   "cell_type": "code",
   "execution_count": 24,
   "metadata": {},
   "outputs": [],
   "source": [
    "import datetime"
   ]
  },
  {
   "cell_type": "code",
   "execution_count": 30,
   "metadata": {},
   "outputs": [
    {
     "output_type": "execute_result",
     "data": {
      "text/plain": [
       "'2020-25-12-01-48-25'"
      ]
     },
     "metadata": {},
     "execution_count": 30
    }
   ],
   "source": [
    "now = datetime.datetime.now().strftime(format='%Y-%d-%m-%H-%M-%S')\n",
    "now"
   ]
  },
  {
   "cell_type": "code",
   "execution_count": 31,
   "metadata": {},
   "outputs": [
    {
     "output_type": "execute_result",
     "data": {
      "text/plain": [
       "{'ProcessingJobArn': 'arn:aws:sagemaker:us-east-1:553371509391:processing-job/use-large-embeddings-2020-25-12-01-48-25',\n",
       " 'ResponseMetadata': {'RequestId': 'd6479411-03f0-4e78-b0ff-b5575e855867',\n",
       "  'HTTPStatusCode': 200,\n",
       "  'HTTPHeaders': {'x-amzn-requestid': 'd6479411-03f0-4e78-b0ff-b5575e855867',\n",
       "   'content-type': 'application/x-amz-json-1.1',\n",
       "   'content-length': '119',\n",
       "   'date': 'Fri, 25 Dec 2020 06:48:13 GMT'},\n",
       "  'RetryAttempts': 0}}"
      ]
     },
     "metadata": {},
     "execution_count": 31
    }
   ],
   "source": [
    "sm_client.create_processing_job(\n",
    "    ProcessingJobName='use-large-embeddings-{}'.format(now),\n",
    "    RoleArn=role,\n",
    "    StoppingCondition={\n",
    "        'MaxRuntimeInSeconds': 7200\n",
    "    },\n",
    "    AppSpecification={\n",
    "        'ImageUri': image_uri,\n",
    "        'ContainerEntrypoint': [\n",
    "            'python3',\n",
    "            '-v',\n",
    "            '/opt/ml/processing/input/code/process_embeddings.py'\n",
    "        ]\n",
    "    },\n",
    "    ProcessingResources={\n",
    "        'ClusterConfig': {\n",
    "            'InstanceCount': 1,\n",
    "            'InstanceType': 'ml.m5.2xlarge',\n",
    "            'VolumeSizeInGB': 30\n",
    "        }\n",
    "    },\n",
    "    ProcessingInputs=[\n",
    "        {\n",
    "            'InputName': 'model',\n",
    "            'S3Input': {\n",
    "                'S3Uri': model_data,\n",
    "                'LocalPath': '/opt/ml/processing/model',\n",
    "                'S3DataType': 'S3Prefix',\n",
    "                'S3InputMode': 'File',\n",
    "                'S3DataDistributionType': 'FullyReplicated'\n",
    "            }\n",
    "        },\n",
    "        {\n",
    "            'InputName': 'cards',\n",
    "            'S3Input': {\n",
    "                'S3Uri': input_data,\n",
    "                'LocalPath': '/opt/ml/processing/input',\n",
    "                'S3DataType': 'S3Prefix',\n",
    "                'S3InputMode': 'File',\n",
    "                'S3DataDistributionType': 'FullyReplicated',\n",
    "            }\n",
    "        },\n",
    "        {\n",
    "            'InputName': 'code',\n",
    "            'S3Input': {\n",
    "                'S3Uri': src_code,\n",
    "                'LocalPath': '/opt/ml/processing/input/code',\n",
    "                'S3DataType': 'S3Prefix',\n",
    "                'S3InputMode': 'File',\n",
    "                'S3DataDistributionType': 'FullyReplicated'\n",
    "            }\n",
    "        }\n",
    "    ],\n",
    "    ProcessingOutputConfig={\n",
    "        'Outputs': [\n",
    "            {\n",
    "                'OutputName': 'embeddings',\n",
    "                'S3Output': {\n",
    "                    'S3Uri': output_data,\n",
    "                    'LocalPath': '/opt/ml/processing/output',\n",
    "                    'S3UploadMode': 'EndOfJob'\n",
    "                }\n",
    "            }\n",
    "        ]\n",
    "    }\n",
    ")"
   ]
  },
  {
   "source": [
    "# Stage in Lambda - Sort, Merge, and Save in EFS"
   ],
   "cell_type": "markdown",
   "metadata": {}
  },
  {
   "cell_type": "code",
   "execution_count": 9,
   "metadata": {},
   "outputs": [],
   "source": [
    "import pandas as pd"
   ]
  },
  {
   "cell_type": "code",
   "execution_count": 35,
   "metadata": {},
   "outputs": [],
   "source": [
    "s3.download_file('magicml-inference.dev', 'use-large/arena_embeddings.csv', 'embeddings.csv')"
   ]
  },
  {
   "cell_type": "code",
   "execution_count": 112,
   "metadata": {},
   "outputs": [
    {
     "output_type": "stream",
     "name": "stdout",
     "text": [
      "(5419, 5420)\n"
     ]
    },
    {
     "output_type": "execute_result",
     "data": {
      "text/plain": [
       "                        Names  Archon_of_Sun's_Grace-AJMP  \\\n",
       "0  Archon_of_Sun's_Grace-AJMP                    1.000000   \n",
       "1        Audacious_Thief-AJMP                    0.388027   \n",
       "2        Banishing_Light-AJMP                    0.540133   \n",
       "\n",
       "   Audacious_Thief-AJMP  Banishing_Light-AJMP  Bond_of_Revival-AJMP  \\\n",
       "0              0.388027              0.540133              0.626441   \n",
       "1              1.000000              0.364457              0.447599   \n",
       "2              0.364457              1.000000              0.583114   \n",
       "\n",
       "   Carnifex_Demon-AJMP  Doomed_Necromancer-AJMP  Dryad_Greenseeker-AJMP  \\\n",
       "0             0.514713                 0.497357                0.414993   \n",
       "1             0.297466                 0.377156                0.339213   \n",
       "2             0.458850                 0.504666                0.293982   \n",
       "\n",
       "   Fanatic_of_Mogis-AJMP  Gadwick,_the_Wizened-AJMP  ...  \\\n",
       "0               0.587006                   0.667408  ...   \n",
       "1               0.379261                   0.452389  ...   \n",
       "2               0.581624                   0.707415  ...   \n",
       "\n",
       "   Veteran_Adventurer-ZNR  Vine_Gecko-ZNR  Wayward_Guide-Beast-ZNR  \\\n",
       "0                0.372712        0.545192                 0.698247   \n",
       "1                0.386959        0.421869                 0.409473   \n",
       "2                0.250604        0.421688                 0.535110   \n",
       "\n",
       "   Windrider_Wizard-ZNR  Yasharn,_Implacable_Earth-ZNR  \\\n",
       "0              0.554204                       0.654834   \n",
       "1              0.473218                       0.464308   \n",
       "2              0.520927                       0.534659   \n",
       "\n",
       "   Zagras,_Thief_of_Heartbeats-ZNR  Zareth_San,_the_Trickster-ZNR  \\\n",
       "0                         0.693039                       0.552945   \n",
       "1                         0.392080                       0.448119   \n",
       "2                         0.525378                       0.570414   \n",
       "\n",
       "   Zof_Consumption_II_Zof_Bloodbog-ZNR  Zof_Consumption_II_Zof_Bloodbog-ZNR.1  \\\n",
       "0                             0.199106                               0.365390   \n",
       "1                             0.156082                               0.608094   \n",
       "2                             0.242288                               0.342716   \n",
       "\n",
       "   Zulaport_Duelist-ZNR  \n",
       "0              0.576490  \n",
       "1              0.399204  \n",
       "2              0.529742  \n",
       "\n",
       "[3 rows x 5420 columns]"
      ],
      "text/html": "<div>\n<style scoped>\n    .dataframe tbody tr th:only-of-type {\n        vertical-align: middle;\n    }\n\n    .dataframe tbody tr th {\n        vertical-align: top;\n    }\n\n    .dataframe thead th {\n        text-align: right;\n    }\n</style>\n<table border=\"1\" class=\"dataframe\">\n  <thead>\n    <tr style=\"text-align: right;\">\n      <th></th>\n      <th>Names</th>\n      <th>Archon_of_Sun's_Grace-AJMP</th>\n      <th>Audacious_Thief-AJMP</th>\n      <th>Banishing_Light-AJMP</th>\n      <th>Bond_of_Revival-AJMP</th>\n      <th>Carnifex_Demon-AJMP</th>\n      <th>Doomed_Necromancer-AJMP</th>\n      <th>Dryad_Greenseeker-AJMP</th>\n      <th>Fanatic_of_Mogis-AJMP</th>\n      <th>Gadwick,_the_Wizened-AJMP</th>\n      <th>...</th>\n      <th>Veteran_Adventurer-ZNR</th>\n      <th>Vine_Gecko-ZNR</th>\n      <th>Wayward_Guide-Beast-ZNR</th>\n      <th>Windrider_Wizard-ZNR</th>\n      <th>Yasharn,_Implacable_Earth-ZNR</th>\n      <th>Zagras,_Thief_of_Heartbeats-ZNR</th>\n      <th>Zareth_San,_the_Trickster-ZNR</th>\n      <th>Zof_Consumption_II_Zof_Bloodbog-ZNR</th>\n      <th>Zof_Consumption_II_Zof_Bloodbog-ZNR.1</th>\n      <th>Zulaport_Duelist-ZNR</th>\n    </tr>\n  </thead>\n  <tbody>\n    <tr>\n      <th>0</th>\n      <td>Archon_of_Sun's_Grace-AJMP</td>\n      <td>1.000000</td>\n      <td>0.388027</td>\n      <td>0.540133</td>\n      <td>0.626441</td>\n      <td>0.514713</td>\n      <td>0.497357</td>\n      <td>0.414993</td>\n      <td>0.587006</td>\n      <td>0.667408</td>\n      <td>...</td>\n      <td>0.372712</td>\n      <td>0.545192</td>\n      <td>0.698247</td>\n      <td>0.554204</td>\n      <td>0.654834</td>\n      <td>0.693039</td>\n      <td>0.552945</td>\n      <td>0.199106</td>\n      <td>0.365390</td>\n      <td>0.576490</td>\n    </tr>\n    <tr>\n      <th>1</th>\n      <td>Audacious_Thief-AJMP</td>\n      <td>0.388027</td>\n      <td>1.000000</td>\n      <td>0.364457</td>\n      <td>0.447599</td>\n      <td>0.297466</td>\n      <td>0.377156</td>\n      <td>0.339213</td>\n      <td>0.379261</td>\n      <td>0.452389</td>\n      <td>...</td>\n      <td>0.386959</td>\n      <td>0.421869</td>\n      <td>0.409473</td>\n      <td>0.473218</td>\n      <td>0.464308</td>\n      <td>0.392080</td>\n      <td>0.448119</td>\n      <td>0.156082</td>\n      <td>0.608094</td>\n      <td>0.399204</td>\n    </tr>\n    <tr>\n      <th>2</th>\n      <td>Banishing_Light-AJMP</td>\n      <td>0.540133</td>\n      <td>0.364457</td>\n      <td>1.000000</td>\n      <td>0.583114</td>\n      <td>0.458850</td>\n      <td>0.504666</td>\n      <td>0.293982</td>\n      <td>0.581624</td>\n      <td>0.707415</td>\n      <td>...</td>\n      <td>0.250604</td>\n      <td>0.421688</td>\n      <td>0.535110</td>\n      <td>0.520927</td>\n      <td>0.534659</td>\n      <td>0.525378</td>\n      <td>0.570414</td>\n      <td>0.242288</td>\n      <td>0.342716</td>\n      <td>0.529742</td>\n    </tr>\n  </tbody>\n</table>\n<p>3 rows × 5420 columns</p>\n</div>"
     },
     "metadata": {},
     "execution_count": 112
    }
   ],
   "source": [
    "pred_df = pd.read_csv('embeddings.csv')\\\n",
    "    .rename(columns={'Unnamed: 0': 'Names'})\n",
    "\n",
    "print(pred_df.shape)\n",
    "pred_df.head(3)"
   ]
  },
  {
   "cell_type": "code",
   "execution_count": 114,
   "metadata": {},
   "outputs": [
    {
     "output_type": "execute_result",
     "data": {
      "text/plain": [
       "5420"
      ]
     },
     "metadata": {},
     "execution_count": 114
    }
   ],
   "source": [
    "pred_df.columns.nunique()"
   ]
  },
  {
   "cell_type": "code",
   "execution_count": 119,
   "metadata": {},
   "outputs": [
    {
     "output_type": "execute_result",
     "data": {
      "text/plain": [
       "4875"
      ]
     },
     "metadata": {},
     "execution_count": 119
    }
   ],
   "source": [
    "cards_df.Names.nunique()"
   ]
  },
  {
   "cell_type": "code",
   "execution_count": 120,
   "metadata": {},
   "outputs": [
    {
     "output_type": "execute_result",
     "data": {
      "text/plain": [
       "5283"
      ]
     },
     "metadata": {},
     "execution_count": 120
    }
   ],
   "source": [
    "cards_df.scryfallId.nunique()"
   ]
  },
  {
   "cell_type": "code",
   "execution_count": 129,
   "metadata": {},
   "outputs": [
    {
     "output_type": "execute_result",
     "data": {
      "text/plain": [
       "5419"
      ]
     },
     "metadata": {},
     "execution_count": 129
    }
   ],
   "source": [
    "cards_df.id.nunique()"
   ]
  },
  {
   "cell_type": "code",
   "execution_count": 118,
   "metadata": {},
   "outputs": [
    {
     "output_type": "execute_result",
     "data": {
      "text/plain": [
       "                                     Names     id  mtgArenaId  \\\n",
       "55940  Zof_Consumption_II_Zof_Bloodbog-ZNR  55941     73331.0   \n",
       "55941  Zof_Consumption_II_Zof_Bloodbog-ZNR  55942     73331.0   \n",
       "\n",
       "                                 scryfallId                             name  \\\n",
       "55940  98496d5b-1519-4f0c-8b46-0a43be643dfb  Zof Consumption // Zof Bloodbog   \n",
       "55941  98496d5b-1519-4f0c-8b46-0a43be643dfb  Zof Consumption // Zof Bloodbog   \n",
       "\n",
       "      colors          setName  convertedManaCost   manaCost loyalty  ...  \\\n",
       "55940      0  Zendikar Rising                6.0          0       0  ...   \n",
       "55941      B  Zendikar Rising                6.0  {4}{B}{B}       0  ...   \n",
       "\n",
       "      future historic legacy modern oldschool pauper  penny pioneer standard  \\\n",
       "55940  Legal    Legal  Legal  Legal     Blank  Blank  Legal   Legal    Legal   \n",
       "55941  Legal    Legal  Legal  Legal     Blank  Blank  Legal   Legal    Legal   \n",
       "\n",
       "      vintage  \n",
       "55940   Legal  \n",
       "55941   Legal  \n",
       "\n",
       "[2 rows x 29 columns]"
      ],
      "text/html": "<div>\n<style scoped>\n    .dataframe tbody tr th:only-of-type {\n        vertical-align: middle;\n    }\n\n    .dataframe tbody tr th {\n        vertical-align: top;\n    }\n\n    .dataframe thead th {\n        text-align: right;\n    }\n</style>\n<table border=\"1\" class=\"dataframe\">\n  <thead>\n    <tr style=\"text-align: right;\">\n      <th></th>\n      <th>Names</th>\n      <th>id</th>\n      <th>mtgArenaId</th>\n      <th>scryfallId</th>\n      <th>name</th>\n      <th>colors</th>\n      <th>setName</th>\n      <th>convertedManaCost</th>\n      <th>manaCost</th>\n      <th>loyalty</th>\n      <th>...</th>\n      <th>future</th>\n      <th>historic</th>\n      <th>legacy</th>\n      <th>modern</th>\n      <th>oldschool</th>\n      <th>pauper</th>\n      <th>penny</th>\n      <th>pioneer</th>\n      <th>standard</th>\n      <th>vintage</th>\n    </tr>\n  </thead>\n  <tbody>\n    <tr>\n      <th>55940</th>\n      <td>Zof_Consumption_II_Zof_Bloodbog-ZNR</td>\n      <td>55941</td>\n      <td>73331.0</td>\n      <td>98496d5b-1519-4f0c-8b46-0a43be643dfb</td>\n      <td>Zof Consumption // Zof Bloodbog</td>\n      <td>0</td>\n      <td>Zendikar Rising</td>\n      <td>6.0</td>\n      <td>0</td>\n      <td>0</td>\n      <td>...</td>\n      <td>Legal</td>\n      <td>Legal</td>\n      <td>Legal</td>\n      <td>Legal</td>\n      <td>Blank</td>\n      <td>Blank</td>\n      <td>Legal</td>\n      <td>Legal</td>\n      <td>Legal</td>\n      <td>Legal</td>\n    </tr>\n    <tr>\n      <th>55941</th>\n      <td>Zof_Consumption_II_Zof_Bloodbog-ZNR</td>\n      <td>55942</td>\n      <td>73331.0</td>\n      <td>98496d5b-1519-4f0c-8b46-0a43be643dfb</td>\n      <td>Zof Consumption // Zof Bloodbog</td>\n      <td>B</td>\n      <td>Zendikar Rising</td>\n      <td>6.0</td>\n      <td>{4}{B}{B}</td>\n      <td>0</td>\n      <td>...</td>\n      <td>Legal</td>\n      <td>Legal</td>\n      <td>Legal</td>\n      <td>Legal</td>\n      <td>Blank</td>\n      <td>Blank</td>\n      <td>Legal</td>\n      <td>Legal</td>\n      <td>Legal</td>\n      <td>Legal</td>\n    </tr>\n  </tbody>\n</table>\n<p>2 rows × 29 columns</p>\n</div>"
     },
     "metadata": {},
     "execution_count": 118
    }
   ],
   "source": [
    "cards_df.query('Names == \"Zof_Consumption_II_Zof_Bloodbog-ZNR\"')"
   ]
  },
  {
   "cell_type": "code",
   "execution_count": 11,
   "metadata": {},
   "outputs": [],
   "source": [
    "all_cards = pred_df.columns\n",
    "\n",
    "BATCH_SIZE = 100\n",
    "batches = [list(all_cards[n:n+BATCH_SIZE]) for n in range(1, len(all_cards), BATCH_SIZE)]"
   ]
  },
  {
   "cell_type": "code",
   "execution_count": null,
   "metadata": {},
   "outputs": [],
   "source": []
  },
  {
   "cell_type": "code",
   "execution_count": 93,
   "metadata": {},
   "outputs": [],
   "source": [
    "merge_cols = [\n",
    "    'Names','id','mtgArenaId','scryfallId','name','colors','setName',\n",
    "    'convertedManaCost','manaCost','loyalty','power','toughness',\n",
    "    'type','types','subtypes','text',\n",
    "    'brawl','commander','duel','future','historic','legacy','modern',\n",
    "    'oldschool','pauper','penny','pioneer','standard','vintage'\n",
    "]"
   ]
  },
  {
   "cell_type": "code",
   "execution_count": 265,
   "metadata": {},
   "outputs": [
    {
     "output_type": "stream",
     "name": "stdout",
     "text": [
      "(5419, 29)\n"
     ]
    },
    {
     "output_type": "execute_result",
     "data": {
      "text/plain": [
       "                           Names    id  mtgArenaId  \\\n",
       "4753  Archon_of_Sun's_Grace-4754  4754     74983.0   \n",
       "4754        Audacious_Thief-4755  4755     74991.0   \n",
       "4755        Banishing_Light-4756  4756     74986.0   \n",
       "\n",
       "                                scryfallId                   name colors  \\\n",
       "4753  94f05268-0d4f-4638-aec3-a85fc339e3a7  Archon of Sun's Grace      W   \n",
       "4754  ba315deb-d5a9-4013-b6ef-e4efe652e569        Audacious Thief      B   \n",
       "4755  ca112bae-6ac5-4cdf-9e8c-1b99f7396995        Banishing Light      W   \n",
       "\n",
       "                         setName  convertedManaCost   manaCost loyalty  ...  \\\n",
       "4753  Jumpstart Arena Exclusives                4.0  {2}{W}{W}       0  ...   \n",
       "4754  Jumpstart Arena Exclusives                3.0     {2}{B}       0  ...   \n",
       "4755  Jumpstart Arena Exclusives                3.0     {2}{W}       0  ...   \n",
       "\n",
       "     future historic legacy modern oldschool pauper  penny pioneer standard  \\\n",
       "4753  Legal    Legal  Legal  Legal     Blank  Blank  Blank   Legal    Legal   \n",
       "4754  Blank    Legal  Legal  Legal     Blank  Legal  Blank   Legal    Blank   \n",
       "4755  Legal    Legal  Legal  Legal     Blank  Blank  Legal   Legal    Legal   \n",
       "\n",
       "     vintage  \n",
       "4753   Legal  \n",
       "4754   Legal  \n",
       "4755   Legal  \n",
       "\n",
       "[3 rows x 29 columns]"
      ],
      "text/html": "<div>\n<style scoped>\n    .dataframe tbody tr th:only-of-type {\n        vertical-align: middle;\n    }\n\n    .dataframe tbody tr th {\n        vertical-align: top;\n    }\n\n    .dataframe thead th {\n        text-align: right;\n    }\n</style>\n<table border=\"1\" class=\"dataframe\">\n  <thead>\n    <tr style=\"text-align: right;\">\n      <th></th>\n      <th>Names</th>\n      <th>id</th>\n      <th>mtgArenaId</th>\n      <th>scryfallId</th>\n      <th>name</th>\n      <th>colors</th>\n      <th>setName</th>\n      <th>convertedManaCost</th>\n      <th>manaCost</th>\n      <th>loyalty</th>\n      <th>...</th>\n      <th>future</th>\n      <th>historic</th>\n      <th>legacy</th>\n      <th>modern</th>\n      <th>oldschool</th>\n      <th>pauper</th>\n      <th>penny</th>\n      <th>pioneer</th>\n      <th>standard</th>\n      <th>vintage</th>\n    </tr>\n  </thead>\n  <tbody>\n    <tr>\n      <th>4753</th>\n      <td>Archon_of_Sun's_Grace-4754</td>\n      <td>4754</td>\n      <td>74983.0</td>\n      <td>94f05268-0d4f-4638-aec3-a85fc339e3a7</td>\n      <td>Archon of Sun's Grace</td>\n      <td>W</td>\n      <td>Jumpstart Arena Exclusives</td>\n      <td>4.0</td>\n      <td>{2}{W}{W}</td>\n      <td>0</td>\n      <td>...</td>\n      <td>Legal</td>\n      <td>Legal</td>\n      <td>Legal</td>\n      <td>Legal</td>\n      <td>Blank</td>\n      <td>Blank</td>\n      <td>Blank</td>\n      <td>Legal</td>\n      <td>Legal</td>\n      <td>Legal</td>\n    </tr>\n    <tr>\n      <th>4754</th>\n      <td>Audacious_Thief-4755</td>\n      <td>4755</td>\n      <td>74991.0</td>\n      <td>ba315deb-d5a9-4013-b6ef-e4efe652e569</td>\n      <td>Audacious Thief</td>\n      <td>B</td>\n      <td>Jumpstart Arena Exclusives</td>\n      <td>3.0</td>\n      <td>{2}{B}</td>\n      <td>0</td>\n      <td>...</td>\n      <td>Blank</td>\n      <td>Legal</td>\n      <td>Legal</td>\n      <td>Legal</td>\n      <td>Blank</td>\n      <td>Legal</td>\n      <td>Blank</td>\n      <td>Legal</td>\n      <td>Blank</td>\n      <td>Legal</td>\n    </tr>\n    <tr>\n      <th>4755</th>\n      <td>Banishing_Light-4756</td>\n      <td>4756</td>\n      <td>74986.0</td>\n      <td>ca112bae-6ac5-4cdf-9e8c-1b99f7396995</td>\n      <td>Banishing Light</td>\n      <td>W</td>\n      <td>Jumpstart Arena Exclusives</td>\n      <td>3.0</td>\n      <td>{2}{W}</td>\n      <td>0</td>\n      <td>...</td>\n      <td>Legal</td>\n      <td>Legal</td>\n      <td>Legal</td>\n      <td>Legal</td>\n      <td>Blank</td>\n      <td>Blank</td>\n      <td>Legal</td>\n      <td>Legal</td>\n      <td>Legal</td>\n      <td>Legal</td>\n    </tr>\n  </tbody>\n</table>\n<p>3 rows × 29 columns</p>\n</div>"
     },
     "metadata": {},
     "execution_count": 265
    }
   ],
   "source": [
    "cards_df = pd.read_csv('cards.csv')\\\n",
    "    .query('mtgArenaId.notnull()')\\\n",
    "    .assign(Names=lambda df: df.name + '-' + df.id.astype('str'))\\\n",
    "    .assign(Names=lambda df: df.Names.apply(lambda x: x.replace(' ', '_').replace('//', 'II')))\\\n",
    "    .fillna('0')\\\n",
    "    [merge_cols]\n",
    "\n",
    "print(cards_df.shape)\n",
    "cards_df.head(3)"
   ]
  },
  {
   "cell_type": "code",
   "execution_count": 266,
   "metadata": {},
   "outputs": [
    {
     "output_type": "execute_result",
     "data": {
      "text/plain": [
       "5419"
      ]
     },
     "metadata": {},
     "execution_count": 266
    }
   ],
   "source": [
    "cards_df.Names.nunique()"
   ]
  },
  {
   "cell_type": "code",
   "execution_count": 267,
   "metadata": {},
   "outputs": [
    {
     "output_type": "execute_result",
     "data": {
      "text/plain": [
       "4267"
      ]
     },
     "metadata": {},
     "execution_count": 267
    }
   ],
   "source": [
    "cards_df.name.nunique()"
   ]
  },
  {
   "cell_type": "code",
   "execution_count": 268,
   "metadata": {},
   "outputs": [
    {
     "output_type": "execute_result",
     "data": {
      "text/plain": [
       "5283"
      ]
     },
     "metadata": {},
     "execution_count": 268
    }
   ],
   "source": [
    "cards_df.scryfallId.nunique()"
   ]
  },
  {
   "cell_type": "code",
   "execution_count": 270,
   "metadata": {},
   "outputs": [
    {
     "output_type": "execute_result",
     "data": {
      "text/plain": [
       "              Names     id  mtgArenaId                            scryfallId  \\\n",
       "29175  Negate-29176  29176     69854.0  33b83158-78b4-425e-8379-be3ef038295c   \n",
       "45762  Negate-45763  45763     66705.0  31534f45-43e6-4103-bf58-ad8fa688e4b0   \n",
       "55742  Negate-55743  55743     73262.0  e92c7477-d453-4fa4-acf4-3835ab9eb55a   \n",
       "\n",
       "         name colors           setName  convertedManaCost manaCost loyalty  \\\n",
       "29175  Negate      U     Core Set 2020                2.0   {1}{U}       0   \n",
       "45762  Negate      U  Rivals of Ixalan                2.0   {1}{U}       0   \n",
       "55742  Negate      U   Zendikar Rising                2.0   {1}{U}       0   \n",
       "\n",
       "       ... future historic legacy modern oldschool pauper  penny pioneer  \\\n",
       "29175  ...  Legal    Legal  Legal  Legal     Blank  Legal  Legal   Legal   \n",
       "45762  ...  Legal    Legal  Legal  Legal     Blank  Legal  Legal   Legal   \n",
       "55742  ...  Legal    Legal  Legal  Legal     Blank  Legal  Legal   Legal   \n",
       "\n",
       "      standard vintage  \n",
       "29175    Legal   Legal  \n",
       "45762    Legal   Legal  \n",
       "55742    Legal   Legal  \n",
       "\n",
       "[3 rows x 29 columns]"
      ],
      "text/html": "<div>\n<style scoped>\n    .dataframe tbody tr th:only-of-type {\n        vertical-align: middle;\n    }\n\n    .dataframe tbody tr th {\n        vertical-align: top;\n    }\n\n    .dataframe thead th {\n        text-align: right;\n    }\n</style>\n<table border=\"1\" class=\"dataframe\">\n  <thead>\n    <tr style=\"text-align: right;\">\n      <th></th>\n      <th>Names</th>\n      <th>id</th>\n      <th>mtgArenaId</th>\n      <th>scryfallId</th>\n      <th>name</th>\n      <th>colors</th>\n      <th>setName</th>\n      <th>convertedManaCost</th>\n      <th>manaCost</th>\n      <th>loyalty</th>\n      <th>...</th>\n      <th>future</th>\n      <th>historic</th>\n      <th>legacy</th>\n      <th>modern</th>\n      <th>oldschool</th>\n      <th>pauper</th>\n      <th>penny</th>\n      <th>pioneer</th>\n      <th>standard</th>\n      <th>vintage</th>\n    </tr>\n  </thead>\n  <tbody>\n    <tr>\n      <th>29175</th>\n      <td>Negate-29176</td>\n      <td>29176</td>\n      <td>69854.0</td>\n      <td>33b83158-78b4-425e-8379-be3ef038295c</td>\n      <td>Negate</td>\n      <td>U</td>\n      <td>Core Set 2020</td>\n      <td>2.0</td>\n      <td>{1}{U}</td>\n      <td>0</td>\n      <td>...</td>\n      <td>Legal</td>\n      <td>Legal</td>\n      <td>Legal</td>\n      <td>Legal</td>\n      <td>Blank</td>\n      <td>Legal</td>\n      <td>Legal</td>\n      <td>Legal</td>\n      <td>Legal</td>\n      <td>Legal</td>\n    </tr>\n    <tr>\n      <th>45762</th>\n      <td>Negate-45763</td>\n      <td>45763</td>\n      <td>66705.0</td>\n      <td>31534f45-43e6-4103-bf58-ad8fa688e4b0</td>\n      <td>Negate</td>\n      <td>U</td>\n      <td>Rivals of Ixalan</td>\n      <td>2.0</td>\n      <td>{1}{U}</td>\n      <td>0</td>\n      <td>...</td>\n      <td>Legal</td>\n      <td>Legal</td>\n      <td>Legal</td>\n      <td>Legal</td>\n      <td>Blank</td>\n      <td>Legal</td>\n      <td>Legal</td>\n      <td>Legal</td>\n      <td>Legal</td>\n      <td>Legal</td>\n    </tr>\n    <tr>\n      <th>55742</th>\n      <td>Negate-55743</td>\n      <td>55743</td>\n      <td>73262.0</td>\n      <td>e92c7477-d453-4fa4-acf4-3835ab9eb55a</td>\n      <td>Negate</td>\n      <td>U</td>\n      <td>Zendikar Rising</td>\n      <td>2.0</td>\n      <td>{1}{U}</td>\n      <td>0</td>\n      <td>...</td>\n      <td>Legal</td>\n      <td>Legal</td>\n      <td>Legal</td>\n      <td>Legal</td>\n      <td>Blank</td>\n      <td>Legal</td>\n      <td>Legal</td>\n      <td>Legal</td>\n      <td>Legal</td>\n      <td>Legal</td>\n    </tr>\n  </tbody>\n</table>\n<p>3 rows × 29 columns</p>\n</div>"
     },
     "metadata": {},
     "execution_count": 270
    }
   ],
   "source": [
    "cards_df\\\n",
    "    .query('name == \"Negate\"')"
   ]
  },
  {
   "cell_type": "code",
   "execution_count": 256,
   "metadata": {},
   "outputs": [
    {
     "output_type": "execute_result",
     "data": {
      "text/plain": [
       "5419"
      ]
     },
     "metadata": {},
     "execution_count": 256
    }
   ],
   "source": [
    "cards_df.Names.nunique()"
   ]
  },
  {
   "cell_type": "code",
   "execution_count": null,
   "metadata": {},
   "outputs": [],
   "source": []
  },
  {
   "cell_type": "code",
   "execution_count": 105,
   "metadata": {},
   "outputs": [
    {
     "output_type": "execute_result",
     "data": {
      "text/plain": [
       "'Audacious_Thief-M20'"
      ]
     },
     "metadata": {},
     "execution_count": 105
    }
   ],
   "source": [
    "card = 'Audacious_Thief-M20'\n",
    "card"
   ]
  },
  {
   "cell_type": "code",
   "execution_count": 107,
   "metadata": {},
   "outputs": [
    {
     "output_type": "stream",
     "name": "stdout",
     "text": [
      "Audacious_Thief-M20\n"
     ]
    },
    {
     "output_type": "execute_result",
     "data": {
      "text/plain": [
       "                     Names  similarity       id mtgArenaId  \\\n",
       "4095   Audacious_Thief-M20  0.99999976  28988.0    69869.0   \n",
       "1     Audacious_Thief-AJMP  0.99999976   4755.0    74991.0   \n",
       "\n",
       "                                scryfallId             name colors  \\\n",
       "4095  e1ff5e66-4718-43c3-8a58-1a0a8e788f83  Audacious Thief      B   \n",
       "1     ba315deb-d5a9-4013-b6ef-e4efe652e569  Audacious Thief      B   \n",
       "\n",
       "                         setName convertedManaCost manaCost  ... future  \\\n",
       "4095               Core Set 2020               3.0   {2}{B}  ...  Blank   \n",
       "1     Jumpstart Arena Exclusives               3.0   {2}{B}  ...  Blank   \n",
       "\n",
       "     historic legacy modern oldschool pauper  penny pioneer standard vintage  \n",
       "4095    Legal  Legal  Legal     Blank  Legal  Blank   Legal    Blank   Legal  \n",
       "1       Legal  Legal  Legal     Blank  Legal  Blank   Legal    Blank   Legal  \n",
       "\n",
       "[2 rows x 30 columns]"
      ],
      "text/html": "<div>\n<style scoped>\n    .dataframe tbody tr th:only-of-type {\n        vertical-align: middle;\n    }\n\n    .dataframe tbody tr th {\n        vertical-align: top;\n    }\n\n    .dataframe thead th {\n        text-align: right;\n    }\n</style>\n<table border=\"1\" class=\"dataframe\">\n  <thead>\n    <tr style=\"text-align: right;\">\n      <th></th>\n      <th>Names</th>\n      <th>similarity</th>\n      <th>id</th>\n      <th>mtgArenaId</th>\n      <th>scryfallId</th>\n      <th>name</th>\n      <th>colors</th>\n      <th>setName</th>\n      <th>convertedManaCost</th>\n      <th>manaCost</th>\n      <th>...</th>\n      <th>future</th>\n      <th>historic</th>\n      <th>legacy</th>\n      <th>modern</th>\n      <th>oldschool</th>\n      <th>pauper</th>\n      <th>penny</th>\n      <th>pioneer</th>\n      <th>standard</th>\n      <th>vintage</th>\n    </tr>\n  </thead>\n  <tbody>\n    <tr>\n      <th>4095</th>\n      <td>Audacious_Thief-M20</td>\n      <td>0.99999976</td>\n      <td>28988.0</td>\n      <td>69869.0</td>\n      <td>e1ff5e66-4718-43c3-8a58-1a0a8e788f83</td>\n      <td>Audacious Thief</td>\n      <td>B</td>\n      <td>Core Set 2020</td>\n      <td>3.0</td>\n      <td>{2}{B}</td>\n      <td>...</td>\n      <td>Blank</td>\n      <td>Legal</td>\n      <td>Legal</td>\n      <td>Legal</td>\n      <td>Blank</td>\n      <td>Legal</td>\n      <td>Blank</td>\n      <td>Legal</td>\n      <td>Blank</td>\n      <td>Legal</td>\n    </tr>\n    <tr>\n      <th>1</th>\n      <td>Audacious_Thief-AJMP</td>\n      <td>0.99999976</td>\n      <td>4755.0</td>\n      <td>74991.0</td>\n      <td>ba315deb-d5a9-4013-b6ef-e4efe652e569</td>\n      <td>Audacious Thief</td>\n      <td>B</td>\n      <td>Jumpstart Arena Exclusives</td>\n      <td>3.0</td>\n      <td>{2}{B}</td>\n      <td>...</td>\n      <td>Blank</td>\n      <td>Legal</td>\n      <td>Legal</td>\n      <td>Legal</td>\n      <td>Blank</td>\n      <td>Legal</td>\n      <td>Blank</td>\n      <td>Legal</td>\n      <td>Blank</td>\n      <td>Legal</td>\n    </tr>\n  </tbody>\n</table>\n<p>2 rows × 30 columns</p>\n</div>"
     },
     "metadata": {},
     "execution_count": 107
    }
   ],
   "source": [
    "staged_card = pred_df[['Names', card]]\\\n",
    "    .merge(cards_df, how='left', on='Names')\\\n",
    "    .sort_values(by=card, ascending=False)\\\n",
    "    .head(10)\\\n",
    "    .rename(columns={card: 'similarity'})\\\n",
    "    .assign(similarity=lambda df: df.similarity.astype('str'))\\\n",
    "    .assign(id=lambda df: df.id.astype('str'))\\\n",
    "    .assign(mtgArenaId=lambda df: df.mtgArenaId.astype('str'))\\\n",
    "    .assign(loyalty=lambda df: df.loyalty.astype('str'))\\\n",
    "    .assign(power=lambda df: df.power.astype('str'))\\\n",
    "    .assign(toughness=lambda df: df.toughness.astype('str'))\\\n",
    "    .assign(convertedManaCost=lambda df: df.convertedManaCost.astype('str'))\n",
    "\n",
    "print(card)\n",
    "staged_card.head(2)"
   ]
  },
  {
   "cell_type": "code",
   "execution_count": 108,
   "metadata": {},
   "outputs": [],
   "source": [
    "staged_card_dict = staged_card.to_dict(orient='records')\n",
    "Item = staged_card_dict[0]\n",
    "Item['similarities'] = staged_card_dict[1:]"
   ]
  },
  {
   "cell_type": "code",
   "execution_count": 109,
   "metadata": {},
   "outputs": [],
   "source": [
    "dynamodb = boto_sess.resource('dynamodb')\n",
    "dynamo_client = boto_sess.client('dynamodb')\n",
    "\n",
    "table = dynamodb.Table(SIMILARITY_TABLE)"
   ]
  },
  {
   "cell_type": "code",
   "execution_count": 110,
   "metadata": {},
   "outputs": [
    {
     "output_type": "execute_result",
     "data": {
      "text/plain": [
       "{'ResponseMetadata': {'RequestId': '8T1Q3VPFI4JLVM3MA2OU1L5D0NVV4KQNSO5AEMVJF66Q9ASUAAJG',\n",
       "  'HTTPStatusCode': 200,\n",
       "  'HTTPHeaders': {'server': 'Server',\n",
       "   'date': 'Sun, 27 Dec 2020 01:21:30 GMT',\n",
       "   'content-type': 'application/x-amz-json-1.0',\n",
       "   'content-length': '2',\n",
       "   'connection': 'keep-alive',\n",
       "   'x-amzn-requestid': '8T1Q3VPFI4JLVM3MA2OU1L5D0NVV4KQNSO5AEMVJF66Q9ASUAAJG',\n",
       "   'x-amz-crc32': '2745614147'},\n",
       "  'RetryAttempts': 0}}"
      ]
     },
     "metadata": {},
     "execution_count": 110
    }
   ],
   "source": [
    "table.put_item(\n",
    "    Item=Item\n",
    ")"
   ]
  },
  {
   "cell_type": "code",
   "execution_count": 251,
   "metadata": {},
   "outputs": [
    {
     "output_type": "execute_result",
     "data": {
      "text/plain": [
       "(55943, 89)"
      ]
     },
     "metadata": {},
     "execution_count": 251
    }
   ],
   "source": [
    "cards_df.shape"
   ]
  },
  {
   "cell_type": "code",
   "execution_count": 99,
   "metadata": {},
   "outputs": [
    {
     "output_type": "execute_result",
     "data": {
      "text/plain": [
       "                                scryfallId                   name\n",
       "4753  94f05268-0d4f-4638-aec3-a85fc339e3a7  Archon of Sun's Grace\n",
       "4754  ba315deb-d5a9-4013-b6ef-e4efe652e569        Audacious Thief\n",
       "4755  ca112bae-6ac5-4cdf-9e8c-1b99f7396995        Banishing Light\n",
       "4756  82839c0f-3e71-4c7d-af3d-dace06e4d94b        Bond of Revival\n",
       "4757  0d02db50-315a-4b15-b9bd-7feb20e3bae0         Carnifex Demon"
      ],
      "text/html": "<div>\n<style scoped>\n    .dataframe tbody tr th:only-of-type {\n        vertical-align: middle;\n    }\n\n    .dataframe tbody tr th {\n        vertical-align: top;\n    }\n\n    .dataframe thead th {\n        text-align: right;\n    }\n</style>\n<table border=\"1\" class=\"dataframe\">\n  <thead>\n    <tr style=\"text-align: right;\">\n      <th></th>\n      <th>scryfallId</th>\n      <th>name</th>\n    </tr>\n  </thead>\n  <tbody>\n    <tr>\n      <th>4753</th>\n      <td>94f05268-0d4f-4638-aec3-a85fc339e3a7</td>\n      <td>Archon of Sun's Grace</td>\n    </tr>\n    <tr>\n      <th>4754</th>\n      <td>ba315deb-d5a9-4013-b6ef-e4efe652e569</td>\n      <td>Audacious Thief</td>\n    </tr>\n    <tr>\n      <th>4755</th>\n      <td>ca112bae-6ac5-4cdf-9e8c-1b99f7396995</td>\n      <td>Banishing Light</td>\n    </tr>\n    <tr>\n      <th>4756</th>\n      <td>82839c0f-3e71-4c7d-af3d-dace06e4d94b</td>\n      <td>Bond of Revival</td>\n    </tr>\n    <tr>\n      <th>4757</th>\n      <td>0d02db50-315a-4b15-b9bd-7feb20e3bae0</td>\n      <td>Carnifex Demon</td>\n    </tr>\n  </tbody>\n</table>\n</div>"
     },
     "metadata": {},
     "execution_count": 99
    }
   ],
   "source": [
    "cards_df[['scryfallId','name']].head(5)"
   ]
  },
  {
   "source": [
    "## Get card item from Dyanmo"
   ],
   "cell_type": "markdown",
   "metadata": {}
  },
  {
   "cell_type": "code",
   "execution_count": 231,
   "metadata": {},
   "outputs": [],
   "source": [
    "import os\n",
    "import json\n",
    "import boto3\n",
    "from boto3.dynamodb.conditions import Key"
   ]
  },
  {
   "cell_type": "code",
   "execution_count": 20,
   "metadata": {},
   "outputs": [],
   "source": [
    "SIMILARITY_TABLE = 'similarity-dev'"
   ]
  },
  {
   "cell_type": "code",
   "execution_count": 21,
   "metadata": {},
   "outputs": [],
   "source": [
    "boto_sess = boto3.Session(profile_name='lw2134')\n",
    "dynamodb = boto_sess.resource('dynamodb')\n",
    "table = dynamodb.Table(SIMILARITY_TABLE)"
   ]
  },
  {
   "cell_type": "code",
   "execution_count": 39,
   "metadata": {},
   "outputs": [],
   "source": [
    "# QUERY BY NAME\n",
    "card_item = table.query(\n",
    "    TableName=SIMILARITY_TABLE,\n",
    "    IndexName='name-index',\n",
    "    KeyConditionExpression=Key('name').eq('Zof Consumption // Zof Bloodbog')\n",
    ")"
   ]
  },
  {
   "cell_type": "code",
   "execution_count": 23,
   "metadata": {},
   "outputs": [],
   "source": [
    "# QUERY BY SCRYFALL ID\n",
    "card_item = table.get_item(\n",
    "    TableName='similarity-dev',\n",
    "    Key={'scryfallId': 'ca112bae-6ac5-4cdf-9e8c-1b99f7396995'}\n",
    ")"
   ]
  },
  {
   "cell_type": "code",
   "execution_count": 53,
   "metadata": {},
   "outputs": [
    {
     "output_type": "stream",
     "name": "stdout",
     "text": [
      "Zof Consumption // Zof Bloodbog\nEach opponent loses 4 life and you gain 4 life.\n"
     ]
    }
   ],
   "source": [
    "print(card_item['Items'][0]['name'])\n",
    "print(card_item['Items'][0]['text'])"
   ]
  },
  {
   "source": [
    "## Call deployed API"
   ],
   "cell_type": "markdown",
   "metadata": {}
  },
  {
   "cell_type": "code",
   "execution_count": 232,
   "metadata": {},
   "outputs": [],
   "source": [
    "import requests"
   ]
  },
  {
   "source": [
    "### Scryfall Card Search API"
   ],
   "cell_type": "markdown",
   "metadata": {}
  },
  {
   "cell_type": "code",
   "execution_count": 293,
   "metadata": {},
   "outputs": [],
   "source": [
    "q = 'negate'"
   ]
  },
  {
   "cell_type": "code",
   "execution_count": 294,
   "metadata": {},
   "outputs": [],
   "source": [
    "res = requests.get('https://api.scryfall.com/cards/search?q={}'.format(q))"
   ]
  },
  {
   "cell_type": "code",
   "execution_count": 287,
   "metadata": {},
   "outputs": [],
   "source": [
    "res = requests.get('https://api.scryfall.com/cards/named?fuzzy={}'.format(q))"
   ]
  },
  {
   "source": [
    "### MagicML Semantic Search API"
   ],
   "cell_type": "markdown",
   "metadata": {}
  },
  {
   "cell_type": "code",
   "execution_count": 296,
   "metadata": {},
   "outputs": [],
   "source": [
    "query = {\n",
    "  \"key\": \"name\",\n",
    "  \"value\": \"Negate\"\n",
    "}"
   ]
  },
  {
   "cell_type": "code",
   "execution_count": 297,
   "metadata": {},
   "outputs": [],
   "source": [
    "res = requests.post('https://7dvt7z76ob.execute-api.us-east-1.amazonaws.com/dev/query', json=query)"
   ]
  },
  {
   "cell_type": "code",
   "execution_count": 298,
   "metadata": {},
   "outputs": [
    {
     "output_type": "execute_result",
     "data": {
      "text/plain": [
       "{'cards': [{'subtypes': '0',\n",
       "   'setName': 'Core Set 2020',\n",
       "   'duel': 'Legal',\n",
       "   'mtgArenaId': '69854.0',\n",
       "   'scryfallId': '33b83158-78b4-425e-8379-be3ef038295c',\n",
       "   'types': 'Instant',\n",
       "   'brawl': 'Legal',\n",
       "   'name': 'Negate',\n",
       "   'penny': 'Legal',\n",
       "   'pioneer': 'Legal',\n",
       "   'convertedManaCost': '2.0',\n",
       "   'modern': 'Legal',\n",
       "   'colors': 'U',\n",
       "   'id': '29176',\n",
       "   'future': 'Legal',\n",
       "   'historic': 'Legal',\n",
       "   'commander': 'Legal',\n",
       "   'toughness': '0',\n",
       "   'loyalty': '0',\n",
       "   'pauper': 'Legal',\n",
       "   'Names': 'Negate-29176',\n",
       "   'text': 'Counter target noncreature spell.',\n",
       "   'image_urls': \"{'small': 'https://c1.scryfall.com/file/scryfall-cards/small/front/3/3/33b83158-78b4-425e-8379-be3ef038295c.jpg?1592516456', 'normal': 'https://c1.scryfall.com/file/scryfall-cards/normal/front/3/3/33b83158-78b4-425e-8379-be3ef038295c.jpg?1592516456', 'large': 'https://c1.scryfall.com/file/scryfall-cards/large/front/3/3/33b83158-78b4-425e-8379-be3ef038295c.jpg?1592516456', 'png': 'https://c1.scryfall.com/file/scryfall-cards/png/front/3/3/33b83158-78b4-425e-8379-be3ef038295c.png?1592516456', 'art_crop': 'https://c1.scryfall.com/file/scryfall-cards/art_crop/front/3/3/33b83158-78b4-425e-8379-be3ef038295c.jpg?1592516456', 'border_crop': 'https://c1.scryfall.com/file/scryfall-cards/border_crop/front/3/3/33b83158-78b4-425e-8379-be3ef038295c.jpg?1592516456'}\",\n",
       "   'similarities': [{'setName': 'Rivals of Ixalan',\n",
       "     'standard': 'Legal',\n",
       "     'legacy': 'Legal',\n",
       "     'image_urls': \"{'small': 'https://c1.scryfall.com/file/scryfall-cards/small/front/3/1/31534f45-43e6-4103-bf58-ad8fa688e4b0.jpg?1555039942', 'normal': 'https://c1.scryfall.com/file/scryfall-cards/normal/front/3/1/31534f45-43e6-4103-bf58-ad8fa688e4b0.jpg?1555039942', 'large': 'https://c1.scryfall.com/file/scryfall-cards/large/front/3/1/31534f45-43e6-4103-bf58-ad8fa688e4b0.jpg?1555039942', 'png': 'https://c1.scryfall.com/file/scryfall-cards/png/front/3/1/31534f45-43e6-4103-bf58-ad8fa688e4b0.png?1555039942', 'art_crop': 'https://c1.scryfall.com/file/scryfall-cards/art_crop/front/3/1/31534f45-43e6-4103-bf58-ad8fa688e4b0.jpg?1555039942', 'border_crop': 'https://c1.scryfall.com/file/scryfall-cards/border_crop/front/3/1/31534f45-43e6-4103-bf58-ad8fa688e4b0.jpg?1555039942'}\",\n",
       "     'type': 'Instant',\n",
       "     'pioneer': 'Legal',\n",
       "     'colors': 'U',\n",
       "     'subtypes': '0',\n",
       "     'Names': 'Negate-45763',\n",
       "     'commander': 'Legal',\n",
       "     'modern': 'Legal',\n",
       "     'pauper': 'Legal',\n",
       "     'similarity': '1.0',\n",
       "     'duel': 'Legal',\n",
       "     'id': '45763',\n",
       "     'power': '0',\n",
       "     'text': 'Counter target noncreature spell.',\n",
       "     'toughness': '0',\n",
       "     'convertedManaCost': '2.0',\n",
       "     'oldschool': 'Blank',\n",
       "     'mtgArenaId': '66705.0',\n",
       "     'types': 'Instant',\n",
       "     'historic': 'Legal',\n",
       "     'loyalty': '0',\n",
       "     'scryfallId': '31534f45-43e6-4103-bf58-ad8fa688e4b0',\n",
       "     'future': 'Legal',\n",
       "     'vintage': 'Legal',\n",
       "     'name': 'Negate',\n",
       "     'manaCost': '{1}{U}',\n",
       "     'brawl': 'Legal',\n",
       "     'penny': 'Legal'},\n",
       "    {'setName': 'Zendikar Rising',\n",
       "     'standard': 'Legal',\n",
       "     'legacy': 'Legal',\n",
       "     'image_urls': \"{'small': 'https://c1.scryfall.com/file/scryfall-cards/small/front/e/9/e92c7477-d453-4fa4-acf4-3835ab9eb55a.jpg?1604194548', 'normal': 'https://c1.scryfall.com/file/scryfall-cards/normal/front/e/9/e92c7477-d453-4fa4-acf4-3835ab9eb55a.jpg?1604194548', 'large': 'https://c1.scryfall.com/file/scryfall-cards/large/front/e/9/e92c7477-d453-4fa4-acf4-3835ab9eb55a.jpg?1604194548', 'png': 'https://c1.scryfall.com/file/scryfall-cards/png/front/e/9/e92c7477-d453-4fa4-acf4-3835ab9eb55a.png?1604194548', 'art_crop': 'https://c1.scryfall.com/file/scryfall-cards/art_crop/front/e/9/e92c7477-d453-4fa4-acf4-3835ab9eb55a.jpg?1604194548', 'border_crop': 'https://c1.scryfall.com/file/scryfall-cards/border_crop/front/e/9/e92c7477-d453-4fa4-acf4-3835ab9eb55a.jpg?1604194548'}\",\n",
       "     'type': 'Instant',\n",
       "     'pioneer': 'Legal',\n",
       "     'colors': 'U',\n",
       "     'subtypes': '0',\n",
       "     'Names': 'Negate-55743',\n",
       "     'commander': 'Legal',\n",
       "     'modern': 'Legal',\n",
       "     'pauper': 'Legal',\n",
       "     'similarity': '1.0',\n",
       "     'duel': 'Legal',\n",
       "     'id': '55743',\n",
       "     'power': '0',\n",
       "     'text': 'Counter target noncreature spell.',\n",
       "     'toughness': '0',\n",
       "     'convertedManaCost': '2.0',\n",
       "     'oldschool': 'Blank',\n",
       "     'mtgArenaId': '73262.0',\n",
       "     'types': 'Instant',\n",
       "     'historic': 'Legal',\n",
       "     'loyalty': '0',\n",
       "     'scryfallId': 'e92c7477-d453-4fa4-acf4-3835ab9eb55a',\n",
       "     'future': 'Legal',\n",
       "     'vintage': 'Legal',\n",
       "     'name': 'Negate',\n",
       "     'manaCost': '{1}{U}',\n",
       "     'brawl': 'Legal',\n",
       "     'penny': 'Legal'},\n",
       "    {'setName': 'Dominaria',\n",
       "     'standard': 'Blank',\n",
       "     'legacy': 'Legal',\n",
       "     'image_urls': \"{'small': 'https://c1.scryfall.com/file/scryfall-cards/small/front/9/7/97da6607-9131-4f8b-8af3-63439a59b78b.jpg?1562739909', 'normal': 'https://c1.scryfall.com/file/scryfall-cards/normal/front/9/7/97da6607-9131-4f8b-8af3-63439a59b78b.jpg?1562739909', 'large': 'https://c1.scryfall.com/file/scryfall-cards/large/front/9/7/97da6607-9131-4f8b-8af3-63439a59b78b.jpg?1562739909', 'png': 'https://c1.scryfall.com/file/scryfall-cards/png/front/9/7/97da6607-9131-4f8b-8af3-63439a59b78b.png?1562739909', 'art_crop': 'https://c1.scryfall.com/file/scryfall-cards/art_crop/front/9/7/97da6607-9131-4f8b-8af3-63439a59b78b.jpg?1562739909', 'border_crop': 'https://c1.scryfall.com/file/scryfall-cards/border_crop/front/9/7/97da6607-9131-4f8b-8af3-63439a59b78b.jpg?1562739909'}\",\n",
       "     'type': 'Instant',\n",
       "     'pioneer': 'Legal',\n",
       "     'colors': 'U',\n",
       "     'subtypes': '0',\n",
       "     'Names': 'Unwind-16839',\n",
       "     'commander': 'Legal',\n",
       "     'modern': 'Legal',\n",
       "     'pauper': 'Legal',\n",
       "     'similarity': '0.8711937',\n",
       "     'duel': 'Legal',\n",
       "     'id': '16839',\n",
       "     'power': '0',\n",
       "     'text': 'Counter target noncreature spell. Untap up to three lands.',\n",
       "     'toughness': '0',\n",
       "     'convertedManaCost': '3.0',\n",
       "     'oldschool': 'Blank',\n",
       "     'mtgArenaId': '67248.0',\n",
       "     'types': 'Instant',\n",
       "     'historic': 'Legal',\n",
       "     'loyalty': '0',\n",
       "     'scryfallId': '97da6607-9131-4f8b-8af3-63439a59b78b',\n",
       "     'future': 'Blank',\n",
       "     'vintage': 'Legal',\n",
       "     'name': 'Unwind',\n",
       "     'manaCost': '{2}{U}',\n",
       "     'brawl': 'Blank',\n",
       "     'penny': 'Legal'},\n",
       "    {'setName': 'Amonkhet Remastered',\n",
       "     'standard': 'Legal',\n",
       "     'legacy': 'Legal',\n",
       "     'image_urls': \"{'small': 'https://c1.scryfall.com/file/scryfall-cards/small/front/3/c/3c102e4d-fa22-4e05-a2af-9014de929e64.jpg?1597173086', 'normal': 'https://c1.scryfall.com/file/scryfall-cards/normal/front/3/c/3c102e4d-fa22-4e05-a2af-9014de929e64.jpg?1597173086', 'large': 'https://c1.scryfall.com/file/scryfall-cards/large/front/3/c/3c102e4d-fa22-4e05-a2af-9014de929e64.jpg?1597173086', 'png': 'https://c1.scryfall.com/file/scryfall-cards/png/front/3/c/3c102e4d-fa22-4e05-a2af-9014de929e64.png?1597173086', 'art_crop': 'https://c1.scryfall.com/file/scryfall-cards/art_crop/front/3/c/3c102e4d-fa22-4e05-a2af-9014de929e64.jpg?1597173086', 'border_crop': 'https://c1.scryfall.com/file/scryfall-cards/border_crop/front/3/c/3c102e4d-fa22-4e05-a2af-9014de929e64.jpg?1597173086'}\",\n",
       "     'type': 'Instant',\n",
       "     'pioneer': 'Legal',\n",
       "     'colors': 'U',\n",
       "     'subtypes': '0',\n",
       "     'Names': 'Essence_Scatter-5170',\n",
       "     'commander': 'Legal',\n",
       "     'modern': 'Legal',\n",
       "     'pauper': 'Legal',\n",
       "     'similarity': '0.8672527',\n",
       "     'duel': 'Legal',\n",
       "     'id': '5170',\n",
       "     'power': '0',\n",
       "     'text': 'Counter target creature spell.',\n",
       "     'toughness': '0',\n",
       "     'convertedManaCost': '2.0',\n",
       "     'oldschool': 'Blank',\n",
       "     'mtgArenaId': '73836.0',\n",
       "     'types': 'Instant',\n",
       "     'historic': 'Legal',\n",
       "     'loyalty': '0',\n",
       "     'scryfallId': '3c102e4d-fa22-4e05-a2af-9014de929e64',\n",
       "     'future': 'Legal',\n",
       "     'vintage': 'Legal',\n",
       "     'name': 'Essence Scatter',\n",
       "     'manaCost': '{1}{U}',\n",
       "     'brawl': 'Legal',\n",
       "     'penny': 'Legal'},\n",
       "    {'setName': 'Ikoria: Lair of Behemoths',\n",
       "     'standard': 'Legal',\n",
       "     'legacy': 'Legal',\n",
       "     'image_urls': \"{'small': 'https://c1.scryfall.com/file/scryfall-cards/small/front/5/f/5f79c8a0-291e-4e13-b765-4cf8c726cf30.jpg?1591291406', 'normal': 'https://c1.scryfall.com/file/scryfall-cards/normal/front/5/f/5f79c8a0-291e-4e13-b765-4cf8c726cf30.jpg?1591291406', 'large': 'https://c1.scryfall.com/file/scryfall-cards/large/front/5/f/5f79c8a0-291e-4e13-b765-4cf8c726cf30.jpg?1591291406', 'png': 'https://c1.scryfall.com/file/scryfall-cards/png/front/5/f/5f79c8a0-291e-4e13-b765-4cf8c726cf30.png?1591291406', 'art_crop': 'https://c1.scryfall.com/file/scryfall-cards/art_crop/front/5/f/5f79c8a0-291e-4e13-b765-4cf8c726cf30.jpg?1591291406', 'border_crop': 'https://c1.scryfall.com/file/scryfall-cards/border_crop/front/5/f/5f79c8a0-291e-4e13-b765-4cf8c726cf30.jpg?1591291406'}\",\n",
       "     'type': 'Instant',\n",
       "     'pioneer': 'Legal',\n",
       "     'colors': 'U',\n",
       "     'subtypes': '0',\n",
       "     'Names': 'Essence_Scatter-22718',\n",
       "     'commander': 'Legal',\n",
       "     'modern': 'Legal',\n",
       "     'pauper': 'Legal',\n",
       "     'similarity': '0.8672527',\n",
       "     'duel': 'Legal',\n",
       "     'id': '22718',\n",
       "     'power': '0',\n",
       "     'text': 'Counter target creature spell.',\n",
       "     'toughness': '0',\n",
       "     'convertedManaCost': '2.0',\n",
       "     'oldschool': 'Blank',\n",
       "     'mtgArenaId': '71116.0',\n",
       "     'types': 'Instant',\n",
       "     'historic': 'Legal',\n",
       "     'loyalty': '0',\n",
       "     'scryfallId': '5f79c8a0-291e-4e13-b765-4cf8c726cf30',\n",
       "     'future': 'Legal',\n",
       "     'vintage': 'Legal',\n",
       "     'name': 'Essence Scatter',\n",
       "     'manaCost': '{1}{U}',\n",
       "     'brawl': 'Legal',\n",
       "     'penny': 'Legal'},\n",
       "    {'setName': 'Core Set 2019',\n",
       "     'standard': 'Legal',\n",
       "     'legacy': 'Legal',\n",
       "     'image_urls': \"{'small': 'https://c1.scryfall.com/file/scryfall-cards/small/front/9/7/975f61eb-a121-4f43-93a4-c6f20c6aee84.jpg?1562303356', 'normal': 'https://c1.scryfall.com/file/scryfall-cards/normal/front/9/7/975f61eb-a121-4f43-93a4-c6f20c6aee84.jpg?1562303356', 'large': 'https://c1.scryfall.com/file/scryfall-cards/large/front/9/7/975f61eb-a121-4f43-93a4-c6f20c6aee84.jpg?1562303356', 'png': 'https://c1.scryfall.com/file/scryfall-cards/png/front/9/7/975f61eb-a121-4f43-93a4-c6f20c6aee84.png?1562303356', 'art_crop': 'https://c1.scryfall.com/file/scryfall-cards/art_crop/front/9/7/975f61eb-a121-4f43-93a4-c6f20c6aee84.jpg?1562303356', 'border_crop': 'https://c1.scryfall.com/file/scryfall-cards/border_crop/front/9/7/975f61eb-a121-4f43-93a4-c6f20c6aee84.jpg?1562303356'}\",\n",
       "     'type': 'Instant',\n",
       "     'pioneer': 'Legal',\n",
       "     'colors': 'U',\n",
       "     'subtypes': '0',\n",
       "     'Names': 'Essence_Scatter-28736',\n",
       "     'commander': 'Legal',\n",
       "     'modern': 'Legal',\n",
       "     'pauper': 'Legal',\n",
       "     'similarity': '0.8672527',\n",
       "     'duel': 'Legal',\n",
       "     'id': '28736',\n",
       "     'power': '0',\n",
       "     'text': 'Counter target creature spell.',\n",
       "     'toughness': '0',\n",
       "     'convertedManaCost': '2.0',\n",
       "     'oldschool': 'Blank',\n",
       "     'mtgArenaId': '67788.0',\n",
       "     'types': 'Instant',\n",
       "     'historic': 'Legal',\n",
       "     'loyalty': '0',\n",
       "     'scryfallId': '975f61eb-a121-4f43-93a4-c6f20c6aee84',\n",
       "     'future': 'Legal',\n",
       "     'vintage': 'Legal',\n",
       "     'name': 'Essence Scatter',\n",
       "     'manaCost': '{1}{U}',\n",
       "     'brawl': 'Legal',\n",
       "     'penny': 'Legal'},\n",
       "    {'setName': 'Core Set 2020',\n",
       "     'standard': 'Blank',\n",
       "     'legacy': 'Legal',\n",
       "     'image_urls': \"{'small': 'https://c1.scryfall.com/file/scryfall-cards/small/front/d/f/df5dd873-af44-45eb-9b82-a3622cc58b35.jpg?1592516293', 'normal': 'https://c1.scryfall.com/file/scryfall-cards/normal/front/d/f/df5dd873-af44-45eb-9b82-a3622cc58b35.jpg?1592516293', 'large': 'https://c1.scryfall.com/file/scryfall-cards/large/front/d/f/df5dd873-af44-45eb-9b82-a3622cc58b35.jpg?1592516293', 'png': 'https://c1.scryfall.com/file/scryfall-cards/png/front/d/f/df5dd873-af44-45eb-9b82-a3622cc58b35.png?1592516293', 'art_crop': 'https://c1.scryfall.com/file/scryfall-cards/art_crop/front/d/f/df5dd873-af44-45eb-9b82-a3622cc58b35.jpg?1592516293', 'border_crop': 'https://c1.scryfall.com/file/scryfall-cards/border_crop/front/d/f/df5dd873-af44-45eb-9b82-a3622cc58b35.jpg?1592516293'}\",\n",
       "     'type': 'Instant',\n",
       "     'pioneer': 'Legal',\n",
       "     'colors': 'U',\n",
       "     'subtypes': '0',\n",
       "     'Names': 'Bone_to_Ash-29007',\n",
       "     'commander': 'Legal',\n",
       "     'modern': 'Legal',\n",
       "     'pauper': 'Legal',\n",
       "     'similarity': '0.82837266',\n",
       "     'duel': 'Legal',\n",
       "     'id': '29007',\n",
       "     'power': '0',\n",
       "     'text': 'Counter target creature spell.\\nDraw a card.',\n",
       "     'toughness': '0',\n",
       "     'convertedManaCost': '4.0',\n",
       "     'oldschool': 'Blank',\n",
       "     'mtgArenaId': '69833.0',\n",
       "     'types': 'Instant',\n",
       "     'historic': 'Legal',\n",
       "     'loyalty': '0',\n",
       "     'scryfallId': 'df5dd873-af44-45eb-9b82-a3622cc58b35',\n",
       "     'future': 'Blank',\n",
       "     'vintage': 'Legal',\n",
       "     'name': 'Bone to Ash',\n",
       "     'manaCost': '{2}{U}{U}',\n",
       "     'brawl': 'Blank',\n",
       "     'penny': 'Legal'},\n",
       "    {'setName': 'Core Set 2019',\n",
       "     'standard': 'Blank',\n",
       "     'legacy': 'Legal',\n",
       "     'image_urls': \"{'small': 'https://c1.scryfall.com/file/scryfall-cards/small/front/4/5/4579e7fc-650d-41ba-8ed7-3bd6453a3ce3.jpg?1562301757', 'normal': 'https://c1.scryfall.com/file/scryfall-cards/normal/front/4/5/4579e7fc-650d-41ba-8ed7-3bd6453a3ce3.jpg?1562301757', 'large': 'https://c1.scryfall.com/file/scryfall-cards/large/front/4/5/4579e7fc-650d-41ba-8ed7-3bd6453a3ce3.jpg?1562301757', 'png': 'https://c1.scryfall.com/file/scryfall-cards/png/front/4/5/4579e7fc-650d-41ba-8ed7-3bd6453a3ce3.png?1562301757', 'art_crop': 'https://c1.scryfall.com/file/scryfall-cards/art_crop/front/4/5/4579e7fc-650d-41ba-8ed7-3bd6453a3ce3.jpg?1562301757', 'border_crop': 'https://c1.scryfall.com/file/scryfall-cards/border_crop/front/4/5/4579e7fc-650d-41ba-8ed7-3bd6453a3ce3.jpg?1562301757'}\",\n",
       "     'type': 'Instant',\n",
       "     'pioneer': 'Legal',\n",
       "     'colors': 'U',\n",
       "     'subtypes': '0',\n",
       "     'Names': 'Bone_to_Ash-28687',\n",
       "     'commander': 'Legal',\n",
       "     'modern': 'Legal',\n",
       "     'pauper': 'Legal',\n",
       "     'similarity': '0.82837266',\n",
       "     'duel': 'Legal',\n",
       "     'id': '28687',\n",
       "     'power': '0',\n",
       "     'text': 'Counter target creature spell.\\nDraw a card.',\n",
       "     'toughness': '0',\n",
       "     'convertedManaCost': '4.0',\n",
       "     'oldschool': 'Blank',\n",
       "     'mtgArenaId': '67774.0',\n",
       "     'types': 'Instant',\n",
       "     'historic': 'Legal',\n",
       "     'loyalty': '0',\n",
       "     'scryfallId': '4579e7fc-650d-41ba-8ed7-3bd6453a3ce3',\n",
       "     'future': 'Blank',\n",
       "     'vintage': 'Legal',\n",
       "     'name': 'Bone to Ash',\n",
       "     'manaCost': '{2}{U}{U}',\n",
       "     'brawl': 'Blank',\n",
       "     'penny': 'Legal'},\n",
       "    {'setName': 'Jumpstart',\n",
       "     'standard': 'Blank',\n",
       "     'legacy': 'Legal',\n",
       "     'image_urls': \"{'small': 'https://c1.scryfall.com/file/scryfall-cards/small/front/1/4/1455f59e-f487-4195-ab25-8fc7695903e4.jpg?1600724914', 'normal': 'https://c1.scryfall.com/file/scryfall-cards/normal/front/1/4/1455f59e-f487-4195-ab25-8fc7695903e4.jpg?1600724914', 'large': 'https://c1.scryfall.com/file/scryfall-cards/large/front/1/4/1455f59e-f487-4195-ab25-8fc7695903e4.jpg?1600724914', 'png': 'https://c1.scryfall.com/file/scryfall-cards/png/front/1/4/1455f59e-f487-4195-ab25-8fc7695903e4.png?1600724914', 'art_crop': 'https://c1.scryfall.com/file/scryfall-cards/art_crop/front/1/4/1455f59e-f487-4195-ab25-8fc7695903e4.jpg?1600724914', 'border_crop': 'https://c1.scryfall.com/file/scryfall-cards/border_crop/front/1/4/1455f59e-f487-4195-ab25-8fc7695903e4.jpg?1600724914'}\",\n",
       "     'type': 'Instant',\n",
       "     'pioneer': 'Blank',\n",
       "     'colors': 'U',\n",
       "     'subtypes': '0',\n",
       "     'Names': 'Exclude-24195',\n",
       "     'commander': 'Legal',\n",
       "     'modern': 'Legal',\n",
       "     'pauper': 'Legal',\n",
       "     'similarity': '0.82837266',\n",
       "     'duel': 'Legal',\n",
       "     'id': '24195',\n",
       "     'power': '0',\n",
       "     'text': 'Counter target creature spell.\\nDraw a card.',\n",
       "     'toughness': '0',\n",
       "     'convertedManaCost': '3.0',\n",
       "     'oldschool': 'Blank',\n",
       "     'mtgArenaId': '72214.0',\n",
       "     'types': 'Instant',\n",
       "     'historic': 'Legal',\n",
       "     'loyalty': '0',\n",
       "     'scryfallId': '1455f59e-f487-4195-ab25-8fc7695903e4',\n",
       "     'future': 'Blank',\n",
       "     'vintage': 'Legal',\n",
       "     'name': 'Exclude',\n",
       "     'manaCost': '{2}{U}',\n",
       "     'brawl': 'Blank',\n",
       "     'penny': 'Blank'},\n",
       "    {'setName': 'Kaladesh Remastered',\n",
       "     'standard': 'Blank',\n",
       "     'legacy': 'Legal',\n",
       "     'image_urls': \"{'small': 'https://c1.scryfall.com/file/scryfall-cards/small/front/3/4/3469b492-8907-49cd-8cde-b2ba6a26c422.jpg?1605326950', 'normal': 'https://c1.scryfall.com/file/scryfall-cards/normal/front/3/4/3469b492-8907-49cd-8cde-b2ba6a26c422.jpg?1605326950', 'large': 'https://c1.scryfall.com/file/scryfall-cards/large/front/3/4/3469b492-8907-49cd-8cde-b2ba6a26c422.jpg?1605326950', 'png': 'https://c1.scryfall.com/file/scryfall-cards/png/front/3/4/3469b492-8907-49cd-8cde-b2ba6a26c422.png?1605326950', 'art_crop': 'https://c1.scryfall.com/file/scryfall-cards/art_crop/front/3/4/3469b492-8907-49cd-8cde-b2ba6a26c422.jpg?1605326950', 'border_crop': 'https://c1.scryfall.com/file/scryfall-cards/border_crop/front/3/4/3469b492-8907-49cd-8cde-b2ba6a26c422.jpg?1605326950'}\",\n",
       "     'type': 'Instant',\n",
       "     'pioneer': 'Legal',\n",
       "     'colors': 'U',\n",
       "     'subtypes': '0',\n",
       "     'Names': 'Ceremonious_Rejection-25247',\n",
       "     'commander': 'Legal',\n",
       "     'modern': 'Legal',\n",
       "     'pauper': 'Blank',\n",
       "     'similarity': '0.8085571',\n",
       "     'duel': 'Legal',\n",
       "     'id': '25247',\n",
       "     'power': '0',\n",
       "     'text': 'Counter target colorless spell.',\n",
       "     'toughness': '0',\n",
       "     'convertedManaCost': '1.0',\n",
       "     'oldschool': 'Blank',\n",
       "     'mtgArenaId': '75622.0',\n",
       "     'types': 'Instant',\n",
       "     'historic': 'Legal',\n",
       "     'loyalty': '0',\n",
       "     'scryfallId': '3469b492-8907-49cd-8cde-b2ba6a26c422',\n",
       "     'future': 'Blank',\n",
       "     'vintage': 'Legal',\n",
       "     'name': 'Ceremonious Rejection',\n",
       "     'manaCost': '{U}',\n",
       "     'brawl': 'Blank',\n",
       "     'penny': 'Blank'},\n",
       "    {'setName': 'Ixalan',\n",
       "     'standard': 'Blank',\n",
       "     'legacy': 'Legal',\n",
       "     'image_urls': \"{'small': 'https://c1.scryfall.com/file/scryfall-cards/small/front/6/b/6bf4dfc0-c58b-4535-b660-54ceaa6e0217.jpg?1562557054', 'normal': 'https://c1.scryfall.com/file/scryfall-cards/normal/front/6/b/6bf4dfc0-c58b-4535-b660-54ceaa6e0217.jpg?1562557054', 'large': 'https://c1.scryfall.com/file/scryfall-cards/large/front/6/b/6bf4dfc0-c58b-4535-b660-54ceaa6e0217.jpg?1562557054', 'png': 'https://c1.scryfall.com/file/scryfall-cards/png/front/6/b/6bf4dfc0-c58b-4535-b660-54ceaa6e0217.png?1562557054', 'art_crop': 'https://c1.scryfall.com/file/scryfall-cards/art_crop/front/6/b/6bf4dfc0-c58b-4535-b660-54ceaa6e0217.jpg?1562557054', 'border_crop': 'https://c1.scryfall.com/file/scryfall-cards/border_crop/front/6/b/6bf4dfc0-c58b-4535-b660-54ceaa6e0217.jpg?1562557054'}\",\n",
       "     'type': 'Instant',\n",
       "     'pioneer': 'Legal',\n",
       "     'colors': 'U',\n",
       "     'subtypes': '0',\n",
       "     'Names': 'Spell_Pierce-54994',\n",
       "     'commander': 'Legal',\n",
       "     'modern': 'Legal',\n",
       "     'pauper': 'Legal',\n",
       "     'similarity': '0.80042636',\n",
       "     'duel': 'Legal',\n",
       "     'id': '54994',\n",
       "     'power': '0',\n",
       "     'text': 'Counter target noncreature spell unless its controller pays {2}.',\n",
       "     'toughness': '0',\n",
       "     'convertedManaCost': '1.0',\n",
       "     'oldschool': 'Blank',\n",
       "     'mtgArenaId': '66125.0',\n",
       "     'types': 'Instant',\n",
       "     'historic': 'Legal',\n",
       "     'loyalty': '0',\n",
       "     'scryfallId': '6bf4dfc0-c58b-4535-b660-54ceaa6e0217',\n",
       "     'future': 'Blank',\n",
       "     'vintage': 'Legal',\n",
       "     'name': 'Spell Pierce',\n",
       "     'manaCost': '{U}',\n",
       "     'brawl': 'Blank',\n",
       "     'penny': 'Legal'},\n",
       "    {'setName': 'War of the Spark',\n",
       "     'standard': 'Blank',\n",
       "     'legacy': 'Legal',\n",
       "     'image_urls': \"{'small': 'https://c1.scryfall.com/file/scryfall-cards/small/front/5/d/5d6b5054-2224-4f68-9d82-3ed17c5dacc4.jpg?1557577115', 'normal': 'https://c1.scryfall.com/file/scryfall-cards/normal/front/5/d/5d6b5054-2224-4f68-9d82-3ed17c5dacc4.jpg?1557577115', 'large': 'https://c1.scryfall.com/file/scryfall-cards/large/front/5/d/5d6b5054-2224-4f68-9d82-3ed17c5dacc4.jpg?1557577115', 'png': 'https://c1.scryfall.com/file/scryfall-cards/png/front/5/d/5d6b5054-2224-4f68-9d82-3ed17c5dacc4.png?1557577115', 'art_crop': 'https://c1.scryfall.com/file/scryfall-cards/art_crop/front/5/d/5d6b5054-2224-4f68-9d82-3ed17c5dacc4.jpg?1557577115', 'border_crop': 'https://c1.scryfall.com/file/scryfall-cards/border_crop/front/5/d/5d6b5054-2224-4f68-9d82-3ed17c5dacc4.jpg?1557577115'}\",\n",
       "     'type': 'Instant',\n",
       "     'pioneer': 'Legal',\n",
       "     'colors': 'U,W',\n",
       "     'subtypes': '0',\n",
       "     'Names': \"Dovin's_Veto-53234\",\n",
       "     'commander': 'Legal',\n",
       "     'modern': 'Legal',\n",
       "     'pauper': 'Blank',\n",
       "     'similarity': '0.7952366',\n",
       "     'duel': 'Legal',\n",
       "     'id': '53234',\n",
       "     'power': '0',\n",
       "     'text': \"This spell can't be countered.\\nCounter target noncreature spell.\",\n",
       "     'toughness': '0',\n",
       "     'convertedManaCost': '2.0',\n",
       "     'oldschool': 'Blank',\n",
       "     'mtgArenaId': '69643.0',\n",
       "     'types': 'Instant',\n",
       "     'historic': 'Legal',\n",
       "     'loyalty': '0',\n",
       "     'scryfallId': '5d6b5054-2224-4f68-9d82-3ed17c5dacc4',\n",
       "     'future': 'Blank',\n",
       "     'vintage': 'Legal',\n",
       "     'name': \"Dovin's Veto\",\n",
       "     'manaCost': '{W}{U}',\n",
       "     'brawl': 'Blank',\n",
       "     'penny': 'Legal'},\n",
       "    {'setName': 'Zendikar Rising',\n",
       "     'standard': 'Legal',\n",
       "     'legacy': 'Legal',\n",
       "     'image_urls': \"[{'small': 'https://c1.scryfall.com/file/scryfall-cards/small/front/3/a/3a7fd24e-84d8-405d-86e4-0571a9e23cc2.jpg?1604199835', 'normal': 'https://c1.scryfall.com/file/scryfall-cards/normal/front/3/a/3a7fd24e-84d8-405d-86e4-0571a9e23cc2.jpg?1604199835', 'large': 'https://c1.scryfall.com/file/scryfall-cards/large/front/3/a/3a7fd24e-84d8-405d-86e4-0571a9e23cc2.jpg?1604199835', 'png': 'https://c1.scryfall.com/file/scryfall-cards/png/front/3/a/3a7fd24e-84d8-405d-86e4-0571a9e23cc2.png?1604199835', 'art_crop': 'https://c1.scryfall.com/file/scryfall-cards/art_crop/front/3/a/3a7fd24e-84d8-405d-86e4-0571a9e23cc2.jpg?1604199835', 'border_crop': 'https://c1.scryfall.com/file/scryfall-cards/border_crop/front/3/a/3a7fd24e-84d8-405d-86e4-0571a9e23cc2.jpg?1604199835'}, {'small': 'https://c1.scryfall.com/file/scryfall-cards/small/back/3/a/3a7fd24e-84d8-405d-86e4-0571a9e23cc2.jpg?1604199835', 'normal': 'https://c1.scryfall.com/file/scryfall-cards/normal/back/3/a/3a7fd24e-84d8-405d-86e4-0571a9e23cc2.jpg?1604199835', 'large': 'https://c1.scryfall.com/file/scryfall-cards/large/back/3/a/3a7fd24e-84d8-405d-86e4-0571a9e23cc2.jpg?1604199835', 'png': 'https://c1.scryfall.com/file/scryfall-cards/png/back/3/a/3a7fd24e-84d8-405d-86e4-0571a9e23cc2.png?1604199835', 'art_crop': 'https://c1.scryfall.com/file/scryfall-cards/art_crop/back/3/a/3a7fd24e-84d8-405d-86e4-0571a9e23cc2.jpg?1604199835', 'border_crop': 'https://c1.scryfall.com/file/scryfall-cards/border_crop/back/3/a/3a7fd24e-84d8-405d-86e4-0571a9e23cc2.jpg?1604199835'}]\",\n",
       "     'type': 'Instant',\n",
       "     'pioneer': 'Legal',\n",
       "     'colors': 'G',\n",
       "     'subtypes': '0',\n",
       "     'Names': 'Vastwood_Fortification_II_Vastwood_Thicket-55926',\n",
       "     'commander': 'Legal',\n",
       "     'modern': 'Legal',\n",
       "     'pauper': 'Blank',\n",
       "     'similarity': '0.78833246',\n",
       "     'duel': 'Legal',\n",
       "     'id': '55926',\n",
       "     'power': '0',\n",
       "     'text': 'Put a +1/+1 counter on target creature.',\n",
       "     'toughness': '0',\n",
       "     'convertedManaCost': '1.0',\n",
       "     'oldschool': 'Blank',\n",
       "     'mtgArenaId': '73427.0',\n",
       "     'types': 'Instant',\n",
       "     'historic': 'Legal',\n",
       "     'loyalty': '0',\n",
       "     'scryfallId': '3a7fd24e-84d8-405d-86e4-0571a9e23cc2',\n",
       "     'future': 'Legal',\n",
       "     'vintage': 'Legal',\n",
       "     'name': 'Vastwood Fortification // Vastwood Thicket',\n",
       "     'manaCost': '{G}',\n",
       "     'brawl': 'Legal',\n",
       "     'penny': 'Legal'},\n",
       "    {'setName': 'Core Set 2021',\n",
       "     'standard': 'Legal',\n",
       "     'legacy': 'Legal',\n",
       "     'image_urls': \"{'small': 'https://c1.scryfall.com/file/scryfall-cards/small/front/b/8/b832abcc-9ffd-47bf-827a-01b303c610ee.jpg?1594735655', 'normal': 'https://c1.scryfall.com/file/scryfall-cards/normal/front/b/8/b832abcc-9ffd-47bf-827a-01b303c610ee.jpg?1594735655', 'large': 'https://c1.scryfall.com/file/scryfall-cards/large/front/b/8/b832abcc-9ffd-47bf-827a-01b303c610ee.jpg?1594735655', 'png': 'https://c1.scryfall.com/file/scryfall-cards/png/front/b/8/b832abcc-9ffd-47bf-827a-01b303c610ee.png?1594735655', 'art_crop': 'https://c1.scryfall.com/file/scryfall-cards/art_crop/front/b/8/b832abcc-9ffd-47bf-827a-01b303c610ee.jpg?1594735655', 'border_crop': 'https://c1.scryfall.com/file/scryfall-cards/border_crop/front/b/8/b832abcc-9ffd-47bf-827a-01b303c610ee.jpg?1594735655'}\",\n",
       "     'type': 'Instant',\n",
       "     'pioneer': 'Legal',\n",
       "     'colors': 'U',\n",
       "     'subtypes': '0',\n",
       "     'Names': 'Rewind-29567',\n",
       "     'commander': 'Legal',\n",
       "     'modern': 'Legal',\n",
       "     'pauper': 'Legal',\n",
       "     'similarity': '0.7843733',\n",
       "     'duel': 'Legal',\n",
       "     'id': '29567',\n",
       "     'power': '0',\n",
       "     'text': 'Counter target spell. Untap up to four lands.',\n",
       "     'toughness': '0',\n",
       "     'convertedManaCost': '4.0',\n",
       "     'oldschool': 'Blank',\n",
       "     'mtgArenaId': '71845.0',\n",
       "     'types': 'Instant',\n",
       "     'historic': 'Legal',\n",
       "     'loyalty': '0',\n",
       "     'scryfallId': 'b832abcc-9ffd-47bf-827a-01b303c610ee',\n",
       "     'future': 'Legal',\n",
       "     'vintage': 'Legal',\n",
       "     'name': 'Rewind',\n",
       "     'manaCost': '{2}{U}{U}',\n",
       "     'brawl': 'Legal',\n",
       "     'penny': 'Legal'},\n",
       "    {'setName': 'Ravnica Allegiance',\n",
       "     'standard': 'Blank',\n",
       "     'legacy': 'Legal',\n",
       "     'image_urls': \"{'small': 'https://c1.scryfall.com/file/scryfall-cards/small/front/c/e/ce137910-0f0e-4f94-9b95-6e0eeeba164e.jpg?1584830187', 'normal': 'https://c1.scryfall.com/file/scryfall-cards/normal/front/c/e/ce137910-0f0e-4f94-9b95-6e0eeeba164e.jpg?1584830187', 'large': 'https://c1.scryfall.com/file/scryfall-cards/large/front/c/e/ce137910-0f0e-4f94-9b95-6e0eeeba164e.jpg?1584830187', 'png': 'https://c1.scryfall.com/file/scryfall-cards/png/front/c/e/ce137910-0f0e-4f94-9b95-6e0eeeba164e.png?1584830187', 'art_crop': 'https://c1.scryfall.com/file/scryfall-cards/art_crop/front/c/e/ce137910-0f0e-4f94-9b95-6e0eeeba164e.jpg?1584830187', 'border_crop': 'https://c1.scryfall.com/file/scryfall-cards/border_crop/front/c/e/ce137910-0f0e-4f94-9b95-6e0eeeba164e.jpg?1584830187'}\",\n",
       "     'type': 'Instant',\n",
       "     'pioneer': 'Legal',\n",
       "     'colors': 'U',\n",
       "     'subtypes': '0',\n",
       "     'Names': 'Essence_Capture-45942',\n",
       "     'commander': 'Legal',\n",
       "     'modern': 'Legal',\n",
       "     'pauper': 'Blank',\n",
       "     'similarity': '0.78134376',\n",
       "     'duel': 'Legal',\n",
       "     'id': '45942',\n",
       "     'power': '0',\n",
       "     'text': 'Counter target creature spell. Put a +1/+1 counter on up to one target creature you control.',\n",
       "     'toughness': '0',\n",
       "     'convertedManaCost': '2.0',\n",
       "     'oldschool': 'Blank',\n",
       "     'mtgArenaId': '69165.0',\n",
       "     'types': 'Instant',\n",
       "     'historic': 'Legal',\n",
       "     'loyalty': '0',\n",
       "     'scryfallId': 'ce137910-0f0e-4f94-9b95-6e0eeeba164e',\n",
       "     'future': 'Blank',\n",
       "     'vintage': 'Legal',\n",
       "     'name': 'Essence Capture',\n",
       "     'manaCost': '{U}{U}',\n",
       "     'brawl': 'Blank',\n",
       "     'penny': 'Legal'},\n",
       "    {'setName': 'Theros Beyond Death',\n",
       "     'standard': 'Legal',\n",
       "     'legacy': 'Legal',\n",
       "     'image_urls': \"{'small': 'https://c1.scryfall.com/file/scryfall-cards/small/front/a/a/aadc1809-d6bb-455c-b6ce-dd11521808b6.jpg?1581479403', 'normal': 'https://c1.scryfall.com/file/scryfall-cards/normal/front/a/a/aadc1809-d6bb-455c-b6ce-dd11521808b6.jpg?1581479403', 'large': 'https://c1.scryfall.com/file/scryfall-cards/large/front/a/a/aadc1809-d6bb-455c-b6ce-dd11521808b6.jpg?1581479403', 'png': 'https://c1.scryfall.com/file/scryfall-cards/png/front/a/a/aadc1809-d6bb-455c-b6ce-dd11521808b6.png?1581479403', 'art_crop': 'https://c1.scryfall.com/file/scryfall-cards/art_crop/front/a/a/aadc1809-d6bb-455c-b6ce-dd11521808b6.jpg?1581479403', 'border_crop': 'https://c1.scryfall.com/file/scryfall-cards/border_crop/front/a/a/aadc1809-d6bb-455c-b6ce-dd11521808b6.jpg?1581479403'}\",\n",
       "     'type': 'Instant',\n",
       "     'pioneer': 'Legal',\n",
       "     'colors': 'U',\n",
       "     'subtypes': '0',\n",
       "     'Names': 'Memory_Drain-49270',\n",
       "     'commander': 'Legal',\n",
       "     'modern': 'Legal',\n",
       "     'pauper': 'Legal',\n",
       "     'similarity': '0.78022134',\n",
       "     'duel': 'Legal',\n",
       "     'id': '49270',\n",
       "     'power': '0',\n",
       "     'text': 'Counter target spell. Scry 2.',\n",
       "     'toughness': '0',\n",
       "     'convertedManaCost': '4.0',\n",
       "     'oldschool': 'Blank',\n",
       "     'mtgArenaId': '70565.0',\n",
       "     'types': 'Instant',\n",
       "     'historic': 'Legal',\n",
       "     'loyalty': '0',\n",
       "     'scryfallId': 'aadc1809-d6bb-455c-b6ce-dd11521808b6',\n",
       "     'future': 'Legal',\n",
       "     'vintage': 'Legal',\n",
       "     'name': 'Memory Drain',\n",
       "     'manaCost': '{2}{U}{U}',\n",
       "     'brawl': 'Legal',\n",
       "     'penny': 'Legal'},\n",
       "    {'setName': 'Core Set 2021',\n",
       "     'standard': 'Legal',\n",
       "     'legacy': 'Legal',\n",
       "     'image_urls': \"{'small': 'https://c1.scryfall.com/file/scryfall-cards/small/front/5/9/59e14910-ee2e-49ae-855e-46a8ab6cad82.jpg?1594735420', 'normal': 'https://c1.scryfall.com/file/scryfall-cards/normal/front/5/9/59e14910-ee2e-49ae-855e-46a8ab6cad82.jpg?1594735420', 'large': 'https://c1.scryfall.com/file/scryfall-cards/large/front/5/9/59e14910-ee2e-49ae-855e-46a8ab6cad82.jpg?1594735420', 'png': 'https://c1.scryfall.com/file/scryfall-cards/png/front/5/9/59e14910-ee2e-49ae-855e-46a8ab6cad82.png?1594735420', 'art_crop': 'https://c1.scryfall.com/file/scryfall-cards/art_crop/front/5/9/59e14910-ee2e-49ae-855e-46a8ab6cad82.jpg?1594735420', 'border_crop': 'https://c1.scryfall.com/file/scryfall-cards/border_crop/front/5/9/59e14910-ee2e-49ae-855e-46a8ab6cad82.jpg?1594735420'}\",\n",
       "     'type': 'Instant',\n",
       "     'pioneer': 'Legal',\n",
       "     'colors': 'U',\n",
       "     'subtypes': '0',\n",
       "     'Names': 'Cancel-29355',\n",
       "     'commander': 'Legal',\n",
       "     'modern': 'Legal',\n",
       "     'pauper': 'Legal',\n",
       "     'similarity': '0.7718939',\n",
       "     'duel': 'Legal',\n",
       "     'id': '29355',\n",
       "     'power': '0',\n",
       "     'text': 'Counter target spell.',\n",
       "     'toughness': '0',\n",
       "     'convertedManaCost': '3.0',\n",
       "     'oldschool': 'Blank',\n",
       "     'mtgArenaId': '71828.0',\n",
       "     'types': 'Instant',\n",
       "     'historic': 'Legal',\n",
       "     'loyalty': '0',\n",
       "     'scryfallId': '59e14910-ee2e-49ae-855e-46a8ab6cad82',\n",
       "     'future': 'Legal',\n",
       "     'vintage': 'Legal',\n",
       "     'name': 'Cancel',\n",
       "     'manaCost': '{1}{U}{U}',\n",
       "     'brawl': 'Legal',\n",
       "     'penny': 'Legal'},\n",
       "    {'setName': 'Ixalan',\n",
       "     'standard': 'Legal',\n",
       "     'legacy': 'Legal',\n",
       "     'image_urls': \"{'small': 'https://c1.scryfall.com/file/scryfall-cards/small/front/c/f/cf6e5ad6-ffe2-4588-b357-c415c33fbc11.jpg?1562564222', 'normal': 'https://c1.scryfall.com/file/scryfall-cards/normal/front/c/f/cf6e5ad6-ffe2-4588-b357-c415c33fbc11.jpg?1562564222', 'large': 'https://c1.scryfall.com/file/scryfall-cards/large/front/c/f/cf6e5ad6-ffe2-4588-b357-c415c33fbc11.jpg?1562564222', 'png': 'https://c1.scryfall.com/file/scryfall-cards/png/front/c/f/cf6e5ad6-ffe2-4588-b357-c415c33fbc11.png?1562564222', 'art_crop': 'https://c1.scryfall.com/file/scryfall-cards/art_crop/front/c/f/cf6e5ad6-ffe2-4588-b357-c415c33fbc11.jpg?1562564222', 'border_crop': 'https://c1.scryfall.com/file/scryfall-cards/border_crop/front/c/f/cf6e5ad6-ffe2-4588-b357-c415c33fbc11.jpg?1562564222'}\",\n",
       "     'type': 'Instant',\n",
       "     'pioneer': 'Legal',\n",
       "     'colors': 'U',\n",
       "     'subtypes': '0',\n",
       "     'Names': 'Cancel-54784',\n",
       "     'commander': 'Legal',\n",
       "     'modern': 'Legal',\n",
       "     'pauper': 'Legal',\n",
       "     'similarity': '0.7718939',\n",
       "     'duel': 'Legal',\n",
       "     'id': '54784',\n",
       "     'power': '0',\n",
       "     'text': 'Counter target spell.',\n",
       "     'toughness': '0',\n",
       "     'convertedManaCost': '3.0',\n",
       "     'oldschool': 'Blank',\n",
       "     'mtgArenaId': '66055.0',\n",
       "     'types': 'Instant',\n",
       "     'historic': 'Legal',\n",
       "     'loyalty': '0',\n",
       "     'scryfallId': 'cf6e5ad6-ffe2-4588-b357-c415c33fbc11',\n",
       "     'future': 'Legal',\n",
       "     'vintage': 'Legal',\n",
       "     'name': 'Cancel',\n",
       "     'manaCost': '{1}{U}{U}',\n",
       "     'brawl': 'Legal',\n",
       "     'penny': 'Legal'},\n",
       "    {'setName': 'Core Set 2019',\n",
       "     'standard': 'Legal',\n",
       "     'legacy': 'Legal',\n",
       "     'image_urls': \"{'small': 'https://c1.scryfall.com/file/scryfall-cards/small/front/9/c/9cff3fae-e072-4068-a1de-27de3d89c532.jpg?1562303390', 'normal': 'https://c1.scryfall.com/file/scryfall-cards/normal/front/9/c/9cff3fae-e072-4068-a1de-27de3d89c532.jpg?1562303390', 'large': 'https://c1.scryfall.com/file/scryfall-cards/large/front/9/c/9cff3fae-e072-4068-a1de-27de3d89c532.jpg?1562303390', 'png': 'https://c1.scryfall.com/file/scryfall-cards/png/front/9/c/9cff3fae-e072-4068-a1de-27de3d89c532.png?1562303390', 'art_crop': 'https://c1.scryfall.com/file/scryfall-cards/art_crop/front/9/c/9cff3fae-e072-4068-a1de-27de3d89c532.jpg?1562303390', 'border_crop': 'https://c1.scryfall.com/file/scryfall-cards/border_crop/front/9/c/9cff3fae-e072-4068-a1de-27de3d89c532.jpg?1562303390'}\",\n",
       "     'type': 'Instant',\n",
       "     'pioneer': 'Legal',\n",
       "     'colors': 'U',\n",
       "     'subtypes': '0',\n",
       "     'Names': 'Cancel-28690',\n",
       "     'commander': 'Legal',\n",
       "     'modern': 'Legal',\n",
       "     'pauper': 'Legal',\n",
       "     'similarity': '0.7718939',\n",
       "     'duel': 'Legal',\n",
       "     'id': '28690',\n",
       "     'power': '0',\n",
       "     'text': 'Counter target spell.',\n",
       "     'toughness': '0',\n",
       "     'convertedManaCost': '3.0',\n",
       "     'oldschool': 'Blank',\n",
       "     'mtgArenaId': '67776.0',\n",
       "     'types': 'Instant',\n",
       "     'historic': 'Legal',\n",
       "     'loyalty': '0',\n",
       "     'scryfallId': '9cff3fae-e072-4068-a1de-27de3d89c532',\n",
       "     'future': 'Legal',\n",
       "     'vintage': 'Legal',\n",
       "     'name': 'Cancel',\n",
       "     'manaCost': '{1}{U}{U}',\n",
       "     'brawl': 'Legal',\n",
       "     'penny': 'Legal'},\n",
       "    {'setName': 'Ikoria: Lair of Behemoths',\n",
       "     'standard': 'Legal',\n",
       "     'legacy': 'Legal',\n",
       "     'image_urls': \"{'small': 'https://c1.scryfall.com/file/scryfall-cards/small/front/a/a/aa6494ad-a35e-4b09-8623-7740f3c20b0b.jpg?1591226994', 'normal': 'https://c1.scryfall.com/file/scryfall-cards/normal/front/a/a/aa6494ad-a35e-4b09-8623-7740f3c20b0b.jpg?1591226994', 'large': 'https://c1.scryfall.com/file/scryfall-cards/large/front/a/a/aa6494ad-a35e-4b09-8623-7740f3c20b0b.jpg?1591226994', 'png': 'https://c1.scryfall.com/file/scryfall-cards/png/front/a/a/aa6494ad-a35e-4b09-8623-7740f3c20b0b.png?1591226994', 'art_crop': 'https://c1.scryfall.com/file/scryfall-cards/art_crop/front/a/a/aa6494ad-a35e-4b09-8623-7740f3c20b0b.jpg?1591226994', 'border_crop': 'https://c1.scryfall.com/file/scryfall-cards/border_crop/front/a/a/aa6494ad-a35e-4b09-8623-7740f3c20b0b.jpg?1591226994'}\",\n",
       "     'type': 'Instant',\n",
       "     'pioneer': 'Legal',\n",
       "     'colors': 'B',\n",
       "     'subtypes': '0',\n",
       "     'Names': 'Unexpected_Fangs-22979',\n",
       "     'commander': 'Legal',\n",
       "     'modern': 'Legal',\n",
       "     'pauper': 'Legal',\n",
       "     'similarity': '0.7603692',\n",
       "     'duel': 'Legal',\n",
       "     'id': '22979',\n",
       "     'power': '0',\n",
       "     'text': 'Put a +1/+1 counter and a lifelink counter on target creature.',\n",
       "     'toughness': '0',\n",
       "     'convertedManaCost': '2.0',\n",
       "     'oldschool': 'Blank',\n",
       "     'mtgArenaId': '71169.0',\n",
       "     'types': 'Instant',\n",
       "     'historic': 'Legal',\n",
       "     'loyalty': '0',\n",
       "     'scryfallId': 'aa6494ad-a35e-4b09-8623-7740f3c20b0b',\n",
       "     'future': 'Legal',\n",
       "     'vintage': 'Legal',\n",
       "     'name': 'Unexpected Fangs',\n",
       "     'manaCost': '{1}{B}',\n",
       "     'brawl': 'Legal',\n",
       "     'penny': 'Legal'},\n",
       "    {'setName': 'Ikoria: Lair of Behemoths',\n",
       "     'standard': 'Legal',\n",
       "     'legacy': 'Legal',\n",
       "     'image_urls': \"{'small': 'https://c1.scryfall.com/file/scryfall-cards/small/front/f/6/f6599645-dbb5-4174-bd26-8556af6d89c3.jpg?1591227360', 'normal': 'https://c1.scryfall.com/file/scryfall-cards/normal/front/f/6/f6599645-dbb5-4174-bd26-8556af6d89c3.jpg?1591227360', 'large': 'https://c1.scryfall.com/file/scryfall-cards/large/front/f/6/f6599645-dbb5-4174-bd26-8556af6d89c3.jpg?1591227360', 'png': 'https://c1.scryfall.com/file/scryfall-cards/png/front/f/6/f6599645-dbb5-4174-bd26-8556af6d89c3.png?1591227360', 'art_crop': 'https://c1.scryfall.com/file/scryfall-cards/art_crop/front/f/6/f6599645-dbb5-4174-bd26-8556af6d89c3.jpg?1591227360', 'border_crop': 'https://c1.scryfall.com/file/scryfall-cards/border_crop/front/f/6/f6599645-dbb5-4174-bd26-8556af6d89c3.jpg?1591227360'}\",\n",
       "     'type': 'Creature — Elemental Dinosaur',\n",
       "     'pioneer': 'Legal',\n",
       "     'colors': 'R',\n",
       "     'subtypes': 'Elemental,Dinosaur',\n",
       "     'Names': 'Pyroceratops-22899',\n",
       "     'commander': 'Legal',\n",
       "     'modern': 'Legal',\n",
       "     'pauper': 'Legal',\n",
       "     'similarity': '0.748386',\n",
       "     'duel': 'Legal',\n",
       "     'id': '22899',\n",
       "     'power': '2',\n",
       "     'text': 'Trample\\nWhenever you cast a noncreature spell, put a +1/+1 counter on Pyroceratops.',\n",
       "     'toughness': '3',\n",
       "     'convertedManaCost': '4.0',\n",
       "     'oldschool': 'Blank',\n",
       "     'mtgArenaId': '71197.0',\n",
       "     'types': 'Creature',\n",
       "     'historic': 'Legal',\n",
       "     'loyalty': '0',\n",
       "     'scryfallId': 'f6599645-dbb5-4174-bd26-8556af6d89c3',\n",
       "     'future': 'Legal',\n",
       "     'vintage': 'Legal',\n",
       "     'name': 'Pyroceratops',\n",
       "     'manaCost': '{3}{R}',\n",
       "     'brawl': 'Legal',\n",
       "     'penny': 'Legal'},\n",
       "    {'setName': 'Ikoria: Lair of Behemoths',\n",
       "     'standard': 'Legal',\n",
       "     'legacy': 'Legal',\n",
       "     'image_urls': \"{'small': 'https://c1.scryfall.com/file/scryfall-cards/small/front/3/d/3dc24dd4-d259-4687-8247-f56aa7abb5b9.jpg?1603797911', 'normal': 'https://c1.scryfall.com/file/scryfall-cards/normal/front/3/d/3dc24dd4-d259-4687-8247-f56aa7abb5b9.jpg?1603797911', 'large': 'https://c1.scryfall.com/file/scryfall-cards/large/front/3/d/3dc24dd4-d259-4687-8247-f56aa7abb5b9.jpg?1603797911', 'png': 'https://c1.scryfall.com/file/scryfall-cards/png/front/3/d/3dc24dd4-d259-4687-8247-f56aa7abb5b9.png?1603797911', 'art_crop': 'https://c1.scryfall.com/file/scryfall-cards/art_crop/front/3/d/3dc24dd4-d259-4687-8247-f56aa7abb5b9.jpg?1603797911', 'border_crop': 'https://c1.scryfall.com/file/scryfall-cards/border_crop/front/3/d/3dc24dd4-d259-4687-8247-f56aa7abb5b9.jpg?1603797911'}\",\n",
       "     'type': 'Instant',\n",
       "     'pioneer': 'Legal',\n",
       "     'colors': 'W',\n",
       "     'subtypes': '0',\n",
       "     'Names': 'Spontaneous_Flight-22948',\n",
       "     'commander': 'Legal',\n",
       "     'modern': 'Legal',\n",
       "     'pauper': 'Legal',\n",
       "     'similarity': '0.7466798',\n",
       "     'duel': 'Legal',\n",
       "     'id': '22948',\n",
       "     'power': '0',\n",
       "     'text': 'Target creature gets +2/+2 until end of turn. Put a flying counter on it.',\n",
       "     'toughness': '0',\n",
       "     'convertedManaCost': '3.0',\n",
       "     'oldschool': 'Blank',\n",
       "     'mtgArenaId': '71100.0',\n",
       "     'types': 'Instant',\n",
       "     'historic': 'Legal',\n",
       "     'loyalty': '0',\n",
       "     'scryfallId': '3dc24dd4-d259-4687-8247-f56aa7abb5b9',\n",
       "     'future': 'Legal',\n",
       "     'vintage': 'Legal',\n",
       "     'name': 'Spontaneous Flight',\n",
       "     'manaCost': '{2}{W}',\n",
       "     'brawl': 'Legal',\n",
       "     'penny': 'Legal'},\n",
       "    {'setName': 'Arena New Player Experience Extras',\n",
       "     'standard': 'Blank',\n",
       "     'legacy': 'Legal',\n",
       "     'image_urls': \"{'small': 'https://c1.scryfall.com/file/scryfall-cards/small/front/e/3/e3c1b1bc-82ec-4a10-bd0a-04a29a349e3f.jpg?1590010743', 'normal': 'https://c1.scryfall.com/file/scryfall-cards/normal/front/e/3/e3c1b1bc-82ec-4a10-bd0a-04a29a349e3f.jpg?1590010743', 'large': 'https://c1.scryfall.com/file/scryfall-cards/large/front/e/3/e3c1b1bc-82ec-4a10-bd0a-04a29a349e3f.jpg?1590010743', 'png': 'https://c1.scryfall.com/file/scryfall-cards/png/front/e/3/e3c1b1bc-82ec-4a10-bd0a-04a29a349e3f.png?1590010743', 'art_crop': 'https://c1.scryfall.com/file/scryfall-cards/art_crop/front/e/3/e3c1b1bc-82ec-4a10-bd0a-04a29a349e3f.jpg?1590010743', 'border_crop': 'https://c1.scryfall.com/file/scryfall-cards/border_crop/front/e/3/e3c1b1bc-82ec-4a10-bd0a-04a29a349e3f.jpg?1590010743'}\",\n",
       "     'type': 'Sorcery',\n",
       "     'pioneer': 'Legal',\n",
       "     'colors': 'W',\n",
       "     'subtypes': '0',\n",
       "     'Names': 'Take_Vengeance-54753',\n",
       "     'commander': 'Legal',\n",
       "     'modern': 'Legal',\n",
       "     'pauper': 'Legal',\n",
       "     'similarity': '0.7455198',\n",
       "     'duel': 'Legal',\n",
       "     'id': '54753',\n",
       "     'power': '0',\n",
       "     'text': 'Destroy target tapped creature.',\n",
       "     'toughness': '0',\n",
       "     'convertedManaCost': '2.0',\n",
       "     'oldschool': 'Blank',\n",
       "     'mtgArenaId': '68787.0',\n",
       "     'types': 'Sorcery',\n",
       "     'historic': 'Legal',\n",
       "     'loyalty': '0',\n",
       "     'scryfallId': 'e3c1b1bc-82ec-4a10-bd0a-04a29a349e3f',\n",
       "     'future': 'Blank',\n",
       "     'vintage': 'Legal',\n",
       "     'name': 'Take Vengeance',\n",
       "     'manaCost': '{1}{W}',\n",
       "     'brawl': 'Blank',\n",
       "     'penny': 'Legal'},\n",
       "    {'setName': 'Core Set 2021',\n",
       "     'standard': 'Legal',\n",
       "     'legacy': 'Legal',\n",
       "     'image_urls': \"{'small': 'https://c1.scryfall.com/file/scryfall-cards/small/front/a/9/a90c1ad0-83bd-471c-8d4c-e65bc2abaa18.jpg?1594735305', 'normal': 'https://c1.scryfall.com/file/scryfall-cards/normal/front/a/9/a90c1ad0-83bd-471c-8d4c-e65bc2abaa18.jpg?1594735305', 'large': 'https://c1.scryfall.com/file/scryfall-cards/large/front/a/9/a90c1ad0-83bd-471c-8d4c-e65bc2abaa18.jpg?1594735305', 'png': 'https://c1.scryfall.com/file/scryfall-cards/png/front/a/9/a90c1ad0-83bd-471c-8d4c-e65bc2abaa18.png?1594735305', 'art_crop': 'https://c1.scryfall.com/file/scryfall-cards/art_crop/front/a/9/a90c1ad0-83bd-471c-8d4c-e65bc2abaa18.jpg?1594735305', 'border_crop': 'https://c1.scryfall.com/file/scryfall-cards/border_crop/front/a/9/a90c1ad0-83bd-471c-8d4c-e65bc2abaa18.jpg?1594735305'}\",\n",
       "     'type': 'Instant',\n",
       "     'pioneer': 'Legal',\n",
       "     'colors': 'W',\n",
       "     'subtypes': '0',\n",
       "     'Names': 'Swift_Response-29636',\n",
       "     'commander': 'Legal',\n",
       "     'modern': 'Legal',\n",
       "     'pauper': 'Legal',\n",
       "     'similarity': '0.7455198',\n",
       "     'duel': 'Legal',\n",
       "     'id': '29636',\n",
       "     'power': '0',\n",
       "     'text': 'Destroy target tapped creature.',\n",
       "     'toughness': '0',\n",
       "     'convertedManaCost': '2.0',\n",
       "     'oldschool': 'Blank',\n",
       "     'mtgArenaId': '71822.0',\n",
       "     'types': 'Instant',\n",
       "     'historic': 'Legal',\n",
       "     'loyalty': '0',\n",
       "     'scryfallId': 'a90c1ad0-83bd-471c-8d4c-e65bc2abaa18',\n",
       "     'future': 'Legal',\n",
       "     'vintage': 'Legal',\n",
       "     'name': 'Swift Response',\n",
       "     'manaCost': '{1}{W}',\n",
       "     'brawl': 'Legal',\n",
       "     'penny': 'Legal'},\n",
       "    {'setName': 'Core Set 2020',\n",
       "     'standard': 'Blank',\n",
       "     'legacy': 'Legal',\n",
       "     'image_urls': \"{'small': 'https://c1.scryfall.com/file/scryfall-cards/small/front/3/0/30fff340-8e2a-4182-9ece-af5749fa0d2e.jpg?1564023033', 'normal': 'https://c1.scryfall.com/file/scryfall-cards/normal/front/3/0/30fff340-8e2a-4182-9ece-af5749fa0d2e.jpg?1564023033', 'large': 'https://c1.scryfall.com/file/scryfall-cards/large/front/3/0/30fff340-8e2a-4182-9ece-af5749fa0d2e.jpg?1564023033', 'png': 'https://c1.scryfall.com/file/scryfall-cards/png/front/3/0/30fff340-8e2a-4182-9ece-af5749fa0d2e.png?1564023033', 'art_crop': 'https://c1.scryfall.com/file/scryfall-cards/art_crop/front/3/0/30fff340-8e2a-4182-9ece-af5749fa0d2e.jpg?1564023033', 'border_crop': 'https://c1.scryfall.com/file/scryfall-cards/border_crop/front/3/0/30fff340-8e2a-4182-9ece-af5749fa0d2e.jpg?1564023033'}\",\n",
       "     'type': 'Sorcery',\n",
       "     'pioneer': 'Legal',\n",
       "     'colors': 'W',\n",
       "     'subtypes': '0',\n",
       "     'Names': 'Take_Vengeance-29263',\n",
       "     'commander': 'Legal',\n",
       "     'modern': 'Legal',\n",
       "     'pauper': 'Legal',\n",
       "     'similarity': '0.7455198',\n",
       "     'duel': 'Legal',\n",
       "     'id': '29263',\n",
       "     'power': '0',\n",
       "     'text': 'Destroy target tapped creature.',\n",
       "     'toughness': '0',\n",
       "     'convertedManaCost': '2.0',\n",
       "     'oldschool': 'Blank',\n",
       "     'mtgArenaId': '70097.0',\n",
       "     'types': 'Sorcery',\n",
       "     'historic': 'Legal',\n",
       "     'loyalty': '0',\n",
       "     'scryfallId': '30fff340-8e2a-4182-9ece-af5749fa0d2e',\n",
       "     'future': 'Blank',\n",
       "     'vintage': 'Legal',\n",
       "     'name': 'Take Vengeance',\n",
       "     'manaCost': '{1}{W}',\n",
       "     'brawl': 'Blank',\n",
       "     'penny': 'Legal'},\n",
       "    {'setName': 'Core Set 2019',\n",
       "     'standard': 'Blank',\n",
       "     'legacy': 'Legal',\n",
       "     'image_urls': \"{'small': 'https://c1.scryfall.com/file/scryfall-cards/small/front/6/6/66fbde22-d98d-4f12-b4d8-1bad2a9878b2.jpg?1562302645', 'normal': 'https://c1.scryfall.com/file/scryfall-cards/normal/front/6/6/66fbde22-d98d-4f12-b4d8-1bad2a9878b2.jpg?1562302645', 'large': 'https://c1.scryfall.com/file/scryfall-cards/large/front/6/6/66fbde22-d98d-4f12-b4d8-1bad2a9878b2.jpg?1562302645', 'png': 'https://c1.scryfall.com/file/scryfall-cards/png/front/6/6/66fbde22-d98d-4f12-b4d8-1bad2a9878b2.png?1562302645', 'art_crop': 'https://c1.scryfall.com/file/scryfall-cards/art_crop/front/6/6/66fbde22-d98d-4f12-b4d8-1bad2a9878b2.jpg?1562302645', 'border_crop': 'https://c1.scryfall.com/file/scryfall-cards/border_crop/front/6/6/66fbde22-d98d-4f12-b4d8-1bad2a9878b2.jpg?1562302645'}\",\n",
       "     'type': 'Sorcery',\n",
       "     'pioneer': 'Legal',\n",
       "     'colors': 'W',\n",
       "     'subtypes': '0',\n",
       "     'Names': 'Take_Vengeance-28929',\n",
       "     'commander': 'Legal',\n",
       "     'modern': 'Legal',\n",
       "     'pauper': 'Legal',\n",
       "     'similarity': '0.7455198',\n",
       "     'duel': 'Legal',\n",
       "     'id': '28929',\n",
       "     'power': '0',\n",
       "     'text': 'Destroy target tapped creature.',\n",
       "     'toughness': '0',\n",
       "     'convertedManaCost': '2.0',\n",
       "     'oldschool': 'Blank',\n",
       "     'mtgArenaId': '67760.0',\n",
       "     'types': 'Sorcery',\n",
       "     'historic': 'Legal',\n",
       "     'loyalty': '0',\n",
       "     'scryfallId': '66fbde22-d98d-4f12-b4d8-1bad2a9878b2',\n",
       "     'future': 'Blank',\n",
       "     'vintage': 'Legal',\n",
       "     'name': 'Take Vengeance',\n",
       "     'manaCost': '{1}{W}',\n",
       "     'brawl': 'Blank',\n",
       "     'penny': 'Legal'},\n",
       "    {'setName': 'Arena Beginner Set',\n",
       "     'standard': 'Blank',\n",
       "     'legacy': 'Legal',\n",
       "     'image_urls': \"{'small': 'https://c1.scryfall.com/file/scryfall-cards/small/front/4/a/4a0597ce-f91a-43a0-aad6-fbb2a4d9fe57.jpg?1597377446', 'normal': 'https://c1.scryfall.com/file/scryfall-cards/normal/front/4/a/4a0597ce-f91a-43a0-aad6-fbb2a4d9fe57.jpg?1597377446', 'large': 'https://c1.scryfall.com/file/scryfall-cards/large/front/4/a/4a0597ce-f91a-43a0-aad6-fbb2a4d9fe57.jpg?1597377446', 'png': 'https://c1.scryfall.com/file/scryfall-cards/png/front/4/a/4a0597ce-f91a-43a0-aad6-fbb2a4d9fe57.png?1597377446', 'art_crop': 'https://c1.scryfall.com/file/scryfall-cards/art_crop/front/4/a/4a0597ce-f91a-43a0-aad6-fbb2a4d9fe57.jpg?1597377446', 'border_crop': 'https://c1.scryfall.com/file/scryfall-cards/border_crop/front/4/a/4a0597ce-f91a-43a0-aad6-fbb2a4d9fe57.jpg?1597377446'}\",\n",
       "     'type': 'Instant',\n",
       "     'pioneer': 'Legal',\n",
       "     'colors': 'G',\n",
       "     'subtypes': '0',\n",
       "     'Names': 'Stony_Strength-6017',\n",
       "     'commander': 'Legal',\n",
       "     'modern': 'Legal',\n",
       "     'pauper': 'Legal',\n",
       "     'similarity': '0.74341977',\n",
       "     'duel': 'Legal',\n",
       "     'id': '6017',\n",
       "     'power': '0',\n",
       "     'text': 'Put a +1/+1 counter on target creature you control. Untap that creature.',\n",
       "     'toughness': '0',\n",
       "     'convertedManaCost': '1.0',\n",
       "     'oldschool': 'Blank',\n",
       "     'mtgArenaId': '75546.0',\n",
       "     'types': 'Instant',\n",
       "     'historic': 'Legal',\n",
       "     'loyalty': '0',\n",
       "     'scryfallId': '4a0597ce-f91a-43a0-aad6-fbb2a4d9fe57',\n",
       "     'future': 'Blank',\n",
       "     'vintage': 'Legal',\n",
       "     'name': 'Stony Strength',\n",
       "     'manaCost': '{G}',\n",
       "     'brawl': 'Blank',\n",
       "     'penny': 'Legal'},\n",
       "    {'setName': 'Ravnica Allegiance',\n",
       "     'standard': 'Blank',\n",
       "     'legacy': 'Legal',\n",
       "     'image_urls': \"{'small': 'https://c1.scryfall.com/file/scryfall-cards/small/front/8/b/8bbab274-69dd-44a9-9310-a15779c35cad.jpg?1584831289', 'normal': 'https://c1.scryfall.com/file/scryfall-cards/normal/front/8/b/8bbab274-69dd-44a9-9310-a15779c35cad.jpg?1584831289', 'large': 'https://c1.scryfall.com/file/scryfall-cards/large/front/8/b/8bbab274-69dd-44a9-9310-a15779c35cad.jpg?1584831289', 'png': 'https://c1.scryfall.com/file/scryfall-cards/png/front/8/b/8bbab274-69dd-44a9-9310-a15779c35cad.png?1584831289', 'art_crop': 'https://c1.scryfall.com/file/scryfall-cards/art_crop/front/8/b/8bbab274-69dd-44a9-9310-a15779c35cad.jpg?1584831289', 'border_crop': 'https://c1.scryfall.com/file/scryfall-cards/border_crop/front/8/b/8bbab274-69dd-44a9-9310-a15779c35cad.jpg?1584831289'}\",\n",
       "     'type': 'Instant',\n",
       "     'pioneer': 'Legal',\n",
       "     'colors': 'G',\n",
       "     'subtypes': '0',\n",
       "     'Names': 'Stony_Strength-46104',\n",
       "     'commander': 'Legal',\n",
       "     'modern': 'Legal',\n",
       "     'pauper': 'Legal',\n",
       "     'similarity': '0.74341977',\n",
       "     'duel': 'Legal',\n",
       "     'id': '46104',\n",
       "     'power': '0',\n",
       "     'text': 'Put a +1/+1 counter on target creature you control. Untap that creature.',\n",
       "     'toughness': '0',\n",
       "     'convertedManaCost': '1.0',\n",
       "     'oldschool': 'Blank',\n",
       "     'mtgArenaId': '69271.0',\n",
       "     'types': 'Instant',\n",
       "     'historic': 'Legal',\n",
       "     'loyalty': '0',\n",
       "     'scryfallId': '8bbab274-69dd-44a9-9310-a15779c35cad',\n",
       "     'future': 'Blank',\n",
       "     'vintage': 'Legal',\n",
       "     'name': 'Stony Strength',\n",
       "     'manaCost': '{G}',\n",
       "     'brawl': 'Blank',\n",
       "     'penny': 'Legal'},\n",
       "    {'setName': 'Ixalan',\n",
       "     'standard': 'Blank',\n",
       "     'legacy': 'Legal',\n",
       "     'image_urls': \"{'small': 'https://c1.scryfall.com/file/scryfall-cards/small/front/e/a/ea1e7fed-e6f3-4445-8d01-dca3971f726f.jpg?1562565986', 'normal': 'https://c1.scryfall.com/file/scryfall-cards/normal/front/e/a/ea1e7fed-e6f3-4445-8d01-dca3971f726f.jpg?1562565986', 'large': 'https://c1.scryfall.com/file/scryfall-cards/large/front/e/a/ea1e7fed-e6f3-4445-8d01-dca3971f726f.jpg?1562565986', 'png': 'https://c1.scryfall.com/file/scryfall-cards/png/front/e/a/ea1e7fed-e6f3-4445-8d01-dca3971f726f.png?1562565986', 'art_crop': 'https://c1.scryfall.com/file/scryfall-cards/art_crop/front/e/a/ea1e7fed-e6f3-4445-8d01-dca3971f726f.jpg?1562565986', 'border_crop': 'https://c1.scryfall.com/file/scryfall-cards/border_crop/front/e/a/ea1e7fed-e6f3-4445-8d01-dca3971f726f.jpg?1562565986'}\",\n",
       "     'type': 'Creature — Merfolk Shaman',\n",
       "     'pioneer': 'Legal',\n",
       "     'colors': 'G',\n",
       "     'subtypes': 'Merfolk,Shaman',\n",
       "     'Names': 'Deeproot_Champion-54808',\n",
       "     'commander': 'Legal',\n",
       "     'modern': 'Legal',\n",
       "     'pauper': 'Blank',\n",
       "     'similarity': '0.7425839',\n",
       "     'duel': 'Legal',\n",
       "     'id': '54808',\n",
       "     'power': '1',\n",
       "     'text': 'Whenever you cast a noncreature spell, put a +1/+1 counter on Deeproot Champion.',\n",
       "     'toughness': '1',\n",
       "     'convertedManaCost': '2.0',\n",
       "     'oldschool': 'Blank',\n",
       "     'mtgArenaId': '66337.0',\n",
       "     'types': 'Creature',\n",
       "     'historic': 'Legal',\n",
       "     'loyalty': '0',\n",
       "     'scryfallId': 'ea1e7fed-e6f3-4445-8d01-dca3971f726f',\n",
       "     'future': 'Blank',\n",
       "     'vintage': 'Legal',\n",
       "     'name': 'Deeproot Champion',\n",
       "     'manaCost': '{1}{G}',\n",
       "     'brawl': 'Blank',\n",
       "     'penny': 'Legal'},\n",
       "    {'setName': 'Dominaria',\n",
       "     'standard': 'Blank',\n",
       "     'legacy': 'Legal',\n",
       "     'image_urls': \"{'small': 'https://c1.scryfall.com/file/scryfall-cards/small/front/1/1/116ce944-6871-4f51-a889-d9c4a5d7cff2.jpg?1591104775', 'normal': 'https://c1.scryfall.com/file/scryfall-cards/normal/front/1/1/116ce944-6871-4f51-a889-d9c4a5d7cff2.jpg?1591104775', 'large': 'https://c1.scryfall.com/file/scryfall-cards/large/front/1/1/116ce944-6871-4f51-a889-d9c4a5d7cff2.jpg?1591104775', 'png': 'https://c1.scryfall.com/file/scryfall-cards/png/front/1/1/116ce944-6871-4f51-a889-d9c4a5d7cff2.png?1591104775', 'art_crop': 'https://c1.scryfall.com/file/scryfall-cards/art_crop/front/1/1/116ce944-6871-4f51-a889-d9c4a5d7cff2.jpg?1591104775', 'border_crop': 'https://c1.scryfall.com/file/scryfall-cards/border_crop/front/1/1/116ce944-6871-4f51-a889-d9c4a5d7cff2.jpg?1591104775'}\",\n",
       "     'type': 'Instant',\n",
       "     'pioneer': 'Legal',\n",
       "     'colors': 'B',\n",
       "     'subtypes': '0',\n",
       "     'Names': 'Cast_Down-16616',\n",
       "     'commander': 'Legal',\n",
       "     'modern': 'Legal',\n",
       "     'pauper': 'Legal',\n",
       "     'similarity': '0.7407333',\n",
       "     'duel': 'Legal',\n",
       "     'id': '16616',\n",
       "     'power': '0',\n",
       "     'text': 'Destroy target nonlegendary creature.',\n",
       "     'toughness': '0',\n",
       "     'convertedManaCost': '2.0',\n",
       "     'oldschool': 'Blank',\n",
       "     'mtgArenaId': '67266.0',\n",
       "     'types': 'Instant',\n",
       "     'historic': 'Legal',\n",
       "     'loyalty': '0',\n",
       "     'scryfallId': '116ce944-6871-4f51-a889-d9c4a5d7cff2',\n",
       "     'future': 'Blank',\n",
       "     'vintage': 'Legal',\n",
       "     'name': 'Cast Down',\n",
       "     'manaCost': '{1}{B}',\n",
       "     'brawl': 'Blank',\n",
       "     'penny': 'Blank'},\n",
       "    {'setName': 'Core Set 2021',\n",
       "     'standard': 'Legal',\n",
       "     'legacy': 'Legal',\n",
       "     'image_urls': \"{'small': 'https://c1.scryfall.com/file/scryfall-cards/small/front/2/b/2b85a552-2119-4d9c-b7c1-c09c2d9f2f38.jpg?1594736130', 'normal': 'https://c1.scryfall.com/file/scryfall-cards/normal/front/2/b/2b85a552-2119-4d9c-b7c1-c09c2d9f2f38.jpg?1594736130', 'large': 'https://c1.scryfall.com/file/scryfall-cards/large/front/2/b/2b85a552-2119-4d9c-b7c1-c09c2d9f2f38.jpg?1594736130', 'png': 'https://c1.scryfall.com/file/scryfall-cards/png/front/2/b/2b85a552-2119-4d9c-b7c1-c09c2d9f2f38.png?1594736130', 'art_crop': 'https://c1.scryfall.com/file/scryfall-cards/art_crop/front/2/b/2b85a552-2119-4d9c-b7c1-c09c2d9f2f38.jpg?1594736130', 'border_crop': 'https://c1.scryfall.com/file/scryfall-cards/border_crop/front/2/b/2b85a552-2119-4d9c-b7c1-c09c2d9f2f38.jpg?1594736130'}\",\n",
       "     'type': 'Instant',\n",
       "     'pioneer': 'Legal',\n",
       "     'colors': 'B',\n",
       "     'subtypes': '0',\n",
       "     'Names': 'Finishing_Blow-29418',\n",
       "     'commander': 'Legal',\n",
       "     'modern': 'Legal',\n",
       "     'pauper': 'Legal',\n",
       "     'similarity': '0.73308897',\n",
       "     'duel': 'Legal',\n",
       "     'id': '29418',\n",
       "     'power': '0',\n",
       "     'text': 'Destroy target creature or planeswalker.',\n",
       "     'toughness': '0',\n",
       "     'convertedManaCost': '5.0',\n",
       "     'oldschool': 'Blank',\n",
       "     'mtgArenaId': '71881.0',\n",
       "     'types': 'Instant',\n",
       "     'historic': 'Legal',\n",
       "     'loyalty': '0',\n",
       "     'scryfallId': '2b85a552-2119-4d9c-b7c1-c09c2d9f2f38',\n",
       "     'future': 'Legal',\n",
       "     'vintage': 'Legal',\n",
       "     'name': 'Finishing Blow',\n",
       "     'manaCost': '{4}{B}',\n",
       "     'brawl': 'Legal',\n",
       "     'penny': 'Legal'},\n",
       "    {'setName': 'Amonkhet Remastered',\n",
       "     'standard': 'Blank',\n",
       "     'legacy': 'Legal',\n",
       "     'image_urls': \"{'small': 'https://c1.scryfall.com/file/scryfall-cards/small/front/4/f/4f4fa62a-8297-4565-9ff5-68ba4c5b91e4.jpg?1597189526', 'normal': 'https://c1.scryfall.com/file/scryfall-cards/normal/front/4/f/4f4fa62a-8297-4565-9ff5-68ba4c5b91e4.jpg?1597189526', 'large': 'https://c1.scryfall.com/file/scryfall-cards/large/front/4/f/4f4fa62a-8297-4565-9ff5-68ba4c5b91e4.jpg?1597189526', 'png': 'https://c1.scryfall.com/file/scryfall-cards/png/front/4/f/4f4fa62a-8297-4565-9ff5-68ba4c5b91e4.png?1597189526', 'art_crop': 'https://c1.scryfall.com/file/scryfall-cards/art_crop/front/4/f/4f4fa62a-8297-4565-9ff5-68ba4c5b91e4.jpg?1597189526', 'border_crop': 'https://c1.scryfall.com/file/scryfall-cards/border_crop/front/4/f/4f4fa62a-8297-4565-9ff5-68ba4c5b91e4.jpg?1597189526'}\",\n",
       "     'type': 'Sorcery',\n",
       "     'pioneer': 'Legal',\n",
       "     'colors': 'B',\n",
       "     'subtypes': '0',\n",
       "     'Names': 'Never_II_Return-5284',\n",
       "     'commander': 'Legal',\n",
       "     'modern': 'Legal',\n",
       "     'pauper': 'Blank',\n",
       "     'similarity': '0.73308897',\n",
       "     'duel': 'Legal',\n",
       "     'id': '5284',\n",
       "     'power': '0',\n",
       "     'text': 'Destroy target creature or planeswalker.',\n",
       "     'toughness': '0',\n",
       "     'convertedManaCost': '7.0',\n",
       "     'oldschool': 'Blank',\n",
       "     'mtgArenaId': '73894.0',\n",
       "     'types': 'Sorcery',\n",
       "     'historic': 'Legal',\n",
       "     'loyalty': '0',\n",
       "     'scryfallId': '4f4fa62a-8297-4565-9ff5-68ba4c5b91e4',\n",
       "     'future': 'Blank',\n",
       "     'vintage': 'Legal',\n",
       "     'name': 'Never // Return',\n",
       "     'manaCost': '{1}{B}{B}',\n",
       "     'brawl': 'Blank',\n",
       "     'penny': 'Legal'},\n",
       "    {'setName': 'Core Set 2020',\n",
       "     'standard': 'Blank',\n",
       "     'legacy': 'Legal',\n",
       "     'image_urls': \"{'small': 'https://c1.scryfall.com/file/scryfall-cards/small/front/9/c/9c62f724-7fb4-4498-b5c1-cf65d86d8e95.jpg?1592516091', 'normal': 'https://c1.scryfall.com/file/scryfall-cards/normal/front/9/c/9c62f724-7fb4-4498-b5c1-cf65d86d8e95.jpg?1592516091', 'large': 'https://c1.scryfall.com/file/scryfall-cards/large/front/9/c/9c62f724-7fb4-4498-b5c1-cf65d86d8e95.jpg?1592516091', 'png': 'https://c1.scryfall.com/file/scryfall-cards/png/front/9/c/9c62f724-7fb4-4498-b5c1-cf65d86d8e95.png?1592516091', 'art_crop': 'https://c1.scryfall.com/file/scryfall-cards/art_crop/front/9/c/9c62f724-7fb4-4498-b5c1-cf65d86d8e95.jpg?1592516091', 'border_crop': 'https://c1.scryfall.com/file/scryfall-cards/border_crop/front/9/c/9c62f724-7fb4-4498-b5c1-cf65d86d8e95.jpg?1592516091'}\",\n",
       "     'type': 'Creature — Angel',\n",
       "     'pioneer': 'Legal',\n",
       "     'colors': 'W',\n",
       "     'subtypes': 'Angel',\n",
       "     'Names': 'Herald_of_the_Sun-29116',\n",
       "     'commander': 'Legal',\n",
       "     'modern': 'Legal',\n",
       "     'pauper': 'Blank',\n",
       "     'similarity': '0.73161983',\n",
       "     'duel': 'Legal',\n",
       "     'id': '29116',\n",
       "     'power': '4',\n",
       "     'text': 'Flying\\n{3}{W}: Put a +1/+1 counter on another target creature with flying.',\n",
       "     'toughness': '4',\n",
       "     'convertedManaCost': '6.0',\n",
       "     'oldschool': 'Blank',\n",
       "     'mtgArenaId': '69808.0',\n",
       "     'types': 'Creature',\n",
       "     'historic': 'Legal',\n",
       "     'loyalty': '0',\n",
       "     'scryfallId': '9c62f724-7fb4-4498-b5c1-cf65d86d8e95',\n",
       "     'future': 'Blank',\n",
       "     'vintage': 'Legal',\n",
       "     'name': 'Herald of the Sun',\n",
       "     'manaCost': '{4}{W}{W}',\n",
       "     'brawl': 'Blank',\n",
       "     'penny': 'Blank'},\n",
       "    {'setName': 'War of the Spark',\n",
       "     'standard': 'Legal',\n",
       "     'legacy': 'Legal',\n",
       "     'image_urls': \"{'small': 'https://c1.scryfall.com/file/scryfall-cards/small/front/9/1/91551f85-4630-43a0-af72-8332d2ff0752.jpg?1557576817', 'normal': 'https://c1.scryfall.com/file/scryfall-cards/normal/front/9/1/91551f85-4630-43a0-af72-8332d2ff0752.jpg?1557576817', 'large': 'https://c1.scryfall.com/file/scryfall-cards/large/front/9/1/91551f85-4630-43a0-af72-8332d2ff0752.jpg?1557576817', 'png': 'https://c1.scryfall.com/file/scryfall-cards/png/front/9/1/91551f85-4630-43a0-af72-8332d2ff0752.png?1557576817', 'art_crop': 'https://c1.scryfall.com/file/scryfall-cards/art_crop/front/9/1/91551f85-4630-43a0-af72-8332d2ff0752.jpg?1557576817', 'border_crop': 'https://c1.scryfall.com/file/scryfall-cards/border_crop/front/9/1/91551f85-4630-43a0-af72-8332d2ff0752.jpg?1557576817'}\",\n",
       "     'type': 'Creature — Weird',\n",
       "     'pioneer': 'Legal',\n",
       "     'colors': 'R',\n",
       "     'subtypes': 'Weird',\n",
       "     'Names': 'Spellgorger_Weird-53421',\n",
       "     'commander': 'Legal',\n",
       "     'modern': 'Legal',\n",
       "     'pauper': 'Legal',\n",
       "     'similarity': '0.7276842',\n",
       "     'duel': 'Legal',\n",
       "     'id': '53421',\n",
       "     'power': '2',\n",
       "     'text': 'Whenever you cast a noncreature spell, put a +1/+1 counter on Spellgorger Weird.',\n",
       "     'toughness': '2',\n",
       "     'convertedManaCost': '3.0',\n",
       "     'oldschool': 'Blank',\n",
       "     'mtgArenaId': '69596.0',\n",
       "     'types': 'Creature',\n",
       "     'historic': 'Legal',\n",
       "     'loyalty': '0',\n",
       "     'scryfallId': '91551f85-4630-43a0-af72-8332d2ff0752',\n",
       "     'future': 'Legal',\n",
       "     'vintage': 'Legal',\n",
       "     'name': 'Spellgorger Weird',\n",
       "     'manaCost': '{2}{R}',\n",
       "     'brawl': 'Legal',\n",
       "     'penny': 'Legal'},\n",
       "    {'setName': 'Core Set 2021',\n",
       "     'standard': 'Legal',\n",
       "     'legacy': 'Legal',\n",
       "     'image_urls': \"{'small': 'https://c1.scryfall.com/file/scryfall-cards/small/front/b/a/baefa06e-28ba-41b9-866e-1ed0c4969852.jpg?1594736783', 'normal': 'https://c1.scryfall.com/file/scryfall-cards/normal/front/b/a/baefa06e-28ba-41b9-866e-1ed0c4969852.jpg?1594736783', 'large': 'https://c1.scryfall.com/file/scryfall-cards/large/front/b/a/baefa06e-28ba-41b9-866e-1ed0c4969852.jpg?1594736783', 'png': 'https://c1.scryfall.com/file/scryfall-cards/png/front/b/a/baefa06e-28ba-41b9-866e-1ed0c4969852.png?1594736783', 'art_crop': 'https://c1.scryfall.com/file/scryfall-cards/art_crop/front/b/a/baefa06e-28ba-41b9-866e-1ed0c4969852.jpg?1594736783', 'border_crop': 'https://c1.scryfall.com/file/scryfall-cards/border_crop/front/b/a/baefa06e-28ba-41b9-866e-1ed0c4969852.jpg?1594736783'}\",\n",
       "     'type': 'Creature — Weird',\n",
       "     'pioneer': 'Legal',\n",
       "     'colors': 'R',\n",
       "     'subtypes': 'Weird',\n",
       "     'Names': 'Spellgorger_Weird-29618',\n",
       "     'commander': 'Legal',\n",
       "     'modern': 'Legal',\n",
       "     'pauper': 'Legal',\n",
       "     'similarity': '0.7276842',\n",
       "     'duel': 'Legal',\n",
       "     'id': '29618',\n",
       "     'power': '2',\n",
       "     'text': 'Whenever you cast a noncreature spell, put a +1/+1 counter on Spellgorger Weird.',\n",
       "     'toughness': '2',\n",
       "     'convertedManaCost': '3.0',\n",
       "     'oldschool': 'Blank',\n",
       "     'mtgArenaId': '71943.0',\n",
       "     'types': 'Creature',\n",
       "     'historic': 'Legal',\n",
       "     'loyalty': '0',\n",
       "     'scryfallId': 'baefa06e-28ba-41b9-866e-1ed0c4969852',\n",
       "     'future': 'Legal',\n",
       "     'vintage': 'Legal',\n",
       "     'name': 'Spellgorger Weird',\n",
       "     'manaCost': '{2}{R}',\n",
       "     'brawl': 'Legal',\n",
       "     'penny': 'Legal'},\n",
       "    {'setName': 'Ravnica Allegiance',\n",
       "     'standard': 'Blank',\n",
       "     'legacy': 'Legal',\n",
       "     'image_urls': \"{'small': 'https://c1.scryfall.com/file/scryfall-cards/small/front/8/2/821c4ab5-eb75-445a-bbec-e50af54dba7a.jpg?1584831541', 'normal': 'https://c1.scryfall.com/file/scryfall-cards/normal/front/8/2/821c4ab5-eb75-445a-bbec-e50af54dba7a.jpg?1584831541', 'large': 'https://c1.scryfall.com/file/scryfall-cards/large/front/8/2/821c4ab5-eb75-445a-bbec-e50af54dba7a.jpg?1584831541', 'png': 'https://c1.scryfall.com/file/scryfall-cards/png/front/8/2/821c4ab5-eb75-445a-bbec-e50af54dba7a.png?1584831541', 'art_crop': 'https://c1.scryfall.com/file/scryfall-cards/art_crop/front/8/2/821c4ab5-eb75-445a-bbec-e50af54dba7a.jpg?1584831541', 'border_crop': 'https://c1.scryfall.com/file/scryfall-cards/border_crop/front/8/2/821c4ab5-eb75-445a-bbec-e50af54dba7a.jpg?1584831541'}\",\n",
       "     'type': 'Instant',\n",
       "     'pioneer': 'Legal',\n",
       "     'colors': 'B,R',\n",
       "     'subtypes': '0',\n",
       "     'Names': 'Get_the_Point-45963',\n",
       "     'commander': 'Legal',\n",
       "     'modern': 'Legal',\n",
       "     'pauper': 'Legal',\n",
       "     'similarity': '0.72063404',\n",
       "     'duel': 'Legal',\n",
       "     'id': '45963',\n",
       "     'power': '0',\n",
       "     'text': 'Destroy target creature. Scry 1.',\n",
       "     'toughness': '0',\n",
       "     'convertedManaCost': '5.0',\n",
       "     'oldschool': 'Blank',\n",
       "     'mtgArenaId': '69304.0',\n",
       "     'types': 'Instant',\n",
       "     'historic': 'Legal',\n",
       "     'loyalty': '0',\n",
       "     'scryfallId': '821c4ab5-eb75-445a-bbec-e50af54dba7a',\n",
       "     'future': 'Blank',\n",
       "     'vintage': 'Legal',\n",
       "     'name': 'Get the Point',\n",
       "     'manaCost': '{3}{B}{R}',\n",
       "     'brawl': 'Blank',\n",
       "     'penny': 'Legal'},\n",
       "    {'setName': 'Ikoria: Lair of Behemoths',\n",
       "     'standard': 'Legal',\n",
       "     'legacy': 'Legal',\n",
       "     'image_urls': \"{'small': 'https://c1.scryfall.com/file/scryfall-cards/small/front/1/1/11e21a5f-fae7-4488-9463-f0af6e4c5233.jpg?1591226554', 'normal': 'https://c1.scryfall.com/file/scryfall-cards/normal/front/1/1/11e21a5f-fae7-4488-9463-f0af6e4c5233.jpg?1591226554', 'large': 'https://c1.scryfall.com/file/scryfall-cards/large/front/1/1/11e21a5f-fae7-4488-9463-f0af6e4c5233.jpg?1591226554', 'png': 'https://c1.scryfall.com/file/scryfall-cards/png/front/1/1/11e21a5f-fae7-4488-9463-f0af6e4c5233.png?1591226554', 'art_crop': 'https://c1.scryfall.com/file/scryfall-cards/art_crop/front/1/1/11e21a5f-fae7-4488-9463-f0af6e4c5233.jpg?1591226554', 'border_crop': 'https://c1.scryfall.com/file/scryfall-cards/border_crop/front/1/1/11e21a5f-fae7-4488-9463-f0af6e4c5233.jpg?1591226554'}\",\n",
       "     'type': 'Creature — Dinosaur',\n",
       "     'pioneer': 'Legal',\n",
       "     'colors': 'U',\n",
       "     'subtypes': 'Dinosaur',\n",
       "     'Names': 'Wingfold_Pteron-23003',\n",
       "     'commander': 'Legal',\n",
       "     'modern': 'Legal',\n",
       "     'pauper': 'Legal',\n",
       "     'similarity': '0.7139283',\n",
       "     'duel': 'Legal',\n",
       "     'id': '23003',\n",
       "     'power': '3',\n",
       "     'text': \"Wingfold Pteron enters the battlefield with your choice of a flying counter or a hexproof counter on it. (A creature with hexproof can't be the target of spells or abilities your opponents control.)\",\n",
       "     'toughness': '6',\n",
       "     'convertedManaCost': '6.0',\n",
       "     'oldschool': 'Blank',\n",
       "     'mtgArenaId': '71138.0',\n",
       "     'types': 'Creature',\n",
       "     'historic': 'Legal',\n",
       "     'loyalty': '0',\n",
       "     'scryfallId': '11e21a5f-fae7-4488-9463-f0af6e4c5233',\n",
       "     'future': 'Legal',\n",
       "     'vintage': 'Legal',\n",
       "     'name': 'Wingfold Pteron',\n",
       "     'manaCost': '{5}{U}',\n",
       "     'brawl': 'Legal',\n",
       "     'penny': 'Legal'},\n",
       "    {'setName': 'Ikoria: Lair of Behemoths',\n",
       "     'standard': 'Legal',\n",
       "     'legacy': 'Legal',\n",
       "     'image_urls': \"{'small': 'https://c1.scryfall.com/file/scryfall-cards/small/front/3/7/3730996a-96d2-4311-a4dc-0045a2f8ccc9.jpg?1591227860', 'normal': 'https://c1.scryfall.com/file/scryfall-cards/normal/front/3/7/3730996a-96d2-4311-a4dc-0045a2f8ccc9.jpg?1591227860', 'large': 'https://c1.scryfall.com/file/scryfall-cards/large/front/3/7/3730996a-96d2-4311-a4dc-0045a2f8ccc9.jpg?1591227860', 'png': 'https://c1.scryfall.com/file/scryfall-cards/png/front/3/7/3730996a-96d2-4311-a4dc-0045a2f8ccc9.png?1591227860', 'art_crop': 'https://c1.scryfall.com/file/scryfall-cards/art_crop/front/3/7/3730996a-96d2-4311-a4dc-0045a2f8ccc9.jpg?1591227860', 'border_crop': 'https://c1.scryfall.com/file/scryfall-cards/border_crop/front/3/7/3730996a-96d2-4311-a4dc-0045a2f8ccc9.jpg?1591227860'}\",\n",
       "     'type': 'Instant',\n",
       "     'pioneer': 'Legal',\n",
       "     'colors': 'G',\n",
       "     'subtypes': '0',\n",
       "     'Names': 'Sudden_Spinnerets-22955',\n",
       "     'commander': 'Legal',\n",
       "     'modern': 'Legal',\n",
       "     'pauper': 'Legal',\n",
       "     'similarity': '0.7132179',\n",
       "     'duel': 'Legal',\n",
       "     'id': '22955',\n",
       "     'power': '0',\n",
       "     'text': 'Target creature gets +1/+3 until end of turn. Put a reach counter on it. Untap it.',\n",
       "     'toughness': '0',\n",
       "     'convertedManaCost': '1.0',\n",
       "     'oldschool': 'Blank',\n",
       "     'mtgArenaId': '71238.0',\n",
       "     'types': 'Instant',\n",
       "     'historic': 'Legal',\n",
       "     'loyalty': '0',\n",
       "     'scryfallId': '3730996a-96d2-4311-a4dc-0045a2f8ccc9',\n",
       "     'future': 'Legal',\n",
       "     'vintage': 'Legal',\n",
       "     'name': 'Sudden Spinnerets',\n",
       "     'manaCost': '{G}',\n",
       "     'brawl': 'Legal',\n",
       "     'penny': 'Legal'},\n",
       "    {'setName': 'Core Set 2021',\n",
       "     'standard': 'Legal',\n",
       "     'legacy': 'Legal',\n",
       "     'image_urls': \"{'small': 'https://c1.scryfall.com/file/scryfall-cards/small/front/f/8/f8eb4087-3a4c-4de8-8e29-f4cd71acb180.jpg?1594736106', 'normal': 'https://c1.scryfall.com/file/scryfall-cards/normal/front/f/8/f8eb4087-3a4c-4de8-8e29-f4cd71acb180.jpg?1594736106', 'large': 'https://c1.scryfall.com/file/scryfall-cards/large/front/f/8/f8eb4087-3a4c-4de8-8e29-f4cd71acb180.jpg?1594736106', 'png': 'https://c1.scryfall.com/file/scryfall-cards/png/front/f/8/f8eb4087-3a4c-4de8-8e29-f4cd71acb180.png?1594736106', 'art_crop': 'https://c1.scryfall.com/file/scryfall-cards/art_crop/front/f/8/f8eb4087-3a4c-4de8-8e29-f4cd71acb180.jpg?1594736106', 'border_crop': 'https://c1.scryfall.com/file/scryfall-cards/border_crop/front/f/8/f8eb4087-3a4c-4de8-8e29-f4cd71acb180.jpg?1594736106'}\",\n",
       "     'type': 'Instant',\n",
       "     'pioneer': 'Legal',\n",
       "     'colors': 'B',\n",
       "     'subtypes': '0',\n",
       "     'Names': 'Eliminate-29403',\n",
       "     'commander': 'Legal',\n",
       "     'modern': 'Legal',\n",
       "     'pauper': 'Blank',\n",
       "     'similarity': '0.7130524',\n",
       "     'duel': 'Legal',\n",
       "     'id': '29403',\n",
       "     'power': '0',\n",
       "     'text': 'Destroy target creature or planeswalker with converted mana cost 3 or less.',\n",
       "     'toughness': '0',\n",
       "     'convertedManaCost': '2.0',\n",
       "     'oldschool': 'Blank',\n",
       "     'mtgArenaId': '71879.0',\n",
       "     'types': 'Instant',\n",
       "     'historic': 'Legal',\n",
       "     'loyalty': '0',\n",
       "     'scryfallId': 'f8eb4087-3a4c-4de8-8e29-f4cd71acb180',\n",
       "     'future': 'Legal',\n",
       "     'vintage': 'Legal',\n",
       "     'name': 'Eliminate',\n",
       "     'manaCost': '{1}{B}',\n",
       "     'brawl': 'Legal',\n",
       "     'penny': 'Legal'},\n",
       "    {'setName': 'War of the Spark',\n",
       "     'standard': 'Blank',\n",
       "     'legacy': 'Legal',\n",
       "     'image_urls': \"{'small': 'https://c1.scryfall.com/file/scryfall-cards/small/front/b/c/bc9888a1-6f35-4802-b8fb-902017736d4a.jpg?1557576285', 'normal': 'https://c1.scryfall.com/file/scryfall-cards/normal/front/b/c/bc9888a1-6f35-4802-b8fb-902017736d4a.jpg?1557576285', 'large': 'https://c1.scryfall.com/file/scryfall-cards/large/front/b/c/bc9888a1-6f35-4802-b8fb-902017736d4a.jpg?1557576285', 'png': 'https://c1.scryfall.com/file/scryfall-cards/png/front/b/c/bc9888a1-6f35-4802-b8fb-902017736d4a.png?1557576285', 'art_crop': 'https://c1.scryfall.com/file/scryfall-cards/art_crop/front/b/c/bc9888a1-6f35-4802-b8fb-902017736d4a.jpg?1557576285', 'border_crop': 'https://c1.scryfall.com/file/scryfall-cards/border_crop/front/b/c/bc9888a1-6f35-4802-b8fb-902017736d4a.jpg?1557576285'}\",\n",
       "     'type': 'Instant',\n",
       "     'pioneer': 'Legal',\n",
       "     'colors': 'U',\n",
       "     'subtypes': '0',\n",
       "     'Names': 'No_Escape-53366',\n",
       "     'commander': 'Legal',\n",
       "     'modern': 'Legal',\n",
       "     'pauper': 'Legal',\n",
       "     'similarity': '0.7123864',\n",
       "     'duel': 'Legal',\n",
       "     'id': '53366',\n",
       "     'power': '0',\n",
       "     'text': \"Counter target creature or planeswalker spell. If that spell is countered this way, exile it instead of putting it into its owner's graveyard.\\nScry 1.\",\n",
       "     'toughness': '0',\n",
       "     'convertedManaCost': '3.0',\n",
       "     'oldschool': 'Blank',\n",
       "     'mtgArenaId': '69514.0',\n",
       "     'types': 'Instant',\n",
       "     'historic': 'Legal',\n",
       "     'loyalty': '0',\n",
       "     'scryfallId': 'bc9888a1-6f35-4802-b8fb-902017736d4a',\n",
       "     'future': 'Blank',\n",
       "     'vintage': 'Legal',\n",
       "     'name': 'No Escape',\n",
       "     'manaCost': '{2}{U}',\n",
       "     'brawl': 'Blank',\n",
       "     'penny': 'Legal'},\n",
       "    {'setName': 'Theros Beyond Death',\n",
       "     'standard': 'Legal',\n",
       "     'legacy': 'Legal',\n",
       "     'image_urls': \"{'small': 'https://c1.scryfall.com/file/scryfall-cards/small/front/1/2/1200f68a-a8ea-4777-b6b0-de48b2203fd1.jpg?1588900840', 'normal': 'https://c1.scryfall.com/file/scryfall-cards/normal/front/1/2/1200f68a-a8ea-4777-b6b0-de48b2203fd1.jpg?1588900840', 'large': 'https://c1.scryfall.com/file/scryfall-cards/large/front/1/2/1200f68a-a8ea-4777-b6b0-de48b2203fd1.jpg?1588900840', 'png': 'https://c1.scryfall.com/file/scryfall-cards/png/front/1/2/1200f68a-a8ea-4777-b6b0-de48b2203fd1.png?1588900840', 'art_crop': 'https://c1.scryfall.com/file/scryfall-cards/art_crop/front/1/2/1200f68a-a8ea-4777-b6b0-de48b2203fd1.jpg?1588900840', 'border_crop': 'https://c1.scryfall.com/file/scryfall-cards/border_crop/front/1/2/1200f68a-a8ea-4777-b6b0-de48b2203fd1.jpg?1588900840'}\",\n",
       "     'type': 'Instant',\n",
       "     'pioneer': 'Legal',\n",
       "     'colors': 'U',\n",
       "     'subtypes': '0',\n",
       "     'Names': 'Deny_the_Divine-49161',\n",
       "     'commander': 'Legal',\n",
       "     'modern': 'Legal',\n",
       "     'pauper': 'Legal',\n",
       "     'similarity': '0.7120651',\n",
       "     'duel': 'Legal',\n",
       "     'id': '49161',\n",
       "     'power': '0',\n",
       "     'text': \"Counter target creature or enchantment spell. If that spell is countered this way, exile it instead of putting it into its owner's graveyard.\",\n",
       "     'toughness': '0',\n",
       "     'convertedManaCost': '3.0',\n",
       "     'oldschool': 'Blank',\n",
       "     'mtgArenaId': '70558.0',\n",
       "     'types': 'Instant',\n",
       "     'historic': 'Legal',\n",
       "     'loyalty': '0',\n",
       "     'scryfallId': '1200f68a-a8ea-4777-b6b0-de48b2203fd1',\n",
       "     'future': 'Legal',\n",
       "     'vintage': 'Legal',\n",
       "     'name': 'Deny the Divine',\n",
       "     'manaCost': '{2}{U}',\n",
       "     'brawl': 'Legal',\n",
       "     'penny': 'Legal'},\n",
       "    {'setName': 'Jumpstart',\n",
       "     'standard': 'Blank',\n",
       "     'legacy': 'Legal',\n",
       "     'image_urls': \"{'small': 'https://c1.scryfall.com/file/scryfall-cards/small/front/7/7/77238879-6dc7-46ff-8354-89e60c2a04e9.jpg?1600696470', 'normal': 'https://c1.scryfall.com/file/scryfall-cards/normal/front/7/7/77238879-6dc7-46ff-8354-89e60c2a04e9.jpg?1600696470', 'large': 'https://c1.scryfall.com/file/scryfall-cards/large/front/7/7/77238879-6dc7-46ff-8354-89e60c2a04e9.jpg?1600696470', 'png': 'https://c1.scryfall.com/file/scryfall-cards/png/front/7/7/77238879-6dc7-46ff-8354-89e60c2a04e9.png?1600696470', 'art_crop': 'https://c1.scryfall.com/file/scryfall-cards/art_crop/front/7/7/77238879-6dc7-46ff-8354-89e60c2a04e9.jpg?1600696470', 'border_crop': 'https://c1.scryfall.com/file/scryfall-cards/border_crop/front/7/7/77238879-6dc7-46ff-8354-89e60c2a04e9.jpg?1600696470'}\",\n",
       "     'type': 'Sorcery',\n",
       "     'pioneer': 'Legal',\n",
       "     'colors': 'W',\n",
       "     'subtypes': '0',\n",
       "     'Names': 'Gird_for_Battle-24238',\n",
       "     'commander': 'Legal',\n",
       "     'modern': 'Legal',\n",
       "     'pauper': 'Blank',\n",
       "     'similarity': '0.71048766',\n",
       "     'duel': 'Legal',\n",
       "     'id': '24238',\n",
       "     'power': '0',\n",
       "     'text': 'Put a +1/+1 counter on each of up to two target creatures.',\n",
       "     'toughness': '0',\n",
       "     'convertedManaCost': '1.0',\n",
       "     'oldschool': 'Blank',\n",
       "     'mtgArenaId': '72168.0',\n",
       "     'types': 'Sorcery',\n",
       "     'historic': 'Legal',\n",
       "     'loyalty': '0',\n",
       "     'scryfallId': '77238879-6dc7-46ff-8354-89e60c2a04e9',\n",
       "     'future': 'Blank',\n",
       "     'vintage': 'Legal',\n",
       "     'name': 'Gird for Battle',\n",
       "     'manaCost': '{W}',\n",
       "     'brawl': 'Blank',\n",
       "     'penny': 'Legal'},\n",
       "    {'setName': 'Guilds of Ravnica',\n",
       "     'standard': 'Blank',\n",
       "     'legacy': 'Legal',\n",
       "     'image_urls': \"{'small': 'https://c1.scryfall.com/file/scryfall-cards/small/front/f/9/f9f731df-eb40-44c8-a72d-f377c824584d.jpg?1572892549', 'normal': 'https://c1.scryfall.com/file/scryfall-cards/normal/front/f/9/f9f731df-eb40-44c8-a72d-f377c824584d.jpg?1572892549', 'large': 'https://c1.scryfall.com/file/scryfall-cards/large/front/f/9/f9f731df-eb40-44c8-a72d-f377c824584d.jpg?1572892549', 'png': 'https://c1.scryfall.com/file/scryfall-cards/png/front/f/9/f9f731df-eb40-44c8-a72d-f377c824584d.png?1572892549', 'art_crop': 'https://c1.scryfall.com/file/scryfall-cards/art_crop/front/f/9/f9f731df-eb40-44c8-a72d-f377c824584d.jpg?1572892549', 'border_crop': 'https://c1.scryfall.com/file/scryfall-cards/border_crop/front/f/9/f9f731df-eb40-44c8-a72d-f377c824584d.jpg?1572892549'}\",\n",
       "     'type': 'Sorcery',\n",
       "     'pioneer': 'Legal',\n",
       "     'colors': 'W',\n",
       "     'subtypes': '0',\n",
       "     'Names': 'Gird_for_Battle-21036',\n",
       "     'commander': 'Legal',\n",
       "     'modern': 'Legal',\n",
       "     'pauper': 'Blank',\n",
       "     'similarity': '0.71048766',\n",
       "     'duel': 'Legal',\n",
       "     'id': '21036',\n",
       "     'power': '0',\n",
       "     'text': 'Put a +1/+1 counter on each of up to two target creatures.',\n",
       "     'toughness': '0',\n",
       "     'convertedManaCost': '1.0',\n",
       "     'oldschool': 'Blank',\n",
       "     'mtgArenaId': '68473.0',\n",
       "     'types': 'Sorcery',\n",
       "     'historic': 'Legal',\n",
       "     'loyalty': '0',\n",
       "     'scryfallId': 'f9f731df-eb40-44c8-a72d-f377c824584d',\n",
       "     'future': 'Blank',\n",
       "     'vintage': 'Legal',\n",
       "     'name': 'Gird for Battle',\n",
       "     'manaCost': '{W}',\n",
       "     'brawl': 'Blank',\n",
       "     'penny': 'Legal'},\n",
       "    {'setName': 'Ravnica Allegiance',\n",
       "     'standard': 'Blank',\n",
       "     'legacy': 'Legal',\n",
       "     'image_urls': \"{'small': 'https://c1.scryfall.com/file/scryfall-cards/small/front/8/1/81e2b96b-ecf2-4dd9-bc9d-3c46ee8c59e6.jpg?1584831400', 'normal': 'https://c1.scryfall.com/file/scryfall-cards/normal/front/8/1/81e2b96b-ecf2-4dd9-bc9d-3c46ee8c59e6.jpg?1584831400', 'large': 'https://c1.scryfall.com/file/scryfall-cards/large/front/8/1/81e2b96b-ecf2-4dd9-bc9d-3c46ee8c59e6.jpg?1584831400', 'png': 'https://c1.scryfall.com/file/scryfall-cards/png/front/8/1/81e2b96b-ecf2-4dd9-bc9d-3c46ee8c59e6.png?1584831400', 'art_crop': 'https://c1.scryfall.com/file/scryfall-cards/art_crop/front/8/1/81e2b96b-ecf2-4dd9-bc9d-3c46ee8c59e6.jpg?1584831400', 'border_crop': 'https://c1.scryfall.com/file/scryfall-cards/border_crop/front/8/1/81e2b96b-ecf2-4dd9-bc9d-3c46ee8c59e6.jpg?1584831400'}\",\n",
       "     'type': 'Instant',\n",
       "     'pioneer': 'Legal',\n",
       "     'colors': 'B,R',\n",
       "     'subtypes': '0',\n",
       "     'Names': 'Bedevil-45882',\n",
       "     'commander': 'Legal',\n",
       "     'modern': 'Legal',\n",
       "     'pauper': 'Blank',\n",
       "     'similarity': '0.7101046',\n",
       "     'duel': 'Legal',\n",
       "     'id': '45882',\n",
       "     'power': '0',\n",
       "     'text': 'Destroy target artifact, creature, or planeswalker.',\n",
       "     'toughness': '0',\n",
       "     'convertedManaCost': '3.0',\n",
       "     'oldschool': 'Blank',\n",
       "     'mtgArenaId': '69285.0',\n",
       "     'types': 'Instant',\n",
       "     'historic': 'Legal',\n",
       "     'loyalty': '0',\n",
       "     'scryfallId': '81e2b96b-ecf2-4dd9-bc9d-3c46ee8c59e6',\n",
       "     'future': 'Blank',\n",
       "     'vintage': 'Legal',\n",
       "     'name': 'Bedevil',\n",
       "     'manaCost': '{B}{B}{R}',\n",
       "     'brawl': 'Blank',\n",
       "     'penny': 'Blank'},\n",
       "    {'setName': 'War of the Spark',\n",
       "     'standard': 'Blank',\n",
       "     'legacy': 'Legal',\n",
       "     'image_urls': \"{'small': 'https://c1.scryfall.com/file/scryfall-cards/small/front/b/0/b0dcae59-e9be-45a8-8ed8-5b47309bb716.jpg?1557577110', 'normal': 'https://c1.scryfall.com/file/scryfall-cards/normal/front/b/0/b0dcae59-e9be-45a8-8ed8-5b47309bb716.jpg?1557577110', 'large': 'https://c1.scryfall.com/file/scryfall-cards/large/front/b/0/b0dcae59-e9be-45a8-8ed8-5b47309bb716.jpg?1557577110', 'png': 'https://c1.scryfall.com/file/scryfall-cards/png/front/b/0/b0dcae59-e9be-45a8-8ed8-5b47309bb716.png?1557577110', 'art_crop': 'https://c1.scryfall.com/file/scryfall-cards/art_crop/front/b/0/b0dcae59-e9be-45a8-8ed8-5b47309bb716.jpg?1557577110', 'border_crop': 'https://c1.scryfall.com/file/scryfall-cards/border_crop/front/b/0/b0dcae59-e9be-45a8-8ed8-5b47309bb716.jpg?1557577110'}\",\n",
       "     'type': 'Sorcery',\n",
       "     'pioneer': 'Legal',\n",
       "     'colors': 'G,R',\n",
       "     'subtypes': '0',\n",
       "     'Names': \"Domri's_Ambush-53231\",\n",
       "     'commander': 'Legal',\n",
       "     'modern': 'Legal',\n",
       "     'pauper': 'Blank',\n",
       "     'similarity': '0.70865977',\n",
       "     'duel': 'Legal',\n",
       "     'id': '53231',\n",
       "     'power': '0',\n",
       "     'text': \"Put a +1/+1 counter on target creature you control. Then that creature deals damage equal to its power to target creature or planeswalker you don't control.\",\n",
       "     'toughness': '0',\n",
       "     'convertedManaCost': '2.0',\n",
       "     'oldschool': 'Blank',\n",
       "     'mtgArenaId': '69642.0',\n",
       "     'types': 'Sorcery',\n",
       "     'historic': 'Legal',\n",
       "     'loyalty': '0',\n",
       "     'scryfallId': 'b0dcae59-e9be-45a8-8ed8-5b47309bb716',\n",
       "     'future': 'Blank',\n",
       "     'vintage': 'Legal',\n",
       "     'name': \"Domri's Ambush\",\n",
       "     'manaCost': '{R}{G}',\n",
       "     'brawl': 'Blank',\n",
       "     'penny': 'Legal'},\n",
       "    {'setName': 'Ixalan',\n",
       "     'standard': 'Blank',\n",
       "     'legacy': 'Legal',\n",
       "     'image_urls': \"{'small': 'https://c1.scryfall.com/file/scryfall-cards/small/front/e/3/e355a98d-093d-4ab2-84f2-f560d08f1fca.jpg?1562565614', 'normal': 'https://c1.scryfall.com/file/scryfall-cards/normal/front/e/3/e355a98d-093d-4ab2-84f2-f560d08f1fca.jpg?1562565614', 'large': 'https://c1.scryfall.com/file/scryfall-cards/large/front/e/3/e355a98d-093d-4ab2-84f2-f560d08f1fca.jpg?1562565614', 'png': 'https://c1.scryfall.com/file/scryfall-cards/png/front/e/3/e355a98d-093d-4ab2-84f2-f560d08f1fca.png?1562565614', 'art_crop': 'https://c1.scryfall.com/file/scryfall-cards/art_crop/front/e/3/e355a98d-093d-4ab2-84f2-f560d08f1fca.jpg?1562565614', 'border_crop': 'https://c1.scryfall.com/file/scryfall-cards/border_crop/front/e/3/e355a98d-093d-4ab2-84f2-f560d08f1fca.jpg?1562565614'}\",\n",
       "     'type': 'Instant',\n",
       "     'pioneer': 'Legal',\n",
       "     'colors': 'G',\n",
       "     'subtypes': '0',\n",
       "     'Names': \"River_Heralds'_Boon-54955\",\n",
       "     'commander': 'Legal',\n",
       "     'modern': 'Legal',\n",
       "     'pauper': 'Legal',\n",
       "     'similarity': '0.70688784',\n",
       "     'duel': 'Legal',\n",
       "     'id': '54955',\n",
       "     'power': '0',\n",
       "     'text': 'Put a +1/+1 counter on target creature and a +1/+1 counter on up to one target Merfolk.',\n",
       "     'toughness': '0',\n",
       "     'convertedManaCost': '2.0',\n",
       "     'oldschool': 'Blank',\n",
       "     'mtgArenaId': '66377.0',\n",
       "     'types': 'Instant',\n",
       "     'historic': 'Legal',\n",
       "     'loyalty': '0',\n",
       "     'scryfallId': 'e355a98d-093d-4ab2-84f2-f560d08f1fca',\n",
       "     'future': 'Blank',\n",
       "     'vintage': 'Legal',\n",
       "     'name': \"River Heralds' Boon\",\n",
       "     'manaCost': '{1}{G}',\n",
       "     'brawl': 'Blank',\n",
       "     'penny': 'Blank'},\n",
       "    {'setName': 'War of the Spark',\n",
       "     'standard': 'Blank',\n",
       "     'legacy': 'Legal',\n",
       "     'image_urls': \"{'small': 'https://c1.scryfall.com/file/scryfall-cards/small/front/a/a/aa5341b9-06e4-4360-a75d-f405d468276e.jpg?1558753233', 'normal': 'https://c1.scryfall.com/file/scryfall-cards/normal/front/a/a/aa5341b9-06e4-4360-a75d-f405d468276e.jpg?1558753233', 'large': 'https://c1.scryfall.com/file/scryfall-cards/large/front/a/a/aa5341b9-06e4-4360-a75d-f405d468276e.jpg?1558753233', 'png': 'https://c1.scryfall.com/file/scryfall-cards/png/front/a/a/aa5341b9-06e4-4360-a75d-f405d468276e.png?1558753233', 'art_crop': 'https://c1.scryfall.com/file/scryfall-cards/art_crop/front/a/a/aa5341b9-06e4-4360-a75d-f405d468276e.jpg?1558753233', 'border_crop': 'https://c1.scryfall.com/file/scryfall-cards/border_crop/front/a/a/aa5341b9-06e4-4360-a75d-f405d468276e.jpg?1558753233'}\",\n",
       "     'type': 'Creature — Crocodile',\n",
       "     'pioneer': 'Legal',\n",
       "     'colors': 'G',\n",
       "     'subtypes': 'Crocodile',\n",
       "     'Names': 'Wardscale_Crocodile-53476',\n",
       "     'commander': 'Legal',\n",
       "     'modern': 'Legal',\n",
       "     'pauper': 'Legal',\n",
       "     'similarity': '0.7054614',\n",
       "     'duel': 'Legal',\n",
       "     'id': '53476',\n",
       "     'power': '5',\n",
       "     'text': \"Hexproof (This creature can't be the target of spells or abilities your opponents control.)\",\n",
       "     'toughness': '3',\n",
       "     'convertedManaCost': '5.0',\n",
       "     'oldschool': 'Blank',\n",
       "     'mtgArenaId': '69634.0',\n",
       "     'types': 'Creature',\n",
       "     'historic': 'Legal',\n",
       "     'loyalty': '0',\n",
       "     'scryfallId': 'aa5341b9-06e4-4360-a75d-f405d468276e',\n",
       "     'future': 'Blank',\n",
       "     'vintage': 'Legal',\n",
       "     'name': 'Wardscale Crocodile',\n",
       "     'manaCost': '{4}{G}',\n",
       "     'brawl': 'Blank',\n",
       "     'penny': 'Legal'},\n",
       "    {'setName': 'Ravnica Allegiance',\n",
       "     'standard': 'Blank',\n",
       "     'legacy': 'Legal',\n",
       "     'image_urls': \"{'small': 'https://c1.scryfall.com/file/scryfall-cards/small/front/2/1/21982dc7-4f79-4251-8382-95cd1f627e0f.jpg?1584830229', 'normal': 'https://c1.scryfall.com/file/scryfall-cards/normal/front/2/1/21982dc7-4f79-4251-8382-95cd1f627e0f.jpg?1584830229', 'large': 'https://c1.scryfall.com/file/scryfall-cards/large/front/2/1/21982dc7-4f79-4251-8382-95cd1f627e0f.jpg?1584830229', 'png': 'https://c1.scryfall.com/file/scryfall-cards/png/front/2/1/21982dc7-4f79-4251-8382-95cd1f627e0f.png?1584830229', 'art_crop': 'https://c1.scryfall.com/file/scryfall-cards/art_crop/front/2/1/21982dc7-4f79-4251-8382-95cd1f627e0f.jpg?1584830229', 'border_crop': 'https://c1.scryfall.com/file/scryfall-cards/border_crop/front/2/1/21982dc7-4f79-4251-8382-95cd1f627e0f.jpg?1584830229'}\",\n",
       "     'type': 'Creature — Homunculus',\n",
       "     'pioneer': 'Legal',\n",
       "     'colors': 'U',\n",
       "     'subtypes': 'Homunculus',\n",
       "     'Names': 'Humongulus-45987',\n",
       "     'commander': 'Legal',\n",
       "     'modern': 'Legal',\n",
       "     'pauper': 'Legal',\n",
       "     'similarity': '0.7054614',\n",
       "     'duel': 'Legal',\n",
       "     'id': '45987',\n",
       "     'power': '2',\n",
       "     'text': \"Hexproof (This creature can't be the target of spells or abilities your opponents control.)\",\n",
       "     'toughness': '5',\n",
       "     'convertedManaCost': '5.0',\n",
       "     'oldschool': 'Blank',\n",
       "     'mtgArenaId': '69169.0',\n",
       "     'types': 'Creature',\n",
       "     'historic': 'Legal',\n",
       "     'loyalty': '0',\n",
       "     'scryfallId': '21982dc7-4f79-4251-8382-95cd1f627e0f',\n",
       "     'future': 'Blank',\n",
       "     'vintage': 'Legal',\n",
       "     'name': 'Humongulus',\n",
       "     'manaCost': '{4}{U}',\n",
       "     'brawl': 'Blank',\n",
       "     'penny': 'Legal'},\n",
       "    {'setName': 'Dominaria',\n",
       "     'standard': 'Blank',\n",
       "     'legacy': 'Legal',\n",
       "     'image_urls': \"{'small': 'https://c1.scryfall.com/file/scryfall-cards/small/front/c/f/cf339549-4325-40c6-adde-0cd31bb738e0.jpg?1562743213', 'normal': 'https://c1.scryfall.com/file/scryfall-cards/normal/front/c/f/cf339549-4325-40c6-adde-0cd31bb738e0.jpg?1562743213', 'large': 'https://c1.scryfall.com/file/scryfall-cards/large/front/c/f/cf339549-4325-40c6-adde-0cd31bb738e0.jpg?1562743213', 'png': 'https://c1.scryfall.com/file/scryfall-cards/png/front/c/f/cf339549-4325-40c6-adde-0cd31bb738e0.png?1562743213', 'art_crop': 'https://c1.scryfall.com/file/scryfall-cards/art_crop/front/c/f/cf339549-4325-40c6-adde-0cd31bb738e0.jpg?1562743213', 'border_crop': 'https://c1.scryfall.com/file/scryfall-cards/border_crop/front/c/f/cf339549-4325-40c6-adde-0cd31bb738e0.jpg?1562743213'}\",\n",
       "     'type': 'Creature — Turtle',\n",
       "     'pioneer': 'Legal',\n",
       "     'colors': 'U',\n",
       "     'subtypes': 'Turtle',\n",
       "     'Names': 'Cold-Water_Snapper-16624',\n",
       "     'commander': 'Legal',\n",
       "     'modern': 'Legal',\n",
       "     'pauper': 'Legal',\n",
       "     'similarity': '0.7054614',\n",
       "     'duel': 'Legal',\n",
       "     'id': '16624',\n",
       "     'power': '4',\n",
       "     'text': \"Hexproof (This creature can't be the target of spells or abilities your opponents control.)\",\n",
       "     'toughness': '5',\n",
       "     'convertedManaCost': '6.0',\n",
       "     'oldschool': 'Blank',\n",
       "     'mtgArenaId': '67200.0',\n",
       "     'types': 'Creature',\n",
       "     'historic': 'Legal',\n",
       "     'loyalty': '0',\n",
       "     'scryfallId': 'cf339549-4325-40c6-adde-0cd31bb738e0',\n",
       "     'future': 'Blank',\n",
       "     'vintage': 'Legal',\n",
       "     'name': 'Cold-Water Snapper',\n",
       "     'manaCost': '{5}{U}',\n",
       "     'brawl': 'Blank',\n",
       "     'penny': 'Legal'},\n",
       "    {'setName': 'Jumpstart',\n",
       "     'standard': 'Blank',\n",
       "     'legacy': 'Legal',\n",
       "     'image_urls': \"{'small': 'https://c1.scryfall.com/file/scryfall-cards/small/front/8/6/8644d4d1-8499-40a8-a01f-68172c82bf58.jpg?1600714489', 'normal': 'https://c1.scryfall.com/file/scryfall-cards/normal/front/8/6/8644d4d1-8499-40a8-a01f-68172c82bf58.jpg?1600714489', 'large': 'https://c1.scryfall.com/file/scryfall-cards/large/front/8/6/8644d4d1-8499-40a8-a01f-68172c82bf58.jpg?1600714489', 'png': 'https://c1.scryfall.com/file/scryfall-cards/png/front/8/6/8644d4d1-8499-40a8-a01f-68172c82bf58.png?1600714489', 'art_crop': 'https://c1.scryfall.com/file/scryfall-cards/art_crop/front/8/6/8644d4d1-8499-40a8-a01f-68172c82bf58.jpg?1600714489', 'border_crop': 'https://c1.scryfall.com/file/scryfall-cards/border_crop/front/8/6/8644d4d1-8499-40a8-a01f-68172c82bf58.jpg?1600714489'}\",\n",
       "     'type': 'Creature — Aetherborn Vampire',\n",
       "     'pioneer': 'Legal',\n",
       "     'colors': 'B',\n",
       "     'subtypes': 'Aetherborn,Vampire',\n",
       "     'Names': 'Gifted_Aetherborn-24236',\n",
       "     'commander': 'Legal',\n",
       "     'modern': 'Legal',\n",
       "     'pauper': 'Blank',\n",
       "     'similarity': '0.7052926',\n",
       "     'duel': 'Legal',\n",
       "     'id': '24236',\n",
       "     'power': '2',\n",
       "     'text': 'Deathtouch, lifelink',\n",
       "     'toughness': '3',\n",
       "     'convertedManaCost': '2.0',\n",
       "     'oldschool': 'Blank',\n",
       "     'mtgArenaId': '72301.0',\n",
       "     'types': 'Creature',\n",
       "     'historic': 'Legal',\n",
       "     'loyalty': '0',\n",
       "     'scryfallId': '8644d4d1-8499-40a8-a01f-68172c82bf58',\n",
       "     'future': 'Blank',\n",
       "     'vintage': 'Legal',\n",
       "     'name': 'Gifted Aetherborn',\n",
       "     'manaCost': '{B}{B}',\n",
       "     'brawl': 'Blank',\n",
       "     'penny': 'Blank'}],\n",
       "   'vintage': 'Legal',\n",
       "   'power': '0',\n",
       "   'manaCost': '{1}{U}',\n",
       "   'legacy': 'Legal',\n",
       "   'similarity': '1.0',\n",
       "   'standard': 'Legal',\n",
       "   'type': 'Instant',\n",
       "   'oldschool': 'Blank'}]}"
      ]
     },
     "metadata": {},
     "execution_count": 298
    }
   ],
   "source": [
    "res.json()"
   ]
  },
  {
   "cell_type": "code",
   "execution_count": 281,
   "metadata": {},
   "outputs": [
    {
     "output_type": "error",
     "ename": "IndexError",
     "evalue": "list index out of range",
     "traceback": [
      "\u001b[1;31m---------------------------------------------------------------------------\u001b[0m",
      "\u001b[1;31mIndexError\u001b[0m                                Traceback (most recent call last)",
      "\u001b[1;32m<ipython-input-281-b8009055d7e6>\u001b[0m in \u001b[0;36m<module>\u001b[1;34m\u001b[0m\n\u001b[1;32m----> 1\u001b[1;33m \u001b[0mprint\u001b[0m\u001b[1;33m(\u001b[0m\u001b[0mres\u001b[0m\u001b[1;33m.\u001b[0m\u001b[0mjson\u001b[0m\u001b[1;33m(\u001b[0m\u001b[1;33m)\u001b[0m\u001b[1;33m[\u001b[0m\u001b[1;34m'cards'\u001b[0m\u001b[1;33m]\u001b[0m\u001b[1;33m[\u001b[0m\u001b[1;36m0\u001b[0m\u001b[1;33m]\u001b[0m\u001b[1;33m[\u001b[0m\u001b[1;34m'Names'\u001b[0m\u001b[1;33m]\u001b[0m\u001b[1;33m)\u001b[0m\u001b[1;33m\u001b[0m\u001b[1;33m\u001b[0m\u001b[0m\n\u001b[0m\u001b[0;32m      2\u001b[0m \u001b[0mprint\u001b[0m\u001b[1;33m(\u001b[0m\u001b[0mres\u001b[0m\u001b[1;33m.\u001b[0m\u001b[0mjson\u001b[0m\u001b[1;33m(\u001b[0m\u001b[1;33m)\u001b[0m\u001b[1;33m[\u001b[0m\u001b[1;34m'cards'\u001b[0m\u001b[1;33m]\u001b[0m\u001b[1;33m[\u001b[0m\u001b[1;36m0\u001b[0m\u001b[1;33m]\u001b[0m\u001b[1;33m[\u001b[0m\u001b[1;34m'name'\u001b[0m\u001b[1;33m]\u001b[0m\u001b[1;33m)\u001b[0m\u001b[1;33m\u001b[0m\u001b[1;33m\u001b[0m\u001b[0m\n\u001b[0;32m      3\u001b[0m \u001b[0mprint\u001b[0m\u001b[1;33m(\u001b[0m\u001b[0mlen\u001b[0m\u001b[1;33m(\u001b[0m\u001b[0mres\u001b[0m\u001b[1;33m.\u001b[0m\u001b[0mjson\u001b[0m\u001b[1;33m(\u001b[0m\u001b[1;33m)\u001b[0m\u001b[1;33m[\u001b[0m\u001b[1;34m'cards'\u001b[0m\u001b[1;33m]\u001b[0m\u001b[1;33m)\u001b[0m\u001b[1;33m)\u001b[0m\u001b[1;33m\u001b[0m\u001b[1;33m\u001b[0m\u001b[0m\n",
      "\u001b[1;31mIndexError\u001b[0m: list index out of range"
     ]
    }
   ],
   "source": [
    "print(res.json()['cards'][0]['Names'])\n",
    "print(res.json()['cards'][0]['name'])\n",
    "print(len(res.json()['cards']))"
   ]
  },
  {
   "cell_type": "code",
   "execution_count": 277,
   "metadata": {},
   "outputs": [
    {
     "output_type": "stream",
     "name": "stdout",
     "text": [
      "Negate-45763 - Negate - 1.0\nNegate-55743 - Negate - 1.0\n"
     ]
    }
   ],
   "source": [
    "for card in res.json()['cards'][0]['similarities']:\n",
    "    if float(card['similarity']) >= 0.99:\n",
    "        print('{} - {} - {}'.format(card['Names'], card['name'], card['similarity']))"
   ]
  },
  {
   "source": [
    "## Lambda Cards Sorter Master"
   ],
   "cell_type": "markdown",
   "metadata": {}
  },
  {
   "cell_type": "code",
   "execution_count": 39,
   "metadata": {},
   "outputs": [],
   "source": [
    "STAGE = 'dev'"
   ]
  },
  {
   "cell_type": "code",
   "execution_count": 40,
   "metadata": {},
   "outputs": [],
   "source": [
    "_, s3, boto_sess = aws_connect('s3', 'lw2134', session=True)\n",
    "lambda_client = boto_sess.client('lambda')"
   ]
  },
  {
   "cell_type": "code",
   "execution_count": 41,
   "metadata": {},
   "outputs": [],
   "source": [
    "all_cards = pred_df.columns"
   ]
  },
  {
   "cell_type": "code",
   "execution_count": 47,
   "metadata": {},
   "outputs": [
    {
     "output_type": "stream",
     "name": "stdout",
     "text": [
      "542\n"
     ]
    },
    {
     "output_type": "execute_result",
     "data": {
      "text/plain": [
       "[\"Archon_of_Sun's_Grace-AJMP\",\n",
       " 'Audacious_Thief-AJMP',\n",
       " 'Banishing_Light-AJMP',\n",
       " 'Bond_of_Revival-AJMP',\n",
       " 'Carnifex_Demon-AJMP',\n",
       " 'Doomed_Necromancer-AJMP',\n",
       " 'Dryad_Greenseeker-AJMP',\n",
       " 'Fanatic_of_Mogis-AJMP',\n",
       " 'Gadwick,_the_Wizened-AJMP',\n",
       " 'Goblin_Oriflamme-AJMP']"
      ]
     },
     "metadata": {},
     "execution_count": 47
    }
   ],
   "source": [
    "BATCHES_OF = 10\n",
    "batches = [list(all_cards[n:n+BATCHES_OF]) for n in range(1, len(all_cards), BATCHES_OF)]\n",
    "print(len(batches))\n",
    "batches[0]"
   ]
  },
  {
   "cell_type": "code",
   "execution_count": 49,
   "metadata": {},
   "outputs": [],
   "source": [
    "import json"
   ]
  },
  {
   "cell_type": "code",
   "execution_count": 54,
   "metadata": {},
   "outputs": [
    {
     "output_type": "execute_result",
     "data": {
      "text/plain": [
       "'[\"Archon_of_Sun\\'s_Grace-AJMP\", \"Audacious_Thief-AJMP\", \"Banishing_Light-AJMP\", \"Bond_of_Revival-AJMP\", \"Carnifex_Demon-AJMP\"]'"
      ]
     },
     "metadata": {},
     "execution_count": 54
    }
   ],
   "source": [
    "json.dumps(batches[0][0:5])"
   ]
  },
  {
   "cell_type": "code",
   "execution_count": 141,
   "metadata": {},
   "outputs": [],
   "source": [
    "for cards in batches:\n",
    "    payload = {'cards': cards}\n",
    "\n",
    "    res = lambda_client.invoke(\n",
    "        FunctionName='magicml-similarity-{}-stage_embed_worker'.format(STAGE),\n",
    "        InvocationType='Event',\n",
    "        Payload=json.dumps(payload)\n",
    "    )"
   ]
  },
  {
   "cell_type": "code",
   "execution_count": null,
   "metadata": {},
   "outputs": [],
   "source": []
  },
  {
   "cell_type": "code",
   "execution_count": null,
   "metadata": {},
   "outputs": [],
   "source": []
  },
  {
   "cell_type": "code",
   "execution_count": 142,
   "metadata": {},
   "outputs": [
    {
     "output_type": "stream",
     "name": "stdout",
     "text": [
      "(7639, 33)\n"
     ]
    }
   ],
   "source": [
    "a_card = pd.read_csv('sorted/Banishing_Light-AJMP.csv')\n",
    "print(a_card.shape)"
   ]
  },
  {
   "cell_type": "code",
   "execution_count": 149,
   "metadata": {},
   "outputs": [
    {
     "output_type": "execute_result",
     "data": {
      "text/plain": [
       "   Banishing_Light-AJMP     id  mtgArenaId  \\\n",
       "0              1.000000   4756     74986.0   \n",
       "1              1.000000  49136     70515.0   \n",
       "2              0.773027  28775     67708.0   \n",
       "\n",
       "                             scryfallId                name colorIdentity  \\\n",
       "0  ca112bae-6ac5-4cdf-9e8c-1b99f7396995     Banishing Light             W   \n",
       "1  a1ddd113-140f-49c9-b45c-cf1b0d1dffd8     Banishing Light             W   \n",
       "2  197743cd-249c-42ba-ac8d-027c088f8418  Hieromancer's Cage             W   \n",
       "\n",
       "  colors                     setName  convertedManaCost manaCost  ...  future  \\\n",
       "0      W  Jumpstart Arena Exclusives                3.0   {2}{W}  ...   Legal   \n",
       "1      W         Theros Beyond Death                3.0   {2}{W}  ...   Legal   \n",
       "2      W               Core Set 2019                4.0   {3}{W}  ...   Blank   \n",
       "\n",
       "  historic legacy modern oldschool pauper  penny pioneer standard vintage  \n",
       "0    Legal  Legal  Legal     Blank  Blank  Legal   Legal    Legal   Legal  \n",
       "1    Legal  Legal  Legal     Blank  Blank  Legal   Legal    Legal   Legal  \n",
       "2    Legal  Legal  Legal     Blank  Blank  Blank   Legal    Blank   Legal  \n",
       "\n",
       "[3 rows x 33 columns]"
      ],
      "text/html": "<div>\n<style scoped>\n    .dataframe tbody tr th:only-of-type {\n        vertical-align: middle;\n    }\n\n    .dataframe tbody tr th {\n        vertical-align: top;\n    }\n\n    .dataframe thead th {\n        text-align: right;\n    }\n</style>\n<table border=\"1\" class=\"dataframe\">\n  <thead>\n    <tr style=\"text-align: right;\">\n      <th></th>\n      <th>Banishing_Light-AJMP</th>\n      <th>id</th>\n      <th>mtgArenaId</th>\n      <th>scryfallId</th>\n      <th>name</th>\n      <th>colorIdentity</th>\n      <th>colors</th>\n      <th>setName</th>\n      <th>convertedManaCost</th>\n      <th>manaCost</th>\n      <th>...</th>\n      <th>future</th>\n      <th>historic</th>\n      <th>legacy</th>\n      <th>modern</th>\n      <th>oldschool</th>\n      <th>pauper</th>\n      <th>penny</th>\n      <th>pioneer</th>\n      <th>standard</th>\n      <th>vintage</th>\n    </tr>\n  </thead>\n  <tbody>\n    <tr>\n      <th>0</th>\n      <td>1.000000</td>\n      <td>4756</td>\n      <td>74986.0</td>\n      <td>ca112bae-6ac5-4cdf-9e8c-1b99f7396995</td>\n      <td>Banishing Light</td>\n      <td>W</td>\n      <td>W</td>\n      <td>Jumpstart Arena Exclusives</td>\n      <td>3.0</td>\n      <td>{2}{W}</td>\n      <td>...</td>\n      <td>Legal</td>\n      <td>Legal</td>\n      <td>Legal</td>\n      <td>Legal</td>\n      <td>Blank</td>\n      <td>Blank</td>\n      <td>Legal</td>\n      <td>Legal</td>\n      <td>Legal</td>\n      <td>Legal</td>\n    </tr>\n    <tr>\n      <th>1</th>\n      <td>1.000000</td>\n      <td>49136</td>\n      <td>70515.0</td>\n      <td>a1ddd113-140f-49c9-b45c-cf1b0d1dffd8</td>\n      <td>Banishing Light</td>\n      <td>W</td>\n      <td>W</td>\n      <td>Theros Beyond Death</td>\n      <td>3.0</td>\n      <td>{2}{W}</td>\n      <td>...</td>\n      <td>Legal</td>\n      <td>Legal</td>\n      <td>Legal</td>\n      <td>Legal</td>\n      <td>Blank</td>\n      <td>Blank</td>\n      <td>Legal</td>\n      <td>Legal</td>\n      <td>Legal</td>\n      <td>Legal</td>\n    </tr>\n    <tr>\n      <th>2</th>\n      <td>0.773027</td>\n      <td>28775</td>\n      <td>67708.0</td>\n      <td>197743cd-249c-42ba-ac8d-027c088f8418</td>\n      <td>Hieromancer's Cage</td>\n      <td>W</td>\n      <td>W</td>\n      <td>Core Set 2019</td>\n      <td>4.0</td>\n      <td>{3}{W}</td>\n      <td>...</td>\n      <td>Blank</td>\n      <td>Legal</td>\n      <td>Legal</td>\n      <td>Legal</td>\n      <td>Blank</td>\n      <td>Blank</td>\n      <td>Blank</td>\n      <td>Legal</td>\n      <td>Blank</td>\n      <td>Legal</td>\n    </tr>\n  </tbody>\n</table>\n<p>3 rows × 33 columns</p>\n</div>"
     },
     "metadata": {},
     "execution_count": 149
    }
   ],
   "source": [
    "a_card.head(3)"
   ]
  },
  {
   "cell_type": "code",
   "execution_count": null,
   "metadata": {},
   "outputs": [],
   "source": []
  }
 ]
}