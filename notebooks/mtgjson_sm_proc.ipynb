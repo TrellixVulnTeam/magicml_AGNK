{
 "metadata": {
  "language_info": {
   "codemirror_mode": {
    "name": "ipython",
    "version": 3
   },
   "file_extension": ".py",
   "mimetype": "text/x-python",
   "name": "python",
   "nbconvert_exporter": "python",
   "pygments_lexer": "ipython3",
   "version": "3.7.9"
  },
  "orig_nbformat": 2,
  "kernelspec": {
   "name": "python379jvsc74a57bd0d21976708c890d4f5e403de40721946a087be811acbfab0d40a467fb62beb492",
   "display_name": "Python 3.7.9 64-bit ('magicml': conda)"
  }
 },
 "nbformat": 4,
 "nbformat_minor": 2,
 "cells": [
  {
   "source": [
    "# TODO  \n",
    "## Card Similarity Search  \n",
    "### Data Prep (raw card data > clean card data) \n",
    "  - ~~merge card, set, and legality data~~  \n",
    "  - ~~concat token cards (later - may not want to)~~  \n",
    "  - ensure clean  \n",
    "    - fillna, non-english issues, maybe replace symbols ({T}...) w/ text  \n",
    "  - **AWS**  \n",
    "    - ~~Load raw MTGJson from S3~~  \n",
    "    - ~~Lambda (or Glue): Prep > to S3~~  \n",
    "### Similarity (clean card data > embeddings, similarity matrix)\n",
    "  - ~~USE embeddings from card text~~  \n",
    "  - ~~explore including other card props as text (color, type, mana cost...)~~  \n",
    "  - ~~similarity matrix~~  \n",
    "  - ~~pre-sort and save each card (50K+ cards)~~  \n",
    "  - STILL NEED TO ADD SCRYFALL IMAGE URLs TO DATA PREP PIPELINE\n",
    "  - **AWS**  \n",
    "    - ~~Load clean card data from S3~~  \n",
    "    - ~~SM Processing Job: USE embeddings & similarity matrix > to S3~~  \n",
    "    - ~~Lambda: embeddings/sim_matrix from S3 > EFS~~  \n",
    "    - ~~Lambda: sort each card by similarity EFS > EFS & DynamoDB~~\n",
    "### App Backend  \n",
    "  - API accepts card name and returns topK similar cards (w/ some metadata for filtering)  \n",
    "  - **AWS**  \n",
    "    - Lambda: API queries EFS or Dynamo  \n",
    "    - StepFunctions or Lambda destinations: refresh data pipeline as needed\n",
    "### App Frontend  \n",
    "  - Home page  \n",
    "    - Search box and results  \n",
    "    - A few filters (color, type, mana cost...)  \n",
    "    - add placement  \n",
    "    - sign in (eventually)  \n",
    "### Deploy  \n",
    "  - Backend\n",
    "    - Serverless  \n",
    "    - Seed  \n",
    "  - Frontend  \n",
    "    - React  \n",
    "    - Amplify"
   ],
   "cell_type": "markdown",
   "metadata": {}
  },
  {
   "source": [
    "# Data Prep"
   ],
   "cell_type": "markdown",
   "metadata": {}
  },
  {
   "cell_type": "code",
   "execution_count": 1,
   "metadata": {},
   "outputs": [],
   "source": [
    "import os\n",
    "import json\n",
    "import numpy as np\n",
    "import pandas as pd\n",
    "\n",
    "import tensorflow as tf\n",
    "import tensorflow_hub as hub\n",
    "import matplotlib.pyplot as plt"
   ]
  },
  {
   "cell_type": "code",
   "execution_count": 53,
   "metadata": {},
   "outputs": [
    {
     "output_type": "stream",
     "name": "stdout",
     "text": [
      "(56490, 74)\n33.44 MB\n"
     ]
    },
    {
     "output_type": "execute_result",
     "data": {
      "text/plain": [
       "   id        artist asciiName availability borderColor  cardKingdomFoilId  \\\n",
       "0   1  Pete Venters       NaN   mtgo,paper       black                NaN   \n",
       "\n",
       "   cardKingdomId colorIdentity colorIndicator colors  ...      subtypes  \\\n",
       "0       122719.0             W            NaN      W  ...  Human,Cleric   \n",
       "\n",
       "  supertypes  tcgplayerProductId  \\\n",
       "0        NaN             15032.0   \n",
       "\n",
       "                                                text toughness  \\\n",
       "0  First strike (This creature deals combat damag...         4   \n",
       "\n",
       "                      type     types                                  uuid  \\\n",
       "0  Creature — Human Cleric  Creature  5f8287b1-5bb6-5f4c-ad17-316a40d5bb0c   \n",
       "\n",
       "                             variations  watermark  \n",
       "0  b7c19924-b4bf-56fc-aa73-f586e940bd42        NaN  \n",
       "\n",
       "[1 rows x 74 columns]"
      ],
      "text/html": "<div>\n<style scoped>\n    .dataframe tbody tr th:only-of-type {\n        vertical-align: middle;\n    }\n\n    .dataframe tbody tr th {\n        vertical-align: top;\n    }\n\n    .dataframe thead th {\n        text-align: right;\n    }\n</style>\n<table border=\"1\" class=\"dataframe\">\n  <thead>\n    <tr style=\"text-align: right;\">\n      <th></th>\n      <th>id</th>\n      <th>artist</th>\n      <th>asciiName</th>\n      <th>availability</th>\n      <th>borderColor</th>\n      <th>cardKingdomFoilId</th>\n      <th>cardKingdomId</th>\n      <th>colorIdentity</th>\n      <th>colorIndicator</th>\n      <th>colors</th>\n      <th>...</th>\n      <th>subtypes</th>\n      <th>supertypes</th>\n      <th>tcgplayerProductId</th>\n      <th>text</th>\n      <th>toughness</th>\n      <th>type</th>\n      <th>types</th>\n      <th>uuid</th>\n      <th>variations</th>\n      <th>watermark</th>\n    </tr>\n  </thead>\n  <tbody>\n    <tr>\n      <th>0</th>\n      <td>1</td>\n      <td>Pete Venters</td>\n      <td>NaN</td>\n      <td>mtgo,paper</td>\n      <td>black</td>\n      <td>NaN</td>\n      <td>122719.0</td>\n      <td>W</td>\n      <td>NaN</td>\n      <td>W</td>\n      <td>...</td>\n      <td>Human,Cleric</td>\n      <td>NaN</td>\n      <td>15032.0</td>\n      <td>First strike (This creature deals combat damag...</td>\n      <td>4</td>\n      <td>Creature — Human Cleric</td>\n      <td>Creature</td>\n      <td>5f8287b1-5bb6-5f4c-ad17-316a40d5bb0c</td>\n      <td>b7c19924-b4bf-56fc-aa73-f586e940bd42</td>\n      <td>NaN</td>\n    </tr>\n  </tbody>\n</table>\n<p>1 rows × 74 columns</p>\n</div>"
     },
     "metadata": {},
     "execution_count": 53
    }
   ],
   "source": [
    "cards_df = pd.read_csv('../data/mtgjson/cards.csv')\\\n",
    "    .drop(columns=['index'])\n",
    "\n",
    "print(cards_df.shape)\n",
    "print('{} MB'.format(round(cards_df.memory_usage().sum()/1000000, 2)))\n",
    "cards_df.head(1)"
   ]
  },
  {
   "cell_type": "code",
   "execution_count": 54,
   "metadata": {},
   "outputs": [
    {
     "output_type": "stream",
     "name": "stdout",
     "text": [
      "(549, 2)\n0.01 MB\n"
     ]
    },
    {
     "output_type": "execute_result",
     "data": {
      "text/plain": [
       "  setCode        setName\n",
       "0     10E  Tenth Edition"
      ],
      "text/html": "<div>\n<style scoped>\n    .dataframe tbody tr th:only-of-type {\n        vertical-align: middle;\n    }\n\n    .dataframe tbody tr th {\n        vertical-align: top;\n    }\n\n    .dataframe thead th {\n        text-align: right;\n    }\n</style>\n<table border=\"1\" class=\"dataframe\">\n  <thead>\n    <tr style=\"text-align: right;\">\n      <th></th>\n      <th>setCode</th>\n      <th>setName</th>\n    </tr>\n  </thead>\n  <tbody>\n    <tr>\n      <th>0</th>\n      <td>10E</td>\n      <td>Tenth Edition</td>\n    </tr>\n  </tbody>\n</table>\n</div>"
     },
     "metadata": {},
     "execution_count": 54
    }
   ],
   "source": [
    "sets_df = pd.read_csv('../data/mtgjson/sets.csv')[['code','name']]\\\n",
    "    .rename(columns={'name': 'setName', 'code':'setCode'})\n",
    "\n",
    "print(sets_df.shape)\n",
    "print('{} MB'.format(round(sets_df.memory_usage().sum()/1000000, 2)))\n",
    "sets_df.head(1)"
   ]
  },
  {
   "cell_type": "code",
   "execution_count": 55,
   "metadata": {},
   "outputs": [
    {
     "output_type": "stream",
     "name": "stdout",
     "text": [
      "(56490, 75)\n34.35 MB\n"
     ]
    },
    {
     "output_type": "execute_result",
     "data": {
      "text/plain": [
       "   id        artist asciiName availability borderColor  cardKingdomFoilId  \\\n",
       "0   1  Pete Venters       NaN   mtgo,paper       black                NaN   \n",
       "\n",
       "   cardKingdomId colorIdentity colorIndicator colors  ...  supertypes  \\\n",
       "0       122719.0             W            NaN      W  ...         NaN   \n",
       "\n",
       "  tcgplayerProductId                                               text  \\\n",
       "0            15032.0  First strike (This creature deals combat damag...   \n",
       "\n",
       "   toughness                     type     types  \\\n",
       "0          4  Creature — Human Cleric  Creature   \n",
       "\n",
       "                                   uuid                            variations  \\\n",
       "0  5f8287b1-5bb6-5f4c-ad17-316a40d5bb0c  b7c19924-b4bf-56fc-aa73-f586e940bd42   \n",
       "\n",
       "  watermark        setName  \n",
       "0       NaN  Tenth Edition  \n",
       "\n",
       "[1 rows x 75 columns]"
      ],
      "text/html": "<div>\n<style scoped>\n    .dataframe tbody tr th:only-of-type {\n        vertical-align: middle;\n    }\n\n    .dataframe tbody tr th {\n        vertical-align: top;\n    }\n\n    .dataframe thead th {\n        text-align: right;\n    }\n</style>\n<table border=\"1\" class=\"dataframe\">\n  <thead>\n    <tr style=\"text-align: right;\">\n      <th></th>\n      <th>id</th>\n      <th>artist</th>\n      <th>asciiName</th>\n      <th>availability</th>\n      <th>borderColor</th>\n      <th>cardKingdomFoilId</th>\n      <th>cardKingdomId</th>\n      <th>colorIdentity</th>\n      <th>colorIndicator</th>\n      <th>colors</th>\n      <th>...</th>\n      <th>supertypes</th>\n      <th>tcgplayerProductId</th>\n      <th>text</th>\n      <th>toughness</th>\n      <th>type</th>\n      <th>types</th>\n      <th>uuid</th>\n      <th>variations</th>\n      <th>watermark</th>\n      <th>setName</th>\n    </tr>\n  </thead>\n  <tbody>\n    <tr>\n      <th>0</th>\n      <td>1</td>\n      <td>Pete Venters</td>\n      <td>NaN</td>\n      <td>mtgo,paper</td>\n      <td>black</td>\n      <td>NaN</td>\n      <td>122719.0</td>\n      <td>W</td>\n      <td>NaN</td>\n      <td>W</td>\n      <td>...</td>\n      <td>NaN</td>\n      <td>15032.0</td>\n      <td>First strike (This creature deals combat damag...</td>\n      <td>4</td>\n      <td>Creature — Human Cleric</td>\n      <td>Creature</td>\n      <td>5f8287b1-5bb6-5f4c-ad17-316a40d5bb0c</td>\n      <td>b7c19924-b4bf-56fc-aa73-f586e940bd42</td>\n      <td>NaN</td>\n      <td>Tenth Edition</td>\n    </tr>\n  </tbody>\n</table>\n<p>1 rows × 75 columns</p>\n</div>"
     },
     "metadata": {},
     "execution_count": 55
    }
   ],
   "source": [
    "# Merge set names into cards\n",
    "cards_df = cards_df\\\n",
    "    .merge(sets_df, how='left', on='setCode')\n",
    "\n",
    "print(cards_df.shape)\n",
    "print('{} MB'.format(round(cards_df.memory_usage().sum()/1000000, 2)))\n",
    "cards_df.head(1)"
   ]
  },
  {
   "cell_type": "code",
   "execution_count": 56,
   "metadata": {},
   "outputs": [
    {
     "output_type": "stream",
     "name": "stdout",
     "text": [
      "(55250, 16)\n7.07 MB\n"
     ]
    },
    {
     "output_type": "execute_result",
     "data": {
      "text/plain": [
       "format                                  uuid  brawl commander   duel future  \\\n",
       "0       00010d56-fe38-5e35-8aed-518019aa36a5  Blank     Legal  Legal  Blank   \n",
       "\n",
       "format gladiator historic legacy modern oldschool pauper  penny pioneer  \\\n",
       "0          Blank    Blank  Legal  Legal     Blank  Blank  Blank   Legal   \n",
       "\n",
       "format premodern standard vintage  \n",
       "0          Blank    Blank   Legal  "
      ],
      "text/html": "<div>\n<style scoped>\n    .dataframe tbody tr th:only-of-type {\n        vertical-align: middle;\n    }\n\n    .dataframe tbody tr th {\n        vertical-align: top;\n    }\n\n    .dataframe thead th {\n        text-align: right;\n    }\n</style>\n<table border=\"1\" class=\"dataframe\">\n  <thead>\n    <tr style=\"text-align: right;\">\n      <th>format</th>\n      <th>uuid</th>\n      <th>brawl</th>\n      <th>commander</th>\n      <th>duel</th>\n      <th>future</th>\n      <th>gladiator</th>\n      <th>historic</th>\n      <th>legacy</th>\n      <th>modern</th>\n      <th>oldschool</th>\n      <th>pauper</th>\n      <th>penny</th>\n      <th>pioneer</th>\n      <th>premodern</th>\n      <th>standard</th>\n      <th>vintage</th>\n    </tr>\n  </thead>\n  <tbody>\n    <tr>\n      <th>0</th>\n      <td>00010d56-fe38-5e35-8aed-518019aa36a5</td>\n      <td>Blank</td>\n      <td>Legal</td>\n      <td>Legal</td>\n      <td>Blank</td>\n      <td>Blank</td>\n      <td>Blank</td>\n      <td>Legal</td>\n      <td>Legal</td>\n      <td>Blank</td>\n      <td>Blank</td>\n      <td>Blank</td>\n      <td>Legal</td>\n      <td>Blank</td>\n      <td>Blank</td>\n      <td>Legal</td>\n    </tr>\n  </tbody>\n</table>\n</div>"
     },
     "metadata": {},
     "execution_count": 56
    }
   ],
   "source": [
    "legs_df = pd.read_csv('../data/mtgjson/legalities.csv')\\\n",
    "    .pivot(index='uuid', columns='format', values='status')\\\n",
    "    .reset_index()\\\n",
    "    .fillna('Blank')\n",
    "\n",
    "print(legs_df.shape)\n",
    "print('{} MB'.format(round(legs_df.memory_usage().sum()/1000000, 2)))\n",
    "legs_df.head(1)"
   ]
  },
  {
   "cell_type": "code",
   "execution_count": 57,
   "metadata": {},
   "outputs": [
    {
     "output_type": "stream",
     "name": "stdout",
     "text": [
      "(56490, 90)\n41.12 MB\n"
     ]
    },
    {
     "output_type": "execute_result",
     "data": {
      "text/plain": [
       "   id        artist asciiName availability borderColor  cardKingdomFoilId  \\\n",
       "0   1  Pete Venters       NaN   mtgo,paper       black                NaN   \n",
       "\n",
       "   cardKingdomId colorIdentity colorIndicator colors  ...  historic legacy  \\\n",
       "0       122719.0             W            NaN      W  ...     Blank  Legal   \n",
       "\n",
       "   modern  oldschool pauper  penny pioneer premodern standard  vintage  \n",
       "0   Legal      Blank  Blank  Legal   Blank     Legal    Blank    Legal  \n",
       "\n",
       "[1 rows x 90 columns]"
      ],
      "text/html": "<div>\n<style scoped>\n    .dataframe tbody tr th:only-of-type {\n        vertical-align: middle;\n    }\n\n    .dataframe tbody tr th {\n        vertical-align: top;\n    }\n\n    .dataframe thead th {\n        text-align: right;\n    }\n</style>\n<table border=\"1\" class=\"dataframe\">\n  <thead>\n    <tr style=\"text-align: right;\">\n      <th></th>\n      <th>id</th>\n      <th>artist</th>\n      <th>asciiName</th>\n      <th>availability</th>\n      <th>borderColor</th>\n      <th>cardKingdomFoilId</th>\n      <th>cardKingdomId</th>\n      <th>colorIdentity</th>\n      <th>colorIndicator</th>\n      <th>colors</th>\n      <th>...</th>\n      <th>historic</th>\n      <th>legacy</th>\n      <th>modern</th>\n      <th>oldschool</th>\n      <th>pauper</th>\n      <th>penny</th>\n      <th>pioneer</th>\n      <th>premodern</th>\n      <th>standard</th>\n      <th>vintage</th>\n    </tr>\n  </thead>\n  <tbody>\n    <tr>\n      <th>0</th>\n      <td>1</td>\n      <td>Pete Venters</td>\n      <td>NaN</td>\n      <td>mtgo,paper</td>\n      <td>black</td>\n      <td>NaN</td>\n      <td>122719.0</td>\n      <td>W</td>\n      <td>NaN</td>\n      <td>W</td>\n      <td>...</td>\n      <td>Blank</td>\n      <td>Legal</td>\n      <td>Legal</td>\n      <td>Blank</td>\n      <td>Blank</td>\n      <td>Legal</td>\n      <td>Blank</td>\n      <td>Legal</td>\n      <td>Blank</td>\n      <td>Legal</td>\n    </tr>\n  </tbody>\n</table>\n<p>1 rows × 90 columns</p>\n</div>"
     },
     "metadata": {},
     "execution_count": 57
    }
   ],
   "source": [
    "# Merge legalities into cards\n",
    "cards_df = cards_df\\\n",
    "    .merge(legs_df, how='left', on='uuid')\n",
    "\n",
    "print(cards_df.shape)\n",
    "print('{} MB'.format(round(cards_df.memory_usage().sum()/1000000, 2)))\n",
    "cards_df.head(1)"
   ]
  },
  {
   "cell_type": "code",
   "execution_count": 58,
   "metadata": {},
   "outputs": [],
   "source": [
    "def get_image_uris(row):\n",
    "    try:\n",
    "        if pd.notna(row['image_uris']):\n",
    "            return row['image_uris']\n",
    "        else:\n",
    "            return [card['image_uris'] for card in row['card_faces']]\n",
    "    except:\n",
    "        return 'Blank'"
   ]
  },
  {
   "cell_type": "code",
   "execution_count": 59,
   "metadata": {},
   "outputs": [
    {
     "output_type": "execute_result",
     "data": {
      "text/plain": [
       "(8077, 2)"
      ]
     },
     "metadata": {},
     "execution_count": 59
    }
   ],
   "source": [
    "scryfall_df.shape"
   ]
  },
  {
   "cell_type": "code",
   "execution_count": 14,
   "metadata": {},
   "outputs": [
    {
     "output_type": "execute_result",
     "data": {
      "text/plain": [
       "22313"
      ]
     },
     "metadata": {},
     "execution_count": 14
    }
   ],
   "source": [
    "scryfall_df.name.nunique()"
   ]
  },
  {
   "cell_type": "code",
   "execution_count": 18,
   "metadata": {},
   "outputs": [
    {
     "output_type": "execute_result",
     "data": {
      "text/plain": [
       "(4638, 77)"
      ]
     },
     "metadata": {},
     "execution_count": 18
    }
   ],
   "source": [
    "scryfall_df.query('arena_id.notnull() and booster').shape"
   ]
  },
  {
   "cell_type": "code",
   "execution_count": 5,
   "metadata": {},
   "outputs": [
    {
     "output_type": "stream",
     "name": "stdout",
     "text": [
      "Index(['object', 'id', 'oracle_id', 'multiverse_ids', 'mtgo_id',\n       'mtgo_foil_id', 'tcgplayer_id', 'cardmarket_id', 'name', 'lang',\n       'released_at', 'uri', 'scryfall_uri', 'layout', 'highres_image',\n       'image_uris', 'mana_cost', 'cmc', 'type_line', 'oracle_text', 'power',\n       'toughness', 'colors', 'color_identity', 'keywords', 'legalities',\n       'games', 'reserved', 'foil', 'nonfoil', 'oversized', 'promo', 'reprint',\n       'variation', 'set', 'set_name', 'set_type', 'set_uri', 'set_search_uri',\n       'scryfall_set_uri', 'rulings_uri', 'prints_search_uri',\n       'collector_number', 'digital', 'rarity', 'flavor_text', 'card_back_id',\n       'artist', 'artist_ids', 'illustration_id', 'border_color', 'frame',\n       'full_art', 'textless', 'booster', 'story_spotlight', 'edhrec_rank',\n       'prices', 'related_uris', 'all_parts', 'promo_types', 'arena_id',\n       'preview', 'produced_mana', 'watermark', 'frame_effects',\n       'printed_name', 'card_faces', 'loyalty', 'color_indicator',\n       'life_modifier', 'hand_modifier', 'printed_type_line', 'printed_text',\n       'content_warning', 'variation_of', 'flavor_name'],\n      dtype='object')\n"
     ]
    },
    {
     "output_type": "execute_result",
     "data": {
      "text/plain": [
       "  object                                    id  \\\n",
       "0   card  0000579f-7b35-4ed3-b44c-db2a538066fe   \n",
       "1   card  00006596-1166-4a79-8443-ca9f82e6db4e   \n",
       "\n",
       "                              oracle_id multiverse_ids  mtgo_id  mtgo_foil_id  \\\n",
       "0  44623693-51d6-49ad-8cd7-140505caf02f       [109722]  25527.0       25528.0   \n",
       "1  8ae3562f-28b7-4462-96ed-be0cf7052ccc       [189637]  34586.0       34587.0   \n",
       "\n",
       "   tcgplayer_id  cardmarket_id           name lang  ... card_faces loyalty  \\\n",
       "0       14240.0        13850.0    Fury Sliver   en  ...        NaN     NaN   \n",
       "1       33347.0        21851.0  Kor Outfitter   en  ...        NaN     NaN   \n",
       "\n",
       "  color_indicator life_modifier  hand_modifier printed_type_line printed_text  \\\n",
       "0             NaN           NaN            NaN               NaN          NaN   \n",
       "1             NaN           NaN            NaN               NaN          NaN   \n",
       "\n",
       "   content_warning variation_of flavor_name  \n",
       "0              NaN          NaN         NaN  \n",
       "1              NaN          NaN         NaN  \n",
       "\n",
       "[2 rows x 77 columns]"
      ],
      "text/html": "<div>\n<style scoped>\n    .dataframe tbody tr th:only-of-type {\n        vertical-align: middle;\n    }\n\n    .dataframe tbody tr th {\n        vertical-align: top;\n    }\n\n    .dataframe thead th {\n        text-align: right;\n    }\n</style>\n<table border=\"1\" class=\"dataframe\">\n  <thead>\n    <tr style=\"text-align: right;\">\n      <th></th>\n      <th>object</th>\n      <th>id</th>\n      <th>oracle_id</th>\n      <th>multiverse_ids</th>\n      <th>mtgo_id</th>\n      <th>mtgo_foil_id</th>\n      <th>tcgplayer_id</th>\n      <th>cardmarket_id</th>\n      <th>name</th>\n      <th>lang</th>\n      <th>...</th>\n      <th>card_faces</th>\n      <th>loyalty</th>\n      <th>color_indicator</th>\n      <th>life_modifier</th>\n      <th>hand_modifier</th>\n      <th>printed_type_line</th>\n      <th>printed_text</th>\n      <th>content_warning</th>\n      <th>variation_of</th>\n      <th>flavor_name</th>\n    </tr>\n  </thead>\n  <tbody>\n    <tr>\n      <th>0</th>\n      <td>card</td>\n      <td>0000579f-7b35-4ed3-b44c-db2a538066fe</td>\n      <td>44623693-51d6-49ad-8cd7-140505caf02f</td>\n      <td>[109722]</td>\n      <td>25527.0</td>\n      <td>25528.0</td>\n      <td>14240.0</td>\n      <td>13850.0</td>\n      <td>Fury Sliver</td>\n      <td>en</td>\n      <td>...</td>\n      <td>NaN</td>\n      <td>NaN</td>\n      <td>NaN</td>\n      <td>NaN</td>\n      <td>NaN</td>\n      <td>NaN</td>\n      <td>NaN</td>\n      <td>NaN</td>\n      <td>NaN</td>\n      <td>NaN</td>\n    </tr>\n    <tr>\n      <th>1</th>\n      <td>card</td>\n      <td>00006596-1166-4a79-8443-ca9f82e6db4e</td>\n      <td>8ae3562f-28b7-4462-96ed-be0cf7052ccc</td>\n      <td>[189637]</td>\n      <td>34586.0</td>\n      <td>34587.0</td>\n      <td>33347.0</td>\n      <td>21851.0</td>\n      <td>Kor Outfitter</td>\n      <td>en</td>\n      <td>...</td>\n      <td>NaN</td>\n      <td>NaN</td>\n      <td>NaN</td>\n      <td>NaN</td>\n      <td>NaN</td>\n      <td>NaN</td>\n      <td>NaN</td>\n      <td>NaN</td>\n      <td>NaN</td>\n      <td>NaN</td>\n    </tr>\n  </tbody>\n</table>\n<p>2 rows × 77 columns</p>\n</div>"
     },
     "metadata": {},
     "execution_count": 5
    }
   ],
   "source": [
    "scryfall_df = pd.read_json('../data/scryfall/cards.json')\n",
    "print(scryfall_df.columns)\n",
    "scryfall_df.head(2)"
   ]
  },
  {
   "cell_type": "code",
   "execution_count": 20,
   "metadata": {},
   "outputs": [
    {
     "output_type": "execute_result",
     "data": {
      "text/plain": [
       "                            set_name                 name  arena_id  \\\n",
       "5087                        Kaldheim  Kaya the Inexorable       NaN   \n",
       "12172                       Kaldheim  Kaya the Inexorable       NaN   \n",
       "33773                 Commander 2015      Banishing Light       NaN   \n",
       "36208            Theros Beyond Death      Banishing Light   70515.0   \n",
       "44786        Friday Night Magic 2014      Banishing Light       NaN   \n",
       "45338     Jumpstart Arena Exclusives      Banishing Light   74986.0   \n",
       "47500      Zendikar Rising Commander      Banishing Light       NaN   \n",
       "51335  Commander Anthology Volume II      Banishing Light       NaN   \n",
       "52103            Magic Online Promos      Banishing Light       NaN   \n",
       "56413               Journey into Nyx      Banishing Light       NaN   \n",
       "\n",
       "      released_at  \n",
       "5087   2021-02-05  \n",
       "12172  2021-02-05  \n",
       "33773  2015-11-13  \n",
       "36208  2020-01-24  \n",
       "44786  2014-01-01  \n",
       "45338  2020-07-17  \n",
       "47500  2020-09-25  \n",
       "51335  2018-06-08  \n",
       "52103  2014-10-22  \n",
       "56413  2014-05-02  "
      ],
      "text/html": "<div>\n<style scoped>\n    .dataframe tbody tr th:only-of-type {\n        vertical-align: middle;\n    }\n\n    .dataframe tbody tr th {\n        vertical-align: top;\n    }\n\n    .dataframe thead th {\n        text-align: right;\n    }\n</style>\n<table border=\"1\" class=\"dataframe\">\n  <thead>\n    <tr style=\"text-align: right;\">\n      <th></th>\n      <th>set_name</th>\n      <th>name</th>\n      <th>arena_id</th>\n      <th>released_at</th>\n    </tr>\n  </thead>\n  <tbody>\n    <tr>\n      <th>5087</th>\n      <td>Kaldheim</td>\n      <td>Kaya the Inexorable</td>\n      <td>NaN</td>\n      <td>2021-02-05</td>\n    </tr>\n    <tr>\n      <th>12172</th>\n      <td>Kaldheim</td>\n      <td>Kaya the Inexorable</td>\n      <td>NaN</td>\n      <td>2021-02-05</td>\n    </tr>\n    <tr>\n      <th>33773</th>\n      <td>Commander 2015</td>\n      <td>Banishing Light</td>\n      <td>NaN</td>\n      <td>2015-11-13</td>\n    </tr>\n    <tr>\n      <th>36208</th>\n      <td>Theros Beyond Death</td>\n      <td>Banishing Light</td>\n      <td>70515.0</td>\n      <td>2020-01-24</td>\n    </tr>\n    <tr>\n      <th>44786</th>\n      <td>Friday Night Magic 2014</td>\n      <td>Banishing Light</td>\n      <td>NaN</td>\n      <td>2014-01-01</td>\n    </tr>\n    <tr>\n      <th>45338</th>\n      <td>Jumpstart Arena Exclusives</td>\n      <td>Banishing Light</td>\n      <td>74986.0</td>\n      <td>2020-07-17</td>\n    </tr>\n    <tr>\n      <th>47500</th>\n      <td>Zendikar Rising Commander</td>\n      <td>Banishing Light</td>\n      <td>NaN</td>\n      <td>2020-09-25</td>\n    </tr>\n    <tr>\n      <th>51335</th>\n      <td>Commander Anthology Volume II</td>\n      <td>Banishing Light</td>\n      <td>NaN</td>\n      <td>2018-06-08</td>\n    </tr>\n    <tr>\n      <th>52103</th>\n      <td>Magic Online Promos</td>\n      <td>Banishing Light</td>\n      <td>NaN</td>\n      <td>2014-10-22</td>\n    </tr>\n    <tr>\n      <th>56413</th>\n      <td>Journey into Nyx</td>\n      <td>Banishing Light</td>\n      <td>NaN</td>\n      <td>2014-05-02</td>\n    </tr>\n  </tbody>\n</table>\n</div>"
     },
     "metadata": {},
     "execution_count": 20
    }
   ],
   "source": [
    "scryfall_df.query('name == \"Kaya the Inexorable\" or name==\"Banishing Light\"')\\\n",
    "    [['set_name','name','arena_id','released_at']]"
   ]
  },
  {
   "cell_type": "code",
   "execution_count": 6,
   "metadata": {},
   "outputs": [],
   "source": [
    "supported_sets = [\n",
    "  'Throne of Eldraine',\n",
    "  'Theros Beyond Death',\n",
    "  'Ikoria: Lair of Behemoths',\n",
    "  'Core Set 2021',\n",
    "  'Zendikar Rising',\n",
    "  'Kaldheim',\n",
    "  'Core Set 2020',\n",
    "  'War of the Spark',\n",
    "  'Ravnica Allegiance',\n",
    "  'Guilds of Ravnica',\n",
    "  'Ixalan',\n",
    "  'Rivals of Ixalan',\n",
    "  'Dominaria',\n",
    "  'Core Set 2019',\n",
    "  'Historic Anthology',\n",
    "  'Historic Anthology 2',\n",
    "  'Historic Anthology 3',\n",
    "  'Jumpstart',\n",
    "  'Amonkhet Remastered',\n",
    "  'Kaladesh Remastered'\n",
    "]"
   ]
  },
  {
   "cell_type": "code",
   "execution_count": 7,
   "metadata": {},
   "outputs": [],
   "source": [
    "scryfall_df = pd.read_json('../data/scryfall/cards.json')"
   ]
  },
  {
   "cell_type": "code",
   "execution_count": 8,
   "metadata": {},
   "outputs": [],
   "source": [
    "scryfall_sets = scryfall_df.set_name.unique()"
   ]
  },
  {
   "cell_type": "code",
   "execution_count": 9,
   "metadata": {},
   "outputs": [],
   "source": [
    "supported_sets_varients = [scry_s for scry_s in scryfall_sets if any([s in scry_s for s in supported_sets])]"
   ]
  },
  {
   "cell_type": "code",
   "execution_count": 10,
   "metadata": {},
   "outputs": [
    {
     "output_type": "execute_result",
     "data": {
      "text/plain": [
       "['Ixalan',\n",
       " 'Throne of Eldraine',\n",
       " 'Core Set 2021',\n",
       " 'Jumpstart',\n",
       " 'Guilds of Ravnica',\n",
       " 'Dominaria',\n",
       " 'Core Set 2019',\n",
       " 'Zendikar Rising Art Series',\n",
       " 'Ravnica Allegiance',\n",
       " 'Kaldheim Commander',\n",
       " 'Zendikar Rising Commander',\n",
       " 'Ikoria: Lair of Behemoths Promos',\n",
       " 'Core Set 2019 Promos',\n",
       " 'Zendikar Rising Promos',\n",
       " 'Core Set 2021 Promos',\n",
       " 'Amonkhet Remastered',\n",
       " 'Kaldheim Promos',\n",
       " 'Theros Beyond Death Promos',\n",
       " 'War of the Spark Promos',\n",
       " 'Zendikar Rising',\n",
       " 'Dominaria Promos',\n",
       " 'Ikoria: Lair of Behemoths',\n",
       " 'Explorers of Ixalan',\n",
       " 'War of the Spark',\n",
       " 'Rivals of Ixalan',\n",
       " 'Zendikar Rising Expeditions',\n",
       " 'Kaladesh Remastered',\n",
       " 'Core Set 2020',\n",
       " 'Theros Beyond Death',\n",
       " 'Kaldheim Commander Tokens',\n",
       " 'Throne of Eldraine Promos',\n",
       " 'Zendikar Rising Commander Tokens',\n",
       " 'Ravnica Allegiance Tokens',\n",
       " 'Historic Anthology 3',\n",
       " 'Kaldheim Tokens',\n",
       " 'Ravnica Allegiance Promos',\n",
       " 'Kaldheim',\n",
       " 'Core Set 2020 Promos',\n",
       " 'Guilds of Ravnica Tokens',\n",
       " 'Guilds of Ravnica Promos',\n",
       " 'Historic Anthology 4',\n",
       " 'Ixalan Promos',\n",
       " 'Core Set 2020 Tokens',\n",
       " 'Historic Anthology 2',\n",
       " 'Zendikar Rising Tokens',\n",
       " 'Core Set 2021 Tokens',\n",
       " 'Core Set 2019 Tokens',\n",
       " 'Jumpstart Front Cards',\n",
       " 'Ixalan Tokens',\n",
       " 'Jumpstart Arena Exclusives',\n",
       " 'Dominaria Tokens',\n",
       " 'Rivals of Ixalan Promos',\n",
       " 'Ikoria: Lair of Behemoths Tokens',\n",
       " 'War of the Spark Tokens',\n",
       " 'Throne of Eldraine Tokens',\n",
       " 'Theros Beyond Death Tokens',\n",
       " 'Historic Anthology 1',\n",
       " 'Zendikar Rising Minigames',\n",
       " 'Zendikar Rising Substitute Cards',\n",
       " 'Rivals of Ixalan Tokens']"
      ]
     },
     "metadata": {},
     "execution_count": 10
    }
   ],
   "source": [
    "supported_sets_varients"
   ]
  },
  {
   "cell_type": "code",
   "execution_count": 65,
   "metadata": {},
   "outputs": [
    {
     "output_type": "stream",
     "name": "stdout",
     "text": [
      "(8077, 2)\n0.13 MB\n"
     ]
    },
    {
     "output_type": "execute_result",
     "data": {
      "text/plain": [
       "                             scryfallId  \\\n",
       "0  0000cd57-91fe-411f-b798-646e965eec37   \n",
       "1  0001f1ef-b957-4a55-b47f-14839cdbab6f   \n",
       "2  0002ab72-834b-4c81-82b1-0d2760ea96b0   \n",
       "\n",
       "                                          image_urls  \n",
       "0  {'small': 'https://c1.scryfall.com/file/scryfa...  \n",
       "1  {'small': 'https://c1.scryfall.com/file/scryfa...  \n",
       "2  {'small': 'https://c1.scryfall.com/file/scryfa...  "
      ],
      "text/html": "<div>\n<style scoped>\n    .dataframe tbody tr th:only-of-type {\n        vertical-align: middle;\n    }\n\n    .dataframe tbody tr th {\n        vertical-align: top;\n    }\n\n    .dataframe thead th {\n        text-align: right;\n    }\n</style>\n<table border=\"1\" class=\"dataframe\">\n  <thead>\n    <tr style=\"text-align: right;\">\n      <th></th>\n      <th>scryfallId</th>\n      <th>image_urls</th>\n    </tr>\n  </thead>\n  <tbody>\n    <tr>\n      <th>0</th>\n      <td>0000cd57-91fe-411f-b798-646e965eec37</td>\n      <td>{'small': 'https://c1.scryfall.com/file/scryfa...</td>\n    </tr>\n    <tr>\n      <th>1</th>\n      <td>0001f1ef-b957-4a55-b47f-14839cdbab6f</td>\n      <td>{'small': 'https://c1.scryfall.com/file/scryfa...</td>\n    </tr>\n    <tr>\n      <th>2</th>\n      <td>0002ab72-834b-4c81-82b1-0d2760ea96b0</td>\n      <td>{'small': 'https://c1.scryfall.com/file/scryfa...</td>\n    </tr>\n  </tbody>\n</table>\n</div>"
     },
     "metadata": {},
     "execution_count": 65
    }
   ],
   "source": [
    "# Scryfall image urls\n",
    "scryfall_df = scryfall_df\\\n",
    "    .query('set_name == @supported_sets_varients')\\\n",
    "    [['id','image_uris','card_faces']]\\\n",
    "    .reset_index(drop=True)\\\n",
    "    .assign(image_urls=lambda df: df.apply(get_image_uris, axis=1))\\\n",
    "    .drop(columns=['image_uris','card_faces'])\\\n",
    "    .rename(columns={'id': 'scryfallId'})\n",
    "\n",
    "print(scryfall_df.shape)\n",
    "print('{} MB'.format(round(scryfall_df.memory_usage().sum()/1000000, 2)))\n",
    "scryfall_df.head(3)"
   ]
  },
  {
   "cell_type": "code",
   "execution_count": 67,
   "metadata": {},
   "outputs": [
    {
     "output_type": "stream",
     "name": "stdout",
     "text": [
      "(56490, 91)\n41.58 MB\n"
     ]
    },
    {
     "output_type": "execute_result",
     "data": {
      "text/plain": [
       "   id        artist asciiName availability borderColor  cardKingdomFoilId  \\\n",
       "0   1  Pete Venters       NaN   mtgo,paper       black                NaN   \n",
       "\n",
       "   cardKingdomId colorIdentity colorIndicator colors  ...  legacy modern  \\\n",
       "0       122719.0             W            NaN      W  ...   Legal  Legal   \n",
       "\n",
       "   oldschool  pauper  penny pioneer premodern standard vintage  image_urls  \n",
       "0      Blank   Blank  Legal   Blank     Legal    Blank   Legal         NaN  \n",
       "\n",
       "[1 rows x 91 columns]"
      ],
      "text/html": "<div>\n<style scoped>\n    .dataframe tbody tr th:only-of-type {\n        vertical-align: middle;\n    }\n\n    .dataframe tbody tr th {\n        vertical-align: top;\n    }\n\n    .dataframe thead th {\n        text-align: right;\n    }\n</style>\n<table border=\"1\" class=\"dataframe\">\n  <thead>\n    <tr style=\"text-align: right;\">\n      <th></th>\n      <th>id</th>\n      <th>artist</th>\n      <th>asciiName</th>\n      <th>availability</th>\n      <th>borderColor</th>\n      <th>cardKingdomFoilId</th>\n      <th>cardKingdomId</th>\n      <th>colorIdentity</th>\n      <th>colorIndicator</th>\n      <th>colors</th>\n      <th>...</th>\n      <th>legacy</th>\n      <th>modern</th>\n      <th>oldschool</th>\n      <th>pauper</th>\n      <th>penny</th>\n      <th>pioneer</th>\n      <th>premodern</th>\n      <th>standard</th>\n      <th>vintage</th>\n      <th>image_urls</th>\n    </tr>\n  </thead>\n  <tbody>\n    <tr>\n      <th>0</th>\n      <td>1</td>\n      <td>Pete Venters</td>\n      <td>NaN</td>\n      <td>mtgo,paper</td>\n      <td>black</td>\n      <td>NaN</td>\n      <td>122719.0</td>\n      <td>W</td>\n      <td>NaN</td>\n      <td>W</td>\n      <td>...</td>\n      <td>Legal</td>\n      <td>Legal</td>\n      <td>Blank</td>\n      <td>Blank</td>\n      <td>Legal</td>\n      <td>Blank</td>\n      <td>Legal</td>\n      <td>Blank</td>\n      <td>Legal</td>\n      <td>NaN</td>\n    </tr>\n  </tbody>\n</table>\n<p>1 rows × 91 columns</p>\n</div>"
     },
     "metadata": {},
     "execution_count": 67
    }
   ],
   "source": [
    "cards_df = cards_df\\\n",
    "    .merge(scryfall_df, how='left', on='scryfallId')\n",
    "\n",
    "print(cards_df.shape)\n",
    "print('{} MB'.format(round(cards_df.memory_usage().sum()/1000000, 2)))\n",
    "cards_df.head(1)"
   ]
  },
  {
   "cell_type": "code",
   "execution_count": 68,
   "metadata": {},
   "outputs": [],
   "source": [
    "cards_df.to_csv('cards.csv', index=False)"
   ]
  },
  {
   "cell_type": "code",
   "execution_count": 2,
   "metadata": {},
   "outputs": [
    {
     "output_type": "stream",
     "name": "stderr",
     "text": [
      "C:\\Users\\lwest\\Anaconda3\\envs\\magicml\\lib\\site-packages\\IPython\\core\\interactiveshell.py:3147: DtypeWarning: Columns (11,15,18,39,50,90) have mixed types.Specify dtype option on import or set low_memory=False.\n  interactivity=interactivity, compiler=compiler, result=result)\n"
     ]
    }
   ],
   "source": [
    "cards_df = pd.read_csv('cards.csv')"
   ]
  },
  {
   "cell_type": "code",
   "execution_count": 3,
   "metadata": {},
   "outputs": [
    {
     "output_type": "execute_result",
     "data": {
      "text/plain": [
       "   id        artist asciiName availability borderColor  cardKingdomFoilId  \\\n",
       "0   1  Pete Venters       NaN   mtgo,paper       black                NaN   \n",
       "1   2   Volkan Baǵa       NaN   mtgo,paper       black                NaN   \n",
       "\n",
       "   cardKingdomId colorIdentity colorIndicator colors  ...  legacy modern  \\\n",
       "0       122719.0             W            NaN      W  ...   Legal  Legal   \n",
       "1       122720.0             W            NaN      W  ...   Legal  Legal   \n",
       "\n",
       "   oldschool  pauper  penny pioneer premodern standard vintage  image_urls  \n",
       "0      Blank   Blank  Legal   Blank     Legal    Blank   Legal         NaN  \n",
       "1      Blank   Legal  Legal   Blank     Legal    Blank   Legal         NaN  \n",
       "\n",
       "[2 rows x 91 columns]"
      ],
      "text/html": "<div>\n<style scoped>\n    .dataframe tbody tr th:only-of-type {\n        vertical-align: middle;\n    }\n\n    .dataframe tbody tr th {\n        vertical-align: top;\n    }\n\n    .dataframe thead th {\n        text-align: right;\n    }\n</style>\n<table border=\"1\" class=\"dataframe\">\n  <thead>\n    <tr style=\"text-align: right;\">\n      <th></th>\n      <th>id</th>\n      <th>artist</th>\n      <th>asciiName</th>\n      <th>availability</th>\n      <th>borderColor</th>\n      <th>cardKingdomFoilId</th>\n      <th>cardKingdomId</th>\n      <th>colorIdentity</th>\n      <th>colorIndicator</th>\n      <th>colors</th>\n      <th>...</th>\n      <th>legacy</th>\n      <th>modern</th>\n      <th>oldschool</th>\n      <th>pauper</th>\n      <th>penny</th>\n      <th>pioneer</th>\n      <th>premodern</th>\n      <th>standard</th>\n      <th>vintage</th>\n      <th>image_urls</th>\n    </tr>\n  </thead>\n  <tbody>\n    <tr>\n      <th>0</th>\n      <td>1</td>\n      <td>Pete Venters</td>\n      <td>NaN</td>\n      <td>mtgo,paper</td>\n      <td>black</td>\n      <td>NaN</td>\n      <td>122719.0</td>\n      <td>W</td>\n      <td>NaN</td>\n      <td>W</td>\n      <td>...</td>\n      <td>Legal</td>\n      <td>Legal</td>\n      <td>Blank</td>\n      <td>Blank</td>\n      <td>Legal</td>\n      <td>Blank</td>\n      <td>Legal</td>\n      <td>Blank</td>\n      <td>Legal</td>\n      <td>NaN</td>\n    </tr>\n    <tr>\n      <th>1</th>\n      <td>2</td>\n      <td>Volkan Baǵa</td>\n      <td>NaN</td>\n      <td>mtgo,paper</td>\n      <td>black</td>\n      <td>NaN</td>\n      <td>122720.0</td>\n      <td>W</td>\n      <td>NaN</td>\n      <td>W</td>\n      <td>...</td>\n      <td>Legal</td>\n      <td>Legal</td>\n      <td>Blank</td>\n      <td>Legal</td>\n      <td>Legal</td>\n      <td>Blank</td>\n      <td>Legal</td>\n      <td>Blank</td>\n      <td>Legal</td>\n      <td>NaN</td>\n    </tr>\n  </tbody>\n</table>\n<p>2 rows × 91 columns</p>\n</div>"
     },
     "metadata": {},
     "execution_count": 3
    }
   ],
   "source": [
    "cards_df.head(2)"
   ]
  },
  {
   "cell_type": "code",
   "execution_count": 4,
   "metadata": {},
   "outputs": [
    {
     "output_type": "execute_result",
     "data": {
      "text/plain": [
       "(56490, 91)"
      ]
     },
     "metadata": {},
     "execution_count": 4
    }
   ],
   "source": [
    "cards_df.shape"
   ]
  },
  {
   "cell_type": "code",
   "execution_count": 5,
   "metadata": {},
   "outputs": [
    {
     "output_type": "execute_result",
     "data": {
      "text/plain": [
       "Index(['id', 'artist', 'asciiName', 'availability', 'borderColor',\n",
       "       'cardKingdomFoilId', 'cardKingdomId', 'colorIdentity', 'colorIndicator',\n",
       "       'colors', 'convertedManaCost', 'duelDeck', 'edhrecRank',\n",
       "       'faceConvertedManaCost', 'faceName', 'flavorName', 'flavorText',\n",
       "       'frameEffects', 'frameVersion', 'hand', 'hasAlternativeDeckLimit',\n",
       "       'hasContentWarning', 'hasFoil', 'hasNonFoil', 'isAlternative',\n",
       "       'isFullArt', 'isOnlineOnly', 'isOversized', 'isPromo', 'isReprint',\n",
       "       'isReserved', 'isStarter', 'isStorySpotlight', 'isTextless',\n",
       "       'isTimeshifted', 'keywords', 'layout', 'leadershipSkills', 'life',\n",
       "       'loyalty', 'manaCost', 'mcmId', 'mcmMetaId', 'mtgArenaId',\n",
       "       'mtgjsonV4Id', 'mtgoFoilId', 'mtgoId', 'multiverseId', 'name', 'number',\n",
       "       'originalReleaseDate', 'originalText', 'originalType', 'otherFaceIds',\n",
       "       'power', 'printings', 'promoTypes', 'purchaseUrls', 'rarity',\n",
       "       'scryfallId', 'scryfallIllustrationId', 'scryfallOracleId', 'setCode',\n",
       "       'side', 'subtypes', 'supertypes', 'tcgplayerProductId', 'text',\n",
       "       'toughness', 'type', 'types', 'uuid', 'variations', 'watermark',\n",
       "       'setName', 'brawl', 'commander', 'duel', 'future', 'gladiator',\n",
       "       'historic', 'legacy', 'modern', 'oldschool', 'pauper', 'penny',\n",
       "       'pioneer', 'premodern', 'standard', 'vintage', 'image_urls'],\n",
       "      dtype='object')"
      ]
     },
     "metadata": {},
     "execution_count": 5
    }
   ],
   "source": [
    "cards_df.columns"
   ]
  },
  {
   "cell_type": "code",
   "execution_count": 43,
   "metadata": {},
   "outputs": [
    {
     "output_type": "execute_result",
     "data": {
      "text/plain": [
       "['Kaldheim Commander', 'Kaldheim']"
      ]
     },
     "metadata": {},
     "execution_count": 43
    }
   ],
   "source": [
    "[s for s in cards_df.setName.unique() if \"Kaldheim\" in s]"
   ]
  },
  {
   "cell_type": "code",
   "execution_count": 11,
   "metadata": {},
   "outputs": [
    {
     "output_type": "execute_result",
     "data": {
      "text/plain": [
       "(7998, 3)"
      ]
     },
     "metadata": {},
     "execution_count": 11
    }
   ],
   "source": [
    "cards_df[['mtgArenaId','scryfallId','setName']].query('setName == @supported_sets_varients').shape"
   ]
  },
  {
   "cell_type": "code",
   "execution_count": null,
   "metadata": {},
   "outputs": [],
   "source": [
    "cards_df"
   ]
  },
  {
   "cell_type": "code",
   "execution_count": null,
   "metadata": {},
   "outputs": [],
   "source": []
  },
  {
   "cell_type": "code",
   "execution_count": 12,
   "metadata": {},
   "outputs": [
    {
     "output_type": "stream",
     "name": "stdout",
     "text": [
      "(7998, 91)\n"
     ]
    }
   ],
   "source": [
    "arena_df = cards_df.query('setName == @supported_sets_varients')\\\n",
    "    .reset_index(drop=True)\\\n",
    "    .fillna(value={'text': 'Blank'})\n",
    "\n",
    "print(arena_df.shape)"
   ]
  },
  {
   "cell_type": "code",
   "execution_count": 13,
   "metadata": {},
   "outputs": [
    {
     "output_type": "execute_result",
     "data": {
      "text/plain": [
       "Index(['id', 'artist', 'asciiName', 'availability', 'borderColor',\n",
       "       'cardKingdomFoilId', 'cardKingdomId', 'colorIdentity', 'colorIndicator',\n",
       "       'colors', 'convertedManaCost', 'duelDeck', 'edhrecRank',\n",
       "       'faceConvertedManaCost', 'faceName', 'flavorName', 'flavorText',\n",
       "       'frameEffects', 'frameVersion', 'hand', 'hasAlternativeDeckLimit',\n",
       "       'hasContentWarning', 'hasFoil', 'hasNonFoil', 'isAlternative',\n",
       "       'isFullArt', 'isOnlineOnly', 'isOversized', 'isPromo', 'isReprint',\n",
       "       'isReserved', 'isStarter', 'isStorySpotlight', 'isTextless',\n",
       "       'isTimeshifted', 'keywords', 'layout', 'leadershipSkills', 'life',\n",
       "       'loyalty', 'manaCost', 'mcmId', 'mcmMetaId', 'mtgArenaId',\n",
       "       'mtgjsonV4Id', 'mtgoFoilId', 'mtgoId', 'multiverseId', 'name', 'number',\n",
       "       'originalReleaseDate', 'originalText', 'originalType', 'otherFaceIds',\n",
       "       'power', 'printings', 'promoTypes', 'purchaseUrls', 'rarity',\n",
       "       'scryfallId', 'scryfallIllustrationId', 'scryfallOracleId', 'setCode',\n",
       "       'side', 'subtypes', 'supertypes', 'tcgplayerProductId', 'text',\n",
       "       'toughness', 'type', 'types', 'uuid', 'variations', 'watermark',\n",
       "       'setName', 'brawl', 'commander', 'duel', 'future', 'gladiator',\n",
       "       'historic', 'legacy', 'modern', 'oldschool', 'pauper', 'penny',\n",
       "       'pioneer', 'premodern', 'standard', 'vintage', 'image_urls'],\n",
       "      dtype='object')"
      ]
     },
     "metadata": {},
     "execution_count": 13
    }
   ],
   "source": [
    "arena_df.columns"
   ]
  },
  {
   "cell_type": "code",
   "execution_count": 76,
   "metadata": {},
   "outputs": [
    {
     "output_type": "stream",
     "name": "stdout",
     "text": [
      "2651    {'small': 'https://c1.scryfall.com/file/scryfa...\n2726    {'small': 'https://c1.scryfall.com/file/scryfa...\nName: image_urls, dtype: object\n"
     ]
    }
   ],
   "source": [
    "arena_df.query('name == \"Kaya the Inexorable\"').image_urls"
   ]
  },
  {
   "cell_type": "code",
   "execution_count": null,
   "metadata": {},
   "outputs": [],
   "source": []
  },
  {
   "source": [
    "### Handle token cards later"
   ],
   "cell_type": "markdown",
   "metadata": {}
  },
  {
   "cell_type": "code",
   "execution_count": 53,
   "metadata": {},
   "outputs": [
    {
     "output_type": "stream",
     "name": "stdout",
     "text": [
      "(1704, 45)\n0.61 MB\n"
     ]
    },
    {
     "output_type": "execute_result",
     "data": {
      "text/plain": [
       "   index  id       artist asciiName availability borderColor colorIdentity  \\\n",
       "0      0   1  Jim Pavelec       NaN        paper       black             R   \n",
       "\n",
       "  colors  edhrecRank faceName  ... side subtypes  supertypes  \\\n",
       "0      R         NaN      NaN  ...  NaN   Dragon         NaN   \n",
       "\n",
       "   tcgplayerProductId    text  toughness                     type  \\\n",
       "0             78608.0  Flying          5  Token Creature — Dragon   \n",
       "\n",
       "            types                                  uuid watermark  \n",
       "0  Token,Creature  7decf258-eb10-50da-83f7-c7eba74adbfb       NaN  \n",
       "\n",
       "[1 rows x 45 columns]"
      ],
      "text/html": "<div>\n<style scoped>\n    .dataframe tbody tr th:only-of-type {\n        vertical-align: middle;\n    }\n\n    .dataframe tbody tr th {\n        vertical-align: top;\n    }\n\n    .dataframe thead th {\n        text-align: right;\n    }\n</style>\n<table border=\"1\" class=\"dataframe\">\n  <thead>\n    <tr style=\"text-align: right;\">\n      <th></th>\n      <th>index</th>\n      <th>id</th>\n      <th>artist</th>\n      <th>asciiName</th>\n      <th>availability</th>\n      <th>borderColor</th>\n      <th>colorIdentity</th>\n      <th>colors</th>\n      <th>edhrecRank</th>\n      <th>faceName</th>\n      <th>...</th>\n      <th>side</th>\n      <th>subtypes</th>\n      <th>supertypes</th>\n      <th>tcgplayerProductId</th>\n      <th>text</th>\n      <th>toughness</th>\n      <th>type</th>\n      <th>types</th>\n      <th>uuid</th>\n      <th>watermark</th>\n    </tr>\n  </thead>\n  <tbody>\n    <tr>\n      <th>0</th>\n      <td>0</td>\n      <td>1</td>\n      <td>Jim Pavelec</td>\n      <td>NaN</td>\n      <td>paper</td>\n      <td>black</td>\n      <td>R</td>\n      <td>R</td>\n      <td>NaN</td>\n      <td>NaN</td>\n      <td>...</td>\n      <td>NaN</td>\n      <td>Dragon</td>\n      <td>NaN</td>\n      <td>78608.0</td>\n      <td>Flying</td>\n      <td>5</td>\n      <td>Token Creature — Dragon</td>\n      <td>Token,Creature</td>\n      <td>7decf258-eb10-50da-83f7-c7eba74adbfb</td>\n      <td>NaN</td>\n    </tr>\n  </tbody>\n</table>\n<p>1 rows × 45 columns</p>\n</div>"
     },
     "metadata": {},
     "execution_count": 53
    }
   ],
   "source": [
    "tokens_df = pd.read_csv('../data/mtgjson/tokens.csv')\n",
    "\n",
    "print(tokens_df.shape)\n",
    "print('{} MB'.format(round(tokens_df.memory_usage().sum()/1000000, 2)))\n",
    "tokens_df.head(1)"
   ]
  },
  {
   "cell_type": "code",
   "execution_count": 3,
   "metadata": {},
   "outputs": [
    {
     "output_type": "stream",
     "name": "stdout",
     "text": [
      "(55943, 74)\n"
     ]
    },
    {
     "output_type": "execute_result",
     "data": {
      "text/plain": [
       "   id           artist asciiName availability borderColor  cardKingdomFoilId  \\\n",
       "0   1     Rebecca Guay       NaN   mtgo,paper       black           123335.0   \n",
       "1   2  Stephen Daniele       NaN   mtgo,paper       black           123149.0   \n",
       "\n",
       "   cardKingdomId colorIdentity colorIndicator colors  ...      subtypes  \\\n",
       "0       122967.0             G            NaN      G  ...           NaN   \n",
       "1       122781.0             U            NaN      U  ...  Human,Wizard   \n",
       "\n",
       "  supertypes  tcgplayerProductId  \\\n",
       "0        NaN             15023.0   \n",
       "1        NaN             15024.0   \n",
       "\n",
       "                                                text toughness  \\\n",
       "0  If you would draw a card, you may instead choo...       NaN   \n",
       "1  When Academy Researchers enters the battlefiel...         2   \n",
       "\n",
       "                      type        types                                  uuid  \\\n",
       "0              Enchantment  Enchantment  38513fa0-ea83-5642-8ecd-4f0b3daa6768   \n",
       "1  Creature — Human Wizard     Creature  b8a68840-4044-52c0-a14e-0a1c630ba42c   \n",
       "\n",
       "  variations  watermark  \n",
       "0        NaN        NaN  \n",
       "1        NaN        NaN  \n",
       "\n",
       "[2 rows x 74 columns]"
      ],
      "text/html": "<div>\n<style scoped>\n    .dataframe tbody tr th:only-of-type {\n        vertical-align: middle;\n    }\n\n    .dataframe tbody tr th {\n        vertical-align: top;\n    }\n\n    .dataframe thead th {\n        text-align: right;\n    }\n</style>\n<table border=\"1\" class=\"dataframe\">\n  <thead>\n    <tr style=\"text-align: right;\">\n      <th></th>\n      <th>id</th>\n      <th>artist</th>\n      <th>asciiName</th>\n      <th>availability</th>\n      <th>borderColor</th>\n      <th>cardKingdomFoilId</th>\n      <th>cardKingdomId</th>\n      <th>colorIdentity</th>\n      <th>colorIndicator</th>\n      <th>colors</th>\n      <th>...</th>\n      <th>subtypes</th>\n      <th>supertypes</th>\n      <th>tcgplayerProductId</th>\n      <th>text</th>\n      <th>toughness</th>\n      <th>type</th>\n      <th>types</th>\n      <th>uuid</th>\n      <th>variations</th>\n      <th>watermark</th>\n    </tr>\n  </thead>\n  <tbody>\n    <tr>\n      <th>0</th>\n      <td>1</td>\n      <td>Rebecca Guay</td>\n      <td>NaN</td>\n      <td>mtgo,paper</td>\n      <td>black</td>\n      <td>123335.0</td>\n      <td>122967.0</td>\n      <td>G</td>\n      <td>NaN</td>\n      <td>G</td>\n      <td>...</td>\n      <td>NaN</td>\n      <td>NaN</td>\n      <td>15023.0</td>\n      <td>If you would draw a card, you may instead choo...</td>\n      <td>NaN</td>\n      <td>Enchantment</td>\n      <td>Enchantment</td>\n      <td>38513fa0-ea83-5642-8ecd-4f0b3daa6768</td>\n      <td>NaN</td>\n      <td>NaN</td>\n    </tr>\n    <tr>\n      <th>1</th>\n      <td>2</td>\n      <td>Stephen Daniele</td>\n      <td>NaN</td>\n      <td>mtgo,paper</td>\n      <td>black</td>\n      <td>123149.0</td>\n      <td>122781.0</td>\n      <td>U</td>\n      <td>NaN</td>\n      <td>U</td>\n      <td>...</td>\n      <td>Human,Wizard</td>\n      <td>NaN</td>\n      <td>15024.0</td>\n      <td>When Academy Researchers enters the battlefiel...</td>\n      <td>2</td>\n      <td>Creature — Human Wizard</td>\n      <td>Creature</td>\n      <td>b8a68840-4044-52c0-a14e-0a1c630ba42c</td>\n      <td>NaN</td>\n      <td>NaN</td>\n    </tr>\n  </tbody>\n</table>\n<p>2 rows × 74 columns</p>\n</div>"
     },
     "metadata": {},
     "execution_count": 3
    }
   ],
   "source": [
    "print(cards_df.shape)\n",
    "cards_df.head(2)"
   ]
  },
  {
   "cell_type": "code",
   "execution_count": 47,
   "metadata": {},
   "outputs": [
    {
     "output_type": "execute_result",
     "data": {
      "text/plain": [
       "2022"
      ]
     },
     "metadata": {},
     "execution_count": 47
    }
   ],
   "source": [
    "cards_df.type.nunique()"
   ]
  },
  {
   "cell_type": "code",
   "execution_count": 48,
   "metadata": {},
   "outputs": [
    {
     "output_type": "execute_result",
     "data": {
      "text/plain": [
       "534"
      ]
     },
     "metadata": {},
     "execution_count": 48
    }
   ],
   "source": [
    "cards_df.setCode.nunique()"
   ]
  },
  {
   "cell_type": "code",
   "execution_count": 9,
   "metadata": {},
   "outputs": [
    {
     "output_type": "execute_result",
     "data": {
      "text/plain": [
       "33.118384"
      ]
     },
     "metadata": {},
     "execution_count": 9
    }
   ],
   "source": [
    "cards_df.memory_usage().sum()/1000000"
   ]
  },
  {
   "cell_type": "code",
   "execution_count": 56,
   "metadata": {},
   "outputs": [
    {
     "output_type": "stream",
     "name": "stdout",
     "text": [
      "id: 1\n\nartist: Rebecca Guay\n\nasciiName: nan\n\navailability: mtgo,paper\n\nborderColor: black\n\ncardKingdomFoilId: 123335.0\n\ncardKingdomId: 122967.0\n\ncolorIdentity: G\n\ncolorIndicator: nan\n\ncolors: G\n\nconvertedManaCost: 4.0\n\nduelDeck: nan\n\nedhrecRank: 1111.0\n\nfaceConvertedManaCost: nan\n\nfaceName: nan\n\nflavorName: nan\n\nflavorText: nan\n\nframeEffects: nan\n\nframeVersion: 2003\n\nhand: nan\n\nhasAlternativeDeckLimit: 0\n\nhasContentWarning: 0\n\nhasFoil: 1\n\nhasNonFoil: 1\n\nisAlternative: 0\n\nisFullArt: 0\n\nisOnlineOnly: 0\n\nisOversized: 0\n\nisPromo: 0\n\nisReprint: 1\n\nisReserved: 0\n\nisStarter: 0\n\nisStorySpotlight: 0\n\nisTextless: 0\n\nisTimeshifted: 0\n\nkeywords: nan\n\nlayout: normal\n\nleadershipSkills: nan\n\nlife: nan\n\nloyalty: nan\n\nmanaCost: {2}{G}{G}\n\nmcmId: 16413.0\n\nmcmMetaId: 19.0\n\nmtgArenaId: nan\n\nmtgjsonV4Id: 1669af17-d287-5094-b005-4b143441442f\n\nmtgoFoilId: 27283.0\n\nmtgoId: 27282.0\n\nmultiverseId: 130483.0\n\nname: Abundance\n\nnumber: 249\n\noriginalReleaseDate: nan\n\noriginalText: If you would draw a card, you may instead choose land or nonland and reveal cards from the top of your library until you reveal a card of the chosen kind. Put that card into your hand and put all other cards revealed this way on the bottom of your library in any order.\n\noriginalType: Enchantment\n\notherFaceIds: nan\n\npower: nan\n\nprintings: 10E,C17,DDR,USG,ZNC\n\npromoTypes: nan\n\npurchaseUrls: {'cardKingdom': 'https://mtgjson.com/links/be6bfd8d4a84e5ec', 'cardKingdomFoil': 'https://mtgjson.com/links/4015cfd69a1e9820', 'cardmarket': 'https://mtgjson.com/links/39cb422913cf114f', 'tcgplayer': 'https://mtgjson.com/links/6e092a03d6bbffec'}\n\nrarity: rare\n\nscryfallId: 46184f97-d5c9-4a98-9fd9-e19057ce9b7e\n\nscryfallIllustrationId: 4be12219-df08-4a40-b32f-69737db62615\n\nscryfallOracleId: eccc9a54-2b56-4a02-9926-258d5b2e25fb\n\nsetCode: 10E\n\nside: nan\n\nsubtypes: nan\n\nsupertypes: nan\n\ntcgplayerProductId: 15023.0\n\ntext: If you would draw a card, you may instead choose land or nonland and reveal cards from the top of your library until you reveal a card of the chosen kind. Put that card into your hand and put all other cards revealed this way on the bottom of your library in any order.\n\ntoughness: nan\n\ntype: Enchantment\n\ntypes: Enchantment\n\nuuid: 38513fa0-ea83-5642-8ecd-4f0b3daa6768\n\nvariations: nan\n\nwatermark: nan\n\nsetName: Tenth Edition\n\nbrawl: Blank\n\ncommander: Legal\n\nduel: Legal\n\nfuture: Blank\n\nhistoric: Blank\n\nlegacy: Legal\n\nmodern: Legal\n\noldschool: Blank\n\npauper: Blank\n\npenny: Legal\n\npioneer: Blank\n\nstandard: Blank\n\nvintage: Legal\n\n"
     ]
    }
   ],
   "source": [
    "for col in cards_df.columns:\n",
    "    print(col + ': ' + str(cards_df[col][0]) + '\\n')"
   ]
  },
  {
   "source": [
    "# Download and Store USE Model from TFHub"
   ],
   "cell_type": "markdown",
   "metadata": {}
  },
  {
   "cell_type": "code",
   "execution_count": 5,
   "metadata": {},
   "outputs": [
    {
     "output_type": "stream",
     "name": "stdout",
     "text": [
      "module https://tfhub.dev/google/universal-sentence-encoder-large/5 loaded\n"
     ]
    }
   ],
   "source": [
    "module_url = 'https://tfhub.dev/google/universal-sentence-encoder-large/5'\n",
    "model = hub.load(module_url)\n",
    "print (\"module %s loaded\" % module_url)"
   ]
  },
  {
   "source": [
    "## Saved the downloaded USE-Large model"
   ],
   "cell_type": "markdown",
   "metadata": {}
  },
  {
   "cell_type": "code",
   "execution_count": 2,
   "metadata": {},
   "outputs": [
    {
     "output_type": "error",
     "ename": "NameError",
     "evalue": "name 'model' is not defined",
     "traceback": [
      "\u001b[1;31m---------------------------------------------------------------------------\u001b[0m",
      "\u001b[1;31mNameError\u001b[0m                                 Traceback (most recent call last)",
      "\u001b[1;32m<ipython-input-2-a12f0001efb1>\u001b[0m in \u001b[0;36m<module>\u001b[1;34m\u001b[0m\n\u001b[1;32m----> 1\u001b[1;33m \u001b[0mtf\u001b[0m\u001b[1;33m.\u001b[0m\u001b[0msaved_model\u001b[0m\u001b[1;33m.\u001b[0m\u001b[0msave\u001b[0m\u001b[1;33m(\u001b[0m\u001b[0mmodel\u001b[0m\u001b[1;33m,\u001b[0m \u001b[1;34m\"../models/use-large\"\u001b[0m\u001b[1;33m)\u001b[0m\u001b[1;33m\u001b[0m\u001b[1;33m\u001b[0m\u001b[0m\n\u001b[0m",
      "\u001b[1;31mNameError\u001b[0m: name 'model' is not defined"
     ]
    }
   ],
   "source": [
    "tf.saved_model.save(model, \"../models/use-large\")"
   ]
  },
  {
   "source": [
    "## Load USE-Large from local disk"
   ],
   "cell_type": "markdown",
   "metadata": {}
  },
  {
   "cell_type": "code",
   "execution_count": 2,
   "metadata": {},
   "outputs": [],
   "source": [
    "import tensorflow as tf"
   ]
  },
  {
   "cell_type": "code",
   "execution_count": 3,
   "metadata": {},
   "outputs": [],
   "source": [
    "use_embed = tf.saved_model.load('../models/use-large/1')"
   ]
  },
  {
   "cell_type": "code",
   "execution_count": 27,
   "metadata": {},
   "outputs": [],
   "source": [
    "for local_path in model_files:\n",
    "    s3_key = '/'.join(str(local_path).split('\\\\')[2:])\n",
    "    if '.' in s3_key:\n",
    "        s3.upload_file(str(local_path), 'magicml-models.dev', s3_key)"
   ]
  },
  {
   "source": [
    "***\n",
    "# Get USE Embeddings"
   ],
   "cell_type": "markdown",
   "metadata": {}
  },
  {
   "cell_type": "code",
   "execution_count": 70,
   "metadata": {},
   "outputs": [
    {
     "output_type": "stream",
     "name": "stdout",
     "text": [
      "(5, 5)\n"
     ]
    }
   ],
   "source": [
    "corr = np.inner(embeddings, embeddings)\n",
    "print(corr.shape)"
   ]
  },
  {
   "cell_type": "code",
   "execution_count": 72,
   "metadata": {},
   "outputs": [],
   "source": [
    "import plotly.express as px"
   ]
  },
  {
   "cell_type": "code",
   "execution_count": 73,
   "metadata": {},
   "outputs": [
    {
     "output_type": "error",
     "ename": "NameError",
     "evalue": "name 'arena_name' is not defined",
     "traceback": [
      "\u001b[1;31m---------------------------------------------------------------------------\u001b[0m",
      "\u001b[1;31mNameError\u001b[0m                                 Traceback (most recent call last)",
      "\u001b[1;32m<ipython-input-73-fab3a43054c8>\u001b[0m in \u001b[0;36m<module>\u001b[1;34m\u001b[0m\n\u001b[1;32m----> 1\u001b[1;33m \u001b[0mcard_df\u001b[0m \u001b[1;33m=\u001b[0m \u001b[0mpd\u001b[0m\u001b[1;33m.\u001b[0m\u001b[0mDataFrame\u001b[0m\u001b[1;33m(\u001b[0m\u001b[0mcorr\u001b[0m\u001b[1;33m,\u001b[0m \u001b[0mcolumns\u001b[0m\u001b[1;33m=\u001b[0m\u001b[0marena_name\u001b[0m\u001b[1;33m,\u001b[0m \u001b[0mindex\u001b[0m\u001b[1;33m=\u001b[0m\u001b[0marena_name\u001b[0m\u001b[1;33m)\u001b[0m\u001b[1;33m\u001b[0m\u001b[1;33m\u001b[0m\u001b[0m\n\u001b[0m\u001b[0;32m      2\u001b[0m \u001b[0mcard_df\u001b[0m\u001b[1;33m.\u001b[0m\u001b[0mhead\u001b[0m\u001b[1;33m(\u001b[0m\u001b[1;33m)\u001b[0m\u001b[1;33m\u001b[0m\u001b[1;33m\u001b[0m\u001b[0m\n",
      "\u001b[1;31mNameError\u001b[0m: name 'arena_name' is not defined"
     ]
    }
   ],
   "source": [
    "card_df = pd.DataFrame(corr, columns=arena_name, index=arena_name)\n",
    "card_df.head()"
   ]
  },
  {
   "cell_type": "code",
   "execution_count": 107,
   "metadata": {},
   "outputs": [
    {
     "output_type": "execute_result",
     "data": {
      "text/plain": [
       "'Golos,_Tireless_Pilgrim'"
      ]
     },
     "metadata": {},
     "execution_count": 107
    }
   ],
   "source": [
    "test_card = 'Golos,_Tireless_Pilgrim'\n",
    "test_card"
   ]
  },
  {
   "cell_type": "code",
   "execution_count": 106,
   "metadata": {},
   "outputs": [
    {
     "output_type": "execute_result",
     "data": {
      "text/plain": [
       "['Golos,_Tireless_Pilgrim']"
      ]
     },
     "metadata": {},
     "execution_count": 106
    }
   ],
   "source": [
    "[card for card in card_df.columns if card.startswith('Golos')]"
   ]
  },
  {
   "cell_type": "code",
   "execution_count": 108,
   "metadata": {},
   "outputs": [
    {
     "output_type": "execute_result",
     "data": {
      "text/plain": [
       "      Golos,_Tireless_Pilgrim\n",
       "3059                 1.000000\n",
       "1687                 0.805584\n",
       "1583                 0.801413\n",
       "2606                 0.798853\n",
       "835                  0.796900\n",
       "...                       ...\n",
       "5170                -0.020036\n",
       "3215                -0.020036\n",
       "5212                -0.041830\n",
       "4441                -0.041830\n",
       "5055                -0.041830\n",
       "\n",
       "[5419 rows x 1 columns]"
      ],
      "text/html": "<div>\n<style scoped>\n    .dataframe tbody tr th:only-of-type {\n        vertical-align: middle;\n    }\n\n    .dataframe tbody tr th {\n        vertical-align: top;\n    }\n\n    .dataframe thead th {\n        text-align: right;\n    }\n</style>\n<table border=\"1\" class=\"dataframe\">\n  <thead>\n    <tr style=\"text-align: right;\">\n      <th></th>\n      <th>Golos,_Tireless_Pilgrim</th>\n    </tr>\n  </thead>\n  <tbody>\n    <tr>\n      <th>3059</th>\n      <td>1.000000</td>\n    </tr>\n    <tr>\n      <th>1687</th>\n      <td>0.805584</td>\n    </tr>\n    <tr>\n      <th>1583</th>\n      <td>0.801413</td>\n    </tr>\n    <tr>\n      <th>2606</th>\n      <td>0.798853</td>\n    </tr>\n    <tr>\n      <th>835</th>\n      <td>0.796900</td>\n    </tr>\n    <tr>\n      <th>...</th>\n      <td>...</td>\n    </tr>\n    <tr>\n      <th>5170</th>\n      <td>-0.020036</td>\n    </tr>\n    <tr>\n      <th>3215</th>\n      <td>-0.020036</td>\n    </tr>\n    <tr>\n      <th>5212</th>\n      <td>-0.041830</td>\n    </tr>\n    <tr>\n      <th>4441</th>\n      <td>-0.041830</td>\n    </tr>\n    <tr>\n      <th>5055</th>\n      <td>-0.041830</td>\n    </tr>\n  </tbody>\n</table>\n<p>5419 rows × 1 columns</p>\n</div>"
     },
     "metadata": {},
     "execution_count": 108
    }
   ],
   "source": [
    "card_df[[test_card]].sort_values(by=test_card, ascending=False)"
   ]
  },
  {
   "cell_type": "code",
   "execution_count": 109,
   "metadata": {},
   "outputs": [
    {
     "output_type": "execute_result",
     "data": {
      "text/plain": [
       "array(['When Golos, Tireless Pilgrim enters the battlefield, you may search your library for a land card, put that card onto the battlefield tapped, then shuffle your library.\\n{2}{W}{U}{B}{R}{G}: Exile the top three cards of your library. You may play them this turn without paying their mana costs.'],\n",
       "      dtype=object)"
      ]
     },
     "metadata": {},
     "execution_count": 109
    }
   ],
   "source": [
    "test_card = test_card.replace('_',' ')\n",
    "arena_df.query('name == @test_card').text.values"
   ]
  },
  {
   "cell_type": "code",
   "execution_count": 112,
   "metadata": {},
   "outputs": [
    {
     "output_type": "execute_result",
     "data": {
      "text/plain": [
       "'Emergent Ultimatum'"
      ]
     },
     "metadata": {},
     "execution_count": 112
    }
   ],
   "source": [
    "test_name = arena_name[1583].replace('_',' ')\n",
    "test_name"
   ]
  },
  {
   "cell_type": "code",
   "execution_count": 113,
   "metadata": {},
   "outputs": [
    {
     "output_type": "execute_result",
     "data": {
      "text/plain": [
       "array(['Search your library for up to three monocolored cards with different names and exile them. An opponent chooses one of those cards. Shuffle that card into your library. You may cast the other cards without paying their mana costs. Exile Emergent Ultimatum.'],\n",
       "      dtype=object)"
      ]
     },
     "metadata": {},
     "execution_count": 113
    }
   ],
   "source": [
    "arena_df.query('name == @test_name').text.values"
   ]
  },
  {
   "cell_type": "code",
   "execution_count": null,
   "metadata": {},
   "outputs": [],
   "source": []
  },
  {
   "cell_type": "code",
   "execution_count": null,
   "metadata": {},
   "outputs": [],
   "source": []
  },
  {
   "cell_type": "code",
   "execution_count": null,
   "metadata": {},
   "outputs": [],
   "source": []
  },
  {
   "source": [
    "# Sagemaker Processing Workflow"
   ],
   "cell_type": "markdown",
   "metadata": {}
  },
  {
   "cell_type": "code",
   "execution_count": 1,
   "metadata": {},
   "outputs": [],
   "source": [
    "import os\n",
    "import pathlib\n",
    "import boto3\n",
    "from boto3.session import Session\n",
    "\n",
    "def aws_connect(service, profile='default', session=False):\n",
    "    # Connect to AWS with IAM Role\n",
    "    sess = Session(profile_name=profile)\n",
    "\n",
    "    try:\n",
    "        resource = sess.resource(service)\n",
    "        client = resource.meta.client\n",
    "\n",
    "        if session:\n",
    "            return resource, client, sess\n",
    "        else:\n",
    "            return resource, client\n",
    "    except:\n",
    "        client = sess.client(service)\n",
    "\n",
    "        if session:\n",
    "            return client, sess\n",
    "        else:\n",
    "            return client"
   ]
  },
  {
   "cell_type": "code",
   "execution_count": 2,
   "metadata": {},
   "outputs": [],
   "source": [
    "_, s3, boto_sess = aws_connect('s3', 'lw2134', session=True)"
   ]
  },
  {
   "cell_type": "code",
   "execution_count": null,
   "metadata": {},
   "outputs": [],
   "source": [
    "# Tar the model.tar.gz package\n",
    "# from models/use-large directory\n",
    "'tar -czvf model.tar.gz 1'"
   ]
  },
  {
   "cell_type": "code",
   "execution_count": 40,
   "metadata": {},
   "outputs": [],
   "source": [
    "## SM Processing Job"
   ]
  },
  {
   "cell_type": "code",
   "execution_count": 33,
   "metadata": {},
   "outputs": [],
   "source": [
    "import os\n",
    "import boto3\n",
    "#import sagemaker\n",
    "#from sagemaker.processing import ScriptProcessor, ProcessingInput, ProcessingOutput"
   ]
  },
  {
   "cell_type": "code",
   "execution_count": 352,
   "metadata": {},
   "outputs": [
    {
     "output_type": "error",
     "ename": "NameError",
     "evalue": "name 'aws_connect' is not defined",
     "traceback": [
      "\u001b[1;31m---------------------------------------------------------------------------\u001b[0m",
      "\u001b[1;31mNameError\u001b[0m                                 Traceback (most recent call last)",
      "\u001b[1;32m<ipython-input-352-6b4663c1af48>\u001b[0m in \u001b[0;36m<module>\u001b[1;34m\u001b[0m\n\u001b[1;32m----> 1\u001b[1;33m \u001b[0m_\u001b[0m\u001b[1;33m,\u001b[0m \u001b[0ms3\u001b[0m\u001b[1;33m,\u001b[0m \u001b[0mboto_sess\u001b[0m \u001b[1;33m=\u001b[0m \u001b[0maws_connect\u001b[0m\u001b[1;33m(\u001b[0m\u001b[1;34m's3'\u001b[0m\u001b[1;33m,\u001b[0m \u001b[1;34m'lw2134'\u001b[0m\u001b[1;33m,\u001b[0m \u001b[0msession\u001b[0m\u001b[1;33m=\u001b[0m\u001b[1;32mTrue\u001b[0m\u001b[1;33m)\u001b[0m\u001b[1;33m\u001b[0m\u001b[1;33m\u001b[0m\u001b[0m\n\u001b[0m\u001b[0;32m      2\u001b[0m \u001b[0msm_client\u001b[0m \u001b[1;33m=\u001b[0m \u001b[0mboto_sess\u001b[0m\u001b[1;33m.\u001b[0m\u001b[0mclient\u001b[0m\u001b[1;33m(\u001b[0m\u001b[1;34m'sagemaker'\u001b[0m\u001b[1;33m)\u001b[0m\u001b[1;33m\u001b[0m\u001b[1;33m\u001b[0m\u001b[0m\n",
      "\u001b[1;31mNameError\u001b[0m: name 'aws_connect' is not defined"
     ]
    }
   ],
   "source": [
    "_, s3, boto_sess = aws_connect('s3', 'lw2134', session=True)\n",
    "sm_client = boto_sess.client('sagemaker')"
   ]
  },
  {
   "cell_type": "code",
   "execution_count": 21,
   "metadata": {},
   "outputs": [],
   "source": [
    "#sagemaker_session = sagemaker.Session(boto_session=boto_sess)\n",
    "role = 'arn:aws:iam::553371509391:role/magicml-sagemaker'\n",
    "image_uri = '763104351884.dkr.ecr.us-east-1.amazonaws.com/tensorflow-training:2.3.1-cpu-py37-ubuntu18.04'\n",
    "\n",
    "model_bucket = 'magicml-models.dev'\n",
    "model_prefix = 'use-large'\n",
    "model_data = 's3://{}/{}/model.tar.gz'.format(model_bucket, model_prefix)\n",
    "\n",
    "input_bucket = 'magicml-clean-data.dev'\n",
    "input_prefix = 'cards'\n",
    "input_data = 's3://{}/{}/cards.csv'.format(input_bucket, input_prefix)\n",
    "\n",
    "src_bucket = 'magicml-src.dev'\n",
    "src_prefix = 'sm_processing'\n",
    "src_code = 's3://{}/{}/process_embeddings.py'.format(src_bucket, src_prefix)\n",
    "\n",
    "output_bucket = 'magicml-inference.dev'\n",
    "output_prefix = 'use-large'\n",
    "output_data = 's3://{}/{}'.format(output_bucket, output_prefix)"
   ]
  },
  {
   "cell_type": "code",
   "execution_count": 18,
   "metadata": {},
   "outputs": [],
   "source": [
    "s3.upload_file('../services/similarity/src/process_embeddings.py', 'magicml-src.dev', 'sm_processing/process_embeddings.py')"
   ]
  },
  {
   "cell_type": "code",
   "execution_count": 24,
   "metadata": {},
   "outputs": [],
   "source": [
    "import datetime"
   ]
  },
  {
   "cell_type": "code",
   "execution_count": 30,
   "metadata": {},
   "outputs": [
    {
     "output_type": "execute_result",
     "data": {
      "text/plain": [
       "'2020-25-12-01-48-25'"
      ]
     },
     "metadata": {},
     "execution_count": 30
    }
   ],
   "source": [
    "now = datetime.datetime.now().strftime(format='%Y-%d-%m-%H-%M-%S')\n",
    "now"
   ]
  },
  {
   "cell_type": "code",
   "execution_count": 31,
   "metadata": {},
   "outputs": [
    {
     "output_type": "execute_result",
     "data": {
      "text/plain": [
       "{'ProcessingJobArn': 'arn:aws:sagemaker:us-east-1:553371509391:processing-job/use-large-embeddings-2020-25-12-01-48-25',\n",
       " 'ResponseMetadata': {'RequestId': 'd6479411-03f0-4e78-b0ff-b5575e855867',\n",
       "  'HTTPStatusCode': 200,\n",
       "  'HTTPHeaders': {'x-amzn-requestid': 'd6479411-03f0-4e78-b0ff-b5575e855867',\n",
       "   'content-type': 'application/x-amz-json-1.1',\n",
       "   'content-length': '119',\n",
       "   'date': 'Fri, 25 Dec 2020 06:48:13 GMT'},\n",
       "  'RetryAttempts': 0}}"
      ]
     },
     "metadata": {},
     "execution_count": 31
    }
   ],
   "source": [
    "sm_client.create_processing_job(\n",
    "    ProcessingJobName='use-large-embeddings-{}'.format(now),\n",
    "    RoleArn=role,\n",
    "    StoppingCondition={\n",
    "        'MaxRuntimeInSeconds': 7200\n",
    "    },\n",
    "    AppSpecification={\n",
    "        'ImageUri': image_uri,\n",
    "        'ContainerEntrypoint': [\n",
    "            'python3',\n",
    "            '-v',\n",
    "            '/opt/ml/processing/input/code/process_embeddings.py'\n",
    "        ]\n",
    "    },\n",
    "    ProcessingResources={\n",
    "        'ClusterConfig': {\n",
    "            'InstanceCount': 1,\n",
    "            'InstanceType': 'ml.m5.2xlarge',\n",
    "            'VolumeSizeInGB': 30\n",
    "        }\n",
    "    },\n",
    "    ProcessingInputs=[\n",
    "        {\n",
    "            'InputName': 'model',\n",
    "            'S3Input': {\n",
    "                'S3Uri': model_data,\n",
    "                'LocalPath': '/opt/ml/processing/model',\n",
    "                'S3DataType': 'S3Prefix',\n",
    "                'S3InputMode': 'File',\n",
    "                'S3DataDistributionType': 'FullyReplicated'\n",
    "            }\n",
    "        },\n",
    "        {\n",
    "            'InputName': 'cards',\n",
    "            'S3Input': {\n",
    "                'S3Uri': input_data,\n",
    "                'LocalPath': '/opt/ml/processing/input',\n",
    "                'S3DataType': 'S3Prefix',\n",
    "                'S3InputMode': 'File',\n",
    "                'S3DataDistributionType': 'FullyReplicated',\n",
    "            }\n",
    "        },\n",
    "        {\n",
    "            'InputName': 'code',\n",
    "            'S3Input': {\n",
    "                'S3Uri': src_code,\n",
    "                'LocalPath': '/opt/ml/processing/input/code',\n",
    "                'S3DataType': 'S3Prefix',\n",
    "                'S3InputMode': 'File',\n",
    "                'S3DataDistributionType': 'FullyReplicated'\n",
    "            }\n",
    "        }\n",
    "    ],\n",
    "    ProcessingOutputConfig={\n",
    "        'Outputs': [\n",
    "            {\n",
    "                'OutputName': 'embeddings',\n",
    "                'S3Output': {\n",
    "                    'S3Uri': output_data,\n",
    "                    'LocalPath': '/opt/ml/processing/output',\n",
    "                    'S3UploadMode': 'EndOfJob'\n",
    "                }\n",
    "            }\n",
    "        ]\n",
    "    }\n",
    ")"
   ]
  },
  {
   "source": [
    "# Free Text Search Lambda - Get Embedding, Sort, Merge, and Return (maybe cache in Dynamo)"
   ],
   "cell_type": "markdown",
   "metadata": {}
  },
  {
   "cell_type": "code",
   "execution_count": 2,
   "metadata": {},
   "outputs": [],
   "source": [
    "from boto3.session import Session\n",
    "\n",
    "def aws_connect(service, profile='default', session=False):\n",
    "    # Connect to AWS with IAM Role\n",
    "    sess = Session(profile_name=profile)\n",
    "\n",
    "    try:\n",
    "        resource = sess.resource(service)\n",
    "        client = resource.meta.client\n",
    "\n",
    "        if session:\n",
    "            return resource, client, sess\n",
    "        else:\n",
    "            return resource, client\n",
    "    except:\n",
    "        client = sess.client(service)\n",
    "\n",
    "        if session:\n",
    "            return client, sess\n",
    "        else:\n",
    "            return client"
   ]
  },
  {
   "cell_type": "code",
   "execution_count": 3,
   "metadata": {},
   "outputs": [],
   "source": [
    "import os\n",
    "import json\n",
    "import pathlib\n",
    "import tarfile\n",
    "import boto3\n",
    "import numpy as np\n",
    "import pandas as pd\n",
    "import tensorflow as tf"
   ]
  },
  {
   "cell_type": "code",
   "execution_count": 6,
   "metadata": {},
   "outputs": [],
   "source": [
    "_, s3, boto_sess = aws_connect('s3', 'lw2134', session=True)"
   ]
  },
  {
   "cell_type": "code",
   "execution_count": 7,
   "metadata": {},
   "outputs": [],
   "source": [
    "# Cards\n",
    "s3.download_file('magicml-clean-data.prod', 'cards/cards.csv', 'cardsS3.csv')"
   ]
  },
  {
   "cell_type": "code",
   "execution_count": 4,
   "metadata": {},
   "outputs": [],
   "source": [
    "# Embeddings\n",
    "s3.download_file('magicml-inference.prod', 'use-large/arena_embeddings.csv', 'embeddings.csv')"
   ]
  },
  {
   "cell_type": "code",
   "execution_count": 5,
   "metadata": {},
   "outputs": [],
   "source": [
    "# Load Model\n",
    "use_embed = tf.saved_model.load('../services/models/use-large/1')"
   ]
  },
  {
   "cell_type": "code",
   "execution_count": 14,
   "metadata": {},
   "outputs": [],
   "source": [
    "merge_cols = [\n",
    "    'Names','id','mtgArenaId','scryfallId','name','colors','setName',\n",
    "    'convertedManaCost','manaCost','loyalty','power','toughness',\n",
    "    'type','types','subtypes','text','image_urls',\n",
    "    'brawl','commander','duel','future','historic','legacy','modern',\n",
    "    'oldschool','pauper','penny','pioneer','standard','vintage'\n",
    "  ]"
   ]
  },
  {
   "cell_type": "code",
   "execution_count": 15,
   "metadata": {},
   "outputs": [
    {
     "output_type": "execute_result",
     "data": {
      "text/plain": [
       "                        Names    id mtgArenaId  \\\n",
       "0  Archon_of_Sun's_Grace-4754  4754      74983   \n",
       "1        Banishing_Light-4755  4755      74986   \n",
       "\n",
       "                             scryfallId                   name colors  \\\n",
       "0  94f05268-0d4f-4638-aec3-a85fc339e3a7  Archon of Sun's Grace      W   \n",
       "1  ca112bae-6ac5-4cdf-9e8c-1b99f7396995        Banishing Light      W   \n",
       "\n",
       "                      setName  convertedManaCost   manaCost loyalty  ...  \\\n",
       "0  Jumpstart Arena Exclusives                4.0  {2}{W}{W}       0  ...   \n",
       "1  Jumpstart Arena Exclusives                3.0     {2}{W}       0  ...   \n",
       "\n",
       "  future historic legacy modern oldschool pauper  penny pioneer standard  \\\n",
       "0  Legal    Legal  Legal  Legal     Blank  Blank  Blank   Legal    Legal   \n",
       "1  Legal    Legal  Legal  Legal     Blank  Blank  Legal   Legal    Legal   \n",
       "\n",
       "  vintage  \n",
       "0   Legal  \n",
       "1   Legal  \n",
       "\n",
       "[2 rows x 30 columns]"
      ],
      "text/html": "<div>\n<style scoped>\n    .dataframe tbody tr th:only-of-type {\n        vertical-align: middle;\n    }\n\n    .dataframe tbody tr th {\n        vertical-align: top;\n    }\n\n    .dataframe thead th {\n        text-align: right;\n    }\n</style>\n<table border=\"1\" class=\"dataframe\">\n  <thead>\n    <tr style=\"text-align: right;\">\n      <th></th>\n      <th>Names</th>\n      <th>id</th>\n      <th>mtgArenaId</th>\n      <th>scryfallId</th>\n      <th>name</th>\n      <th>colors</th>\n      <th>setName</th>\n      <th>convertedManaCost</th>\n      <th>manaCost</th>\n      <th>loyalty</th>\n      <th>...</th>\n      <th>future</th>\n      <th>historic</th>\n      <th>legacy</th>\n      <th>modern</th>\n      <th>oldschool</th>\n      <th>pauper</th>\n      <th>penny</th>\n      <th>pioneer</th>\n      <th>standard</th>\n      <th>vintage</th>\n    </tr>\n  </thead>\n  <tbody>\n    <tr>\n      <th>0</th>\n      <td>Archon_of_Sun's_Grace-4754</td>\n      <td>4754</td>\n      <td>74983</td>\n      <td>94f05268-0d4f-4638-aec3-a85fc339e3a7</td>\n      <td>Archon of Sun's Grace</td>\n      <td>W</td>\n      <td>Jumpstart Arena Exclusives</td>\n      <td>4.0</td>\n      <td>{2}{W}{W}</td>\n      <td>0</td>\n      <td>...</td>\n      <td>Legal</td>\n      <td>Legal</td>\n      <td>Legal</td>\n      <td>Legal</td>\n      <td>Blank</td>\n      <td>Blank</td>\n      <td>Blank</td>\n      <td>Legal</td>\n      <td>Legal</td>\n      <td>Legal</td>\n    </tr>\n    <tr>\n      <th>1</th>\n      <td>Banishing_Light-4755</td>\n      <td>4755</td>\n      <td>74986</td>\n      <td>ca112bae-6ac5-4cdf-9e8c-1b99f7396995</td>\n      <td>Banishing Light</td>\n      <td>W</td>\n      <td>Jumpstart Arena Exclusives</td>\n      <td>3.0</td>\n      <td>{2}{W}</td>\n      <td>0</td>\n      <td>...</td>\n      <td>Legal</td>\n      <td>Legal</td>\n      <td>Legal</td>\n      <td>Legal</td>\n      <td>Blank</td>\n      <td>Blank</td>\n      <td>Legal</td>\n      <td>Legal</td>\n      <td>Legal</td>\n      <td>Legal</td>\n    </tr>\n  </tbody>\n</table>\n<p>2 rows × 30 columns</p>\n</div>"
     },
     "metadata": {},
     "execution_count": 15
    }
   ],
   "source": [
    "# Get all embeddings\n",
    "cards_df = pd.read_csv('cardsS3.csv')\\\n",
    "    .assign(Names=lambda df: df.name + '-' + df.id.astype('str'))\\\n",
    "    .assign(Names=lambda df: df.Names.apply(lambda x: x.replace(' ', '_').replace('//', 'II')))\\\n",
    "    .fillna('0')\\\n",
    "    [merge_cols]\n",
    "\n",
    "cards_txt = list(cards_df.text)\n",
    "cards_name = [\n",
    "(name + '-' + str(id_val)).replace(' ','_').replace('//', 'II') for name, id_val in zip(cards_df.name, cards_df.id)\n",
    "]\n",
    "\n",
    "cards_df.head(2)"
   ]
  },
  {
   "cell_type": "code",
   "execution_count": 23,
   "metadata": {},
   "outputs": [
    {
     "output_type": "execute_result",
     "data": {
      "text/plain": [
       "                                            Names colors  \\\n",
       "734                  Mysterious_Pathlighter-17783      W   \n",
       "2589                            Arachnoform-25109      G   \n",
       "2518  Egon,_God_of_Death_II_Throne_of_Death-25038      B   \n",
       "930                     Improbable_Alliance-17979    R,U   \n",
       "4857                      Shifting_Ceratops-40341      G   \n",
       "3245                      Windreader_Sphinx-29194      U   \n",
       "7623                      Jace,_Mirror_Mage-56116      U   \n",
       "3426                                 Plains-29375      0   \n",
       "273                        Khenra_Charioteer-5329    G,R   \n",
       "145                           Splendid_Agony-5201      B   \n",
       "\n",
       "                               type         types        subtypes  \n",
       "734               Creature — Faerie      Creature          Faerie  \n",
       "2589             Enchantment — Aura   Enchantment            Aura  \n",
       "2518             Legendary Artifact      Artifact               0  \n",
       "930                     Enchantment   Enchantment               0  \n",
       "4857            Creature — Dinosaur      Creature        Dinosaur  \n",
       "3245              Creature — Sphinx      Creature          Sphinx  \n",
       "7623  Legendary Planeswalker — Jace  Planeswalker            Jace  \n",
       "3426            Basic Land — Plains          Land          Plains  \n",
       "273       Creature — Jackal Warrior      Creature  Jackal,Warrior  \n",
       "145                         Instant       Instant               0  "
      ],
      "text/html": "<div>\n<style scoped>\n    .dataframe tbody tr th:only-of-type {\n        vertical-align: middle;\n    }\n\n    .dataframe tbody tr th {\n        vertical-align: top;\n    }\n\n    .dataframe thead th {\n        text-align: right;\n    }\n</style>\n<table border=\"1\" class=\"dataframe\">\n  <thead>\n    <tr style=\"text-align: right;\">\n      <th></th>\n      <th>Names</th>\n      <th>colors</th>\n      <th>type</th>\n      <th>types</th>\n      <th>subtypes</th>\n    </tr>\n  </thead>\n  <tbody>\n    <tr>\n      <th>734</th>\n      <td>Mysterious_Pathlighter-17783</td>\n      <td>W</td>\n      <td>Creature — Faerie</td>\n      <td>Creature</td>\n      <td>Faerie</td>\n    </tr>\n    <tr>\n      <th>2589</th>\n      <td>Arachnoform-25109</td>\n      <td>G</td>\n      <td>Enchantment — Aura</td>\n      <td>Enchantment</td>\n      <td>Aura</td>\n    </tr>\n    <tr>\n      <th>2518</th>\n      <td>Egon,_God_of_Death_II_Throne_of_Death-25038</td>\n      <td>B</td>\n      <td>Legendary Artifact</td>\n      <td>Artifact</td>\n      <td>0</td>\n    </tr>\n    <tr>\n      <th>930</th>\n      <td>Improbable_Alliance-17979</td>\n      <td>R,U</td>\n      <td>Enchantment</td>\n      <td>Enchantment</td>\n      <td>0</td>\n    </tr>\n    <tr>\n      <th>4857</th>\n      <td>Shifting_Ceratops-40341</td>\n      <td>G</td>\n      <td>Creature — Dinosaur</td>\n      <td>Creature</td>\n      <td>Dinosaur</td>\n    </tr>\n    <tr>\n      <th>3245</th>\n      <td>Windreader_Sphinx-29194</td>\n      <td>U</td>\n      <td>Creature — Sphinx</td>\n      <td>Creature</td>\n      <td>Sphinx</td>\n    </tr>\n    <tr>\n      <th>7623</th>\n      <td>Jace,_Mirror_Mage-56116</td>\n      <td>U</td>\n      <td>Legendary Planeswalker — Jace</td>\n      <td>Planeswalker</td>\n      <td>Jace</td>\n    </tr>\n    <tr>\n      <th>3426</th>\n      <td>Plains-29375</td>\n      <td>0</td>\n      <td>Basic Land — Plains</td>\n      <td>Land</td>\n      <td>Plains</td>\n    </tr>\n    <tr>\n      <th>273</th>\n      <td>Khenra_Charioteer-5329</td>\n      <td>G,R</td>\n      <td>Creature — Jackal Warrior</td>\n      <td>Creature</td>\n      <td>Jackal,Warrior</td>\n    </tr>\n    <tr>\n      <th>145</th>\n      <td>Splendid_Agony-5201</td>\n      <td>B</td>\n      <td>Instant</td>\n      <td>Instant</td>\n      <td>0</td>\n    </tr>\n  </tbody>\n</table>\n</div>"
     },
     "metadata": {},
     "execution_count": 23
    }
   ],
   "source": [
    "cards_df[['Names','colors','type','types','subtypes']].sample(10)"
   ]
  },
  {
   "cell_type": "code",
   "execution_count": 103,
   "metadata": {},
   "outputs": [
    {
     "output_type": "stream",
     "name": "stdout",
     "text": [
      "Unique colors: 36\nUnique basic type: 10\nUnique subtypes: 605\nUnique fulltype: 796\nUnique cls: 146\n"
     ]
    },
    {
     "output_type": "execute_result",
     "data": {
      "text/plain": [
       "                               Names colors   manaCost              types  \\\n",
       "7517             Needle_Spires-56010      0          0               Land   \n",
       "6820          Ahn-Crop_Invader-53765      R     {2}{R}           Creature   \n",
       "2022        Knight_of_the_Tusk-24172      W  {4}{W}{W}           Creature   \n",
       "7647           Tazeem_Roilmage-56140      U     {1}{U}           Creature   \n",
       "1940  Lightning-Core_Excavator-24090      0        {1}  Artifact,Creature   \n",
       "\n",
       "                                    type                 subtypes  \\\n",
       "7517                                Land                        0   \n",
       "6820  Creature — Zombie Minotaur Warrior  Zombie,Minotaur,Warrior   \n",
       "2022             Creature — Human Knight             Human,Knight   \n",
       "7647           Creature — Merfolk Wizard           Merfolk,Wizard   \n",
       "1940           Artifact Creature — Golem                    Golem   \n",
       "\n",
       "                        cls  \n",
       "7517               0 - Land  \n",
       "6820           R - Creature  \n",
       "2022           W - Creature  \n",
       "7647           U - Creature  \n",
       "1940  0 - Artifact,Creature  "
      ],
      "text/html": "<div>\n<style scoped>\n    .dataframe tbody tr th:only-of-type {\n        vertical-align: middle;\n    }\n\n    .dataframe tbody tr th {\n        vertical-align: top;\n    }\n\n    .dataframe thead th {\n        text-align: right;\n    }\n</style>\n<table border=\"1\" class=\"dataframe\">\n  <thead>\n    <tr style=\"text-align: right;\">\n      <th></th>\n      <th>Names</th>\n      <th>colors</th>\n      <th>manaCost</th>\n      <th>types</th>\n      <th>type</th>\n      <th>subtypes</th>\n      <th>cls</th>\n    </tr>\n  </thead>\n  <tbody>\n    <tr>\n      <th>7517</th>\n      <td>Needle_Spires-56010</td>\n      <td>0</td>\n      <td>0</td>\n      <td>Land</td>\n      <td>Land</td>\n      <td>0</td>\n      <td>0 - Land</td>\n    </tr>\n    <tr>\n      <th>6820</th>\n      <td>Ahn-Crop_Invader-53765</td>\n      <td>R</td>\n      <td>{2}{R}</td>\n      <td>Creature</td>\n      <td>Creature — Zombie Minotaur Warrior</td>\n      <td>Zombie,Minotaur,Warrior</td>\n      <td>R - Creature</td>\n    </tr>\n    <tr>\n      <th>2022</th>\n      <td>Knight_of_the_Tusk-24172</td>\n      <td>W</td>\n      <td>{4}{W}{W}</td>\n      <td>Creature</td>\n      <td>Creature — Human Knight</td>\n      <td>Human,Knight</td>\n      <td>W - Creature</td>\n    </tr>\n    <tr>\n      <th>7647</th>\n      <td>Tazeem_Roilmage-56140</td>\n      <td>U</td>\n      <td>{1}{U}</td>\n      <td>Creature</td>\n      <td>Creature — Merfolk Wizard</td>\n      <td>Merfolk,Wizard</td>\n      <td>U - Creature</td>\n    </tr>\n    <tr>\n      <th>1940</th>\n      <td>Lightning-Core_Excavator-24090</td>\n      <td>0</td>\n      <td>{1}</td>\n      <td>Artifact,Creature</td>\n      <td>Artifact Creature — Golem</td>\n      <td>Golem</td>\n      <td>0 - Artifact,Creature</td>\n    </tr>\n  </tbody>\n</table>\n</div>"
     },
     "metadata": {},
     "execution_count": 103
    }
   ],
   "source": [
    "train_df = cards_df[['Names','colors','manaCost','types','type','subtypes']]\\\n",
    "    .assign(cls=lambda df: df.colors + ' - ' + df.types)\n",
    "\n",
    "print('Unique colors: {}'.format(train_df.colors.nunique()))\n",
    "print('Unique basic type: {}'.format(train_df.types.nunique()))\n",
    "print('Unique subtypes: {}'.format(train_df.subtypes.nunique()))\n",
    "print('Unique fulltype: {}'.format(train_df.type.nunique()))\n",
    "print('Unique cls: {}'.format(train_df.cls.nunique()))\n",
    "train_df.sample(5)"
   ]
  },
  {
   "cell_type": "code",
   "execution_count": 97,
   "metadata": {},
   "outputs": [
    {
     "output_type": "execute_result",
     "data": {
      "text/plain": [
       "237"
      ]
     },
     "metadata": {},
     "execution_count": 97
    }
   ],
   "source": [
    "subtypes = [_ for _ in list(set('-'.join(train_df.subtypes.unique()).replace(',','-').split('-')))]\n",
    "len(subtypes)"
   ]
  },
  {
   "cell_type": "code",
   "execution_count": 99,
   "metadata": {},
   "outputs": [
    {
     "output_type": "execute_result",
     "data": {
      "text/plain": [
       "10"
      ]
     },
     "metadata": {},
     "execution_count": 99
    }
   ],
   "source": [
    "train_df.types.nunique()"
   ]
  },
  {
   "cell_type": "code",
   "execution_count": 100,
   "metadata": {},
   "outputs": [
    {
     "output_type": "execute_result",
     "data": {
      "text/plain": [
       "<AxesSubplot:>"
      ]
     },
     "metadata": {},
     "execution_count": 100
    },
    {
     "output_type": "display_data",
     "data": {
      "text/plain": "<Figure size 1296x648 with 1 Axes>",
      "image/svg+xml": "<?xml version=\"1.0\" encoding=\"utf-8\" standalone=\"no\"?>\r\n<!DOCTYPE svg PUBLIC \"-//W3C//DTD SVG 1.1//EN\"\r\n  \"http://www.w3.org/Graphics/SVG/1.1/DTD/svg11.dtd\">\r\n<!-- Created with matplotlib (https://matplotlib.org/) -->\r\n<svg height=\"520.318125pt\" version=\"1.1\" viewBox=\"0 0 1051.25 520.318125\" width=\"1051.25pt\" xmlns=\"http://www.w3.org/2000/svg\" xmlns:xlink=\"http://www.w3.org/1999/xlink\">\r\n <metadata>\r\n  <rdf:RDF xmlns:cc=\"http://creativecommons.org/ns#\" xmlns:dc=\"http://purl.org/dc/elements/1.1/\" xmlns:rdf=\"http://www.w3.org/1999/02/22-rdf-syntax-ns#\">\r\n   <cc:Work>\r\n    <dc:type rdf:resource=\"http://purl.org/dc/dcmitype/StillImage\"/>\r\n    <dc:date>2021-05-02T16:15:25.957477</dc:date>\r\n    <dc:format>image/svg+xml</dc:format>\r\n    <dc:creator>\r\n     <cc:Agent>\r\n      <dc:title>Matplotlib v3.3.3, https://matplotlib.org/</dc:title>\r\n     </cc:Agent>\r\n    </dc:creator>\r\n   </cc:Work>\r\n  </rdf:RDF>\r\n </metadata>\r\n <defs>\r\n  <style type=\"text/css\">*{stroke-linecap:butt;stroke-linejoin:round;}</style>\r\n </defs>\r\n <g id=\"figure_1\">\r\n  <g id=\"patch_1\">\r\n   <path d=\"M 0 520.318125 \r\nL 1051.25 520.318125 \r\nL 1051.25 0 \r\nL 0 0 \r\nz\r\n\" style=\"fill:none;\"/>\r\n  </g>\r\n  <g id=\"axes_1\">\r\n   <g id=\"patch_2\">\r\n    <path d=\"M 39.65 496.44 \r\nL 1044.05 496.44 \r\nL 1044.05 7.2 \r\nL 39.65 7.2 \r\nz\r\n\" style=\"fill:#ffffff;\"/>\r\n   </g>\r\n   <g id=\"patch_3\">\r\n    <path clip-path=\"url(#p3e51c46a33)\" d=\"M 85.304545 496.44 \r\nL 176.613636 496.44 \r\nL 176.613636 30.497143 \r\nL 85.304545 30.497143 \r\nz\r\n\" style=\"fill:#1f77b4;\"/>\r\n   </g>\r\n   <g id=\"patch_4\">\r\n    <path clip-path=\"url(#p3e51c46a33)\" d=\"M 176.613636 496.44 \r\nL 267.922727 496.44 \r\nL 267.922727 412.662097 \r\nL 176.613636 412.662097 \r\nz\r\n\" style=\"fill:#1f77b4;\"/>\r\n   </g>\r\n   <g id=\"patch_5\">\r\n    <path clip-path=\"url(#p3e51c46a33)\" d=\"M 267.922727 496.44 \r\nL 359.231818 496.44 \r\nL 359.231818 384.481098 \r\nL 267.922727 384.481098 \r\nz\r\n\" style=\"fill:#1f77b4;\"/>\r\n   </g>\r\n   <g id=\"patch_6\">\r\n    <path clip-path=\"url(#p3e51c46a33)\" d=\"M 359.231818 496.44 \r\nL 450.540909 496.44 \r\nL 450.540909 387.413962 \r\nL 359.231818 387.413962 \r\nz\r\n\" style=\"fill:#1f77b4;\"/>\r\n   </g>\r\n   <g id=\"patch_7\">\r\n    <path clip-path=\"url(#p3e51c46a33)\" d=\"M 450.540909 496.44 \r\nL 541.85 496.44 \r\nL 541.85 450.5343 \r\nL 450.540909 450.5343 \r\nz\r\n\" style=\"fill:#1f77b4;\"/>\r\n   </g>\r\n   <g id=\"patch_8\">\r\n    <path clip-path=\"url(#p3e51c46a33)\" d=\"M 541.85 496.44 \r\nL 633.159091 496.44 \r\nL 633.159091 442.500802 \r\nL 541.85 442.500802 \r\nz\r\n\" style=\"fill:#1f77b4;\"/>\r\n   </g>\r\n   <g id=\"patch_9\">\r\n    <path clip-path=\"url(#p3e51c46a33)\" d=\"M 633.159091 496.44 \r\nL 724.468182 496.44 \r\nL 724.468182 475.654919 \r\nL 633.159091 475.654919 \r\nz\r\n\" style=\"fill:#1f77b4;\"/>\r\n   </g>\r\n   <g id=\"patch_10\">\r\n    <path clip-path=\"url(#p3e51c46a33)\" d=\"M 724.468182 496.44 \r\nL 815.777273 496.44 \r\nL 815.777273 381.03817 \r\nL 724.468182 381.03817 \r\nz\r\n\" style=\"fill:#1f77b4;\"/>\r\n   </g>\r\n   <g id=\"patch_11\">\r\n    <path clip-path=\"url(#p3e51c46a33)\" d=\"M 815.777273 496.44 \r\nL 907.086364 496.44 \r\nL 907.086364 483.433385 \r\nL 815.777273 483.433385 \r\nz\r\n\" style=\"fill:#1f77b4;\"/>\r\n   </g>\r\n   <g id=\"patch_12\">\r\n    <path clip-path=\"url(#p3e51c46a33)\" d=\"M 907.086364 496.44 \r\nL 998.395455 496.44 \r\nL 998.395455 496.312484 \r\nL 907.086364 496.312484 \r\nz\r\n\" style=\"fill:#1f77b4;\"/>\r\n   </g>\r\n   <g id=\"matplotlib.axis_1\">\r\n    <g id=\"xtick_1\">\r\n     <g id=\"line2d_1\">\r\n      <path clip-path=\"url(#p3e51c46a33)\" d=\"M 85.304545 496.44 \r\nL 85.304545 7.2 \r\n\" style=\"fill:none;stroke:#b0b0b0;stroke-linecap:square;stroke-width:0.8;\"/>\r\n     </g>\r\n     <g id=\"line2d_2\">\r\n      <defs>\r\n       <path d=\"M 0 0 \r\nL 0 3.5 \r\n\" id=\"ma7a1ffe410\" style=\"stroke:#000000;stroke-width:0.8;\"/>\r\n      </defs>\r\n      <g>\r\n       <use style=\"stroke:#000000;stroke-width:0.8;\" x=\"85.304545\" xlink:href=\"#ma7a1ffe410\" y=\"496.44\"/>\r\n      </g>\r\n     </g>\r\n     <g id=\"text_1\">\r\n      <!-- Creature -->\r\n      <g transform=\"translate(63.581108 511.038437)scale(0.1 -0.1)\">\r\n       <defs>\r\n        <path d=\"M 64.40625 67.28125 \r\nL 64.40625 56.890625 \r\nQ 59.421875 61.53125 53.78125 63.8125 \r\nQ 48.140625 66.109375 41.796875 66.109375 \r\nQ 29.296875 66.109375 22.65625 58.46875 \r\nQ 16.015625 50.828125 16.015625 36.375 \r\nQ 16.015625 21.96875 22.65625 14.328125 \r\nQ 29.296875 6.6875 41.796875 6.6875 \r\nQ 48.140625 6.6875 53.78125 8.984375 \r\nQ 59.421875 11.28125 64.40625 15.921875 \r\nL 64.40625 5.609375 \r\nQ 59.234375 2.09375 53.4375 0.328125 \r\nQ 47.65625 -1.421875 41.21875 -1.421875 \r\nQ 24.65625 -1.421875 15.125 8.703125 \r\nQ 5.609375 18.84375 5.609375 36.375 \r\nQ 5.609375 53.953125 15.125 64.078125 \r\nQ 24.65625 74.21875 41.21875 74.21875 \r\nQ 47.75 74.21875 53.53125 72.484375 \r\nQ 59.328125 70.75 64.40625 67.28125 \r\nz\r\n\" id=\"DejaVuSans-67\"/>\r\n        <path d=\"M 41.109375 46.296875 \r\nQ 39.59375 47.171875 37.8125 47.578125 \r\nQ 36.03125 48 33.890625 48 \r\nQ 26.265625 48 22.1875 43.046875 \r\nQ 18.109375 38.09375 18.109375 28.8125 \r\nL 18.109375 0 \r\nL 9.078125 0 \r\nL 9.078125 54.6875 \r\nL 18.109375 54.6875 \r\nL 18.109375 46.1875 \r\nQ 20.953125 51.171875 25.484375 53.578125 \r\nQ 30.03125 56 36.53125 56 \r\nQ 37.453125 56 38.578125 55.875 \r\nQ 39.703125 55.765625 41.0625 55.515625 \r\nz\r\n\" id=\"DejaVuSans-114\"/>\r\n        <path d=\"M 56.203125 29.59375 \r\nL 56.203125 25.203125 \r\nL 14.890625 25.203125 \r\nQ 15.484375 15.921875 20.484375 11.0625 \r\nQ 25.484375 6.203125 34.421875 6.203125 \r\nQ 39.59375 6.203125 44.453125 7.46875 \r\nQ 49.3125 8.734375 54.109375 11.28125 \r\nL 54.109375 2.78125 \r\nQ 49.265625 0.734375 44.1875 -0.34375 \r\nQ 39.109375 -1.421875 33.890625 -1.421875 \r\nQ 20.796875 -1.421875 13.15625 6.1875 \r\nQ 5.515625 13.8125 5.515625 26.8125 \r\nQ 5.515625 40.234375 12.765625 48.109375 \r\nQ 20.015625 56 32.328125 56 \r\nQ 43.359375 56 49.78125 48.890625 \r\nQ 56.203125 41.796875 56.203125 29.59375 \r\nz\r\nM 47.21875 32.234375 \r\nQ 47.125 39.59375 43.09375 43.984375 \r\nQ 39.0625 48.390625 32.421875 48.390625 \r\nQ 24.90625 48.390625 20.390625 44.140625 \r\nQ 15.875 39.890625 15.1875 32.171875 \r\nz\r\n\" id=\"DejaVuSans-101\"/>\r\n        <path d=\"M 34.28125 27.484375 \r\nQ 23.390625 27.484375 19.1875 25 \r\nQ 14.984375 22.515625 14.984375 16.5 \r\nQ 14.984375 11.71875 18.140625 8.90625 \r\nQ 21.296875 6.109375 26.703125 6.109375 \r\nQ 34.1875 6.109375 38.703125 11.40625 \r\nQ 43.21875 16.703125 43.21875 25.484375 \r\nL 43.21875 27.484375 \r\nz\r\nM 52.203125 31.203125 \r\nL 52.203125 0 \r\nL 43.21875 0 \r\nL 43.21875 8.296875 \r\nQ 40.140625 3.328125 35.546875 0.953125 \r\nQ 30.953125 -1.421875 24.3125 -1.421875 \r\nQ 15.921875 -1.421875 10.953125 3.296875 \r\nQ 6 8.015625 6 15.921875 \r\nQ 6 25.140625 12.171875 29.828125 \r\nQ 18.359375 34.515625 30.609375 34.515625 \r\nL 43.21875 34.515625 \r\nL 43.21875 35.40625 \r\nQ 43.21875 41.609375 39.140625 45 \r\nQ 35.0625 48.390625 27.6875 48.390625 \r\nQ 23 48.390625 18.546875 47.265625 \r\nQ 14.109375 46.140625 10.015625 43.890625 \r\nL 10.015625 52.203125 \r\nQ 14.9375 54.109375 19.578125 55.046875 \r\nQ 24.21875 56 28.609375 56 \r\nQ 40.484375 56 46.34375 49.84375 \r\nQ 52.203125 43.703125 52.203125 31.203125 \r\nz\r\n\" id=\"DejaVuSans-97\"/>\r\n        <path d=\"M 18.3125 70.21875 \r\nL 18.3125 54.6875 \r\nL 36.8125 54.6875 \r\nL 36.8125 47.703125 \r\nL 18.3125 47.703125 \r\nL 18.3125 18.015625 \r\nQ 18.3125 11.328125 20.140625 9.421875 \r\nQ 21.96875 7.515625 27.59375 7.515625 \r\nL 36.8125 7.515625 \r\nL 36.8125 0 \r\nL 27.59375 0 \r\nQ 17.1875 0 13.234375 3.875 \r\nQ 9.28125 7.765625 9.28125 18.015625 \r\nL 9.28125 47.703125 \r\nL 2.6875 47.703125 \r\nL 2.6875 54.6875 \r\nL 9.28125 54.6875 \r\nL 9.28125 70.21875 \r\nz\r\n\" id=\"DejaVuSans-116\"/>\r\n        <path d=\"M 8.5 21.578125 \r\nL 8.5 54.6875 \r\nL 17.484375 54.6875 \r\nL 17.484375 21.921875 \r\nQ 17.484375 14.15625 20.5 10.265625 \r\nQ 23.53125 6.390625 29.59375 6.390625 \r\nQ 36.859375 6.390625 41.078125 11.03125 \r\nQ 45.3125 15.671875 45.3125 23.6875 \r\nL 45.3125 54.6875 \r\nL 54.296875 54.6875 \r\nL 54.296875 0 \r\nL 45.3125 0 \r\nL 45.3125 8.40625 \r\nQ 42.046875 3.421875 37.71875 1 \r\nQ 33.40625 -1.421875 27.6875 -1.421875 \r\nQ 18.265625 -1.421875 13.375 4.4375 \r\nQ 8.5 10.296875 8.5 21.578125 \r\nz\r\nM 31.109375 56 \r\nz\r\n\" id=\"DejaVuSans-117\"/>\r\n       </defs>\r\n       <use xlink:href=\"#DejaVuSans-67\"/>\r\n       <use x=\"69.824219\" xlink:href=\"#DejaVuSans-114\"/>\r\n       <use x=\"108.6875\" xlink:href=\"#DejaVuSans-101\"/>\r\n       <use x=\"170.210938\" xlink:href=\"#DejaVuSans-97\"/>\r\n       <use x=\"231.490234\" xlink:href=\"#DejaVuSans-116\"/>\r\n       <use x=\"270.699219\" xlink:href=\"#DejaVuSans-117\"/>\r\n       <use x=\"334.078125\" xlink:href=\"#DejaVuSans-114\"/>\r\n       <use x=\"372.941406\" xlink:href=\"#DejaVuSans-101\"/>\r\n      </g>\r\n     </g>\r\n    </g>\r\n    <g id=\"xtick_2\">\r\n     <g id=\"line2d_3\">\r\n      <path clip-path=\"url(#p3e51c46a33)\" d=\"M 186.759091 496.44 \r\nL 186.759091 7.2 \r\n\" style=\"fill:none;stroke:#b0b0b0;stroke-linecap:square;stroke-width:0.8;\"/>\r\n     </g>\r\n     <g id=\"line2d_4\">\r\n      <g>\r\n       <use style=\"stroke:#000000;stroke-width:0.8;\" x=\"186.759091\" xlink:href=\"#ma7a1ffe410\" y=\"496.44\"/>\r\n      </g>\r\n     </g>\r\n     <g id=\"text_2\">\r\n      <!-- Enchantment -->\r\n      <g transform=\"translate(153.244247 511.038437)scale(0.1 -0.1)\">\r\n       <defs>\r\n        <path d=\"M 9.8125 72.90625 \r\nL 55.90625 72.90625 \r\nL 55.90625 64.59375 \r\nL 19.671875 64.59375 \r\nL 19.671875 43.015625 \r\nL 54.390625 43.015625 \r\nL 54.390625 34.71875 \r\nL 19.671875 34.71875 \r\nL 19.671875 8.296875 \r\nL 56.78125 8.296875 \r\nL 56.78125 0 \r\nL 9.8125 0 \r\nz\r\n\" id=\"DejaVuSans-69\"/>\r\n        <path d=\"M 54.890625 33.015625 \r\nL 54.890625 0 \r\nL 45.90625 0 \r\nL 45.90625 32.71875 \r\nQ 45.90625 40.484375 42.875 44.328125 \r\nQ 39.84375 48.1875 33.796875 48.1875 \r\nQ 26.515625 48.1875 22.3125 43.546875 \r\nQ 18.109375 38.921875 18.109375 30.90625 \r\nL 18.109375 0 \r\nL 9.078125 0 \r\nL 9.078125 54.6875 \r\nL 18.109375 54.6875 \r\nL 18.109375 46.1875 \r\nQ 21.34375 51.125 25.703125 53.5625 \r\nQ 30.078125 56 35.796875 56 \r\nQ 45.21875 56 50.046875 50.171875 \r\nQ 54.890625 44.34375 54.890625 33.015625 \r\nz\r\n\" id=\"DejaVuSans-110\"/>\r\n        <path d=\"M 48.78125 52.59375 \r\nL 48.78125 44.1875 \r\nQ 44.96875 46.296875 41.140625 47.34375 \r\nQ 37.3125 48.390625 33.40625 48.390625 \r\nQ 24.65625 48.390625 19.8125 42.84375 \r\nQ 14.984375 37.3125 14.984375 27.296875 \r\nQ 14.984375 17.28125 19.8125 11.734375 \r\nQ 24.65625 6.203125 33.40625 6.203125 \r\nQ 37.3125 6.203125 41.140625 7.25 \r\nQ 44.96875 8.296875 48.78125 10.40625 \r\nL 48.78125 2.09375 \r\nQ 45.015625 0.34375 40.984375 -0.53125 \r\nQ 36.96875 -1.421875 32.421875 -1.421875 \r\nQ 20.0625 -1.421875 12.78125 6.34375 \r\nQ 5.515625 14.109375 5.515625 27.296875 \r\nQ 5.515625 40.671875 12.859375 48.328125 \r\nQ 20.21875 56 33.015625 56 \r\nQ 37.15625 56 41.109375 55.140625 \r\nQ 45.0625 54.296875 48.78125 52.59375 \r\nz\r\n\" id=\"DejaVuSans-99\"/>\r\n        <path d=\"M 54.890625 33.015625 \r\nL 54.890625 0 \r\nL 45.90625 0 \r\nL 45.90625 32.71875 \r\nQ 45.90625 40.484375 42.875 44.328125 \r\nQ 39.84375 48.1875 33.796875 48.1875 \r\nQ 26.515625 48.1875 22.3125 43.546875 \r\nQ 18.109375 38.921875 18.109375 30.90625 \r\nL 18.109375 0 \r\nL 9.078125 0 \r\nL 9.078125 75.984375 \r\nL 18.109375 75.984375 \r\nL 18.109375 46.1875 \r\nQ 21.34375 51.125 25.703125 53.5625 \r\nQ 30.078125 56 35.796875 56 \r\nQ 45.21875 56 50.046875 50.171875 \r\nQ 54.890625 44.34375 54.890625 33.015625 \r\nz\r\n\" id=\"DejaVuSans-104\"/>\r\n        <path d=\"M 52 44.1875 \r\nQ 55.375 50.25 60.0625 53.125 \r\nQ 64.75 56 71.09375 56 \r\nQ 79.640625 56 84.28125 50.015625 \r\nQ 88.921875 44.046875 88.921875 33.015625 \r\nL 88.921875 0 \r\nL 79.890625 0 \r\nL 79.890625 32.71875 \r\nQ 79.890625 40.578125 77.09375 44.375 \r\nQ 74.3125 48.1875 68.609375 48.1875 \r\nQ 61.625 48.1875 57.5625 43.546875 \r\nQ 53.515625 38.921875 53.515625 30.90625 \r\nL 53.515625 0 \r\nL 44.484375 0 \r\nL 44.484375 32.71875 \r\nQ 44.484375 40.625 41.703125 44.40625 \r\nQ 38.921875 48.1875 33.109375 48.1875 \r\nQ 26.21875 48.1875 22.15625 43.53125 \r\nQ 18.109375 38.875 18.109375 30.90625 \r\nL 18.109375 0 \r\nL 9.078125 0 \r\nL 9.078125 54.6875 \r\nL 18.109375 54.6875 \r\nL 18.109375 46.1875 \r\nQ 21.1875 51.21875 25.484375 53.609375 \r\nQ 29.78125 56 35.6875 56 \r\nQ 41.65625 56 45.828125 52.96875 \r\nQ 50 49.953125 52 44.1875 \r\nz\r\n\" id=\"DejaVuSans-109\"/>\r\n       </defs>\r\n       <use xlink:href=\"#DejaVuSans-69\"/>\r\n       <use x=\"63.183594\" xlink:href=\"#DejaVuSans-110\"/>\r\n       <use x=\"126.5625\" xlink:href=\"#DejaVuSans-99\"/>\r\n       <use x=\"181.542969\" xlink:href=\"#DejaVuSans-104\"/>\r\n       <use x=\"244.921875\" xlink:href=\"#DejaVuSans-97\"/>\r\n       <use x=\"306.201172\" xlink:href=\"#DejaVuSans-110\"/>\r\n       <use x=\"369.580078\" xlink:href=\"#DejaVuSans-116\"/>\r\n       <use x=\"408.789062\" xlink:href=\"#DejaVuSans-109\"/>\r\n       <use x=\"506.201172\" xlink:href=\"#DejaVuSans-101\"/>\r\n       <use x=\"567.724609\" xlink:href=\"#DejaVuSans-110\"/>\r\n       <use x=\"631.103516\" xlink:href=\"#DejaVuSans-116\"/>\r\n      </g>\r\n     </g>\r\n    </g>\r\n    <g id=\"xtick_3\">\r\n     <g id=\"line2d_5\">\r\n      <path clip-path=\"url(#p3e51c46a33)\" d=\"M 288.213636 496.44 \r\nL 288.213636 7.2 \r\n\" style=\"fill:none;stroke:#b0b0b0;stroke-linecap:square;stroke-width:0.8;\"/>\r\n     </g>\r\n     <g id=\"line2d_6\">\r\n      <g>\r\n       <use style=\"stroke:#000000;stroke-width:0.8;\" x=\"288.213636\" xlink:href=\"#ma7a1ffe410\" y=\"496.44\"/>\r\n      </g>\r\n     </g>\r\n     <g id=\"text_3\">\r\n      <!-- Sorcery -->\r\n      <g transform=\"translate(269.196449 511.038437)scale(0.1 -0.1)\">\r\n       <defs>\r\n        <path d=\"M 53.515625 70.515625 \r\nL 53.515625 60.890625 \r\nQ 47.90625 63.578125 42.921875 64.890625 \r\nQ 37.9375 66.21875 33.296875 66.21875 \r\nQ 25.25 66.21875 20.875 63.09375 \r\nQ 16.5 59.96875 16.5 54.203125 \r\nQ 16.5 49.359375 19.40625 46.890625 \r\nQ 22.3125 44.4375 30.421875 42.921875 \r\nL 36.375 41.703125 \r\nQ 47.40625 39.59375 52.65625 34.296875 \r\nQ 57.90625 29 57.90625 20.125 \r\nQ 57.90625 9.515625 50.796875 4.046875 \r\nQ 43.703125 -1.421875 29.984375 -1.421875 \r\nQ 24.8125 -1.421875 18.96875 -0.25 \r\nQ 13.140625 0.921875 6.890625 3.21875 \r\nL 6.890625 13.375 \r\nQ 12.890625 10.015625 18.65625 8.296875 \r\nQ 24.421875 6.59375 29.984375 6.59375 \r\nQ 38.421875 6.59375 43.015625 9.90625 \r\nQ 47.609375 13.234375 47.609375 19.390625 \r\nQ 47.609375 24.75 44.3125 27.78125 \r\nQ 41.015625 30.8125 33.5 32.328125 \r\nL 27.484375 33.5 \r\nQ 16.453125 35.6875 11.515625 40.375 \r\nQ 6.59375 45.0625 6.59375 53.421875 \r\nQ 6.59375 63.09375 13.40625 68.65625 \r\nQ 20.21875 74.21875 32.171875 74.21875 \r\nQ 37.3125 74.21875 42.625 73.28125 \r\nQ 47.953125 72.359375 53.515625 70.515625 \r\nz\r\n\" id=\"DejaVuSans-83\"/>\r\n        <path d=\"M 30.609375 48.390625 \r\nQ 23.390625 48.390625 19.1875 42.75 \r\nQ 14.984375 37.109375 14.984375 27.296875 \r\nQ 14.984375 17.484375 19.15625 11.84375 \r\nQ 23.34375 6.203125 30.609375 6.203125 \r\nQ 37.796875 6.203125 41.984375 11.859375 \r\nQ 46.1875 17.53125 46.1875 27.296875 \r\nQ 46.1875 37.015625 41.984375 42.703125 \r\nQ 37.796875 48.390625 30.609375 48.390625 \r\nz\r\nM 30.609375 56 \r\nQ 42.328125 56 49.015625 48.375 \r\nQ 55.71875 40.765625 55.71875 27.296875 \r\nQ 55.71875 13.875 49.015625 6.21875 \r\nQ 42.328125 -1.421875 30.609375 -1.421875 \r\nQ 18.84375 -1.421875 12.171875 6.21875 \r\nQ 5.515625 13.875 5.515625 27.296875 \r\nQ 5.515625 40.765625 12.171875 48.375 \r\nQ 18.84375 56 30.609375 56 \r\nz\r\n\" id=\"DejaVuSans-111\"/>\r\n        <path d=\"M 32.171875 -5.078125 \r\nQ 28.375 -14.84375 24.75 -17.8125 \r\nQ 21.140625 -20.796875 15.09375 -20.796875 \r\nL 7.90625 -20.796875 \r\nL 7.90625 -13.28125 \r\nL 13.1875 -13.28125 \r\nQ 16.890625 -13.28125 18.9375 -11.515625 \r\nQ 21 -9.765625 23.484375 -3.21875 \r\nL 25.09375 0.875 \r\nL 2.984375 54.6875 \r\nL 12.5 54.6875 \r\nL 29.59375 11.921875 \r\nL 46.6875 54.6875 \r\nL 56.203125 54.6875 \r\nz\r\n\" id=\"DejaVuSans-121\"/>\r\n       </defs>\r\n       <use xlink:href=\"#DejaVuSans-83\"/>\r\n       <use x=\"63.476562\" xlink:href=\"#DejaVuSans-111\"/>\r\n       <use x=\"124.658203\" xlink:href=\"#DejaVuSans-114\"/>\r\n       <use x=\"163.521484\" xlink:href=\"#DejaVuSans-99\"/>\r\n       <use x=\"218.501953\" xlink:href=\"#DejaVuSans-101\"/>\r\n       <use x=\"280.025391\" xlink:href=\"#DejaVuSans-114\"/>\r\n       <use x=\"321.138672\" xlink:href=\"#DejaVuSans-121\"/>\r\n      </g>\r\n     </g>\r\n    </g>\r\n    <g id=\"xtick_4\">\r\n     <g id=\"line2d_7\">\r\n      <path clip-path=\"url(#p3e51c46a33)\" d=\"M 389.668182 496.44 \r\nL 389.668182 7.2 \r\n\" style=\"fill:none;stroke:#b0b0b0;stroke-linecap:square;stroke-width:0.8;\"/>\r\n     </g>\r\n     <g id=\"line2d_8\">\r\n      <g>\r\n       <use style=\"stroke:#000000;stroke-width:0.8;\" x=\"389.668182\" xlink:href=\"#ma7a1ffe410\" y=\"496.44\"/>\r\n      </g>\r\n     </g>\r\n     <g id=\"text_4\">\r\n      <!-- Instant -->\r\n      <g transform=\"translate(372.266619 511.038437)scale(0.1 -0.1)\">\r\n       <defs>\r\n        <path d=\"M 9.8125 72.90625 \r\nL 19.671875 72.90625 \r\nL 19.671875 0 \r\nL 9.8125 0 \r\nz\r\n\" id=\"DejaVuSans-73\"/>\r\n        <path d=\"M 44.28125 53.078125 \r\nL 44.28125 44.578125 \r\nQ 40.484375 46.53125 36.375 47.5 \r\nQ 32.28125 48.484375 27.875 48.484375 \r\nQ 21.1875 48.484375 17.84375 46.4375 \r\nQ 14.5 44.390625 14.5 40.28125 \r\nQ 14.5 37.15625 16.890625 35.375 \r\nQ 19.28125 33.59375 26.515625 31.984375 \r\nL 29.59375 31.296875 \r\nQ 39.15625 29.25 43.1875 25.515625 \r\nQ 47.21875 21.78125 47.21875 15.09375 \r\nQ 47.21875 7.46875 41.1875 3.015625 \r\nQ 35.15625 -1.421875 24.609375 -1.421875 \r\nQ 20.21875 -1.421875 15.453125 -0.5625 \r\nQ 10.6875 0.296875 5.421875 2 \r\nL 5.421875 11.28125 \r\nQ 10.40625 8.6875 15.234375 7.390625 \r\nQ 20.0625 6.109375 24.8125 6.109375 \r\nQ 31.15625 6.109375 34.5625 8.28125 \r\nQ 37.984375 10.453125 37.984375 14.40625 \r\nQ 37.984375 18.0625 35.515625 20.015625 \r\nQ 33.0625 21.96875 24.703125 23.78125 \r\nL 21.578125 24.515625 \r\nQ 13.234375 26.265625 9.515625 29.90625 \r\nQ 5.8125 33.546875 5.8125 39.890625 \r\nQ 5.8125 47.609375 11.28125 51.796875 \r\nQ 16.75 56 26.8125 56 \r\nQ 31.78125 56 36.171875 55.265625 \r\nQ 40.578125 54.546875 44.28125 53.078125 \r\nz\r\n\" id=\"DejaVuSans-115\"/>\r\n       </defs>\r\n       <use xlink:href=\"#DejaVuSans-73\"/>\r\n       <use x=\"29.492188\" xlink:href=\"#DejaVuSans-110\"/>\r\n       <use x=\"92.871094\" xlink:href=\"#DejaVuSans-115\"/>\r\n       <use x=\"144.970703\" xlink:href=\"#DejaVuSans-116\"/>\r\n       <use x=\"184.179688\" xlink:href=\"#DejaVuSans-97\"/>\r\n       <use x=\"245.458984\" xlink:href=\"#DejaVuSans-110\"/>\r\n       <use x=\"308.837891\" xlink:href=\"#DejaVuSans-116\"/>\r\n      </g>\r\n     </g>\r\n    </g>\r\n    <g id=\"xtick_5\">\r\n     <g id=\"line2d_9\">\r\n      <path clip-path=\"url(#p3e51c46a33)\" d=\"M 491.122727 496.44 \r\nL 491.122727 7.2 \r\n\" style=\"fill:none;stroke:#b0b0b0;stroke-linecap:square;stroke-width:0.8;\"/>\r\n     </g>\r\n     <g id=\"line2d_10\">\r\n      <g>\r\n       <use style=\"stroke:#000000;stroke-width:0.8;\" x=\"491.122727\" xlink:href=\"#ma7a1ffe410\" y=\"496.44\"/>\r\n      </g>\r\n     </g>\r\n     <g id=\"text_5\">\r\n      <!-- Planeswalker -->\r\n      <g transform=\"translate(458.416477 511.038437)scale(0.1 -0.1)\">\r\n       <defs>\r\n        <path d=\"M 19.671875 64.796875 \r\nL 19.671875 37.40625 \r\nL 32.078125 37.40625 \r\nQ 38.96875 37.40625 42.71875 40.96875 \r\nQ 46.484375 44.53125 46.484375 51.125 \r\nQ 46.484375 57.671875 42.71875 61.234375 \r\nQ 38.96875 64.796875 32.078125 64.796875 \r\nz\r\nM 9.8125 72.90625 \r\nL 32.078125 72.90625 \r\nQ 44.34375 72.90625 50.609375 67.359375 \r\nQ 56.890625 61.8125 56.890625 51.125 \r\nQ 56.890625 40.328125 50.609375 34.8125 \r\nQ 44.34375 29.296875 32.078125 29.296875 \r\nL 19.671875 29.296875 \r\nL 19.671875 0 \r\nL 9.8125 0 \r\nz\r\n\" id=\"DejaVuSans-80\"/>\r\n        <path d=\"M 9.421875 75.984375 \r\nL 18.40625 75.984375 \r\nL 18.40625 0 \r\nL 9.421875 0 \r\nz\r\n\" id=\"DejaVuSans-108\"/>\r\n        <path d=\"M 4.203125 54.6875 \r\nL 13.1875 54.6875 \r\nL 24.421875 12.015625 \r\nL 35.59375 54.6875 \r\nL 46.1875 54.6875 \r\nL 57.421875 12.015625 \r\nL 68.609375 54.6875 \r\nL 77.59375 54.6875 \r\nL 63.28125 0 \r\nL 52.6875 0 \r\nL 40.921875 44.828125 \r\nL 29.109375 0 \r\nL 18.5 0 \r\nz\r\n\" id=\"DejaVuSans-119\"/>\r\n        <path d=\"M 9.078125 75.984375 \r\nL 18.109375 75.984375 \r\nL 18.109375 31.109375 \r\nL 44.921875 54.6875 \r\nL 56.390625 54.6875 \r\nL 27.390625 29.109375 \r\nL 57.625 0 \r\nL 45.90625 0 \r\nL 18.109375 26.703125 \r\nL 18.109375 0 \r\nL 9.078125 0 \r\nz\r\n\" id=\"DejaVuSans-107\"/>\r\n       </defs>\r\n       <use xlink:href=\"#DejaVuSans-80\"/>\r\n       <use x=\"60.302734\" xlink:href=\"#DejaVuSans-108\"/>\r\n       <use x=\"88.085938\" xlink:href=\"#DejaVuSans-97\"/>\r\n       <use x=\"149.365234\" xlink:href=\"#DejaVuSans-110\"/>\r\n       <use x=\"212.744141\" xlink:href=\"#DejaVuSans-101\"/>\r\n       <use x=\"274.267578\" xlink:href=\"#DejaVuSans-115\"/>\r\n       <use x=\"326.367188\" xlink:href=\"#DejaVuSans-119\"/>\r\n       <use x=\"408.154297\" xlink:href=\"#DejaVuSans-97\"/>\r\n       <use x=\"469.433594\" xlink:href=\"#DejaVuSans-108\"/>\r\n       <use x=\"497.216797\" xlink:href=\"#DejaVuSans-107\"/>\r\n       <use x=\"551.501953\" xlink:href=\"#DejaVuSans-101\"/>\r\n       <use x=\"613.025391\" xlink:href=\"#DejaVuSans-114\"/>\r\n      </g>\r\n     </g>\r\n    </g>\r\n    <g id=\"xtick_6\">\r\n     <g id=\"line2d_11\">\r\n      <path clip-path=\"url(#p3e51c46a33)\" d=\"M 592.577273 496.44 \r\nL 592.577273 7.2 \r\n\" style=\"fill:none;stroke:#b0b0b0;stroke-linecap:square;stroke-width:0.8;\"/>\r\n     </g>\r\n     <g id=\"line2d_12\">\r\n      <g>\r\n       <use style=\"stroke:#000000;stroke-width:0.8;\" x=\"592.577273\" xlink:href=\"#ma7a1ffe410\" y=\"496.44\"/>\r\n      </g>\r\n     </g>\r\n     <g id=\"text_6\">\r\n      <!-- Artifact -->\r\n      <g transform=\"translate(574.218679 511.038437)scale(0.1 -0.1)\">\r\n       <defs>\r\n        <path d=\"M 34.1875 63.1875 \r\nL 20.796875 26.90625 \r\nL 47.609375 26.90625 \r\nz\r\nM 28.609375 72.90625 \r\nL 39.796875 72.90625 \r\nL 67.578125 0 \r\nL 57.328125 0 \r\nL 50.6875 18.703125 \r\nL 17.828125 18.703125 \r\nL 11.1875 0 \r\nL 0.78125 0 \r\nz\r\n\" id=\"DejaVuSans-65\"/>\r\n        <path d=\"M 9.421875 54.6875 \r\nL 18.40625 54.6875 \r\nL 18.40625 0 \r\nL 9.421875 0 \r\nz\r\nM 9.421875 75.984375 \r\nL 18.40625 75.984375 \r\nL 18.40625 64.59375 \r\nL 9.421875 64.59375 \r\nz\r\n\" id=\"DejaVuSans-105\"/>\r\n        <path d=\"M 37.109375 75.984375 \r\nL 37.109375 68.5 \r\nL 28.515625 68.5 \r\nQ 23.6875 68.5 21.796875 66.546875 \r\nQ 19.921875 64.59375 19.921875 59.515625 \r\nL 19.921875 54.6875 \r\nL 34.71875 54.6875 \r\nL 34.71875 47.703125 \r\nL 19.921875 47.703125 \r\nL 19.921875 0 \r\nL 10.890625 0 \r\nL 10.890625 47.703125 \r\nL 2.296875 47.703125 \r\nL 2.296875 54.6875 \r\nL 10.890625 54.6875 \r\nL 10.890625 58.5 \r\nQ 10.890625 67.625 15.140625 71.796875 \r\nQ 19.390625 75.984375 28.609375 75.984375 \r\nz\r\n\" id=\"DejaVuSans-102\"/>\r\n       </defs>\r\n       <use xlink:href=\"#DejaVuSans-65\"/>\r\n       <use x=\"68.408203\" xlink:href=\"#DejaVuSans-114\"/>\r\n       <use x=\"109.521484\" xlink:href=\"#DejaVuSans-116\"/>\r\n       <use x=\"148.730469\" xlink:href=\"#DejaVuSans-105\"/>\r\n       <use x=\"176.513672\" xlink:href=\"#DejaVuSans-102\"/>\r\n       <use x=\"211.71875\" xlink:href=\"#DejaVuSans-97\"/>\r\n       <use x=\"272.998047\" xlink:href=\"#DejaVuSans-99\"/>\r\n       <use x=\"327.978516\" xlink:href=\"#DejaVuSans-116\"/>\r\n      </g>\r\n     </g>\r\n    </g>\r\n    <g id=\"xtick_7\">\r\n     <g id=\"line2d_13\">\r\n      <path clip-path=\"url(#p3e51c46a33)\" d=\"M 694.031818 496.44 \r\nL 694.031818 7.2 \r\n\" style=\"fill:none;stroke:#b0b0b0;stroke-linecap:square;stroke-width:0.8;\"/>\r\n     </g>\r\n     <g id=\"line2d_14\">\r\n      <g>\r\n       <use style=\"stroke:#000000;stroke-width:0.8;\" x=\"694.031818\" xlink:href=\"#ma7a1ffe410\" y=\"496.44\"/>\r\n      </g>\r\n     </g>\r\n     <g id=\"text_7\">\r\n      <!-- Artifact,Creature -->\r\n      <g transform=\"translate(652.360724 511.038437)scale(0.1 -0.1)\">\r\n       <defs>\r\n        <path d=\"M 11.71875 12.40625 \r\nL 22.015625 12.40625 \r\nL 22.015625 4 \r\nL 14.015625 -11.625 \r\nL 7.71875 -11.625 \r\nL 11.71875 4 \r\nz\r\n\" id=\"DejaVuSans-44\"/>\r\n       </defs>\r\n       <use xlink:href=\"#DejaVuSans-65\"/>\r\n       <use x=\"68.408203\" xlink:href=\"#DejaVuSans-114\"/>\r\n       <use x=\"109.521484\" xlink:href=\"#DejaVuSans-116\"/>\r\n       <use x=\"148.730469\" xlink:href=\"#DejaVuSans-105\"/>\r\n       <use x=\"176.513672\" xlink:href=\"#DejaVuSans-102\"/>\r\n       <use x=\"211.71875\" xlink:href=\"#DejaVuSans-97\"/>\r\n       <use x=\"272.998047\" xlink:href=\"#DejaVuSans-99\"/>\r\n       <use x=\"327.978516\" xlink:href=\"#DejaVuSans-116\"/>\r\n       <use x=\"367.1875\" xlink:href=\"#DejaVuSans-44\"/>\r\n       <use x=\"398.974609\" xlink:href=\"#DejaVuSans-67\"/>\r\n       <use x=\"468.798828\" xlink:href=\"#DejaVuSans-114\"/>\r\n       <use x=\"507.662109\" xlink:href=\"#DejaVuSans-101\"/>\r\n       <use x=\"569.185547\" xlink:href=\"#DejaVuSans-97\"/>\r\n       <use x=\"630.464844\" xlink:href=\"#DejaVuSans-116\"/>\r\n       <use x=\"669.673828\" xlink:href=\"#DejaVuSans-117\"/>\r\n       <use x=\"733.052734\" xlink:href=\"#DejaVuSans-114\"/>\r\n       <use x=\"771.916016\" xlink:href=\"#DejaVuSans-101\"/>\r\n      </g>\r\n     </g>\r\n    </g>\r\n    <g id=\"xtick_8\">\r\n     <g id=\"line2d_15\">\r\n      <path clip-path=\"url(#p3e51c46a33)\" d=\"M 795.486364 496.44 \r\nL 795.486364 7.2 \r\n\" style=\"fill:none;stroke:#b0b0b0;stroke-linecap:square;stroke-width:0.8;\"/>\r\n     </g>\r\n     <g id=\"line2d_16\">\r\n      <g>\r\n       <use style=\"stroke:#000000;stroke-width:0.8;\" x=\"795.486364\" xlink:href=\"#ma7a1ffe410\" y=\"496.44\"/>\r\n      </g>\r\n     </g>\r\n     <g id=\"text_8\">\r\n      <!-- Land -->\r\n      <g transform=\"translate(783.293395 511.038437)scale(0.1 -0.1)\">\r\n       <defs>\r\n        <path d=\"M 9.8125 72.90625 \r\nL 19.671875 72.90625 \r\nL 19.671875 8.296875 \r\nL 55.171875 8.296875 \r\nL 55.171875 0 \r\nL 9.8125 0 \r\nz\r\n\" id=\"DejaVuSans-76\"/>\r\n        <path d=\"M 45.40625 46.390625 \r\nL 45.40625 75.984375 \r\nL 54.390625 75.984375 \r\nL 54.390625 0 \r\nL 45.40625 0 \r\nL 45.40625 8.203125 \r\nQ 42.578125 3.328125 38.25 0.953125 \r\nQ 33.9375 -1.421875 27.875 -1.421875 \r\nQ 17.96875 -1.421875 11.734375 6.484375 \r\nQ 5.515625 14.40625 5.515625 27.296875 \r\nQ 5.515625 40.1875 11.734375 48.09375 \r\nQ 17.96875 56 27.875 56 \r\nQ 33.9375 56 38.25 53.625 \r\nQ 42.578125 51.265625 45.40625 46.390625 \r\nz\r\nM 14.796875 27.296875 \r\nQ 14.796875 17.390625 18.875 11.75 \r\nQ 22.953125 6.109375 30.078125 6.109375 \r\nQ 37.203125 6.109375 41.296875 11.75 \r\nQ 45.40625 17.390625 45.40625 27.296875 \r\nQ 45.40625 37.203125 41.296875 42.84375 \r\nQ 37.203125 48.484375 30.078125 48.484375 \r\nQ 22.953125 48.484375 18.875 42.84375 \r\nQ 14.796875 37.203125 14.796875 27.296875 \r\nz\r\n\" id=\"DejaVuSans-100\"/>\r\n       </defs>\r\n       <use xlink:href=\"#DejaVuSans-76\"/>\r\n       <use x=\"55.712891\" xlink:href=\"#DejaVuSans-97\"/>\r\n       <use x=\"116.992188\" xlink:href=\"#DejaVuSans-110\"/>\r\n       <use x=\"180.371094\" xlink:href=\"#DejaVuSans-100\"/>\r\n      </g>\r\n     </g>\r\n    </g>\r\n    <g id=\"xtick_9\">\r\n     <g id=\"line2d_17\">\r\n      <path clip-path=\"url(#p3e51c46a33)\" d=\"M 896.940909 496.44 \r\nL 896.940909 7.2 \r\n\" style=\"fill:none;stroke:#b0b0b0;stroke-linecap:square;stroke-width:0.8;\"/>\r\n     </g>\r\n     <g id=\"line2d_18\">\r\n      <g>\r\n       <use style=\"stroke:#000000;stroke-width:0.8;\" x=\"896.940909\" xlink:href=\"#ma7a1ffe410\" y=\"496.44\"/>\r\n      </g>\r\n     </g>\r\n     <g id=\"text_9\">\r\n      <!-- Enchantment,Creature -->\r\n      <g transform=\"translate(840.113565 511.038437)scale(0.1 -0.1)\">\r\n       <use xlink:href=\"#DejaVuSans-69\"/>\r\n       <use x=\"63.183594\" xlink:href=\"#DejaVuSans-110\"/>\r\n       <use x=\"126.5625\" xlink:href=\"#DejaVuSans-99\"/>\r\n       <use x=\"181.542969\" xlink:href=\"#DejaVuSans-104\"/>\r\n       <use x=\"244.921875\" xlink:href=\"#DejaVuSans-97\"/>\r\n       <use x=\"306.201172\" xlink:href=\"#DejaVuSans-110\"/>\r\n       <use x=\"369.580078\" xlink:href=\"#DejaVuSans-116\"/>\r\n       <use x=\"408.789062\" xlink:href=\"#DejaVuSans-109\"/>\r\n       <use x=\"506.201172\" xlink:href=\"#DejaVuSans-101\"/>\r\n       <use x=\"567.724609\" xlink:href=\"#DejaVuSans-110\"/>\r\n       <use x=\"631.103516\" xlink:href=\"#DejaVuSans-116\"/>\r\n       <use x=\"670.3125\" xlink:href=\"#DejaVuSans-44\"/>\r\n       <use x=\"702.099609\" xlink:href=\"#DejaVuSans-67\"/>\r\n       <use x=\"771.923828\" xlink:href=\"#DejaVuSans-114\"/>\r\n       <use x=\"810.787109\" xlink:href=\"#DejaVuSans-101\"/>\r\n       <use x=\"872.310547\" xlink:href=\"#DejaVuSans-97\"/>\r\n       <use x=\"933.589844\" xlink:href=\"#DejaVuSans-116\"/>\r\n       <use x=\"972.798828\" xlink:href=\"#DejaVuSans-117\"/>\r\n       <use x=\"1036.177734\" xlink:href=\"#DejaVuSans-114\"/>\r\n       <use x=\"1075.041016\" xlink:href=\"#DejaVuSans-101\"/>\r\n      </g>\r\n     </g>\r\n    </g>\r\n    <g id=\"xtick_10\">\r\n     <g id=\"line2d_19\">\r\n      <path clip-path=\"url(#p3e51c46a33)\" d=\"M 998.395455 496.44 \r\nL 998.395455 7.2 \r\n\" style=\"fill:none;stroke:#b0b0b0;stroke-linecap:square;stroke-width:0.8;\"/>\r\n     </g>\r\n     <g id=\"line2d_20\">\r\n      <g>\r\n       <use style=\"stroke:#000000;stroke-width:0.8;\" x=\"998.395455\" xlink:href=\"#ma7a1ffe410\" y=\"496.44\"/>\r\n      </g>\r\n     </g>\r\n     <g id=\"text_10\">\r\n      <!-- Tribal,Sorcery -->\r\n      <g transform=\"translate(964.400923 511.038437)scale(0.1 -0.1)\">\r\n       <defs>\r\n        <path d=\"M -0.296875 72.90625 \r\nL 61.375 72.90625 \r\nL 61.375 64.59375 \r\nL 35.5 64.59375 \r\nL 35.5 0 \r\nL 25.59375 0 \r\nL 25.59375 64.59375 \r\nL -0.296875 64.59375 \r\nz\r\n\" id=\"DejaVuSans-84\"/>\r\n        <path d=\"M 48.6875 27.296875 \r\nQ 48.6875 37.203125 44.609375 42.84375 \r\nQ 40.53125 48.484375 33.40625 48.484375 \r\nQ 26.265625 48.484375 22.1875 42.84375 \r\nQ 18.109375 37.203125 18.109375 27.296875 \r\nQ 18.109375 17.390625 22.1875 11.75 \r\nQ 26.265625 6.109375 33.40625 6.109375 \r\nQ 40.53125 6.109375 44.609375 11.75 \r\nQ 48.6875 17.390625 48.6875 27.296875 \r\nz\r\nM 18.109375 46.390625 \r\nQ 20.953125 51.265625 25.265625 53.625 \r\nQ 29.59375 56 35.59375 56 \r\nQ 45.5625 56 51.78125 48.09375 \r\nQ 58.015625 40.1875 58.015625 27.296875 \r\nQ 58.015625 14.40625 51.78125 6.484375 \r\nQ 45.5625 -1.421875 35.59375 -1.421875 \r\nQ 29.59375 -1.421875 25.265625 0.953125 \r\nQ 20.953125 3.328125 18.109375 8.203125 \r\nL 18.109375 0 \r\nL 9.078125 0 \r\nL 9.078125 75.984375 \r\nL 18.109375 75.984375 \r\nz\r\n\" id=\"DejaVuSans-98\"/>\r\n       </defs>\r\n       <use xlink:href=\"#DejaVuSans-84\"/>\r\n       <use x=\"46.333984\" xlink:href=\"#DejaVuSans-114\"/>\r\n       <use x=\"87.447266\" xlink:href=\"#DejaVuSans-105\"/>\r\n       <use x=\"115.230469\" xlink:href=\"#DejaVuSans-98\"/>\r\n       <use x=\"178.707031\" xlink:href=\"#DejaVuSans-97\"/>\r\n       <use x=\"239.986328\" xlink:href=\"#DejaVuSans-108\"/>\r\n       <use x=\"267.769531\" xlink:href=\"#DejaVuSans-44\"/>\r\n       <use x=\"299.556641\" xlink:href=\"#DejaVuSans-83\"/>\r\n       <use x=\"363.033203\" xlink:href=\"#DejaVuSans-111\"/>\r\n       <use x=\"424.214844\" xlink:href=\"#DejaVuSans-114\"/>\r\n       <use x=\"463.078125\" xlink:href=\"#DejaVuSans-99\"/>\r\n       <use x=\"518.058594\" xlink:href=\"#DejaVuSans-101\"/>\r\n       <use x=\"579.582031\" xlink:href=\"#DejaVuSans-114\"/>\r\n       <use x=\"620.695312\" xlink:href=\"#DejaVuSans-121\"/>\r\n      </g>\r\n     </g>\r\n    </g>\r\n   </g>\r\n   <g id=\"matplotlib.axis_2\">\r\n    <g id=\"ytick_1\">\r\n     <g id=\"line2d_21\">\r\n      <path clip-path=\"url(#p3e51c46a33)\" d=\"M 39.65 496.44 \r\nL 1044.05 496.44 \r\n\" style=\"fill:none;stroke:#b0b0b0;stroke-linecap:square;stroke-width:0.8;\"/>\r\n     </g>\r\n     <g id=\"line2d_22\">\r\n      <defs>\r\n       <path d=\"M 0 0 \r\nL -3.5 0 \r\n\" id=\"m6dab6eeed5\" style=\"stroke:#000000;stroke-width:0.8;\"/>\r\n      </defs>\r\n      <g>\r\n       <use style=\"stroke:#000000;stroke-width:0.8;\" x=\"39.65\" xlink:href=\"#m6dab6eeed5\" y=\"496.44\"/>\r\n      </g>\r\n     </g>\r\n     <g id=\"text_11\">\r\n      <!-- 0 -->\r\n      <g transform=\"translate(26.2875 500.239219)scale(0.1 -0.1)\">\r\n       <defs>\r\n        <path d=\"M 31.78125 66.40625 \r\nQ 24.171875 66.40625 20.328125 58.90625 \r\nQ 16.5 51.421875 16.5 36.375 \r\nQ 16.5 21.390625 20.328125 13.890625 \r\nQ 24.171875 6.390625 31.78125 6.390625 \r\nQ 39.453125 6.390625 43.28125 13.890625 \r\nQ 47.125 21.390625 47.125 36.375 \r\nQ 47.125 51.421875 43.28125 58.90625 \r\nQ 39.453125 66.40625 31.78125 66.40625 \r\nz\r\nM 31.78125 74.21875 \r\nQ 44.046875 74.21875 50.515625 64.515625 \r\nQ 56.984375 54.828125 56.984375 36.375 \r\nQ 56.984375 17.96875 50.515625 8.265625 \r\nQ 44.046875 -1.421875 31.78125 -1.421875 \r\nQ 19.53125 -1.421875 13.0625 8.265625 \r\nQ 6.59375 17.96875 6.59375 36.375 \r\nQ 6.59375 54.828125 13.0625 64.515625 \r\nQ 19.53125 74.21875 31.78125 74.21875 \r\nz\r\n\" id=\"DejaVuSans-48\"/>\r\n       </defs>\r\n       <use xlink:href=\"#DejaVuSans-48\"/>\r\n      </g>\r\n     </g>\r\n    </g>\r\n    <g id=\"ytick_2\">\r\n     <g id=\"line2d_23\">\r\n      <path clip-path=\"url(#p3e51c46a33)\" d=\"M 39.65 432.682083 \r\nL 1044.05 432.682083 \r\n\" style=\"fill:none;stroke:#b0b0b0;stroke-linecap:square;stroke-width:0.8;\"/>\r\n     </g>\r\n     <g id=\"line2d_24\">\r\n      <g>\r\n       <use style=\"stroke:#000000;stroke-width:0.8;\" x=\"39.65\" xlink:href=\"#m6dab6eeed5\" y=\"432.682083\"/>\r\n      </g>\r\n     </g>\r\n     <g id=\"text_12\">\r\n      <!-- 500 -->\r\n      <g transform=\"translate(13.5625 436.481302)scale(0.1 -0.1)\">\r\n       <defs>\r\n        <path d=\"M 10.796875 72.90625 \r\nL 49.515625 72.90625 \r\nL 49.515625 64.59375 \r\nL 19.828125 64.59375 \r\nL 19.828125 46.734375 \r\nQ 21.96875 47.46875 24.109375 47.828125 \r\nQ 26.265625 48.1875 28.421875 48.1875 \r\nQ 40.625 48.1875 47.75 41.5 \r\nQ 54.890625 34.8125 54.890625 23.390625 \r\nQ 54.890625 11.625 47.5625 5.09375 \r\nQ 40.234375 -1.421875 26.90625 -1.421875 \r\nQ 22.3125 -1.421875 17.546875 -0.640625 \r\nQ 12.796875 0.140625 7.71875 1.703125 \r\nL 7.71875 11.625 \r\nQ 12.109375 9.234375 16.796875 8.0625 \r\nQ 21.484375 6.890625 26.703125 6.890625 \r\nQ 35.15625 6.890625 40.078125 11.328125 \r\nQ 45.015625 15.765625 45.015625 23.390625 \r\nQ 45.015625 31 40.078125 35.4375 \r\nQ 35.15625 39.890625 26.703125 39.890625 \r\nQ 22.75 39.890625 18.8125 39.015625 \r\nQ 14.890625 38.140625 10.796875 36.28125 \r\nz\r\n\" id=\"DejaVuSans-53\"/>\r\n       </defs>\r\n       <use xlink:href=\"#DejaVuSans-53\"/>\r\n       <use x=\"63.623047\" xlink:href=\"#DejaVuSans-48\"/>\r\n       <use x=\"127.246094\" xlink:href=\"#DejaVuSans-48\"/>\r\n      </g>\r\n     </g>\r\n    </g>\r\n    <g id=\"ytick_3\">\r\n     <g id=\"line2d_25\">\r\n      <path clip-path=\"url(#p3e51c46a33)\" d=\"M 39.65 368.924166 \r\nL 1044.05 368.924166 \r\n\" style=\"fill:none;stroke:#b0b0b0;stroke-linecap:square;stroke-width:0.8;\"/>\r\n     </g>\r\n     <g id=\"line2d_26\">\r\n      <g>\r\n       <use style=\"stroke:#000000;stroke-width:0.8;\" x=\"39.65\" xlink:href=\"#m6dab6eeed5\" y=\"368.924166\"/>\r\n      </g>\r\n     </g>\r\n     <g id=\"text_13\">\r\n      <!-- 1000 -->\r\n      <g transform=\"translate(7.2 372.723385)scale(0.1 -0.1)\">\r\n       <defs>\r\n        <path d=\"M 12.40625 8.296875 \r\nL 28.515625 8.296875 \r\nL 28.515625 63.921875 \r\nL 10.984375 60.40625 \r\nL 10.984375 69.390625 \r\nL 28.421875 72.90625 \r\nL 38.28125 72.90625 \r\nL 38.28125 8.296875 \r\nL 54.390625 8.296875 \r\nL 54.390625 0 \r\nL 12.40625 0 \r\nz\r\n\" id=\"DejaVuSans-49\"/>\r\n       </defs>\r\n       <use xlink:href=\"#DejaVuSans-49\"/>\r\n       <use x=\"63.623047\" xlink:href=\"#DejaVuSans-48\"/>\r\n       <use x=\"127.246094\" xlink:href=\"#DejaVuSans-48\"/>\r\n       <use x=\"190.869141\" xlink:href=\"#DejaVuSans-48\"/>\r\n      </g>\r\n     </g>\r\n    </g>\r\n    <g id=\"ytick_4\">\r\n     <g id=\"line2d_27\">\r\n      <path clip-path=\"url(#p3e51c46a33)\" d=\"M 39.65 305.166249 \r\nL 1044.05 305.166249 \r\n\" style=\"fill:none;stroke:#b0b0b0;stroke-linecap:square;stroke-width:0.8;\"/>\r\n     </g>\r\n     <g id=\"line2d_28\">\r\n      <g>\r\n       <use style=\"stroke:#000000;stroke-width:0.8;\" x=\"39.65\" xlink:href=\"#m6dab6eeed5\" y=\"305.166249\"/>\r\n      </g>\r\n     </g>\r\n     <g id=\"text_14\">\r\n      <!-- 1500 -->\r\n      <g transform=\"translate(7.2 308.965468)scale(0.1 -0.1)\">\r\n       <use xlink:href=\"#DejaVuSans-49\"/>\r\n       <use x=\"63.623047\" xlink:href=\"#DejaVuSans-53\"/>\r\n       <use x=\"127.246094\" xlink:href=\"#DejaVuSans-48\"/>\r\n       <use x=\"190.869141\" xlink:href=\"#DejaVuSans-48\"/>\r\n      </g>\r\n     </g>\r\n    </g>\r\n    <g id=\"ytick_5\">\r\n     <g id=\"line2d_29\">\r\n      <path clip-path=\"url(#p3e51c46a33)\" d=\"M 39.65 241.408332 \r\nL 1044.05 241.408332 \r\n\" style=\"fill:none;stroke:#b0b0b0;stroke-linecap:square;stroke-width:0.8;\"/>\r\n     </g>\r\n     <g id=\"line2d_30\">\r\n      <g>\r\n       <use style=\"stroke:#000000;stroke-width:0.8;\" x=\"39.65\" xlink:href=\"#m6dab6eeed5\" y=\"241.408332\"/>\r\n      </g>\r\n     </g>\r\n     <g id=\"text_15\">\r\n      <!-- 2000 -->\r\n      <g transform=\"translate(7.2 245.207551)scale(0.1 -0.1)\">\r\n       <defs>\r\n        <path d=\"M 19.1875 8.296875 \r\nL 53.609375 8.296875 \r\nL 53.609375 0 \r\nL 7.328125 0 \r\nL 7.328125 8.296875 \r\nQ 12.9375 14.109375 22.625 23.890625 \r\nQ 32.328125 33.6875 34.8125 36.53125 \r\nQ 39.546875 41.84375 41.421875 45.53125 \r\nQ 43.3125 49.21875 43.3125 52.78125 \r\nQ 43.3125 58.59375 39.234375 62.25 \r\nQ 35.15625 65.921875 28.609375 65.921875 \r\nQ 23.96875 65.921875 18.8125 64.3125 \r\nQ 13.671875 62.703125 7.8125 59.421875 \r\nL 7.8125 69.390625 \r\nQ 13.765625 71.78125 18.9375 73 \r\nQ 24.125 74.21875 28.421875 74.21875 \r\nQ 39.75 74.21875 46.484375 68.546875 \r\nQ 53.21875 62.890625 53.21875 53.421875 \r\nQ 53.21875 48.921875 51.53125 44.890625 \r\nQ 49.859375 40.875 45.40625 35.40625 \r\nQ 44.1875 33.984375 37.640625 27.21875 \r\nQ 31.109375 20.453125 19.1875 8.296875 \r\nz\r\n\" id=\"DejaVuSans-50\"/>\r\n       </defs>\r\n       <use xlink:href=\"#DejaVuSans-50\"/>\r\n       <use x=\"63.623047\" xlink:href=\"#DejaVuSans-48\"/>\r\n       <use x=\"127.246094\" xlink:href=\"#DejaVuSans-48\"/>\r\n       <use x=\"190.869141\" xlink:href=\"#DejaVuSans-48\"/>\r\n      </g>\r\n     </g>\r\n    </g>\r\n    <g id=\"ytick_6\">\r\n     <g id=\"line2d_31\">\r\n      <path clip-path=\"url(#p3e51c46a33)\" d=\"M 39.65 177.650415 \r\nL 1044.05 177.650415 \r\n\" style=\"fill:none;stroke:#b0b0b0;stroke-linecap:square;stroke-width:0.8;\"/>\r\n     </g>\r\n     <g id=\"line2d_32\">\r\n      <g>\r\n       <use style=\"stroke:#000000;stroke-width:0.8;\" x=\"39.65\" xlink:href=\"#m6dab6eeed5\" y=\"177.650415\"/>\r\n      </g>\r\n     </g>\r\n     <g id=\"text_16\">\r\n      <!-- 2500 -->\r\n      <g transform=\"translate(7.2 181.449634)scale(0.1 -0.1)\">\r\n       <use xlink:href=\"#DejaVuSans-50\"/>\r\n       <use x=\"63.623047\" xlink:href=\"#DejaVuSans-53\"/>\r\n       <use x=\"127.246094\" xlink:href=\"#DejaVuSans-48\"/>\r\n       <use x=\"190.869141\" xlink:href=\"#DejaVuSans-48\"/>\r\n      </g>\r\n     </g>\r\n    </g>\r\n    <g id=\"ytick_7\">\r\n     <g id=\"line2d_33\">\r\n      <path clip-path=\"url(#p3e51c46a33)\" d=\"M 39.65 113.892498 \r\nL 1044.05 113.892498 \r\n\" style=\"fill:none;stroke:#b0b0b0;stroke-linecap:square;stroke-width:0.8;\"/>\r\n     </g>\r\n     <g id=\"line2d_34\">\r\n      <g>\r\n       <use style=\"stroke:#000000;stroke-width:0.8;\" x=\"39.65\" xlink:href=\"#m6dab6eeed5\" y=\"113.892498\"/>\r\n      </g>\r\n     </g>\r\n     <g id=\"text_17\">\r\n      <!-- 3000 -->\r\n      <g transform=\"translate(7.2 117.691717)scale(0.1 -0.1)\">\r\n       <defs>\r\n        <path d=\"M 40.578125 39.3125 \r\nQ 47.65625 37.796875 51.625 33 \r\nQ 55.609375 28.21875 55.609375 21.1875 \r\nQ 55.609375 10.40625 48.1875 4.484375 \r\nQ 40.765625 -1.421875 27.09375 -1.421875 \r\nQ 22.515625 -1.421875 17.65625 -0.515625 \r\nQ 12.796875 0.390625 7.625 2.203125 \r\nL 7.625 11.71875 \r\nQ 11.71875 9.328125 16.59375 8.109375 \r\nQ 21.484375 6.890625 26.8125 6.890625 \r\nQ 36.078125 6.890625 40.9375 10.546875 \r\nQ 45.796875 14.203125 45.796875 21.1875 \r\nQ 45.796875 27.640625 41.28125 31.265625 \r\nQ 36.765625 34.90625 28.71875 34.90625 \r\nL 20.21875 34.90625 \r\nL 20.21875 43.015625 \r\nL 29.109375 43.015625 \r\nQ 36.375 43.015625 40.234375 45.921875 \r\nQ 44.09375 48.828125 44.09375 54.296875 \r\nQ 44.09375 59.90625 40.109375 62.90625 \r\nQ 36.140625 65.921875 28.71875 65.921875 \r\nQ 24.65625 65.921875 20.015625 65.03125 \r\nQ 15.375 64.15625 9.8125 62.3125 \r\nL 9.8125 71.09375 \r\nQ 15.4375 72.65625 20.34375 73.4375 \r\nQ 25.25 74.21875 29.59375 74.21875 \r\nQ 40.828125 74.21875 47.359375 69.109375 \r\nQ 53.90625 64.015625 53.90625 55.328125 \r\nQ 53.90625 49.265625 50.4375 45.09375 \r\nQ 46.96875 40.921875 40.578125 39.3125 \r\nz\r\n\" id=\"DejaVuSans-51\"/>\r\n       </defs>\r\n       <use xlink:href=\"#DejaVuSans-51\"/>\r\n       <use x=\"63.623047\" xlink:href=\"#DejaVuSans-48\"/>\r\n       <use x=\"127.246094\" xlink:href=\"#DejaVuSans-48\"/>\r\n       <use x=\"190.869141\" xlink:href=\"#DejaVuSans-48\"/>\r\n      </g>\r\n     </g>\r\n    </g>\r\n    <g id=\"ytick_8\">\r\n     <g id=\"line2d_35\">\r\n      <path clip-path=\"url(#p3e51c46a33)\" d=\"M 39.65 50.134581 \r\nL 1044.05 50.134581 \r\n\" style=\"fill:none;stroke:#b0b0b0;stroke-linecap:square;stroke-width:0.8;\"/>\r\n     </g>\r\n     <g id=\"line2d_36\">\r\n      <g>\r\n       <use style=\"stroke:#000000;stroke-width:0.8;\" x=\"39.65\" xlink:href=\"#m6dab6eeed5\" y=\"50.134581\"/>\r\n      </g>\r\n     </g>\r\n     <g id=\"text_18\">\r\n      <!-- 3500 -->\r\n      <g transform=\"translate(7.2 53.9338)scale(0.1 -0.1)\">\r\n       <use xlink:href=\"#DejaVuSans-51\"/>\r\n       <use x=\"63.623047\" xlink:href=\"#DejaVuSans-53\"/>\r\n       <use x=\"127.246094\" xlink:href=\"#DejaVuSans-48\"/>\r\n       <use x=\"190.869141\" xlink:href=\"#DejaVuSans-48\"/>\r\n      </g>\r\n     </g>\r\n    </g>\r\n   </g>\r\n   <g id=\"patch_13\">\r\n    <path d=\"M 39.65 496.44 \r\nL 39.65 7.2 \r\n\" style=\"fill:none;stroke:#000000;stroke-linecap:square;stroke-linejoin:miter;stroke-width:0.8;\"/>\r\n   </g>\r\n   <g id=\"patch_14\">\r\n    <path d=\"M 1044.05 496.44 \r\nL 1044.05 7.2 \r\n\" style=\"fill:none;stroke:#000000;stroke-linecap:square;stroke-linejoin:miter;stroke-width:0.8;\"/>\r\n   </g>\r\n   <g id=\"patch_15\">\r\n    <path d=\"M 39.65 496.44 \r\nL 1044.05 496.44 \r\n\" style=\"fill:none;stroke:#000000;stroke-linecap:square;stroke-linejoin:miter;stroke-width:0.8;\"/>\r\n   </g>\r\n   <g id=\"patch_16\">\r\n    <path d=\"M 39.65 7.2 \r\nL 1044.05 7.2 \r\n\" style=\"fill:none;stroke:#000000;stroke-linecap:square;stroke-linejoin:miter;stroke-width:0.8;\"/>\r\n   </g>\r\n  </g>\r\n </g>\r\n <defs>\r\n  <clipPath id=\"p3e51c46a33\">\r\n   <rect height=\"489.24\" width=\"1004.4\" x=\"39.65\" y=\"7.2\"/>\r\n  </clipPath>\r\n </defs>\r\n</svg>\r\n",
      "image/png": "[encoded data removed]"
     },
     "metadata": {
      "needs_background": "light"
     }
    }
   ],
   "source": [
    "train_df.types.hist(\n",
    "    bins=10,\n",
    "    figsize=(18,9)\n",
    ")"
   ]
  },
  {
   "cell_type": "code",
   "execution_count": 78,
   "metadata": {},
   "outputs": [
    {
     "output_type": "execute_result",
     "data": {
      "text/plain": [
       "              cnt\n",
       "count  146.000000\n",
       "mean    54.780822\n",
       "std    135.028911\n",
       "min      1.000000\n",
       "25%      4.000000\n",
       "50%      8.000000\n",
       "75%     31.750000\n",
       "max    905.000000"
      ],
      "text/html": "<div>\n<style scoped>\n    .dataframe tbody tr th:only-of-type {\n        vertical-align: middle;\n    }\n\n    .dataframe tbody tr th {\n        vertical-align: top;\n    }\n\n    .dataframe thead th {\n        text-align: right;\n    }\n</style>\n<table border=\"1\" class=\"dataframe\">\n  <thead>\n    <tr style=\"text-align: right;\">\n      <th></th>\n      <th>cnt</th>\n    </tr>\n  </thead>\n  <tbody>\n    <tr>\n      <th>count</th>\n      <td>146.000000</td>\n    </tr>\n    <tr>\n      <th>mean</th>\n      <td>54.780822</td>\n    </tr>\n    <tr>\n      <th>std</th>\n      <td>135.028911</td>\n    </tr>\n    <tr>\n      <th>min</th>\n      <td>1.000000</td>\n    </tr>\n    <tr>\n      <th>25%</th>\n      <td>4.000000</td>\n    </tr>\n    <tr>\n      <th>50%</th>\n      <td>8.000000</td>\n    </tr>\n    <tr>\n      <th>75%</th>\n      <td>31.750000</td>\n    </tr>\n    <tr>\n      <th>max</th>\n      <td>905.000000</td>\n    </tr>\n  </tbody>\n</table>\n</div>"
     },
     "metadata": {},
     "execution_count": 78
    }
   ],
   "source": [
    "train_df\\\n",
    "    .groupby('cls', as_index=False)\\\n",
    "    .agg(cnt=('Names','count'))\\\n",
    "    .sort_values('cnt', ascending=False)\\\n",
    "    .describe()"
   ]
  },
  {
   "cell_type": "code",
   "execution_count": 108,
   "metadata": {},
   "outputs": [],
   "source": [
    "pw = 'Planeswalker'"
   ]
  },
  {
   "cell_type": "code",
   "execution_count": 114,
   "metadata": {},
   "outputs": [
    {
     "output_type": "execute_result",
     "data": {
      "text/plain": [
       "                      cls  cnt\n",
       "115      U - Planeswalker   47\n",
       "89       R - Planeswalker   44\n",
       "59       G - Planeswalker   39\n",
       "135      W - Planeswalker   33\n",
       "11       B - Planeswalker   28\n",
       "4        0 - Planeswalker   18\n",
       "16     B,G - Planeswalker   18\n",
       "127    U,W - Planeswalker   17\n",
       "81     G,W - Planeswalker   16\n",
       "97     R,U - Planeswalker   16\n",
       "75     G,U - Planeswalker   15\n",
       "51     B,W - Planeswalker   13\n",
       "64     G,R - Planeswalker   12\n",
       "107    R,W - Planeswalker   11\n",
       "44     B,U - Planeswalker   11\n",
       "32     B,R - Planeswalker   10\n",
       "35   B,R,U - Planeswalker    8\n",
       "101  R,U,W - Planeswalker    4"
      ],
      "text/html": "<div>\n<style scoped>\n    .dataframe tbody tr th:only-of-type {\n        vertical-align: middle;\n    }\n\n    .dataframe tbody tr th {\n        vertical-align: top;\n    }\n\n    .dataframe thead th {\n        text-align: right;\n    }\n</style>\n<table border=\"1\" class=\"dataframe\">\n  <thead>\n    <tr style=\"text-align: right;\">\n      <th></th>\n      <th>cls</th>\n      <th>cnt</th>\n    </tr>\n  </thead>\n  <tbody>\n    <tr>\n      <th>115</th>\n      <td>U - Planeswalker</td>\n      <td>47</td>\n    </tr>\n    <tr>\n      <th>89</th>\n      <td>R - Planeswalker</td>\n      <td>44</td>\n    </tr>\n    <tr>\n      <th>59</th>\n      <td>G - Planeswalker</td>\n      <td>39</td>\n    </tr>\n    <tr>\n      <th>135</th>\n      <td>W - Planeswalker</td>\n      <td>33</td>\n    </tr>\n    <tr>\n      <th>11</th>\n      <td>B - Planeswalker</td>\n      <td>28</td>\n    </tr>\n    <tr>\n      <th>4</th>\n      <td>0 - Planeswalker</td>\n      <td>18</td>\n    </tr>\n    <tr>\n      <th>16</th>\n      <td>B,G - Planeswalker</td>\n      <td>18</td>\n    </tr>\n    <tr>\n      <th>127</th>\n      <td>U,W - Planeswalker</td>\n      <td>17</td>\n    </tr>\n    <tr>\n      <th>81</th>\n      <td>G,W - Planeswalker</td>\n      <td>16</td>\n    </tr>\n    <tr>\n      <th>97</th>\n      <td>R,U - Planeswalker</td>\n      <td>16</td>\n    </tr>\n    <tr>\n      <th>75</th>\n      <td>G,U - Planeswalker</td>\n      <td>15</td>\n    </tr>\n    <tr>\n      <th>51</th>\n      <td>B,W - Planeswalker</td>\n      <td>13</td>\n    </tr>\n    <tr>\n      <th>64</th>\n      <td>G,R - Planeswalker</td>\n      <td>12</td>\n    </tr>\n    <tr>\n      <th>107</th>\n      <td>R,W - Planeswalker</td>\n      <td>11</td>\n    </tr>\n    <tr>\n      <th>44</th>\n      <td>B,U - Planeswalker</td>\n      <td>11</td>\n    </tr>\n    <tr>\n      <th>32</th>\n      <td>B,R - Planeswalker</td>\n      <td>10</td>\n    </tr>\n    <tr>\n      <th>35</th>\n      <td>B,R,U - Planeswalker</td>\n      <td>8</td>\n    </tr>\n    <tr>\n      <th>101</th>\n      <td>R,U,W - Planeswalker</td>\n      <td>4</td>\n    </tr>\n  </tbody>\n</table>\n</div>"
     },
     "metadata": {},
     "execution_count": 114
    }
   ],
   "source": [
    "train_df\\\n",
    "    .groupby('cls', as_index=False)\\\n",
    "    .agg(cnt=('Names','count'))\\\n",
    "    .sort_values('cnt', ascending=False)\\\n",
    "    .query(\"`cls`.str.contains('Planeswalker')\")"
   ]
  },
  {
   "cell_type": "code",
   "execution_count": null,
   "metadata": {},
   "outputs": [],
   "source": []
  },
  {
   "cell_type": "code",
   "execution_count": 61,
   "metadata": {},
   "outputs": [
    {
     "output_type": "execute_result",
     "data": {
      "text/plain": [
       "                           Names colors manaCost     types     type       cls\n",
       "count                       7998   7998     7998      7998     7998      7998\n",
       "unique                      7998     36      333        10      796       146\n",
       "top     Golgari_Findbroker-21112      0        0  Creature  Instant  0 - Land\n",
       "freq                           1   1391      907      3654      819       905"
      ],
      "text/html": "<div>\n<style scoped>\n    .dataframe tbody tr th:only-of-type {\n        vertical-align: middle;\n    }\n\n    .dataframe tbody tr th {\n        vertical-align: top;\n    }\n\n    .dataframe thead th {\n        text-align: right;\n    }\n</style>\n<table border=\"1\" class=\"dataframe\">\n  <thead>\n    <tr style=\"text-align: right;\">\n      <th></th>\n      <th>Names</th>\n      <th>colors</th>\n      <th>manaCost</th>\n      <th>types</th>\n      <th>type</th>\n      <th>cls</th>\n    </tr>\n  </thead>\n  <tbody>\n    <tr>\n      <th>count</th>\n      <td>7998</td>\n      <td>7998</td>\n      <td>7998</td>\n      <td>7998</td>\n      <td>7998</td>\n      <td>7998</td>\n    </tr>\n    <tr>\n      <th>unique</th>\n      <td>7998</td>\n      <td>36</td>\n      <td>333</td>\n      <td>10</td>\n      <td>796</td>\n      <td>146</td>\n    </tr>\n    <tr>\n      <th>top</th>\n      <td>Golgari_Findbroker-21112</td>\n      <td>0</td>\n      <td>0</td>\n      <td>Creature</td>\n      <td>Instant</td>\n      <td>0 - Land</td>\n    </tr>\n    <tr>\n      <th>freq</th>\n      <td>1</td>\n      <td>1391</td>\n      <td>907</td>\n      <td>3654</td>\n      <td>819</td>\n      <td>905</td>\n    </tr>\n  </tbody>\n</table>\n</div>"
     },
     "metadata": {},
     "execution_count": 61
    }
   ],
   "source": [
    "train_df.describe()"
   ]
  },
  {
   "cell_type": "code",
   "execution_count": 54,
   "metadata": {},
   "outputs": [
    {
     "output_type": "execute_result",
     "data": {
      "text/plain": [
       "0 - Land                      905\n",
       "G - Creature                  658\n",
       "W - Creature                  619\n",
       "B - Creature                  600\n",
       "R - Creature                  576\n",
       "                             ... \n",
       "W - Artifact,Creature           1\n",
       "G - Artifact,Creature           1\n",
       "R,G - Sorcery                   1\n",
       "R,U - Enchantment,Creature      1\n",
       "U - Tribal,Sorcery              1\n",
       "Name: cls, Length: 146, dtype: int64"
      ]
     },
     "metadata": {},
     "execution_count": 54
    }
   ],
   "source": [
    "train_df.cls.value_counts()"
   ]
  },
  {
   "cell_type": "code",
   "execution_count": null,
   "metadata": {},
   "outputs": [],
   "source": []
  },
  {
   "cell_type": "code",
   "execution_count": null,
   "metadata": {},
   "outputs": [],
   "source": []
  },
  {
   "cell_type": "code",
   "execution_count": 22,
   "metadata": {},
   "outputs": [
    {
     "output_type": "stream",
     "name": "stdout",
     "text": [
      "Golgari Guildgate enters the battlefield tapped.\n{T}: Add {B} or {G}.\n\n{3}{G}: Gravel-Hide Goblin gets +2/+2 until end of turn.\n\nGain control of X target creatures and/or planeswalkers.\n\n{X}{G}{G}: Put X +1/+1 counters on target land you control. That land becomes a 0/0 Elemental creature with haste. It's still a land.\n\nTarget creature gets +3/+3 until end of turn.\n\n[+1]: Create a 1/1 white Kor Warrior creature token. You may attach an Equipment you control to it.\n[−2]: Look at the top six cards of your library. You may reveal a Warrior or Equipment card from among them and put it into your hand. Put the rest on the bottom of your library in a random order.\n[−3]: Nahiri, Heir of the Ancients deals damage to target creature or planeswalker equal to twice the number of Equipment you control.\n\nWhen Gadwick, the Wizened enters the battlefield, draw X cards.\nWhenever you cast a blue spell, tap target nonland permanent an opponent controls.\n\nFlying\n{R}: Skyship Stalker gets +1/+0 until end of turn.\n{R}: Skyship Stalker gains first strike until end of turn.\n{R}: Skyship Stalker gains haste until end of turn.\n\nAt the beginning of combat on your turn, you may sacrifice another creature. If you do, Dire Fleet Warmonger gets +2/+2 and gains trample until end of turn. (It can deal excess combat damage to the player or planeswalker it's attacking.)\n\n{2}, {T}, Sacrifice Spellkeeper Weird: Return target instant or sorcery card from your graveyard to your hand.\n\n"
     ]
    }
   ],
   "source": [
    "for c in cards_df.sample(10).text:\n",
    "    print(c+'\\n')"
   ]
  },
  {
   "cell_type": "code",
   "execution_count": null,
   "metadata": {},
   "outputs": [],
   "source": []
  },
  {
   "cell_type": "code",
   "execution_count": null,
   "metadata": {},
   "outputs": [],
   "source": []
  },
  {
   "cell_type": "code",
   "execution_count": null,
   "metadata": {},
   "outputs": [],
   "source": []
  },
  {
   "cell_type": "code",
   "execution_count": null,
   "metadata": {},
   "outputs": [],
   "source": []
  },
  {
   "cell_type": "code",
   "execution_count": 16,
   "metadata": {},
   "outputs": [
    {
     "output_type": "execute_result",
     "data": {
      "text/plain": [
       "7998"
      ]
     },
     "metadata": {},
     "execution_count": 16
    }
   ],
   "source": [
    "len(cards_txt)"
   ]
  },
  {
   "cell_type": "code",
   "execution_count": 8,
   "metadata": {},
   "outputs": [
    {
     "output_type": "stream",
     "name": "stdout",
     "text": [
      "(7998, 512)\n"
     ]
    }
   ],
   "source": [
    "all_embeds = use_embed(cards_txt)\n",
    "print(all_embeds.shape)"
   ]
  },
  {
   "cell_type": "code",
   "execution_count": 9,
   "metadata": {},
   "outputs": [
    {
     "output_type": "execute_result",
     "data": {
      "text/plain": [
       "(7998, 512)"
      ]
     },
     "metadata": {},
     "execution_count": 9
    }
   ],
   "source": [
    "all_embeds.numpy().shape"
   ]
  },
  {
   "cell_type": "code",
   "execution_count": 47,
   "metadata": {},
   "outputs": [],
   "source": [
    "np.save('all_embeds.npy', all_embeds)"
   ]
  },
  {
   "cell_type": "code",
   "execution_count": 10,
   "metadata": {},
   "outputs": [],
   "source": [
    "all_embeds = np.load('all_embeds.npy')"
   ]
  },
  {
   "cell_type": "code",
   "execution_count": 11,
   "metadata": {},
   "outputs": [
    {
     "output_type": "execute_result",
     "data": {
      "text/plain": [
       "(7998, 512)"
      ]
     },
     "metadata": {},
     "execution_count": 11
    }
   ],
   "source": [
    "all_embeds.shape"
   ]
  },
  {
   "cell_type": "code",
   "execution_count": 30,
   "metadata": {},
   "outputs": [
    {
     "output_type": "stream",
     "name": "stdout",
     "text": [
      "(1, 512)\n"
     ]
    }
   ],
   "source": [
    "# Test Free Text Query\n",
    "query = 'extra_turn'\n",
    "embed_query = use_embed([query])\n",
    "print(embed_query.shape)"
   ]
  },
  {
   "cell_type": "code",
   "execution_count": 13,
   "metadata": {},
   "outputs": [
    {
     "output_type": "stream",
     "name": "stdout",
     "text": [
      "(7998, 1)\n"
     ]
    }
   ],
   "source": [
    "sim = np.inner(all_embeds, embed_query)\n",
    "print(sim.shape)"
   ]
  },
  {
   "cell_type": "code",
   "execution_count": 31,
   "metadata": {},
   "outputs": [
    {
     "output_type": "execute_result",
     "data": {
      "text/plain": [
       "{'Names': 'Time_Warp-17722',\n",
       " 'similarity': '0.44100022',\n",
       " 'id': '17722',\n",
       " 'mtgArenaId': '0',\n",
       " 'scryfallId': '87fe8637-9be1-4b57-832f-38cf92d23482',\n",
       " 'name': 'Time Warp',\n",
       " 'colors': 'U',\n",
       " 'setName': 'Explorers of Ixalan',\n",
       " 'convertedManaCost': '5.0',\n",
       " 'manaCost': '{3}{U}{U}',\n",
       " 'loyalty': '0',\n",
       " 'power': '0',\n",
       " 'toughness': '0',\n",
       " 'type': 'Sorcery',\n",
       " 'types': 'Sorcery',\n",
       " 'subtypes': '0',\n",
       " 'text': 'Target player takes an extra turn after this one.',\n",
       " 'image_urls': \"{'small': 'https://c1.scryfall.com/file/scryfall-cards/small/front/8/7/87fe8637-9be1-4b57-832f-38cf92d23482.jpg?1562927104', 'normal': 'https://c1.scryfall.com/file/scryfall-cards/normal/front/8/7/87fe8637-9be1-4b57-832f-38cf92d23482.jpg?1562927104', 'large': 'https://c1.scryfall.com/file/scryfall-cards/large/front/8/7/87fe8637-9be1-4b57-832f-38cf92d23482.jpg?1562927104', 'png': 'https://c1.scryfall.com/file/scryfall-cards/png/front/8/7/87fe8637-9be1-4b57-832f-38cf92d23482.png?1562927104', 'art_crop': 'https://c1.scryfall.com/file/scryfall-cards/art_crop/front/8/7/87fe8637-9be1-4b57-832f-38cf92d23482.jpg?1562927104', 'border_crop': 'https://c1.scryfall.com/file/scryfall-cards/border_crop/front/8/7/87fe8637-9be1-4b57-832f-38cf92d23482.jpg?1562927104'}\",\n",
       " 'brawl': 'Blank',\n",
       " 'commander': 'Legal',\n",
       " 'duel': 'Banned',\n",
       " 'future': 'Blank',\n",
       " 'historic': 'Blank',\n",
       " 'legacy': 'Legal',\n",
       " 'modern': 'Legal',\n",
       " 'oldschool': 'Blank',\n",
       " 'pauper': 'Blank',\n",
       " 'penny': 'Blank',\n",
       " 'pioneer': 'Blank',\n",
       " 'standard': 'Blank',\n",
       " 'vintage': 'Legal'}"
      ]
     },
     "metadata": {},
     "execution_count": 31
    }
   ],
   "source": [
    "sims_list = pd.DataFrame(sim, columns=['free_text_query'], index=cards_name)\\\n",
    "    .sort_values(by='free_text_query', ascending=False)\\\n",
    "    .head(50)\\\n",
    "    .reset_index()\\\n",
    "    .rename(columns={'index':'Names', 'free_text_query':'similarity'})\\\n",
    "    .merge(cards_df, how='left', on='Names')\\\n",
    "    .assign(similarity=lambda df: df.similarity.astype('str'))\\\n",
    "    .assign(id=lambda df: df.id.astype('str'))\\\n",
    "    .assign(mtgArenaId=lambda df: df.mtgArenaId.astype('str'))\\\n",
    "    .assign(loyalty=lambda df: df.loyalty.astype('str'))\\\n",
    "    .assign(power=lambda df: df.power.astype('str'))\\\n",
    "    .assign(toughness=lambda df: df.toughness.astype('str'))\\\n",
    "    .assign(convertedManaCost=lambda df: df.convertedManaCost.astype('str'))\\\n",
    "    .to_dict(orient='records')\n",
    "\n",
    "sims_list[0]"
   ]
  },
  {
   "cell_type": "code",
   "execution_count": 32,
   "metadata": {},
   "outputs": [],
   "source": [
    "Item = {\n",
    "    'freeText': query,\n",
    "    'similarities': sims_list\n",
    "}"
   ]
  },
  {
   "cell_type": "code",
   "execution_count": null,
   "metadata": {},
   "outputs": [],
   "source": []
  },
  {
   "cell_type": "code",
   "execution_count": null,
   "metadata": {},
   "outputs": [],
   "source": []
  },
  {
   "cell_type": "code",
   "execution_count": null,
   "metadata": {},
   "outputs": [],
   "source": []
  },
  {
   "cell_type": "code",
   "execution_count": 11,
   "metadata": {},
   "outputs": [
    {
     "output_type": "stream",
     "name": "stdout",
     "text": [
      "(5419, 30)\n"
     ]
    },
    {
     "output_type": "execute_result",
     "data": {
      "text/plain": [
       "                           Names    id  mtgArenaId  \\\n",
       "4753  Archon_of_Sun's_Grace-4754  4754     74983.0   \n",
       "4754        Audacious_Thief-4755  4755     74991.0   \n",
       "\n",
       "                                scryfallId                   name colors  \\\n",
       "4753  94f05268-0d4f-4638-aec3-a85fc339e3a7  Archon of Sun's Grace      W   \n",
       "4754  ba315deb-d5a9-4013-b6ef-e4efe652e569        Audacious Thief      B   \n",
       "\n",
       "                         setName  convertedManaCost   manaCost loyalty  ...  \\\n",
       "4753  Jumpstart Arena Exclusives                4.0  {2}{W}{W}       0  ...   \n",
       "4754  Jumpstart Arena Exclusives                3.0     {2}{B}       0  ...   \n",
       "\n",
       "     future historic legacy modern oldschool pauper  penny pioneer standard  \\\n",
       "4753  Legal    Legal  Legal  Legal     Blank  Blank  Blank   Legal    Legal   \n",
       "4754  Blank    Legal  Legal  Legal     Blank  Legal  Blank   Legal    Blank   \n",
       "\n",
       "     vintage  \n",
       "4753   Legal  \n",
       "4754   Legal  \n",
       "\n",
       "[2 rows x 30 columns]"
      ],
      "text/html": "<div>\n<style scoped>\n    .dataframe tbody tr th:only-of-type {\n        vertical-align: middle;\n    }\n\n    .dataframe tbody tr th {\n        vertical-align: top;\n    }\n\n    .dataframe thead th {\n        text-align: right;\n    }\n</style>\n<table border=\"1\" class=\"dataframe\">\n  <thead>\n    <tr style=\"text-align: right;\">\n      <th></th>\n      <th>Names</th>\n      <th>id</th>\n      <th>mtgArenaId</th>\n      <th>scryfallId</th>\n      <th>name</th>\n      <th>colors</th>\n      <th>setName</th>\n      <th>convertedManaCost</th>\n      <th>manaCost</th>\n      <th>loyalty</th>\n      <th>...</th>\n      <th>future</th>\n      <th>historic</th>\n      <th>legacy</th>\n      <th>modern</th>\n      <th>oldschool</th>\n      <th>pauper</th>\n      <th>penny</th>\n      <th>pioneer</th>\n      <th>standard</th>\n      <th>vintage</th>\n    </tr>\n  </thead>\n  <tbody>\n    <tr>\n      <th>4753</th>\n      <td>Archon_of_Sun's_Grace-4754</td>\n      <td>4754</td>\n      <td>74983.0</td>\n      <td>94f05268-0d4f-4638-aec3-a85fc339e3a7</td>\n      <td>Archon of Sun's Grace</td>\n      <td>W</td>\n      <td>Jumpstart Arena Exclusives</td>\n      <td>4.0</td>\n      <td>{2}{W}{W}</td>\n      <td>0</td>\n      <td>...</td>\n      <td>Legal</td>\n      <td>Legal</td>\n      <td>Legal</td>\n      <td>Legal</td>\n      <td>Blank</td>\n      <td>Blank</td>\n      <td>Blank</td>\n      <td>Legal</td>\n      <td>Legal</td>\n      <td>Legal</td>\n    </tr>\n    <tr>\n      <th>4754</th>\n      <td>Audacious_Thief-4755</td>\n      <td>4755</td>\n      <td>74991.0</td>\n      <td>ba315deb-d5a9-4013-b6ef-e4efe652e569</td>\n      <td>Audacious Thief</td>\n      <td>B</td>\n      <td>Jumpstart Arena Exclusives</td>\n      <td>3.0</td>\n      <td>{2}{B}</td>\n      <td>0</td>\n      <td>...</td>\n      <td>Blank</td>\n      <td>Legal</td>\n      <td>Legal</td>\n      <td>Legal</td>\n      <td>Blank</td>\n      <td>Legal</td>\n      <td>Blank</td>\n      <td>Legal</td>\n      <td>Blank</td>\n      <td>Legal</td>\n    </tr>\n  </tbody>\n</table>\n<p>2 rows × 30 columns</p>\n</div>"
     },
     "metadata": {},
     "execution_count": 11
    }
   ],
   "source": [
    "merge_cols = [\n",
    "    'Names','id','mtgArenaId','scryfallId','name','colors','setName',\n",
    "    'convertedManaCost','manaCost','loyalty','power','toughness',\n",
    "    'type','types','subtypes','text','image_urls',\n",
    "    'brawl','commander','duel','future','historic','legacy','modern',\n",
    "    'oldschool','pauper','penny','pioneer','standard','vintage'\n",
    "]\n",
    "\n",
    "cards_df = pd.read_csv('cards.csv')\\\n",
    "    .query('mtgArenaId.notnull()')\\\n",
    "    .assign(Names=lambda df: df.name + '-' + df.id.astype('str'))\\\n",
    "    .assign(Names=lambda df: df.Names.apply(lambda x: x.replace(' ', '_').replace('//', 'II')))\\\n",
    "    .fillna('0')\\\n",
    "    [merge_cols]\n",
    "\n",
    "print(cards_df.shape)\n",
    "cards_df.head(2)"
   ]
  },
  {
   "cell_type": "code",
   "execution_count": 29,
   "metadata": {},
   "outputs": [
    {
     "output_type": "execute_result",
     "data": {
      "text/plain": [
       "5420"
      ]
     },
     "metadata": {},
     "execution_count": 29
    }
   ],
   "source": [
    "embed_df.columns.nunique()"
   ]
  },
  {
   "cell_type": "code",
   "execution_count": 30,
   "metadata": {},
   "outputs": [
    {
     "output_type": "execute_result",
     "data": {
      "text/plain": [
       "                                       Names     id  mtgArenaId  \\\n",
       "55941  Zof_Consumption_II_Zof_Bloodbog-55942  55942     73331.0   \n",
       "\n",
       "                                 scryfallId                             name  \\\n",
       "55941  98496d5b-1519-4f0c-8b46-0a43be643dfb  Zof Consumption // Zof Bloodbog   \n",
       "\n",
       "      colors          setName  convertedManaCost   manaCost loyalty  ...  \\\n",
       "55941      B  Zendikar Rising                6.0  {4}{B}{B}       0  ...   \n",
       "\n",
       "      future historic legacy modern oldschool pauper  penny pioneer standard  \\\n",
       "55941  Legal    Legal  Legal  Legal     Blank  Blank  Legal   Legal    Legal   \n",
       "\n",
       "      vintage  \n",
       "55941   Legal  \n",
       "\n",
       "[1 rows x 29 columns]"
      ],
      "text/html": "<div>\n<style scoped>\n    .dataframe tbody tr th:only-of-type {\n        vertical-align: middle;\n    }\n\n    .dataframe tbody tr th {\n        vertical-align: top;\n    }\n\n    .dataframe thead th {\n        text-align: right;\n    }\n</style>\n<table border=\"1\" class=\"dataframe\">\n  <thead>\n    <tr style=\"text-align: right;\">\n      <th></th>\n      <th>Names</th>\n      <th>id</th>\n      <th>mtgArenaId</th>\n      <th>scryfallId</th>\n      <th>name</th>\n      <th>colors</th>\n      <th>setName</th>\n      <th>convertedManaCost</th>\n      <th>manaCost</th>\n      <th>loyalty</th>\n      <th>...</th>\n      <th>future</th>\n      <th>historic</th>\n      <th>legacy</th>\n      <th>modern</th>\n      <th>oldschool</th>\n      <th>pauper</th>\n      <th>penny</th>\n      <th>pioneer</th>\n      <th>standard</th>\n      <th>vintage</th>\n    </tr>\n  </thead>\n  <tbody>\n    <tr>\n      <th>55941</th>\n      <td>Zof_Consumption_II_Zof_Bloodbog-55942</td>\n      <td>55942</td>\n      <td>73331.0</td>\n      <td>98496d5b-1519-4f0c-8b46-0a43be643dfb</td>\n      <td>Zof Consumption // Zof Bloodbog</td>\n      <td>B</td>\n      <td>Zendikar Rising</td>\n      <td>6.0</td>\n      <td>{4}{B}{B}</td>\n      <td>0</td>\n      <td>...</td>\n      <td>Legal</td>\n      <td>Legal</td>\n      <td>Legal</td>\n      <td>Legal</td>\n      <td>Blank</td>\n      <td>Blank</td>\n      <td>Legal</td>\n      <td>Legal</td>\n      <td>Legal</td>\n      <td>Legal</td>\n    </tr>\n  </tbody>\n</table>\n<p>1 rows × 29 columns</p>\n</div>"
     },
     "metadata": {},
     "execution_count": 30
    }
   ],
   "source": [
    "cards_df.query('Names == \"Zof_Consumption_II_Zof_Bloodbog-55942\"')"
   ]
  },
  {
   "cell_type": "code",
   "execution_count": 362,
   "metadata": {},
   "outputs": [],
   "source": [
    "all_cards = embed_df.columns\n",
    "\n",
    "BATCH_SIZE = 100\n",
    "batches = [list(all_cards[n:n+BATCH_SIZE]) for n in range(1, len(all_cards), BATCH_SIZE)]"
   ]
  },
  {
   "cell_type": "code",
   "execution_count": 21,
   "metadata": {},
   "outputs": [],
   "source": [
    "merge_cols = [\n",
    "    'Names','id','mtgArenaId','scryfallId','name','colors','setName',\n",
    "    'convertedManaCost','manaCost','loyalty','power','toughness',\n",
    "    'type','types','subtypes','text',\n",
    "    'brawl','commander','duel','future','historic','legacy','modern',\n",
    "    'oldschool','pauper','penny','pioneer','standard','vintage'\n",
    "]"
   ]
  },
  {
   "cell_type": "code",
   "execution_count": 22,
   "metadata": {},
   "outputs": [
    {
     "output_type": "stream",
     "name": "stdout",
     "text": [
      "(5419, 29)\n"
     ]
    },
    {
     "output_type": "execute_result",
     "data": {
      "text/plain": [
       "                           Names    id  mtgArenaId  \\\n",
       "4753  Archon_of_Sun's_Grace-4754  4754     74983.0   \n",
       "4754        Audacious_Thief-4755  4755     74991.0   \n",
       "4755        Banishing_Light-4756  4756     74986.0   \n",
       "\n",
       "                                scryfallId                   name colors  \\\n",
       "4753  94f05268-0d4f-4638-aec3-a85fc339e3a7  Archon of Sun's Grace      W   \n",
       "4754  ba315deb-d5a9-4013-b6ef-e4efe652e569        Audacious Thief      B   \n",
       "4755  ca112bae-6ac5-4cdf-9e8c-1b99f7396995        Banishing Light      W   \n",
       "\n",
       "                         setName  convertedManaCost   manaCost loyalty  ...  \\\n",
       "4753  Jumpstart Arena Exclusives                4.0  {2}{W}{W}       0  ...   \n",
       "4754  Jumpstart Arena Exclusives                3.0     {2}{B}       0  ...   \n",
       "4755  Jumpstart Arena Exclusives                3.0     {2}{W}       0  ...   \n",
       "\n",
       "     future historic legacy modern oldschool pauper  penny pioneer standard  \\\n",
       "4753  Legal    Legal  Legal  Legal     Blank  Blank  Blank   Legal    Legal   \n",
       "4754  Blank    Legal  Legal  Legal     Blank  Legal  Blank   Legal    Blank   \n",
       "4755  Legal    Legal  Legal  Legal     Blank  Blank  Legal   Legal    Legal   \n",
       "\n",
       "     vintage  \n",
       "4753   Legal  \n",
       "4754   Legal  \n",
       "4755   Legal  \n",
       "\n",
       "[3 rows x 29 columns]"
      ],
      "text/html": "<div>\n<style scoped>\n    .dataframe tbody tr th:only-of-type {\n        vertical-align: middle;\n    }\n\n    .dataframe tbody tr th {\n        vertical-align: top;\n    }\n\n    .dataframe thead th {\n        text-align: right;\n    }\n</style>\n<table border=\"1\" class=\"dataframe\">\n  <thead>\n    <tr style=\"text-align: right;\">\n      <th></th>\n      <th>Names</th>\n      <th>id</th>\n      <th>mtgArenaId</th>\n      <th>scryfallId</th>\n      <th>name</th>\n      <th>colors</th>\n      <th>setName</th>\n      <th>convertedManaCost</th>\n      <th>manaCost</th>\n      <th>loyalty</th>\n      <th>...</th>\n      <th>future</th>\n      <th>historic</th>\n      <th>legacy</th>\n      <th>modern</th>\n      <th>oldschool</th>\n      <th>pauper</th>\n      <th>penny</th>\n      <th>pioneer</th>\n      <th>standard</th>\n      <th>vintage</th>\n    </tr>\n  </thead>\n  <tbody>\n    <tr>\n      <th>4753</th>\n      <td>Archon_of_Sun's_Grace-4754</td>\n      <td>4754</td>\n      <td>74983.0</td>\n      <td>94f05268-0d4f-4638-aec3-a85fc339e3a7</td>\n      <td>Archon of Sun's Grace</td>\n      <td>W</td>\n      <td>Jumpstart Arena Exclusives</td>\n      <td>4.0</td>\n      <td>{2}{W}{W}</td>\n      <td>0</td>\n      <td>...</td>\n      <td>Legal</td>\n      <td>Legal</td>\n      <td>Legal</td>\n      <td>Legal</td>\n      <td>Blank</td>\n      <td>Blank</td>\n      <td>Blank</td>\n      <td>Legal</td>\n      <td>Legal</td>\n      <td>Legal</td>\n    </tr>\n    <tr>\n      <th>4754</th>\n      <td>Audacious_Thief-4755</td>\n      <td>4755</td>\n      <td>74991.0</td>\n      <td>ba315deb-d5a9-4013-b6ef-e4efe652e569</td>\n      <td>Audacious Thief</td>\n      <td>B</td>\n      <td>Jumpstart Arena Exclusives</td>\n      <td>3.0</td>\n      <td>{2}{B}</td>\n      <td>0</td>\n      <td>...</td>\n      <td>Blank</td>\n      <td>Legal</td>\n      <td>Legal</td>\n      <td>Legal</td>\n      <td>Blank</td>\n      <td>Legal</td>\n      <td>Blank</td>\n      <td>Legal</td>\n      <td>Blank</td>\n      <td>Legal</td>\n    </tr>\n    <tr>\n      <th>4755</th>\n      <td>Banishing_Light-4756</td>\n      <td>4756</td>\n      <td>74986.0</td>\n      <td>ca112bae-6ac5-4cdf-9e8c-1b99f7396995</td>\n      <td>Banishing Light</td>\n      <td>W</td>\n      <td>Jumpstart Arena Exclusives</td>\n      <td>3.0</td>\n      <td>{2}{W}</td>\n      <td>0</td>\n      <td>...</td>\n      <td>Legal</td>\n      <td>Legal</td>\n      <td>Legal</td>\n      <td>Legal</td>\n      <td>Blank</td>\n      <td>Blank</td>\n      <td>Legal</td>\n      <td>Legal</td>\n      <td>Legal</td>\n      <td>Legal</td>\n    </tr>\n  </tbody>\n</table>\n<p>3 rows × 29 columns</p>\n</div>"
     },
     "metadata": {},
     "execution_count": 22
    }
   ],
   "source": [
    "cards_df = pd.read_csv('cards.csv')\\\n",
    "    .query('mtgArenaId.notnull()')\\\n",
    "    .assign(Names=lambda df: df.name + '-' + df.id.astype('str'))\\\n",
    "    .assign(Names=lambda df: df.Names.apply(lambda x: x.replace(' ', '_').replace('//', 'II')))\\\n",
    "    .fillna('0')\\\n",
    "    [merge_cols]\n",
    "\n",
    "print(cards_df.shape)\n",
    "cards_df.head(3)"
   ]
  },
  {
   "cell_type": "code",
   "execution_count": 23,
   "metadata": {},
   "outputs": [
    {
     "output_type": "execute_result",
     "data": {
      "text/plain": [
       "5419"
      ]
     },
     "metadata": {},
     "execution_count": 23
    }
   ],
   "source": [
    "cards_df.Names.nunique()"
   ]
  },
  {
   "cell_type": "code",
   "execution_count": 24,
   "metadata": {},
   "outputs": [
    {
     "output_type": "execute_result",
     "data": {
      "text/plain": [
       "4267"
      ]
     },
     "metadata": {},
     "execution_count": 24
    }
   ],
   "source": [
    "cards_df.name.nunique()"
   ]
  },
  {
   "cell_type": "code",
   "execution_count": 25,
   "metadata": {},
   "outputs": [
    {
     "output_type": "execute_result",
     "data": {
      "text/plain": [
       "5283"
      ]
     },
     "metadata": {},
     "execution_count": 25
    }
   ],
   "source": [
    "cards_df.scryfallId.nunique()"
   ]
  },
  {
   "cell_type": "code",
   "execution_count": 38,
   "metadata": {},
   "outputs": [],
   "source": [
    "card = 'Oreskos_Swiftclaw-28847'"
   ]
  },
  {
   "cell_type": "code",
   "execution_count": 44,
   "metadata": {},
   "outputs": [
    {
     "output_type": "execute_result",
     "data": {
      "text/plain": [
       "                          Names          similarity     id mtgArenaId  \\\n",
       "3884        Axebane_Beast-45872  0.9999998999999999  45872    69249.0   \n",
       "3684        Canal_Monitor-45672  0.9999998999999999  45672    66743.0   \n",
       "2901     Tolarian_Scholar-28942  0.9999998999999999  28942    67840.0   \n",
       "4864   Headwater_Sentries-54863  0.9999998999999999  54863    66077.0   \n",
       "427   Armored_Whirl_Turtle-5931  0.9999998999999999   5931    75465.0   \n",
       "...                         ...                 ...    ...        ...   \n",
       "3598       Treetop_Warden-35145  0.9999998999999999  35145    69119.0   \n",
       "4749      Rumbling_Baloth-54748  0.9999998999999999  54748    68801.0   \n",
       "3053     Goblin_Assailant-29095  0.9999998999999999  29095    70114.0   \n",
       "786      Tolarian_Scholar-16832  0.9999998999999999  16832    67246.0   \n",
       "4747       Renegade_Demon-54746  0.9999998999999999  54746    68803.0   \n",
       "\n",
       "                                scryfallId                  name colors  \\\n",
       "3884  2f420b35-1f73-41c8-a15f-1aee4af0999c         Axebane Beast      G   \n",
       "3684  78226edc-87dd-4c38-987c-52aefe0f9531         Canal Monitor      B   \n",
       "2901  2eda67da-02b5-4ecb-9038-10e026d454ec      Tolarian Scholar      U   \n",
       "4864  2af2c338-f5e9-4596-9435-c6aa965ae541    Headwater Sentries      U   \n",
       "427   44a783f2-04d3-42fc-acc1-5f2974f9aca2  Armored Whirl Turtle      U   \n",
       "...                                    ...                   ...    ...   \n",
       "3598  771341f5-11b2-4edc-aa41-088e852c058e        Treetop Warden      G   \n",
       "4749  a366fd5c-f6cd-4773-a25d-6114e11238cc       Rumbling Baloth      G   \n",
       "3053  8cfefb65-b6e4-44a1-baa9-d3c00ee8ba96      Goblin Assailant      R   \n",
       "786   00d89839-60d7-4de2-a78a-1afdcc21c053      Tolarian Scholar      U   \n",
       "4747  dd49ee87-62f4-4203-91d7-d850692929de        Renegade Demon      B   \n",
       "\n",
       "                                 setName convertedManaCost   manaCost  ...  \\\n",
       "3884                  Ravnica Allegiance               4.0     {3}{G}  ...   \n",
       "3684                    Rivals of Ixalan               5.0     {4}{B}  ...   \n",
       "2901                       Core Set 2019               3.0     {2}{U}  ...   \n",
       "4864                              Ixalan               4.0     {3}{U}  ...   \n",
       "427                   Arena Beginner Set               3.0     {2}{U}  ...   \n",
       "...                                  ...               ...        ...  ...   \n",
       "3598   Arena New Player Experience Cards               2.0     {1}{G}  ...   \n",
       "4749  Arena New Player Experience Extras               4.0  {2}{G}{G}  ...   \n",
       "3053                       Core Set 2020               2.0     {1}{R}  ...   \n",
       "786                            Dominaria               3.0     {2}{U}  ...   \n",
       "4747  Arena New Player Experience Extras               5.0  {3}{B}{B}  ...   \n",
       "\n",
       "     future historic legacy modern oldschool pauper  penny pioneer standard  \\\n",
       "3884  Blank    Legal  Legal  Legal     Blank  Legal  Legal   Legal    Blank   \n",
       "3684  Blank    Legal  Legal  Legal     Blank  Legal  Legal   Legal    Blank   \n",
       "2901  Blank    Legal  Legal  Legal     Blank  Legal  Legal   Legal    Blank   \n",
       "4864  Blank    Legal  Legal  Legal     Blank  Legal  Legal   Legal    Blank   \n",
       "427   Blank    Legal  Legal  Blank     Blank  Legal  Blank   Blank    Blank   \n",
       "...     ...      ...    ...    ...       ...    ...    ...     ...      ...   \n",
       "3598  Blank    Legal  Blank  Blank     Blank  Blank  Blank   Blank    Blank   \n",
       "4749  Blank    Legal  Legal  Legal     Blank  Legal  Legal   Legal    Blank   \n",
       "3053  Blank    Legal  Legal  Legal     Blank  Legal  Legal   Legal    Blank   \n",
       "786   Blank    Legal  Legal  Legal     Blank  Legal  Legal   Legal    Blank   \n",
       "4747  Blank    Blank  Legal  Legal     Blank  Legal  Legal   Blank    Blank   \n",
       "\n",
       "     vintage  \n",
       "3884   Legal  \n",
       "3684   Legal  \n",
       "2901   Legal  \n",
       "4864   Legal  \n",
       "427    Legal  \n",
       "...      ...  \n",
       "3598   Blank  \n",
       "4749   Legal  \n",
       "3053   Legal  \n",
       "786    Legal  \n",
       "4747   Legal  \n",
       "\n",
       "[101 rows x 30 columns]"
      ],
      "text/html": "<div>\n<style scoped>\n    .dataframe tbody tr th:only-of-type {\n        vertical-align: middle;\n    }\n\n    .dataframe tbody tr th {\n        vertical-align: top;\n    }\n\n    .dataframe thead th {\n        text-align: right;\n    }\n</style>\n<table border=\"1\" class=\"dataframe\">\n  <thead>\n    <tr style=\"text-align: right;\">\n      <th></th>\n      <th>Names</th>\n      <th>similarity</th>\n      <th>id</th>\n      <th>mtgArenaId</th>\n      <th>scryfallId</th>\n      <th>name</th>\n      <th>colors</th>\n      <th>setName</th>\n      <th>convertedManaCost</th>\n      <th>manaCost</th>\n      <th>...</th>\n      <th>future</th>\n      <th>historic</th>\n      <th>legacy</th>\n      <th>modern</th>\n      <th>oldschool</th>\n      <th>pauper</th>\n      <th>penny</th>\n      <th>pioneer</th>\n      <th>standard</th>\n      <th>vintage</th>\n    </tr>\n  </thead>\n  <tbody>\n    <tr>\n      <th>3884</th>\n      <td>Axebane_Beast-45872</td>\n      <td>0.9999998999999999</td>\n      <td>45872</td>\n      <td>69249.0</td>\n      <td>2f420b35-1f73-41c8-a15f-1aee4af0999c</td>\n      <td>Axebane Beast</td>\n      <td>G</td>\n      <td>Ravnica Allegiance</td>\n      <td>4.0</td>\n      <td>{3}{G}</td>\n      <td>...</td>\n      <td>Blank</td>\n      <td>Legal</td>\n      <td>Legal</td>\n      <td>Legal</td>\n      <td>Blank</td>\n      <td>Legal</td>\n      <td>Legal</td>\n      <td>Legal</td>\n      <td>Blank</td>\n      <td>Legal</td>\n    </tr>\n    <tr>\n      <th>3684</th>\n      <td>Canal_Monitor-45672</td>\n      <td>0.9999998999999999</td>\n      <td>45672</td>\n      <td>66743.0</td>\n      <td>78226edc-87dd-4c38-987c-52aefe0f9531</td>\n      <td>Canal Monitor</td>\n      <td>B</td>\n      <td>Rivals of Ixalan</td>\n      <td>5.0</td>\n      <td>{4}{B}</td>\n      <td>...</td>\n      <td>Blank</td>\n      <td>Legal</td>\n      <td>Legal</td>\n      <td>Legal</td>\n      <td>Blank</td>\n      <td>Legal</td>\n      <td>Legal</td>\n      <td>Legal</td>\n      <td>Blank</td>\n      <td>Legal</td>\n    </tr>\n    <tr>\n      <th>2901</th>\n      <td>Tolarian_Scholar-28942</td>\n      <td>0.9999998999999999</td>\n      <td>28942</td>\n      <td>67840.0</td>\n      <td>2eda67da-02b5-4ecb-9038-10e026d454ec</td>\n      <td>Tolarian Scholar</td>\n      <td>U</td>\n      <td>Core Set 2019</td>\n      <td>3.0</td>\n      <td>{2}{U}</td>\n      <td>...</td>\n      <td>Blank</td>\n      <td>Legal</td>\n      <td>Legal</td>\n      <td>Legal</td>\n      <td>Blank</td>\n      <td>Legal</td>\n      <td>Legal</td>\n      <td>Legal</td>\n      <td>Blank</td>\n      <td>Legal</td>\n    </tr>\n    <tr>\n      <th>4864</th>\n      <td>Headwater_Sentries-54863</td>\n      <td>0.9999998999999999</td>\n      <td>54863</td>\n      <td>66077.0</td>\n      <td>2af2c338-f5e9-4596-9435-c6aa965ae541</td>\n      <td>Headwater Sentries</td>\n      <td>U</td>\n      <td>Ixalan</td>\n      <td>4.0</td>\n      <td>{3}{U}</td>\n      <td>...</td>\n      <td>Blank</td>\n      <td>Legal</td>\n      <td>Legal</td>\n      <td>Legal</td>\n      <td>Blank</td>\n      <td>Legal</td>\n      <td>Legal</td>\n      <td>Legal</td>\n      <td>Blank</td>\n      <td>Legal</td>\n    </tr>\n    <tr>\n      <th>427</th>\n      <td>Armored_Whirl_Turtle-5931</td>\n      <td>0.9999998999999999</td>\n      <td>5931</td>\n      <td>75465.0</td>\n      <td>44a783f2-04d3-42fc-acc1-5f2974f9aca2</td>\n      <td>Armored Whirl Turtle</td>\n      <td>U</td>\n      <td>Arena Beginner Set</td>\n      <td>3.0</td>\n      <td>{2}{U}</td>\n      <td>...</td>\n      <td>Blank</td>\n      <td>Legal</td>\n      <td>Legal</td>\n      <td>Blank</td>\n      <td>Blank</td>\n      <td>Legal</td>\n      <td>Blank</td>\n      <td>Blank</td>\n      <td>Blank</td>\n      <td>Legal</td>\n    </tr>\n    <tr>\n      <th>...</th>\n      <td>...</td>\n      <td>...</td>\n      <td>...</td>\n      <td>...</td>\n      <td>...</td>\n      <td>...</td>\n      <td>...</td>\n      <td>...</td>\n      <td>...</td>\n      <td>...</td>\n      <td>...</td>\n      <td>...</td>\n      <td>...</td>\n      <td>...</td>\n      <td>...</td>\n      <td>...</td>\n      <td>...</td>\n      <td>...</td>\n      <td>...</td>\n      <td>...</td>\n      <td>...</td>\n    </tr>\n    <tr>\n      <th>3598</th>\n      <td>Treetop_Warden-35145</td>\n      <td>0.9999998999999999</td>\n      <td>35145</td>\n      <td>69119.0</td>\n      <td>771341f5-11b2-4edc-aa41-088e852c058e</td>\n      <td>Treetop Warden</td>\n      <td>G</td>\n      <td>Arena New Player Experience Cards</td>\n      <td>2.0</td>\n      <td>{1}{G}</td>\n      <td>...</td>\n      <td>Blank</td>\n      <td>Legal</td>\n      <td>Blank</td>\n      <td>Blank</td>\n      <td>Blank</td>\n      <td>Blank</td>\n      <td>Blank</td>\n      <td>Blank</td>\n      <td>Blank</td>\n      <td>Blank</td>\n    </tr>\n    <tr>\n      <th>4749</th>\n      <td>Rumbling_Baloth-54748</td>\n      <td>0.9999998999999999</td>\n      <td>54748</td>\n      <td>68801.0</td>\n      <td>a366fd5c-f6cd-4773-a25d-6114e11238cc</td>\n      <td>Rumbling Baloth</td>\n      <td>G</td>\n      <td>Arena New Player Experience Extras</td>\n      <td>4.0</td>\n      <td>{2}{G}{G}</td>\n      <td>...</td>\n      <td>Blank</td>\n      <td>Legal</td>\n      <td>Legal</td>\n      <td>Legal</td>\n      <td>Blank</td>\n      <td>Legal</td>\n      <td>Legal</td>\n      <td>Legal</td>\n      <td>Blank</td>\n      <td>Legal</td>\n    </tr>\n    <tr>\n      <th>3053</th>\n      <td>Goblin_Assailant-29095</td>\n      <td>0.9999998999999999</td>\n      <td>29095</td>\n      <td>70114.0</td>\n      <td>8cfefb65-b6e4-44a1-baa9-d3c00ee8ba96</td>\n      <td>Goblin Assailant</td>\n      <td>R</td>\n      <td>Core Set 2020</td>\n      <td>2.0</td>\n      <td>{1}{R}</td>\n      <td>...</td>\n      <td>Blank</td>\n      <td>Legal</td>\n      <td>Legal</td>\n      <td>Legal</td>\n      <td>Blank</td>\n      <td>Legal</td>\n      <td>Legal</td>\n      <td>Legal</td>\n      <td>Blank</td>\n      <td>Legal</td>\n    </tr>\n    <tr>\n      <th>786</th>\n      <td>Tolarian_Scholar-16832</td>\n      <td>0.9999998999999999</td>\n      <td>16832</td>\n      <td>67246.0</td>\n      <td>00d89839-60d7-4de2-a78a-1afdcc21c053</td>\n      <td>Tolarian Scholar</td>\n      <td>U</td>\n      <td>Dominaria</td>\n      <td>3.0</td>\n      <td>{2}{U}</td>\n      <td>...</td>\n      <td>Blank</td>\n      <td>Legal</td>\n      <td>Legal</td>\n      <td>Legal</td>\n      <td>Blank</td>\n      <td>Legal</td>\n      <td>Legal</td>\n      <td>Legal</td>\n      <td>Blank</td>\n      <td>Legal</td>\n    </tr>\n    <tr>\n      <th>4747</th>\n      <td>Renegade_Demon-54746</td>\n      <td>0.9999998999999999</td>\n      <td>54746</td>\n      <td>68803.0</td>\n      <td>dd49ee87-62f4-4203-91d7-d850692929de</td>\n      <td>Renegade Demon</td>\n      <td>B</td>\n      <td>Arena New Player Experience Extras</td>\n      <td>5.0</td>\n      <td>{3}{B}{B}</td>\n      <td>...</td>\n      <td>Blank</td>\n      <td>Blank</td>\n      <td>Legal</td>\n      <td>Legal</td>\n      <td>Blank</td>\n      <td>Legal</td>\n      <td>Legal</td>\n      <td>Blank</td>\n      <td>Blank</td>\n      <td>Legal</td>\n    </tr>\n  </tbody>\n</table>\n<p>101 rows × 30 columns</p>\n</div>"
     },
     "metadata": {},
     "execution_count": 44
    }
   ],
   "source": [
    "staged_card = embed_df[['Names', card]]\\\n",
    "    .merge(cards_df, how='left', on='Names')\n",
    "\n",
    "Item = staged_card.query('Names == @card').to_dict(orient='records')\n",
    "\n",
    "staged_card = staged_card\\\n",
    "    .sort_values(by=card, ascending=False)\\\n",
    "    .head(51)\\\n",
    "    .rename(columns={card: 'similarity'})\\\n",
    "    .assign(similarity=lambda df: df.similarity.astype('str'))\\\n",
    "    .assign(id=lambda df: df.id.astype('str'))\\\n",
    "    .assign(mtgArenaId=lambda df: df.mtgArenaId.astype('str'))\\\n",
    "    .assign(loyalty=lambda df: df.loyalty.astype('str'))\\\n",
    "    .assign(power=lambda df: df.power.astype('str'))\\\n",
    "    .assign(toughness=lambda df: df.toughness.astype('str'))\\\n",
    "    .assign(convertedManaCost=lambda df: df.convertedManaCost.astype('str'))\n",
    "\n",
    "staged_card"
   ]
  },
  {
   "cell_type": "code",
   "execution_count": 40,
   "metadata": {},
   "outputs": [
    {
     "output_type": "execute_result",
     "data": {
      "text/plain": [
       "[{'Names': 'Oreskos_Swiftclaw-28847',\n",
       "  'similarity': '0.9999998999999999',\n",
       "  'id': '28847',\n",
       "  'mtgArenaId': '67742.0',\n",
       "  'scryfallId': '0ea1dfb4-1983-41f7-956c-f2a1d1489b54',\n",
       "  'name': 'Oreskos Swiftclaw',\n",
       "  'colors': 'W',\n",
       "  'setName': 'Core Set 2019',\n",
       "  'convertedManaCost': '2.0',\n",
       "  'manaCost': '{1}{W}',\n",
       "  'loyalty': '0',\n",
       "  'power': '3',\n",
       "  'toughness': '1',\n",
       "  'type': 'Creature — Cat Warrior',\n",
       "  'types': 'Creature',\n",
       "  'subtypes': 'Cat,Warrior',\n",
       "  'text': '0',\n",
       "  'brawl': 'Blank',\n",
       "  'commander': 'Legal',\n",
       "  'duel': 'Legal',\n",
       "  'future': 'Blank',\n",
       "  'historic': 'Legal',\n",
       "  'legacy': 'Legal',\n",
       "  'modern': 'Legal',\n",
       "  'oldschool': 'Blank',\n",
       "  'pauper': 'Legal',\n",
       "  'penny': 'Legal',\n",
       "  'pioneer': 'Legal',\n",
       "  'standard': 'Blank',\n",
       "  'vintage': 'Legal'}]"
      ]
     },
     "metadata": {},
     "execution_count": 40
    }
   ],
   "source": [
    "Item = staged_card.query('Names == @card').to_dict(orient='records')\n",
    "Item"
   ]
  },
  {
   "cell_type": "code",
   "execution_count": null,
   "metadata": {},
   "outputs": [],
   "source": []
  },
  {
   "source": [
    "## Get card item from Dyanmo"
   ],
   "cell_type": "markdown",
   "metadata": {}
  },
  {
   "cell_type": "code",
   "execution_count": 1,
   "metadata": {},
   "outputs": [],
   "source": [
    "import os\n",
    "import json\n",
    "import boto3\n",
    "from boto3.dynamodb.conditions import Key"
   ]
  },
  {
   "cell_type": "code",
   "execution_count": 2,
   "metadata": {},
   "outputs": [],
   "source": [
    "SIMILARITY_TABLE = 'similarity-dev'"
   ]
  },
  {
   "cell_type": "code",
   "execution_count": 3,
   "metadata": {},
   "outputs": [],
   "source": [
    "boto_sess = boto3.Session(profile_name='lw2134')\n",
    "dynamodb = boto_sess.resource('dynamodb')\n",
    "table = dynamodb.Table(SIMILARITY_TABLE)"
   ]
  },
  {
   "cell_type": "code",
   "execution_count": 8,
   "metadata": {},
   "outputs": [
    {
     "output_type": "error",
     "ename": "ClientError",
     "evalue": "An error occurred (ValidationException) when calling the Query operation: Query key condition not supported",
     "traceback": [
      "\u001b[1;31m---------------------------------------------------------------------------\u001b[0m",
      "\u001b[1;31mClientError\u001b[0m                               Traceback (most recent call last)",
      "\u001b[1;32m<ipython-input-8-109ee3f0af4f>\u001b[0m in \u001b[0;36m<module>\u001b[1;34m\u001b[0m\n\u001b[0;32m      4\u001b[0m         'name': {\n\u001b[0;32m      5\u001b[0m             \u001b[1;34m'AttributeValueList'\u001b[0m\u001b[1;33m:\u001b[0m \u001b[1;33m[\u001b[0m\u001b[1;34m'Banishing'\u001b[0m\u001b[1;33m]\u001b[0m\u001b[1;33m,\u001b[0m\u001b[1;33m\u001b[0m\u001b[1;33m\u001b[0m\u001b[0m\n\u001b[1;32m----> 6\u001b[1;33m             \u001b[1;34m'ComparisonOperator'\u001b[0m\u001b[1;33m:\u001b[0m \u001b[1;34m'BEGINS_WITH'\u001b[0m\u001b[1;33m\u001b[0m\u001b[1;33m\u001b[0m\u001b[0m\n\u001b[0m\u001b[0;32m      7\u001b[0m         }\n\u001b[0;32m      8\u001b[0m     }\n",
      "\u001b[1;32m~\\Anaconda3\\envs\\magicml\\lib\\site-packages\\boto3\\resources\\factory.py\u001b[0m in \u001b[0;36mdo_action\u001b[1;34m(self, *args, **kwargs)\u001b[0m\n\u001b[0;32m    518\u001b[0m             \u001b[1;31m# instance via ``self``.\u001b[0m\u001b[1;33m\u001b[0m\u001b[1;33m\u001b[0m\u001b[1;33m\u001b[0m\u001b[0m\n\u001b[0;32m    519\u001b[0m             \u001b[1;32mdef\u001b[0m \u001b[0mdo_action\u001b[0m\u001b[1;33m(\u001b[0m\u001b[0mself\u001b[0m\u001b[1;33m,\u001b[0m \u001b[1;33m*\u001b[0m\u001b[0margs\u001b[0m\u001b[1;33m,\u001b[0m \u001b[1;33m**\u001b[0m\u001b[0mkwargs\u001b[0m\u001b[1;33m)\u001b[0m\u001b[1;33m:\u001b[0m\u001b[1;33m\u001b[0m\u001b[1;33m\u001b[0m\u001b[0m\n\u001b[1;32m--> 520\u001b[1;33m                 \u001b[0mresponse\u001b[0m \u001b[1;33m=\u001b[0m \u001b[0maction\u001b[0m\u001b[1;33m(\u001b[0m\u001b[0mself\u001b[0m\u001b[1;33m,\u001b[0m \u001b[1;33m*\u001b[0m\u001b[0margs\u001b[0m\u001b[1;33m,\u001b[0m \u001b[1;33m**\u001b[0m\u001b[0mkwargs\u001b[0m\u001b[1;33m)\u001b[0m\u001b[1;33m\u001b[0m\u001b[1;33m\u001b[0m\u001b[0m\n\u001b[0m\u001b[0;32m    521\u001b[0m \u001b[1;33m\u001b[0m\u001b[0m\n\u001b[0;32m    522\u001b[0m                 \u001b[1;32mif\u001b[0m \u001b[0mhasattr\u001b[0m\u001b[1;33m(\u001b[0m\u001b[0mself\u001b[0m\u001b[1;33m,\u001b[0m \u001b[1;34m'load'\u001b[0m\u001b[1;33m)\u001b[0m\u001b[1;33m:\u001b[0m\u001b[1;33m\u001b[0m\u001b[1;33m\u001b[0m\u001b[0m\n",
      "\u001b[1;32m~\\Anaconda3\\envs\\magicml\\lib\\site-packages\\boto3\\resources\\action.py\u001b[0m in \u001b[0;36m__call__\u001b[1;34m(self, parent, *args, **kwargs)\u001b[0m\n\u001b[0;32m     81\u001b[0m                     operation_name, params)\n\u001b[0;32m     82\u001b[0m \u001b[1;33m\u001b[0m\u001b[0m\n\u001b[1;32m---> 83\u001b[1;33m         \u001b[0mresponse\u001b[0m \u001b[1;33m=\u001b[0m \u001b[0mgetattr\u001b[0m\u001b[1;33m(\u001b[0m\u001b[0mparent\u001b[0m\u001b[1;33m.\u001b[0m\u001b[0mmeta\u001b[0m\u001b[1;33m.\u001b[0m\u001b[0mclient\u001b[0m\u001b[1;33m,\u001b[0m \u001b[0moperation_name\u001b[0m\u001b[1;33m)\u001b[0m\u001b[1;33m(\u001b[0m\u001b[1;33m*\u001b[0m\u001b[0margs\u001b[0m\u001b[1;33m,\u001b[0m \u001b[1;33m**\u001b[0m\u001b[0mparams\u001b[0m\u001b[1;33m)\u001b[0m\u001b[1;33m\u001b[0m\u001b[1;33m\u001b[0m\u001b[0m\n\u001b[0m\u001b[0;32m     84\u001b[0m \u001b[1;33m\u001b[0m\u001b[0m\n\u001b[0;32m     85\u001b[0m         \u001b[0mlogger\u001b[0m\u001b[1;33m.\u001b[0m\u001b[0mdebug\u001b[0m\u001b[1;33m(\u001b[0m\u001b[1;34m'Response: %r'\u001b[0m\u001b[1;33m,\u001b[0m \u001b[0mresponse\u001b[0m\u001b[1;33m)\u001b[0m\u001b[1;33m\u001b[0m\u001b[1;33m\u001b[0m\u001b[0m\n",
      "\u001b[1;32m~\\Anaconda3\\envs\\magicml\\lib\\site-packages\\botocore\\client.py\u001b[0m in \u001b[0;36m_api_call\u001b[1;34m(self, *args, **kwargs)\u001b[0m\n\u001b[0;32m    355\u001b[0m                     \"%s() only accepts keyword arguments.\" % py_operation_name)\n\u001b[0;32m    356\u001b[0m             \u001b[1;31m# The \"self\" in this scope is referring to the BaseClient.\u001b[0m\u001b[1;33m\u001b[0m\u001b[1;33m\u001b[0m\u001b[1;33m\u001b[0m\u001b[0m\n\u001b[1;32m--> 357\u001b[1;33m             \u001b[1;32mreturn\u001b[0m \u001b[0mself\u001b[0m\u001b[1;33m.\u001b[0m\u001b[0m_make_api_call\u001b[0m\u001b[1;33m(\u001b[0m\u001b[0moperation_name\u001b[0m\u001b[1;33m,\u001b[0m \u001b[0mkwargs\u001b[0m\u001b[1;33m)\u001b[0m\u001b[1;33m\u001b[0m\u001b[1;33m\u001b[0m\u001b[0m\n\u001b[0m\u001b[0;32m    358\u001b[0m \u001b[1;33m\u001b[0m\u001b[0m\n\u001b[0;32m    359\u001b[0m         \u001b[0m_api_call\u001b[0m\u001b[1;33m.\u001b[0m\u001b[0m__name__\u001b[0m \u001b[1;33m=\u001b[0m \u001b[0mstr\u001b[0m\u001b[1;33m(\u001b[0m\u001b[0mpy_operation_name\u001b[0m\u001b[1;33m)\u001b[0m\u001b[1;33m\u001b[0m\u001b[1;33m\u001b[0m\u001b[0m\n",
      "\u001b[1;32m~\\Anaconda3\\envs\\magicml\\lib\\site-packages\\botocore\\client.py\u001b[0m in \u001b[0;36m_make_api_call\u001b[1;34m(self, operation_name, api_params)\u001b[0m\n\u001b[0;32m    674\u001b[0m             \u001b[0merror_code\u001b[0m \u001b[1;33m=\u001b[0m \u001b[0mparsed_response\u001b[0m\u001b[1;33m.\u001b[0m\u001b[0mget\u001b[0m\u001b[1;33m(\u001b[0m\u001b[1;34m\"Error\"\u001b[0m\u001b[1;33m,\u001b[0m \u001b[1;33m{\u001b[0m\u001b[1;33m}\u001b[0m\u001b[1;33m)\u001b[0m\u001b[1;33m.\u001b[0m\u001b[0mget\u001b[0m\u001b[1;33m(\u001b[0m\u001b[1;34m\"Code\"\u001b[0m\u001b[1;33m)\u001b[0m\u001b[1;33m\u001b[0m\u001b[1;33m\u001b[0m\u001b[0m\n\u001b[0;32m    675\u001b[0m             \u001b[0merror_class\u001b[0m \u001b[1;33m=\u001b[0m \u001b[0mself\u001b[0m\u001b[1;33m.\u001b[0m\u001b[0mexceptions\u001b[0m\u001b[1;33m.\u001b[0m\u001b[0mfrom_code\u001b[0m\u001b[1;33m(\u001b[0m\u001b[0merror_code\u001b[0m\u001b[1;33m)\u001b[0m\u001b[1;33m\u001b[0m\u001b[1;33m\u001b[0m\u001b[0m\n\u001b[1;32m--> 676\u001b[1;33m             \u001b[1;32mraise\u001b[0m \u001b[0merror_class\u001b[0m\u001b[1;33m(\u001b[0m\u001b[0mparsed_response\u001b[0m\u001b[1;33m,\u001b[0m \u001b[0moperation_name\u001b[0m\u001b[1;33m)\u001b[0m\u001b[1;33m\u001b[0m\u001b[1;33m\u001b[0m\u001b[0m\n\u001b[0m\u001b[0;32m    677\u001b[0m         \u001b[1;32melse\u001b[0m\u001b[1;33m:\u001b[0m\u001b[1;33m\u001b[0m\u001b[1;33m\u001b[0m\u001b[0m\n\u001b[0;32m    678\u001b[0m             \u001b[1;32mreturn\u001b[0m \u001b[0mparsed_response\u001b[0m\u001b[1;33m\u001b[0m\u001b[1;33m\u001b[0m\u001b[0m\n",
      "\u001b[1;31mClientError\u001b[0m: An error occurred (ValidationException) when calling the Query operation: Query key condition not supported"
     ]
    }
   ],
   "source": [
    "# QUERY CARD BY NAME CONTAINS\n",
    "card_item = table.query(\n",
    "    KeyConditions={\n",
    "        'name': {\n",
    "            'AttributeValueList': ['Banishing'],\n",
    "            'ComparisonOperator': 'BEGINS_WITH'\n",
    "        }\n",
    "    }\n",
    ")\n",
    "\n",
    "print(card_item)\n",
    "#print(card_item['Items'][0]['name'])\n",
    "#print(len(card_item['Items']))\n",
    "#print(card_item['Items'][0]['text'])"
   ]
  },
  {
   "cell_type": "code",
   "execution_count": 323,
   "metadata": {},
   "outputs": [
    {
     "output_type": "stream",
     "name": "stdout",
     "text": [
      "Bontu's Last Reckoning\n1\nDestroy all creatures. Lands you control don't untap during your next untap step.\n"
     ]
    }
   ],
   "source": [
    "# QUERY BY NAME\n",
    "card_item = table.query(\n",
    "    KeyConditionExpression=Key('name').eq(\"Bontu's Last Reckoning\")\n",
    ")\n",
    "\n",
    "print(card_item['Items'][0]['name'])\n",
    "print(len(card_item['Items']))\n",
    "print(card_item['Items'][0]['text'])"
   ]
  },
  {
   "cell_type": "code",
   "execution_count": null,
   "metadata": {},
   "outputs": [],
   "source": []
  },
  {
   "source": [
    "## Call deployed API"
   ],
   "cell_type": "markdown",
   "metadata": {}
  },
  {
   "cell_type": "code",
   "execution_count": 10,
   "metadata": {},
   "outputs": [],
   "source": [
    "import requests"
   ]
  },
  {
   "source": [
    "### Scryfall Card Search API"
   ],
   "cell_type": "markdown",
   "metadata": {}
  },
  {
   "cell_type": "code",
   "execution_count": 23,
   "metadata": {},
   "outputs": [],
   "source": [
    "q = 'garruk cursed'"
   ]
  },
  {
   "cell_type": "code",
   "execution_count": 24,
   "metadata": {},
   "outputs": [],
   "source": [
    "res = requests.get('https://api.scryfall.com/cards/search?q={}'.format(q))"
   ]
  },
  {
   "cell_type": "code",
   "execution_count": 25,
   "metadata": {},
   "outputs": [
    {
     "output_type": "execute_result",
     "data": {
      "text/plain": [
       "{'object': 'list',\n",
       " 'total_cards': 2,\n",
       " 'has_more': False,\n",
       " 'data': [{'object': 'card',\n",
       "   'id': 'abef512f-8f1d-4257-b16f-c0eed58670ec',\n",
       "   'oracle_id': 'e0cef79c-ad47-4cbc-9d73-a913e487ccb7',\n",
       "   'multiverse_ids': [473153],\n",
       "   'mtgo_id': 78526,\n",
       "   'arena_id': 70338,\n",
       "   'tcgplayer_id': 198500,\n",
       "   'cardmarket_id': 398939,\n",
       "   'name': 'Garruk, Cursed Huntsman',\n",
       "   'lang': 'en',\n",
       "   'released_at': '2019-10-04',\n",
       "   'uri': 'https://api.scryfall.com/cards/abef512f-8f1d-4257-b16f-c0eed58670ec',\n",
       "   'scryfall_uri': 'https://scryfall.com/card/eld/191/garruk-cursed-huntsman?utm_source=api',\n",
       "   'layout': 'normal',\n",
       "   'highres_image': True,\n",
       "   'image_uris': {'small': 'https://c1.scryfall.com/file/scryfall-cards/small/front/a/b/abef512f-8f1d-4257-b16f-c0eed58670ec.jpg?1572490758',\n",
       "    'normal': 'https://c1.scryfall.com/file/scryfall-cards/normal/front/a/b/abef512f-8f1d-4257-b16f-c0eed58670ec.jpg?1572490758',\n",
       "    'large': 'https://c1.scryfall.com/file/scryfall-cards/large/front/a/b/abef512f-8f1d-4257-b16f-c0eed58670ec.jpg?1572490758',\n",
       "    'png': 'https://c1.scryfall.com/file/scryfall-cards/png/front/a/b/abef512f-8f1d-4257-b16f-c0eed58670ec.png?1572490758',\n",
       "    'art_crop': 'https://c1.scryfall.com/file/scryfall-cards/art_crop/front/a/b/abef512f-8f1d-4257-b16f-c0eed58670ec.jpg?1572490758',\n",
       "    'border_crop': 'https://c1.scryfall.com/file/scryfall-cards/border_crop/front/a/b/abef512f-8f1d-4257-b16f-c0eed58670ec.jpg?1572490758'},\n",
       "   'mana_cost': '{4}{B}{G}',\n",
       "   'cmc': 6.0,\n",
       "   'type_line': 'Legendary Planeswalker — Garruk',\n",
       "   'oracle_text': '0: Create two 2/2 black and green Wolf creature tokens with \"When this creature dies, put a loyalty counter on each Garruk you control.\"\\n−3: Destroy target creature. Draw a card.\\n−6: You get an emblem with \"Creatures you control get +3/+3 and have trample.\"',\n",
       "   'loyalty': '5',\n",
       "   'colors': ['B', 'G'],\n",
       "   'color_identity': ['B', 'G'],\n",
       "   'keywords': [],\n",
       "   'all_parts': [{'object': 'related_card',\n",
       "     'id': 'abef512f-8f1d-4257-b16f-c0eed58670ec',\n",
       "     'component': 'combo_piece',\n",
       "     'name': 'Garruk, Cursed Huntsman',\n",
       "     'type_line': 'Legendary Planeswalker — Garruk',\n",
       "     'uri': 'https://api.scryfall.com/cards/abef512f-8f1d-4257-b16f-c0eed58670ec'},\n",
       "    {'object': 'related_card',\n",
       "     'id': '88452ed7-1065-41c3-94a6-dc41108c45c1',\n",
       "     'component': 'token',\n",
       "     'name': 'Wolf',\n",
       "     'type_line': 'Token Creature — Wolf',\n",
       "     'uri': 'https://api.scryfall.com/cards/88452ed7-1065-41c3-94a6-dc41108c45c1'},\n",
       "    {'object': 'related_card',\n",
       "     'id': 'd6c65749-1774-4b36-891e-abf762c95cec',\n",
       "     'component': 'combo_piece',\n",
       "     'name': 'Garruk, Cursed Huntsman Emblem',\n",
       "     'type_line': 'Emblem',\n",
       "     'uri': 'https://api.scryfall.com/cards/d6c65749-1774-4b36-891e-abf762c95cec'}],\n",
       "   'legalities': {'standard': 'legal',\n",
       "    'future': 'legal',\n",
       "    'historic': 'legal',\n",
       "    'pioneer': 'legal',\n",
       "    'modern': 'legal',\n",
       "    'legacy': 'legal',\n",
       "    'pauper': 'not_legal',\n",
       "    'vintage': 'legal',\n",
       "    'penny': 'not_legal',\n",
       "    'commander': 'legal',\n",
       "    'brawl': 'legal',\n",
       "    'duel': 'legal',\n",
       "    'oldschool': 'not_legal'},\n",
       "   'games': ['arena', 'paper', 'mtgo'],\n",
       "   'reserved': False,\n",
       "   'foil': True,\n",
       "   'nonfoil': True,\n",
       "   'oversized': False,\n",
       "   'promo': False,\n",
       "   'reprint': False,\n",
       "   'variation': False,\n",
       "   'set': 'eld',\n",
       "   'set_name': 'Throne of Eldraine',\n",
       "   'set_type': 'expansion',\n",
       "   'set_uri': 'https://api.scryfall.com/sets/a90a7b2f-9dd8-4fc7-9f7d-8ea2797ec782',\n",
       "   'set_search_uri': 'https://api.scryfall.com/cards/search?order=set&q=e%3Aeld&unique=prints',\n",
       "   'scryfall_set_uri': 'https://scryfall.com/sets/eld?utm_source=api',\n",
       "   'rulings_uri': 'https://api.scryfall.com/cards/abef512f-8f1d-4257-b16f-c0eed58670ec/rulings',\n",
       "   'prints_search_uri': 'https://api.scryfall.com/cards/search?order=released&q=oracleid%3Ae0cef79c-ad47-4cbc-9d73-a913e487ccb7&unique=prints',\n",
       "   'collector_number': '191',\n",
       "   'digital': False,\n",
       "   'rarity': 'mythic',\n",
       "   'card_back_id': '0aeebaf5-8c7d-4636-9e82-8c27447861f7',\n",
       "   'artist': 'Eric Deschamps',\n",
       "   'artist_ids': ['37970e22-9cee-44c1-af44-5ee27cf26b76'],\n",
       "   'illustration_id': 'e8db5195-5a86-4610-9606-bbc0e5209909',\n",
       "   'border_color': 'black',\n",
       "   'frame': '2015',\n",
       "   'full_art': False,\n",
       "   'textless': False,\n",
       "   'booster': True,\n",
       "   'story_spotlight': False,\n",
       "   'edhrec_rank': 2471,\n",
       "   'preview': {'source': 'Wizards of the Coast',\n",
       "    'source_uri': 'https://twitter.com/MTG_Arena/status/1169264113412972544',\n",
       "    'previewed_at': '2019-09-04'},\n",
       "   'prices': {'usd': '2.37',\n",
       "    'usd_foil': '3.22',\n",
       "    'eur': '2.60',\n",
       "    'eur_foil': '3.24',\n",
       "    'tix': '0.35'},\n",
       "   'related_uris': {'gatherer': 'https://gatherer.wizards.com/Pages/Card/Details.aspx?multiverseid=473153',\n",
       "    'tcgplayer_decks': 'https://decks.tcgplayer.com/magic/deck/search?contains=Garruk%2C+Cursed+Huntsman&page=1&utm_campaign=affiliate&utm_medium=api&utm_source=scryfall',\n",
       "    'edhrec': 'https://edhrec.com/route/?cc=Garruk%2C+Cursed+Huntsman',\n",
       "    'mtgtop8': 'https://mtgtop8.com/search?MD_check=1&SB_check=1&cards=Garruk%2C+Cursed+Huntsman'},\n",
       "   'purchase_uris': {'tcgplayer': 'https://shop.tcgplayer.com/product/productsearch?id=198500&utm_campaign=affiliate&utm_medium=api&utm_source=scryfall',\n",
       "    'cardmarket': 'https://www.cardmarket.com/en/Magic/Products/Search?referrer=scryfall&searchString=Garruk%2C+Cursed+Huntsman&utm_campaign=card_prices&utm_medium=text&utm_source=scryfall',\n",
       "    'cardhoarder': 'https://www.cardhoarder.com/cards/78526?affiliate_id=scryfall&ref=card-profile&utm_campaign=affiliate&utm_medium=card&utm_source=scryfall'}},\n",
       "  {'object': 'card',\n",
       "   'id': 'b4160322-ff40-41a4-887a-73cd6b85ae45',\n",
       "   'oracle_id': '7cec9021-6f25-4fd8-b40e-adf4ffd3a7b8',\n",
       "   'multiverse_ids': [245250, 245251],\n",
       "   'mtgo_id': 42744,\n",
       "   'mtgo_foil_id': 42745,\n",
       "   'tcgplayer_id': 52203,\n",
       "   'cardmarket_id': 250560,\n",
       "   'name': 'Garruk Relentless // Garruk, the Veil-Cursed',\n",
       "   'lang': 'en',\n",
       "   'released_at': '2011-09-30',\n",
       "   'uri': 'https://api.scryfall.com/cards/b4160322-ff40-41a4-887a-73cd6b85ae45',\n",
       "   'scryfall_uri': 'https://scryfall.com/card/isd/181/garruk-relentless-garruk-the-veil-cursed?utm_source=api',\n",
       "   'layout': 'transform',\n",
       "   'highres_image': True,\n",
       "   'cmc': 4.0,\n",
       "   'type_line': 'Legendary Planeswalker — Garruk // Legendary Planeswalker — Garruk',\n",
       "   'color_identity': ['B', 'G'],\n",
       "   'keywords': ['Transform'],\n",
       "   'card_faces': [{'object': 'card_face',\n",
       "     'name': 'Garruk Relentless',\n",
       "     'mana_cost': '{3}{G}',\n",
       "     'type_line': 'Legendary Planeswalker — Garruk',\n",
       "     'oracle_text': 'When Garruk Relentless has two or fewer loyalty counters on him, transform him.\\n0: Garruk Relentless deals 3 damage to target creature. That creature deals damage equal to its power to him.\\n0: Create a 2/2 green Wolf creature token.',\n",
       "     'colors': ['G'],\n",
       "     'loyalty': '3',\n",
       "     'artist': 'Eric Deschamps',\n",
       "     'artist_id': '37970e22-9cee-44c1-af44-5ee27cf26b76',\n",
       "     'illustration_id': '2379c842-37c9-4a10-baaf-a14940bae97d',\n",
       "     'image_uris': {'small': 'https://c1.scryfall.com/file/scryfall-cards/small/front/b/4/b4160322-ff40-41a4-887a-73cd6b85ae45.jpg?1562835830',\n",
       "      'normal': 'https://c1.scryfall.com/file/scryfall-cards/normal/front/b/4/b4160322-ff40-41a4-887a-73cd6b85ae45.jpg?1562835830',\n",
       "      'large': 'https://c1.scryfall.com/file/scryfall-cards/large/front/b/4/b4160322-ff40-41a4-887a-73cd6b85ae45.jpg?1562835830',\n",
       "      'png': 'https://c1.scryfall.com/file/scryfall-cards/png/front/b/4/b4160322-ff40-41a4-887a-73cd6b85ae45.png?1562835830',\n",
       "      'art_crop': 'https://c1.scryfall.com/file/scryfall-cards/art_crop/front/b/4/b4160322-ff40-41a4-887a-73cd6b85ae45.jpg?1562835830',\n",
       "      'border_crop': 'https://c1.scryfall.com/file/scryfall-cards/border_crop/front/b/4/b4160322-ff40-41a4-887a-73cd6b85ae45.jpg?1562835830'}},\n",
       "    {'object': 'card_face',\n",
       "     'name': 'Garruk, the Veil-Cursed',\n",
       "     'mana_cost': '',\n",
       "     'type_line': 'Legendary Planeswalker — Garruk',\n",
       "     'oracle_text': '+1: Create a 1/1 black Wolf creature token with deathtouch.\\n−1: Sacrifice a creature. If you do, search your library for a creature card, reveal it, put it into your hand, then shuffle your library.\\n−3: Creatures you control gain trample and get +X/+X until end of turn, where X is the number of creature cards in your graveyard.',\n",
       "     'colors': ['B', 'G'],\n",
       "     'color_indicator': ['B', 'G'],\n",
       "     'artist': 'Eric Deschamps',\n",
       "     'artist_id': '37970e22-9cee-44c1-af44-5ee27cf26b76',\n",
       "     'illustration_id': '06ec1f49-d380-4298-a67f-988cd3262007',\n",
       "     'image_uris': {'small': 'https://c1.scryfall.com/file/scryfall-cards/small/back/b/4/b4160322-ff40-41a4-887a-73cd6b85ae45.jpg?1562835830',\n",
       "      'normal': 'https://c1.scryfall.com/file/scryfall-cards/normal/back/b/4/b4160322-ff40-41a4-887a-73cd6b85ae45.jpg?1562835830',\n",
       "      'large': 'https://c1.scryfall.com/file/scryfall-cards/large/back/b/4/b4160322-ff40-41a4-887a-73cd6b85ae45.jpg?1562835830',\n",
       "      'png': 'https://c1.scryfall.com/file/scryfall-cards/png/back/b/4/b4160322-ff40-41a4-887a-73cd6b85ae45.png?1562835830',\n",
       "      'art_crop': 'https://c1.scryfall.com/file/scryfall-cards/art_crop/back/b/4/b4160322-ff40-41a4-887a-73cd6b85ae45.jpg?1562835830',\n",
       "      'border_crop': 'https://c1.scryfall.com/file/scryfall-cards/border_crop/back/b/4/b4160322-ff40-41a4-887a-73cd6b85ae45.jpg?1562835830'}}],\n",
       "   'all_parts': [{'object': 'related_card',\n",
       "     'id': 'b4160322-ff40-41a4-887a-73cd6b85ae45',\n",
       "     'component': 'combo_piece',\n",
       "     'name': 'Garruk Relentless // Garruk, the Veil-Cursed',\n",
       "     'type_line': 'Legendary Planeswalker — Garruk // Legendary Planeswalker — Garruk',\n",
       "     'uri': 'https://api.scryfall.com/cards/b4160322-ff40-41a4-887a-73cd6b85ae45'},\n",
       "    {'object': 'related_card',\n",
       "     'id': '7a49607c-427a-474c-ad77-60cd05844b3c',\n",
       "     'component': 'token',\n",
       "     'name': 'Wolf',\n",
       "     'type_line': 'Token Creature — Wolf',\n",
       "     'uri': 'https://api.scryfall.com/cards/7a49607c-427a-474c-ad77-60cd05844b3c'},\n",
       "    {'object': 'related_card',\n",
       "     'id': 'a53f8031-aaa8-424c-929a-5478538a8cc6',\n",
       "     'component': 'token',\n",
       "     'name': 'Wolf',\n",
       "     'type_line': 'Token Creature — Wolf',\n",
       "     'uri': 'https://api.scryfall.com/cards/a53f8031-aaa8-424c-929a-5478538a8cc6'}],\n",
       "   'legalities': {'standard': 'not_legal',\n",
       "    'future': 'not_legal',\n",
       "    'historic': 'not_legal',\n",
       "    'pioneer': 'not_legal',\n",
       "    'modern': 'legal',\n",
       "    'legacy': 'legal',\n",
       "    'pauper': 'not_legal',\n",
       "    'vintage': 'legal',\n",
       "    'penny': 'not_legal',\n",
       "    'commander': 'legal',\n",
       "    'brawl': 'not_legal',\n",
       "    'duel': 'legal',\n",
       "    'oldschool': 'not_legal'},\n",
       "   'games': ['paper', 'mtgo'],\n",
       "   'reserved': False,\n",
       "   'foil': True,\n",
       "   'nonfoil': True,\n",
       "   'oversized': False,\n",
       "   'promo': False,\n",
       "   'reprint': False,\n",
       "   'variation': False,\n",
       "   'set': 'isd',\n",
       "   'set_name': 'Innistrad',\n",
       "   'set_type': 'expansion',\n",
       "   'set_uri': 'https://api.scryfall.com/sets/d1026945-2969-42b9-be53-f941405a58cb',\n",
       "   'set_search_uri': 'https://api.scryfall.com/cards/search?order=set&q=e%3Aisd&unique=prints',\n",
       "   'scryfall_set_uri': 'https://scryfall.com/sets/isd?utm_source=api',\n",
       "   'rulings_uri': 'https://api.scryfall.com/cards/b4160322-ff40-41a4-887a-73cd6b85ae45/rulings',\n",
       "   'prints_search_uri': 'https://api.scryfall.com/cards/search?order=released&q=oracleid%3A7cec9021-6f25-4fd8-b40e-adf4ffd3a7b8&unique=prints',\n",
       "   'collector_number': '181',\n",
       "   'digital': False,\n",
       "   'rarity': 'mythic',\n",
       "   'card_back_id': '0aeebaf5-8c7d-4636-9e82-8c27447861f7',\n",
       "   'artist': 'Eric Deschamps',\n",
       "   'artist_ids': ['37970e22-9cee-44c1-af44-5ee27cf26b76'],\n",
       "   'border_color': 'black',\n",
       "   'frame': '2003',\n",
       "   'frame_effects': ['sunmoondfc'],\n",
       "   'full_art': False,\n",
       "   'textless': False,\n",
       "   'booster': True,\n",
       "   'story_spotlight': False,\n",
       "   'edhrec_rank': 5719,\n",
       "   'prices': {'usd': '3.21',\n",
       "    'usd_foil': '12.96',\n",
       "    'eur': '2.25',\n",
       "    'eur_foil': '10.00',\n",
       "    'tix': '0.08'},\n",
       "   'related_uris': {'gatherer': 'https://gatherer.wizards.com/Pages/Card/Details.aspx?multiverseid=245250',\n",
       "    'tcgplayer_decks': 'https://decks.tcgplayer.com/magic/deck/search?contains=Garruk+Relentless&page=1&utm_campaign=affiliate&utm_medium=api&utm_source=scryfall',\n",
       "    'edhrec': 'https://edhrec.com/route/?cc=Garruk+Relentless',\n",
       "    'mtgtop8': 'https://mtgtop8.com/search?MD_check=1&SB_check=1&cards=Garruk+Relentless'},\n",
       "   'purchase_uris': {'tcgplayer': 'https://shop.tcgplayer.com/product/productsearch?id=52203&utm_campaign=affiliate&utm_medium=api&utm_source=scryfall',\n",
       "    'cardmarket': 'https://www.cardmarket.com/en/Magic/Products/Search?referrer=scryfall&searchString=Garruk+Relentless&utm_campaign=card_prices&utm_medium=text&utm_source=scryfall',\n",
       "    'cardhoarder': 'https://www.cardhoarder.com/cards/42744?affiliate_id=scryfall&ref=card-profile&utm_campaign=affiliate&utm_medium=card&utm_source=scryfall'}}]}"
      ]
     },
     "metadata": {},
     "execution_count": 25
    }
   ],
   "source": [
    "res.json()"
   ]
  },
  {
   "source": [
    "### MagicML Semantic Search API"
   ],
   "cell_type": "markdown",
   "metadata": {}
  },
  {
   "cell_type": "code",
   "execution_count": 390,
   "metadata": {},
   "outputs": [],
   "source": [
    "query = {\n",
    "  \"key\": \"name\",\n",
    "  \"value\": \"Murder\"\n",
    "}"
   ]
  },
  {
   "cell_type": "code",
   "execution_count": 393,
   "metadata": {},
   "outputs": [
    {
     "output_type": "stream",
     "name": "stdout",
     "text": [
      "Murder-29173\nMurder\n1\n"
     ]
    }
   ],
   "source": [
    "res = requests.post('https://38axjswipg.execute-api.us-east-1.amazonaws.com/dev/query', json=query)\n",
    "\n",
    "if len(res.json()['cards']) > 0:\n",
    "    print(res.json()['cards'][0]['Names'])\n",
    "    print(res.json()['cards'][0]['name'])\n",
    "    print(len(res.json()['cards']))\n",
    "else:\n",
    "    print(res.json()['cards'])"
   ]
  },
  {
   "cell_type": "code",
   "execution_count": 394,
   "metadata": {},
   "outputs": [
    {
     "output_type": "execute_result",
     "data": {
      "text/plain": [
       "{'cards': [{'subtypes': '0',\n",
       "   'setName': 'Core Set 2020',\n",
       "   'duel': 'Legal',\n",
       "   'mtgArenaId': '69894.0',\n",
       "   'scryfallId': '6a2b22bc-e81b-4f27-a52b-9f3edad25439',\n",
       "   'types': 'Instant',\n",
       "   'brawl': 'Blank',\n",
       "   'name': 'Murder',\n",
       "   'penny': 'Legal',\n",
       "   'pioneer': 'Legal',\n",
       "   'convertedManaCost': '3.0',\n",
       "   'modern': 'Legal',\n",
       "   'colors': 'B',\n",
       "   'id': '29173',\n",
       "   'future': 'Blank',\n",
       "   'historic': 'Legal',\n",
       "   'commander': 'Legal',\n",
       "   'toughness': '0',\n",
       "   'loyalty': '0',\n",
       "   'pauper': 'Legal',\n",
       "   'Names': 'Murder-29173',\n",
       "   'text': 'Destroy target creature.',\n",
       "   'image_urls': \"{'small': 'https://c1.scryfall.com/file/scryfall-cards/small/front/6/a/6a2b22bc-e81b-4f27-a52b-9f3edad25439.jpg?1592516737', 'normal': 'https://c1.scryfall.com/file/scryfall-cards/normal/front/6/a/6a2b22bc-e81b-4f27-a52b-9f3edad25439.jpg?1592516737', 'large': 'https://c1.scryfall.com/file/scryfall-cards/large/front/6/a/6a2b22bc-e81b-4f27-a52b-9f3edad25439.jpg?1592516737', 'png': 'https://c1.scryfall.com/file/scryfall-cards/png/front/6/a/6a2b22bc-e81b-4f27-a52b-9f3edad25439.png?1592516737', 'art_crop': 'https://c1.scryfall.com/file/scryfall-cards/art_crop/front/6/a/6a2b22bc-e81b-4f27-a52b-9f3edad25439.jpg?1592516737', 'border_crop': 'https://c1.scryfall.com/file/scryfall-cards/border_crop/front/6/a/6a2b22bc-e81b-4f27-a52b-9f3edad25439.jpg?1592516737'}\",\n",
       "   'similarities': [{'setName': 'Rivals of Ixalan',\n",
       "     'standard': 'Blank',\n",
       "     'legacy': 'Legal',\n",
       "     'image_urls': \"{'small': 'https://c1.scryfall.com/file/scryfall-cards/small/front/d/f/dfa0c4f7-3497-467d-9453-104fb4b5a0f3.jpg?1555040252', 'normal': 'https://c1.scryfall.com/file/scryfall-cards/normal/front/d/f/dfa0c4f7-3497-467d-9453-104fb4b5a0f3.jpg?1555040252', 'large': 'https://c1.scryfall.com/file/scryfall-cards/large/front/d/f/dfa0c4f7-3497-467d-9453-104fb4b5a0f3.jpg?1555040252', 'png': 'https://c1.scryfall.com/file/scryfall-cards/png/front/d/f/dfa0c4f7-3497-467d-9453-104fb4b5a0f3.png?1555040252', 'art_crop': 'https://c1.scryfall.com/file/scryfall-cards/art_crop/front/d/f/dfa0c4f7-3497-467d-9453-104fb4b5a0f3.jpg?1555040252', 'border_crop': 'https://c1.scryfall.com/file/scryfall-cards/border_crop/front/d/f/dfa0c4f7-3497-467d-9453-104fb4b5a0f3.jpg?1555040252'}\",\n",
       "     'type': 'Sorcery',\n",
       "     'pioneer': 'Legal',\n",
       "     'colors': 'B',\n",
       "     'subtypes': '0',\n",
       "     'Names': 'Impale-45733',\n",
       "     'commander': 'Legal',\n",
       "     'modern': 'Legal',\n",
       "     'pauper': 'Legal',\n",
       "     'similarity': '0.9999995',\n",
       "     'duel': 'Legal',\n",
       "     'id': '45733',\n",
       "     'power': '0',\n",
       "     'text': 'Destroy target creature.',\n",
       "     'toughness': '0',\n",
       "     'convertedManaCost': '4.0',\n",
       "     'oldschool': 'Blank',\n",
       "     'mtgArenaId': '66769.0',\n",
       "     'types': 'Sorcery',\n",
       "     'historic': 'Legal',\n",
       "     'loyalty': '0',\n",
       "     'scryfallId': 'dfa0c4f7-3497-467d-9453-104fb4b5a0f3',\n",
       "     'future': 'Blank',\n",
       "     'vintage': 'Legal',\n",
       "     'name': 'Impale',\n",
       "     'manaCost': '{2}{B}{B}',\n",
       "     'brawl': 'Blank',\n",
       "     'penny': 'Legal'},\n",
       "    {'setName': 'Arena Beginner Set',\n",
       "     'standard': 'Blank',\n",
       "     'legacy': 'Legal',\n",
       "     'image_urls': \"{'small': 'https://c1.scryfall.com/file/scryfall-cards/small/front/1/4/144cffe0-0a60-406c-9dab-8c065cd798e9.jpg?1597377029', 'normal': 'https://c1.scryfall.com/file/scryfall-cards/normal/front/1/4/144cffe0-0a60-406c-9dab-8c065cd798e9.jpg?1597377029', 'large': 'https://c1.scryfall.com/file/scryfall-cards/large/front/1/4/144cffe0-0a60-406c-9dab-8c065cd798e9.jpg?1597377029', 'png': 'https://c1.scryfall.com/file/scryfall-cards/png/front/1/4/144cffe0-0a60-406c-9dab-8c065cd798e9.png?1597377029', 'art_crop': 'https://c1.scryfall.com/file/scryfall-cards/art_crop/front/1/4/144cffe0-0a60-406c-9dab-8c065cd798e9.jpg?1597377029', 'border_crop': 'https://c1.scryfall.com/file/scryfall-cards/border_crop/front/1/4/144cffe0-0a60-406c-9dab-8c065cd798e9.jpg?1597377029'}\",\n",
       "     'type': 'Instant',\n",
       "     'pioneer': 'Legal',\n",
       "     'colors': 'B',\n",
       "     'subtypes': '0',\n",
       "     'Names': 'Murder-5982',\n",
       "     'commander': 'Legal',\n",
       "     'modern': 'Legal',\n",
       "     'pauper': 'Legal',\n",
       "     'similarity': '0.9999995',\n",
       "     'duel': 'Legal',\n",
       "     'id': '5982',\n",
       "     'power': '0',\n",
       "     'text': 'Destroy target creature.',\n",
       "     'toughness': '0',\n",
       "     'convertedManaCost': '3.0',\n",
       "     'oldschool': 'Blank',\n",
       "     'mtgArenaId': '75494.0',\n",
       "     'types': 'Instant',\n",
       "     'historic': 'Legal',\n",
       "     'loyalty': '0',\n",
       "     'scryfallId': '144cffe0-0a60-406c-9dab-8c065cd798e9',\n",
       "     'future': 'Blank',\n",
       "     'vintage': 'Legal',\n",
       "     'name': 'Murder',\n",
       "     'manaCost': '{1}{B}{B}',\n",
       "     'brawl': 'Blank',\n",
       "     'penny': 'Legal'},\n",
       "    {'setName': 'Core Set 2019',\n",
       "     'standard': 'Blank',\n",
       "     'legacy': 'Legal',\n",
       "     'image_urls': \"{'small': 'https://c1.scryfall.com/file/scryfall-cards/small/front/4/5/45368bf3-d5e9-43e6-a67d-93c2e93acc72.jpg?1562301752', 'normal': 'https://c1.scryfall.com/file/scryfall-cards/normal/front/4/5/45368bf3-d5e9-43e6-a67d-93c2e93acc72.jpg?1562301752', 'large': 'https://c1.scryfall.com/file/scryfall-cards/large/front/4/5/45368bf3-d5e9-43e6-a67d-93c2e93acc72.jpg?1562301752', 'png': 'https://c1.scryfall.com/file/scryfall-cards/png/front/4/5/45368bf3-d5e9-43e6-a67d-93c2e93acc72.png?1562301752', 'art_crop': 'https://c1.scryfall.com/file/scryfall-cards/art_crop/front/4/5/45368bf3-d5e9-43e6-a67d-93c2e93acc72.jpg?1562301752', 'border_crop': 'https://c1.scryfall.com/file/scryfall-cards/border_crop/front/4/5/45368bf3-d5e9-43e6-a67d-93c2e93acc72.jpg?1562301752'}\",\n",
       "     'type': 'Instant',\n",
       "     'pioneer': 'Legal',\n",
       "     'colors': 'B',\n",
       "     'subtypes': '0',\n",
       "     'Names': 'Murder-28833',\n",
       "     'commander': 'Legal',\n",
       "     'modern': 'Legal',\n",
       "     'pauper': 'Legal',\n",
       "     'similarity': '0.9999995',\n",
       "     'duel': 'Legal',\n",
       "     'id': '28833',\n",
       "     'power': '0',\n",
       "     'text': 'Destroy target creature.',\n",
       "     'toughness': '0',\n",
       "     'convertedManaCost': '3.0',\n",
       "     'oldschool': 'Blank',\n",
       "     'mtgArenaId': '67900.0',\n",
       "     'types': 'Instant',\n",
       "     'historic': 'Legal',\n",
       "     'loyalty': '0',\n",
       "     'scryfallId': '45368bf3-d5e9-43e6-a67d-93c2e93acc72',\n",
       "     'future': 'Blank',\n",
       "     'vintage': 'Legal',\n",
       "     'name': 'Murder',\n",
       "     'manaCost': '{1}{B}{B}',\n",
       "     'brawl': 'Blank',\n",
       "     'penny': 'Legal'},\n",
       "    {'setName': 'Dominaria',\n",
       "     'standard': 'Blank',\n",
       "     'legacy': 'Legal',\n",
       "     'image_urls': \"{'small': 'https://c1.scryfall.com/file/scryfall-cards/small/front/6/2/62ba90b8-3a30-4058-b8d3-72900b1f4fe0.jpg?1562736723', 'normal': 'https://c1.scryfall.com/file/scryfall-cards/normal/front/6/2/62ba90b8-3a30-4058-b8d3-72900b1f4fe0.jpg?1562736723', 'large': 'https://c1.scryfall.com/file/scryfall-cards/large/front/6/2/62ba90b8-3a30-4058-b8d3-72900b1f4fe0.jpg?1562736723', 'png': 'https://c1.scryfall.com/file/scryfall-cards/png/front/6/2/62ba90b8-3a30-4058-b8d3-72900b1f4fe0.png?1562736723', 'art_crop': 'https://c1.scryfall.com/file/scryfall-cards/art_crop/front/6/2/62ba90b8-3a30-4058-b8d3-72900b1f4fe0.jpg?1562736723', 'border_crop': 'https://c1.scryfall.com/file/scryfall-cards/border_crop/front/6/2/62ba90b8-3a30-4058-b8d3-72900b1f4fe0.jpg?1562736723'}\",\n",
       "     'type': 'Sorcery',\n",
       "     'pioneer': 'Legal',\n",
       "     'colors': 'B',\n",
       "     'subtypes': '0',\n",
       "     'Names': 'Eviscerate-16645',\n",
       "     'commander': 'Legal',\n",
       "     'modern': 'Legal',\n",
       "     'pauper': 'Legal',\n",
       "     'similarity': '0.9999995',\n",
       "     'duel': 'Legal',\n",
       "     'id': '16645',\n",
       "     'power': '0',\n",
       "     'text': 'Destroy target creature.',\n",
       "     'toughness': '0',\n",
       "     'convertedManaCost': '4.0',\n",
       "     'oldschool': 'Blank',\n",
       "     'mtgArenaId': '67286.0',\n",
       "     'types': 'Sorcery',\n",
       "     'historic': 'Legal',\n",
       "     'loyalty': '0',\n",
       "     'scryfallId': '62ba90b8-3a30-4058-b8d3-72900b1f4fe0',\n",
       "     'future': 'Blank',\n",
       "     'vintage': 'Legal',\n",
       "     'name': 'Eviscerate',\n",
       "     'manaCost': '{3}{B}',\n",
       "     'brawl': 'Blank',\n",
       "     'penny': 'Legal'},\n",
       "    {'setName': 'Ixalan',\n",
       "     'standard': 'Blank',\n",
       "     'legacy': 'Legal',\n",
       "     'image_urls': \"{'small': 'https://c1.scryfall.com/file/scryfall-cards/small/front/0/0/0038ac6a-318f-44fb-bb64-7ae172c4aca3.jpg?1562549640', 'normal': 'https://c1.scryfall.com/file/scryfall-cards/normal/front/0/0/0038ac6a-318f-44fb-bb64-7ae172c4aca3.jpg?1562549640', 'large': 'https://c1.scryfall.com/file/scryfall-cards/large/front/0/0/0038ac6a-318f-44fb-bb64-7ae172c4aca3.jpg?1562549640', 'png': 'https://c1.scryfall.com/file/scryfall-cards/png/front/0/0/0038ac6a-318f-44fb-bb64-7ae172c4aca3.png?1562549640', 'art_crop': 'https://c1.scryfall.com/file/scryfall-cards/art_crop/front/0/0/0038ac6a-318f-44fb-bb64-7ae172c4aca3.jpg?1562549640', 'border_crop': 'https://c1.scryfall.com/file/scryfall-cards/border_crop/front/0/0/0038ac6a-318f-44fb-bb64-7ae172c4aca3.jpg?1562549640'}\",\n",
       "     'type': 'Sorcery',\n",
       "     'pioneer': 'Legal',\n",
       "     'colors': 'B',\n",
       "     'subtypes': '0',\n",
       "     'Names': 'Walk_the_Plank-55049',\n",
       "     'commander': 'Legal',\n",
       "     'modern': 'Legal',\n",
       "     'pauper': 'Blank',\n",
       "     'similarity': '0.9444487',\n",
       "     'duel': 'Legal',\n",
       "     'id': '55049',\n",
       "     'power': '0',\n",
       "     'text': 'Destroy target non-Merfolk creature.',\n",
       "     'toughness': '0',\n",
       "     'convertedManaCost': '2.0',\n",
       "     'oldschool': 'Blank',\n",
       "     'mtgArenaId': '66225.0',\n",
       "     'types': 'Sorcery',\n",
       "     'historic': 'Legal',\n",
       "     'loyalty': '0',\n",
       "     'scryfallId': '0038ac6a-318f-44fb-bb64-7ae172c4aca3',\n",
       "     'future': 'Blank',\n",
       "     'vintage': 'Legal',\n",
       "     'name': 'Walk the Plank',\n",
       "     'manaCost': '{B}{B}',\n",
       "     'brawl': 'Blank',\n",
       "     'penny': 'Blank'},\n",
       "    {'setName': 'Arena New Player Experience Extras',\n",
       "     'standard': 'Blank',\n",
       "     'legacy': 'Legal',\n",
       "     'image_urls': \"{'small': 'https://c1.scryfall.com/file/scryfall-cards/small/front/e/3/e3c1b1bc-82ec-4a10-bd0a-04a29a349e3f.jpg?1590010743', 'normal': 'https://c1.scryfall.com/file/scryfall-cards/normal/front/e/3/e3c1b1bc-82ec-4a10-bd0a-04a29a349e3f.jpg?1590010743', 'large': 'https://c1.scryfall.com/file/scryfall-cards/large/front/e/3/e3c1b1bc-82ec-4a10-bd0a-04a29a349e3f.jpg?1590010743', 'png': 'https://c1.scryfall.com/file/scryfall-cards/png/front/e/3/e3c1b1bc-82ec-4a10-bd0a-04a29a349e3f.png?1590010743', 'art_crop': 'https://c1.scryfall.com/file/scryfall-cards/art_crop/front/e/3/e3c1b1bc-82ec-4a10-bd0a-04a29a349e3f.jpg?1590010743', 'border_crop': 'https://c1.scryfall.com/file/scryfall-cards/border_crop/front/e/3/e3c1b1bc-82ec-4a10-bd0a-04a29a349e3f.jpg?1590010743'}\",\n",
       "     'type': 'Sorcery',\n",
       "     'pioneer': 'Legal',\n",
       "     'colors': 'W',\n",
       "     'subtypes': '0',\n",
       "     'Names': 'Take_Vengeance-54753',\n",
       "     'commander': 'Legal',\n",
       "     'modern': 'Legal',\n",
       "     'pauper': 'Legal',\n",
       "     'similarity': '0.9175999',\n",
       "     'duel': 'Legal',\n",
       "     'id': '54753',\n",
       "     'power': '0',\n",
       "     'text': 'Destroy target tapped creature.',\n",
       "     'toughness': '0',\n",
       "     'convertedManaCost': '2.0',\n",
       "     'oldschool': 'Blank',\n",
       "     'mtgArenaId': '68787.0',\n",
       "     'types': 'Sorcery',\n",
       "     'historic': 'Legal',\n",
       "     'loyalty': '0',\n",
       "     'scryfallId': 'e3c1b1bc-82ec-4a10-bd0a-04a29a349e3f',\n",
       "     'future': 'Blank',\n",
       "     'vintage': 'Legal',\n",
       "     'name': 'Take Vengeance',\n",
       "     'manaCost': '{1}{W}',\n",
       "     'brawl': 'Blank',\n",
       "     'penny': 'Legal'},\n",
       "    {'setName': 'Core Set 2020',\n",
       "     'standard': 'Blank',\n",
       "     'legacy': 'Legal',\n",
       "     'image_urls': \"{'small': 'https://c1.scryfall.com/file/scryfall-cards/small/front/3/0/30fff340-8e2a-4182-9ece-af5749fa0d2e.jpg?1564023033', 'normal': 'https://c1.scryfall.com/file/scryfall-cards/normal/front/3/0/30fff340-8e2a-4182-9ece-af5749fa0d2e.jpg?1564023033', 'large': 'https://c1.scryfall.com/file/scryfall-cards/large/front/3/0/30fff340-8e2a-4182-9ece-af5749fa0d2e.jpg?1564023033', 'png': 'https://c1.scryfall.com/file/scryfall-cards/png/front/3/0/30fff340-8e2a-4182-9ece-af5749fa0d2e.png?1564023033', 'art_crop': 'https://c1.scryfall.com/file/scryfall-cards/art_crop/front/3/0/30fff340-8e2a-4182-9ece-af5749fa0d2e.jpg?1564023033', 'border_crop': 'https://c1.scryfall.com/file/scryfall-cards/border_crop/front/3/0/30fff340-8e2a-4182-9ece-af5749fa0d2e.jpg?1564023033'}\",\n",
       "     'type': 'Sorcery',\n",
       "     'pioneer': 'Legal',\n",
       "     'colors': 'W',\n",
       "     'subtypes': '0',\n",
       "     'Names': 'Take_Vengeance-29263',\n",
       "     'commander': 'Legal',\n",
       "     'modern': 'Legal',\n",
       "     'pauper': 'Legal',\n",
       "     'similarity': '0.9175999',\n",
       "     'duel': 'Legal',\n",
       "     'id': '29263',\n",
       "     'power': '0',\n",
       "     'text': 'Destroy target tapped creature.',\n",
       "     'toughness': '0',\n",
       "     'convertedManaCost': '2.0',\n",
       "     'oldschool': 'Blank',\n",
       "     'mtgArenaId': '70097.0',\n",
       "     'types': 'Sorcery',\n",
       "     'historic': 'Legal',\n",
       "     'loyalty': '0',\n",
       "     'scryfallId': '30fff340-8e2a-4182-9ece-af5749fa0d2e',\n",
       "     'future': 'Blank',\n",
       "     'vintage': 'Legal',\n",
       "     'name': 'Take Vengeance',\n",
       "     'manaCost': '{1}{W}',\n",
       "     'brawl': 'Blank',\n",
       "     'penny': 'Legal'},\n",
       "    {'setName': 'Core Set 2019',\n",
       "     'standard': 'Blank',\n",
       "     'legacy': 'Legal',\n",
       "     'image_urls': \"{'small': 'https://c1.scryfall.com/file/scryfall-cards/small/front/6/6/66fbde22-d98d-4f12-b4d8-1bad2a9878b2.jpg?1562302645', 'normal': 'https://c1.scryfall.com/file/scryfall-cards/normal/front/6/6/66fbde22-d98d-4f12-b4d8-1bad2a9878b2.jpg?1562302645', 'large': 'https://c1.scryfall.com/file/scryfall-cards/large/front/6/6/66fbde22-d98d-4f12-b4d8-1bad2a9878b2.jpg?1562302645', 'png': 'https://c1.scryfall.com/file/scryfall-cards/png/front/6/6/66fbde22-d98d-4f12-b4d8-1bad2a9878b2.png?1562302645', 'art_crop': 'https://c1.scryfall.com/file/scryfall-cards/art_crop/front/6/6/66fbde22-d98d-4f12-b4d8-1bad2a9878b2.jpg?1562302645', 'border_crop': 'https://c1.scryfall.com/file/scryfall-cards/border_crop/front/6/6/66fbde22-d98d-4f12-b4d8-1bad2a9878b2.jpg?1562302645'}\",\n",
       "     'type': 'Sorcery',\n",
       "     'pioneer': 'Legal',\n",
       "     'colors': 'W',\n",
       "     'subtypes': '0',\n",
       "     'Names': 'Take_Vengeance-28929',\n",
       "     'commander': 'Legal',\n",
       "     'modern': 'Legal',\n",
       "     'pauper': 'Legal',\n",
       "     'similarity': '0.9175999',\n",
       "     'duel': 'Legal',\n",
       "     'id': '28929',\n",
       "     'power': '0',\n",
       "     'text': 'Destroy target tapped creature.',\n",
       "     'toughness': '0',\n",
       "     'convertedManaCost': '2.0',\n",
       "     'oldschool': 'Blank',\n",
       "     'mtgArenaId': '67760.0',\n",
       "     'types': 'Sorcery',\n",
       "     'historic': 'Legal',\n",
       "     'loyalty': '0',\n",
       "     'scryfallId': '66fbde22-d98d-4f12-b4d8-1bad2a9878b2',\n",
       "     'future': 'Blank',\n",
       "     'vintage': 'Legal',\n",
       "     'name': 'Take Vengeance',\n",
       "     'manaCost': '{1}{W}',\n",
       "     'brawl': 'Blank',\n",
       "     'penny': 'Legal'},\n",
       "    {'setName': 'Core Set 2021',\n",
       "     'standard': 'Legal',\n",
       "     'legacy': 'Legal',\n",
       "     'image_urls': \"{'small': 'https://c1.scryfall.com/file/scryfall-cards/small/front/a/9/a90c1ad0-83bd-471c-8d4c-e65bc2abaa18.jpg?1594735305', 'normal': 'https://c1.scryfall.com/file/scryfall-cards/normal/front/a/9/a90c1ad0-83bd-471c-8d4c-e65bc2abaa18.jpg?1594735305', 'large': 'https://c1.scryfall.com/file/scryfall-cards/large/front/a/9/a90c1ad0-83bd-471c-8d4c-e65bc2abaa18.jpg?1594735305', 'png': 'https://c1.scryfall.com/file/scryfall-cards/png/front/a/9/a90c1ad0-83bd-471c-8d4c-e65bc2abaa18.png?1594735305', 'art_crop': 'https://c1.scryfall.com/file/scryfall-cards/art_crop/front/a/9/a90c1ad0-83bd-471c-8d4c-e65bc2abaa18.jpg?1594735305', 'border_crop': 'https://c1.scryfall.com/file/scryfall-cards/border_crop/front/a/9/a90c1ad0-83bd-471c-8d4c-e65bc2abaa18.jpg?1594735305'}\",\n",
       "     'type': 'Instant',\n",
       "     'pioneer': 'Legal',\n",
       "     'colors': 'W',\n",
       "     'subtypes': '0',\n",
       "     'Names': 'Swift_Response-29636',\n",
       "     'commander': 'Legal',\n",
       "     'modern': 'Legal',\n",
       "     'pauper': 'Legal',\n",
       "     'similarity': '0.9175999',\n",
       "     'duel': 'Legal',\n",
       "     'id': '29636',\n",
       "     'power': '0',\n",
       "     'text': 'Destroy target tapped creature.',\n",
       "     'toughness': '0',\n",
       "     'convertedManaCost': '2.0',\n",
       "     'oldschool': 'Blank',\n",
       "     'mtgArenaId': '71822.0',\n",
       "     'types': 'Instant',\n",
       "     'historic': 'Legal',\n",
       "     'loyalty': '0',\n",
       "     'scryfallId': 'a90c1ad0-83bd-471c-8d4c-e65bc2abaa18',\n",
       "     'future': 'Legal',\n",
       "     'vintage': 'Legal',\n",
       "     'name': 'Swift Response',\n",
       "     'manaCost': '{1}{W}',\n",
       "     'brawl': 'Legal',\n",
       "     'penny': 'Legal'},\n",
       "    {'setName': 'Dominaria',\n",
       "     'standard': 'Blank',\n",
       "     'legacy': 'Legal',\n",
       "     'image_urls': \"{'small': 'https://c1.scryfall.com/file/scryfall-cards/small/front/1/1/116ce944-6871-4f51-a889-d9c4a5d7cff2.jpg?1591104775', 'normal': 'https://c1.scryfall.com/file/scryfall-cards/normal/front/1/1/116ce944-6871-4f51-a889-d9c4a5d7cff2.jpg?1591104775', 'large': 'https://c1.scryfall.com/file/scryfall-cards/large/front/1/1/116ce944-6871-4f51-a889-d9c4a5d7cff2.jpg?1591104775', 'png': 'https://c1.scryfall.com/file/scryfall-cards/png/front/1/1/116ce944-6871-4f51-a889-d9c4a5d7cff2.png?1591104775', 'art_crop': 'https://c1.scryfall.com/file/scryfall-cards/art_crop/front/1/1/116ce944-6871-4f51-a889-d9c4a5d7cff2.jpg?1591104775', 'border_crop': 'https://c1.scryfall.com/file/scryfall-cards/border_crop/front/1/1/116ce944-6871-4f51-a889-d9c4a5d7cff2.jpg?1591104775'}\",\n",
       "     'type': 'Instant',\n",
       "     'pioneer': 'Legal',\n",
       "     'colors': 'B',\n",
       "     'subtypes': '0',\n",
       "     'Names': 'Cast_Down-16616',\n",
       "     'commander': 'Legal',\n",
       "     'modern': 'Legal',\n",
       "     'pauper': 'Legal',\n",
       "     'similarity': '0.90626216',\n",
       "     'duel': 'Legal',\n",
       "     'id': '16616',\n",
       "     'power': '0',\n",
       "     'text': 'Destroy target nonlegendary creature.',\n",
       "     'toughness': '0',\n",
       "     'convertedManaCost': '2.0',\n",
       "     'oldschool': 'Blank',\n",
       "     'mtgArenaId': '67266.0',\n",
       "     'types': 'Instant',\n",
       "     'historic': 'Legal',\n",
       "     'loyalty': '0',\n",
       "     'scryfallId': '116ce944-6871-4f51-a889-d9c4a5d7cff2',\n",
       "     'future': 'Blank',\n",
       "     'vintage': 'Legal',\n",
       "     'name': 'Cast Down',\n",
       "     'manaCost': '{1}{B}',\n",
       "     'brawl': 'Blank',\n",
       "     'penny': 'Blank'},\n",
       "    {'setName': 'Rivals of Ixalan',\n",
       "     'standard': 'Legal',\n",
       "     'legacy': 'Legal',\n",
       "     'image_urls': \"{'small': 'https://c1.scryfall.com/file/scryfall-cards/small/front/5/4/54a0afaa-f99f-4c7a-9fa1-c6a46dfb2a29.jpg?1561480279', 'normal': 'https://c1.scryfall.com/file/scryfall-cards/normal/front/5/4/54a0afaa-f99f-4c7a-9fa1-c6a46dfb2a29.jpg?1561480279', 'large': 'https://c1.scryfall.com/file/scryfall-cards/large/front/5/4/54a0afaa-f99f-4c7a-9fa1-c6a46dfb2a29.jpg?1561480279', 'png': 'https://c1.scryfall.com/file/scryfall-cards/png/front/5/4/54a0afaa-f99f-4c7a-9fa1-c6a46dfb2a29.png?1561480279', 'art_crop': 'https://c1.scryfall.com/file/scryfall-cards/art_crop/front/5/4/54a0afaa-f99f-4c7a-9fa1-c6a46dfb2a29.jpg?1561480279', 'border_crop': 'https://c1.scryfall.com/file/scryfall-cards/border_crop/front/5/4/54a0afaa-f99f-4c7a-9fa1-c6a46dfb2a29.jpg?1561480279'}\",\n",
       "     'type': 'Instant',\n",
       "     'pioneer': 'Legal',\n",
       "     'colors': 'G',\n",
       "     'subtypes': '0',\n",
       "     'Names': 'Plummet-45777',\n",
       "     'commander': 'Legal',\n",
       "     'modern': 'Legal',\n",
       "     'pauper': 'Legal',\n",
       "     'similarity': '0.89367217',\n",
       "     'duel': 'Legal',\n",
       "     'id': '45777',\n",
       "     'power': '0',\n",
       "     'text': 'Destroy target creature with flying.',\n",
       "     'toughness': '0',\n",
       "     'convertedManaCost': '2.0',\n",
       "     'oldschool': 'Blank',\n",
       "     'mtgArenaId': '66903.0',\n",
       "     'types': 'Instant',\n",
       "     'historic': 'Legal',\n",
       "     'loyalty': '0',\n",
       "     'scryfallId': '54a0afaa-f99f-4c7a-9fa1-c6a46dfb2a29',\n",
       "     'future': 'Legal',\n",
       "     'vintage': 'Legal',\n",
       "     'name': 'Plummet',\n",
       "     'manaCost': '{1}{G}',\n",
       "     'brawl': 'Legal',\n",
       "     'penny': 'Legal'},\n",
       "    {'setName': 'Core Set 2020',\n",
       "     'standard': 'Legal',\n",
       "     'legacy': 'Legal',\n",
       "     'image_urls': \"{'small': 'https://c1.scryfall.com/file/scryfall-cards/small/front/4/a/4a1a0c7b-ce1c-4284-9362-04b21861f69d.jpg?1592517335', 'normal': 'https://c1.scryfall.com/file/scryfall-cards/normal/front/4/a/4a1a0c7b-ce1c-4284-9362-04b21861f69d.jpg?1592517335', 'large': 'https://c1.scryfall.com/file/scryfall-cards/large/front/4/a/4a1a0c7b-ce1c-4284-9362-04b21861f69d.jpg?1592517335', 'png': 'https://c1.scryfall.com/file/scryfall-cards/png/front/4/a/4a1a0c7b-ce1c-4284-9362-04b21861f69d.png?1592517335', 'art_crop': 'https://c1.scryfall.com/file/scryfall-cards/art_crop/front/4/a/4a1a0c7b-ce1c-4284-9362-04b21861f69d.jpg?1592517335', 'border_crop': 'https://c1.scryfall.com/file/scryfall-cards/border_crop/front/4/a/4a1a0c7b-ce1c-4284-9362-04b21861f69d.jpg?1592517335'}\",\n",
       "     'type': 'Instant',\n",
       "     'pioneer': 'Legal',\n",
       "     'colors': 'G',\n",
       "     'subtypes': '0',\n",
       "     'Names': 'Plummet-29196',\n",
       "     'commander': 'Legal',\n",
       "     'modern': 'Legal',\n",
       "     'pauper': 'Legal',\n",
       "     'similarity': '0.89367217',\n",
       "     'duel': 'Legal',\n",
       "     'id': '29196',\n",
       "     'power': '0',\n",
       "     'text': 'Destroy target creature with flying.',\n",
       "     'toughness': '0',\n",
       "     'convertedManaCost': '2.0',\n",
       "     'oldschool': 'Blank',\n",
       "     'mtgArenaId': '69973.0',\n",
       "     'types': 'Instant',\n",
       "     'historic': 'Legal',\n",
       "     'loyalty': '0',\n",
       "     'scryfallId': '4a1a0c7b-ce1c-4284-9362-04b21861f69d',\n",
       "     'future': 'Legal',\n",
       "     'vintage': 'Legal',\n",
       "     'name': 'Plummet',\n",
       "     'manaCost': '{1}{G}',\n",
       "     'brawl': 'Legal',\n",
       "     'penny': 'Legal'},\n",
       "    {'setName': 'Theros Beyond Death',\n",
       "     'standard': 'Legal',\n",
       "     'legacy': 'Legal',\n",
       "     'image_urls': \"{'small': 'https://c1.scryfall.com/file/scryfall-cards/small/front/a/8/a8b2f186-4e04-49cb-a206-257cfb7e9361.jpg?1581480847', 'normal': 'https://c1.scryfall.com/file/scryfall-cards/normal/front/a/8/a8b2f186-4e04-49cb-a206-257cfb7e9361.jpg?1581480847', 'large': 'https://c1.scryfall.com/file/scryfall-cards/large/front/a/8/a8b2f186-4e04-49cb-a206-257cfb7e9361.jpg?1581480847', 'png': 'https://c1.scryfall.com/file/scryfall-cards/png/front/a/8/a8b2f186-4e04-49cb-a206-257cfb7e9361.png?1581480847', 'art_crop': 'https://c1.scryfall.com/file/scryfall-cards/art_crop/front/a/8/a8b2f186-4e04-49cb-a206-257cfb7e9361.jpg?1581480847', 'border_crop': 'https://c1.scryfall.com/file/scryfall-cards/border_crop/front/a/8/a8b2f186-4e04-49cb-a206-257cfb7e9361.jpg?1581480847'}\",\n",
       "     'type': 'Instant',\n",
       "     'pioneer': 'Legal',\n",
       "     'colors': 'G',\n",
       "     'subtypes': '0',\n",
       "     'Names': 'Plummet-49328',\n",
       "     'commander': 'Legal',\n",
       "     'modern': 'Legal',\n",
       "     'pauper': 'Legal',\n",
       "     'similarity': '0.89367217',\n",
       "     'duel': 'Legal',\n",
       "     'id': '49328',\n",
       "     'power': '0',\n",
       "     'text': 'Destroy target creature with flying.',\n",
       "     'toughness': '0',\n",
       "     'convertedManaCost': '2.0',\n",
       "     'oldschool': 'Blank',\n",
       "     'mtgArenaId': '70705.0',\n",
       "     'types': 'Instant',\n",
       "     'historic': 'Legal',\n",
       "     'loyalty': '0',\n",
       "     'scryfallId': 'a8b2f186-4e04-49cb-a206-257cfb7e9361',\n",
       "     'future': 'Legal',\n",
       "     'vintage': 'Legal',\n",
       "     'name': 'Plummet',\n",
       "     'manaCost': '{1}{G}',\n",
       "     'brawl': 'Legal',\n",
       "     'penny': 'Legal'},\n",
       "    {'setName': 'Ikoria: Lair of Behemoths',\n",
       "     'standard': 'Legal',\n",
       "     'legacy': 'Legal',\n",
       "     'image_urls': \"{'small': 'https://c1.scryfall.com/file/scryfall-cards/small/front/d/8/d884b2f2-946e-4d5d-b8cf-ef035726a188.jpg?1591227840', 'normal': 'https://c1.scryfall.com/file/scryfall-cards/normal/front/d/8/d884b2f2-946e-4d5d-b8cf-ef035726a188.jpg?1591227840', 'large': 'https://c1.scryfall.com/file/scryfall-cards/large/front/d/8/d884b2f2-946e-4d5d-b8cf-ef035726a188.jpg?1591227840', 'png': 'https://c1.scryfall.com/file/scryfall-cards/png/front/d/8/d884b2f2-946e-4d5d-b8cf-ef035726a188.png?1591227840', 'art_crop': 'https://c1.scryfall.com/file/scryfall-cards/art_crop/front/d/8/d884b2f2-946e-4d5d-b8cf-ef035726a188.jpg?1591227840', 'border_crop': 'https://c1.scryfall.com/file/scryfall-cards/border_crop/front/d/8/d884b2f2-946e-4d5d-b8cf-ef035726a188.jpg?1591227840'}\",\n",
       "     'type': 'Instant',\n",
       "     'pioneer': 'Legal',\n",
       "     'colors': 'G',\n",
       "     'subtypes': '0',\n",
       "     'Names': 'Plummet-22889',\n",
       "     'commander': 'Legal',\n",
       "     'modern': 'Legal',\n",
       "     'pauper': 'Legal',\n",
       "     'similarity': '0.89367217',\n",
       "     'duel': 'Legal',\n",
       "     'id': '22889',\n",
       "     'power': '0',\n",
       "     'text': 'Destroy target creature with flying.',\n",
       "     'toughness': '0',\n",
       "     'convertedManaCost': '2.0',\n",
       "     'oldschool': 'Blank',\n",
       "     'mtgArenaId': '71236.0',\n",
       "     'types': 'Instant',\n",
       "     'historic': 'Legal',\n",
       "     'loyalty': '0',\n",
       "     'scryfallId': 'd884b2f2-946e-4d5d-b8cf-ef035726a188',\n",
       "     'future': 'Legal',\n",
       "     'vintage': 'Legal',\n",
       "     'name': 'Plummet',\n",
       "     'manaCost': '{1}{G}',\n",
       "     'brawl': 'Legal',\n",
       "     'penny': 'Legal'},\n",
       "    {'setName': 'Core Set 2019',\n",
       "     'standard': 'Legal',\n",
       "     'legacy': 'Legal',\n",
       "     'image_urls': \"{'small': 'https://c1.scryfall.com/file/scryfall-cards/small/front/7/8/78a29ddb-fc76-407a-aa58-ec92d011bd44.jpg?1562302858', 'normal': 'https://c1.scryfall.com/file/scryfall-cards/normal/front/7/8/78a29ddb-fc76-407a-aa58-ec92d011bd44.jpg?1562302858', 'large': 'https://c1.scryfall.com/file/scryfall-cards/large/front/7/8/78a29ddb-fc76-407a-aa58-ec92d011bd44.jpg?1562302858', 'png': 'https://c1.scryfall.com/file/scryfall-cards/png/front/7/8/78a29ddb-fc76-407a-aa58-ec92d011bd44.png?1562302858', 'art_crop': 'https://c1.scryfall.com/file/scryfall-cards/art_crop/front/7/8/78a29ddb-fc76-407a-aa58-ec92d011bd44.jpg?1562302858', 'border_crop': 'https://c1.scryfall.com/file/scryfall-cards/border_crop/front/7/8/78a29ddb-fc76-407a-aa58-ec92d011bd44.jpg?1562302858'}\",\n",
       "     'type': 'Instant',\n",
       "     'pioneer': 'Legal',\n",
       "     'colors': 'G',\n",
       "     'subtypes': '0',\n",
       "     'Names': 'Plummet-28859',\n",
       "     'commander': 'Legal',\n",
       "     'modern': 'Legal',\n",
       "     'pauper': 'Legal',\n",
       "     'similarity': '0.89367217',\n",
       "     'duel': 'Legal',\n",
       "     'id': '28859',\n",
       "     'power': '0',\n",
       "     'text': 'Destroy target creature with flying.',\n",
       "     'toughness': '0',\n",
       "     'convertedManaCost': '2.0',\n",
       "     'oldschool': 'Blank',\n",
       "     'mtgArenaId': '68066.0',\n",
       "     'types': 'Instant',\n",
       "     'historic': 'Legal',\n",
       "     'loyalty': '0',\n",
       "     'scryfallId': '78a29ddb-fc76-407a-aa58-ec92d011bd44',\n",
       "     'future': 'Legal',\n",
       "     'vintage': 'Legal',\n",
       "     'name': 'Plummet',\n",
       "     'manaCost': '{1}{G}',\n",
       "     'brawl': 'Legal',\n",
       "     'penny': 'Legal'},\n",
       "    {'setName': 'Kaladesh Remastered',\n",
       "     'standard': 'Blank',\n",
       "     'legacy': 'Legal',\n",
       "     'image_urls': \"{'small': 'https://c1.scryfall.com/file/scryfall-cards/small/front/c/7/c72cbf87-a55c-4b5f-ac8d-d975d4d4a1ea.jpg?1605327519', 'normal': 'https://c1.scryfall.com/file/scryfall-cards/normal/front/c/7/c72cbf87-a55c-4b5f-ac8d-d975d4d4a1ea.jpg?1605327519', 'large': 'https://c1.scryfall.com/file/scryfall-cards/large/front/c/7/c72cbf87-a55c-4b5f-ac8d-d975d4d4a1ea.jpg?1605327519', 'png': 'https://c1.scryfall.com/file/scryfall-cards/png/front/c/7/c72cbf87-a55c-4b5f-ac8d-d975d4d4a1ea.png?1605327519', 'art_crop': 'https://c1.scryfall.com/file/scryfall-cards/art_crop/front/c/7/c72cbf87-a55c-4b5f-ac8d-d975d4d4a1ea.jpg?1605327519', 'border_crop': 'https://c1.scryfall.com/file/scryfall-cards/border_crop/front/c/7/c72cbf87-a55c-4b5f-ac8d-d975d4d4a1ea.jpg?1605327519'}\",\n",
       "     'type': 'Sorcery',\n",
       "     'pioneer': 'Legal',\n",
       "     'colors': 'B',\n",
       "     'subtypes': '0',\n",
       "     'Names': 'Daring_Demolition-25266',\n",
       "     'commander': 'Legal',\n",
       "     'modern': 'Legal',\n",
       "     'pauper': 'Legal',\n",
       "     'similarity': '0.871385',\n",
       "     'duel': 'Legal',\n",
       "     'id': '25266',\n",
       "     'power': '0',\n",
       "     'text': 'Destroy target creature or Vehicle.',\n",
       "     'toughness': '0',\n",
       "     'convertedManaCost': '4.0',\n",
       "     'oldschool': 'Blank',\n",
       "     'mtgArenaId': '75656.0',\n",
       "     'types': 'Sorcery',\n",
       "     'historic': 'Legal',\n",
       "     'loyalty': '0',\n",
       "     'scryfallId': 'c72cbf87-a55c-4b5f-ac8d-d975d4d4a1ea',\n",
       "     'future': 'Blank',\n",
       "     'vintage': 'Legal',\n",
       "     'name': 'Daring Demolition',\n",
       "     'manaCost': '{2}{B}{B}',\n",
       "     'brawl': 'Blank',\n",
       "     'penny': 'Legal'},\n",
       "    {'setName': 'Rivals of Ixalan',\n",
       "     'standard': 'Blank',\n",
       "     'legacy': 'Legal',\n",
       "     'image_urls': \"{'small': 'https://c1.scryfall.com/file/scryfall-cards/small/front/e/d/ed07b708-7232-4b87-b5d9-edaa20a69293.jpg?1555039673', 'normal': 'https://c1.scryfall.com/file/scryfall-cards/normal/front/e/d/ed07b708-7232-4b87-b5d9-edaa20a69293.jpg?1555039673', 'large': 'https://c1.scryfall.com/file/scryfall-cards/large/front/e/d/ed07b708-7232-4b87-b5d9-edaa20a69293.jpg?1555039673', 'png': 'https://c1.scryfall.com/file/scryfall-cards/png/front/e/d/ed07b708-7232-4b87-b5d9-edaa20a69293.png?1555039673', 'art_crop': 'https://c1.scryfall.com/file/scryfall-cards/art_crop/front/e/d/ed07b708-7232-4b87-b5d9-edaa20a69293.jpg?1555039673', 'border_crop': 'https://c1.scryfall.com/file/scryfall-cards/border_crop/front/e/d/ed07b708-7232-4b87-b5d9-edaa20a69293.jpg?1555039673'}\",\n",
       "     'type': 'Instant',\n",
       "     'pioneer': 'Legal',\n",
       "     'colors': 'W',\n",
       "     'subtypes': '0',\n",
       "     'Names': 'Divine_Verdict-45694',\n",
       "     'commander': 'Legal',\n",
       "     'modern': 'Legal',\n",
       "     'pauper': 'Legal',\n",
       "     'similarity': '0.86122',\n",
       "     'duel': 'Legal',\n",
       "     'id': '45694',\n",
       "     'power': '0',\n",
       "     'text': 'Destroy target attacking or blocking creature.',\n",
       "     'toughness': '0',\n",
       "     'convertedManaCost': '4.0',\n",
       "     'oldschool': 'Blank',\n",
       "     'mtgArenaId': '66627.0',\n",
       "     'types': 'Instant',\n",
       "     'historic': 'Legal',\n",
       "     'loyalty': '0',\n",
       "     'scryfallId': 'ed07b708-7232-4b87-b5d9-edaa20a69293',\n",
       "     'future': 'Blank',\n",
       "     'vintage': 'Legal',\n",
       "     'name': 'Divine Verdict',\n",
       "     'manaCost': '{3}{W}',\n",
       "     'brawl': 'Blank',\n",
       "     'penny': 'Legal'},\n",
       "    {'setName': 'Amonkhet Remastered',\n",
       "     'standard': 'Blank',\n",
       "     'legacy': 'Legal',\n",
       "     'image_urls': \"{'small': 'https://c1.scryfall.com/file/scryfall-cards/small/front/8/9/89ffcd32-6966-4288-9295-c5b89e8c5681.jpg?1597251104', 'normal': 'https://c1.scryfall.com/file/scryfall-cards/normal/front/8/9/89ffcd32-6966-4288-9295-c5b89e8c5681.jpg?1597251104', 'large': 'https://c1.scryfall.com/file/scryfall-cards/large/front/8/9/89ffcd32-6966-4288-9295-c5b89e8c5681.jpg?1597251104', 'png': 'https://c1.scryfall.com/file/scryfall-cards/png/front/8/9/89ffcd32-6966-4288-9295-c5b89e8c5681.png?1597251104', 'art_crop': 'https://c1.scryfall.com/file/scryfall-cards/art_crop/front/8/9/89ffcd32-6966-4288-9295-c5b89e8c5681.jpg?1597251104', 'border_crop': 'https://c1.scryfall.com/file/scryfall-cards/border_crop/front/8/9/89ffcd32-6966-4288-9295-c5b89e8c5681.jpg?1597251104'}\",\n",
       "     'type': 'Instant',\n",
       "     'pioneer': 'Legal',\n",
       "     'colors': 'W',\n",
       "     'subtypes': '0',\n",
       "     'Names': 'Farm_II_Market-5178',\n",
       "     'commander': 'Legal',\n",
       "     'modern': 'Legal',\n",
       "     'pauper': 'Blank',\n",
       "     'similarity': '0.86122',\n",
       "     'duel': 'Legal',\n",
       "     'id': '5178',\n",
       "     'power': '0',\n",
       "     'text': 'Destroy target attacking or blocking creature.',\n",
       "     'toughness': '0',\n",
       "     'convertedManaCost': '6.0',\n",
       "     'oldschool': 'Blank',\n",
       "     'mtgArenaId': '74032.0',\n",
       "     'types': 'Instant',\n",
       "     'historic': 'Legal',\n",
       "     'loyalty': '0',\n",
       "     'scryfallId': '89ffcd32-6966-4288-9295-c5b89e8c5681',\n",
       "     'future': 'Blank',\n",
       "     'vintage': 'Legal',\n",
       "     'name': 'Farm // Market',\n",
       "     'manaCost': '{2}{W}',\n",
       "     'brawl': 'Blank',\n",
       "     'penny': 'Blank'},\n",
       "    {'setName': 'Ravnica Allegiance',\n",
       "     'standard': 'Blank',\n",
       "     'legacy': 'Legal',\n",
       "     'image_urls': \"{'small': 'https://c1.scryfall.com/file/scryfall-cards/small/front/e/b/ebf6c0dc-5c7b-4170-99bc-2637ea44e716.jpg?1584831682', 'normal': 'https://c1.scryfall.com/file/scryfall-cards/normal/front/e/b/ebf6c0dc-5c7b-4170-99bc-2637ea44e716.jpg?1584831682', 'large': 'https://c1.scryfall.com/file/scryfall-cards/large/front/e/b/ebf6c0dc-5c7b-4170-99bc-2637ea44e716.jpg?1584831682', 'png': 'https://c1.scryfall.com/file/scryfall-cards/png/front/e/b/ebf6c0dc-5c7b-4170-99bc-2637ea44e716.png?1584831682', 'art_crop': 'https://c1.scryfall.com/file/scryfall-cards/art_crop/front/e/b/ebf6c0dc-5c7b-4170-99bc-2637ea44e716.jpg?1584831682', 'border_crop': 'https://c1.scryfall.com/file/scryfall-cards/border_crop/front/e/b/ebf6c0dc-5c7b-4170-99bc-2637ea44e716.jpg?1584831682'}\",\n",
       "     'type': 'Instant',\n",
       "     'pioneer': 'Legal',\n",
       "     'colors': 'B,W',\n",
       "     'subtypes': '0',\n",
       "     'Names': 'Mortify-46014',\n",
       "     'commander': 'Legal',\n",
       "     'modern': 'Legal',\n",
       "     'pauper': 'Blank',\n",
       "     'similarity': '0.85799164',\n",
       "     'duel': 'Legal',\n",
       "     'id': '46014',\n",
       "     'power': '0',\n",
       "     'text': 'Destroy target creature or enchantment.',\n",
       "     'toughness': '0',\n",
       "     'convertedManaCost': '3.0',\n",
       "     'oldschool': 'Blank',\n",
       "     'mtgArenaId': '69320.0',\n",
       "     'types': 'Instant',\n",
       "     'historic': 'Legal',\n",
       "     'loyalty': '0',\n",
       "     'scryfallId': 'ebf6c0dc-5c7b-4170-99bc-2637ea44e716',\n",
       "     'future': 'Blank',\n",
       "     'vintage': 'Legal',\n",
       "     'name': 'Mortify',\n",
       "     'manaCost': '{1}{W}{B}',\n",
       "     'brawl': 'Blank',\n",
       "     'penny': 'Blank'},\n",
       "    {'setName': 'Amonkhet Remastered',\n",
       "     'standard': 'Blank',\n",
       "     'legacy': 'Legal',\n",
       "     'image_urls': \"{'small': 'https://c1.scryfall.com/file/scryfall-cards/small/front/4/f/4f4fa62a-8297-4565-9ff5-68ba4c5b91e4.jpg?1597189526', 'normal': 'https://c1.scryfall.com/file/scryfall-cards/normal/front/4/f/4f4fa62a-8297-4565-9ff5-68ba4c5b91e4.jpg?1597189526', 'large': 'https://c1.scryfall.com/file/scryfall-cards/large/front/4/f/4f4fa62a-8297-4565-9ff5-68ba4c5b91e4.jpg?1597189526', 'png': 'https://c1.scryfall.com/file/scryfall-cards/png/front/4/f/4f4fa62a-8297-4565-9ff5-68ba4c5b91e4.png?1597189526', 'art_crop': 'https://c1.scryfall.com/file/scryfall-cards/art_crop/front/4/f/4f4fa62a-8297-4565-9ff5-68ba4c5b91e4.jpg?1597189526', 'border_crop': 'https://c1.scryfall.com/file/scryfall-cards/border_crop/front/4/f/4f4fa62a-8297-4565-9ff5-68ba4c5b91e4.jpg?1597189526'}\",\n",
       "     'type': 'Sorcery',\n",
       "     'pioneer': 'Legal',\n",
       "     'colors': 'B',\n",
       "     'subtypes': '0',\n",
       "     'Names': 'Never_II_Return-5284',\n",
       "     'commander': 'Legal',\n",
       "     'modern': 'Legal',\n",
       "     'pauper': 'Blank',\n",
       "     'similarity': '0.8237195',\n",
       "     'duel': 'Legal',\n",
       "     'id': '5284',\n",
       "     'power': '0',\n",
       "     'text': 'Destroy target creature or planeswalker.',\n",
       "     'toughness': '0',\n",
       "     'convertedManaCost': '7.0',\n",
       "     'oldschool': 'Blank',\n",
       "     'mtgArenaId': '73894.0',\n",
       "     'types': 'Sorcery',\n",
       "     'historic': 'Legal',\n",
       "     'loyalty': '0',\n",
       "     'scryfallId': '4f4fa62a-8297-4565-9ff5-68ba4c5b91e4',\n",
       "     'future': 'Blank',\n",
       "     'vintage': 'Legal',\n",
       "     'name': 'Never // Return',\n",
       "     'manaCost': '{1}{B}{B}',\n",
       "     'brawl': 'Blank',\n",
       "     'penny': 'Legal'},\n",
       "    {'setName': 'Core Set 2021',\n",
       "     'standard': 'Legal',\n",
       "     'legacy': 'Legal',\n",
       "     'image_urls': \"{'small': 'https://c1.scryfall.com/file/scryfall-cards/small/front/2/b/2b85a552-2119-4d9c-b7c1-c09c2d9f2f38.jpg?1594736130', 'normal': 'https://c1.scryfall.com/file/scryfall-cards/normal/front/2/b/2b85a552-2119-4d9c-b7c1-c09c2d9f2f38.jpg?1594736130', 'large': 'https://c1.scryfall.com/file/scryfall-cards/large/front/2/b/2b85a552-2119-4d9c-b7c1-c09c2d9f2f38.jpg?1594736130', 'png': 'https://c1.scryfall.com/file/scryfall-cards/png/front/2/b/2b85a552-2119-4d9c-b7c1-c09c2d9f2f38.png?1594736130', 'art_crop': 'https://c1.scryfall.com/file/scryfall-cards/art_crop/front/2/b/2b85a552-2119-4d9c-b7c1-c09c2d9f2f38.jpg?1594736130', 'border_crop': 'https://c1.scryfall.com/file/scryfall-cards/border_crop/front/2/b/2b85a552-2119-4d9c-b7c1-c09c2d9f2f38.jpg?1594736130'}\",\n",
       "     'type': 'Instant',\n",
       "     'pioneer': 'Legal',\n",
       "     'colors': 'B',\n",
       "     'subtypes': '0',\n",
       "     'Names': 'Finishing_Blow-29418',\n",
       "     'commander': 'Legal',\n",
       "     'modern': 'Legal',\n",
       "     'pauper': 'Legal',\n",
       "     'similarity': '0.8237195',\n",
       "     'duel': 'Legal',\n",
       "     'id': '29418',\n",
       "     'power': '0',\n",
       "     'text': 'Destroy target creature or planeswalker.',\n",
       "     'toughness': '0',\n",
       "     'convertedManaCost': '5.0',\n",
       "     'oldschool': 'Blank',\n",
       "     'mtgArenaId': '71881.0',\n",
       "     'types': 'Instant',\n",
       "     'historic': 'Legal',\n",
       "     'loyalty': '0',\n",
       "     'scryfallId': '2b85a552-2119-4d9c-b7c1-c09c2d9f2f38',\n",
       "     'future': 'Legal',\n",
       "     'vintage': 'Legal',\n",
       "     'name': 'Finishing Blow',\n",
       "     'manaCost': '{4}{B}',\n",
       "     'brawl': 'Legal',\n",
       "     'penny': 'Legal'},\n",
       "    {'setName': 'Arena Beginner Set',\n",
       "     'standard': 'Blank',\n",
       "     'legacy': 'Blank',\n",
       "     'image_urls': \"{'small': 'https://c1.scryfall.com/file/scryfall-cards/small/front/3/4/343bba3d-d235-4855-8ab2-cb715f29fb60.jpg?1597376972', 'normal': 'https://c1.scryfall.com/file/scryfall-cards/normal/front/3/4/343bba3d-d235-4855-8ab2-cb715f29fb60.jpg?1597376972', 'large': 'https://c1.scryfall.com/file/scryfall-cards/large/front/3/4/343bba3d-d235-4855-8ab2-cb715f29fb60.jpg?1597376972', 'png': 'https://c1.scryfall.com/file/scryfall-cards/png/front/3/4/343bba3d-d235-4855-8ab2-cb715f29fb60.png?1597376972', 'art_crop': 'https://c1.scryfall.com/file/scryfall-cards/art_crop/front/3/4/343bba3d-d235-4855-8ab2-cb715f29fb60.jpg?1597376972', 'border_crop': 'https://c1.scryfall.com/file/scryfall-cards/border_crop/front/3/4/343bba3d-d235-4855-8ab2-cb715f29fb60.jpg?1597376972'}\",\n",
       "     'type': 'Instant',\n",
       "     'pioneer': 'Blank',\n",
       "     'colors': 'B',\n",
       "     'subtypes': '0',\n",
       "     'Names': 'Cruel_Cut-5944',\n",
       "     'commander': 'Blank',\n",
       "     'modern': 'Blank',\n",
       "     'pauper': 'Blank',\n",
       "     'similarity': '0.82270014',\n",
       "     'duel': 'Blank',\n",
       "     'id': '5944',\n",
       "     'power': '0',\n",
       "     'text': 'Destroy target creature with power 2 or less.',\n",
       "     'toughness': '0',\n",
       "     'convertedManaCost': '2.0',\n",
       "     'oldschool': 'Blank',\n",
       "     'mtgArenaId': '75488.0',\n",
       "     'types': 'Instant',\n",
       "     'historic': 'Legal',\n",
       "     'loyalty': '0',\n",
       "     'scryfallId': '343bba3d-d235-4855-8ab2-cb715f29fb60',\n",
       "     'future': 'Blank',\n",
       "     'vintage': 'Blank',\n",
       "     'name': 'Cruel Cut',\n",
       "     'manaCost': '{1}{B}',\n",
       "     'brawl': 'Blank',\n",
       "     'penny': 'Blank'},\n",
       "    {'setName': 'Arena New Player Experience Extras',\n",
       "     'standard': 'Blank',\n",
       "     'legacy': 'Blank',\n",
       "     'image_urls': \"{'small': 'https://c1.scryfall.com/file/scryfall-cards/small/front/f/9/f99ffe22-4dd8-4787-b6e0-e03dea8ab42a.jpg?1590010389', 'normal': 'https://c1.scryfall.com/file/scryfall-cards/normal/front/f/9/f99ffe22-4dd8-4787-b6e0-e03dea8ab42a.jpg?1590010389', 'large': 'https://c1.scryfall.com/file/scryfall-cards/large/front/f/9/f99ffe22-4dd8-4787-b6e0-e03dea8ab42a.jpg?1590010389', 'png': 'https://c1.scryfall.com/file/scryfall-cards/png/front/f/9/f99ffe22-4dd8-4787-b6e0-e03dea8ab42a.png?1590010389', 'art_crop': 'https://c1.scryfall.com/file/scryfall-cards/art_crop/front/f/9/f99ffe22-4dd8-4787-b6e0-e03dea8ab42a.jpg?1590010389', 'border_crop': 'https://c1.scryfall.com/file/scryfall-cards/border_crop/front/f/9/f99ffe22-4dd8-4787-b6e0-e03dea8ab42a.jpg?1590010389'}\",\n",
       "     'type': 'Instant',\n",
       "     'pioneer': 'Blank',\n",
       "     'colors': 'B',\n",
       "     'subtypes': '0',\n",
       "     'Names': 'Cruel_Cut-54731',\n",
       "     'commander': 'Blank',\n",
       "     'modern': 'Blank',\n",
       "     'pauper': 'Blank',\n",
       "     'similarity': '0.82270014',\n",
       "     'duel': 'Blank',\n",
       "     'id': '54731',\n",
       "     'power': '0',\n",
       "     'text': 'Destroy target creature with power 2 or less.',\n",
       "     'toughness': '0',\n",
       "     'convertedManaCost': '2.0',\n",
       "     'oldschool': 'Blank',\n",
       "     'mtgArenaId': '69115.0',\n",
       "     'types': 'Instant',\n",
       "     'historic': 'Legal',\n",
       "     'loyalty': '0',\n",
       "     'scryfallId': 'f99ffe22-4dd8-4787-b6e0-e03dea8ab42a',\n",
       "     'future': 'Blank',\n",
       "     'vintage': 'Blank',\n",
       "     'name': 'Cruel Cut',\n",
       "     'manaCost': '{1}{B}',\n",
       "     'brawl': 'Blank',\n",
       "     'penny': 'Blank'},\n",
       "    {'setName': 'Core Set 2021',\n",
       "     'standard': 'Legal',\n",
       "     'legacy': 'Legal',\n",
       "     'image_urls': \"{'small': 'https://c1.scryfall.com/file/scryfall-cards/small/front/0/3/032f6c5a-8d88-4a55-a54b-28df42d801e1.jpg?1594735024', 'normal': 'https://c1.scryfall.com/file/scryfall-cards/normal/front/0/3/032f6c5a-8d88-4a55-a54b-28df42d801e1.jpg?1594735024', 'large': 'https://c1.scryfall.com/file/scryfall-cards/large/front/0/3/032f6c5a-8d88-4a55-a54b-28df42d801e1.jpg?1594735024', 'png': 'https://c1.scryfall.com/file/scryfall-cards/png/front/0/3/032f6c5a-8d88-4a55-a54b-28df42d801e1.png?1594735024', 'art_crop': 'https://c1.scryfall.com/file/scryfall-cards/art_crop/front/0/3/032f6c5a-8d88-4a55-a54b-28df42d801e1.jpg?1594735024', 'border_crop': 'https://c1.scryfall.com/file/scryfall-cards/border_crop/front/0/3/032f6c5a-8d88-4a55-a54b-28df42d801e1.jpg?1594735024'}\",\n",
       "     'type': 'Sorcery',\n",
       "     'pioneer': 'Legal',\n",
       "     'colors': 'W',\n",
       "     'subtypes': '0',\n",
       "     'Names': \"Legion's_Judgment-29489\",\n",
       "     'commander': 'Legal',\n",
       "     'modern': 'Legal',\n",
       "     'pauper': 'Legal',\n",
       "     'similarity': '0.81967306',\n",
       "     'duel': 'Legal',\n",
       "     'id': '29489',\n",
       "     'power': '0',\n",
       "     'text': 'Destroy target creature with power 4 or greater.',\n",
       "     'toughness': '0',\n",
       "     'convertedManaCost': '3.0',\n",
       "     'oldschool': 'Blank',\n",
       "     'mtgArenaId': '71806.0',\n",
       "     'types': 'Sorcery',\n",
       "     'historic': 'Legal',\n",
       "     'loyalty': '0',\n",
       "     'scryfallId': '032f6c5a-8d88-4a55-a54b-28df42d801e1',\n",
       "     'future': 'Legal',\n",
       "     'vintage': 'Legal',\n",
       "     'name': \"Legion's Judgment\",\n",
       "     'manaCost': '{2}{W}',\n",
       "     'brawl': 'Legal',\n",
       "     'penny': 'Legal'},\n",
       "    {'setName': 'Zendikar Rising',\n",
       "     'standard': 'Legal',\n",
       "     'legacy': 'Legal',\n",
       "     'image_urls': \"{'small': 'https://c1.scryfall.com/file/scryfall-cards/small/front/9/c/9c103163-31b7-4d25-aa2c-02ca082ee1bf.jpg?1604193448', 'normal': 'https://c1.scryfall.com/file/scryfall-cards/normal/front/9/c/9c103163-31b7-4d25-aa2c-02ca082ee1bf.jpg?1604193448', 'large': 'https://c1.scryfall.com/file/scryfall-cards/large/front/9/c/9c103163-31b7-4d25-aa2c-02ca082ee1bf.jpg?1604193448', 'png': 'https://c1.scryfall.com/file/scryfall-cards/png/front/9/c/9c103163-31b7-4d25-aa2c-02ca082ee1bf.png?1604193448', 'art_crop': 'https://c1.scryfall.com/file/scryfall-cards/art_crop/front/9/c/9c103163-31b7-4d25-aa2c-02ca082ee1bf.jpg?1604193448', 'border_crop': 'https://c1.scryfall.com/file/scryfall-cards/border_crop/front/9/c/9c103163-31b7-4d25-aa2c-02ca082ee1bf.jpg?1604193448'}\",\n",
       "     'type': 'Instant',\n",
       "     'pioneer': 'Legal',\n",
       "     'colors': 'W',\n",
       "     'subtypes': '0',\n",
       "     'Names': 'Smite_the_Monstrous-55857',\n",
       "     'commander': 'Legal',\n",
       "     'modern': 'Legal',\n",
       "     'pauper': 'Legal',\n",
       "     'similarity': '0.81967306',\n",
       "     'duel': 'Legal',\n",
       "     'id': '55857',\n",
       "     'power': '0',\n",
       "     'text': 'Destroy target creature with power 4 or greater.',\n",
       "     'toughness': '0',\n",
       "     'convertedManaCost': '4.0',\n",
       "     'oldschool': 'Blank',\n",
       "     'mtgArenaId': '73230.0',\n",
       "     'types': 'Instant',\n",
       "     'historic': 'Legal',\n",
       "     'loyalty': '0',\n",
       "     'scryfallId': '9c103163-31b7-4d25-aa2c-02ca082ee1bf',\n",
       "     'future': 'Legal',\n",
       "     'vintage': 'Legal',\n",
       "     'name': 'Smite the Monstrous',\n",
       "     'manaCost': '{3}{W}',\n",
       "     'brawl': 'Legal',\n",
       "     'penny': 'Legal'},\n",
       "    {'setName': 'Ixalan',\n",
       "     'standard': 'Legal',\n",
       "     'legacy': 'Legal',\n",
       "     'image_urls': \"{'small': 'https://c1.scryfall.com/file/scryfall-cards/small/front/3/8/385bea20-c196-4da8-bc3e-36f8d50dcc17.jpg?1562553483', 'normal': 'https://c1.scryfall.com/file/scryfall-cards/normal/front/3/8/385bea20-c196-4da8-bc3e-36f8d50dcc17.jpg?1562553483', 'large': 'https://c1.scryfall.com/file/scryfall-cards/large/front/3/8/385bea20-c196-4da8-bc3e-36f8d50dcc17.jpg?1562553483', 'png': 'https://c1.scryfall.com/file/scryfall-cards/png/front/3/8/385bea20-c196-4da8-bc3e-36f8d50dcc17.png?1562553483', 'art_crop': 'https://c1.scryfall.com/file/scryfall-cards/art_crop/front/3/8/385bea20-c196-4da8-bc3e-36f8d50dcc17.jpg?1562553483', 'border_crop': 'https://c1.scryfall.com/file/scryfall-cards/border_crop/front/3/8/385bea20-c196-4da8-bc3e-36f8d50dcc17.jpg?1562553483'}\",\n",
       "     'type': 'Sorcery',\n",
       "     'pioneer': 'Legal',\n",
       "     'colors': 'W',\n",
       "     'subtypes': '0',\n",
       "     'Names': \"Legion's_Judgment-54894\",\n",
       "     'commander': 'Legal',\n",
       "     'modern': 'Legal',\n",
       "     'pauper': 'Legal',\n",
       "     'similarity': '0.81967306',\n",
       "     'duel': 'Legal',\n",
       "     'id': '54894',\n",
       "     'power': '0',\n",
       "     'text': 'Destroy target creature with power 4 or greater.',\n",
       "     'toughness': '0',\n",
       "     'convertedManaCost': '3.0',\n",
       "     'oldschool': 'Blank',\n",
       "     'mtgArenaId': '66001.0',\n",
       "     'types': 'Sorcery',\n",
       "     'historic': 'Legal',\n",
       "     'loyalty': '0',\n",
       "     'scryfallId': '385bea20-c196-4da8-bc3e-36f8d50dcc17',\n",
       "     'future': 'Legal',\n",
       "     'vintage': 'Legal',\n",
       "     'name': \"Legion's Judgment\",\n",
       "     'manaCost': '{2}{W}',\n",
       "     'brawl': 'Legal',\n",
       "     'penny': 'Legal'},\n",
       "    {'setName': 'Throne of Eldraine',\n",
       "     'standard': 'Legal',\n",
       "     'legacy': 'Legal',\n",
       "     'image_urls': \"{'small': 'https://c1.scryfall.com/file/scryfall-cards/small/front/c/e/ce7ff657-aa44-4336-895a-87518159cef6.jpg?1572490229', 'normal': 'https://c1.scryfall.com/file/scryfall-cards/normal/front/c/e/ce7ff657-aa44-4336-895a-87518159cef6.jpg?1572490229', 'large': 'https://c1.scryfall.com/file/scryfall-cards/large/front/c/e/ce7ff657-aa44-4336-895a-87518159cef6.jpg?1572490229', 'png': 'https://c1.scryfall.com/file/scryfall-cards/png/front/c/e/ce7ff657-aa44-4336-895a-87518159cef6.png?1572490229', 'art_crop': 'https://c1.scryfall.com/file/scryfall-cards/art_crop/front/c/e/ce7ff657-aa44-4336-895a-87518159cef6.jpg?1572490229', 'border_crop': 'https://c1.scryfall.com/file/scryfall-cards/border_crop/front/c/e/ce7ff657-aa44-4336-895a-87518159cef6.jpg?1572490229'}\",\n",
       "     'type': 'Sorcery',\n",
       "     'pioneer': 'Legal',\n",
       "     'colors': 'B',\n",
       "     'subtypes': '0',\n",
       "     'Names': 'Reave_Soul-18073',\n",
       "     'commander': 'Legal',\n",
       "     'modern': 'Legal',\n",
       "     'pauper': 'Legal',\n",
       "     'similarity': '0.81918645',\n",
       "     'duel': 'Legal',\n",
       "     'id': '18073',\n",
       "     'power': '0',\n",
       "     'text': 'Destroy target creature with power 3 or less.',\n",
       "     'toughness': '0',\n",
       "     'convertedManaCost': '2.0',\n",
       "     'oldschool': 'Blank',\n",
       "     'mtgArenaId': '70250.0',\n",
       "     'types': 'Sorcery',\n",
       "     'historic': 'Legal',\n",
       "     'loyalty': '0',\n",
       "     'scryfallId': 'ce7ff657-aa44-4336-895a-87518159cef6',\n",
       "     'future': 'Legal',\n",
       "     'vintage': 'Legal',\n",
       "     'name': 'Reave Soul',\n",
       "     'manaCost': '{1}{B}',\n",
       "     'brawl': 'Legal',\n",
       "     'penny': 'Legal'},\n",
       "    {'setName': 'Ixalan',\n",
       "     'standard': 'Legal',\n",
       "     'legacy': 'Legal',\n",
       "     'image_urls': \"{'small': 'https://c1.scryfall.com/file/scryfall-cards/small/front/e/5/e599ed0b-4b3b-4341-b6ac-7fdfdc6799a3.jpg?1562565757', 'normal': 'https://c1.scryfall.com/file/scryfall-cards/normal/front/e/5/e599ed0b-4b3b-4341-b6ac-7fdfdc6799a3.jpg?1562565757', 'large': 'https://c1.scryfall.com/file/scryfall-cards/large/front/e/5/e599ed0b-4b3b-4341-b6ac-7fdfdc6799a3.jpg?1562565757', 'png': 'https://c1.scryfall.com/file/scryfall-cards/png/front/e/5/e599ed0b-4b3b-4341-b6ac-7fdfdc6799a3.png?1562565757', 'art_crop': 'https://c1.scryfall.com/file/scryfall-cards/art_crop/front/e/5/e599ed0b-4b3b-4341-b6ac-7fdfdc6799a3.jpg?1562565757', 'border_crop': 'https://c1.scryfall.com/file/scryfall-cards/border_crop/front/e/5/e599ed0b-4b3b-4341-b6ac-7fdfdc6799a3.jpg?1562565757'}\",\n",
       "     'type': 'Instant',\n",
       "     'pioneer': 'Legal',\n",
       "     'colors': 'B',\n",
       "     'subtypes': '0',\n",
       "     'Names': 'Vanquish_the_Weak-55038',\n",
       "     'commander': 'Legal',\n",
       "     'modern': 'Legal',\n",
       "     'pauper': 'Legal',\n",
       "     'similarity': '0.81918645',\n",
       "     'duel': 'Legal',\n",
       "     'id': '55038',\n",
       "     'power': '0',\n",
       "     'text': 'Destroy target creature with power 3 or less.',\n",
       "     'toughness': '0',\n",
       "     'convertedManaCost': '3.0',\n",
       "     'oldschool': 'Blank',\n",
       "     'mtgArenaId': '66219.0',\n",
       "     'types': 'Instant',\n",
       "     'historic': 'Legal',\n",
       "     'loyalty': '0',\n",
       "     'scryfallId': 'e599ed0b-4b3b-4341-b6ac-7fdfdc6799a3',\n",
       "     'future': 'Legal',\n",
       "     'vintage': 'Legal',\n",
       "     'name': 'Vanquish the Weak',\n",
       "     'manaCost': '{2}{B}',\n",
       "     'brawl': 'Legal',\n",
       "     'penny': 'Legal'},\n",
       "    {'setName': 'Zendikar Rising',\n",
       "     'standard': 'Legal',\n",
       "     'legacy': 'Legal',\n",
       "     'image_urls': \"{'small': 'https://c1.scryfall.com/file/scryfall-cards/small/front/c/1/c15852d4-2c79-4841-bb65-6661d88fdfab.jpg?1604196688', 'normal': 'https://c1.scryfall.com/file/scryfall-cards/normal/front/c/1/c15852d4-2c79-4841-bb65-6661d88fdfab.jpg?1604196688', 'large': 'https://c1.scryfall.com/file/scryfall-cards/large/front/c/1/c15852d4-2c79-4841-bb65-6661d88fdfab.jpg?1604196688', 'png': 'https://c1.scryfall.com/file/scryfall-cards/png/front/c/1/c15852d4-2c79-4841-bb65-6661d88fdfab.png?1604196688', 'art_crop': 'https://c1.scryfall.com/file/scryfall-cards/art_crop/front/c/1/c15852d4-2c79-4841-bb65-6661d88fdfab.jpg?1604196688', 'border_crop': 'https://c1.scryfall.com/file/scryfall-cards/border_crop/front/c/1/c15852d4-2c79-4841-bb65-6661d88fdfab.jpg?1604196688'}\",\n",
       "     'type': 'Instant',\n",
       "     'pioneer': 'Legal',\n",
       "     'colors': 'B',\n",
       "     'subtypes': '0',\n",
       "     'Names': 'Vanquish_the_Weak-55924',\n",
       "     'commander': 'Legal',\n",
       "     'modern': 'Legal',\n",
       "     'pauper': 'Legal',\n",
       "     'similarity': '0.81918645',\n",
       "     'duel': 'Legal',\n",
       "     'id': '55924',\n",
       "     'power': '0',\n",
       "     'text': 'Destroy target creature with power 3 or less.',\n",
       "     'toughness': '0',\n",
       "     'convertedManaCost': '3.0',\n",
       "     'oldschool': 'Blank',\n",
       "     'mtgArenaId': '73330.0',\n",
       "     'types': 'Instant',\n",
       "     'historic': 'Legal',\n",
       "     'loyalty': '0',\n",
       "     'scryfallId': 'c15852d4-2c79-4841-bb65-6661d88fdfab',\n",
       "     'future': 'Legal',\n",
       "     'vintage': 'Legal',\n",
       "     'name': 'Vanquish the Weak',\n",
       "     'manaCost': '{2}{B}',\n",
       "     'brawl': 'Legal',\n",
       "     'penny': 'Legal'},\n",
       "    {'setName': 'Ixalan',\n",
       "     'standard': 'Blank',\n",
       "     'legacy': 'Legal',\n",
       "     'image_urls': \"{'small': 'https://c1.scryfall.com/file/scryfall-cards/small/front/3/3/3340ffb9-9513-4551-ad64-821600596b2e.jpg?1562553092', 'normal': 'https://c1.scryfall.com/file/scryfall-cards/normal/front/3/3/3340ffb9-9513-4551-ad64-821600596b2e.jpg?1562553092', 'large': 'https://c1.scryfall.com/file/scryfall-cards/large/front/3/3/3340ffb9-9513-4551-ad64-821600596b2e.jpg?1562553092', 'png': 'https://c1.scryfall.com/file/scryfall-cards/png/front/3/3/3340ffb9-9513-4551-ad64-821600596b2e.png?1562553092', 'art_crop': 'https://c1.scryfall.com/file/scryfall-cards/art_crop/front/3/3/3340ffb9-9513-4551-ad64-821600596b2e.jpg?1562553092', 'border_crop': 'https://c1.scryfall.com/file/scryfall-cards/border_crop/front/3/3/3340ffb9-9513-4551-ad64-821600596b2e.jpg?1562553092'}\",\n",
       "     'type': 'Instant',\n",
       "     'pioneer': 'Legal',\n",
       "     'colors': 'W',\n",
       "     'subtypes': '0',\n",
       "     'Names': 'Bright_Reprisal-54781',\n",
       "     'commander': 'Legal',\n",
       "     'modern': 'Legal',\n",
       "     'pauper': 'Blank',\n",
       "     'similarity': '0.81905794',\n",
       "     'duel': 'Legal',\n",
       "     'id': '54781',\n",
       "     'power': '0',\n",
       "     'text': 'Destroy target attacking creature.\\nDraw a card.',\n",
       "     'toughness': '0',\n",
       "     'convertedManaCost': '5.0',\n",
       "     'oldschool': 'Blank',\n",
       "     'mtgArenaId': '65973.0',\n",
       "     'types': 'Instant',\n",
       "     'historic': 'Legal',\n",
       "     'loyalty': '0',\n",
       "     'scryfallId': '3340ffb9-9513-4551-ad64-821600596b2e',\n",
       "     'future': 'Blank',\n",
       "     'vintage': 'Legal',\n",
       "     'name': 'Bright Reprisal',\n",
       "     'manaCost': '{4}{W}',\n",
       "     'brawl': 'Blank',\n",
       "     'penny': 'Legal'},\n",
       "    {'setName': 'Guilds of Ravnica',\n",
       "     'standard': 'Blank',\n",
       "     'legacy': 'Legal',\n",
       "     'image_urls': \"{'small': 'https://c1.scryfall.com/file/scryfall-cards/small/front/4/4/44614c6d-5508-4077-b825-66d5d684086c.jpg?1572894024', 'normal': 'https://c1.scryfall.com/file/scryfall-cards/normal/front/4/4/44614c6d-5508-4077-b825-66d5d684086c.jpg?1572894024', 'large': 'https://c1.scryfall.com/file/scryfall-cards/large/front/4/4/44614c6d-5508-4077-b825-66d5d684086c.jpg?1572894024', 'png': 'https://c1.scryfall.com/file/scryfall-cards/png/front/4/4/44614c6d-5508-4077-b825-66d5d684086c.png?1572894024', 'art_crop': 'https://c1.scryfall.com/file/scryfall-cards/art_crop/front/4/4/44614c6d-5508-4077-b825-66d5d684086c.jpg?1572894024', 'border_crop': 'https://c1.scryfall.com/file/scryfall-cards/border_crop/front/4/4/44614c6d-5508-4077-b825-66d5d684086c.jpg?1572894024'}\",\n",
       "     'type': 'Instant',\n",
       "     'pioneer': 'Legal',\n",
       "     'colors': 'B,G',\n",
       "     'subtypes': '0',\n",
       "     'Names': 'Status_II_Statue-21170',\n",
       "     'commander': 'Legal',\n",
       "     'modern': 'Legal',\n",
       "     'pauper': 'Blank',\n",
       "     'similarity': '0.81594276',\n",
       "     'duel': 'Legal',\n",
       "     'id': '21170',\n",
       "     'power': '0',\n",
       "     'text': 'Destroy target artifact, creature, or enchantment.',\n",
       "     'toughness': '0',\n",
       "     'convertedManaCost': '5.0',\n",
       "     'oldschool': 'Blank',\n",
       "     'mtgArenaId': '68709.0',\n",
       "     'types': 'Instant',\n",
       "     'historic': 'Legal',\n",
       "     'loyalty': '0',\n",
       "     'scryfallId': '44614c6d-5508-4077-b825-66d5d684086c',\n",
       "     'future': 'Blank',\n",
       "     'vintage': 'Legal',\n",
       "     'name': 'Status // Statue',\n",
       "     'manaCost': '{2}{B}{G}',\n",
       "     'brawl': 'Blank',\n",
       "     'penny': 'Legal'},\n",
       "    {'setName': 'Ravnica Allegiance',\n",
       "     'standard': 'Blank',\n",
       "     'legacy': 'Legal',\n",
       "     'image_urls': \"{'small': 'https://c1.scryfall.com/file/scryfall-cards/small/front/8/2/821c4ab5-eb75-445a-bbec-e50af54dba7a.jpg?1584831541', 'normal': 'https://c1.scryfall.com/file/scryfall-cards/normal/front/8/2/821c4ab5-eb75-445a-bbec-e50af54dba7a.jpg?1584831541', 'large': 'https://c1.scryfall.com/file/scryfall-cards/large/front/8/2/821c4ab5-eb75-445a-bbec-e50af54dba7a.jpg?1584831541', 'png': 'https://c1.scryfall.com/file/scryfall-cards/png/front/8/2/821c4ab5-eb75-445a-bbec-e50af54dba7a.png?1584831541', 'art_crop': 'https://c1.scryfall.com/file/scryfall-cards/art_crop/front/8/2/821c4ab5-eb75-445a-bbec-e50af54dba7a.jpg?1584831541', 'border_crop': 'https://c1.scryfall.com/file/scryfall-cards/border_crop/front/8/2/821c4ab5-eb75-445a-bbec-e50af54dba7a.jpg?1584831541'}\",\n",
       "     'type': 'Instant',\n",
       "     'pioneer': 'Legal',\n",
       "     'colors': 'B,R',\n",
       "     'subtypes': '0',\n",
       "     'Names': 'Get_the_Point-45963',\n",
       "     'commander': 'Legal',\n",
       "     'modern': 'Legal',\n",
       "     'pauper': 'Legal',\n",
       "     'similarity': '0.8149868',\n",
       "     'duel': 'Legal',\n",
       "     'id': '45963',\n",
       "     'power': '0',\n",
       "     'text': 'Destroy target creature. Scry 1.',\n",
       "     'toughness': '0',\n",
       "     'convertedManaCost': '5.0',\n",
       "     'oldschool': 'Blank',\n",
       "     'mtgArenaId': '69304.0',\n",
       "     'types': 'Instant',\n",
       "     'historic': 'Legal',\n",
       "     'loyalty': '0',\n",
       "     'scryfallId': '821c4ab5-eb75-445a-bbec-e50af54dba7a',\n",
       "     'future': 'Blank',\n",
       "     'vintage': 'Legal',\n",
       "     'name': 'Get the Point',\n",
       "     'manaCost': '{3}{B}{R}',\n",
       "     'brawl': 'Blank',\n",
       "     'penny': 'Legal'},\n",
       "    {'setName': 'Core Set 2019',\n",
       "     'standard': 'Blank',\n",
       "     'legacy': 'Legal',\n",
       "     'image_urls': \"{'small': 'https://c1.scryfall.com/file/scryfall-cards/small/front/9/a/9a13293d-89a7-400c-8309-9f62eeb4769c.jpg?1562303369', 'normal': 'https://c1.scryfall.com/file/scryfall-cards/normal/front/9/a/9a13293d-89a7-400c-8309-9f62eeb4769c.jpg?1562303369', 'large': 'https://c1.scryfall.com/file/scryfall-cards/large/front/9/a/9a13293d-89a7-400c-8309-9f62eeb4769c.jpg?1562303369', 'png': 'https://c1.scryfall.com/file/scryfall-cards/png/front/9/a/9a13293d-89a7-400c-8309-9f62eeb4769c.png?1562303369', 'art_crop': 'https://c1.scryfall.com/file/scryfall-cards/art_crop/front/9/a/9a13293d-89a7-400c-8309-9f62eeb4769c.jpg?1562303369', 'border_crop': 'https://c1.scryfall.com/file/scryfall-cards/border_crop/front/9/a/9a13293d-89a7-400c-8309-9f62eeb4769c.jpg?1562303369'}\",\n",
       "     'type': 'Instant',\n",
       "     'pioneer': 'Legal',\n",
       "     'colors': 'R',\n",
       "     'subtypes': '0',\n",
       "     'Names': 'Smelt-28908',\n",
       "     'commander': 'Legal',\n",
       "     'modern': 'Legal',\n",
       "     'pauper': 'Legal',\n",
       "     'similarity': '0.8092577',\n",
       "     'duel': 'Legal',\n",
       "     'id': '28908',\n",
       "     'power': '0',\n",
       "     'text': 'Destroy target artifact.',\n",
       "     'toughness': '0',\n",
       "     'convertedManaCost': '1.0',\n",
       "     'oldschool': 'Blank',\n",
       "     'mtgArenaId': '67996.0',\n",
       "     'types': 'Instant',\n",
       "     'historic': 'Legal',\n",
       "     'loyalty': '0',\n",
       "     'scryfallId': '9a13293d-89a7-400c-8309-9f62eeb4769c',\n",
       "     'future': 'Blank',\n",
       "     'vintage': 'Legal',\n",
       "     'name': 'Smelt',\n",
       "     'manaCost': '{R}',\n",
       "     'brawl': 'Blank',\n",
       "     'penny': 'Legal'},\n",
       "    {'setName': 'Rivals of Ixalan',\n",
       "     'standard': 'Blank',\n",
       "     'legacy': 'Legal',\n",
       "     'image_urls': \"{'small': 'https://c1.scryfall.com/file/scryfall-cards/small/front/9/2/929a41f7-f52d-4190-a80c-5ceb3e368a31.jpg?1555040526', 'normal': 'https://c1.scryfall.com/file/scryfall-cards/normal/front/9/2/929a41f7-f52d-4190-a80c-5ceb3e368a31.jpg?1555040526', 'large': 'https://c1.scryfall.com/file/scryfall-cards/large/front/9/2/929a41f7-f52d-4190-a80c-5ceb3e368a31.jpg?1555040526', 'png': 'https://c1.scryfall.com/file/scryfall-cards/png/front/9/2/929a41f7-f52d-4190-a80c-5ceb3e368a31.png?1555040526', 'art_crop': 'https://c1.scryfall.com/file/scryfall-cards/art_crop/front/9/2/929a41f7-f52d-4190-a80c-5ceb3e368a31.jpg?1555040526', 'border_crop': 'https://c1.scryfall.com/file/scryfall-cards/border_crop/front/9/2/929a41f7-f52d-4190-a80c-5ceb3e368a31.jpg?1555040526'}\",\n",
       "     'type': 'Instant',\n",
       "     'pioneer': 'Legal',\n",
       "     'colors': 'R',\n",
       "     'subtypes': '0',\n",
       "     'Names': 'Shatter-45804',\n",
       "     'commander': 'Legal',\n",
       "     'modern': 'Legal',\n",
       "     'pauper': 'Legal',\n",
       "     'similarity': '0.8092577',\n",
       "     'duel': 'Legal',\n",
       "     'id': '45804',\n",
       "     'power': '0',\n",
       "     'text': 'Destroy target artifact.',\n",
       "     'toughness': '0',\n",
       "     'convertedManaCost': '2.0',\n",
       "     'oldschool': 'Blank',\n",
       "     'mtgArenaId': '66845.0',\n",
       "     'types': 'Instant',\n",
       "     'historic': 'Legal',\n",
       "     'loyalty': '0',\n",
       "     'scryfallId': '929a41f7-f52d-4190-a80c-5ceb3e368a31',\n",
       "     'future': 'Blank',\n",
       "     'vintage': 'Legal',\n",
       "     'name': 'Shatter',\n",
       "     'manaCost': '{1}{R}',\n",
       "     'brawl': 'Blank',\n",
       "     'penny': 'Legal'},\n",
       "    {'setName': 'Core Set 2019',\n",
       "     'standard': 'Blank',\n",
       "     'legacy': 'Legal',\n",
       "     'image_urls': \"{'small': 'https://c1.scryfall.com/file/scryfall-cards/small/front/3/2/32bd3acd-aa62-4708-9336-e3430fd0e541.jpg?1562301277', 'normal': 'https://c1.scryfall.com/file/scryfall-cards/normal/front/3/2/32bd3acd-aa62-4708-9336-e3430fd0e541.jpg?1562301277', 'large': 'https://c1.scryfall.com/file/scryfall-cards/large/front/3/2/32bd3acd-aa62-4708-9336-e3430fd0e541.jpg?1562301277', 'png': 'https://c1.scryfall.com/file/scryfall-cards/png/front/3/2/32bd3acd-aa62-4708-9336-e3430fd0e541.png?1562301277', 'art_crop': 'https://c1.scryfall.com/file/scryfall-cards/art_crop/front/3/2/32bd3acd-aa62-4708-9336-e3430fd0e541.jpg?1562301277', 'border_crop': 'https://c1.scryfall.com/file/scryfall-cards/border_crop/front/3/2/32bd3acd-aa62-4708-9336-e3430fd0e541.jpg?1562301277'}\",\n",
       "     'type': 'Sorcery',\n",
       "     'pioneer': 'Legal',\n",
       "     'colors': 'B',\n",
       "     'subtypes': '0',\n",
       "     'Names': \"Lich's_Caress-28803\",\n",
       "     'commander': 'Legal',\n",
       "     'modern': 'Legal',\n",
       "     'pauper': 'Legal',\n",
       "     'similarity': '0.80558914',\n",
       "     'duel': 'Legal',\n",
       "     'id': '28803',\n",
       "     'power': '0',\n",
       "     'text': 'Destroy target creature. You gain 3 life.',\n",
       "     'toughness': '0',\n",
       "     'convertedManaCost': '5.0',\n",
       "     'oldschool': 'Blank',\n",
       "     'mtgArenaId': '67890.0',\n",
       "     'types': 'Sorcery',\n",
       "     'historic': 'Legal',\n",
       "     'loyalty': '0',\n",
       "     'scryfallId': '32bd3acd-aa62-4708-9336-e3430fd0e541',\n",
       "     'future': 'Blank',\n",
       "     'vintage': 'Legal',\n",
       "     'name': \"Lich's Caress\",\n",
       "     'manaCost': '{3}{B}{B}',\n",
       "     'brawl': 'Blank',\n",
       "     'penny': 'Legal'},\n",
       "    {'setName': 'Jumpstart',\n",
       "     'standard': 'Blank',\n",
       "     'legacy': 'Legal',\n",
       "     'image_urls': \"{'small': 'https://c1.scryfall.com/file/scryfall-cards/small/front/9/a/9aacb3ae-c889-4912-bc2d-2aa0adfd20bd.jpg?1600732614', 'normal': 'https://c1.scryfall.com/file/scryfall-cards/normal/front/9/a/9aacb3ae-c889-4912-bc2d-2aa0adfd20bd.jpg?1600732614', 'large': 'https://c1.scryfall.com/file/scryfall-cards/large/front/9/a/9aacb3ae-c889-4912-bc2d-2aa0adfd20bd.jpg?1600732614', 'png': 'https://c1.scryfall.com/file/scryfall-cards/png/front/9/a/9aacb3ae-c889-4912-bc2d-2aa0adfd20bd.png?1600732614', 'art_crop': 'https://c1.scryfall.com/file/scryfall-cards/art_crop/front/9/a/9aacb3ae-c889-4912-bc2d-2aa0adfd20bd.jpg?1600732614', 'border_crop': 'https://c1.scryfall.com/file/scryfall-cards/border_crop/front/9/a/9aacb3ae-c889-4912-bc2d-2aa0adfd20bd.jpg?1600732614'}\",\n",
       "     'type': 'Sorcery',\n",
       "     'pioneer': 'Legal',\n",
       "     'colors': 'B',\n",
       "     'subtypes': '0',\n",
       "     'Names': \"Assassin's_Strike-24086\",\n",
       "     'commander': 'Legal',\n",
       "     'modern': 'Legal',\n",
       "     'pauper': 'Blank',\n",
       "     'similarity': '0.8024427',\n",
       "     'duel': 'Legal',\n",
       "     'id': '24086',\n",
       "     'power': '0',\n",
       "     'text': 'Destroy target creature. Its controller discards a card.',\n",
       "     'toughness': '0',\n",
       "     'convertedManaCost': '6.0',\n",
       "     'oldschool': 'Blank',\n",
       "     'mtgArenaId': '72262.0',\n",
       "     'types': 'Sorcery',\n",
       "     'historic': 'Legal',\n",
       "     'loyalty': '0',\n",
       "     'scryfallId': '9aacb3ae-c889-4912-bc2d-2aa0adfd20bd',\n",
       "     'future': 'Blank',\n",
       "     'vintage': 'Legal',\n",
       "     'name': \"Assassin's Strike\",\n",
       "     'manaCost': '{4}{B}{B}',\n",
       "     'brawl': 'Blank',\n",
       "     'penny': 'Legal'},\n",
       "    {'setName': 'Ravnica Allegiance',\n",
       "     'standard': 'Blank',\n",
       "     'legacy': 'Legal',\n",
       "     'image_urls': \"{'small': 'https://c1.scryfall.com/file/scryfall-cards/small/front/8/1/81e2b96b-ecf2-4dd9-bc9d-3c46ee8c59e6.jpg?1584831400', 'normal': 'https://c1.scryfall.com/file/scryfall-cards/normal/front/8/1/81e2b96b-ecf2-4dd9-bc9d-3c46ee8c59e6.jpg?1584831400', 'large': 'https://c1.scryfall.com/file/scryfall-cards/large/front/8/1/81e2b96b-ecf2-4dd9-bc9d-3c46ee8c59e6.jpg?1584831400', 'png': 'https://c1.scryfall.com/file/scryfall-cards/png/front/8/1/81e2b96b-ecf2-4dd9-bc9d-3c46ee8c59e6.png?1584831400', 'art_crop': 'https://c1.scryfall.com/file/scryfall-cards/art_crop/front/8/1/81e2b96b-ecf2-4dd9-bc9d-3c46ee8c59e6.jpg?1584831400', 'border_crop': 'https://c1.scryfall.com/file/scryfall-cards/border_crop/front/8/1/81e2b96b-ecf2-4dd9-bc9d-3c46ee8c59e6.jpg?1584831400'}\",\n",
       "     'type': 'Instant',\n",
       "     'pioneer': 'Legal',\n",
       "     'colors': 'B,R',\n",
       "     'subtypes': '0',\n",
       "     'Names': 'Bedevil-45882',\n",
       "     'commander': 'Legal',\n",
       "     'modern': 'Legal',\n",
       "     'pauper': 'Blank',\n",
       "     'similarity': '0.7984066',\n",
       "     'duel': 'Legal',\n",
       "     'id': '45882',\n",
       "     'power': '0',\n",
       "     'text': 'Destroy target artifact, creature, or planeswalker.',\n",
       "     'toughness': '0',\n",
       "     'convertedManaCost': '3.0',\n",
       "     'oldschool': 'Blank',\n",
       "     'mtgArenaId': '69285.0',\n",
       "     'types': 'Instant',\n",
       "     'historic': 'Legal',\n",
       "     'loyalty': '0',\n",
       "     'scryfallId': '81e2b96b-ecf2-4dd9-bc9d-3c46ee8c59e6',\n",
       "     'future': 'Blank',\n",
       "     'vintage': 'Legal',\n",
       "     'name': 'Bedevil',\n",
       "     'manaCost': '{B}{B}{R}',\n",
       "     'brawl': 'Blank',\n",
       "     'penny': 'Blank'},\n",
       "    {'setName': 'Ixalan',\n",
       "     'standard': 'Blank',\n",
       "     'legacy': 'Legal',\n",
       "     'image_urls': \"{'small': 'https://c1.scryfall.com/file/scryfall-cards/small/front/e/3/e3979b88-ac58-420a-8c03-37ea5d93d0f1.jpg?1562565654', 'normal': 'https://c1.scryfall.com/file/scryfall-cards/normal/front/e/3/e3979b88-ac58-420a-8c03-37ea5d93d0f1.jpg?1562565654', 'large': 'https://c1.scryfall.com/file/scryfall-cards/large/front/e/3/e3979b88-ac58-420a-8c03-37ea5d93d0f1.jpg?1562565654', 'png': 'https://c1.scryfall.com/file/scryfall-cards/png/front/e/3/e3979b88-ac58-420a-8c03-37ea5d93d0f1.png?1562565654', 'art_crop': 'https://c1.scryfall.com/file/scryfall-cards/art_crop/front/e/3/e3979b88-ac58-420a-8c03-37ea5d93d0f1.jpg?1562565654', 'border_crop': 'https://c1.scryfall.com/file/scryfall-cards/border_crop/front/e/3/e3979b88-ac58-420a-8c03-37ea5d93d0f1.jpg?1562565654'}\",\n",
       "     'type': 'Instant',\n",
       "     'pioneer': 'Legal',\n",
       "     'colors': 'W',\n",
       "     'subtypes': '0',\n",
       "     'Names': 'Demystify-54812',\n",
       "     'commander': 'Legal',\n",
       "     'modern': 'Legal',\n",
       "     'pauper': 'Legal',\n",
       "     'similarity': '0.7877349',\n",
       "     'duel': 'Legal',\n",
       "     'id': '54812',\n",
       "     'power': '0',\n",
       "     'text': 'Destroy target enchantment.',\n",
       "     'toughness': '0',\n",
       "     'convertedManaCost': '1.0',\n",
       "     'oldschool': 'Blank',\n",
       "     'mtgArenaId': '65975.0',\n",
       "     'types': 'Instant',\n",
       "     'historic': 'Legal',\n",
       "     'loyalty': '0',\n",
       "     'scryfallId': 'e3979b88-ac58-420a-8c03-37ea5d93d0f1',\n",
       "     'future': 'Blank',\n",
       "     'vintage': 'Legal',\n",
       "     'name': 'Demystify',\n",
       "     'manaCost': '{W}',\n",
       "     'brawl': 'Blank',\n",
       "     'penny': 'Legal'},\n",
       "    {'setName': 'Guilds of Ravnica',\n",
       "     'standard': 'Blank',\n",
       "     'legacy': 'Legal',\n",
       "     'image_urls': \"{'small': 'https://c1.scryfall.com/file/scryfall-cards/small/front/c/d/cdf305b7-d1f7-4770-9201-8f3fb6735cd9.jpg?1572892497', 'normal': 'https://c1.scryfall.com/file/scryfall-cards/normal/front/c/d/cdf305b7-d1f7-4770-9201-8f3fb6735cd9.jpg?1572892497', 'large': 'https://c1.scryfall.com/file/scryfall-cards/large/front/c/d/cdf305b7-d1f7-4770-9201-8f3fb6735cd9.jpg?1572892497', 'png': 'https://c1.scryfall.com/file/scryfall-cards/png/front/c/d/cdf305b7-d1f7-4770-9201-8f3fb6735cd9.png?1572892497', 'art_crop': 'https://c1.scryfall.com/file/scryfall-cards/art_crop/front/c/d/cdf305b7-d1f7-4770-9201-8f3fb6735cd9.jpg?1572892497', 'border_crop': 'https://c1.scryfall.com/file/scryfall-cards/border_crop/front/c/d/cdf305b7-d1f7-4770-9201-8f3fb6735cd9.jpg?1572892497'}\",\n",
       "     'type': 'Instant',\n",
       "     'pioneer': 'Legal',\n",
       "     'colors': 'W',\n",
       "     'subtypes': '0',\n",
       "     'Names': 'Collar_the_Culprit-20976',\n",
       "     'commander': 'Legal',\n",
       "     'modern': 'Legal',\n",
       "     'pauper': 'Legal',\n",
       "     'similarity': '0.78527594',\n",
       "     'duel': 'Legal',\n",
       "     'id': '20976',\n",
       "     'power': '0',\n",
       "     'text': 'Destroy target creature with toughness 4 or greater.',\n",
       "     'toughness': '0',\n",
       "     'convertedManaCost': '4.0',\n",
       "     'oldschool': 'Blank',\n",
       "     'mtgArenaId': '68466.0',\n",
       "     'types': 'Instant',\n",
       "     'historic': 'Legal',\n",
       "     'loyalty': '0',\n",
       "     'scryfallId': 'cdf305b7-d1f7-4770-9201-8f3fb6735cd9',\n",
       "     'future': 'Blank',\n",
       "     'vintage': 'Legal',\n",
       "     'name': 'Collar the Culprit',\n",
       "     'manaCost': '{3}{W}',\n",
       "     'brawl': 'Blank',\n",
       "     'penny': 'Legal'},\n",
       "    {'setName': 'Ixalan',\n",
       "     'standard': 'Blank',\n",
       "     'legacy': 'Legal',\n",
       "     'image_urls': \"{'small': 'https://c1.scryfall.com/file/scryfall-cards/small/front/d/4/d48aa427-b2d5-4562-bd69-e98913d53fb1.jpg?1562564599', 'normal': 'https://c1.scryfall.com/file/scryfall-cards/normal/front/d/4/d48aa427-b2d5-4562-bd69-e98913d53fb1.jpg?1562564599', 'large': 'https://c1.scryfall.com/file/scryfall-cards/large/front/d/4/d48aa427-b2d5-4562-bd69-e98913d53fb1.jpg?1562564599', 'png': 'https://c1.scryfall.com/file/scryfall-cards/png/front/d/4/d48aa427-b2d5-4562-bd69-e98913d53fb1.png?1562564599', 'art_crop': 'https://c1.scryfall.com/file/scryfall-cards/art_crop/front/d/4/d48aa427-b2d5-4562-bd69-e98913d53fb1.jpg?1562564599', 'border_crop': 'https://c1.scryfall.com/file/scryfall-cards/border_crop/front/d/4/d48aa427-b2d5-4562-bd69-e98913d53fb1.jpg?1562564599'}\",\n",
       "     'type': 'Sorcery',\n",
       "     'pioneer': 'Legal',\n",
       "     'colors': 'R',\n",
       "     'subtypes': '0',\n",
       "     'Names': 'Demolish-54811',\n",
       "     'commander': 'Legal',\n",
       "     'modern': 'Legal',\n",
       "     'pauper': 'Legal',\n",
       "     'similarity': '0.77705276',\n",
       "     'duel': 'Legal',\n",
       "     'id': '54811',\n",
       "     'power': '0',\n",
       "     'text': 'Destroy target artifact or land.',\n",
       "     'toughness': '0',\n",
       "     'convertedManaCost': '4.0',\n",
       "     'oldschool': 'Blank',\n",
       "     'mtgArenaId': '66243.0',\n",
       "     'types': 'Sorcery',\n",
       "     'historic': 'Legal',\n",
       "     'loyalty': '0',\n",
       "     'scryfallId': 'd48aa427-b2d5-4562-bd69-e98913d53fb1',\n",
       "     'future': 'Blank',\n",
       "     'vintage': 'Legal',\n",
       "     'name': 'Demolish',\n",
       "     'manaCost': '{3}{R}',\n",
       "     'brawl': 'Blank',\n",
       "     'penny': 'Legal'},\n",
       "    {'setName': 'War of the Spark',\n",
       "     'standard': 'Blank',\n",
       "     'legacy': 'Legal',\n",
       "     'image_urls': \"{'small': 'https://c1.scryfall.com/file/scryfall-cards/small/front/b/0/b00211dd-6dd7-40d9-80f3-f909f6d112db.jpg?1557576665', 'normal': 'https://c1.scryfall.com/file/scryfall-cards/normal/front/b/0/b00211dd-6dd7-40d9-80f3-f909f6d112db.jpg?1557576665', 'large': 'https://c1.scryfall.com/file/scryfall-cards/large/front/b/0/b00211dd-6dd7-40d9-80f3-f909f6d112db.jpg?1557576665', 'png': 'https://c1.scryfall.com/file/scryfall-cards/png/front/b/0/b00211dd-6dd7-40d9-80f3-f909f6d112db.png?1557576665', 'art_crop': 'https://c1.scryfall.com/file/scryfall-cards/art_crop/front/b/0/b00211dd-6dd7-40d9-80f3-f909f6d112db.jpg?1557576665', 'border_crop': 'https://c1.scryfall.com/file/scryfall-cards/border_crop/front/b/0/b00211dd-6dd7-40d9-80f3-f909f6d112db.jpg?1557576665'}\",\n",
       "     'type': 'Sorcery',\n",
       "     'pioneer': 'Legal',\n",
       "     'colors': 'R',\n",
       "     'subtypes': '0',\n",
       "     'Names': 'Demolish-53226',\n",
       "     'commander': 'Legal',\n",
       "     'modern': 'Legal',\n",
       "     'pauper': 'Legal',\n",
       "     'similarity': '0.77705276',\n",
       "     'duel': 'Legal',\n",
       "     'id': '53226',\n",
       "     'power': '0',\n",
       "     'text': 'Destroy target artifact or land.',\n",
       "     'toughness': '0',\n",
       "     'convertedManaCost': '4.0',\n",
       "     'oldschool': 'Blank',\n",
       "     'mtgArenaId': '69574.0',\n",
       "     'types': 'Sorcery',\n",
       "     'historic': 'Legal',\n",
       "     'loyalty': '0',\n",
       "     'scryfallId': 'b00211dd-6dd7-40d9-80f3-f909f6d112db',\n",
       "     'future': 'Blank',\n",
       "     'vintage': 'Legal',\n",
       "     'name': 'Demolish',\n",
       "     'manaCost': '{3}{R}',\n",
       "     'brawl': 'Blank',\n",
       "     'penny': 'Legal'},\n",
       "    {'setName': 'Core Set 2019',\n",
       "     'standard': 'Legal',\n",
       "     'legacy': 'Legal',\n",
       "     'image_urls': \"{'small': 'https://c1.scryfall.com/file/scryfall-cards/small/front/9/7/975f61eb-a121-4f43-93a4-c6f20c6aee84.jpg?1562303356', 'normal': 'https://c1.scryfall.com/file/scryfall-cards/normal/front/9/7/975f61eb-a121-4f43-93a4-c6f20c6aee84.jpg?1562303356', 'large': 'https://c1.scryfall.com/file/scryfall-cards/large/front/9/7/975f61eb-a121-4f43-93a4-c6f20c6aee84.jpg?1562303356', 'png': 'https://c1.scryfall.com/file/scryfall-cards/png/front/9/7/975f61eb-a121-4f43-93a4-c6f20c6aee84.png?1562303356', 'art_crop': 'https://c1.scryfall.com/file/scryfall-cards/art_crop/front/9/7/975f61eb-a121-4f43-93a4-c6f20c6aee84.jpg?1562303356', 'border_crop': 'https://c1.scryfall.com/file/scryfall-cards/border_crop/front/9/7/975f61eb-a121-4f43-93a4-c6f20c6aee84.jpg?1562303356'}\",\n",
       "     'type': 'Instant',\n",
       "     'pioneer': 'Legal',\n",
       "     'colors': 'U',\n",
       "     'subtypes': '0',\n",
       "     'Names': 'Essence_Scatter-28736',\n",
       "     'commander': 'Legal',\n",
       "     'modern': 'Legal',\n",
       "     'pauper': 'Legal',\n",
       "     'similarity': '0.7745497',\n",
       "     'duel': 'Legal',\n",
       "     'id': '28736',\n",
       "     'power': '0',\n",
       "     'text': 'Counter target creature spell.',\n",
       "     'toughness': '0',\n",
       "     'convertedManaCost': '2.0',\n",
       "     'oldschool': 'Blank',\n",
       "     'mtgArenaId': '67788.0',\n",
       "     'types': 'Instant',\n",
       "     'historic': 'Legal',\n",
       "     'loyalty': '0',\n",
       "     'scryfallId': '975f61eb-a121-4f43-93a4-c6f20c6aee84',\n",
       "     'future': 'Legal',\n",
       "     'vintage': 'Legal',\n",
       "     'name': 'Essence Scatter',\n",
       "     'manaCost': '{1}{U}',\n",
       "     'brawl': 'Legal',\n",
       "     'penny': 'Legal'},\n",
       "    {'setName': 'Ikoria: Lair of Behemoths',\n",
       "     'standard': 'Legal',\n",
       "     'legacy': 'Legal',\n",
       "     'image_urls': \"{'small': 'https://c1.scryfall.com/file/scryfall-cards/small/front/5/f/5f79c8a0-291e-4e13-b765-4cf8c726cf30.jpg?1591291406', 'normal': 'https://c1.scryfall.com/file/scryfall-cards/normal/front/5/f/5f79c8a0-291e-4e13-b765-4cf8c726cf30.jpg?1591291406', 'large': 'https://c1.scryfall.com/file/scryfall-cards/large/front/5/f/5f79c8a0-291e-4e13-b765-4cf8c726cf30.jpg?1591291406', 'png': 'https://c1.scryfall.com/file/scryfall-cards/png/front/5/f/5f79c8a0-291e-4e13-b765-4cf8c726cf30.png?1591291406', 'art_crop': 'https://c1.scryfall.com/file/scryfall-cards/art_crop/front/5/f/5f79c8a0-291e-4e13-b765-4cf8c726cf30.jpg?1591291406', 'border_crop': 'https://c1.scryfall.com/file/scryfall-cards/border_crop/front/5/f/5f79c8a0-291e-4e13-b765-4cf8c726cf30.jpg?1591291406'}\",\n",
       "     'type': 'Instant',\n",
       "     'pioneer': 'Legal',\n",
       "     'colors': 'U',\n",
       "     'subtypes': '0',\n",
       "     'Names': 'Essence_Scatter-22718',\n",
       "     'commander': 'Legal',\n",
       "     'modern': 'Legal',\n",
       "     'pauper': 'Legal',\n",
       "     'similarity': '0.7745497',\n",
       "     'duel': 'Legal',\n",
       "     'id': '22718',\n",
       "     'power': '0',\n",
       "     'text': 'Counter target creature spell.',\n",
       "     'toughness': '0',\n",
       "     'convertedManaCost': '2.0',\n",
       "     'oldschool': 'Blank',\n",
       "     'mtgArenaId': '71116.0',\n",
       "     'types': 'Instant',\n",
       "     'historic': 'Legal',\n",
       "     'loyalty': '0',\n",
       "     'scryfallId': '5f79c8a0-291e-4e13-b765-4cf8c726cf30',\n",
       "     'future': 'Legal',\n",
       "     'vintage': 'Legal',\n",
       "     'name': 'Essence Scatter',\n",
       "     'manaCost': '{1}{U}',\n",
       "     'brawl': 'Legal',\n",
       "     'penny': 'Legal'},\n",
       "    {'setName': 'Amonkhet Remastered',\n",
       "     'standard': 'Legal',\n",
       "     'legacy': 'Legal',\n",
       "     'image_urls': \"{'small': 'https://c1.scryfall.com/file/scryfall-cards/small/front/3/c/3c102e4d-fa22-4e05-a2af-9014de929e64.jpg?1597173086', 'normal': 'https://c1.scryfall.com/file/scryfall-cards/normal/front/3/c/3c102e4d-fa22-4e05-a2af-9014de929e64.jpg?1597173086', 'large': 'https://c1.scryfall.com/file/scryfall-cards/large/front/3/c/3c102e4d-fa22-4e05-a2af-9014de929e64.jpg?1597173086', 'png': 'https://c1.scryfall.com/file/scryfall-cards/png/front/3/c/3c102e4d-fa22-4e05-a2af-9014de929e64.png?1597173086', 'art_crop': 'https://c1.scryfall.com/file/scryfall-cards/art_crop/front/3/c/3c102e4d-fa22-4e05-a2af-9014de929e64.jpg?1597173086', 'border_crop': 'https://c1.scryfall.com/file/scryfall-cards/border_crop/front/3/c/3c102e4d-fa22-4e05-a2af-9014de929e64.jpg?1597173086'}\",\n",
       "     'type': 'Instant',\n",
       "     'pioneer': 'Legal',\n",
       "     'colors': 'U',\n",
       "     'subtypes': '0',\n",
       "     'Names': 'Essence_Scatter-5170',\n",
       "     'commander': 'Legal',\n",
       "     'modern': 'Legal',\n",
       "     'pauper': 'Legal',\n",
       "     'similarity': '0.7745497',\n",
       "     'duel': 'Legal',\n",
       "     'id': '5170',\n",
       "     'power': '0',\n",
       "     'text': 'Counter target creature spell.',\n",
       "     'toughness': '0',\n",
       "     'convertedManaCost': '2.0',\n",
       "     'oldschool': 'Blank',\n",
       "     'mtgArenaId': '73836.0',\n",
       "     'types': 'Instant',\n",
       "     'historic': 'Legal',\n",
       "     'loyalty': '0',\n",
       "     'scryfallId': '3c102e4d-fa22-4e05-a2af-9014de929e64',\n",
       "     'future': 'Legal',\n",
       "     'vintage': 'Legal',\n",
       "     'name': 'Essence Scatter',\n",
       "     'manaCost': '{1}{U}',\n",
       "     'brawl': 'Legal',\n",
       "     'penny': 'Legal'},\n",
       "    {'setName': 'Ixalan',\n",
       "     'standard': 'Blank',\n",
       "     'legacy': 'Legal',\n",
       "     'image_urls': \"{'small': 'https://c1.scryfall.com/file/scryfall-cards/small/front/4/3/433634b9-b26c-4935-a4f1-735373415548.jpg?1562554269', 'normal': 'https://c1.scryfall.com/file/scryfall-cards/normal/front/4/3/433634b9-b26c-4935-a4f1-735373415548.jpg?1562554269', 'large': 'https://c1.scryfall.com/file/scryfall-cards/large/front/4/3/433634b9-b26c-4935-a4f1-735373415548.jpg?1562554269', 'png': 'https://c1.scryfall.com/file/scryfall-cards/png/front/4/3/433634b9-b26c-4935-a4f1-735373415548.png?1562554269', 'art_crop': 'https://c1.scryfall.com/file/scryfall-cards/art_crop/front/4/3/433634b9-b26c-4935-a4f1-735373415548.jpg?1562554269', 'border_crop': 'https://c1.scryfall.com/file/scryfall-cards/border_crop/front/4/3/433634b9-b26c-4935-a4f1-735373415548.jpg?1562554269'}\",\n",
       "     'type': 'Instant',\n",
       "     'pioneer': 'Legal',\n",
       "     'colors': 'G',\n",
       "     'subtypes': '0',\n",
       "     'Names': 'Slice_in_Twain-54991',\n",
       "     'commander': 'Legal',\n",
       "     'modern': 'Legal',\n",
       "     'pauper': 'Blank',\n",
       "     'similarity': '0.7700622',\n",
       "     'duel': 'Legal',\n",
       "     'id': '54991',\n",
       "     'power': '0',\n",
       "     'text': 'Destroy target artifact or enchantment.\\nDraw a card.',\n",
       "     'toughness': '0',\n",
       "     'convertedManaCost': '4.0',\n",
       "     'oldschool': 'Blank',\n",
       "     'mtgArenaId': '66383.0',\n",
       "     'types': 'Instant',\n",
       "     'historic': 'Legal',\n",
       "     'loyalty': '0',\n",
       "     'scryfallId': '433634b9-b26c-4935-a4f1-735373415548',\n",
       "     'future': 'Blank',\n",
       "     'vintage': 'Legal',\n",
       "     'name': 'Slice in Twain',\n",
       "     'manaCost': '{2}{G}{G}',\n",
       "     'brawl': 'Blank',\n",
       "     'penny': 'Blank'},\n",
       "    {'setName': 'Dominaria',\n",
       "     'standard': 'Blank',\n",
       "     'legacy': 'Legal',\n",
       "     'image_urls': \"{'small': 'https://c1.scryfall.com/file/scryfall-cards/small/front/d/a/dad40a04-a026-4285-8c78-088a356652d1.jpg?1593861040', 'normal': 'https://c1.scryfall.com/file/scryfall-cards/normal/front/d/a/dad40a04-a026-4285-8c78-088a356652d1.jpg?1593861040', 'large': 'https://c1.scryfall.com/file/scryfall-cards/large/front/d/a/dad40a04-a026-4285-8c78-088a356652d1.jpg?1593861040', 'png': 'https://c1.scryfall.com/file/scryfall-cards/png/front/d/a/dad40a04-a026-4285-8c78-088a356652d1.png?1593861040', 'art_crop': 'https://c1.scryfall.com/file/scryfall-cards/art_crop/front/d/a/dad40a04-a026-4285-8c78-088a356652d1.jpg?1593861040', 'border_crop': 'https://c1.scryfall.com/file/scryfall-cards/border_crop/front/d/a/dad40a04-a026-4285-8c78-088a356652d1.jpg?1593861040'}\",\n",
       "     'type': 'Sorcery',\n",
       "     'pioneer': 'Legal',\n",
       "     'colors': 'R',\n",
       "     'subtypes': '0',\n",
       "     'Names': 'Seismic_Shift-16777',\n",
       "     'commander': 'Legal',\n",
       "     'modern': 'Legal',\n",
       "     'pauper': 'Legal',\n",
       "     'similarity': '0.7571616',\n",
       "     'duel': 'Legal',\n",
       "     'id': '16777',\n",
       "     'power': '0',\n",
       "     'text': \"Destroy target land. Up to two target creatures can't block this turn.\",\n",
       "     'toughness': '0',\n",
       "     'convertedManaCost': '4.0',\n",
       "     'oldschool': 'Blank',\n",
       "     'mtgArenaId': '67386.0',\n",
       "     'types': 'Sorcery',\n",
       "     'historic': 'Legal',\n",
       "     'loyalty': '0',\n",
       "     'scryfallId': 'dad40a04-a026-4285-8c78-088a356652d1',\n",
       "     'future': 'Blank',\n",
       "     'vintage': 'Legal',\n",
       "     'name': 'Seismic Shift',\n",
       "     'manaCost': '{3}{R}',\n",
       "     'brawl': 'Blank',\n",
       "     'penny': 'Legal'},\n",
       "    {'setName': 'Zendikar Rising',\n",
       "     'standard': 'Legal',\n",
       "     'legacy': 'Legal',\n",
       "     'image_urls': \"{'small': 'https://c1.scryfall.com/file/scryfall-cards/small/front/c/0/c0fc2dfd-85b0-4add-be18-b39549235921.jpg?1604198611', 'normal': 'https://c1.scryfall.com/file/scryfall-cards/normal/front/c/0/c0fc2dfd-85b0-4add-be18-b39549235921.jpg?1604198611', 'large': 'https://c1.scryfall.com/file/scryfall-cards/large/front/c/0/c0fc2dfd-85b0-4add-be18-b39549235921.jpg?1604198611', 'png': 'https://c1.scryfall.com/file/scryfall-cards/png/front/c/0/c0fc2dfd-85b0-4add-be18-b39549235921.png?1604198611', 'art_crop': 'https://c1.scryfall.com/file/scryfall-cards/art_crop/front/c/0/c0fc2dfd-85b0-4add-be18-b39549235921.jpg?1604198611', 'border_crop': 'https://c1.scryfall.com/file/scryfall-cards/border_crop/front/c/0/c0fc2dfd-85b0-4add-be18-b39549235921.jpg?1604198611'}\",\n",
       "     'type': 'Instant',\n",
       "     'pioneer': 'Legal',\n",
       "     'colors': 'G',\n",
       "     'subtypes': '0',\n",
       "     'Names': 'Broken_Wings-55545',\n",
       "     'commander': 'Legal',\n",
       "     'modern': 'Legal',\n",
       "     'pauper': 'Legal',\n",
       "     'similarity': '0.7568719',\n",
       "     'duel': 'Legal',\n",
       "     'id': '55545',\n",
       "     'power': '0',\n",
       "     'text': 'Destroy target artifact, enchantment, or creature with flying.',\n",
       "     'toughness': '0',\n",
       "     'convertedManaCost': '3.0',\n",
       "     'oldschool': 'Blank',\n",
       "     'mtgArenaId': '73388.0',\n",
       "     'types': 'Instant',\n",
       "     'historic': 'Legal',\n",
       "     'loyalty': '0',\n",
       "     'scryfallId': 'c0fc2dfd-85b0-4add-be18-b39549235921',\n",
       "     'future': 'Legal',\n",
       "     'vintage': 'Legal',\n",
       "     'name': 'Broken Wings',\n",
       "     'manaCost': '{2}{G}',\n",
       "     'brawl': 'Legal',\n",
       "     'penny': 'Legal'},\n",
       "    {'setName': 'Amonkhet Remastered',\n",
       "     'standard': 'Blank',\n",
       "     'legacy': 'Legal',\n",
       "     'image_urls': \"{'small': 'https://c1.scryfall.com/file/scryfall-cards/small/front/7/4/74f429a7-4084-41aa-b156-04fe7262485a.jpg?1597250121', 'normal': 'https://c1.scryfall.com/file/scryfall-cards/normal/front/7/4/74f429a7-4084-41aa-b156-04fe7262485a.jpg?1597250121', 'large': 'https://c1.scryfall.com/file/scryfall-cards/large/front/7/4/74f429a7-4084-41aa-b156-04fe7262485a.jpg?1597250121', 'png': 'https://c1.scryfall.com/file/scryfall-cards/png/front/7/4/74f429a7-4084-41aa-b156-04fe7262485a.png?1597250121', 'art_crop': 'https://c1.scryfall.com/file/scryfall-cards/art_crop/front/7/4/74f429a7-4084-41aa-b156-04fe7262485a.jpg?1597250121', 'border_crop': 'https://c1.scryfall.com/file/scryfall-cards/border_crop/front/7/4/74f429a7-4084-41aa-b156-04fe7262485a.jpg?1597250121'}\",\n",
       "     'type': 'Sorcery',\n",
       "     'pioneer': 'Legal',\n",
       "     'colors': 'R',\n",
       "     'subtypes': '0',\n",
       "     'Names': 'By_Force-5107',\n",
       "     'commander': 'Legal',\n",
       "     'modern': 'Legal',\n",
       "     'pauper': 'Blank',\n",
       "     'similarity': '0.74421966',\n",
       "     'duel': 'Legal',\n",
       "     'id': '5107',\n",
       "     'power': '0',\n",
       "     'text': 'Destroy X target artifacts.',\n",
       "     'toughness': '0',\n",
       "     'convertedManaCost': '1.0',\n",
       "     'oldschool': 'Blank',\n",
       "     'mtgArenaId': '73922.0',\n",
       "     'types': 'Sorcery',\n",
       "     'historic': 'Legal',\n",
       "     'loyalty': '0',\n",
       "     'scryfallId': '74f429a7-4084-41aa-b156-04fe7262485a',\n",
       "     'future': 'Blank',\n",
       "     'vintage': 'Legal',\n",
       "     'name': 'By Force',\n",
       "     'manaCost': '{X}{R}',\n",
       "     'brawl': 'Blank',\n",
       "     'penny': 'Legal'},\n",
       "    {'setName': 'Core Set 2020',\n",
       "     'standard': 'Legal',\n",
       "     'legacy': 'Legal',\n",
       "     'image_urls': \"{'small': 'https://c1.scryfall.com/file/scryfall-cards/small/front/1/b/1b6a2b01-da95-46fa-8673-30ffdfdee0a5.jpg?1592516017', 'normal': 'https://c1.scryfall.com/file/scryfall-cards/normal/front/1/b/1b6a2b01-da95-46fa-8673-30ffdfdee0a5.jpg?1592516017', 'large': 'https://c1.scryfall.com/file/scryfall-cards/large/front/1/b/1b6a2b01-da95-46fa-8673-30ffdfdee0a5.jpg?1592516017', 'png': 'https://c1.scryfall.com/file/scryfall-cards/png/front/1/b/1b6a2b01-da95-46fa-8673-30ffdfdee0a5.png?1592516017', 'art_crop': 'https://c1.scryfall.com/file/scryfall-cards/art_crop/front/1/b/1b6a2b01-da95-46fa-8673-30ffdfdee0a5.jpg?1592516017', 'border_crop': 'https://c1.scryfall.com/file/scryfall-cards/border_crop/front/1/b/1b6a2b01-da95-46fa-8673-30ffdfdee0a5.jpg?1592516017'}\",\n",
       "     'type': 'Instant',\n",
       "     'pioneer': 'Legal',\n",
       "     'colors': 'W',\n",
       "     'subtypes': '0',\n",
       "     'Names': 'Disenchant-29049',\n",
       "     'commander': 'Legal',\n",
       "     'modern': 'Legal',\n",
       "     'pauper': 'Legal',\n",
       "     'similarity': '0.74263793',\n",
       "     'duel': 'Legal',\n",
       "     'id': '29049',\n",
       "     'power': '0',\n",
       "     'text': 'Destroy target artifact or enchantment.',\n",
       "     'toughness': '0',\n",
       "     'convertedManaCost': '2.0',\n",
       "     'oldschool': 'Blank',\n",
       "     'mtgArenaId': '69799.0',\n",
       "     'types': 'Instant',\n",
       "     'historic': 'Legal',\n",
       "     'loyalty': '0',\n",
       "     'scryfallId': '1b6a2b01-da95-46fa-8673-30ffdfdee0a5',\n",
       "     'future': 'Legal',\n",
       "     'vintage': 'Legal',\n",
       "     'name': 'Disenchant',\n",
       "     'manaCost': '{1}{W}',\n",
       "     'brawl': 'Legal',\n",
       "     'penny': 'Legal'},\n",
       "    {'setName': 'Core Set 2019',\n",
       "     'standard': 'Blank',\n",
       "     'legacy': 'Legal',\n",
       "     'image_urls': \"{'small': 'https://c1.scryfall.com/file/scryfall-cards/small/front/3/9/390c40ba-2464-44ae-8d67-93c72ab3c425.jpg?1562301697', 'normal': 'https://c1.scryfall.com/file/scryfall-cards/normal/front/3/9/390c40ba-2464-44ae-8d67-93c72ab3c425.jpg?1562301697', 'large': 'https://c1.scryfall.com/file/scryfall-cards/large/front/3/9/390c40ba-2464-44ae-8d67-93c72ab3c425.jpg?1562301697', 'png': 'https://c1.scryfall.com/file/scryfall-cards/png/front/3/9/390c40ba-2464-44ae-8d67-93c72ab3c425.png?1562301697', 'art_crop': 'https://c1.scryfall.com/file/scryfall-cards/art_crop/front/3/9/390c40ba-2464-44ae-8d67-93c72ab3c425.jpg?1562301697', 'border_crop': 'https://c1.scryfall.com/file/scryfall-cards/border_crop/front/3/9/390c40ba-2464-44ae-8d67-93c72ab3c425.jpg?1562301697'}\",\n",
       "     'type': 'Instant',\n",
       "     'pioneer': 'Legal',\n",
       "     'colors': 'G',\n",
       "     'subtypes': '0',\n",
       "     'Names': 'Naturalize-28835',\n",
       "     'commander': 'Legal',\n",
       "     'modern': 'Legal',\n",
       "     'pauper': 'Legal',\n",
       "     'similarity': '0.74263793',\n",
       "     'duel': 'Legal',\n",
       "     'id': '28835',\n",
       "     'power': '0',\n",
       "     'text': 'Destroy target artifact or enchantment.',\n",
       "     'toughness': '0',\n",
       "     'convertedManaCost': '2.0',\n",
       "     'oldschool': 'Blank',\n",
       "     'mtgArenaId': '68060.0',\n",
       "     'types': 'Instant',\n",
       "     'historic': 'Legal',\n",
       "     'loyalty': '0',\n",
       "     'scryfallId': '390c40ba-2464-44ae-8d67-93c72ab3c425',\n",
       "     'future': 'Blank',\n",
       "     'vintage': 'Legal',\n",
       "     'name': 'Naturalize',\n",
       "     'manaCost': '{1}{G}',\n",
       "     'brawl': 'Blank',\n",
       "     'penny': 'Legal'}],\n",
       "   'vintage': 'Legal',\n",
       "   'power': '0',\n",
       "   'manaCost': '{1}{B}{B}',\n",
       "   'legacy': 'Legal',\n",
       "   'similarity': '0.9999995',\n",
       "   'standard': 'Blank',\n",
       "   'type': 'Instant',\n",
       "   'oldschool': 'Blank'}]}"
      ]
     },
     "metadata": {},
     "execution_count": 394
    }
   ],
   "source": [
    "res.json()"
   ]
  },
  {
   "source": [
    "## Lambda Cards Sorter Master"
   ],
   "cell_type": "markdown",
   "metadata": {}
  },
  {
   "cell_type": "code",
   "execution_count": 39,
   "metadata": {},
   "outputs": [],
   "source": [
    "STAGE = 'dev'"
   ]
  },
  {
   "cell_type": "code",
   "execution_count": 40,
   "metadata": {},
   "outputs": [],
   "source": [
    "_, s3, boto_sess = aws_connect('s3', 'lw2134', session=True)\n",
    "lambda_client = boto_sess.client('lambda')"
   ]
  },
  {
   "cell_type": "code",
   "execution_count": 41,
   "metadata": {},
   "outputs": [],
   "source": [
    "all_cards = pred_df.columns"
   ]
  },
  {
   "cell_type": "code",
   "execution_count": 47,
   "metadata": {},
   "outputs": [
    {
     "output_type": "stream",
     "name": "stdout",
     "text": [
      "542\n"
     ]
    },
    {
     "output_type": "execute_result",
     "data": {
      "text/plain": [
       "[\"Archon_of_Sun's_Grace-AJMP\",\n",
       " 'Audacious_Thief-AJMP',\n",
       " 'Banishing_Light-AJMP',\n",
       " 'Bond_of_Revival-AJMP',\n",
       " 'Carnifex_Demon-AJMP',\n",
       " 'Doomed_Necromancer-AJMP',\n",
       " 'Dryad_Greenseeker-AJMP',\n",
       " 'Fanatic_of_Mogis-AJMP',\n",
       " 'Gadwick,_the_Wizened-AJMP',\n",
       " 'Goblin_Oriflamme-AJMP']"
      ]
     },
     "metadata": {},
     "execution_count": 47
    }
   ],
   "source": [
    "BATCHES_OF = 10\n",
    "batches = [list(all_cards[n:n+BATCHES_OF]) for n in range(1, len(all_cards), BATCHES_OF)]\n",
    "print(len(batches))\n",
    "batches[0]"
   ]
  },
  {
   "cell_type": "code",
   "execution_count": 49,
   "metadata": {},
   "outputs": [],
   "source": [
    "import json"
   ]
  },
  {
   "cell_type": "code",
   "execution_count": 54,
   "metadata": {},
   "outputs": [
    {
     "output_type": "execute_result",
     "data": {
      "text/plain": [
       "'[\"Archon_of_Sun\\'s_Grace-AJMP\", \"Audacious_Thief-AJMP\", \"Banishing_Light-AJMP\", \"Bond_of_Revival-AJMP\", \"Carnifex_Demon-AJMP\"]'"
      ]
     },
     "metadata": {},
     "execution_count": 54
    }
   ],
   "source": [
    "json.dumps(batches[0][0:5])"
   ]
  },
  {
   "cell_type": "code",
   "execution_count": 141,
   "metadata": {},
   "outputs": [],
   "source": [
    "for cards in batches:\n",
    "    payload = {'cards': cards}\n",
    "\n",
    "    res = lambda_client.invoke(\n",
    "        FunctionName='magicml-similarity-{}-stage_embed_worker'.format(STAGE),\n",
    "        InvocationType='Event',\n",
    "        Payload=json.dumps(payload)\n",
    "    )"
   ]
  },
  {
   "cell_type": "code",
   "execution_count": null,
   "metadata": {},
   "outputs": [],
   "source": []
  },
  {
   "cell_type": "code",
   "execution_count": null,
   "metadata": {},
   "outputs": [],
   "source": []
  },
  {
   "cell_type": "code",
   "execution_count": 142,
   "metadata": {},
   "outputs": [
    {
     "output_type": "stream",
     "name": "stdout",
     "text": [
      "(7639, 33)\n"
     ]
    }
   ],
   "source": [
    "a_card = pd.read_csv('sorted/Banishing_Light-AJMP.csv')\n",
    "print(a_card.shape)"
   ]
  },
  {
   "cell_type": "code",
   "execution_count": 149,
   "metadata": {},
   "outputs": [
    {
     "output_type": "execute_result",
     "data": {
      "text/plain": [
       "   Banishing_Light-AJMP     id  mtgArenaId  \\\n",
       "0              1.000000   4756     74986.0   \n",
       "1              1.000000  49136     70515.0   \n",
       "2              0.773027  28775     67708.0   \n",
       "\n",
       "                             scryfallId                name colorIdentity  \\\n",
       "0  ca112bae-6ac5-4cdf-9e8c-1b99f7396995     Banishing Light             W   \n",
       "1  a1ddd113-140f-49c9-b45c-cf1b0d1dffd8     Banishing Light             W   \n",
       "2  197743cd-249c-42ba-ac8d-027c088f8418  Hieromancer's Cage             W   \n",
       "\n",
       "  colors                     setName  convertedManaCost manaCost  ...  future  \\\n",
       "0      W  Jumpstart Arena Exclusives                3.0   {2}{W}  ...   Legal   \n",
       "1      W         Theros Beyond Death                3.0   {2}{W}  ...   Legal   \n",
       "2      W               Core Set 2019                4.0   {3}{W}  ...   Blank   \n",
       "\n",
       "  historic legacy modern oldschool pauper  penny pioneer standard vintage  \n",
       "0    Legal  Legal  Legal     Blank  Blank  Legal   Legal    Legal   Legal  \n",
       "1    Legal  Legal  Legal     Blank  Blank  Legal   Legal    Legal   Legal  \n",
       "2    Legal  Legal  Legal     Blank  Blank  Blank   Legal    Blank   Legal  \n",
       "\n",
       "[3 rows x 33 columns]"
      ],
      "text/html": "<div>\n<style scoped>\n    .dataframe tbody tr th:only-of-type {\n        vertical-align: middle;\n    }\n\n    .dataframe tbody tr th {\n        vertical-align: top;\n    }\n\n    .dataframe thead th {\n        text-align: right;\n    }\n</style>\n<table border=\"1\" class=\"dataframe\">\n  <thead>\n    <tr style=\"text-align: right;\">\n      <th></th>\n      <th>Banishing_Light-AJMP</th>\n      <th>id</th>\n      <th>mtgArenaId</th>\n      <th>scryfallId</th>\n      <th>name</th>\n      <th>colorIdentity</th>\n      <th>colors</th>\n      <th>setName</th>\n      <th>convertedManaCost</th>\n      <th>manaCost</th>\n      <th>...</th>\n      <th>future</th>\n      <th>historic</th>\n      <th>legacy</th>\n      <th>modern</th>\n      <th>oldschool</th>\n      <th>pauper</th>\n      <th>penny</th>\n      <th>pioneer</th>\n      <th>standard</th>\n      <th>vintage</th>\n    </tr>\n  </thead>\n  <tbody>\n    <tr>\n      <th>0</th>\n      <td>1.000000</td>\n      <td>4756</td>\n      <td>74986.0</td>\n      <td>ca112bae-6ac5-4cdf-9e8c-1b99f7396995</td>\n      <td>Banishing Light</td>\n      <td>W</td>\n      <td>W</td>\n      <td>Jumpstart Arena Exclusives</td>\n      <td>3.0</td>\n      <td>{2}{W}</td>\n      <td>...</td>\n      <td>Legal</td>\n      <td>Legal</td>\n      <td>Legal</td>\n      <td>Legal</td>\n      <td>Blank</td>\n      <td>Blank</td>\n      <td>Legal</td>\n      <td>Legal</td>\n      <td>Legal</td>\n      <td>Legal</td>\n    </tr>\n    <tr>\n      <th>1</th>\n      <td>1.000000</td>\n      <td>49136</td>\n      <td>70515.0</td>\n      <td>a1ddd113-140f-49c9-b45c-cf1b0d1dffd8</td>\n      <td>Banishing Light</td>\n      <td>W</td>\n      <td>W</td>\n      <td>Theros Beyond Death</td>\n      <td>3.0</td>\n      <td>{2}{W}</td>\n      <td>...</td>\n      <td>Legal</td>\n      <td>Legal</td>\n      <td>Legal</td>\n      <td>Legal</td>\n      <td>Blank</td>\n      <td>Blank</td>\n      <td>Legal</td>\n      <td>Legal</td>\n      <td>Legal</td>\n      <td>Legal</td>\n    </tr>\n    <tr>\n      <th>2</th>\n      <td>0.773027</td>\n      <td>28775</td>\n      <td>67708.0</td>\n      <td>197743cd-249c-42ba-ac8d-027c088f8418</td>\n      <td>Hieromancer's Cage</td>\n      <td>W</td>\n      <td>W</td>\n      <td>Core Set 2019</td>\n      <td>4.0</td>\n      <td>{3}{W}</td>\n      <td>...</td>\n      <td>Blank</td>\n      <td>Legal</td>\n      <td>Legal</td>\n      <td>Legal</td>\n      <td>Blank</td>\n      <td>Blank</td>\n      <td>Blank</td>\n      <td>Legal</td>\n      <td>Blank</td>\n      <td>Legal</td>\n    </tr>\n  </tbody>\n</table>\n<p>3 rows × 33 columns</p>\n</div>"
     },
     "metadata": {},
     "execution_count": 149
    }
   ],
   "source": [
    "a_card.head(3)"
   ]
  },
  {
   "cell_type": "code",
   "execution_count": null,
   "metadata": {},
   "outputs": [],
   "source": []
  }
 ]
}