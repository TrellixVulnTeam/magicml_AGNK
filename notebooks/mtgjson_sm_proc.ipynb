{
 "metadata": {
  "language_info": {
   "codemirror_mode": {
    "name": "ipython",
    "version": 3
   },
   "file_extension": ".py",
   "mimetype": "text/x-python",
   "name": "python",
   "nbconvert_exporter": "python",
   "pygments_lexer": "ipython3",
   "version": "3.7.9-final"
  },
  "orig_nbformat": 2,
  "kernelspec": {
   "name": "python3",
   "display_name": "Python 3.7.9 64-bit ('magicml': conda)",
   "metadata": {
    "interpreter": {
     "hash": "d21976708c890d4f5e403de40721946a087be811acbfab0d40a467fb62beb492"
    }
   }
  }
 },
 "nbformat": 4,
 "nbformat_minor": 2,
 "cells": [
  {
   "source": [
    "# TODO  \n",
    "## Card Similarity Search  \n",
    "### Data Prep (raw card data > clean card data) \n",
    "  - ~~merge card, set, and legality data~~  \n",
    "  - ~~concat token cards (later - may not want to)~~  \n",
    "  - ensure clean  \n",
    "    - fillna, non-english issues, maybe replace symbols ({T}...) w/ text  \n",
    "  - **AWS**  \n",
    "    - ~~Load raw MTGJson from S3~~  \n",
    "    - ~~Lambda (or Glue): Prep > to S3~~  \n",
    "### Similarity (clean card data > embeddings, similarity matrix)\n",
    "  - ~~USE embeddings from card text~~  \n",
    "  - ~~explore including other card props as text (color, type, mana cost...)~~  \n",
    "  - ~~similarity matrix~~  \n",
    "  - ~~pre-sort and save each card (50K+ cards)~~  \n",
    "  - STILL NEED TO ADD SCRYFALL IMAGE URLs TO DATA PREP PIPELINE\n",
    "  - **AWS**  \n",
    "    - ~~Load clean card data from S3~~  \n",
    "    - ~~SM Processing Job: USE embeddings & similarity matrix > to S3~~  \n",
    "    - ~~Lambda: embeddings/sim_matrix from S3 > EFS~~  \n",
    "    - ~~Lambda: sort each card by similarity EFS > EFS & DynamoDB~~\n",
    "### App Backend  \n",
    "  - API accepts card name and returns topK similar cards (w/ some metadata for filtering)  \n",
    "  - **AWS**  \n",
    "    - Lambda: API queries EFS or Dynamo  \n",
    "    - StepFunctions or Lambda destinations: refresh data pipeline as needed\n",
    "### App Frontend  \n",
    "  - Home page  \n",
    "    - Search box and results  \n",
    "    - A few filters (color, type, mana cost...)  \n",
    "    - add placement  \n",
    "    - sign in (eventually)  \n",
    "### Deploy  \n",
    "  - Backend\n",
    "    - Serverless  \n",
    "    - Seed  \n",
    "  - Frontend  \n",
    "    - React  \n",
    "    - Amplify"
   ],
   "cell_type": "markdown",
   "metadata": {}
  },
  {
   "source": [
    "# Data Prep"
   ],
   "cell_type": "markdown",
   "metadata": {}
  },
  {
   "cell_type": "code",
   "execution_count": 204,
   "metadata": {},
   "outputs": [],
   "source": [
    "import os\n",
    "import json\n",
    "import numpy as np\n",
    "import pandas as pd\n",
    "\n",
    "#import tensorflow as tf\n",
    "#import tensorflow_hub as hub\n",
    "#import matplotlib.pyplot as plt"
   ]
  },
  {
   "cell_type": "code",
   "execution_count": 216,
   "metadata": {},
   "outputs": [
    {
     "output_type": "stream",
     "name": "stdout",
     "text": [
      "(55943, 74)\n33.12 MB\n"
     ]
    },
    {
     "output_type": "execute_result",
     "data": {
      "text/plain": [
       "   id        artist asciiName availability borderColor  cardKingdomFoilId  \\\n",
       "0   1  Rebecca Guay       NaN   mtgo,paper       black           123335.0   \n",
       "\n",
       "   cardKingdomId colorIdentity colorIndicator colors  ...  subtypes  \\\n",
       "0       122967.0             G            NaN      G  ...       NaN   \n",
       "\n",
       "  supertypes  tcgplayerProductId  \\\n",
       "0        NaN             15023.0   \n",
       "\n",
       "                                                text toughness         type  \\\n",
       "0  If you would draw a card, you may instead choo...       NaN  Enchantment   \n",
       "\n",
       "         types                                  uuid variations  watermark  \n",
       "0  Enchantment  38513fa0-ea83-5642-8ecd-4f0b3daa6768        NaN        NaN  \n",
       "\n",
       "[1 rows x 74 columns]"
      ],
      "text/html": "<div>\n<style scoped>\n    .dataframe tbody tr th:only-of-type {\n        vertical-align: middle;\n    }\n\n    .dataframe tbody tr th {\n        vertical-align: top;\n    }\n\n    .dataframe thead th {\n        text-align: right;\n    }\n</style>\n<table border=\"1\" class=\"dataframe\">\n  <thead>\n    <tr style=\"text-align: right;\">\n      <th></th>\n      <th>id</th>\n      <th>artist</th>\n      <th>asciiName</th>\n      <th>availability</th>\n      <th>borderColor</th>\n      <th>cardKingdomFoilId</th>\n      <th>cardKingdomId</th>\n      <th>colorIdentity</th>\n      <th>colorIndicator</th>\n      <th>colors</th>\n      <th>...</th>\n      <th>subtypes</th>\n      <th>supertypes</th>\n      <th>tcgplayerProductId</th>\n      <th>text</th>\n      <th>toughness</th>\n      <th>type</th>\n      <th>types</th>\n      <th>uuid</th>\n      <th>variations</th>\n      <th>watermark</th>\n    </tr>\n  </thead>\n  <tbody>\n    <tr>\n      <th>0</th>\n      <td>1</td>\n      <td>Rebecca Guay</td>\n      <td>NaN</td>\n      <td>mtgo,paper</td>\n      <td>black</td>\n      <td>123335.0</td>\n      <td>122967.0</td>\n      <td>G</td>\n      <td>NaN</td>\n      <td>G</td>\n      <td>...</td>\n      <td>NaN</td>\n      <td>NaN</td>\n      <td>15023.0</td>\n      <td>If you would draw a card, you may instead choo...</td>\n      <td>NaN</td>\n      <td>Enchantment</td>\n      <td>Enchantment</td>\n      <td>38513fa0-ea83-5642-8ecd-4f0b3daa6768</td>\n      <td>NaN</td>\n      <td>NaN</td>\n    </tr>\n  </tbody>\n</table>\n<p>1 rows × 74 columns</p>\n</div>"
     },
     "metadata": {},
     "execution_count": 216
    }
   ],
   "source": [
    "cards_df = pd.read_csv('../data/mtgjson/cards.csv')\\\n",
    "    .drop(columns=['index'])\n",
    "\n",
    "print(cards_df.shape)\n",
    "print('{} MB'.format(round(cards_df.memory_usage().sum()/1000000, 2)))\n",
    "cards_df.head(1)"
   ]
  },
  {
   "cell_type": "code",
   "execution_count": 217,
   "metadata": {},
   "outputs": [
    {
     "output_type": "stream",
     "name": "stdout",
     "text": [
      "(545, 2)\n0.01 MB\n"
     ]
    },
    {
     "output_type": "execute_result",
     "data": {
      "text/plain": [
       "  setCode        setName\n",
       "0     10E  Tenth Edition"
      ],
      "text/html": "<div>\n<style scoped>\n    .dataframe tbody tr th:only-of-type {\n        vertical-align: middle;\n    }\n\n    .dataframe tbody tr th {\n        vertical-align: top;\n    }\n\n    .dataframe thead th {\n        text-align: right;\n    }\n</style>\n<table border=\"1\" class=\"dataframe\">\n  <thead>\n    <tr style=\"text-align: right;\">\n      <th></th>\n      <th>setCode</th>\n      <th>setName</th>\n    </tr>\n  </thead>\n  <tbody>\n    <tr>\n      <th>0</th>\n      <td>10E</td>\n      <td>Tenth Edition</td>\n    </tr>\n  </tbody>\n</table>\n</div>"
     },
     "metadata": {},
     "execution_count": 217
    }
   ],
   "source": [
    "sets_df = pd.read_csv('../data/mtgjson/sets.csv')[['code','name']]\\\n",
    "    .rename(columns={'name': 'setName', 'code':'setCode'})\n",
    "\n",
    "print(sets_df.shape)\n",
    "print('{} MB'.format(round(sets_df.memory_usage().sum()/1000000, 2)))\n",
    "sets_df.head(1)"
   ]
  },
  {
   "cell_type": "code",
   "execution_count": 218,
   "metadata": {},
   "outputs": [
    {
     "output_type": "stream",
     "name": "stdout",
     "text": [
      "(55943, 75)\n34.01 MB\n"
     ]
    },
    {
     "output_type": "execute_result",
     "data": {
      "text/plain": [
       "   id        artist asciiName availability borderColor  cardKingdomFoilId  \\\n",
       "0   1  Rebecca Guay       NaN   mtgo,paper       black           123335.0   \n",
       "\n",
       "   cardKingdomId colorIdentity colorIndicator colors  ...  supertypes  \\\n",
       "0       122967.0             G            NaN      G  ...         NaN   \n",
       "\n",
       "  tcgplayerProductId                                               text  \\\n",
       "0            15023.0  If you would draw a card, you may instead choo...   \n",
       "\n",
       "   toughness         type        types                                  uuid  \\\n",
       "0        NaN  Enchantment  Enchantment  38513fa0-ea83-5642-8ecd-4f0b3daa6768   \n",
       "\n",
       "  variations watermark        setName  \n",
       "0        NaN       NaN  Tenth Edition  \n",
       "\n",
       "[1 rows x 75 columns]"
      ],
      "text/html": "<div>\n<style scoped>\n    .dataframe tbody tr th:only-of-type {\n        vertical-align: middle;\n    }\n\n    .dataframe tbody tr th {\n        vertical-align: top;\n    }\n\n    .dataframe thead th {\n        text-align: right;\n    }\n</style>\n<table border=\"1\" class=\"dataframe\">\n  <thead>\n    <tr style=\"text-align: right;\">\n      <th></th>\n      <th>id</th>\n      <th>artist</th>\n      <th>asciiName</th>\n      <th>availability</th>\n      <th>borderColor</th>\n      <th>cardKingdomFoilId</th>\n      <th>cardKingdomId</th>\n      <th>colorIdentity</th>\n      <th>colorIndicator</th>\n      <th>colors</th>\n      <th>...</th>\n      <th>supertypes</th>\n      <th>tcgplayerProductId</th>\n      <th>text</th>\n      <th>toughness</th>\n      <th>type</th>\n      <th>types</th>\n      <th>uuid</th>\n      <th>variations</th>\n      <th>watermark</th>\n      <th>setName</th>\n    </tr>\n  </thead>\n  <tbody>\n    <tr>\n      <th>0</th>\n      <td>1</td>\n      <td>Rebecca Guay</td>\n      <td>NaN</td>\n      <td>mtgo,paper</td>\n      <td>black</td>\n      <td>123335.0</td>\n      <td>122967.0</td>\n      <td>G</td>\n      <td>NaN</td>\n      <td>G</td>\n      <td>...</td>\n      <td>NaN</td>\n      <td>15023.0</td>\n      <td>If you would draw a card, you may instead choo...</td>\n      <td>NaN</td>\n      <td>Enchantment</td>\n      <td>Enchantment</td>\n      <td>38513fa0-ea83-5642-8ecd-4f0b3daa6768</td>\n      <td>NaN</td>\n      <td>NaN</td>\n      <td>Tenth Edition</td>\n    </tr>\n  </tbody>\n</table>\n<p>1 rows × 75 columns</p>\n</div>"
     },
     "metadata": {},
     "execution_count": 218
    }
   ],
   "source": [
    "# Merge set names into cards\n",
    "cards_df = cards_df\\\n",
    "    .merge(sets_df, how='left', on='setCode')\n",
    "\n",
    "print(cards_df.shape)\n",
    "print('{} MB'.format(round(cards_df.memory_usage().sum()/1000000, 2)))\n",
    "cards_df.head(1)"
   ]
  },
  {
   "cell_type": "code",
   "execution_count": 219,
   "metadata": {},
   "outputs": [
    {
     "output_type": "stream",
     "name": "stdout",
     "text": [
      "(54718, 14)\n6.13 MB\n"
     ]
    },
    {
     "output_type": "execute_result",
     "data": {
      "text/plain": [
       "format                                  uuid  brawl commander   duel future  \\\n",
       "0       00010d56-fe38-5e35-8aed-518019aa36a5  Blank     Legal  Legal  Blank   \n",
       "\n",
       "format historic legacy modern oldschool pauper  penny pioneer standard vintage  \n",
       "0         Blank  Legal  Legal     Blank  Blank  Blank   Legal    Blank   Legal  "
      ],
      "text/html": "<div>\n<style scoped>\n    .dataframe tbody tr th:only-of-type {\n        vertical-align: middle;\n    }\n\n    .dataframe tbody tr th {\n        vertical-align: top;\n    }\n\n    .dataframe thead th {\n        text-align: right;\n    }\n</style>\n<table border=\"1\" class=\"dataframe\">\n  <thead>\n    <tr style=\"text-align: right;\">\n      <th>format</th>\n      <th>uuid</th>\n      <th>brawl</th>\n      <th>commander</th>\n      <th>duel</th>\n      <th>future</th>\n      <th>historic</th>\n      <th>legacy</th>\n      <th>modern</th>\n      <th>oldschool</th>\n      <th>pauper</th>\n      <th>penny</th>\n      <th>pioneer</th>\n      <th>standard</th>\n      <th>vintage</th>\n    </tr>\n  </thead>\n  <tbody>\n    <tr>\n      <th>0</th>\n      <td>00010d56-fe38-5e35-8aed-518019aa36a5</td>\n      <td>Blank</td>\n      <td>Legal</td>\n      <td>Legal</td>\n      <td>Blank</td>\n      <td>Blank</td>\n      <td>Legal</td>\n      <td>Legal</td>\n      <td>Blank</td>\n      <td>Blank</td>\n      <td>Blank</td>\n      <td>Legal</td>\n      <td>Blank</td>\n      <td>Legal</td>\n    </tr>\n  </tbody>\n</table>\n</div>"
     },
     "metadata": {},
     "execution_count": 219
    }
   ],
   "source": [
    "legs_df = pd.read_csv('../data/mtgjson/legalities.csv')\\\n",
    "    .pivot(index='uuid', columns='format', values='status')\\\n",
    "    .reset_index()\\\n",
    "    .fillna('Blank')\n",
    "\n",
    "print(legs_df.shape)\n",
    "print('{} MB'.format(round(legs_df.memory_usage().sum()/1000000, 2)))\n",
    "legs_df.head(1)"
   ]
  },
  {
   "cell_type": "code",
   "execution_count": 220,
   "metadata": {},
   "outputs": [
    {
     "output_type": "stream",
     "name": "stdout",
     "text": [
      "(55943, 88)\n39.83 MB\n"
     ]
    },
    {
     "output_type": "execute_result",
     "data": {
      "text/plain": [
       "   id        artist asciiName availability borderColor  cardKingdomFoilId  \\\n",
       "0   1  Rebecca Guay       NaN   mtgo,paper       black           123335.0   \n",
       "\n",
       "   cardKingdomId colorIdentity colorIndicator colors  ...  future historic  \\\n",
       "0       122967.0             G            NaN      G  ...   Blank    Blank   \n",
       "\n",
       "   legacy  modern oldschool pauper  penny pioneer standard  vintage  \n",
       "0   Legal   Legal     Blank  Blank  Legal   Blank    Blank    Legal  \n",
       "\n",
       "[1 rows x 88 columns]"
      ],
      "text/html": "<div>\n<style scoped>\n    .dataframe tbody tr th:only-of-type {\n        vertical-align: middle;\n    }\n\n    .dataframe tbody tr th {\n        vertical-align: top;\n    }\n\n    .dataframe thead th {\n        text-align: right;\n    }\n</style>\n<table border=\"1\" class=\"dataframe\">\n  <thead>\n    <tr style=\"text-align: right;\">\n      <th></th>\n      <th>id</th>\n      <th>artist</th>\n      <th>asciiName</th>\n      <th>availability</th>\n      <th>borderColor</th>\n      <th>cardKingdomFoilId</th>\n      <th>cardKingdomId</th>\n      <th>colorIdentity</th>\n      <th>colorIndicator</th>\n      <th>colors</th>\n      <th>...</th>\n      <th>future</th>\n      <th>historic</th>\n      <th>legacy</th>\n      <th>modern</th>\n      <th>oldschool</th>\n      <th>pauper</th>\n      <th>penny</th>\n      <th>pioneer</th>\n      <th>standard</th>\n      <th>vintage</th>\n    </tr>\n  </thead>\n  <tbody>\n    <tr>\n      <th>0</th>\n      <td>1</td>\n      <td>Rebecca Guay</td>\n      <td>NaN</td>\n      <td>mtgo,paper</td>\n      <td>black</td>\n      <td>123335.0</td>\n      <td>122967.0</td>\n      <td>G</td>\n      <td>NaN</td>\n      <td>G</td>\n      <td>...</td>\n      <td>Blank</td>\n      <td>Blank</td>\n      <td>Legal</td>\n      <td>Legal</td>\n      <td>Blank</td>\n      <td>Blank</td>\n      <td>Legal</td>\n      <td>Blank</td>\n      <td>Blank</td>\n      <td>Legal</td>\n    </tr>\n  </tbody>\n</table>\n<p>1 rows × 88 columns</p>\n</div>"
     },
     "metadata": {},
     "execution_count": 220
    }
   ],
   "source": [
    "# Merge legalities into cards\n",
    "cards_df = cards_df\\\n",
    "    .merge(legs_df, how='left', on='uuid')\n",
    "\n",
    "print(cards_df.shape)\n",
    "print('{} MB'.format(round(cards_df.memory_usage().sum()/1000000, 2)))\n",
    "cards_df.head(1)"
   ]
  },
  {
   "cell_type": "code",
   "execution_count": 221,
   "metadata": {},
   "outputs": [],
   "source": [
    "def get_image_uris(row):\n",
    "    try:\n",
    "        if pd.notna(row['image_uris']):\n",
    "            return row['image_uris']\n",
    "        else:\n",
    "            return [card['image_uris'] for card in row['card_faces']]\n",
    "    except:\n",
    "        return 'Blank'"
   ]
  },
  {
   "cell_type": "code",
   "execution_count": 222,
   "metadata": {},
   "outputs": [
    {
     "output_type": "stream",
     "name": "stdout",
     "text": [
      "(5360, 2)\n0.09 MB\n"
     ]
    },
    {
     "output_type": "execute_result",
     "data": {
      "text/plain": [
       "                             scryfallId  \\\n",
       "0  0000cd57-91fe-411f-b798-646e965eec37   \n",
       "1  0001f1ef-b957-4a55-b47f-14839cdbab6f   \n",
       "2  0002ab72-834b-4c81-82b1-0d2760ea96b0   \n",
       "\n",
       "                                          image_urls  \n",
       "0  {'small': 'https://c1.scryfall.com/file/scryfa...  \n",
       "1  {'small': 'https://c1.scryfall.com/file/scryfa...  \n",
       "2  {'small': 'https://c1.scryfall.com/file/scryfa...  "
      ],
      "text/html": "<div>\n<style scoped>\n    .dataframe tbody tr th:only-of-type {\n        vertical-align: middle;\n    }\n\n    .dataframe tbody tr th {\n        vertical-align: top;\n    }\n\n    .dataframe thead th {\n        text-align: right;\n    }\n</style>\n<table border=\"1\" class=\"dataframe\">\n  <thead>\n    <tr style=\"text-align: right;\">\n      <th></th>\n      <th>scryfallId</th>\n      <th>image_urls</th>\n    </tr>\n  </thead>\n  <tbody>\n    <tr>\n      <th>0</th>\n      <td>0000cd57-91fe-411f-b798-646e965eec37</td>\n      <td>{'small': 'https://c1.scryfall.com/file/scryfa...</td>\n    </tr>\n    <tr>\n      <th>1</th>\n      <td>0001f1ef-b957-4a55-b47f-14839cdbab6f</td>\n      <td>{'small': 'https://c1.scryfall.com/file/scryfa...</td>\n    </tr>\n    <tr>\n      <th>2</th>\n      <td>0002ab72-834b-4c81-82b1-0d2760ea96b0</td>\n      <td>{'small': 'https://c1.scryfall.com/file/scryfa...</td>\n    </tr>\n  </tbody>\n</table>\n</div>"
     },
     "metadata": {},
     "execution_count": 222
    }
   ],
   "source": [
    "# Scryfall image urls\n",
    "scryfall_df = pd.read_json('../data/scryfall/cards.json')\\\n",
    "    .query('arena_id.notnull()')\\\n",
    "    [['id','image_uris','card_faces']]\\\n",
    "    .reset_index(drop=True)\\\n",
    "    .assign(image_urls=lambda df: df.apply(get_image_uris, axis=1))\\\n",
    "    .drop(columns=['image_uris','card_faces'])\\\n",
    "    .rename(columns={'id': 'scryfallId'})\n",
    "\n",
    "print(scryfall_df.shape)\n",
    "print('{} MB'.format(round(scryfall_df.memory_usage().sum()/1000000, 2)))\n",
    "scryfall_df.head(3)"
   ]
  },
  {
   "cell_type": "code",
   "execution_count": 226,
   "metadata": {},
   "outputs": [
    {
     "output_type": "stream",
     "name": "stdout",
     "text": [
      "(55943, 89)\n40.28 MB\n"
     ]
    },
    {
     "output_type": "execute_result",
     "data": {
      "text/plain": [
       "   id        artist asciiName availability borderColor  cardKingdomFoilId  \\\n",
       "0   1  Rebecca Guay       NaN   mtgo,paper       black           123335.0   \n",
       "\n",
       "   cardKingdomId colorIdentity colorIndicator colors  ...  historic legacy  \\\n",
       "0       122967.0             G            NaN      G  ...     Blank  Legal   \n",
       "\n",
       "   modern  oldschool pauper  penny pioneer standard vintage  image_urls  \n",
       "0   Legal      Blank  Blank  Legal   Blank    Blank   Legal         NaN  \n",
       "\n",
       "[1 rows x 89 columns]"
      ],
      "text/html": "<div>\n<style scoped>\n    .dataframe tbody tr th:only-of-type {\n        vertical-align: middle;\n    }\n\n    .dataframe tbody tr th {\n        vertical-align: top;\n    }\n\n    .dataframe thead th {\n        text-align: right;\n    }\n</style>\n<table border=\"1\" class=\"dataframe\">\n  <thead>\n    <tr style=\"text-align: right;\">\n      <th></th>\n      <th>id</th>\n      <th>artist</th>\n      <th>asciiName</th>\n      <th>availability</th>\n      <th>borderColor</th>\n      <th>cardKingdomFoilId</th>\n      <th>cardKingdomId</th>\n      <th>colorIdentity</th>\n      <th>colorIndicator</th>\n      <th>colors</th>\n      <th>...</th>\n      <th>historic</th>\n      <th>legacy</th>\n      <th>modern</th>\n      <th>oldschool</th>\n      <th>pauper</th>\n      <th>penny</th>\n      <th>pioneer</th>\n      <th>standard</th>\n      <th>vintage</th>\n      <th>image_urls</th>\n    </tr>\n  </thead>\n  <tbody>\n    <tr>\n      <th>0</th>\n      <td>1</td>\n      <td>Rebecca Guay</td>\n      <td>NaN</td>\n      <td>mtgo,paper</td>\n      <td>black</td>\n      <td>123335.0</td>\n      <td>122967.0</td>\n      <td>G</td>\n      <td>NaN</td>\n      <td>G</td>\n      <td>...</td>\n      <td>Blank</td>\n      <td>Legal</td>\n      <td>Legal</td>\n      <td>Blank</td>\n      <td>Blank</td>\n      <td>Legal</td>\n      <td>Blank</td>\n      <td>Blank</td>\n      <td>Legal</td>\n      <td>NaN</td>\n    </tr>\n  </tbody>\n</table>\n<p>1 rows × 89 columns</p>\n</div>"
     },
     "metadata": {},
     "execution_count": 226
    }
   ],
   "source": [
    "cards_df = cards_df\\\n",
    "    .merge(scryfall_df, how='left', on='scryfallId')\n",
    "\n",
    "print(cards_df.shape)\n",
    "print('{} MB'.format(round(cards_df.memory_usage().sum()/1000000, 2)))\n",
    "cards_df.head(1)"
   ]
  },
  {
   "cell_type": "code",
   "execution_count": 230,
   "metadata": {},
   "outputs": [],
   "source": [
    "cards_df.to_csv('cards.csv', index=False)"
   ]
  },
  {
   "source": [
    "### Handle token cards later"
   ],
   "cell_type": "markdown",
   "metadata": {}
  },
  {
   "cell_type": "code",
   "execution_count": 53,
   "metadata": {},
   "outputs": [
    {
     "output_type": "stream",
     "name": "stdout",
     "text": [
      "(1704, 45)\n0.61 MB\n"
     ]
    },
    {
     "output_type": "execute_result",
     "data": {
      "text/plain": [
       "   index  id       artist asciiName availability borderColor colorIdentity  \\\n",
       "0      0   1  Jim Pavelec       NaN        paper       black             R   \n",
       "\n",
       "  colors  edhrecRank faceName  ... side subtypes  supertypes  \\\n",
       "0      R         NaN      NaN  ...  NaN   Dragon         NaN   \n",
       "\n",
       "   tcgplayerProductId    text  toughness                     type  \\\n",
       "0             78608.0  Flying          5  Token Creature — Dragon   \n",
       "\n",
       "            types                                  uuid watermark  \n",
       "0  Token,Creature  7decf258-eb10-50da-83f7-c7eba74adbfb       NaN  \n",
       "\n",
       "[1 rows x 45 columns]"
      ],
      "text/html": "<div>\n<style scoped>\n    .dataframe tbody tr th:only-of-type {\n        vertical-align: middle;\n    }\n\n    .dataframe tbody tr th {\n        vertical-align: top;\n    }\n\n    .dataframe thead th {\n        text-align: right;\n    }\n</style>\n<table border=\"1\" class=\"dataframe\">\n  <thead>\n    <tr style=\"text-align: right;\">\n      <th></th>\n      <th>index</th>\n      <th>id</th>\n      <th>artist</th>\n      <th>asciiName</th>\n      <th>availability</th>\n      <th>borderColor</th>\n      <th>colorIdentity</th>\n      <th>colors</th>\n      <th>edhrecRank</th>\n      <th>faceName</th>\n      <th>...</th>\n      <th>side</th>\n      <th>subtypes</th>\n      <th>supertypes</th>\n      <th>tcgplayerProductId</th>\n      <th>text</th>\n      <th>toughness</th>\n      <th>type</th>\n      <th>types</th>\n      <th>uuid</th>\n      <th>watermark</th>\n    </tr>\n  </thead>\n  <tbody>\n    <tr>\n      <th>0</th>\n      <td>0</td>\n      <td>1</td>\n      <td>Jim Pavelec</td>\n      <td>NaN</td>\n      <td>paper</td>\n      <td>black</td>\n      <td>R</td>\n      <td>R</td>\n      <td>NaN</td>\n      <td>NaN</td>\n      <td>...</td>\n      <td>NaN</td>\n      <td>Dragon</td>\n      <td>NaN</td>\n      <td>78608.0</td>\n      <td>Flying</td>\n      <td>5</td>\n      <td>Token Creature — Dragon</td>\n      <td>Token,Creature</td>\n      <td>7decf258-eb10-50da-83f7-c7eba74adbfb</td>\n      <td>NaN</td>\n    </tr>\n  </tbody>\n</table>\n<p>1 rows × 45 columns</p>\n</div>"
     },
     "metadata": {},
     "execution_count": 53
    }
   ],
   "source": [
    "tokens_df = pd.read_csv('../data/mtgjson/tokens.csv')\n",
    "\n",
    "print(tokens_df.shape)\n",
    "print('{} MB'.format(round(tokens_df.memory_usage().sum()/1000000, 2)))\n",
    "tokens_df.head(1)"
   ]
  },
  {
   "cell_type": "code",
   "execution_count": 3,
   "metadata": {},
   "outputs": [
    {
     "output_type": "stream",
     "name": "stdout",
     "text": [
      "(55943, 74)\n"
     ]
    },
    {
     "output_type": "execute_result",
     "data": {
      "text/plain": [
       "   id           artist asciiName availability borderColor  cardKingdomFoilId  \\\n",
       "0   1     Rebecca Guay       NaN   mtgo,paper       black           123335.0   \n",
       "1   2  Stephen Daniele       NaN   mtgo,paper       black           123149.0   \n",
       "\n",
       "   cardKingdomId colorIdentity colorIndicator colors  ...      subtypes  \\\n",
       "0       122967.0             G            NaN      G  ...           NaN   \n",
       "1       122781.0             U            NaN      U  ...  Human,Wizard   \n",
       "\n",
       "  supertypes  tcgplayerProductId  \\\n",
       "0        NaN             15023.0   \n",
       "1        NaN             15024.0   \n",
       "\n",
       "                                                text toughness  \\\n",
       "0  If you would draw a card, you may instead choo...       NaN   \n",
       "1  When Academy Researchers enters the battlefiel...         2   \n",
       "\n",
       "                      type        types                                  uuid  \\\n",
       "0              Enchantment  Enchantment  38513fa0-ea83-5642-8ecd-4f0b3daa6768   \n",
       "1  Creature — Human Wizard     Creature  b8a68840-4044-52c0-a14e-0a1c630ba42c   \n",
       "\n",
       "  variations  watermark  \n",
       "0        NaN        NaN  \n",
       "1        NaN        NaN  \n",
       "\n",
       "[2 rows x 74 columns]"
      ],
      "text/html": "<div>\n<style scoped>\n    .dataframe tbody tr th:only-of-type {\n        vertical-align: middle;\n    }\n\n    .dataframe tbody tr th {\n        vertical-align: top;\n    }\n\n    .dataframe thead th {\n        text-align: right;\n    }\n</style>\n<table border=\"1\" class=\"dataframe\">\n  <thead>\n    <tr style=\"text-align: right;\">\n      <th></th>\n      <th>id</th>\n      <th>artist</th>\n      <th>asciiName</th>\n      <th>availability</th>\n      <th>borderColor</th>\n      <th>cardKingdomFoilId</th>\n      <th>cardKingdomId</th>\n      <th>colorIdentity</th>\n      <th>colorIndicator</th>\n      <th>colors</th>\n      <th>...</th>\n      <th>subtypes</th>\n      <th>supertypes</th>\n      <th>tcgplayerProductId</th>\n      <th>text</th>\n      <th>toughness</th>\n      <th>type</th>\n      <th>types</th>\n      <th>uuid</th>\n      <th>variations</th>\n      <th>watermark</th>\n    </tr>\n  </thead>\n  <tbody>\n    <tr>\n      <th>0</th>\n      <td>1</td>\n      <td>Rebecca Guay</td>\n      <td>NaN</td>\n      <td>mtgo,paper</td>\n      <td>black</td>\n      <td>123335.0</td>\n      <td>122967.0</td>\n      <td>G</td>\n      <td>NaN</td>\n      <td>G</td>\n      <td>...</td>\n      <td>NaN</td>\n      <td>NaN</td>\n      <td>15023.0</td>\n      <td>If you would draw a card, you may instead choo...</td>\n      <td>NaN</td>\n      <td>Enchantment</td>\n      <td>Enchantment</td>\n      <td>38513fa0-ea83-5642-8ecd-4f0b3daa6768</td>\n      <td>NaN</td>\n      <td>NaN</td>\n    </tr>\n    <tr>\n      <th>1</th>\n      <td>2</td>\n      <td>Stephen Daniele</td>\n      <td>NaN</td>\n      <td>mtgo,paper</td>\n      <td>black</td>\n      <td>123149.0</td>\n      <td>122781.0</td>\n      <td>U</td>\n      <td>NaN</td>\n      <td>U</td>\n      <td>...</td>\n      <td>Human,Wizard</td>\n      <td>NaN</td>\n      <td>15024.0</td>\n      <td>When Academy Researchers enters the battlefiel...</td>\n      <td>2</td>\n      <td>Creature — Human Wizard</td>\n      <td>Creature</td>\n      <td>b8a68840-4044-52c0-a14e-0a1c630ba42c</td>\n      <td>NaN</td>\n      <td>NaN</td>\n    </tr>\n  </tbody>\n</table>\n<p>2 rows × 74 columns</p>\n</div>"
     },
     "metadata": {},
     "execution_count": 3
    }
   ],
   "source": [
    "print(cards_df.shape)\n",
    "cards_df.head(2)"
   ]
  },
  {
   "cell_type": "code",
   "execution_count": 55,
   "metadata": {},
   "outputs": [
    {
     "output_type": "execute_result",
     "data": {
      "text/plain": [
       "Index(['id', 'artist', 'asciiName', 'availability', 'borderColor',\n",
       "       'cardKingdomFoilId', 'cardKingdomId', 'colorIdentity', 'colorIndicator',\n",
       "       'colors', 'convertedManaCost', 'duelDeck', 'edhrecRank',\n",
       "       'faceConvertedManaCost', 'faceName', 'flavorName', 'flavorText',\n",
       "       'frameEffects', 'frameVersion', 'hand', 'hasAlternativeDeckLimit',\n",
       "       'hasContentWarning', 'hasFoil', 'hasNonFoil', 'isAlternative',\n",
       "       'isFullArt', 'isOnlineOnly', 'isOversized', 'isPromo', 'isReprint',\n",
       "       'isReserved', 'isStarter', 'isStorySpotlight', 'isTextless',\n",
       "       'isTimeshifted', 'keywords', 'layout', 'leadershipSkills', 'life',\n",
       "       'loyalty', 'manaCost', 'mcmId', 'mcmMetaId', 'mtgArenaId',\n",
       "       'mtgjsonV4Id', 'mtgoFoilId', 'mtgoId', 'multiverseId', 'name', 'number',\n",
       "       'originalReleaseDate', 'originalText', 'originalType', 'otherFaceIds',\n",
       "       'power', 'printings', 'promoTypes', 'purchaseUrls', 'rarity',\n",
       "       'scryfallId', 'scryfallIllustrationId', 'scryfallOracleId', 'setCode',\n",
       "       'side', 'subtypes', 'supertypes', 'tcgplayerProductId', 'text',\n",
       "       'toughness', 'type', 'types', 'uuid', 'variations', 'watermark',\n",
       "       'setName', 'brawl', 'commander', 'duel', 'future', 'historic', 'legacy',\n",
       "       'modern', 'oldschool', 'pauper', 'penny', 'pioneer', 'standard',\n",
       "       'vintage'],\n",
       "      dtype='object')"
      ]
     },
     "metadata": {},
     "execution_count": 55
    }
   ],
   "source": [
    "cards_df.columns"
   ]
  },
  {
   "cell_type": "code",
   "execution_count": 7,
   "metadata": {},
   "outputs": [
    {
     "output_type": "execute_result",
     "data": {
      "text/plain": [
       "1971"
      ]
     },
     "metadata": {},
     "execution_count": 7
    }
   ],
   "source": [
    "cards_df.type.nunique()"
   ]
  },
  {
   "cell_type": "code",
   "execution_count": 8,
   "metadata": {},
   "outputs": [
    {
     "output_type": "execute_result",
     "data": {
      "text/plain": [
       "531"
      ]
     },
     "metadata": {},
     "execution_count": 8
    }
   ],
   "source": [
    "cards_df.setCode.nunique()"
   ]
  },
  {
   "cell_type": "code",
   "execution_count": 9,
   "metadata": {},
   "outputs": [
    {
     "output_type": "execute_result",
     "data": {
      "text/plain": [
       "33.118384"
      ]
     },
     "metadata": {},
     "execution_count": 9
    }
   ],
   "source": [
    "cards_df.memory_usage().sum()/1000000"
   ]
  },
  {
   "cell_type": "code",
   "execution_count": 56,
   "metadata": {},
   "outputs": [
    {
     "output_type": "stream",
     "name": "stdout",
     "text": [
      "id: 1\n\nartist: Rebecca Guay\n\nasciiName: nan\n\navailability: mtgo,paper\n\nborderColor: black\n\ncardKingdomFoilId: 123335.0\n\ncardKingdomId: 122967.0\n\ncolorIdentity: G\n\ncolorIndicator: nan\n\ncolors: G\n\nconvertedManaCost: 4.0\n\nduelDeck: nan\n\nedhrecRank: 1111.0\n\nfaceConvertedManaCost: nan\n\nfaceName: nan\n\nflavorName: nan\n\nflavorText: nan\n\nframeEffects: nan\n\nframeVersion: 2003\n\nhand: nan\n\nhasAlternativeDeckLimit: 0\n\nhasContentWarning: 0\n\nhasFoil: 1\n\nhasNonFoil: 1\n\nisAlternative: 0\n\nisFullArt: 0\n\nisOnlineOnly: 0\n\nisOversized: 0\n\nisPromo: 0\n\nisReprint: 1\n\nisReserved: 0\n\nisStarter: 0\n\nisStorySpotlight: 0\n\nisTextless: 0\n\nisTimeshifted: 0\n\nkeywords: nan\n\nlayout: normal\n\nleadershipSkills: nan\n\nlife: nan\n\nloyalty: nan\n\nmanaCost: {2}{G}{G}\n\nmcmId: 16413.0\n\nmcmMetaId: 19.0\n\nmtgArenaId: nan\n\nmtgjsonV4Id: 1669af17-d287-5094-b005-4b143441442f\n\nmtgoFoilId: 27283.0\n\nmtgoId: 27282.0\n\nmultiverseId: 130483.0\n\nname: Abundance\n\nnumber: 249\n\noriginalReleaseDate: nan\n\noriginalText: If you would draw a card, you may instead choose land or nonland and reveal cards from the top of your library until you reveal a card of the chosen kind. Put that card into your hand and put all other cards revealed this way on the bottom of your library in any order.\n\noriginalType: Enchantment\n\notherFaceIds: nan\n\npower: nan\n\nprintings: 10E,C17,DDR,USG,ZNC\n\npromoTypes: nan\n\npurchaseUrls: {'cardKingdom': 'https://mtgjson.com/links/be6bfd8d4a84e5ec', 'cardKingdomFoil': 'https://mtgjson.com/links/4015cfd69a1e9820', 'cardmarket': 'https://mtgjson.com/links/39cb422913cf114f', 'tcgplayer': 'https://mtgjson.com/links/6e092a03d6bbffec'}\n\nrarity: rare\n\nscryfallId: 46184f97-d5c9-4a98-9fd9-e19057ce9b7e\n\nscryfallIllustrationId: 4be12219-df08-4a40-b32f-69737db62615\n\nscryfallOracleId: eccc9a54-2b56-4a02-9926-258d5b2e25fb\n\nsetCode: 10E\n\nside: nan\n\nsubtypes: nan\n\nsupertypes: nan\n\ntcgplayerProductId: 15023.0\n\ntext: If you would draw a card, you may instead choose land or nonland and reveal cards from the top of your library until you reveal a card of the chosen kind. Put that card into your hand and put all other cards revealed this way on the bottom of your library in any order.\n\ntoughness: nan\n\ntype: Enchantment\n\ntypes: Enchantment\n\nuuid: 38513fa0-ea83-5642-8ecd-4f0b3daa6768\n\nvariations: nan\n\nwatermark: nan\n\nsetName: Tenth Edition\n\nbrawl: Blank\n\ncommander: Legal\n\nduel: Legal\n\nfuture: Blank\n\nhistoric: Blank\n\nlegacy: Legal\n\nmodern: Legal\n\noldschool: Blank\n\npauper: Blank\n\npenny: Legal\n\npioneer: Blank\n\nstandard: Blank\n\nvintage: Legal\n\n"
     ]
    }
   ],
   "source": [
    "for col in cards_df.columns:\n",
    "    print(col + ': ' + str(cards_df[col][0]) + '\\n')"
   ]
  },
  {
   "source": [
    "# Download and Store USE Model from TFHub"
   ],
   "cell_type": "markdown",
   "metadata": {}
  },
  {
   "cell_type": "code",
   "execution_count": 5,
   "metadata": {},
   "outputs": [
    {
     "output_type": "stream",
     "name": "stdout",
     "text": [
      "module https://tfhub.dev/google/universal-sentence-encoder-large/5 loaded\n"
     ]
    }
   ],
   "source": [
    "module_url = 'https://tfhub.dev/google/universal-sentence-encoder-large/5'\n",
    "model = hub.load(module_url)\n",
    "print (\"module %s loaded\" % module_url)"
   ]
  },
  {
   "source": [
    "## Saved the downloaded USE-Large model"
   ],
   "cell_type": "markdown",
   "metadata": {}
  },
  {
   "cell_type": "code",
   "execution_count": 2,
   "metadata": {},
   "outputs": [
    {
     "output_type": "error",
     "ename": "NameError",
     "evalue": "name 'model' is not defined",
     "traceback": [
      "\u001b[1;31m---------------------------------------------------------------------------\u001b[0m",
      "\u001b[1;31mNameError\u001b[0m                                 Traceback (most recent call last)",
      "\u001b[1;32m<ipython-input-2-a12f0001efb1>\u001b[0m in \u001b[0;36m<module>\u001b[1;34m\u001b[0m\n\u001b[1;32m----> 1\u001b[1;33m \u001b[0mtf\u001b[0m\u001b[1;33m.\u001b[0m\u001b[0msaved_model\u001b[0m\u001b[1;33m.\u001b[0m\u001b[0msave\u001b[0m\u001b[1;33m(\u001b[0m\u001b[0mmodel\u001b[0m\u001b[1;33m,\u001b[0m \u001b[1;34m\"../models/use-large\"\u001b[0m\u001b[1;33m)\u001b[0m\u001b[1;33m\u001b[0m\u001b[1;33m\u001b[0m\u001b[0m\n\u001b[0m",
      "\u001b[1;31mNameError\u001b[0m: name 'model' is not defined"
     ]
    }
   ],
   "source": [
    "tf.saved_model.save(model, \"../models/use-large\")"
   ]
  },
  {
   "source": [
    "## Load USE-Large from local disk"
   ],
   "cell_type": "markdown",
   "metadata": {}
  },
  {
   "cell_type": "code",
   "execution_count": 30,
   "metadata": {},
   "outputs": [],
   "source": [
    "import tensorflow as tf"
   ]
  },
  {
   "cell_type": "code",
   "execution_count": 31,
   "metadata": {},
   "outputs": [],
   "source": [
    "use_embed = tf.saved_model.load('../models/use-large/1')"
   ]
  },
  {
   "cell_type": "code",
   "execution_count": 27,
   "metadata": {},
   "outputs": [],
   "source": [
    "for local_path in model_files:\n",
    "    s3_key = '/'.join(str(local_path).split('\\\\')[2:])\n",
    "    if '.' in s3_key:\n",
    "        s3.upload_file(str(local_path), 'magicml-models.dev', s3_key)"
   ]
  },
  {
   "source": [
    "***\n",
    "# Get USE Embeddings"
   ],
   "cell_type": "markdown",
   "metadata": {}
  },
  {
   "cell_type": "code",
   "execution_count": 70,
   "metadata": {},
   "outputs": [
    {
     "output_type": "stream",
     "name": "stdout",
     "text": [
      "(5, 5)\n"
     ]
    }
   ],
   "source": [
    "corr = np.inner(embeddings, embeddings)\n",
    "print(corr.shape)"
   ]
  },
  {
   "cell_type": "code",
   "execution_count": 72,
   "metadata": {},
   "outputs": [],
   "source": [
    "import plotly.express as px"
   ]
  },
  {
   "cell_type": "code",
   "execution_count": 73,
   "metadata": {},
   "outputs": [
    {
     "output_type": "error",
     "ename": "NameError",
     "evalue": "name 'arena_name' is not defined",
     "traceback": [
      "\u001b[1;31m---------------------------------------------------------------------------\u001b[0m",
      "\u001b[1;31mNameError\u001b[0m                                 Traceback (most recent call last)",
      "\u001b[1;32m<ipython-input-73-fab3a43054c8>\u001b[0m in \u001b[0;36m<module>\u001b[1;34m\u001b[0m\n\u001b[1;32m----> 1\u001b[1;33m \u001b[0mcard_df\u001b[0m \u001b[1;33m=\u001b[0m \u001b[0mpd\u001b[0m\u001b[1;33m.\u001b[0m\u001b[0mDataFrame\u001b[0m\u001b[1;33m(\u001b[0m\u001b[0mcorr\u001b[0m\u001b[1;33m,\u001b[0m \u001b[0mcolumns\u001b[0m\u001b[1;33m=\u001b[0m\u001b[0marena_name\u001b[0m\u001b[1;33m,\u001b[0m \u001b[0mindex\u001b[0m\u001b[1;33m=\u001b[0m\u001b[0marena_name\u001b[0m\u001b[1;33m)\u001b[0m\u001b[1;33m\u001b[0m\u001b[1;33m\u001b[0m\u001b[0m\n\u001b[0m\u001b[0;32m      2\u001b[0m \u001b[0mcard_df\u001b[0m\u001b[1;33m.\u001b[0m\u001b[0mhead\u001b[0m\u001b[1;33m(\u001b[0m\u001b[1;33m)\u001b[0m\u001b[1;33m\u001b[0m\u001b[1;33m\u001b[0m\u001b[0m\n",
      "\u001b[1;31mNameError\u001b[0m: name 'arena_name' is not defined"
     ]
    }
   ],
   "source": [
    "card_df = pd.DataFrame(corr, columns=arena_name, index=arena_name)\n",
    "card_df.head()"
   ]
  },
  {
   "cell_type": "code",
   "execution_count": 107,
   "metadata": {},
   "outputs": [
    {
     "output_type": "execute_result",
     "data": {
      "text/plain": [
       "'Golos,_Tireless_Pilgrim'"
      ]
     },
     "metadata": {},
     "execution_count": 107
    }
   ],
   "source": [
    "test_card = 'Golos,_Tireless_Pilgrim'\n",
    "test_card"
   ]
  },
  {
   "cell_type": "code",
   "execution_count": 106,
   "metadata": {},
   "outputs": [
    {
     "output_type": "execute_result",
     "data": {
      "text/plain": [
       "['Golos,_Tireless_Pilgrim']"
      ]
     },
     "metadata": {},
     "execution_count": 106
    }
   ],
   "source": [
    "[card for card in card_df.columns if card.startswith('Golos')]"
   ]
  },
  {
   "cell_type": "code",
   "execution_count": 108,
   "metadata": {},
   "outputs": [
    {
     "output_type": "execute_result",
     "data": {
      "text/plain": [
       "      Golos,_Tireless_Pilgrim\n",
       "3059                 1.000000\n",
       "1687                 0.805584\n",
       "1583                 0.801413\n",
       "2606                 0.798853\n",
       "835                  0.796900\n",
       "...                       ...\n",
       "5170                -0.020036\n",
       "3215                -0.020036\n",
       "5212                -0.041830\n",
       "4441                -0.041830\n",
       "5055                -0.041830\n",
       "\n",
       "[5419 rows x 1 columns]"
      ],
      "text/html": "<div>\n<style scoped>\n    .dataframe tbody tr th:only-of-type {\n        vertical-align: middle;\n    }\n\n    .dataframe tbody tr th {\n        vertical-align: top;\n    }\n\n    .dataframe thead th {\n        text-align: right;\n    }\n</style>\n<table border=\"1\" class=\"dataframe\">\n  <thead>\n    <tr style=\"text-align: right;\">\n      <th></th>\n      <th>Golos,_Tireless_Pilgrim</th>\n    </tr>\n  </thead>\n  <tbody>\n    <tr>\n      <th>3059</th>\n      <td>1.000000</td>\n    </tr>\n    <tr>\n      <th>1687</th>\n      <td>0.805584</td>\n    </tr>\n    <tr>\n      <th>1583</th>\n      <td>0.801413</td>\n    </tr>\n    <tr>\n      <th>2606</th>\n      <td>0.798853</td>\n    </tr>\n    <tr>\n      <th>835</th>\n      <td>0.796900</td>\n    </tr>\n    <tr>\n      <th>...</th>\n      <td>...</td>\n    </tr>\n    <tr>\n      <th>5170</th>\n      <td>-0.020036</td>\n    </tr>\n    <tr>\n      <th>3215</th>\n      <td>-0.020036</td>\n    </tr>\n    <tr>\n      <th>5212</th>\n      <td>-0.041830</td>\n    </tr>\n    <tr>\n      <th>4441</th>\n      <td>-0.041830</td>\n    </tr>\n    <tr>\n      <th>5055</th>\n      <td>-0.041830</td>\n    </tr>\n  </tbody>\n</table>\n<p>5419 rows × 1 columns</p>\n</div>"
     },
     "metadata": {},
     "execution_count": 108
    }
   ],
   "source": [
    "card_df[[test_card]].sort_values(by=test_card, ascending=False)"
   ]
  },
  {
   "cell_type": "code",
   "execution_count": 109,
   "metadata": {},
   "outputs": [
    {
     "output_type": "execute_result",
     "data": {
      "text/plain": [
       "array(['When Golos, Tireless Pilgrim enters the battlefield, you may search your library for a land card, put that card onto the battlefield tapped, then shuffle your library.\\n{2}{W}{U}{B}{R}{G}: Exile the top three cards of your library. You may play them this turn without paying their mana costs.'],\n",
       "      dtype=object)"
      ]
     },
     "metadata": {},
     "execution_count": 109
    }
   ],
   "source": [
    "test_card = test_card.replace('_',' ')\n",
    "arena_df.query('name == @test_card').text.values"
   ]
  },
  {
   "cell_type": "code",
   "execution_count": 112,
   "metadata": {},
   "outputs": [
    {
     "output_type": "execute_result",
     "data": {
      "text/plain": [
       "'Emergent Ultimatum'"
      ]
     },
     "metadata": {},
     "execution_count": 112
    }
   ],
   "source": [
    "test_name = arena_name[1583].replace('_',' ')\n",
    "test_name"
   ]
  },
  {
   "cell_type": "code",
   "execution_count": 113,
   "metadata": {},
   "outputs": [
    {
     "output_type": "execute_result",
     "data": {
      "text/plain": [
       "array(['Search your library for up to three monocolored cards with different names and exile them. An opponent chooses one of those cards. Shuffle that card into your library. You may cast the other cards without paying their mana costs. Exile Emergent Ultimatum.'],\n",
       "      dtype=object)"
      ]
     },
     "metadata": {},
     "execution_count": 113
    }
   ],
   "source": [
    "arena_df.query('name == @test_name').text.values"
   ]
  },
  {
   "cell_type": "code",
   "execution_count": null,
   "metadata": {},
   "outputs": [],
   "source": []
  },
  {
   "cell_type": "code",
   "execution_count": null,
   "metadata": {},
   "outputs": [],
   "source": []
  },
  {
   "cell_type": "code",
   "execution_count": null,
   "metadata": {},
   "outputs": [],
   "source": []
  },
  {
   "source": [
    "# Sagemaker Processing Workflow"
   ],
   "cell_type": "markdown",
   "metadata": {}
  },
  {
   "cell_type": "code",
   "execution_count": 353,
   "metadata": {},
   "outputs": [],
   "source": [
    "import os\n",
    "import pathlib\n",
    "import boto3\n",
    "from boto3.session import Session\n",
    "\n",
    "def aws_connect(service, profile='default', session=False):\n",
    "    # Connect to AWS with IAM Role\n",
    "    sess = Session(profile_name=profile)\n",
    "\n",
    "    try:\n",
    "        resource = sess.resource(service)\n",
    "        client = resource.meta.client\n",
    "\n",
    "        if session:\n",
    "            return resource, client, sess\n",
    "        else:\n",
    "            return resource, client\n",
    "    except:\n",
    "        client = sess.client(service)\n",
    "\n",
    "        if session:\n",
    "            return client, sess\n",
    "        else:\n",
    "            return client"
   ]
  },
  {
   "cell_type": "code",
   "execution_count": 354,
   "metadata": {},
   "outputs": [],
   "source": [
    "_, s3, boto_sess = aws_connect('s3', 'lw2134', session=True)"
   ]
  },
  {
   "cell_type": "code",
   "execution_count": null,
   "metadata": {},
   "outputs": [],
   "source": [
    "# Tar the model.tar.gz package\n",
    "# from models/use-large directory\n",
    "'tar -czvf model.tar.gz 1'"
   ]
  },
  {
   "cell_type": "code",
   "execution_count": 40,
   "metadata": {},
   "outputs": [],
   "source": [
    "## SM Processing Job"
   ]
  },
  {
   "cell_type": "code",
   "execution_count": 33,
   "metadata": {},
   "outputs": [],
   "source": [
    "import os\n",
    "import boto3\n",
    "#import sagemaker\n",
    "#from sagemaker.processing import ScriptProcessor, ProcessingInput, ProcessingOutput"
   ]
  },
  {
   "cell_type": "code",
   "execution_count": 352,
   "metadata": {},
   "outputs": [
    {
     "output_type": "error",
     "ename": "NameError",
     "evalue": "name 'aws_connect' is not defined",
     "traceback": [
      "\u001b[1;31m---------------------------------------------------------------------------\u001b[0m",
      "\u001b[1;31mNameError\u001b[0m                                 Traceback (most recent call last)",
      "\u001b[1;32m<ipython-input-352-6b4663c1af48>\u001b[0m in \u001b[0;36m<module>\u001b[1;34m\u001b[0m\n\u001b[1;32m----> 1\u001b[1;33m \u001b[0m_\u001b[0m\u001b[1;33m,\u001b[0m \u001b[0ms3\u001b[0m\u001b[1;33m,\u001b[0m \u001b[0mboto_sess\u001b[0m \u001b[1;33m=\u001b[0m \u001b[0maws_connect\u001b[0m\u001b[1;33m(\u001b[0m\u001b[1;34m's3'\u001b[0m\u001b[1;33m,\u001b[0m \u001b[1;34m'lw2134'\u001b[0m\u001b[1;33m,\u001b[0m \u001b[0msession\u001b[0m\u001b[1;33m=\u001b[0m\u001b[1;32mTrue\u001b[0m\u001b[1;33m)\u001b[0m\u001b[1;33m\u001b[0m\u001b[1;33m\u001b[0m\u001b[0m\n\u001b[0m\u001b[0;32m      2\u001b[0m \u001b[0msm_client\u001b[0m \u001b[1;33m=\u001b[0m \u001b[0mboto_sess\u001b[0m\u001b[1;33m.\u001b[0m\u001b[0mclient\u001b[0m\u001b[1;33m(\u001b[0m\u001b[1;34m'sagemaker'\u001b[0m\u001b[1;33m)\u001b[0m\u001b[1;33m\u001b[0m\u001b[1;33m\u001b[0m\u001b[0m\n",
      "\u001b[1;31mNameError\u001b[0m: name 'aws_connect' is not defined"
     ]
    }
   ],
   "source": [
    "_, s3, boto_sess = aws_connect('s3', 'lw2134', session=True)\n",
    "sm_client = boto_sess.client('sagemaker')"
   ]
  },
  {
   "cell_type": "code",
   "execution_count": 21,
   "metadata": {},
   "outputs": [],
   "source": [
    "#sagemaker_session = sagemaker.Session(boto_session=boto_sess)\n",
    "role = 'arn:aws:iam::553371509391:role/magicml-sagemaker'\n",
    "image_uri = '763104351884.dkr.ecr.us-east-1.amazonaws.com/tensorflow-training:2.3.1-cpu-py37-ubuntu18.04'\n",
    "\n",
    "model_bucket = 'magicml-models.dev'\n",
    "model_prefix = 'use-large'\n",
    "model_data = 's3://{}/{}/model.tar.gz'.format(model_bucket, model_prefix)\n",
    "\n",
    "input_bucket = 'magicml-clean-data.dev'\n",
    "input_prefix = 'cards'\n",
    "input_data = 's3://{}/{}/cards.csv'.format(input_bucket, input_prefix)\n",
    "\n",
    "src_bucket = 'magicml-src.dev'\n",
    "src_prefix = 'sm_processing'\n",
    "src_code = 's3://{}/{}/process_embeddings.py'.format(src_bucket, src_prefix)\n",
    "\n",
    "output_bucket = 'magicml-inference.dev'\n",
    "output_prefix = 'use-large'\n",
    "output_data = 's3://{}/{}'.format(output_bucket, output_prefix)"
   ]
  },
  {
   "cell_type": "code",
   "execution_count": 18,
   "metadata": {},
   "outputs": [],
   "source": [
    "s3.upload_file('../services/similarity/src/process_embeddings.py', 'magicml-src.dev', 'sm_processing/process_embeddings.py')"
   ]
  },
  {
   "cell_type": "code",
   "execution_count": 24,
   "metadata": {},
   "outputs": [],
   "source": [
    "import datetime"
   ]
  },
  {
   "cell_type": "code",
   "execution_count": 30,
   "metadata": {},
   "outputs": [
    {
     "output_type": "execute_result",
     "data": {
      "text/plain": [
       "'2020-25-12-01-48-25'"
      ]
     },
     "metadata": {},
     "execution_count": 30
    }
   ],
   "source": [
    "now = datetime.datetime.now().strftime(format='%Y-%d-%m-%H-%M-%S')\n",
    "now"
   ]
  },
  {
   "cell_type": "code",
   "execution_count": 31,
   "metadata": {},
   "outputs": [
    {
     "output_type": "execute_result",
     "data": {
      "text/plain": [
       "{'ProcessingJobArn': 'arn:aws:sagemaker:us-east-1:553371509391:processing-job/use-large-embeddings-2020-25-12-01-48-25',\n",
       " 'ResponseMetadata': {'RequestId': 'd6479411-03f0-4e78-b0ff-b5575e855867',\n",
       "  'HTTPStatusCode': 200,\n",
       "  'HTTPHeaders': {'x-amzn-requestid': 'd6479411-03f0-4e78-b0ff-b5575e855867',\n",
       "   'content-type': 'application/x-amz-json-1.1',\n",
       "   'content-length': '119',\n",
       "   'date': 'Fri, 25 Dec 2020 06:48:13 GMT'},\n",
       "  'RetryAttempts': 0}}"
      ]
     },
     "metadata": {},
     "execution_count": 31
    }
   ],
   "source": [
    "sm_client.create_processing_job(\n",
    "    ProcessingJobName='use-large-embeddings-{}'.format(now),\n",
    "    RoleArn=role,\n",
    "    StoppingCondition={\n",
    "        'MaxRuntimeInSeconds': 7200\n",
    "    },\n",
    "    AppSpecification={\n",
    "        'ImageUri': image_uri,\n",
    "        'ContainerEntrypoint': [\n",
    "            'python3',\n",
    "            '-v',\n",
    "            '/opt/ml/processing/input/code/process_embeddings.py'\n",
    "        ]\n",
    "    },\n",
    "    ProcessingResources={\n",
    "        'ClusterConfig': {\n",
    "            'InstanceCount': 1,\n",
    "            'InstanceType': 'ml.m5.2xlarge',\n",
    "            'VolumeSizeInGB': 30\n",
    "        }\n",
    "    },\n",
    "    ProcessingInputs=[\n",
    "        {\n",
    "            'InputName': 'model',\n",
    "            'S3Input': {\n",
    "                'S3Uri': model_data,\n",
    "                'LocalPath': '/opt/ml/processing/model',\n",
    "                'S3DataType': 'S3Prefix',\n",
    "                'S3InputMode': 'File',\n",
    "                'S3DataDistributionType': 'FullyReplicated'\n",
    "            }\n",
    "        },\n",
    "        {\n",
    "            'InputName': 'cards',\n",
    "            'S3Input': {\n",
    "                'S3Uri': input_data,\n",
    "                'LocalPath': '/opt/ml/processing/input',\n",
    "                'S3DataType': 'S3Prefix',\n",
    "                'S3InputMode': 'File',\n",
    "                'S3DataDistributionType': 'FullyReplicated',\n",
    "            }\n",
    "        },\n",
    "        {\n",
    "            'InputName': 'code',\n",
    "            'S3Input': {\n",
    "                'S3Uri': src_code,\n",
    "                'LocalPath': '/opt/ml/processing/input/code',\n",
    "                'S3DataType': 'S3Prefix',\n",
    "                'S3InputMode': 'File',\n",
    "                'S3DataDistributionType': 'FullyReplicated'\n",
    "            }\n",
    "        }\n",
    "    ],\n",
    "    ProcessingOutputConfig={\n",
    "        'Outputs': [\n",
    "            {\n",
    "                'OutputName': 'embeddings',\n",
    "                'S3Output': {\n",
    "                    'S3Uri': output_data,\n",
    "                    'LocalPath': '/opt/ml/processing/output',\n",
    "                    'S3UploadMode': 'EndOfJob'\n",
    "                }\n",
    "            }\n",
    "        ]\n",
    "    }\n",
    ")"
   ]
  },
  {
   "source": [
    "# Stage in Lambda - Sort, Merge, and Save in EFS"
   ],
   "cell_type": "markdown",
   "metadata": {}
  },
  {
   "cell_type": "code",
   "execution_count": 355,
   "metadata": {},
   "outputs": [],
   "source": [
    "import pandas as pd"
   ]
  },
  {
   "cell_type": "code",
   "execution_count": 356,
   "metadata": {},
   "outputs": [],
   "source": [
    "s3.download_file('magicml-inference.dev', 'use-large/arena_embeddings.csv', 'embeddings.csv')"
   ]
  },
  {
   "cell_type": "code",
   "execution_count": 357,
   "metadata": {},
   "outputs": [
    {
     "output_type": "stream",
     "name": "stdout",
     "text": [
      "(5419, 5420)\n"
     ]
    },
    {
     "output_type": "execute_result",
     "data": {
      "text/plain": [
       "                        Names  Archon_of_Sun's_Grace-4754  \\\n",
       "0  Archon_of_Sun's_Grace-4754                    1.000000   \n",
       "1        Audacious_Thief-4755                    0.388027   \n",
       "2        Banishing_Light-4756                    0.540133   \n",
       "\n",
       "   Audacious_Thief-4755  Banishing_Light-4756  Bond_of_Revival-4757  \\\n",
       "0              0.388027              0.540133              0.626441   \n",
       "1              1.000000              0.364457              0.447599   \n",
       "2              0.364457              1.000000              0.583114   \n",
       "\n",
       "   Carnifex_Demon-4758  Doomed_Necromancer-4759  Dryad_Greenseeker-4760  \\\n",
       "0             0.514713                 0.497357                0.414993   \n",
       "1             0.297466                 0.377156                0.339213   \n",
       "2             0.458850                 0.504666                0.293982   \n",
       "\n",
       "   Fanatic_of_Mogis-4761  Gadwick,_the_Wizened-4762  ...  \\\n",
       "0               0.587006                   0.667408  ...   \n",
       "1               0.379261                   0.452389  ...   \n",
       "2               0.581624                   0.707415  ...   \n",
       "\n",
       "   Veteran_Adventurer-55930  Vine_Gecko-55931  Wayward_Guide-Beast-55932  \\\n",
       "0                  0.372712          0.545192                   0.698247   \n",
       "1                  0.386959          0.421869                   0.409473   \n",
       "2                  0.250604          0.421688                   0.535110   \n",
       "\n",
       "   Windrider_Wizard-55934  Yasharn,_Implacable_Earth-55935  \\\n",
       "0                0.554204                         0.654834   \n",
       "1                0.473218                         0.464308   \n",
       "2                0.520927                         0.534659   \n",
       "\n",
       "   Zagras,_Thief_of_Heartbeats-55937  Zareth_San,_the_Trickster-55939  \\\n",
       "0                           0.693039                         0.552945   \n",
       "1                           0.392080                         0.448119   \n",
       "2                           0.525378                         0.570414   \n",
       "\n",
       "   Zof_Consumption_II_Zof_Bloodbog-55941  \\\n",
       "0                               0.199106   \n",
       "1                               0.156082   \n",
       "2                               0.242288   \n",
       "\n",
       "   Zof_Consumption_II_Zof_Bloodbog-55942  Zulaport_Duelist-55943  \n",
       "0                               0.365390                0.576490  \n",
       "1                               0.608094                0.399204  \n",
       "2                               0.342716                0.529742  \n",
       "\n",
       "[3 rows x 5420 columns]"
      ],
      "text/html": "<div>\n<style scoped>\n    .dataframe tbody tr th:only-of-type {\n        vertical-align: middle;\n    }\n\n    .dataframe tbody tr th {\n        vertical-align: top;\n    }\n\n    .dataframe thead th {\n        text-align: right;\n    }\n</style>\n<table border=\"1\" class=\"dataframe\">\n  <thead>\n    <tr style=\"text-align: right;\">\n      <th></th>\n      <th>Names</th>\n      <th>Archon_of_Sun's_Grace-4754</th>\n      <th>Audacious_Thief-4755</th>\n      <th>Banishing_Light-4756</th>\n      <th>Bond_of_Revival-4757</th>\n      <th>Carnifex_Demon-4758</th>\n      <th>Doomed_Necromancer-4759</th>\n      <th>Dryad_Greenseeker-4760</th>\n      <th>Fanatic_of_Mogis-4761</th>\n      <th>Gadwick,_the_Wizened-4762</th>\n      <th>...</th>\n      <th>Veteran_Adventurer-55930</th>\n      <th>Vine_Gecko-55931</th>\n      <th>Wayward_Guide-Beast-55932</th>\n      <th>Windrider_Wizard-55934</th>\n      <th>Yasharn,_Implacable_Earth-55935</th>\n      <th>Zagras,_Thief_of_Heartbeats-55937</th>\n      <th>Zareth_San,_the_Trickster-55939</th>\n      <th>Zof_Consumption_II_Zof_Bloodbog-55941</th>\n      <th>Zof_Consumption_II_Zof_Bloodbog-55942</th>\n      <th>Zulaport_Duelist-55943</th>\n    </tr>\n  </thead>\n  <tbody>\n    <tr>\n      <th>0</th>\n      <td>Archon_of_Sun's_Grace-4754</td>\n      <td>1.000000</td>\n      <td>0.388027</td>\n      <td>0.540133</td>\n      <td>0.626441</td>\n      <td>0.514713</td>\n      <td>0.497357</td>\n      <td>0.414993</td>\n      <td>0.587006</td>\n      <td>0.667408</td>\n      <td>...</td>\n      <td>0.372712</td>\n      <td>0.545192</td>\n      <td>0.698247</td>\n      <td>0.554204</td>\n      <td>0.654834</td>\n      <td>0.693039</td>\n      <td>0.552945</td>\n      <td>0.199106</td>\n      <td>0.365390</td>\n      <td>0.576490</td>\n    </tr>\n    <tr>\n      <th>1</th>\n      <td>Audacious_Thief-4755</td>\n      <td>0.388027</td>\n      <td>1.000000</td>\n      <td>0.364457</td>\n      <td>0.447599</td>\n      <td>0.297466</td>\n      <td>0.377156</td>\n      <td>0.339213</td>\n      <td>0.379261</td>\n      <td>0.452389</td>\n      <td>...</td>\n      <td>0.386959</td>\n      <td>0.421869</td>\n      <td>0.409473</td>\n      <td>0.473218</td>\n      <td>0.464308</td>\n      <td>0.392080</td>\n      <td>0.448119</td>\n      <td>0.156082</td>\n      <td>0.608094</td>\n      <td>0.399204</td>\n    </tr>\n    <tr>\n      <th>2</th>\n      <td>Banishing_Light-4756</td>\n      <td>0.540133</td>\n      <td>0.364457</td>\n      <td>1.000000</td>\n      <td>0.583114</td>\n      <td>0.458850</td>\n      <td>0.504666</td>\n      <td>0.293982</td>\n      <td>0.581624</td>\n      <td>0.707415</td>\n      <td>...</td>\n      <td>0.250604</td>\n      <td>0.421688</td>\n      <td>0.535110</td>\n      <td>0.520927</td>\n      <td>0.534659</td>\n      <td>0.525378</td>\n      <td>0.570414</td>\n      <td>0.242288</td>\n      <td>0.342716</td>\n      <td>0.529742</td>\n    </tr>\n  </tbody>\n</table>\n<p>3 rows × 5420 columns</p>\n</div>"
     },
     "metadata": {},
     "execution_count": 357
    }
   ],
   "source": [
    "pred_df = pd.read_csv('embeddings.csv')\\\n",
    "    .rename(columns={'Unnamed: 0': 'Names'})\n",
    "\n",
    "print(pred_df.shape)\n",
    "pred_df.head(3)"
   ]
  },
  {
   "cell_type": "code",
   "execution_count": 358,
   "metadata": {},
   "outputs": [
    {
     "output_type": "execute_result",
     "data": {
      "text/plain": [
       "5420"
      ]
     },
     "metadata": {},
     "execution_count": 358
    }
   ],
   "source": [
    "pred_df.columns.nunique()"
   ]
  },
  {
   "cell_type": "code",
   "execution_count": 359,
   "metadata": {},
   "outputs": [
    {
     "output_type": "execute_result",
     "data": {
      "text/plain": [
       "5419"
      ]
     },
     "metadata": {},
     "execution_count": 359
    }
   ],
   "source": [
    "cards_df.Names.nunique()"
   ]
  },
  {
   "cell_type": "code",
   "execution_count": 360,
   "metadata": {},
   "outputs": [
    {
     "output_type": "execute_result",
     "data": {
      "text/plain": [
       "5283"
      ]
     },
     "metadata": {},
     "execution_count": 360
    }
   ],
   "source": [
    "cards_df.scryfallId.nunique()"
   ]
  },
  {
   "cell_type": "code",
   "execution_count": 361,
   "metadata": {},
   "outputs": [
    {
     "output_type": "execute_result",
     "data": {
      "text/plain": [
       "5419"
      ]
     },
     "metadata": {},
     "execution_count": 361
    }
   ],
   "source": [
    "cards_df.id.nunique()"
   ]
  },
  {
   "cell_type": "code",
   "execution_count": 118,
   "metadata": {},
   "outputs": [
    {
     "output_type": "execute_result",
     "data": {
      "text/plain": [
       "                                     Names     id  mtgArenaId  \\\n",
       "55940  Zof_Consumption_II_Zof_Bloodbog-ZNR  55941     73331.0   \n",
       "55941  Zof_Consumption_II_Zof_Bloodbog-ZNR  55942     73331.0   \n",
       "\n",
       "                                 scryfallId                             name  \\\n",
       "55940  98496d5b-1519-4f0c-8b46-0a43be643dfb  Zof Consumption // Zof Bloodbog   \n",
       "55941  98496d5b-1519-4f0c-8b46-0a43be643dfb  Zof Consumption // Zof Bloodbog   \n",
       "\n",
       "      colors          setName  convertedManaCost   manaCost loyalty  ...  \\\n",
       "55940      0  Zendikar Rising                6.0          0       0  ...   \n",
       "55941      B  Zendikar Rising                6.0  {4}{B}{B}       0  ...   \n",
       "\n",
       "      future historic legacy modern oldschool pauper  penny pioneer standard  \\\n",
       "55940  Legal    Legal  Legal  Legal     Blank  Blank  Legal   Legal    Legal   \n",
       "55941  Legal    Legal  Legal  Legal     Blank  Blank  Legal   Legal    Legal   \n",
       "\n",
       "      vintage  \n",
       "55940   Legal  \n",
       "55941   Legal  \n",
       "\n",
       "[2 rows x 29 columns]"
      ],
      "text/html": "<div>\n<style scoped>\n    .dataframe tbody tr th:only-of-type {\n        vertical-align: middle;\n    }\n\n    .dataframe tbody tr th {\n        vertical-align: top;\n    }\n\n    .dataframe thead th {\n        text-align: right;\n    }\n</style>\n<table border=\"1\" class=\"dataframe\">\n  <thead>\n    <tr style=\"text-align: right;\">\n      <th></th>\n      <th>Names</th>\n      <th>id</th>\n      <th>mtgArenaId</th>\n      <th>scryfallId</th>\n      <th>name</th>\n      <th>colors</th>\n      <th>setName</th>\n      <th>convertedManaCost</th>\n      <th>manaCost</th>\n      <th>loyalty</th>\n      <th>...</th>\n      <th>future</th>\n      <th>historic</th>\n      <th>legacy</th>\n      <th>modern</th>\n      <th>oldschool</th>\n      <th>pauper</th>\n      <th>penny</th>\n      <th>pioneer</th>\n      <th>standard</th>\n      <th>vintage</th>\n    </tr>\n  </thead>\n  <tbody>\n    <tr>\n      <th>55940</th>\n      <td>Zof_Consumption_II_Zof_Bloodbog-ZNR</td>\n      <td>55941</td>\n      <td>73331.0</td>\n      <td>98496d5b-1519-4f0c-8b46-0a43be643dfb</td>\n      <td>Zof Consumption // Zof Bloodbog</td>\n      <td>0</td>\n      <td>Zendikar Rising</td>\n      <td>6.0</td>\n      <td>0</td>\n      <td>0</td>\n      <td>...</td>\n      <td>Legal</td>\n      <td>Legal</td>\n      <td>Legal</td>\n      <td>Legal</td>\n      <td>Blank</td>\n      <td>Blank</td>\n      <td>Legal</td>\n      <td>Legal</td>\n      <td>Legal</td>\n      <td>Legal</td>\n    </tr>\n    <tr>\n      <th>55941</th>\n      <td>Zof_Consumption_II_Zof_Bloodbog-ZNR</td>\n      <td>55942</td>\n      <td>73331.0</td>\n      <td>98496d5b-1519-4f0c-8b46-0a43be643dfb</td>\n      <td>Zof Consumption // Zof Bloodbog</td>\n      <td>B</td>\n      <td>Zendikar Rising</td>\n      <td>6.0</td>\n      <td>{4}{B}{B}</td>\n      <td>0</td>\n      <td>...</td>\n      <td>Legal</td>\n      <td>Legal</td>\n      <td>Legal</td>\n      <td>Legal</td>\n      <td>Blank</td>\n      <td>Blank</td>\n      <td>Legal</td>\n      <td>Legal</td>\n      <td>Legal</td>\n      <td>Legal</td>\n    </tr>\n  </tbody>\n</table>\n<p>2 rows × 29 columns</p>\n</div>"
     },
     "metadata": {},
     "execution_count": 118
    }
   ],
   "source": [
    "cards_df.query('Names == \"Zof_Consumption_II_Zof_Bloodbog-ZNR\"')"
   ]
  },
  {
   "cell_type": "code",
   "execution_count": 362,
   "metadata": {},
   "outputs": [],
   "source": [
    "all_cards = pred_df.columns\n",
    "\n",
    "BATCH_SIZE = 100\n",
    "batches = [list(all_cards[n:n+BATCH_SIZE]) for n in range(1, len(all_cards), BATCH_SIZE)]"
   ]
  },
  {
   "cell_type": "code",
   "execution_count": 365,
   "metadata": {},
   "outputs": [
    {
     "output_type": "execute_result",
     "data": {
      "text/plain": [
       "['Leyline_of_Anticipation-29142',\n",
       " 'Leyline_of_Combustion-29143',\n",
       " 'Leyline_of_Sanctity-29144',\n",
       " 'Leyline_of_the_Void-29145',\n",
       " 'Lightning_Stormkin-29146',\n",
       " 'Loaming_Shaman-29147',\n",
       " 'Lotus_Field-29148',\n",
       " 'Loxodon_Lifechanter-29149',\n",
       " 'Loyal_Pegasus-29150',\n",
       " 'Mammoth_Spider-29151',\n",
       " 'Maniacal_Rage-29152',\n",
       " 'Manifold_Key-29153',\n",
       " \"Marauder's_Axe-29154\",\n",
       " 'Marauding_Raptor-29155',\n",
       " 'Mask_of_Immolation-29156',\n",
       " 'Master_Splicer-29157',\n",
       " 'Masterful_Replication-29158',\n",
       " 'Meteor_Golem-29159',\n",
       " 'Metropolis_Sprite-29160',\n",
       " 'Might_of_the_Masses-29161',\n",
       " 'Mind_Rot-29162',\n",
       " 'Moat_Piranhas-29163',\n",
       " 'Moldervine_Reclamation-29164',\n",
       " 'Moment_of_Heroism-29165',\n",
       " 'Moorland_Inquisitor-29166',\n",
       " 'Mountain-29167',\n",
       " 'Mountain-29168',\n",
       " 'Mountain-29169',\n",
       " 'Mountain-29170',\n",
       " 'Mu_Yanling,_Celestial_Wind-29171',\n",
       " 'Mu_Yanling,_Sky_Dancer-29172',\n",
       " 'Murder-29173',\n",
       " 'Mystic_Forge-29174',\n",
       " 'Natural_End-29175',\n",
       " 'Negate-29176',\n",
       " 'Netcaster_Spider-29177',\n",
       " 'Nightpack_Ambusher-29178',\n",
       " 'Nimble_Birdsticker-29179',\n",
       " 'Noxious_Grasp-29180',\n",
       " 'Oakenform-29181',\n",
       " 'Octoprophet-29182',\n",
       " 'Ogre_Siegebreaker-29183',\n",
       " 'Omnath,_Locus_of_the_Roil-29184',\n",
       " 'Overcome-29185',\n",
       " 'Overgrowth_Elemental-29186',\n",
       " 'Pacifism-29187',\n",
       " 'Pack_Mastiff-29188',\n",
       " 'Pattern_Matcher-29189',\n",
       " 'Phantom_Warrior-29190',\n",
       " 'Plains-29191',\n",
       " 'Plains-29192',\n",
       " 'Plains-29193',\n",
       " 'Plains-29194',\n",
       " 'Planar_Cleansing-29195',\n",
       " 'Plummet-29196',\n",
       " 'Portal_of_Sanctuary-29197',\n",
       " 'Prismite-29198',\n",
       " 'Prized_Unicorn-29199',\n",
       " 'Prowling_Caracal-29200',\n",
       " 'Pulse_of_Murasa-29201',\n",
       " 'Pyroclastic_Elemental-29202',\n",
       " 'Rabid_Bite-29203',\n",
       " 'Raise_the_Alarm-29204',\n",
       " 'Rapacious_Dragon-29205',\n",
       " 'Reckless_Air_Strike-29206',\n",
       " 'Reduce_to_Ashes-29207',\n",
       " 'Renowned_Weaponsmith-29208',\n",
       " 'Repeated_Reverberation-29209',\n",
       " 'Retributive_Wand-29210',\n",
       " 'Riddlemaster_Sphinx-29211',\n",
       " 'Rienne,_Angel_of_Rebirth-29212',\n",
       " 'Ripscale_Predator-29213',\n",
       " 'Risen_Reef-29214',\n",
       " 'Rotting_Regisaur-29215',\n",
       " 'Rubblebelt_Recluse-29216',\n",
       " 'Rugged_Highlands-29217',\n",
       " 'Rule_of_Law-29218',\n",
       " \"Sage's_Row_Denizen-29219\",\n",
       " 'Salvager_of_Ruin-29220',\n",
       " 'Sanitarium_Skeleton-29221',\n",
       " 'Savage_Gorger-29222',\n",
       " 'Savannah_Sage-29223',\n",
       " 'Scampering_Scorcher-29224',\n",
       " 'Scheming_Symmetry-29225',\n",
       " 'Scholar_of_the_Ages-29226',\n",
       " 'Scorch_Spitter-29227',\n",
       " 'Scoured_Barrens-29228',\n",
       " 'Scuttlemutt-29229',\n",
       " 'Season_of_Growth-29230',\n",
       " 'Sedge_Scorpion-29231',\n",
       " \"Sephara,_Sky's_Blade-29232\",\n",
       " \"Serra's_Guardian-29233\",\n",
       " 'Shared_Summons-29234',\n",
       " 'Shifting_Ceratops-29235',\n",
       " 'Shivan_Dragon-29236',\n",
       " 'Shock-29237',\n",
       " 'Show_of_Valor-29238',\n",
       " 'Siege_Mastodon-29239',\n",
       " 'Silverback_Shaman-29240',\n",
       " 'Skeleton_Archer-29241']"
      ]
     },
     "metadata": {},
     "execution_count": 365
    }
   ],
   "source": [
    "batches[31]"
   ]
  },
  {
   "cell_type": "code",
   "execution_count": 366,
   "metadata": {},
   "outputs": [],
   "source": [
    "merge_cols = [\n",
    "    'Names','id','mtgArenaId','scryfallId','name','colors','setName',\n",
    "    'convertedManaCost','manaCost','loyalty','power','toughness',\n",
    "    'type','types','subtypes','text',\n",
    "    'brawl','commander','duel','future','historic','legacy','modern',\n",
    "    'oldschool','pauper','penny','pioneer','standard','vintage'\n",
    "]"
   ]
  },
  {
   "cell_type": "code",
   "execution_count": 367,
   "metadata": {},
   "outputs": [
    {
     "output_type": "stream",
     "name": "stdout",
     "text": [
      "(5419, 29)\n"
     ]
    },
    {
     "output_type": "execute_result",
     "data": {
      "text/plain": [
       "                           Names    id  mtgArenaId  \\\n",
       "4753  Archon_of_Sun's_Grace-4754  4754     74983.0   \n",
       "4754        Audacious_Thief-4755  4755     74991.0   \n",
       "4755        Banishing_Light-4756  4756     74986.0   \n",
       "\n",
       "                                scryfallId                   name colors  \\\n",
       "4753  94f05268-0d4f-4638-aec3-a85fc339e3a7  Archon of Sun's Grace      W   \n",
       "4754  ba315deb-d5a9-4013-b6ef-e4efe652e569        Audacious Thief      B   \n",
       "4755  ca112bae-6ac5-4cdf-9e8c-1b99f7396995        Banishing Light      W   \n",
       "\n",
       "                         setName  convertedManaCost   manaCost loyalty  ...  \\\n",
       "4753  Jumpstart Arena Exclusives                4.0  {2}{W}{W}       0  ...   \n",
       "4754  Jumpstart Arena Exclusives                3.0     {2}{B}       0  ...   \n",
       "4755  Jumpstart Arena Exclusives                3.0     {2}{W}       0  ...   \n",
       "\n",
       "     future historic legacy modern oldschool pauper  penny pioneer standard  \\\n",
       "4753  Legal    Legal  Legal  Legal     Blank  Blank  Blank   Legal    Legal   \n",
       "4754  Blank    Legal  Legal  Legal     Blank  Legal  Blank   Legal    Blank   \n",
       "4755  Legal    Legal  Legal  Legal     Blank  Blank  Legal   Legal    Legal   \n",
       "\n",
       "     vintage  \n",
       "4753   Legal  \n",
       "4754   Legal  \n",
       "4755   Legal  \n",
       "\n",
       "[3 rows x 29 columns]"
      ],
      "text/html": "<div>\n<style scoped>\n    .dataframe tbody tr th:only-of-type {\n        vertical-align: middle;\n    }\n\n    .dataframe tbody tr th {\n        vertical-align: top;\n    }\n\n    .dataframe thead th {\n        text-align: right;\n    }\n</style>\n<table border=\"1\" class=\"dataframe\">\n  <thead>\n    <tr style=\"text-align: right;\">\n      <th></th>\n      <th>Names</th>\n      <th>id</th>\n      <th>mtgArenaId</th>\n      <th>scryfallId</th>\n      <th>name</th>\n      <th>colors</th>\n      <th>setName</th>\n      <th>convertedManaCost</th>\n      <th>manaCost</th>\n      <th>loyalty</th>\n      <th>...</th>\n      <th>future</th>\n      <th>historic</th>\n      <th>legacy</th>\n      <th>modern</th>\n      <th>oldschool</th>\n      <th>pauper</th>\n      <th>penny</th>\n      <th>pioneer</th>\n      <th>standard</th>\n      <th>vintage</th>\n    </tr>\n  </thead>\n  <tbody>\n    <tr>\n      <th>4753</th>\n      <td>Archon_of_Sun's_Grace-4754</td>\n      <td>4754</td>\n      <td>74983.0</td>\n      <td>94f05268-0d4f-4638-aec3-a85fc339e3a7</td>\n      <td>Archon of Sun's Grace</td>\n      <td>W</td>\n      <td>Jumpstart Arena Exclusives</td>\n      <td>4.0</td>\n      <td>{2}{W}{W}</td>\n      <td>0</td>\n      <td>...</td>\n      <td>Legal</td>\n      <td>Legal</td>\n      <td>Legal</td>\n      <td>Legal</td>\n      <td>Blank</td>\n      <td>Blank</td>\n      <td>Blank</td>\n      <td>Legal</td>\n      <td>Legal</td>\n      <td>Legal</td>\n    </tr>\n    <tr>\n      <th>4754</th>\n      <td>Audacious_Thief-4755</td>\n      <td>4755</td>\n      <td>74991.0</td>\n      <td>ba315deb-d5a9-4013-b6ef-e4efe652e569</td>\n      <td>Audacious Thief</td>\n      <td>B</td>\n      <td>Jumpstart Arena Exclusives</td>\n      <td>3.0</td>\n      <td>{2}{B}</td>\n      <td>0</td>\n      <td>...</td>\n      <td>Blank</td>\n      <td>Legal</td>\n      <td>Legal</td>\n      <td>Legal</td>\n      <td>Blank</td>\n      <td>Legal</td>\n      <td>Blank</td>\n      <td>Legal</td>\n      <td>Blank</td>\n      <td>Legal</td>\n    </tr>\n    <tr>\n      <th>4755</th>\n      <td>Banishing_Light-4756</td>\n      <td>4756</td>\n      <td>74986.0</td>\n      <td>ca112bae-6ac5-4cdf-9e8c-1b99f7396995</td>\n      <td>Banishing Light</td>\n      <td>W</td>\n      <td>Jumpstart Arena Exclusives</td>\n      <td>3.0</td>\n      <td>{2}{W}</td>\n      <td>0</td>\n      <td>...</td>\n      <td>Legal</td>\n      <td>Legal</td>\n      <td>Legal</td>\n      <td>Legal</td>\n      <td>Blank</td>\n      <td>Blank</td>\n      <td>Legal</td>\n      <td>Legal</td>\n      <td>Legal</td>\n      <td>Legal</td>\n    </tr>\n  </tbody>\n</table>\n<p>3 rows × 29 columns</p>\n</div>"
     },
     "metadata": {},
     "execution_count": 367
    }
   ],
   "source": [
    "cards_df = pd.read_csv('cards.csv')\\\n",
    "    .query('mtgArenaId.notnull()')\\\n",
    "    .assign(Names=lambda df: df.name + '-' + df.id.astype('str'))\\\n",
    "    .assign(Names=lambda df: df.Names.apply(lambda x: x.replace(' ', '_').replace('//', 'II')))\\\n",
    "    .fillna('0')\\\n",
    "    [merge_cols]\n",
    "\n",
    "print(cards_df.shape)\n",
    "cards_df.head(3)"
   ]
  },
  {
   "cell_type": "code",
   "execution_count": 368,
   "metadata": {},
   "outputs": [
    {
     "output_type": "execute_result",
     "data": {
      "text/plain": [
       "5419"
      ]
     },
     "metadata": {},
     "execution_count": 368
    }
   ],
   "source": [
    "cards_df.Names.nunique()"
   ]
  },
  {
   "cell_type": "code",
   "execution_count": 369,
   "metadata": {},
   "outputs": [
    {
     "output_type": "execute_result",
     "data": {
      "text/plain": [
       "4267"
      ]
     },
     "metadata": {},
     "execution_count": 369
    }
   ],
   "source": [
    "cards_df.name.nunique()"
   ]
  },
  {
   "cell_type": "code",
   "execution_count": 370,
   "metadata": {},
   "outputs": [
    {
     "output_type": "execute_result",
     "data": {
      "text/plain": [
       "5283"
      ]
     },
     "metadata": {},
     "execution_count": 370
    }
   ],
   "source": [
    "cards_df.scryfallId.nunique()"
   ]
  },
  {
   "cell_type": "code",
   "execution_count": 371,
   "metadata": {},
   "outputs": [
    {
     "output_type": "execute_result",
     "data": {
      "text/plain": [
       "              Names     id  mtgArenaId                            scryfallId  \\\n",
       "5981    Murder-5982   5982     75494.0  144cffe0-0a60-406c-9dab-8c065cd798e9   \n",
       "28832  Murder-28833  28833     67900.0  45368bf3-d5e9-43e6-a67d-93c2e93acc72   \n",
       "29172  Murder-29173  29173     69894.0  6a2b22bc-e81b-4f27-a52b-9f3edad25439   \n",
       "\n",
       "         name colors             setName  convertedManaCost   manaCost  \\\n",
       "5981   Murder      B  Arena Beginner Set                3.0  {1}{B}{B}   \n",
       "28832  Murder      B       Core Set 2019                3.0  {1}{B}{B}   \n",
       "29172  Murder      B       Core Set 2020                3.0  {1}{B}{B}   \n",
       "\n",
       "      loyalty  ... future historic legacy modern oldschool pauper  penny  \\\n",
       "5981        0  ...  Blank    Legal  Legal  Legal     Blank  Legal  Legal   \n",
       "28832       0  ...  Blank    Legal  Legal  Legal     Blank  Legal  Legal   \n",
       "29172       0  ...  Blank    Legal  Legal  Legal     Blank  Legal  Legal   \n",
       "\n",
       "      pioneer standard vintage  \n",
       "5981    Legal    Blank   Legal  \n",
       "28832   Legal    Blank   Legal  \n",
       "29172   Legal    Blank   Legal  \n",
       "\n",
       "[3 rows x 29 columns]"
      ],
      "text/html": "<div>\n<style scoped>\n    .dataframe tbody tr th:only-of-type {\n        vertical-align: middle;\n    }\n\n    .dataframe tbody tr th {\n        vertical-align: top;\n    }\n\n    .dataframe thead th {\n        text-align: right;\n    }\n</style>\n<table border=\"1\" class=\"dataframe\">\n  <thead>\n    <tr style=\"text-align: right;\">\n      <th></th>\n      <th>Names</th>\n      <th>id</th>\n      <th>mtgArenaId</th>\n      <th>scryfallId</th>\n      <th>name</th>\n      <th>colors</th>\n      <th>setName</th>\n      <th>convertedManaCost</th>\n      <th>manaCost</th>\n      <th>loyalty</th>\n      <th>...</th>\n      <th>future</th>\n      <th>historic</th>\n      <th>legacy</th>\n      <th>modern</th>\n      <th>oldschool</th>\n      <th>pauper</th>\n      <th>penny</th>\n      <th>pioneer</th>\n      <th>standard</th>\n      <th>vintage</th>\n    </tr>\n  </thead>\n  <tbody>\n    <tr>\n      <th>5981</th>\n      <td>Murder-5982</td>\n      <td>5982</td>\n      <td>75494.0</td>\n      <td>144cffe0-0a60-406c-9dab-8c065cd798e9</td>\n      <td>Murder</td>\n      <td>B</td>\n      <td>Arena Beginner Set</td>\n      <td>3.0</td>\n      <td>{1}{B}{B}</td>\n      <td>0</td>\n      <td>...</td>\n      <td>Blank</td>\n      <td>Legal</td>\n      <td>Legal</td>\n      <td>Legal</td>\n      <td>Blank</td>\n      <td>Legal</td>\n      <td>Legal</td>\n      <td>Legal</td>\n      <td>Blank</td>\n      <td>Legal</td>\n    </tr>\n    <tr>\n      <th>28832</th>\n      <td>Murder-28833</td>\n      <td>28833</td>\n      <td>67900.0</td>\n      <td>45368bf3-d5e9-43e6-a67d-93c2e93acc72</td>\n      <td>Murder</td>\n      <td>B</td>\n      <td>Core Set 2019</td>\n      <td>3.0</td>\n      <td>{1}{B}{B}</td>\n      <td>0</td>\n      <td>...</td>\n      <td>Blank</td>\n      <td>Legal</td>\n      <td>Legal</td>\n      <td>Legal</td>\n      <td>Blank</td>\n      <td>Legal</td>\n      <td>Legal</td>\n      <td>Legal</td>\n      <td>Blank</td>\n      <td>Legal</td>\n    </tr>\n    <tr>\n      <th>29172</th>\n      <td>Murder-29173</td>\n      <td>29173</td>\n      <td>69894.0</td>\n      <td>6a2b22bc-e81b-4f27-a52b-9f3edad25439</td>\n      <td>Murder</td>\n      <td>B</td>\n      <td>Core Set 2020</td>\n      <td>3.0</td>\n      <td>{1}{B}{B}</td>\n      <td>0</td>\n      <td>...</td>\n      <td>Blank</td>\n      <td>Legal</td>\n      <td>Legal</td>\n      <td>Legal</td>\n      <td>Blank</td>\n      <td>Legal</td>\n      <td>Legal</td>\n      <td>Legal</td>\n      <td>Blank</td>\n      <td>Legal</td>\n    </tr>\n  </tbody>\n</table>\n<p>3 rows × 29 columns</p>\n</div>"
     },
     "metadata": {},
     "execution_count": 371
    }
   ],
   "source": [
    "cards_df\\\n",
    "    .query('name == \"Murder\"')"
   ]
  },
  {
   "cell_type": "code",
   "execution_count": 373,
   "metadata": {},
   "outputs": [
    {
     "output_type": "execute_result",
     "data": {
      "text/plain": [
       "'Murder-5982'"
      ]
     },
     "metadata": {},
     "execution_count": 373
    }
   ],
   "source": [
    "card = 'Murder-5982'\n",
    "card"
   ]
  },
  {
   "cell_type": "code",
   "execution_count": 381,
   "metadata": {},
   "outputs": [
    {
     "output_type": "stream",
     "name": "stdout",
     "text": [
      "Murder-5982\n"
     ]
    },
    {
     "output_type": "execute_result",
     "data": {
      "text/plain": [
       "                 Names        name     id similarity\n",
       "3745      Impale-45733      Impale  45733  0.9999995\n",
       "3131      Murder-29173      Murder  29173  0.9999995\n",
       "478        Murder-5982      Murder   5982  0.9999995\n",
       "2792      Murder-28833      Murder  28833  0.9999995\n",
       "599   Eviscerate-16645  Eviscerate  16645  0.9999995"
      ],
      "text/html": "<div>\n<style scoped>\n    .dataframe tbody tr th:only-of-type {\n        vertical-align: middle;\n    }\n\n    .dataframe tbody tr th {\n        vertical-align: top;\n    }\n\n    .dataframe thead th {\n        text-align: right;\n    }\n</style>\n<table border=\"1\" class=\"dataframe\">\n  <thead>\n    <tr style=\"text-align: right;\">\n      <th></th>\n      <th>Names</th>\n      <th>name</th>\n      <th>id</th>\n      <th>similarity</th>\n    </tr>\n  </thead>\n  <tbody>\n    <tr>\n      <th>3745</th>\n      <td>Impale-45733</td>\n      <td>Impale</td>\n      <td>45733</td>\n      <td>0.9999995</td>\n    </tr>\n    <tr>\n      <th>3131</th>\n      <td>Murder-29173</td>\n      <td>Murder</td>\n      <td>29173</td>\n      <td>0.9999995</td>\n    </tr>\n    <tr>\n      <th>478</th>\n      <td>Murder-5982</td>\n      <td>Murder</td>\n      <td>5982</td>\n      <td>0.9999995</td>\n    </tr>\n    <tr>\n      <th>2792</th>\n      <td>Murder-28833</td>\n      <td>Murder</td>\n      <td>28833</td>\n      <td>0.9999995</td>\n    </tr>\n    <tr>\n      <th>599</th>\n      <td>Eviscerate-16645</td>\n      <td>Eviscerate</td>\n      <td>16645</td>\n      <td>0.9999995</td>\n    </tr>\n  </tbody>\n</table>\n</div>"
     },
     "metadata": {},
     "execution_count": 381
    }
   ],
   "source": [
    "staged_card = pred_df[['Names', card]]\\\n",
    "    .merge(cards_df, how='left', on='Names')\\\n",
    "    .sort_values(by=card, ascending=False)\\\n",
    "    .head(10)\\\n",
    "    .rename(columns={card: 'similarity'})\\\n",
    "    .assign(similarity=lambda df: df.similarity.astype('str'))\\\n",
    "    .assign(id=lambda df: df.id.astype('str'))\\\n",
    "    .assign(mtgArenaId=lambda df: df.mtgArenaId.astype('str'))\\\n",
    "    .assign(loyalty=lambda df: df.loyalty.astype('str'))\\\n",
    "    .assign(power=lambda df: df.power.astype('str'))\\\n",
    "    .assign(toughness=lambda df: df.toughness.astype('str'))\\\n",
    "    .assign(convertedManaCost=lambda df: df.convertedManaCost.astype('str'))\n",
    "\n",
    "print(card)\n",
    "staged_card.head(5)[['Names','name','id','similarity']]"
   ]
  },
  {
   "cell_type": "code",
   "execution_count": 388,
   "metadata": {},
   "outputs": [
    {
     "output_type": "execute_result",
     "data": {
      "text/plain": [
       "{'Names': 'Murder-5982',\n",
       " 'similarity': '0.9999995',\n",
       " 'id': '5982',\n",
       " 'mtgArenaId': '75494.0',\n",
       " 'scryfallId': '144cffe0-0a60-406c-9dab-8c065cd798e9',\n",
       " 'name': 'Murder',\n",
       " 'colors': 'B',\n",
       " 'setName': 'Arena Beginner Set',\n",
       " 'convertedManaCost': '3.0',\n",
       " 'manaCost': '{1}{B}{B}',\n",
       " 'loyalty': '0',\n",
       " 'power': '0',\n",
       " 'toughness': '0',\n",
       " 'type': 'Instant',\n",
       " 'types': 'Instant',\n",
       " 'subtypes': '0',\n",
       " 'text': 'Destroy target creature.',\n",
       " 'brawl': 'Blank',\n",
       " 'commander': 'Legal',\n",
       " 'duel': 'Legal',\n",
       " 'future': 'Blank',\n",
       " 'historic': 'Legal',\n",
       " 'legacy': 'Legal',\n",
       " 'modern': 'Legal',\n",
       " 'oldschool': 'Blank',\n",
       " 'pauper': 'Legal',\n",
       " 'penny': 'Legal',\n",
       " 'pioneer': 'Legal',\n",
       " 'standard': 'Blank',\n",
       " 'vintage': 'Legal',\n",
       " 'similarities': [{'Names': 'Impale-45733',\n",
       "   'similarity': '0.9999995',\n",
       "   'id': '45733',\n",
       "   'mtgArenaId': '66769.0',\n",
       "   'scryfallId': 'dfa0c4f7-3497-467d-9453-104fb4b5a0f3',\n",
       "   'name': 'Impale',\n",
       "   'colors': 'B',\n",
       "   'setName': 'Rivals of Ixalan',\n",
       "   'convertedManaCost': '4.0',\n",
       "   'manaCost': '{2}{B}{B}',\n",
       "   'loyalty': '0',\n",
       "   'power': '0',\n",
       "   'toughness': '0',\n",
       "   'type': 'Sorcery',\n",
       "   'types': 'Sorcery',\n",
       "   'subtypes': '0',\n",
       "   'text': 'Destroy target creature.',\n",
       "   'brawl': 'Blank',\n",
       "   'commander': 'Legal',\n",
       "   'duel': 'Legal',\n",
       "   'future': 'Blank',\n",
       "   'historic': 'Legal',\n",
       "   'legacy': 'Legal',\n",
       "   'modern': 'Legal',\n",
       "   'oldschool': 'Blank',\n",
       "   'pauper': 'Legal',\n",
       "   'penny': 'Legal',\n",
       "   'pioneer': 'Legal',\n",
       "   'standard': 'Blank',\n",
       "   'vintage': 'Legal'},\n",
       "  {'Names': 'Murder-29173',\n",
       "   'similarity': '0.9999995',\n",
       "   'id': '29173',\n",
       "   'mtgArenaId': '69894.0',\n",
       "   'scryfallId': '6a2b22bc-e81b-4f27-a52b-9f3edad25439',\n",
       "   'name': 'Murder',\n",
       "   'colors': 'B',\n",
       "   'setName': 'Core Set 2020',\n",
       "   'convertedManaCost': '3.0',\n",
       "   'manaCost': '{1}{B}{B}',\n",
       "   'loyalty': '0',\n",
       "   'power': '0',\n",
       "   'toughness': '0',\n",
       "   'type': 'Instant',\n",
       "   'types': 'Instant',\n",
       "   'subtypes': '0',\n",
       "   'text': 'Destroy target creature.',\n",
       "   'brawl': 'Blank',\n",
       "   'commander': 'Legal',\n",
       "   'duel': 'Legal',\n",
       "   'future': 'Blank',\n",
       "   'historic': 'Legal',\n",
       "   'legacy': 'Legal',\n",
       "   'modern': 'Legal',\n",
       "   'oldschool': 'Blank',\n",
       "   'pauper': 'Legal',\n",
       "   'penny': 'Legal',\n",
       "   'pioneer': 'Legal',\n",
       "   'standard': 'Blank',\n",
       "   'vintage': 'Legal'},\n",
       "  {'Names': 'Murder-28833',\n",
       "   'similarity': '0.9999995',\n",
       "   'id': '28833',\n",
       "   'mtgArenaId': '67900.0',\n",
       "   'scryfallId': '45368bf3-d5e9-43e6-a67d-93c2e93acc72',\n",
       "   'name': 'Murder',\n",
       "   'colors': 'B',\n",
       "   'setName': 'Core Set 2019',\n",
       "   'convertedManaCost': '3.0',\n",
       "   'manaCost': '{1}{B}{B}',\n",
       "   'loyalty': '0',\n",
       "   'power': '0',\n",
       "   'toughness': '0',\n",
       "   'type': 'Instant',\n",
       "   'types': 'Instant',\n",
       "   'subtypes': '0',\n",
       "   'text': 'Destroy target creature.',\n",
       "   'brawl': 'Blank',\n",
       "   'commander': 'Legal',\n",
       "   'duel': 'Legal',\n",
       "   'future': 'Blank',\n",
       "   'historic': 'Legal',\n",
       "   'legacy': 'Legal',\n",
       "   'modern': 'Legal',\n",
       "   'oldschool': 'Blank',\n",
       "   'pauper': 'Legal',\n",
       "   'penny': 'Legal',\n",
       "   'pioneer': 'Legal',\n",
       "   'standard': 'Blank',\n",
       "   'vintage': 'Legal'},\n",
       "  {'Names': 'Eviscerate-16645',\n",
       "   'similarity': '0.9999995',\n",
       "   'id': '16645',\n",
       "   'mtgArenaId': '67286.0',\n",
       "   'scryfallId': '62ba90b8-3a30-4058-b8d3-72900b1f4fe0',\n",
       "   'name': 'Eviscerate',\n",
       "   'colors': 'B',\n",
       "   'setName': 'Dominaria',\n",
       "   'convertedManaCost': '4.0',\n",
       "   'manaCost': '{3}{B}',\n",
       "   'loyalty': '0',\n",
       "   'power': '0',\n",
       "   'toughness': '0',\n",
       "   'type': 'Sorcery',\n",
       "   'types': 'Sorcery',\n",
       "   'subtypes': '0',\n",
       "   'text': 'Destroy target creature.',\n",
       "   'brawl': 'Blank',\n",
       "   'commander': 'Legal',\n",
       "   'duel': 'Legal',\n",
       "   'future': 'Blank',\n",
       "   'historic': 'Legal',\n",
       "   'legacy': 'Legal',\n",
       "   'modern': 'Legal',\n",
       "   'oldschool': 'Blank',\n",
       "   'pauper': 'Legal',\n",
       "   'penny': 'Legal',\n",
       "   'pioneer': 'Legal',\n",
       "   'standard': 'Blank',\n",
       "   'vintage': 'Legal'},\n",
       "  {'Names': 'Walk_the_Plank-55049',\n",
       "   'similarity': '0.9444486999999999',\n",
       "   'id': '55049',\n",
       "   'mtgArenaId': '66225.0',\n",
       "   'scryfallId': '0038ac6a-318f-44fb-bb64-7ae172c4aca3',\n",
       "   'name': 'Walk the Plank',\n",
       "   'colors': 'B',\n",
       "   'setName': 'Ixalan',\n",
       "   'convertedManaCost': '2.0',\n",
       "   'manaCost': '{B}{B}',\n",
       "   'loyalty': '0',\n",
       "   'power': '0',\n",
       "   'toughness': '0',\n",
       "   'type': 'Sorcery',\n",
       "   'types': 'Sorcery',\n",
       "   'subtypes': '0',\n",
       "   'text': 'Destroy target non-Merfolk creature.',\n",
       "   'brawl': 'Blank',\n",
       "   'commander': 'Legal',\n",
       "   'duel': 'Legal',\n",
       "   'future': 'Blank',\n",
       "   'historic': 'Legal',\n",
       "   'legacy': 'Legal',\n",
       "   'modern': 'Legal',\n",
       "   'oldschool': 'Blank',\n",
       "   'pauper': 'Blank',\n",
       "   'penny': 'Blank',\n",
       "   'pioneer': 'Legal',\n",
       "   'standard': 'Blank',\n",
       "   'vintage': 'Legal'},\n",
       "  {'Names': 'Take_Vengeance-54753',\n",
       "   'similarity': '0.9175999',\n",
       "   'id': '54753',\n",
       "   'mtgArenaId': '68787.0',\n",
       "   'scryfallId': 'e3c1b1bc-82ec-4a10-bd0a-04a29a349e3f',\n",
       "   'name': 'Take Vengeance',\n",
       "   'colors': 'W',\n",
       "   'setName': 'Arena New Player Experience Extras',\n",
       "   'convertedManaCost': '2.0',\n",
       "   'manaCost': '{1}{W}',\n",
       "   'loyalty': '0',\n",
       "   'power': '0',\n",
       "   'toughness': '0',\n",
       "   'type': 'Sorcery',\n",
       "   'types': 'Sorcery',\n",
       "   'subtypes': '0',\n",
       "   'text': 'Destroy target tapped creature.',\n",
       "   'brawl': 'Blank',\n",
       "   'commander': 'Legal',\n",
       "   'duel': 'Legal',\n",
       "   'future': 'Blank',\n",
       "   'historic': 'Legal',\n",
       "   'legacy': 'Legal',\n",
       "   'modern': 'Legal',\n",
       "   'oldschool': 'Blank',\n",
       "   'pauper': 'Legal',\n",
       "   'penny': 'Legal',\n",
       "   'pioneer': 'Legal',\n",
       "   'standard': 'Blank',\n",
       "   'vintage': 'Legal'},\n",
       "  {'Names': 'Take_Vengeance-29263',\n",
       "   'similarity': '0.9175999',\n",
       "   'id': '29263',\n",
       "   'mtgArenaId': '70097.0',\n",
       "   'scryfallId': '30fff340-8e2a-4182-9ece-af5749fa0d2e',\n",
       "   'name': 'Take Vengeance',\n",
       "   'colors': 'W',\n",
       "   'setName': 'Core Set 2020',\n",
       "   'convertedManaCost': '2.0',\n",
       "   'manaCost': '{1}{W}',\n",
       "   'loyalty': '0',\n",
       "   'power': '0',\n",
       "   'toughness': '0',\n",
       "   'type': 'Sorcery',\n",
       "   'types': 'Sorcery',\n",
       "   'subtypes': '0',\n",
       "   'text': 'Destroy target tapped creature.',\n",
       "   'brawl': 'Blank',\n",
       "   'commander': 'Legal',\n",
       "   'duel': 'Legal',\n",
       "   'future': 'Blank',\n",
       "   'historic': 'Legal',\n",
       "   'legacy': 'Legal',\n",
       "   'modern': 'Legal',\n",
       "   'oldschool': 'Blank',\n",
       "   'pauper': 'Legal',\n",
       "   'penny': 'Legal',\n",
       "   'pioneer': 'Legal',\n",
       "   'standard': 'Blank',\n",
       "   'vintage': 'Legal'},\n",
       "  {'Names': 'Take_Vengeance-28929',\n",
       "   'similarity': '0.9175999',\n",
       "   'id': '28929',\n",
       "   'mtgArenaId': '67760.0',\n",
       "   'scryfallId': '66fbde22-d98d-4f12-b4d8-1bad2a9878b2',\n",
       "   'name': 'Take Vengeance',\n",
       "   'colors': 'W',\n",
       "   'setName': 'Core Set 2019',\n",
       "   'convertedManaCost': '2.0',\n",
       "   'manaCost': '{1}{W}',\n",
       "   'loyalty': '0',\n",
       "   'power': '0',\n",
       "   'toughness': '0',\n",
       "   'type': 'Sorcery',\n",
       "   'types': 'Sorcery',\n",
       "   'subtypes': '0',\n",
       "   'text': 'Destroy target tapped creature.',\n",
       "   'brawl': 'Blank',\n",
       "   'commander': 'Legal',\n",
       "   'duel': 'Legal',\n",
       "   'future': 'Blank',\n",
       "   'historic': 'Legal',\n",
       "   'legacy': 'Legal',\n",
       "   'modern': 'Legal',\n",
       "   'oldschool': 'Blank',\n",
       "   'pauper': 'Legal',\n",
       "   'penny': 'Legal',\n",
       "   'pioneer': 'Legal',\n",
       "   'standard': 'Blank',\n",
       "   'vintage': 'Legal'},\n",
       "  {'Names': 'Swift_Response-29636',\n",
       "   'similarity': '0.9175999',\n",
       "   'id': '29636',\n",
       "   'mtgArenaId': '71822.0',\n",
       "   'scryfallId': 'a90c1ad0-83bd-471c-8d4c-e65bc2abaa18',\n",
       "   'name': 'Swift Response',\n",
       "   'colors': 'W',\n",
       "   'setName': 'Core Set 2021',\n",
       "   'convertedManaCost': '2.0',\n",
       "   'manaCost': '{1}{W}',\n",
       "   'loyalty': '0',\n",
       "   'power': '0',\n",
       "   'toughness': '0',\n",
       "   'type': 'Instant',\n",
       "   'types': 'Instant',\n",
       "   'subtypes': '0',\n",
       "   'text': 'Destroy target tapped creature.',\n",
       "   'brawl': 'Legal',\n",
       "   'commander': 'Legal',\n",
       "   'duel': 'Legal',\n",
       "   'future': 'Legal',\n",
       "   'historic': 'Legal',\n",
       "   'legacy': 'Legal',\n",
       "   'modern': 'Legal',\n",
       "   'oldschool': 'Blank',\n",
       "   'pauper': 'Legal',\n",
       "   'penny': 'Legal',\n",
       "   'pioneer': 'Legal',\n",
       "   'standard': 'Legal',\n",
       "   'vintage': 'Legal'}]}"
      ]
     },
     "metadata": {},
     "execution_count": 388
    }
   ],
   "source": [
    "Item = staged_card.query('Names == @card').to_dict(orient='records')[0]\n",
    "Item['similarities'] = staged_card.query('Names != @card').to_dict(orient='records')"
   ]
  },
  {
   "cell_type": "code",
   "execution_count": null,
   "metadata": {},
   "outputs": [],
   "source": []
  },
  {
   "cell_type": "code",
   "execution_count": 376,
   "metadata": {},
   "outputs": [],
   "source": [
    "dynamodb = boto_sess.resource('dynamodb')\n",
    "dynamo_client = boto_sess.client('dynamodb')\n",
    "\n",
    "table = dynamodb.Table(SIMILARITY_TABLE)"
   ]
  },
  {
   "cell_type": "code",
   "execution_count": 377,
   "metadata": {},
   "outputs": [
    {
     "output_type": "execute_result",
     "data": {
      "text/plain": [
       "{'ResponseMetadata': {'RequestId': '6G3C008CSSQGTOGJLERV443ESRVV4KQNSO5AEMVJF66Q9ASUAAJG',\n",
       "  'HTTPStatusCode': 200,\n",
       "  'HTTPHeaders': {'server': 'Server',\n",
       "   'date': 'Sun, 27 Dec 2020 21:46:35 GMT',\n",
       "   'content-type': 'application/x-amz-json-1.0',\n",
       "   'content-length': '2',\n",
       "   'connection': 'keep-alive',\n",
       "   'x-amzn-requestid': '6G3C008CSSQGTOGJLERV443ESRVV4KQNSO5AEMVJF66Q9ASUAAJG',\n",
       "   'x-amz-crc32': '2745614147'},\n",
       "  'RetryAttempts': 0}}"
      ]
     },
     "metadata": {},
     "execution_count": 377
    }
   ],
   "source": [
    "table.put_item(\n",
    "    Item=Item\n",
    ")"
   ]
  },
  {
   "cell_type": "code",
   "execution_count": 251,
   "metadata": {},
   "outputs": [
    {
     "output_type": "execute_result",
     "data": {
      "text/plain": [
       "(55943, 89)"
      ]
     },
     "metadata": {},
     "execution_count": 251
    }
   ],
   "source": [
    "cards_df.shape"
   ]
  },
  {
   "cell_type": "code",
   "execution_count": 99,
   "metadata": {},
   "outputs": [
    {
     "output_type": "execute_result",
     "data": {
      "text/plain": [
       "                                scryfallId                   name\n",
       "4753  94f05268-0d4f-4638-aec3-a85fc339e3a7  Archon of Sun's Grace\n",
       "4754  ba315deb-d5a9-4013-b6ef-e4efe652e569        Audacious Thief\n",
       "4755  ca112bae-6ac5-4cdf-9e8c-1b99f7396995        Banishing Light\n",
       "4756  82839c0f-3e71-4c7d-af3d-dace06e4d94b        Bond of Revival\n",
       "4757  0d02db50-315a-4b15-b9bd-7feb20e3bae0         Carnifex Demon"
      ],
      "text/html": "<div>\n<style scoped>\n    .dataframe tbody tr th:only-of-type {\n        vertical-align: middle;\n    }\n\n    .dataframe tbody tr th {\n        vertical-align: top;\n    }\n\n    .dataframe thead th {\n        text-align: right;\n    }\n</style>\n<table border=\"1\" class=\"dataframe\">\n  <thead>\n    <tr style=\"text-align: right;\">\n      <th></th>\n      <th>scryfallId</th>\n      <th>name</th>\n    </tr>\n  </thead>\n  <tbody>\n    <tr>\n      <th>4753</th>\n      <td>94f05268-0d4f-4638-aec3-a85fc339e3a7</td>\n      <td>Archon of Sun's Grace</td>\n    </tr>\n    <tr>\n      <th>4754</th>\n      <td>ba315deb-d5a9-4013-b6ef-e4efe652e569</td>\n      <td>Audacious Thief</td>\n    </tr>\n    <tr>\n      <th>4755</th>\n      <td>ca112bae-6ac5-4cdf-9e8c-1b99f7396995</td>\n      <td>Banishing Light</td>\n    </tr>\n    <tr>\n      <th>4756</th>\n      <td>82839c0f-3e71-4c7d-af3d-dace06e4d94b</td>\n      <td>Bond of Revival</td>\n    </tr>\n    <tr>\n      <th>4757</th>\n      <td>0d02db50-315a-4b15-b9bd-7feb20e3bae0</td>\n      <td>Carnifex Demon</td>\n    </tr>\n  </tbody>\n</table>\n</div>"
     },
     "metadata": {},
     "execution_count": 99
    }
   ],
   "source": [
    "cards_df[['scryfallId','name']].head(5)"
   ]
  },
  {
   "source": [
    "## Get card item from Dyanmo"
   ],
   "cell_type": "markdown",
   "metadata": {}
  },
  {
   "cell_type": "code",
   "execution_count": 299,
   "metadata": {},
   "outputs": [],
   "source": [
    "import os\n",
    "import json\n",
    "import boto3\n",
    "from boto3.dynamodb.conditions import Key"
   ]
  },
  {
   "cell_type": "code",
   "execution_count": 300,
   "metadata": {},
   "outputs": [],
   "source": [
    "SIMILARITY_TABLE = 'similarity-dev'"
   ]
  },
  {
   "cell_type": "code",
   "execution_count": 301,
   "metadata": {},
   "outputs": [],
   "source": [
    "boto_sess = boto3.Session(profile_name='lw2134')\n",
    "dynamodb = boto_sess.resource('dynamodb')\n",
    "table = dynamodb.Table(SIMILARITY_TABLE)"
   ]
  },
  {
   "cell_type": "code",
   "execution_count": 323,
   "metadata": {},
   "outputs": [
    {
     "output_type": "stream",
     "name": "stdout",
     "text": [
      "Bontu's Last Reckoning\n1\nDestroy all creatures. Lands you control don't untap during your next untap step.\n"
     ]
    }
   ],
   "source": [
    "# QUERY BY NAME\n",
    "card_item = table.query(\n",
    "    KeyConditionExpression=Key('name').eq(\"Bontu's Last Reckoning\")\n",
    ")\n",
    "\n",
    "print(card_item['Items'][0]['name'])\n",
    "print(len(card_item['Items']))\n",
    "print(card_item['Items'][0]['text'])"
   ]
  },
  {
   "source": [
    "## Call deployed API"
   ],
   "cell_type": "markdown",
   "metadata": {}
  },
  {
   "cell_type": "code",
   "execution_count": 232,
   "metadata": {},
   "outputs": [],
   "source": [
    "import requests"
   ]
  },
  {
   "source": [
    "### Scryfall Card Search API"
   ],
   "cell_type": "markdown",
   "metadata": {}
  },
  {
   "cell_type": "code",
   "execution_count": 333,
   "metadata": {},
   "outputs": [],
   "source": [
    "q = 'golos'"
   ]
  },
  {
   "cell_type": "code",
   "execution_count": 334,
   "metadata": {},
   "outputs": [],
   "source": [
    "res = requests.get('https://api.scryfall.com/cards/search?q={}'.format(q))"
   ]
  },
  {
   "cell_type": "code",
   "execution_count": 287,
   "metadata": {},
   "outputs": [],
   "source": [
    "res = requests.get('https://api.scryfall.com/cards/named?fuzzy={}'.format(q))"
   ]
  },
  {
   "source": [
    "### MagicML Semantic Search API"
   ],
   "cell_type": "markdown",
   "metadata": {}
  },
  {
   "cell_type": "code",
   "execution_count": 382,
   "metadata": {},
   "outputs": [],
   "source": [
    "query = {\n",
    "  \"key\": \"name\",\n",
    "  \"value\": \"Impale\"\n",
    "}"
   ]
  },
  {
   "cell_type": "code",
   "execution_count": 383,
   "metadata": {},
   "outputs": [
    {
     "output_type": "stream",
     "name": "stdout",
     "text": [
      "Impale-45733\nImpale\n1\n"
     ]
    }
   ],
   "source": [
    "res = requests.post('https://38axjswipg.execute-api.us-east-1.amazonaws.com/dev/query', json=query)\n",
    "\n",
    "if len(res.json()['cards']) > 0:\n",
    "    print(res.json()['cards'][0]['Names'])\n",
    "    print(res.json()['cards'][0]['name'])\n",
    "    print(len(res.json()['cards']))\n",
    "else:\n",
    "    print(res.json()['cards'])"
   ]
  },
  {
   "source": [
    "## Lambda Cards Sorter Master"
   ],
   "cell_type": "markdown",
   "metadata": {}
  },
  {
   "cell_type": "code",
   "execution_count": 39,
   "metadata": {},
   "outputs": [],
   "source": [
    "STAGE = 'dev'"
   ]
  },
  {
   "cell_type": "code",
   "execution_count": 40,
   "metadata": {},
   "outputs": [],
   "source": [
    "_, s3, boto_sess = aws_connect('s3', 'lw2134', session=True)\n",
    "lambda_client = boto_sess.client('lambda')"
   ]
  },
  {
   "cell_type": "code",
   "execution_count": 41,
   "metadata": {},
   "outputs": [],
   "source": [
    "all_cards = pred_df.columns"
   ]
  },
  {
   "cell_type": "code",
   "execution_count": 47,
   "metadata": {},
   "outputs": [
    {
     "output_type": "stream",
     "name": "stdout",
     "text": [
      "542\n"
     ]
    },
    {
     "output_type": "execute_result",
     "data": {
      "text/plain": [
       "[\"Archon_of_Sun's_Grace-AJMP\",\n",
       " 'Audacious_Thief-AJMP',\n",
       " 'Banishing_Light-AJMP',\n",
       " 'Bond_of_Revival-AJMP',\n",
       " 'Carnifex_Demon-AJMP',\n",
       " 'Doomed_Necromancer-AJMP',\n",
       " 'Dryad_Greenseeker-AJMP',\n",
       " 'Fanatic_of_Mogis-AJMP',\n",
       " 'Gadwick,_the_Wizened-AJMP',\n",
       " 'Goblin_Oriflamme-AJMP']"
      ]
     },
     "metadata": {},
     "execution_count": 47
    }
   ],
   "source": [
    "BATCHES_OF = 10\n",
    "batches = [list(all_cards[n:n+BATCHES_OF]) for n in range(1, len(all_cards), BATCHES_OF)]\n",
    "print(len(batches))\n",
    "batches[0]"
   ]
  },
  {
   "cell_type": "code",
   "execution_count": 49,
   "metadata": {},
   "outputs": [],
   "source": [
    "import json"
   ]
  },
  {
   "cell_type": "code",
   "execution_count": 54,
   "metadata": {},
   "outputs": [
    {
     "output_type": "execute_result",
     "data": {
      "text/plain": [
       "'[\"Archon_of_Sun\\'s_Grace-AJMP\", \"Audacious_Thief-AJMP\", \"Banishing_Light-AJMP\", \"Bond_of_Revival-AJMP\", \"Carnifex_Demon-AJMP\"]'"
      ]
     },
     "metadata": {},
     "execution_count": 54
    }
   ],
   "source": [
    "json.dumps(batches[0][0:5])"
   ]
  },
  {
   "cell_type": "code",
   "execution_count": 141,
   "metadata": {},
   "outputs": [],
   "source": [
    "for cards in batches:\n",
    "    payload = {'cards': cards}\n",
    "\n",
    "    res = lambda_client.invoke(\n",
    "        FunctionName='magicml-similarity-{}-stage_embed_worker'.format(STAGE),\n",
    "        InvocationType='Event',\n",
    "        Payload=json.dumps(payload)\n",
    "    )"
   ]
  },
  {
   "cell_type": "code",
   "execution_count": null,
   "metadata": {},
   "outputs": [],
   "source": []
  },
  {
   "cell_type": "code",
   "execution_count": null,
   "metadata": {},
   "outputs": [],
   "source": []
  },
  {
   "cell_type": "code",
   "execution_count": 142,
   "metadata": {},
   "outputs": [
    {
     "output_type": "stream",
     "name": "stdout",
     "text": [
      "(7639, 33)\n"
     ]
    }
   ],
   "source": [
    "a_card = pd.read_csv('sorted/Banishing_Light-AJMP.csv')\n",
    "print(a_card.shape)"
   ]
  },
  {
   "cell_type": "code",
   "execution_count": 149,
   "metadata": {},
   "outputs": [
    {
     "output_type": "execute_result",
     "data": {
      "text/plain": [
       "   Banishing_Light-AJMP     id  mtgArenaId  \\\n",
       "0              1.000000   4756     74986.0   \n",
       "1              1.000000  49136     70515.0   \n",
       "2              0.773027  28775     67708.0   \n",
       "\n",
       "                             scryfallId                name colorIdentity  \\\n",
       "0  ca112bae-6ac5-4cdf-9e8c-1b99f7396995     Banishing Light             W   \n",
       "1  a1ddd113-140f-49c9-b45c-cf1b0d1dffd8     Banishing Light             W   \n",
       "2  197743cd-249c-42ba-ac8d-027c088f8418  Hieromancer's Cage             W   \n",
       "\n",
       "  colors                     setName  convertedManaCost manaCost  ...  future  \\\n",
       "0      W  Jumpstart Arena Exclusives                3.0   {2}{W}  ...   Legal   \n",
       "1      W         Theros Beyond Death                3.0   {2}{W}  ...   Legal   \n",
       "2      W               Core Set 2019                4.0   {3}{W}  ...   Blank   \n",
       "\n",
       "  historic legacy modern oldschool pauper  penny pioneer standard vintage  \n",
       "0    Legal  Legal  Legal     Blank  Blank  Legal   Legal    Legal   Legal  \n",
       "1    Legal  Legal  Legal     Blank  Blank  Legal   Legal    Legal   Legal  \n",
       "2    Legal  Legal  Legal     Blank  Blank  Blank   Legal    Blank   Legal  \n",
       "\n",
       "[3 rows x 33 columns]"
      ],
      "text/html": "<div>\n<style scoped>\n    .dataframe tbody tr th:only-of-type {\n        vertical-align: middle;\n    }\n\n    .dataframe tbody tr th {\n        vertical-align: top;\n    }\n\n    .dataframe thead th {\n        text-align: right;\n    }\n</style>\n<table border=\"1\" class=\"dataframe\">\n  <thead>\n    <tr style=\"text-align: right;\">\n      <th></th>\n      <th>Banishing_Light-AJMP</th>\n      <th>id</th>\n      <th>mtgArenaId</th>\n      <th>scryfallId</th>\n      <th>name</th>\n      <th>colorIdentity</th>\n      <th>colors</th>\n      <th>setName</th>\n      <th>convertedManaCost</th>\n      <th>manaCost</th>\n      <th>...</th>\n      <th>future</th>\n      <th>historic</th>\n      <th>legacy</th>\n      <th>modern</th>\n      <th>oldschool</th>\n      <th>pauper</th>\n      <th>penny</th>\n      <th>pioneer</th>\n      <th>standard</th>\n      <th>vintage</th>\n    </tr>\n  </thead>\n  <tbody>\n    <tr>\n      <th>0</th>\n      <td>1.000000</td>\n      <td>4756</td>\n      <td>74986.0</td>\n      <td>ca112bae-6ac5-4cdf-9e8c-1b99f7396995</td>\n      <td>Banishing Light</td>\n      <td>W</td>\n      <td>W</td>\n      <td>Jumpstart Arena Exclusives</td>\n      <td>3.0</td>\n      <td>{2}{W}</td>\n      <td>...</td>\n      <td>Legal</td>\n      <td>Legal</td>\n      <td>Legal</td>\n      <td>Legal</td>\n      <td>Blank</td>\n      <td>Blank</td>\n      <td>Legal</td>\n      <td>Legal</td>\n      <td>Legal</td>\n      <td>Legal</td>\n    </tr>\n    <tr>\n      <th>1</th>\n      <td>1.000000</td>\n      <td>49136</td>\n      <td>70515.0</td>\n      <td>a1ddd113-140f-49c9-b45c-cf1b0d1dffd8</td>\n      <td>Banishing Light</td>\n      <td>W</td>\n      <td>W</td>\n      <td>Theros Beyond Death</td>\n      <td>3.0</td>\n      <td>{2}{W}</td>\n      <td>...</td>\n      <td>Legal</td>\n      <td>Legal</td>\n      <td>Legal</td>\n      <td>Legal</td>\n      <td>Blank</td>\n      <td>Blank</td>\n      <td>Legal</td>\n      <td>Legal</td>\n      <td>Legal</td>\n      <td>Legal</td>\n    </tr>\n    <tr>\n      <th>2</th>\n      <td>0.773027</td>\n      <td>28775</td>\n      <td>67708.0</td>\n      <td>197743cd-249c-42ba-ac8d-027c088f8418</td>\n      <td>Hieromancer's Cage</td>\n      <td>W</td>\n      <td>W</td>\n      <td>Core Set 2019</td>\n      <td>4.0</td>\n      <td>{3}{W}</td>\n      <td>...</td>\n      <td>Blank</td>\n      <td>Legal</td>\n      <td>Legal</td>\n      <td>Legal</td>\n      <td>Blank</td>\n      <td>Blank</td>\n      <td>Blank</td>\n      <td>Legal</td>\n      <td>Blank</td>\n      <td>Legal</td>\n    </tr>\n  </tbody>\n</table>\n<p>3 rows × 33 columns</p>\n</div>"
     },
     "metadata": {},
     "execution_count": 149
    }
   ],
   "source": [
    "a_card.head(3)"
   ]
  },
  {
   "cell_type": "code",
   "execution_count": null,
   "metadata": {},
   "outputs": [],
   "source": []
  }
 ]
}