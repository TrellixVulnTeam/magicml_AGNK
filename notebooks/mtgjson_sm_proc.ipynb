{
 "metadata": {
  "language_info": {
   "codemirror_mode": {
    "name": "ipython",
    "version": 3
   },
   "file_extension": ".py",
   "mimetype": "text/x-python",
   "name": "python",
   "nbconvert_exporter": "python",
   "pygments_lexer": "ipython3",
   "version": "3.7.9-final"
  },
  "orig_nbformat": 2,
  "kernelspec": {
   "name": "python3",
   "display_name": "Python 3.7.9 64-bit ('magicml': conda)",
   "metadata": {
    "interpreter": {
     "hash": "d21976708c890d4f5e403de40721946a087be811acbfab0d40a467fb62beb492"
    }
   }
  }
 },
 "nbformat": 4,
 "nbformat_minor": 2,
 "cells": [
  {
   "source": [
    "# TODO  \n",
    "## Card Similarity Search  \n",
    "### Data Prep (raw card data > clean card data) \n",
    "  - ~~merge card, set, and legality data~~  \n",
    "  - ~~concat token cards (later - may not want to)~~  \n",
    "  - ensure clean  \n",
    "    - fillna, non-english issues, maybe replace symbols ({T}...) w/ text  \n",
    "  - **AWS**  \n",
    "    - ~~Load raw MTGJson from S3~~  \n",
    "    - ~~Lambda (or Glue): Prep > to S3~~  \n",
    "### Similarity (clean card data > embeddings, similarity matrix)\n",
    "  - ~~USE embeddings from card text~~  \n",
    "  - ~~explore including other card props as text (color, type, mana cost...)~~  \n",
    "  - ~~similarity matrix~~  \n",
    "  - ~~pre-sort and save each card (50K+ cards)~~  \n",
    "  - STILL NEED TO ADD SCRYFALL IMAGE URLs TO DATA PREP PIPELINE\n",
    "  - **AWS**  \n",
    "    - ~~Load clean card data from S3~~  \n",
    "    - ~~SM Processing Job: USE embeddings & similarity matrix > to S3~~  \n",
    "    - ~~Lambda: embeddings/sim_matrix from S3 > EFS~~  \n",
    "    - ~~Lambda: sort each card by similarity EFS > EFS & DynamoDB~~\n",
    "### App Backend  \n",
    "  - API accepts card name and returns topK similar cards (w/ some metadata for filtering)  \n",
    "  - **AWS**  \n",
    "    - Lambda: API queries EFS or Dynamo  \n",
    "    - StepFunctions or Lambda destinations: refresh data pipeline as needed\n",
    "### App Frontend  \n",
    "  - Home page  \n",
    "    - Search box and results  \n",
    "    - A few filters (color, type, mana cost...)  \n",
    "    - add placement  \n",
    "    - sign in (eventually)  \n",
    "### Deploy  \n",
    "  - Backend\n",
    "    - Serverless  \n",
    "    - Seed  \n",
    "  - Frontend  \n",
    "    - React  \n",
    "    - Amplify"
   ],
   "cell_type": "markdown",
   "metadata": {}
  },
  {
   "source": [
    "# Data Prep"
   ],
   "cell_type": "markdown",
   "metadata": {}
  },
  {
   "cell_type": "code",
   "execution_count": 204,
   "metadata": {},
   "outputs": [],
   "source": [
    "import os\n",
    "import json\n",
    "import numpy as np\n",
    "import pandas as pd\n",
    "\n",
    "#import tensorflow as tf\n",
    "#import tensorflow_hub as hub\n",
    "#import matplotlib.pyplot as plt"
   ]
  },
  {
   "cell_type": "code",
   "execution_count": 216,
   "metadata": {},
   "outputs": [
    {
     "output_type": "stream",
     "name": "stdout",
     "text": [
      "(55943, 74)\n33.12 MB\n"
     ]
    },
    {
     "output_type": "execute_result",
     "data": {
      "text/plain": [
       "   id        artist asciiName availability borderColor  cardKingdomFoilId  \\\n",
       "0   1  Rebecca Guay       NaN   mtgo,paper       black           123335.0   \n",
       "\n",
       "   cardKingdomId colorIdentity colorIndicator colors  ...  subtypes  \\\n",
       "0       122967.0             G            NaN      G  ...       NaN   \n",
       "\n",
       "  supertypes  tcgplayerProductId  \\\n",
       "0        NaN             15023.0   \n",
       "\n",
       "                                                text toughness         type  \\\n",
       "0  If you would draw a card, you may instead choo...       NaN  Enchantment   \n",
       "\n",
       "         types                                  uuid variations  watermark  \n",
       "0  Enchantment  38513fa0-ea83-5642-8ecd-4f0b3daa6768        NaN        NaN  \n",
       "\n",
       "[1 rows x 74 columns]"
      ],
      "text/html": "<div>\n<style scoped>\n    .dataframe tbody tr th:only-of-type {\n        vertical-align: middle;\n    }\n\n    .dataframe tbody tr th {\n        vertical-align: top;\n    }\n\n    .dataframe thead th {\n        text-align: right;\n    }\n</style>\n<table border=\"1\" class=\"dataframe\">\n  <thead>\n    <tr style=\"text-align: right;\">\n      <th></th>\n      <th>id</th>\n      <th>artist</th>\n      <th>asciiName</th>\n      <th>availability</th>\n      <th>borderColor</th>\n      <th>cardKingdomFoilId</th>\n      <th>cardKingdomId</th>\n      <th>colorIdentity</th>\n      <th>colorIndicator</th>\n      <th>colors</th>\n      <th>...</th>\n      <th>subtypes</th>\n      <th>supertypes</th>\n      <th>tcgplayerProductId</th>\n      <th>text</th>\n      <th>toughness</th>\n      <th>type</th>\n      <th>types</th>\n      <th>uuid</th>\n      <th>variations</th>\n      <th>watermark</th>\n    </tr>\n  </thead>\n  <tbody>\n    <tr>\n      <th>0</th>\n      <td>1</td>\n      <td>Rebecca Guay</td>\n      <td>NaN</td>\n      <td>mtgo,paper</td>\n      <td>black</td>\n      <td>123335.0</td>\n      <td>122967.0</td>\n      <td>G</td>\n      <td>NaN</td>\n      <td>G</td>\n      <td>...</td>\n      <td>NaN</td>\n      <td>NaN</td>\n      <td>15023.0</td>\n      <td>If you would draw a card, you may instead choo...</td>\n      <td>NaN</td>\n      <td>Enchantment</td>\n      <td>Enchantment</td>\n      <td>38513fa0-ea83-5642-8ecd-4f0b3daa6768</td>\n      <td>NaN</td>\n      <td>NaN</td>\n    </tr>\n  </tbody>\n</table>\n<p>1 rows × 74 columns</p>\n</div>"
     },
     "metadata": {},
     "execution_count": 216
    }
   ],
   "source": [
    "cards_df = pd.read_csv('../data/mtgjson/cards.csv')\\\n",
    "    .drop(columns=['index'])\n",
    "\n",
    "print(cards_df.shape)\n",
    "print('{} MB'.format(round(cards_df.memory_usage().sum()/1000000, 2)))\n",
    "cards_df.head(1)"
   ]
  },
  {
   "cell_type": "code",
   "execution_count": 217,
   "metadata": {},
   "outputs": [
    {
     "output_type": "stream",
     "name": "stdout",
     "text": [
      "(545, 2)\n0.01 MB\n"
     ]
    },
    {
     "output_type": "execute_result",
     "data": {
      "text/plain": [
       "  setCode        setName\n",
       "0     10E  Tenth Edition"
      ],
      "text/html": "<div>\n<style scoped>\n    .dataframe tbody tr th:only-of-type {\n        vertical-align: middle;\n    }\n\n    .dataframe tbody tr th {\n        vertical-align: top;\n    }\n\n    .dataframe thead th {\n        text-align: right;\n    }\n</style>\n<table border=\"1\" class=\"dataframe\">\n  <thead>\n    <tr style=\"text-align: right;\">\n      <th></th>\n      <th>setCode</th>\n      <th>setName</th>\n    </tr>\n  </thead>\n  <tbody>\n    <tr>\n      <th>0</th>\n      <td>10E</td>\n      <td>Tenth Edition</td>\n    </tr>\n  </tbody>\n</table>\n</div>"
     },
     "metadata": {},
     "execution_count": 217
    }
   ],
   "source": [
    "sets_df = pd.read_csv('../data/mtgjson/sets.csv')[['code','name']]\\\n",
    "    .rename(columns={'name': 'setName', 'code':'setCode'})\n",
    "\n",
    "print(sets_df.shape)\n",
    "print('{} MB'.format(round(sets_df.memory_usage().sum()/1000000, 2)))\n",
    "sets_df.head(1)"
   ]
  },
  {
   "cell_type": "code",
   "execution_count": 218,
   "metadata": {},
   "outputs": [
    {
     "output_type": "stream",
     "name": "stdout",
     "text": [
      "(55943, 75)\n34.01 MB\n"
     ]
    },
    {
     "output_type": "execute_result",
     "data": {
      "text/plain": [
       "   id        artist asciiName availability borderColor  cardKingdomFoilId  \\\n",
       "0   1  Rebecca Guay       NaN   mtgo,paper       black           123335.0   \n",
       "\n",
       "   cardKingdomId colorIdentity colorIndicator colors  ...  supertypes  \\\n",
       "0       122967.0             G            NaN      G  ...         NaN   \n",
       "\n",
       "  tcgplayerProductId                                               text  \\\n",
       "0            15023.0  If you would draw a card, you may instead choo...   \n",
       "\n",
       "   toughness         type        types                                  uuid  \\\n",
       "0        NaN  Enchantment  Enchantment  38513fa0-ea83-5642-8ecd-4f0b3daa6768   \n",
       "\n",
       "  variations watermark        setName  \n",
       "0        NaN       NaN  Tenth Edition  \n",
       "\n",
       "[1 rows x 75 columns]"
      ],
      "text/html": "<div>\n<style scoped>\n    .dataframe tbody tr th:only-of-type {\n        vertical-align: middle;\n    }\n\n    .dataframe tbody tr th {\n        vertical-align: top;\n    }\n\n    .dataframe thead th {\n        text-align: right;\n    }\n</style>\n<table border=\"1\" class=\"dataframe\">\n  <thead>\n    <tr style=\"text-align: right;\">\n      <th></th>\n      <th>id</th>\n      <th>artist</th>\n      <th>asciiName</th>\n      <th>availability</th>\n      <th>borderColor</th>\n      <th>cardKingdomFoilId</th>\n      <th>cardKingdomId</th>\n      <th>colorIdentity</th>\n      <th>colorIndicator</th>\n      <th>colors</th>\n      <th>...</th>\n      <th>supertypes</th>\n      <th>tcgplayerProductId</th>\n      <th>text</th>\n      <th>toughness</th>\n      <th>type</th>\n      <th>types</th>\n      <th>uuid</th>\n      <th>variations</th>\n      <th>watermark</th>\n      <th>setName</th>\n    </tr>\n  </thead>\n  <tbody>\n    <tr>\n      <th>0</th>\n      <td>1</td>\n      <td>Rebecca Guay</td>\n      <td>NaN</td>\n      <td>mtgo,paper</td>\n      <td>black</td>\n      <td>123335.0</td>\n      <td>122967.0</td>\n      <td>G</td>\n      <td>NaN</td>\n      <td>G</td>\n      <td>...</td>\n      <td>NaN</td>\n      <td>15023.0</td>\n      <td>If you would draw a card, you may instead choo...</td>\n      <td>NaN</td>\n      <td>Enchantment</td>\n      <td>Enchantment</td>\n      <td>38513fa0-ea83-5642-8ecd-4f0b3daa6768</td>\n      <td>NaN</td>\n      <td>NaN</td>\n      <td>Tenth Edition</td>\n    </tr>\n  </tbody>\n</table>\n<p>1 rows × 75 columns</p>\n</div>"
     },
     "metadata": {},
     "execution_count": 218
    }
   ],
   "source": [
    "# Merge set names into cards\n",
    "cards_df = cards_df\\\n",
    "    .merge(sets_df, how='left', on='setCode')\n",
    "\n",
    "print(cards_df.shape)\n",
    "print('{} MB'.format(round(cards_df.memory_usage().sum()/1000000, 2)))\n",
    "cards_df.head(1)"
   ]
  },
  {
   "cell_type": "code",
   "execution_count": 219,
   "metadata": {},
   "outputs": [
    {
     "output_type": "stream",
     "name": "stdout",
     "text": [
      "(54718, 14)\n6.13 MB\n"
     ]
    },
    {
     "output_type": "execute_result",
     "data": {
      "text/plain": [
       "format                                  uuid  brawl commander   duel future  \\\n",
       "0       00010d56-fe38-5e35-8aed-518019aa36a5  Blank     Legal  Legal  Blank   \n",
       "\n",
       "format historic legacy modern oldschool pauper  penny pioneer standard vintage  \n",
       "0         Blank  Legal  Legal     Blank  Blank  Blank   Legal    Blank   Legal  "
      ],
      "text/html": "<div>\n<style scoped>\n    .dataframe tbody tr th:only-of-type {\n        vertical-align: middle;\n    }\n\n    .dataframe tbody tr th {\n        vertical-align: top;\n    }\n\n    .dataframe thead th {\n        text-align: right;\n    }\n</style>\n<table border=\"1\" class=\"dataframe\">\n  <thead>\n    <tr style=\"text-align: right;\">\n      <th>format</th>\n      <th>uuid</th>\n      <th>brawl</th>\n      <th>commander</th>\n      <th>duel</th>\n      <th>future</th>\n      <th>historic</th>\n      <th>legacy</th>\n      <th>modern</th>\n      <th>oldschool</th>\n      <th>pauper</th>\n      <th>penny</th>\n      <th>pioneer</th>\n      <th>standard</th>\n      <th>vintage</th>\n    </tr>\n  </thead>\n  <tbody>\n    <tr>\n      <th>0</th>\n      <td>00010d56-fe38-5e35-8aed-518019aa36a5</td>\n      <td>Blank</td>\n      <td>Legal</td>\n      <td>Legal</td>\n      <td>Blank</td>\n      <td>Blank</td>\n      <td>Legal</td>\n      <td>Legal</td>\n      <td>Blank</td>\n      <td>Blank</td>\n      <td>Blank</td>\n      <td>Legal</td>\n      <td>Blank</td>\n      <td>Legal</td>\n    </tr>\n  </tbody>\n</table>\n</div>"
     },
     "metadata": {},
     "execution_count": 219
    }
   ],
   "source": [
    "legs_df = pd.read_csv('../data/mtgjson/legalities.csv')\\\n",
    "    .pivot(index='uuid', columns='format', values='status')\\\n",
    "    .reset_index()\\\n",
    "    .fillna('Blank')\n",
    "\n",
    "print(legs_df.shape)\n",
    "print('{} MB'.format(round(legs_df.memory_usage().sum()/1000000, 2)))\n",
    "legs_df.head(1)"
   ]
  },
  {
   "cell_type": "code",
   "execution_count": 220,
   "metadata": {},
   "outputs": [
    {
     "output_type": "stream",
     "name": "stdout",
     "text": [
      "(55943, 88)\n39.83 MB\n"
     ]
    },
    {
     "output_type": "execute_result",
     "data": {
      "text/plain": [
       "   id        artist asciiName availability borderColor  cardKingdomFoilId  \\\n",
       "0   1  Rebecca Guay       NaN   mtgo,paper       black           123335.0   \n",
       "\n",
       "   cardKingdomId colorIdentity colorIndicator colors  ...  future historic  \\\n",
       "0       122967.0             G            NaN      G  ...   Blank    Blank   \n",
       "\n",
       "   legacy  modern oldschool pauper  penny pioneer standard  vintage  \n",
       "0   Legal   Legal     Blank  Blank  Legal   Blank    Blank    Legal  \n",
       "\n",
       "[1 rows x 88 columns]"
      ],
      "text/html": "<div>\n<style scoped>\n    .dataframe tbody tr th:only-of-type {\n        vertical-align: middle;\n    }\n\n    .dataframe tbody tr th {\n        vertical-align: top;\n    }\n\n    .dataframe thead th {\n        text-align: right;\n    }\n</style>\n<table border=\"1\" class=\"dataframe\">\n  <thead>\n    <tr style=\"text-align: right;\">\n      <th></th>\n      <th>id</th>\n      <th>artist</th>\n      <th>asciiName</th>\n      <th>availability</th>\n      <th>borderColor</th>\n      <th>cardKingdomFoilId</th>\n      <th>cardKingdomId</th>\n      <th>colorIdentity</th>\n      <th>colorIndicator</th>\n      <th>colors</th>\n      <th>...</th>\n      <th>future</th>\n      <th>historic</th>\n      <th>legacy</th>\n      <th>modern</th>\n      <th>oldschool</th>\n      <th>pauper</th>\n      <th>penny</th>\n      <th>pioneer</th>\n      <th>standard</th>\n      <th>vintage</th>\n    </tr>\n  </thead>\n  <tbody>\n    <tr>\n      <th>0</th>\n      <td>1</td>\n      <td>Rebecca Guay</td>\n      <td>NaN</td>\n      <td>mtgo,paper</td>\n      <td>black</td>\n      <td>123335.0</td>\n      <td>122967.0</td>\n      <td>G</td>\n      <td>NaN</td>\n      <td>G</td>\n      <td>...</td>\n      <td>Blank</td>\n      <td>Blank</td>\n      <td>Legal</td>\n      <td>Legal</td>\n      <td>Blank</td>\n      <td>Blank</td>\n      <td>Legal</td>\n      <td>Blank</td>\n      <td>Blank</td>\n      <td>Legal</td>\n    </tr>\n  </tbody>\n</table>\n<p>1 rows × 88 columns</p>\n</div>"
     },
     "metadata": {},
     "execution_count": 220
    }
   ],
   "source": [
    "# Merge legalities into cards\n",
    "cards_df = cards_df\\\n",
    "    .merge(legs_df, how='left', on='uuid')\n",
    "\n",
    "print(cards_df.shape)\n",
    "print('{} MB'.format(round(cards_df.memory_usage().sum()/1000000, 2)))\n",
    "cards_df.head(1)"
   ]
  },
  {
   "cell_type": "code",
   "execution_count": 221,
   "metadata": {},
   "outputs": [],
   "source": [
    "def get_image_uris(row):\n",
    "    try:\n",
    "        if pd.notna(row['image_uris']):\n",
    "            return row['image_uris']\n",
    "        else:\n",
    "            return [card['image_uris'] for card in row['card_faces']]\n",
    "    except:\n",
    "        return 'Blank'"
   ]
  },
  {
   "cell_type": "code",
   "execution_count": 222,
   "metadata": {},
   "outputs": [
    {
     "output_type": "stream",
     "name": "stdout",
     "text": [
      "(5360, 2)\n0.09 MB\n"
     ]
    },
    {
     "output_type": "execute_result",
     "data": {
      "text/plain": [
       "                             scryfallId  \\\n",
       "0  0000cd57-91fe-411f-b798-646e965eec37   \n",
       "1  0001f1ef-b957-4a55-b47f-14839cdbab6f   \n",
       "2  0002ab72-834b-4c81-82b1-0d2760ea96b0   \n",
       "\n",
       "                                          image_urls  \n",
       "0  {'small': 'https://c1.scryfall.com/file/scryfa...  \n",
       "1  {'small': 'https://c1.scryfall.com/file/scryfa...  \n",
       "2  {'small': 'https://c1.scryfall.com/file/scryfa...  "
      ],
      "text/html": "<div>\n<style scoped>\n    .dataframe tbody tr th:only-of-type {\n        vertical-align: middle;\n    }\n\n    .dataframe tbody tr th {\n        vertical-align: top;\n    }\n\n    .dataframe thead th {\n        text-align: right;\n    }\n</style>\n<table border=\"1\" class=\"dataframe\">\n  <thead>\n    <tr style=\"text-align: right;\">\n      <th></th>\n      <th>scryfallId</th>\n      <th>image_urls</th>\n    </tr>\n  </thead>\n  <tbody>\n    <tr>\n      <th>0</th>\n      <td>0000cd57-91fe-411f-b798-646e965eec37</td>\n      <td>{'small': 'https://c1.scryfall.com/file/scryfa...</td>\n    </tr>\n    <tr>\n      <th>1</th>\n      <td>0001f1ef-b957-4a55-b47f-14839cdbab6f</td>\n      <td>{'small': 'https://c1.scryfall.com/file/scryfa...</td>\n    </tr>\n    <tr>\n      <th>2</th>\n      <td>0002ab72-834b-4c81-82b1-0d2760ea96b0</td>\n      <td>{'small': 'https://c1.scryfall.com/file/scryfa...</td>\n    </tr>\n  </tbody>\n</table>\n</div>"
     },
     "metadata": {},
     "execution_count": 222
    }
   ],
   "source": [
    "# Scryfall image urls\n",
    "scryfall_df = pd.read_json('../data/scryfall/cards.json')\\\n",
    "    .query('arena_id.notnull()')\\\n",
    "    [['id','image_uris','card_faces']]\\\n",
    "    .reset_index(drop=True)\\\n",
    "    .assign(image_urls=lambda df: df.apply(get_image_uris, axis=1))\\\n",
    "    .drop(columns=['image_uris','card_faces'])\\\n",
    "    .rename(columns={'id': 'scryfallId'})\n",
    "\n",
    "print(scryfall_df.shape)\n",
    "print('{} MB'.format(round(scryfall_df.memory_usage().sum()/1000000, 2)))\n",
    "scryfall_df.head(3)"
   ]
  },
  {
   "cell_type": "code",
   "execution_count": 226,
   "metadata": {},
   "outputs": [
    {
     "output_type": "stream",
     "name": "stdout",
     "text": [
      "(55943, 89)\n40.28 MB\n"
     ]
    },
    {
     "output_type": "execute_result",
     "data": {
      "text/plain": [
       "   id        artist asciiName availability borderColor  cardKingdomFoilId  \\\n",
       "0   1  Rebecca Guay       NaN   mtgo,paper       black           123335.0   \n",
       "\n",
       "   cardKingdomId colorIdentity colorIndicator colors  ...  historic legacy  \\\n",
       "0       122967.0             G            NaN      G  ...     Blank  Legal   \n",
       "\n",
       "   modern  oldschool pauper  penny pioneer standard vintage  image_urls  \n",
       "0   Legal      Blank  Blank  Legal   Blank    Blank   Legal         NaN  \n",
       "\n",
       "[1 rows x 89 columns]"
      ],
      "text/html": "<div>\n<style scoped>\n    .dataframe tbody tr th:only-of-type {\n        vertical-align: middle;\n    }\n\n    .dataframe tbody tr th {\n        vertical-align: top;\n    }\n\n    .dataframe thead th {\n        text-align: right;\n    }\n</style>\n<table border=\"1\" class=\"dataframe\">\n  <thead>\n    <tr style=\"text-align: right;\">\n      <th></th>\n      <th>id</th>\n      <th>artist</th>\n      <th>asciiName</th>\n      <th>availability</th>\n      <th>borderColor</th>\n      <th>cardKingdomFoilId</th>\n      <th>cardKingdomId</th>\n      <th>colorIdentity</th>\n      <th>colorIndicator</th>\n      <th>colors</th>\n      <th>...</th>\n      <th>historic</th>\n      <th>legacy</th>\n      <th>modern</th>\n      <th>oldschool</th>\n      <th>pauper</th>\n      <th>penny</th>\n      <th>pioneer</th>\n      <th>standard</th>\n      <th>vintage</th>\n      <th>image_urls</th>\n    </tr>\n  </thead>\n  <tbody>\n    <tr>\n      <th>0</th>\n      <td>1</td>\n      <td>Rebecca Guay</td>\n      <td>NaN</td>\n      <td>mtgo,paper</td>\n      <td>black</td>\n      <td>123335.0</td>\n      <td>122967.0</td>\n      <td>G</td>\n      <td>NaN</td>\n      <td>G</td>\n      <td>...</td>\n      <td>Blank</td>\n      <td>Legal</td>\n      <td>Legal</td>\n      <td>Blank</td>\n      <td>Blank</td>\n      <td>Legal</td>\n      <td>Blank</td>\n      <td>Blank</td>\n      <td>Legal</td>\n      <td>NaN</td>\n    </tr>\n  </tbody>\n</table>\n<p>1 rows × 89 columns</p>\n</div>"
     },
     "metadata": {},
     "execution_count": 226
    }
   ],
   "source": [
    "cards_df = cards_df\\\n",
    "    .merge(scryfall_df, how='left', on='scryfallId')\n",
    "\n",
    "print(cards_df.shape)\n",
    "print('{} MB'.format(round(cards_df.memory_usage().sum()/1000000, 2)))\n",
    "cards_df.head(1)"
   ]
  },
  {
   "cell_type": "code",
   "execution_count": 230,
   "metadata": {},
   "outputs": [],
   "source": [
    "cards_df.to_csv('cards.csv', index=False)"
   ]
  },
  {
   "source": [
    "### Handle token cards later"
   ],
   "cell_type": "markdown",
   "metadata": {}
  },
  {
   "cell_type": "code",
   "execution_count": 53,
   "metadata": {},
   "outputs": [
    {
     "output_type": "stream",
     "name": "stdout",
     "text": [
      "(1704, 45)\n0.61 MB\n"
     ]
    },
    {
     "output_type": "execute_result",
     "data": {
      "text/plain": [
       "   index  id       artist asciiName availability borderColor colorIdentity  \\\n",
       "0      0   1  Jim Pavelec       NaN        paper       black             R   \n",
       "\n",
       "  colors  edhrecRank faceName  ... side subtypes  supertypes  \\\n",
       "0      R         NaN      NaN  ...  NaN   Dragon         NaN   \n",
       "\n",
       "   tcgplayerProductId    text  toughness                     type  \\\n",
       "0             78608.0  Flying          5  Token Creature — Dragon   \n",
       "\n",
       "            types                                  uuid watermark  \n",
       "0  Token,Creature  7decf258-eb10-50da-83f7-c7eba74adbfb       NaN  \n",
       "\n",
       "[1 rows x 45 columns]"
      ],
      "text/html": "<div>\n<style scoped>\n    .dataframe tbody tr th:only-of-type {\n        vertical-align: middle;\n    }\n\n    .dataframe tbody tr th {\n        vertical-align: top;\n    }\n\n    .dataframe thead th {\n        text-align: right;\n    }\n</style>\n<table border=\"1\" class=\"dataframe\">\n  <thead>\n    <tr style=\"text-align: right;\">\n      <th></th>\n      <th>index</th>\n      <th>id</th>\n      <th>artist</th>\n      <th>asciiName</th>\n      <th>availability</th>\n      <th>borderColor</th>\n      <th>colorIdentity</th>\n      <th>colors</th>\n      <th>edhrecRank</th>\n      <th>faceName</th>\n      <th>...</th>\n      <th>side</th>\n      <th>subtypes</th>\n      <th>supertypes</th>\n      <th>tcgplayerProductId</th>\n      <th>text</th>\n      <th>toughness</th>\n      <th>type</th>\n      <th>types</th>\n      <th>uuid</th>\n      <th>watermark</th>\n    </tr>\n  </thead>\n  <tbody>\n    <tr>\n      <th>0</th>\n      <td>0</td>\n      <td>1</td>\n      <td>Jim Pavelec</td>\n      <td>NaN</td>\n      <td>paper</td>\n      <td>black</td>\n      <td>R</td>\n      <td>R</td>\n      <td>NaN</td>\n      <td>NaN</td>\n      <td>...</td>\n      <td>NaN</td>\n      <td>Dragon</td>\n      <td>NaN</td>\n      <td>78608.0</td>\n      <td>Flying</td>\n      <td>5</td>\n      <td>Token Creature — Dragon</td>\n      <td>Token,Creature</td>\n      <td>7decf258-eb10-50da-83f7-c7eba74adbfb</td>\n      <td>NaN</td>\n    </tr>\n  </tbody>\n</table>\n<p>1 rows × 45 columns</p>\n</div>"
     },
     "metadata": {},
     "execution_count": 53
    }
   ],
   "source": [
    "tokens_df = pd.read_csv('../data/mtgjson/tokens.csv')\n",
    "\n",
    "print(tokens_df.shape)\n",
    "print('{} MB'.format(round(tokens_df.memory_usage().sum()/1000000, 2)))\n",
    "tokens_df.head(1)"
   ]
  },
  {
   "cell_type": "code",
   "execution_count": 3,
   "metadata": {},
   "outputs": [
    {
     "output_type": "stream",
     "name": "stdout",
     "text": [
      "(55943, 74)\n"
     ]
    },
    {
     "output_type": "execute_result",
     "data": {
      "text/plain": [
       "   id           artist asciiName availability borderColor  cardKingdomFoilId  \\\n",
       "0   1     Rebecca Guay       NaN   mtgo,paper       black           123335.0   \n",
       "1   2  Stephen Daniele       NaN   mtgo,paper       black           123149.0   \n",
       "\n",
       "   cardKingdomId colorIdentity colorIndicator colors  ...      subtypes  \\\n",
       "0       122967.0             G            NaN      G  ...           NaN   \n",
       "1       122781.0             U            NaN      U  ...  Human,Wizard   \n",
       "\n",
       "  supertypes  tcgplayerProductId  \\\n",
       "0        NaN             15023.0   \n",
       "1        NaN             15024.0   \n",
       "\n",
       "                                                text toughness  \\\n",
       "0  If you would draw a card, you may instead choo...       NaN   \n",
       "1  When Academy Researchers enters the battlefiel...         2   \n",
       "\n",
       "                      type        types                                  uuid  \\\n",
       "0              Enchantment  Enchantment  38513fa0-ea83-5642-8ecd-4f0b3daa6768   \n",
       "1  Creature — Human Wizard     Creature  b8a68840-4044-52c0-a14e-0a1c630ba42c   \n",
       "\n",
       "  variations  watermark  \n",
       "0        NaN        NaN  \n",
       "1        NaN        NaN  \n",
       "\n",
       "[2 rows x 74 columns]"
      ],
      "text/html": "<div>\n<style scoped>\n    .dataframe tbody tr th:only-of-type {\n        vertical-align: middle;\n    }\n\n    .dataframe tbody tr th {\n        vertical-align: top;\n    }\n\n    .dataframe thead th {\n        text-align: right;\n    }\n</style>\n<table border=\"1\" class=\"dataframe\">\n  <thead>\n    <tr style=\"text-align: right;\">\n      <th></th>\n      <th>id</th>\n      <th>artist</th>\n      <th>asciiName</th>\n      <th>availability</th>\n      <th>borderColor</th>\n      <th>cardKingdomFoilId</th>\n      <th>cardKingdomId</th>\n      <th>colorIdentity</th>\n      <th>colorIndicator</th>\n      <th>colors</th>\n      <th>...</th>\n      <th>subtypes</th>\n      <th>supertypes</th>\n      <th>tcgplayerProductId</th>\n      <th>text</th>\n      <th>toughness</th>\n      <th>type</th>\n      <th>types</th>\n      <th>uuid</th>\n      <th>variations</th>\n      <th>watermark</th>\n    </tr>\n  </thead>\n  <tbody>\n    <tr>\n      <th>0</th>\n      <td>1</td>\n      <td>Rebecca Guay</td>\n      <td>NaN</td>\n      <td>mtgo,paper</td>\n      <td>black</td>\n      <td>123335.0</td>\n      <td>122967.0</td>\n      <td>G</td>\n      <td>NaN</td>\n      <td>G</td>\n      <td>...</td>\n      <td>NaN</td>\n      <td>NaN</td>\n      <td>15023.0</td>\n      <td>If you would draw a card, you may instead choo...</td>\n      <td>NaN</td>\n      <td>Enchantment</td>\n      <td>Enchantment</td>\n      <td>38513fa0-ea83-5642-8ecd-4f0b3daa6768</td>\n      <td>NaN</td>\n      <td>NaN</td>\n    </tr>\n    <tr>\n      <th>1</th>\n      <td>2</td>\n      <td>Stephen Daniele</td>\n      <td>NaN</td>\n      <td>mtgo,paper</td>\n      <td>black</td>\n      <td>123149.0</td>\n      <td>122781.0</td>\n      <td>U</td>\n      <td>NaN</td>\n      <td>U</td>\n      <td>...</td>\n      <td>Human,Wizard</td>\n      <td>NaN</td>\n      <td>15024.0</td>\n      <td>When Academy Researchers enters the battlefiel...</td>\n      <td>2</td>\n      <td>Creature — Human Wizard</td>\n      <td>Creature</td>\n      <td>b8a68840-4044-52c0-a14e-0a1c630ba42c</td>\n      <td>NaN</td>\n      <td>NaN</td>\n    </tr>\n  </tbody>\n</table>\n<p>2 rows × 74 columns</p>\n</div>"
     },
     "metadata": {},
     "execution_count": 3
    }
   ],
   "source": [
    "print(cards_df.shape)\n",
    "cards_df.head(2)"
   ]
  },
  {
   "cell_type": "code",
   "execution_count": 55,
   "metadata": {},
   "outputs": [
    {
     "output_type": "execute_result",
     "data": {
      "text/plain": [
       "Index(['id', 'artist', 'asciiName', 'availability', 'borderColor',\n",
       "       'cardKingdomFoilId', 'cardKingdomId', 'colorIdentity', 'colorIndicator',\n",
       "       'colors', 'convertedManaCost', 'duelDeck', 'edhrecRank',\n",
       "       'faceConvertedManaCost', 'faceName', 'flavorName', 'flavorText',\n",
       "       'frameEffects', 'frameVersion', 'hand', 'hasAlternativeDeckLimit',\n",
       "       'hasContentWarning', 'hasFoil', 'hasNonFoil', 'isAlternative',\n",
       "       'isFullArt', 'isOnlineOnly', 'isOversized', 'isPromo', 'isReprint',\n",
       "       'isReserved', 'isStarter', 'isStorySpotlight', 'isTextless',\n",
       "       'isTimeshifted', 'keywords', 'layout', 'leadershipSkills', 'life',\n",
       "       'loyalty', 'manaCost', 'mcmId', 'mcmMetaId', 'mtgArenaId',\n",
       "       'mtgjsonV4Id', 'mtgoFoilId', 'mtgoId', 'multiverseId', 'name', 'number',\n",
       "       'originalReleaseDate', 'originalText', 'originalType', 'otherFaceIds',\n",
       "       'power', 'printings', 'promoTypes', 'purchaseUrls', 'rarity',\n",
       "       'scryfallId', 'scryfallIllustrationId', 'scryfallOracleId', 'setCode',\n",
       "       'side', 'subtypes', 'supertypes', 'tcgplayerProductId', 'text',\n",
       "       'toughness', 'type', 'types', 'uuid', 'variations', 'watermark',\n",
       "       'setName', 'brawl', 'commander', 'duel', 'future', 'historic', 'legacy',\n",
       "       'modern', 'oldschool', 'pauper', 'penny', 'pioneer', 'standard',\n",
       "       'vintage'],\n",
       "      dtype='object')"
      ]
     },
     "metadata": {},
     "execution_count": 55
    }
   ],
   "source": [
    "cards_df.columns"
   ]
  },
  {
   "cell_type": "code",
   "execution_count": 7,
   "metadata": {},
   "outputs": [
    {
     "output_type": "execute_result",
     "data": {
      "text/plain": [
       "1971"
      ]
     },
     "metadata": {},
     "execution_count": 7
    }
   ],
   "source": [
    "cards_df.type.nunique()"
   ]
  },
  {
   "cell_type": "code",
   "execution_count": 8,
   "metadata": {},
   "outputs": [
    {
     "output_type": "execute_result",
     "data": {
      "text/plain": [
       "531"
      ]
     },
     "metadata": {},
     "execution_count": 8
    }
   ],
   "source": [
    "cards_df.setCode.nunique()"
   ]
  },
  {
   "cell_type": "code",
   "execution_count": 9,
   "metadata": {},
   "outputs": [
    {
     "output_type": "execute_result",
     "data": {
      "text/plain": [
       "33.118384"
      ]
     },
     "metadata": {},
     "execution_count": 9
    }
   ],
   "source": [
    "cards_df.memory_usage().sum()/1000000"
   ]
  },
  {
   "cell_type": "code",
   "execution_count": 56,
   "metadata": {},
   "outputs": [
    {
     "output_type": "stream",
     "name": "stdout",
     "text": [
      "id: 1\n\nartist: Rebecca Guay\n\nasciiName: nan\n\navailability: mtgo,paper\n\nborderColor: black\n\ncardKingdomFoilId: 123335.0\n\ncardKingdomId: 122967.0\n\ncolorIdentity: G\n\ncolorIndicator: nan\n\ncolors: G\n\nconvertedManaCost: 4.0\n\nduelDeck: nan\n\nedhrecRank: 1111.0\n\nfaceConvertedManaCost: nan\n\nfaceName: nan\n\nflavorName: nan\n\nflavorText: nan\n\nframeEffects: nan\n\nframeVersion: 2003\n\nhand: nan\n\nhasAlternativeDeckLimit: 0\n\nhasContentWarning: 0\n\nhasFoil: 1\n\nhasNonFoil: 1\n\nisAlternative: 0\n\nisFullArt: 0\n\nisOnlineOnly: 0\n\nisOversized: 0\n\nisPromo: 0\n\nisReprint: 1\n\nisReserved: 0\n\nisStarter: 0\n\nisStorySpotlight: 0\n\nisTextless: 0\n\nisTimeshifted: 0\n\nkeywords: nan\n\nlayout: normal\n\nleadershipSkills: nan\n\nlife: nan\n\nloyalty: nan\n\nmanaCost: {2}{G}{G}\n\nmcmId: 16413.0\n\nmcmMetaId: 19.0\n\nmtgArenaId: nan\n\nmtgjsonV4Id: 1669af17-d287-5094-b005-4b143441442f\n\nmtgoFoilId: 27283.0\n\nmtgoId: 27282.0\n\nmultiverseId: 130483.0\n\nname: Abundance\n\nnumber: 249\n\noriginalReleaseDate: nan\n\noriginalText: If you would draw a card, you may instead choose land or nonland and reveal cards from the top of your library until you reveal a card of the chosen kind. Put that card into your hand and put all other cards revealed this way on the bottom of your library in any order.\n\noriginalType: Enchantment\n\notherFaceIds: nan\n\npower: nan\n\nprintings: 10E,C17,DDR,USG,ZNC\n\npromoTypes: nan\n\npurchaseUrls: {'cardKingdom': 'https://mtgjson.com/links/be6bfd8d4a84e5ec', 'cardKingdomFoil': 'https://mtgjson.com/links/4015cfd69a1e9820', 'cardmarket': 'https://mtgjson.com/links/39cb422913cf114f', 'tcgplayer': 'https://mtgjson.com/links/6e092a03d6bbffec'}\n\nrarity: rare\n\nscryfallId: 46184f97-d5c9-4a98-9fd9-e19057ce9b7e\n\nscryfallIllustrationId: 4be12219-df08-4a40-b32f-69737db62615\n\nscryfallOracleId: eccc9a54-2b56-4a02-9926-258d5b2e25fb\n\nsetCode: 10E\n\nside: nan\n\nsubtypes: nan\n\nsupertypes: nan\n\ntcgplayerProductId: 15023.0\n\ntext: If you would draw a card, you may instead choose land or nonland and reveal cards from the top of your library until you reveal a card of the chosen kind. Put that card into your hand and put all other cards revealed this way on the bottom of your library in any order.\n\ntoughness: nan\n\ntype: Enchantment\n\ntypes: Enchantment\n\nuuid: 38513fa0-ea83-5642-8ecd-4f0b3daa6768\n\nvariations: nan\n\nwatermark: nan\n\nsetName: Tenth Edition\n\nbrawl: Blank\n\ncommander: Legal\n\nduel: Legal\n\nfuture: Blank\n\nhistoric: Blank\n\nlegacy: Legal\n\nmodern: Legal\n\noldschool: Blank\n\npauper: Blank\n\npenny: Legal\n\npioneer: Blank\n\nstandard: Blank\n\nvintage: Legal\n\n"
     ]
    }
   ],
   "source": [
    "for col in cards_df.columns:\n",
    "    print(col + ': ' + str(cards_df[col][0]) + '\\n')"
   ]
  },
  {
   "source": [
    "# Download and Store USE Model from TFHub"
   ],
   "cell_type": "markdown",
   "metadata": {}
  },
  {
   "cell_type": "code",
   "execution_count": 5,
   "metadata": {},
   "outputs": [
    {
     "output_type": "stream",
     "name": "stdout",
     "text": [
      "module https://tfhub.dev/google/universal-sentence-encoder-large/5 loaded\n"
     ]
    }
   ],
   "source": [
    "module_url = 'https://tfhub.dev/google/universal-sentence-encoder-large/5'\n",
    "model = hub.load(module_url)\n",
    "print (\"module %s loaded\" % module_url)"
   ]
  },
  {
   "source": [
    "## Saved the downloaded USE-Large model"
   ],
   "cell_type": "markdown",
   "metadata": {}
  },
  {
   "cell_type": "code",
   "execution_count": 2,
   "metadata": {},
   "outputs": [
    {
     "output_type": "error",
     "ename": "NameError",
     "evalue": "name 'model' is not defined",
     "traceback": [
      "\u001b[1;31m---------------------------------------------------------------------------\u001b[0m",
      "\u001b[1;31mNameError\u001b[0m                                 Traceback (most recent call last)",
      "\u001b[1;32m<ipython-input-2-a12f0001efb1>\u001b[0m in \u001b[0;36m<module>\u001b[1;34m\u001b[0m\n\u001b[1;32m----> 1\u001b[1;33m \u001b[0mtf\u001b[0m\u001b[1;33m.\u001b[0m\u001b[0msaved_model\u001b[0m\u001b[1;33m.\u001b[0m\u001b[0msave\u001b[0m\u001b[1;33m(\u001b[0m\u001b[0mmodel\u001b[0m\u001b[1;33m,\u001b[0m \u001b[1;34m\"../models/use-large\"\u001b[0m\u001b[1;33m)\u001b[0m\u001b[1;33m\u001b[0m\u001b[1;33m\u001b[0m\u001b[0m\n\u001b[0m",
      "\u001b[1;31mNameError\u001b[0m: name 'model' is not defined"
     ]
    }
   ],
   "source": [
    "tf.saved_model.save(model, \"../models/use-large\")"
   ]
  },
  {
   "source": [
    "## Load USE-Large from local disk"
   ],
   "cell_type": "markdown",
   "metadata": {}
  },
  {
   "cell_type": "code",
   "execution_count": 30,
   "metadata": {},
   "outputs": [],
   "source": [
    "import tensorflow as tf"
   ]
  },
  {
   "cell_type": "code",
   "execution_count": 31,
   "metadata": {},
   "outputs": [],
   "source": [
    "use_embed = tf.saved_model.load('../models/use-large/1')"
   ]
  },
  {
   "cell_type": "code",
   "execution_count": 27,
   "metadata": {},
   "outputs": [],
   "source": [
    "for local_path in model_files:\n",
    "    s3_key = '/'.join(str(local_path).split('\\\\')[2:])\n",
    "    if '.' in s3_key:\n",
    "        s3.upload_file(str(local_path), 'magicml-models.dev', s3_key)"
   ]
  },
  {
   "source": [
    "***\n",
    "# Get USE Embeddings"
   ],
   "cell_type": "markdown",
   "metadata": {}
  },
  {
   "cell_type": "code",
   "execution_count": 70,
   "metadata": {},
   "outputs": [
    {
     "output_type": "stream",
     "name": "stdout",
     "text": [
      "(5, 5)\n"
     ]
    }
   ],
   "source": [
    "corr = np.inner(embeddings, embeddings)\n",
    "print(corr.shape)"
   ]
  },
  {
   "cell_type": "code",
   "execution_count": 72,
   "metadata": {},
   "outputs": [],
   "source": [
    "import plotly.express as px"
   ]
  },
  {
   "cell_type": "code",
   "execution_count": 73,
   "metadata": {},
   "outputs": [
    {
     "output_type": "error",
     "ename": "NameError",
     "evalue": "name 'arena_name' is not defined",
     "traceback": [
      "\u001b[1;31m---------------------------------------------------------------------------\u001b[0m",
      "\u001b[1;31mNameError\u001b[0m                                 Traceback (most recent call last)",
      "\u001b[1;32m<ipython-input-73-fab3a43054c8>\u001b[0m in \u001b[0;36m<module>\u001b[1;34m\u001b[0m\n\u001b[1;32m----> 1\u001b[1;33m \u001b[0mcard_df\u001b[0m \u001b[1;33m=\u001b[0m \u001b[0mpd\u001b[0m\u001b[1;33m.\u001b[0m\u001b[0mDataFrame\u001b[0m\u001b[1;33m(\u001b[0m\u001b[0mcorr\u001b[0m\u001b[1;33m,\u001b[0m \u001b[0mcolumns\u001b[0m\u001b[1;33m=\u001b[0m\u001b[0marena_name\u001b[0m\u001b[1;33m,\u001b[0m \u001b[0mindex\u001b[0m\u001b[1;33m=\u001b[0m\u001b[0marena_name\u001b[0m\u001b[1;33m)\u001b[0m\u001b[1;33m\u001b[0m\u001b[1;33m\u001b[0m\u001b[0m\n\u001b[0m\u001b[0;32m      2\u001b[0m \u001b[0mcard_df\u001b[0m\u001b[1;33m.\u001b[0m\u001b[0mhead\u001b[0m\u001b[1;33m(\u001b[0m\u001b[1;33m)\u001b[0m\u001b[1;33m\u001b[0m\u001b[1;33m\u001b[0m\u001b[0m\n",
      "\u001b[1;31mNameError\u001b[0m: name 'arena_name' is not defined"
     ]
    }
   ],
   "source": [
    "card_df = pd.DataFrame(corr, columns=arena_name, index=arena_name)\n",
    "card_df.head()"
   ]
  },
  {
   "cell_type": "code",
   "execution_count": 107,
   "metadata": {},
   "outputs": [
    {
     "output_type": "execute_result",
     "data": {
      "text/plain": [
       "'Golos,_Tireless_Pilgrim'"
      ]
     },
     "metadata": {},
     "execution_count": 107
    }
   ],
   "source": [
    "test_card = 'Golos,_Tireless_Pilgrim'\n",
    "test_card"
   ]
  },
  {
   "cell_type": "code",
   "execution_count": 106,
   "metadata": {},
   "outputs": [
    {
     "output_type": "execute_result",
     "data": {
      "text/plain": [
       "['Golos,_Tireless_Pilgrim']"
      ]
     },
     "metadata": {},
     "execution_count": 106
    }
   ],
   "source": [
    "[card for card in card_df.columns if card.startswith('Golos')]"
   ]
  },
  {
   "cell_type": "code",
   "execution_count": 108,
   "metadata": {},
   "outputs": [
    {
     "output_type": "execute_result",
     "data": {
      "text/plain": [
       "      Golos,_Tireless_Pilgrim\n",
       "3059                 1.000000\n",
       "1687                 0.805584\n",
       "1583                 0.801413\n",
       "2606                 0.798853\n",
       "835                  0.796900\n",
       "...                       ...\n",
       "5170                -0.020036\n",
       "3215                -0.020036\n",
       "5212                -0.041830\n",
       "4441                -0.041830\n",
       "5055                -0.041830\n",
       "\n",
       "[5419 rows x 1 columns]"
      ],
      "text/html": "<div>\n<style scoped>\n    .dataframe tbody tr th:only-of-type {\n        vertical-align: middle;\n    }\n\n    .dataframe tbody tr th {\n        vertical-align: top;\n    }\n\n    .dataframe thead th {\n        text-align: right;\n    }\n</style>\n<table border=\"1\" class=\"dataframe\">\n  <thead>\n    <tr style=\"text-align: right;\">\n      <th></th>\n      <th>Golos,_Tireless_Pilgrim</th>\n    </tr>\n  </thead>\n  <tbody>\n    <tr>\n      <th>3059</th>\n      <td>1.000000</td>\n    </tr>\n    <tr>\n      <th>1687</th>\n      <td>0.805584</td>\n    </tr>\n    <tr>\n      <th>1583</th>\n      <td>0.801413</td>\n    </tr>\n    <tr>\n      <th>2606</th>\n      <td>0.798853</td>\n    </tr>\n    <tr>\n      <th>835</th>\n      <td>0.796900</td>\n    </tr>\n    <tr>\n      <th>...</th>\n      <td>...</td>\n    </tr>\n    <tr>\n      <th>5170</th>\n      <td>-0.020036</td>\n    </tr>\n    <tr>\n      <th>3215</th>\n      <td>-0.020036</td>\n    </tr>\n    <tr>\n      <th>5212</th>\n      <td>-0.041830</td>\n    </tr>\n    <tr>\n      <th>4441</th>\n      <td>-0.041830</td>\n    </tr>\n    <tr>\n      <th>5055</th>\n      <td>-0.041830</td>\n    </tr>\n  </tbody>\n</table>\n<p>5419 rows × 1 columns</p>\n</div>"
     },
     "metadata": {},
     "execution_count": 108
    }
   ],
   "source": [
    "card_df[[test_card]].sort_values(by=test_card, ascending=False)"
   ]
  },
  {
   "cell_type": "code",
   "execution_count": 109,
   "metadata": {},
   "outputs": [
    {
     "output_type": "execute_result",
     "data": {
      "text/plain": [
       "array(['When Golos, Tireless Pilgrim enters the battlefield, you may search your library for a land card, put that card onto the battlefield tapped, then shuffle your library.\\n{2}{W}{U}{B}{R}{G}: Exile the top three cards of your library. You may play them this turn without paying their mana costs.'],\n",
       "      dtype=object)"
      ]
     },
     "metadata": {},
     "execution_count": 109
    }
   ],
   "source": [
    "test_card = test_card.replace('_',' ')\n",
    "arena_df.query('name == @test_card').text.values"
   ]
  },
  {
   "cell_type": "code",
   "execution_count": 112,
   "metadata": {},
   "outputs": [
    {
     "output_type": "execute_result",
     "data": {
      "text/plain": [
       "'Emergent Ultimatum'"
      ]
     },
     "metadata": {},
     "execution_count": 112
    }
   ],
   "source": [
    "test_name = arena_name[1583].replace('_',' ')\n",
    "test_name"
   ]
  },
  {
   "cell_type": "code",
   "execution_count": 113,
   "metadata": {},
   "outputs": [
    {
     "output_type": "execute_result",
     "data": {
      "text/plain": [
       "array(['Search your library for up to three monocolored cards with different names and exile them. An opponent chooses one of those cards. Shuffle that card into your library. You may cast the other cards without paying their mana costs. Exile Emergent Ultimatum.'],\n",
       "      dtype=object)"
      ]
     },
     "metadata": {},
     "execution_count": 113
    }
   ],
   "source": [
    "arena_df.query('name == @test_name').text.values"
   ]
  },
  {
   "cell_type": "code",
   "execution_count": null,
   "metadata": {},
   "outputs": [],
   "source": []
  },
  {
   "cell_type": "code",
   "execution_count": null,
   "metadata": {},
   "outputs": [],
   "source": []
  },
  {
   "cell_type": "code",
   "execution_count": null,
   "metadata": {},
   "outputs": [],
   "source": []
  },
  {
   "source": [
    "# Sagemaker Processing Workflow"
   ],
   "cell_type": "markdown",
   "metadata": {}
  },
  {
   "cell_type": "code",
   "execution_count": 6,
   "metadata": {},
   "outputs": [],
   "source": [
    "import os\n",
    "import pathlib\n",
    "import boto3\n",
    "from boto3.session import Session\n",
    "\n",
    "def aws_connect(service, profile='default', session=False):\n",
    "    # Connect to AWS with IAM Role\n",
    "    sess = Session(profile_name=profile)\n",
    "\n",
    "    try:\n",
    "        resource = sess.resource(service)\n",
    "        client = resource.meta.client\n",
    "\n",
    "        if session:\n",
    "            return resource, client, sess\n",
    "        else:\n",
    "            return resource, client\n",
    "    except:\n",
    "        client = sess.client(service)\n",
    "\n",
    "        if session:\n",
    "            return client, sess\n",
    "        else:\n",
    "            return client"
   ]
  },
  {
   "cell_type": "code",
   "execution_count": 7,
   "metadata": {},
   "outputs": [],
   "source": [
    "_, s3, boto_sess = aws_connect('s3', 'lw2134', session=True)"
   ]
  },
  {
   "cell_type": "code",
   "execution_count": null,
   "metadata": {},
   "outputs": [],
   "source": [
    "# Tar the model.tar.gz package\n",
    "# from models/use-large directory\n",
    "'tar -czvf model.tar.gz 1'"
   ]
  },
  {
   "cell_type": "code",
   "execution_count": 40,
   "metadata": {},
   "outputs": [],
   "source": [
    "## SM Processing Job"
   ]
  },
  {
   "cell_type": "code",
   "execution_count": 33,
   "metadata": {},
   "outputs": [],
   "source": [
    "import os\n",
    "import boto3\n",
    "#import sagemaker\n",
    "#from sagemaker.processing import ScriptProcessor, ProcessingInput, ProcessingOutput"
   ]
  },
  {
   "cell_type": "code",
   "execution_count": 138,
   "metadata": {},
   "outputs": [],
   "source": [
    "_, s3, boto_sess = aws_connect('s3', 'lw2134', session=True)\n",
    "sm_client = boto_sess.client('sagemaker')"
   ]
  },
  {
   "cell_type": "code",
   "execution_count": 21,
   "metadata": {},
   "outputs": [],
   "source": [
    "#sagemaker_session = sagemaker.Session(boto_session=boto_sess)\n",
    "role = 'arn:aws:iam::553371509391:role/magicml-sagemaker'\n",
    "image_uri = '763104351884.dkr.ecr.us-east-1.amazonaws.com/tensorflow-training:2.3.1-cpu-py37-ubuntu18.04'\n",
    "\n",
    "model_bucket = 'magicml-models.dev'\n",
    "model_prefix = 'use-large'\n",
    "model_data = 's3://{}/{}/model.tar.gz'.format(model_bucket, model_prefix)\n",
    "\n",
    "input_bucket = 'magicml-clean-data.dev'\n",
    "input_prefix = 'cards'\n",
    "input_data = 's3://{}/{}/cards.csv'.format(input_bucket, input_prefix)\n",
    "\n",
    "src_bucket = 'magicml-src.dev'\n",
    "src_prefix = 'sm_processing'\n",
    "src_code = 's3://{}/{}/process_embeddings.py'.format(src_bucket, src_prefix)\n",
    "\n",
    "output_bucket = 'magicml-inference.dev'\n",
    "output_prefix = 'use-large'\n",
    "output_data = 's3://{}/{}'.format(output_bucket, output_prefix)"
   ]
  },
  {
   "cell_type": "code",
   "execution_count": 18,
   "metadata": {},
   "outputs": [],
   "source": [
    "s3.upload_file('../services/similarity/src/process_embeddings.py', 'magicml-src.dev', 'sm_processing/process_embeddings.py')"
   ]
  },
  {
   "cell_type": "code",
   "execution_count": 24,
   "metadata": {},
   "outputs": [],
   "source": [
    "import datetime"
   ]
  },
  {
   "cell_type": "code",
   "execution_count": 30,
   "metadata": {},
   "outputs": [
    {
     "output_type": "execute_result",
     "data": {
      "text/plain": [
       "'2020-25-12-01-48-25'"
      ]
     },
     "metadata": {},
     "execution_count": 30
    }
   ],
   "source": [
    "now = datetime.datetime.now().strftime(format='%Y-%d-%m-%H-%M-%S')\n",
    "now"
   ]
  },
  {
   "cell_type": "code",
   "execution_count": 31,
   "metadata": {},
   "outputs": [
    {
     "output_type": "execute_result",
     "data": {
      "text/plain": [
       "{'ProcessingJobArn': 'arn:aws:sagemaker:us-east-1:553371509391:processing-job/use-large-embeddings-2020-25-12-01-48-25',\n",
       " 'ResponseMetadata': {'RequestId': 'd6479411-03f0-4e78-b0ff-b5575e855867',\n",
       "  'HTTPStatusCode': 200,\n",
       "  'HTTPHeaders': {'x-amzn-requestid': 'd6479411-03f0-4e78-b0ff-b5575e855867',\n",
       "   'content-type': 'application/x-amz-json-1.1',\n",
       "   'content-length': '119',\n",
       "   'date': 'Fri, 25 Dec 2020 06:48:13 GMT'},\n",
       "  'RetryAttempts': 0}}"
      ]
     },
     "metadata": {},
     "execution_count": 31
    }
   ],
   "source": [
    "sm_client.create_processing_job(\n",
    "    ProcessingJobName='use-large-embeddings-{}'.format(now),\n",
    "    RoleArn=role,\n",
    "    StoppingCondition={\n",
    "        'MaxRuntimeInSeconds': 7200\n",
    "    },\n",
    "    AppSpecification={\n",
    "        'ImageUri': image_uri,\n",
    "        'ContainerEntrypoint': [\n",
    "            'python3',\n",
    "            '-v',\n",
    "            '/opt/ml/processing/input/code/process_embeddings.py'\n",
    "        ]\n",
    "    },\n",
    "    ProcessingResources={\n",
    "        'ClusterConfig': {\n",
    "            'InstanceCount': 1,\n",
    "            'InstanceType': 'ml.m5.2xlarge',\n",
    "            'VolumeSizeInGB': 30\n",
    "        }\n",
    "    },\n",
    "    ProcessingInputs=[\n",
    "        {\n",
    "            'InputName': 'model',\n",
    "            'S3Input': {\n",
    "                'S3Uri': model_data,\n",
    "                'LocalPath': '/opt/ml/processing/model',\n",
    "                'S3DataType': 'S3Prefix',\n",
    "                'S3InputMode': 'File',\n",
    "                'S3DataDistributionType': 'FullyReplicated'\n",
    "            }\n",
    "        },\n",
    "        {\n",
    "            'InputName': 'cards',\n",
    "            'S3Input': {\n",
    "                'S3Uri': input_data,\n",
    "                'LocalPath': '/opt/ml/processing/input',\n",
    "                'S3DataType': 'S3Prefix',\n",
    "                'S3InputMode': 'File',\n",
    "                'S3DataDistributionType': 'FullyReplicated',\n",
    "            }\n",
    "        },\n",
    "        {\n",
    "            'InputName': 'code',\n",
    "            'S3Input': {\n",
    "                'S3Uri': src_code,\n",
    "                'LocalPath': '/opt/ml/processing/input/code',\n",
    "                'S3DataType': 'S3Prefix',\n",
    "                'S3InputMode': 'File',\n",
    "                'S3DataDistributionType': 'FullyReplicated'\n",
    "            }\n",
    "        }\n",
    "    ],\n",
    "    ProcessingOutputConfig={\n",
    "        'Outputs': [\n",
    "            {\n",
    "                'OutputName': 'embeddings',\n",
    "                'S3Output': {\n",
    "                    'S3Uri': output_data,\n",
    "                    'LocalPath': '/opt/ml/processing/output',\n",
    "                    'S3UploadMode': 'EndOfJob'\n",
    "                }\n",
    "            }\n",
    "        ]\n",
    "    }\n",
    ")"
   ]
  },
  {
   "source": [
    "# Stage in Lambda - Sort, Merge, and Save in EFS"
   ],
   "cell_type": "markdown",
   "metadata": {}
  },
  {
   "cell_type": "code",
   "execution_count": 9,
   "metadata": {},
   "outputs": [],
   "source": [
    "import pandas as pd"
   ]
  },
  {
   "cell_type": "code",
   "execution_count": 35,
   "metadata": {},
   "outputs": [],
   "source": [
    "s3.download_file('magicml-inference.dev', 'use-large/arena_embeddings.csv', 'embeddings.csv')"
   ]
  },
  {
   "cell_type": "code",
   "execution_count": 112,
   "metadata": {},
   "outputs": [
    {
     "output_type": "stream",
     "name": "stdout",
     "text": [
      "(5419, 5420)\n"
     ]
    },
    {
     "output_type": "execute_result",
     "data": {
      "text/plain": [
       "                        Names  Archon_of_Sun's_Grace-AJMP  \\\n",
       "0  Archon_of_Sun's_Grace-AJMP                    1.000000   \n",
       "1        Audacious_Thief-AJMP                    0.388027   \n",
       "2        Banishing_Light-AJMP                    0.540133   \n",
       "\n",
       "   Audacious_Thief-AJMP  Banishing_Light-AJMP  Bond_of_Revival-AJMP  \\\n",
       "0              0.388027              0.540133              0.626441   \n",
       "1              1.000000              0.364457              0.447599   \n",
       "2              0.364457              1.000000              0.583114   \n",
       "\n",
       "   Carnifex_Demon-AJMP  Doomed_Necromancer-AJMP  Dryad_Greenseeker-AJMP  \\\n",
       "0             0.514713                 0.497357                0.414993   \n",
       "1             0.297466                 0.377156                0.339213   \n",
       "2             0.458850                 0.504666                0.293982   \n",
       "\n",
       "   Fanatic_of_Mogis-AJMP  Gadwick,_the_Wizened-AJMP  ...  \\\n",
       "0               0.587006                   0.667408  ...   \n",
       "1               0.379261                   0.452389  ...   \n",
       "2               0.581624                   0.707415  ...   \n",
       "\n",
       "   Veteran_Adventurer-ZNR  Vine_Gecko-ZNR  Wayward_Guide-Beast-ZNR  \\\n",
       "0                0.372712        0.545192                 0.698247   \n",
       "1                0.386959        0.421869                 0.409473   \n",
       "2                0.250604        0.421688                 0.535110   \n",
       "\n",
       "   Windrider_Wizard-ZNR  Yasharn,_Implacable_Earth-ZNR  \\\n",
       "0              0.554204                       0.654834   \n",
       "1              0.473218                       0.464308   \n",
       "2              0.520927                       0.534659   \n",
       "\n",
       "   Zagras,_Thief_of_Heartbeats-ZNR  Zareth_San,_the_Trickster-ZNR  \\\n",
       "0                         0.693039                       0.552945   \n",
       "1                         0.392080                       0.448119   \n",
       "2                         0.525378                       0.570414   \n",
       "\n",
       "   Zof_Consumption_II_Zof_Bloodbog-ZNR  Zof_Consumption_II_Zof_Bloodbog-ZNR.1  \\\n",
       "0                             0.199106                               0.365390   \n",
       "1                             0.156082                               0.608094   \n",
       "2                             0.242288                               0.342716   \n",
       "\n",
       "   Zulaport_Duelist-ZNR  \n",
       "0              0.576490  \n",
       "1              0.399204  \n",
       "2              0.529742  \n",
       "\n",
       "[3 rows x 5420 columns]"
      ],
      "text/html": "<div>\n<style scoped>\n    .dataframe tbody tr th:only-of-type {\n        vertical-align: middle;\n    }\n\n    .dataframe tbody tr th {\n        vertical-align: top;\n    }\n\n    .dataframe thead th {\n        text-align: right;\n    }\n</style>\n<table border=\"1\" class=\"dataframe\">\n  <thead>\n    <tr style=\"text-align: right;\">\n      <th></th>\n      <th>Names</th>\n      <th>Archon_of_Sun's_Grace-AJMP</th>\n      <th>Audacious_Thief-AJMP</th>\n      <th>Banishing_Light-AJMP</th>\n      <th>Bond_of_Revival-AJMP</th>\n      <th>Carnifex_Demon-AJMP</th>\n      <th>Doomed_Necromancer-AJMP</th>\n      <th>Dryad_Greenseeker-AJMP</th>\n      <th>Fanatic_of_Mogis-AJMP</th>\n      <th>Gadwick,_the_Wizened-AJMP</th>\n      <th>...</th>\n      <th>Veteran_Adventurer-ZNR</th>\n      <th>Vine_Gecko-ZNR</th>\n      <th>Wayward_Guide-Beast-ZNR</th>\n      <th>Windrider_Wizard-ZNR</th>\n      <th>Yasharn,_Implacable_Earth-ZNR</th>\n      <th>Zagras,_Thief_of_Heartbeats-ZNR</th>\n      <th>Zareth_San,_the_Trickster-ZNR</th>\n      <th>Zof_Consumption_II_Zof_Bloodbog-ZNR</th>\n      <th>Zof_Consumption_II_Zof_Bloodbog-ZNR.1</th>\n      <th>Zulaport_Duelist-ZNR</th>\n    </tr>\n  </thead>\n  <tbody>\n    <tr>\n      <th>0</th>\n      <td>Archon_of_Sun's_Grace-AJMP</td>\n      <td>1.000000</td>\n      <td>0.388027</td>\n      <td>0.540133</td>\n      <td>0.626441</td>\n      <td>0.514713</td>\n      <td>0.497357</td>\n      <td>0.414993</td>\n      <td>0.587006</td>\n      <td>0.667408</td>\n      <td>...</td>\n      <td>0.372712</td>\n      <td>0.545192</td>\n      <td>0.698247</td>\n      <td>0.554204</td>\n      <td>0.654834</td>\n      <td>0.693039</td>\n      <td>0.552945</td>\n      <td>0.199106</td>\n      <td>0.365390</td>\n      <td>0.576490</td>\n    </tr>\n    <tr>\n      <th>1</th>\n      <td>Audacious_Thief-AJMP</td>\n      <td>0.388027</td>\n      <td>1.000000</td>\n      <td>0.364457</td>\n      <td>0.447599</td>\n      <td>0.297466</td>\n      <td>0.377156</td>\n      <td>0.339213</td>\n      <td>0.379261</td>\n      <td>0.452389</td>\n      <td>...</td>\n      <td>0.386959</td>\n      <td>0.421869</td>\n      <td>0.409473</td>\n      <td>0.473218</td>\n      <td>0.464308</td>\n      <td>0.392080</td>\n      <td>0.448119</td>\n      <td>0.156082</td>\n      <td>0.608094</td>\n      <td>0.399204</td>\n    </tr>\n    <tr>\n      <th>2</th>\n      <td>Banishing_Light-AJMP</td>\n      <td>0.540133</td>\n      <td>0.364457</td>\n      <td>1.000000</td>\n      <td>0.583114</td>\n      <td>0.458850</td>\n      <td>0.504666</td>\n      <td>0.293982</td>\n      <td>0.581624</td>\n      <td>0.707415</td>\n      <td>...</td>\n      <td>0.250604</td>\n      <td>0.421688</td>\n      <td>0.535110</td>\n      <td>0.520927</td>\n      <td>0.534659</td>\n      <td>0.525378</td>\n      <td>0.570414</td>\n      <td>0.242288</td>\n      <td>0.342716</td>\n      <td>0.529742</td>\n    </tr>\n  </tbody>\n</table>\n<p>3 rows × 5420 columns</p>\n</div>"
     },
     "metadata": {},
     "execution_count": 112
    }
   ],
   "source": [
    "pred_df = pd.read_csv('embeddings.csv')\\\n",
    "    .rename(columns={'Unnamed: 0': 'Names'})\n",
    "\n",
    "print(pred_df.shape)\n",
    "pred_df.head(3)"
   ]
  },
  {
   "cell_type": "code",
   "execution_count": 114,
   "metadata": {},
   "outputs": [
    {
     "output_type": "execute_result",
     "data": {
      "text/plain": [
       "5420"
      ]
     },
     "metadata": {},
     "execution_count": 114
    }
   ],
   "source": [
    "pred_df.columns.nunique()"
   ]
  },
  {
   "cell_type": "code",
   "execution_count": 119,
   "metadata": {},
   "outputs": [
    {
     "output_type": "execute_result",
     "data": {
      "text/plain": [
       "4875"
      ]
     },
     "metadata": {},
     "execution_count": 119
    }
   ],
   "source": [
    "cards_df.Names.nunique()"
   ]
  },
  {
   "cell_type": "code",
   "execution_count": 120,
   "metadata": {},
   "outputs": [
    {
     "output_type": "execute_result",
     "data": {
      "text/plain": [
       "5283"
      ]
     },
     "metadata": {},
     "execution_count": 120
    }
   ],
   "source": [
    "cards_df.scryfallId.nunique()"
   ]
  },
  {
   "cell_type": "code",
   "execution_count": 129,
   "metadata": {},
   "outputs": [
    {
     "output_type": "execute_result",
     "data": {
      "text/plain": [
       "5419"
      ]
     },
     "metadata": {},
     "execution_count": 129
    }
   ],
   "source": [
    "cards_df.id.nunique()"
   ]
  },
  {
   "cell_type": "code",
   "execution_count": 118,
   "metadata": {},
   "outputs": [
    {
     "output_type": "execute_result",
     "data": {
      "text/plain": [
       "                                     Names     id  mtgArenaId  \\\n",
       "55940  Zof_Consumption_II_Zof_Bloodbog-ZNR  55941     73331.0   \n",
       "55941  Zof_Consumption_II_Zof_Bloodbog-ZNR  55942     73331.0   \n",
       "\n",
       "                                 scryfallId                             name  \\\n",
       "55940  98496d5b-1519-4f0c-8b46-0a43be643dfb  Zof Consumption // Zof Bloodbog   \n",
       "55941  98496d5b-1519-4f0c-8b46-0a43be643dfb  Zof Consumption // Zof Bloodbog   \n",
       "\n",
       "      colors          setName  convertedManaCost   manaCost loyalty  ...  \\\n",
       "55940      0  Zendikar Rising                6.0          0       0  ...   \n",
       "55941      B  Zendikar Rising                6.0  {4}{B}{B}       0  ...   \n",
       "\n",
       "      future historic legacy modern oldschool pauper  penny pioneer standard  \\\n",
       "55940  Legal    Legal  Legal  Legal     Blank  Blank  Legal   Legal    Legal   \n",
       "55941  Legal    Legal  Legal  Legal     Blank  Blank  Legal   Legal    Legal   \n",
       "\n",
       "      vintage  \n",
       "55940   Legal  \n",
       "55941   Legal  \n",
       "\n",
       "[2 rows x 29 columns]"
      ],
      "text/html": "<div>\n<style scoped>\n    .dataframe tbody tr th:only-of-type {\n        vertical-align: middle;\n    }\n\n    .dataframe tbody tr th {\n        vertical-align: top;\n    }\n\n    .dataframe thead th {\n        text-align: right;\n    }\n</style>\n<table border=\"1\" class=\"dataframe\">\n  <thead>\n    <tr style=\"text-align: right;\">\n      <th></th>\n      <th>Names</th>\n      <th>id</th>\n      <th>mtgArenaId</th>\n      <th>scryfallId</th>\n      <th>name</th>\n      <th>colors</th>\n      <th>setName</th>\n      <th>convertedManaCost</th>\n      <th>manaCost</th>\n      <th>loyalty</th>\n      <th>...</th>\n      <th>future</th>\n      <th>historic</th>\n      <th>legacy</th>\n      <th>modern</th>\n      <th>oldschool</th>\n      <th>pauper</th>\n      <th>penny</th>\n      <th>pioneer</th>\n      <th>standard</th>\n      <th>vintage</th>\n    </tr>\n  </thead>\n  <tbody>\n    <tr>\n      <th>55940</th>\n      <td>Zof_Consumption_II_Zof_Bloodbog-ZNR</td>\n      <td>55941</td>\n      <td>73331.0</td>\n      <td>98496d5b-1519-4f0c-8b46-0a43be643dfb</td>\n      <td>Zof Consumption // Zof Bloodbog</td>\n      <td>0</td>\n      <td>Zendikar Rising</td>\n      <td>6.0</td>\n      <td>0</td>\n      <td>0</td>\n      <td>...</td>\n      <td>Legal</td>\n      <td>Legal</td>\n      <td>Legal</td>\n      <td>Legal</td>\n      <td>Blank</td>\n      <td>Blank</td>\n      <td>Legal</td>\n      <td>Legal</td>\n      <td>Legal</td>\n      <td>Legal</td>\n    </tr>\n    <tr>\n      <th>55941</th>\n      <td>Zof_Consumption_II_Zof_Bloodbog-ZNR</td>\n      <td>55942</td>\n      <td>73331.0</td>\n      <td>98496d5b-1519-4f0c-8b46-0a43be643dfb</td>\n      <td>Zof Consumption // Zof Bloodbog</td>\n      <td>B</td>\n      <td>Zendikar Rising</td>\n      <td>6.0</td>\n      <td>{4}{B}{B}</td>\n      <td>0</td>\n      <td>...</td>\n      <td>Legal</td>\n      <td>Legal</td>\n      <td>Legal</td>\n      <td>Legal</td>\n      <td>Blank</td>\n      <td>Blank</td>\n      <td>Legal</td>\n      <td>Legal</td>\n      <td>Legal</td>\n      <td>Legal</td>\n    </tr>\n  </tbody>\n</table>\n<p>2 rows × 29 columns</p>\n</div>"
     },
     "metadata": {},
     "execution_count": 118
    }
   ],
   "source": [
    "cards_df.query('Names == \"Zof_Consumption_II_Zof_Bloodbog-ZNR\"')"
   ]
  },
  {
   "cell_type": "code",
   "execution_count": 11,
   "metadata": {},
   "outputs": [],
   "source": [
    "all_cards = pred_df.columns\n",
    "\n",
    "BATCH_SIZE = 100\n",
    "batches = [list(all_cards[n:n+BATCH_SIZE]) for n in range(1, len(all_cards), BATCH_SIZE)]"
   ]
  },
  {
   "cell_type": "code",
   "execution_count": null,
   "metadata": {},
   "outputs": [],
   "source": []
  },
  {
   "cell_type": "code",
   "execution_count": 93,
   "metadata": {},
   "outputs": [],
   "source": [
    "merge_cols = [\n",
    "    'Names','id','mtgArenaId','scryfallId','name','colors','setName',\n",
    "    'convertedManaCost','manaCost','loyalty','power','toughness',\n",
    "    'type','types','subtypes','text',\n",
    "    'brawl','commander','duel','future','historic','legacy','modern',\n",
    "    'oldschool','pauper','penny','pioneer','standard','vintage'\n",
    "]"
   ]
  },
  {
   "cell_type": "code",
   "execution_count": 127,
   "metadata": {},
   "outputs": [
    {
     "output_type": "stream",
     "name": "stdout",
     "text": [
      "(5419, 29)\n"
     ]
    },
    {
     "output_type": "execute_result",
     "data": {
      "text/plain": [
       "                           Names    id  mtgArenaId  \\\n",
       "4753  Archon_of_Sun's_Grace-4754  4754     74983.0   \n",
       "4754        Audacious_Thief-4755  4755     74991.0   \n",
       "4755        Banishing_Light-4756  4756     74986.0   \n",
       "\n",
       "                                scryfallId                   name colors  \\\n",
       "4753  94f05268-0d4f-4638-aec3-a85fc339e3a7  Archon of Sun's Grace      W   \n",
       "4754  ba315deb-d5a9-4013-b6ef-e4efe652e569        Audacious Thief      B   \n",
       "4755  ca112bae-6ac5-4cdf-9e8c-1b99f7396995        Banishing Light      W   \n",
       "\n",
       "                         setName  convertedManaCost   manaCost loyalty  ...  \\\n",
       "4753  Jumpstart Arena Exclusives                4.0  {2}{W}{W}       0  ...   \n",
       "4754  Jumpstart Arena Exclusives                3.0     {2}{B}       0  ...   \n",
       "4755  Jumpstart Arena Exclusives                3.0     {2}{W}       0  ...   \n",
       "\n",
       "     future historic legacy modern oldschool pauper  penny pioneer standard  \\\n",
       "4753  Legal    Legal  Legal  Legal     Blank  Blank  Blank   Legal    Legal   \n",
       "4754  Blank    Legal  Legal  Legal     Blank  Legal  Blank   Legal    Blank   \n",
       "4755  Legal    Legal  Legal  Legal     Blank  Blank  Legal   Legal    Legal   \n",
       "\n",
       "     vintage  \n",
       "4753   Legal  \n",
       "4754   Legal  \n",
       "4755   Legal  \n",
       "\n",
       "[3 rows x 29 columns]"
      ],
      "text/html": "<div>\n<style scoped>\n    .dataframe tbody tr th:only-of-type {\n        vertical-align: middle;\n    }\n\n    .dataframe tbody tr th {\n        vertical-align: top;\n    }\n\n    .dataframe thead th {\n        text-align: right;\n    }\n</style>\n<table border=\"1\" class=\"dataframe\">\n  <thead>\n    <tr style=\"text-align: right;\">\n      <th></th>\n      <th>Names</th>\n      <th>id</th>\n      <th>mtgArenaId</th>\n      <th>scryfallId</th>\n      <th>name</th>\n      <th>colors</th>\n      <th>setName</th>\n      <th>convertedManaCost</th>\n      <th>manaCost</th>\n      <th>loyalty</th>\n      <th>...</th>\n      <th>future</th>\n      <th>historic</th>\n      <th>legacy</th>\n      <th>modern</th>\n      <th>oldschool</th>\n      <th>pauper</th>\n      <th>penny</th>\n      <th>pioneer</th>\n      <th>standard</th>\n      <th>vintage</th>\n    </tr>\n  </thead>\n  <tbody>\n    <tr>\n      <th>4753</th>\n      <td>Archon_of_Sun's_Grace-4754</td>\n      <td>4754</td>\n      <td>74983.0</td>\n      <td>94f05268-0d4f-4638-aec3-a85fc339e3a7</td>\n      <td>Archon of Sun's Grace</td>\n      <td>W</td>\n      <td>Jumpstart Arena Exclusives</td>\n      <td>4.0</td>\n      <td>{2}{W}{W}</td>\n      <td>0</td>\n      <td>...</td>\n      <td>Legal</td>\n      <td>Legal</td>\n      <td>Legal</td>\n      <td>Legal</td>\n      <td>Blank</td>\n      <td>Blank</td>\n      <td>Blank</td>\n      <td>Legal</td>\n      <td>Legal</td>\n      <td>Legal</td>\n    </tr>\n    <tr>\n      <th>4754</th>\n      <td>Audacious_Thief-4755</td>\n      <td>4755</td>\n      <td>74991.0</td>\n      <td>ba315deb-d5a9-4013-b6ef-e4efe652e569</td>\n      <td>Audacious Thief</td>\n      <td>B</td>\n      <td>Jumpstart Arena Exclusives</td>\n      <td>3.0</td>\n      <td>{2}{B}</td>\n      <td>0</td>\n      <td>...</td>\n      <td>Blank</td>\n      <td>Legal</td>\n      <td>Legal</td>\n      <td>Legal</td>\n      <td>Blank</td>\n      <td>Legal</td>\n      <td>Blank</td>\n      <td>Legal</td>\n      <td>Blank</td>\n      <td>Legal</td>\n    </tr>\n    <tr>\n      <th>4755</th>\n      <td>Banishing_Light-4756</td>\n      <td>4756</td>\n      <td>74986.0</td>\n      <td>ca112bae-6ac5-4cdf-9e8c-1b99f7396995</td>\n      <td>Banishing Light</td>\n      <td>W</td>\n      <td>Jumpstart Arena Exclusives</td>\n      <td>3.0</td>\n      <td>{2}{W}</td>\n      <td>0</td>\n      <td>...</td>\n      <td>Legal</td>\n      <td>Legal</td>\n      <td>Legal</td>\n      <td>Legal</td>\n      <td>Blank</td>\n      <td>Blank</td>\n      <td>Legal</td>\n      <td>Legal</td>\n      <td>Legal</td>\n      <td>Legal</td>\n    </tr>\n  </tbody>\n</table>\n<p>3 rows × 29 columns</p>\n</div>"
     },
     "metadata": {},
     "execution_count": 127
    }
   ],
   "source": [
    "cards_df = pd.read_csv('cards.csv')\\\n",
    "    .query('mtgArenaId.notnull()')\\\n",
    "    .assign(Names=lambda df: df.name + '-' + df.id.astype('str'))\\\n",
    "    .assign(Names=lambda df: df.Names.apply(lambda x: x.replace(' ', '_').replace('//', 'II')))\\\n",
    "    .fillna('0')\\\n",
    "    [merge_cols]\n",
    "\n",
    "print(cards_df.shape)\n",
    "cards_df.head(3)"
   ]
  },
  {
   "cell_type": "code",
   "execution_count": 125,
   "metadata": {},
   "outputs": [
    {
     "output_type": "execute_result",
     "data": {
      "text/plain": [
       "'4754'"
      ]
     },
     "metadata": {},
     "execution_count": 125
    }
   ],
   "source": [
    "str(cards_df.reset_index(drop=True).id[0])"
   ]
  },
  {
   "cell_type": "code",
   "execution_count": 100,
   "metadata": {},
   "outputs": [
    {
     "output_type": "execute_result",
     "data": {
      "text/plain": [
       "                      Names     id  mtgArenaId  \\\n",
       "4754   Audacious_Thief-AJMP   4755     74991.0   \n",
       "28987   Audacious_Thief-M20  28988     69869.0   \n",
       "\n",
       "                                 scryfallId             name colors  \\\n",
       "4754   ba315deb-d5a9-4013-b6ef-e4efe652e569  Audacious Thief      B   \n",
       "28987  e1ff5e66-4718-43c3-8a58-1a0a8e788f83  Audacious Thief      B   \n",
       "\n",
       "                          setName  convertedManaCost manaCost loyalty  ...  \\\n",
       "4754   Jumpstart Arena Exclusives                3.0   {2}{B}       0  ...   \n",
       "28987               Core Set 2020                3.0   {2}{B}       0  ...   \n",
       "\n",
       "      future historic legacy modern oldschool pauper  penny pioneer standard  \\\n",
       "4754   Blank    Legal  Legal  Legal     Blank  Legal  Blank   Legal    Blank   \n",
       "28987  Blank    Legal  Legal  Legal     Blank  Legal  Blank   Legal    Blank   \n",
       "\n",
       "      vintage  \n",
       "4754    Legal  \n",
       "28987   Legal  \n",
       "\n",
       "[2 rows x 29 columns]"
      ],
      "text/html": "<div>\n<style scoped>\n    .dataframe tbody tr th:only-of-type {\n        vertical-align: middle;\n    }\n\n    .dataframe tbody tr th {\n        vertical-align: top;\n    }\n\n    .dataframe thead th {\n        text-align: right;\n    }\n</style>\n<table border=\"1\" class=\"dataframe\">\n  <thead>\n    <tr style=\"text-align: right;\">\n      <th></th>\n      <th>Names</th>\n      <th>id</th>\n      <th>mtgArenaId</th>\n      <th>scryfallId</th>\n      <th>name</th>\n      <th>colors</th>\n      <th>setName</th>\n      <th>convertedManaCost</th>\n      <th>manaCost</th>\n      <th>loyalty</th>\n      <th>...</th>\n      <th>future</th>\n      <th>historic</th>\n      <th>legacy</th>\n      <th>modern</th>\n      <th>oldschool</th>\n      <th>pauper</th>\n      <th>penny</th>\n      <th>pioneer</th>\n      <th>standard</th>\n      <th>vintage</th>\n    </tr>\n  </thead>\n  <tbody>\n    <tr>\n      <th>4754</th>\n      <td>Audacious_Thief-AJMP</td>\n      <td>4755</td>\n      <td>74991.0</td>\n      <td>ba315deb-d5a9-4013-b6ef-e4efe652e569</td>\n      <td>Audacious Thief</td>\n      <td>B</td>\n      <td>Jumpstart Arena Exclusives</td>\n      <td>3.0</td>\n      <td>{2}{B}</td>\n      <td>0</td>\n      <td>...</td>\n      <td>Blank</td>\n      <td>Legal</td>\n      <td>Legal</td>\n      <td>Legal</td>\n      <td>Blank</td>\n      <td>Legal</td>\n      <td>Blank</td>\n      <td>Legal</td>\n      <td>Blank</td>\n      <td>Legal</td>\n    </tr>\n    <tr>\n      <th>28987</th>\n      <td>Audacious_Thief-M20</td>\n      <td>28988</td>\n      <td>69869.0</td>\n      <td>e1ff5e66-4718-43c3-8a58-1a0a8e788f83</td>\n      <td>Audacious Thief</td>\n      <td>B</td>\n      <td>Core Set 2020</td>\n      <td>3.0</td>\n      <td>{2}{B}</td>\n      <td>0</td>\n      <td>...</td>\n      <td>Blank</td>\n      <td>Legal</td>\n      <td>Legal</td>\n      <td>Legal</td>\n      <td>Blank</td>\n      <td>Legal</td>\n      <td>Blank</td>\n      <td>Legal</td>\n      <td>Blank</td>\n      <td>Legal</td>\n    </tr>\n  </tbody>\n</table>\n<p>2 rows × 29 columns</p>\n</div>"
     },
     "metadata": {},
     "execution_count": 100
    }
   ],
   "source": [
    "cards_df.query('name == \"Audacious Thief\"')"
   ]
  },
  {
   "cell_type": "code",
   "execution_count": 104,
   "metadata": {},
   "outputs": [
    {
     "output_type": "execute_result",
     "data": {
      "text/plain": [
       "4875"
      ]
     },
     "metadata": {},
     "execution_count": 104
    }
   ],
   "source": [
    "cards_df.Names.nunique()"
   ]
  },
  {
   "cell_type": "code",
   "execution_count": null,
   "metadata": {},
   "outputs": [],
   "source": []
  },
  {
   "cell_type": "code",
   "execution_count": 105,
   "metadata": {},
   "outputs": [
    {
     "output_type": "execute_result",
     "data": {
      "text/plain": [
       "'Audacious_Thief-M20'"
      ]
     },
     "metadata": {},
     "execution_count": 105
    }
   ],
   "source": [
    "card = 'Audacious_Thief-M20'\n",
    "card"
   ]
  },
  {
   "cell_type": "code",
   "execution_count": 107,
   "metadata": {},
   "outputs": [
    {
     "output_type": "stream",
     "name": "stdout",
     "text": [
      "Audacious_Thief-M20\n"
     ]
    },
    {
     "output_type": "execute_result",
     "data": {
      "text/plain": [
       "                     Names  similarity       id mtgArenaId  \\\n",
       "4095   Audacious_Thief-M20  0.99999976  28988.0    69869.0   \n",
       "1     Audacious_Thief-AJMP  0.99999976   4755.0    74991.0   \n",
       "\n",
       "                                scryfallId             name colors  \\\n",
       "4095  e1ff5e66-4718-43c3-8a58-1a0a8e788f83  Audacious Thief      B   \n",
       "1     ba315deb-d5a9-4013-b6ef-e4efe652e569  Audacious Thief      B   \n",
       "\n",
       "                         setName convertedManaCost manaCost  ... future  \\\n",
       "4095               Core Set 2020               3.0   {2}{B}  ...  Blank   \n",
       "1     Jumpstart Arena Exclusives               3.0   {2}{B}  ...  Blank   \n",
       "\n",
       "     historic legacy modern oldschool pauper  penny pioneer standard vintage  \n",
       "4095    Legal  Legal  Legal     Blank  Legal  Blank   Legal    Blank   Legal  \n",
       "1       Legal  Legal  Legal     Blank  Legal  Blank   Legal    Blank   Legal  \n",
       "\n",
       "[2 rows x 30 columns]"
      ],
      "text/html": "<div>\n<style scoped>\n    .dataframe tbody tr th:only-of-type {\n        vertical-align: middle;\n    }\n\n    .dataframe tbody tr th {\n        vertical-align: top;\n    }\n\n    .dataframe thead th {\n        text-align: right;\n    }\n</style>\n<table border=\"1\" class=\"dataframe\">\n  <thead>\n    <tr style=\"text-align: right;\">\n      <th></th>\n      <th>Names</th>\n      <th>similarity</th>\n      <th>id</th>\n      <th>mtgArenaId</th>\n      <th>scryfallId</th>\n      <th>name</th>\n      <th>colors</th>\n      <th>setName</th>\n      <th>convertedManaCost</th>\n      <th>manaCost</th>\n      <th>...</th>\n      <th>future</th>\n      <th>historic</th>\n      <th>legacy</th>\n      <th>modern</th>\n      <th>oldschool</th>\n      <th>pauper</th>\n      <th>penny</th>\n      <th>pioneer</th>\n      <th>standard</th>\n      <th>vintage</th>\n    </tr>\n  </thead>\n  <tbody>\n    <tr>\n      <th>4095</th>\n      <td>Audacious_Thief-M20</td>\n      <td>0.99999976</td>\n      <td>28988.0</td>\n      <td>69869.0</td>\n      <td>e1ff5e66-4718-43c3-8a58-1a0a8e788f83</td>\n      <td>Audacious Thief</td>\n      <td>B</td>\n      <td>Core Set 2020</td>\n      <td>3.0</td>\n      <td>{2}{B}</td>\n      <td>...</td>\n      <td>Blank</td>\n      <td>Legal</td>\n      <td>Legal</td>\n      <td>Legal</td>\n      <td>Blank</td>\n      <td>Legal</td>\n      <td>Blank</td>\n      <td>Legal</td>\n      <td>Blank</td>\n      <td>Legal</td>\n    </tr>\n    <tr>\n      <th>1</th>\n      <td>Audacious_Thief-AJMP</td>\n      <td>0.99999976</td>\n      <td>4755.0</td>\n      <td>74991.0</td>\n      <td>ba315deb-d5a9-4013-b6ef-e4efe652e569</td>\n      <td>Audacious Thief</td>\n      <td>B</td>\n      <td>Jumpstart Arena Exclusives</td>\n      <td>3.0</td>\n      <td>{2}{B}</td>\n      <td>...</td>\n      <td>Blank</td>\n      <td>Legal</td>\n      <td>Legal</td>\n      <td>Legal</td>\n      <td>Blank</td>\n      <td>Legal</td>\n      <td>Blank</td>\n      <td>Legal</td>\n      <td>Blank</td>\n      <td>Legal</td>\n    </tr>\n  </tbody>\n</table>\n<p>2 rows × 30 columns</p>\n</div>"
     },
     "metadata": {},
     "execution_count": 107
    }
   ],
   "source": [
    "staged_card = pred_df[['Names', card]]\\\n",
    "    .merge(cards_df, how='left', on='Names')\\\n",
    "    .sort_values(by=card, ascending=False)\\\n",
    "    .head(10)\\\n",
    "    .rename(columns={card: 'similarity'})\\\n",
    "    .assign(similarity=lambda df: df.similarity.astype('str'))\\\n",
    "    .assign(id=lambda df: df.id.astype('str'))\\\n",
    "    .assign(mtgArenaId=lambda df: df.mtgArenaId.astype('str'))\\\n",
    "    .assign(loyalty=lambda df: df.loyalty.astype('str'))\\\n",
    "    .assign(power=lambda df: df.power.astype('str'))\\\n",
    "    .assign(toughness=lambda df: df.toughness.astype('str'))\\\n",
    "    .assign(convertedManaCost=lambda df: df.convertedManaCost.astype('str'))\n",
    "\n",
    "print(card)\n",
    "staged_card.head(2)"
   ]
  },
  {
   "cell_type": "code",
   "execution_count": 108,
   "metadata": {},
   "outputs": [],
   "source": [
    "staged_card_dict = staged_card.to_dict(orient='records')\n",
    "Item = staged_card_dict[0]\n",
    "Item['similarities'] = staged_card_dict[1:]"
   ]
  },
  {
   "cell_type": "code",
   "execution_count": 109,
   "metadata": {},
   "outputs": [],
   "source": [
    "dynamodb = boto_sess.resource('dynamodb')\n",
    "dynamo_client = boto_sess.client('dynamodb')\n",
    "\n",
    "table = dynamodb.Table(SIMILARITY_TABLE)"
   ]
  },
  {
   "cell_type": "code",
   "execution_count": 111,
   "metadata": {},
   "outputs": [
    {
     "output_type": "execute_result",
     "data": {
      "text/plain": [
       "{'Names': 'Audacious_Thief-M20',\n",
       " 'similarity': '0.99999976',\n",
       " 'id': '28988.0',\n",
       " 'mtgArenaId': '69869.0',\n",
       " 'scryfallId': 'e1ff5e66-4718-43c3-8a58-1a0a8e788f83',\n",
       " 'name': 'Audacious Thief',\n",
       " 'colors': 'B',\n",
       " 'setName': 'Core Set 2020',\n",
       " 'convertedManaCost': '3.0',\n",
       " 'manaCost': '{2}{B}',\n",
       " 'loyalty': '0',\n",
       " 'power': '2',\n",
       " 'toughness': '2',\n",
       " 'type': 'Creature — Human Rogue',\n",
       " 'types': 'Creature',\n",
       " 'subtypes': 'Human,Rogue',\n",
       " 'text': 'Whenever Audacious Thief attacks, you draw a card and you lose 1 life.',\n",
       " 'brawl': 'Blank',\n",
       " 'commander': 'Legal',\n",
       " 'duel': 'Legal',\n",
       " 'future': 'Blank',\n",
       " 'historic': 'Legal',\n",
       " 'legacy': 'Legal',\n",
       " 'modern': 'Legal',\n",
       " 'oldschool': 'Blank',\n",
       " 'pauper': 'Legal',\n",
       " 'penny': 'Blank',\n",
       " 'pioneer': 'Legal',\n",
       " 'standard': 'Blank',\n",
       " 'vintage': 'Legal',\n",
       " 'similarities': [{'Names': 'Audacious_Thief-AJMP',\n",
       "   'similarity': '0.99999976',\n",
       "   'id': '4755.0',\n",
       "   'mtgArenaId': '74991.0',\n",
       "   'scryfallId': 'ba315deb-d5a9-4013-b6ef-e4efe652e569',\n",
       "   'name': 'Audacious Thief',\n",
       "   'colors': 'B',\n",
       "   'setName': 'Jumpstart Arena Exclusives',\n",
       "   'convertedManaCost': '3.0',\n",
       "   'manaCost': '{2}{B}',\n",
       "   'loyalty': '0',\n",
       "   'power': '2',\n",
       "   'toughness': '2',\n",
       "   'type': 'Creature — Human Rogue',\n",
       "   'types': 'Creature',\n",
       "   'subtypes': 'Human,Rogue',\n",
       "   'text': 'Whenever Audacious Thief attacks, you draw a card and you lose 1 life.',\n",
       "   'brawl': 'Blank',\n",
       "   'commander': 'Legal',\n",
       "   'duel': 'Legal',\n",
       "   'future': 'Blank',\n",
       "   'historic': 'Legal',\n",
       "   'legacy': 'Legal',\n",
       "   'modern': 'Legal',\n",
       "   'oldschool': 'Blank',\n",
       "   'pauper': 'Legal',\n",
       "   'penny': 'Blank',\n",
       "   'pioneer': 'Legal',\n",
       "   'standard': 'Blank',\n",
       "   'vintage': 'Legal'},\n",
       "  {'Names': 'Phyrexian_Arena-HA1',\n",
       "   'similarity': '0.7069982',\n",
       "   'id': '21633.0',\n",
       "   'mtgArenaId': '19577.0',\n",
       "   'scryfallId': 'f7733d0e-ede5-4efc-a622-514a56d77fde',\n",
       "   'name': 'Phyrexian Arena',\n",
       "   'colors': 'B',\n",
       "   'setName': 'Historic Anthology 1',\n",
       "   'convertedManaCost': '3.0',\n",
       "   'manaCost': '{1}{B}{B}',\n",
       "   'loyalty': '0',\n",
       "   'power': '0',\n",
       "   'toughness': '0',\n",
       "   'type': 'Enchantment',\n",
       "   'types': 'Enchantment',\n",
       "   'subtypes': '0',\n",
       "   'text': 'At the beginning of your upkeep, you draw a card and you lose 1 life.',\n",
       "   'brawl': 'Blank',\n",
       "   'commander': 'Legal',\n",
       "   'duel': 'Legal',\n",
       "   'future': 'Blank',\n",
       "   'historic': 'Legal',\n",
       "   'legacy': 'Legal',\n",
       "   'modern': 'Legal',\n",
       "   'oldschool': 'Blank',\n",
       "   'pauper': 'Blank',\n",
       "   'penny': 'Blank',\n",
       "   'pioneer': 'Blank',\n",
       "   'standard': 'Blank',\n",
       "   'vintage': 'Legal'},\n",
       "  {'Names': 'Tithebearer_Giant-JMP',\n",
       "   'similarity': '0.69879687',\n",
       "   'id': '24513.0',\n",
       "   'mtgArenaId': '72346.0',\n",
       "   'scryfallId': 'e49bddc9-0b0b-4d6d-a708-019356f9649e',\n",
       "   'name': 'Tithebearer Giant',\n",
       "   'colors': 'B',\n",
       "   'setName': 'Jumpstart',\n",
       "   'convertedManaCost': '6.0',\n",
       "   'manaCost': '{5}{B}',\n",
       "   'loyalty': '0',\n",
       "   'power': '4',\n",
       "   'toughness': '5',\n",
       "   'type': 'Creature — Giant Warrior',\n",
       "   'types': 'Creature',\n",
       "   'subtypes': 'Giant,Warrior',\n",
       "   'text': 'When Tithebearer Giant enters the battlefield, you draw a card and you lose 1 life.',\n",
       "   'brawl': 'Blank',\n",
       "   'commander': 'Legal',\n",
       "   'duel': 'Legal',\n",
       "   'future': 'Blank',\n",
       "   'historic': 'Legal',\n",
       "   'legacy': 'Legal',\n",
       "   'modern': 'Legal',\n",
       "   'oldschool': 'Blank',\n",
       "   'pauper': 'Legal',\n",
       "   'penny': 'Legal',\n",
       "   'pioneer': 'Legal',\n",
       "   'standard': 'Blank',\n",
       "   'vintage': 'Legal'},\n",
       "  {'Names': 'Tithebearer_Giant-WAR',\n",
       "   'similarity': '0.69879687',\n",
       "   'id': '53451.0',\n",
       "   'mtgArenaId': '69558.0',\n",
       "   'scryfallId': '3c305ccb-62f5-496a-a205-e818e34ead82',\n",
       "   'name': 'Tithebearer Giant',\n",
       "   'colors': 'B',\n",
       "   'setName': 'War of the Spark',\n",
       "   'convertedManaCost': '6.0',\n",
       "   'manaCost': '{5}{B}',\n",
       "   'loyalty': '0',\n",
       "   'power': '4',\n",
       "   'toughness': '5',\n",
       "   'type': 'Creature — Giant Warrior',\n",
       "   'types': 'Creature',\n",
       "   'subtypes': 'Giant,Warrior',\n",
       "   'text': 'When Tithebearer Giant enters the battlefield, you draw a card and you lose 1 life.',\n",
       "   'brawl': 'Blank',\n",
       "   'commander': 'Legal',\n",
       "   'duel': 'Legal',\n",
       "   'future': 'Blank',\n",
       "   'historic': 'Legal',\n",
       "   'legacy': 'Legal',\n",
       "   'modern': 'Legal',\n",
       "   'oldschool': 'Blank',\n",
       "   'pauper': 'Legal',\n",
       "   'penny': 'Legal',\n",
       "   'pioneer': 'Legal',\n",
       "   'standard': 'Blank',\n",
       "   'vintage': 'Legal'},\n",
       "  {'Names': 'Phyrexian_Rager-JMP',\n",
       "   'similarity': '0.69520456',\n",
       "   'id': '24387.0',\n",
       "   'mtgArenaId': '72328.0',\n",
       "   'scryfallId': '86eb76e0-11ed-4f89-a2f4-04bc67f3c94d',\n",
       "   'name': 'Phyrexian Rager',\n",
       "   'colors': 'B',\n",
       "   'setName': 'Jumpstart',\n",
       "   'convertedManaCost': '3.0',\n",
       "   'manaCost': '{2}{B}',\n",
       "   'loyalty': '0',\n",
       "   'power': '2',\n",
       "   'toughness': '2',\n",
       "   'type': 'Creature — Horror',\n",
       "   'types': 'Creature',\n",
       "   'subtypes': 'Horror',\n",
       "   'text': 'When Phyrexian Rager enters the battlefield, you draw a card and you lose 1 life.',\n",
       "   'brawl': 'Blank',\n",
       "   'commander': 'Legal',\n",
       "   'duel': 'Legal',\n",
       "   'future': 'Blank',\n",
       "   'historic': 'Legal',\n",
       "   'legacy': 'Legal',\n",
       "   'modern': 'Legal',\n",
       "   'oldschool': 'Blank',\n",
       "   'pauper': 'Legal',\n",
       "   'penny': 'Legal',\n",
       "   'pioneer': 'Blank',\n",
       "   'standard': 'Blank',\n",
       "   'vintage': 'Legal'},\n",
       "  {'Names': 'Epicure_of_Blood-M20',\n",
       "   'similarity': '0.67744696',\n",
       "   'id': '29065.0',\n",
       "   'mtgArenaId': '69884.0',\n",
       "   'scryfallId': '4b060bc4-2d0c-46f4-b2b4-21583c2428f2',\n",
       "   'name': 'Epicure of Blood',\n",
       "   'colors': 'B',\n",
       "   'setName': 'Core Set 2020',\n",
       "   'convertedManaCost': '5.0',\n",
       "   'manaCost': '{4}{B}',\n",
       "   'loyalty': '0',\n",
       "   'power': '4',\n",
       "   'toughness': '4',\n",
       "   'type': 'Creature — Vampire',\n",
       "   'types': 'Creature',\n",
       "   'subtypes': 'Vampire',\n",
       "   'text': 'Whenever you gain life, each opponent loses 1 life.',\n",
       "   'brawl': 'Blank',\n",
       "   'commander': 'Legal',\n",
       "   'duel': 'Legal',\n",
       "   'future': 'Blank',\n",
       "   'historic': 'Legal',\n",
       "   'legacy': 'Legal',\n",
       "   'modern': 'Legal',\n",
       "   'oldschool': 'Blank',\n",
       "   'pauper': 'Legal',\n",
       "   'penny': 'Legal',\n",
       "   'pioneer': 'Legal',\n",
       "   'standard': 'Blank',\n",
       "   'vintage': 'Legal'},\n",
       "  {'Names': 'Marauding_Blight-Priest-ZNR',\n",
       "   'similarity': '0.67744696',\n",
       "   'id': '55708.0',\n",
       "   'mtgArenaId': '73310.0',\n",
       "   'scryfallId': '730ddbcd-0814-4e22-85e9-78b0878324b6',\n",
       "   'name': 'Marauding Blight-Priest',\n",
       "   'colors': 'B',\n",
       "   'setName': 'Zendikar Rising',\n",
       "   'convertedManaCost': '3.0',\n",
       "   'manaCost': '{2}{B}',\n",
       "   'loyalty': '0',\n",
       "   'power': '3',\n",
       "   'toughness': '2',\n",
       "   'type': 'Creature — Vampire Cleric',\n",
       "   'types': 'Creature',\n",
       "   'subtypes': 'Vampire,Cleric',\n",
       "   'text': 'Whenever you gain life, each opponent loses 1 life.',\n",
       "   'brawl': 'Legal',\n",
       "   'commander': 'Legal',\n",
       "   'duel': 'Legal',\n",
       "   'future': 'Legal',\n",
       "   'historic': 'Legal',\n",
       "   'legacy': 'Legal',\n",
       "   'modern': 'Legal',\n",
       "   'oldschool': 'Blank',\n",
       "   'pauper': 'Legal',\n",
       "   'penny': 'Legal',\n",
       "   'pioneer': 'Legal',\n",
       "   'standard': 'Legal',\n",
       "   'vintage': 'Legal'},\n",
       "  {'Names': 'Epicure_of_Blood-M19',\n",
       "   'similarity': '0.67744696',\n",
       "   'id': '28735.0',\n",
       "   'mtgArenaId': '67870.0',\n",
       "   'scryfallId': '40b03528-f4ec-4825-ba4c-c485cb4eab3a',\n",
       "   'name': 'Epicure of Blood',\n",
       "   'colors': 'B',\n",
       "   'setName': 'Core Set 2019',\n",
       "   'convertedManaCost': '5.0',\n",
       "   'manaCost': '{4}{B}',\n",
       "   'loyalty': '0',\n",
       "   'power': '4',\n",
       "   'toughness': '4',\n",
       "   'type': 'Creature — Vampire',\n",
       "   'types': 'Creature',\n",
       "   'subtypes': 'Vampire',\n",
       "   'text': 'Whenever you gain life, each opponent loses 1 life.',\n",
       "   'brawl': 'Blank',\n",
       "   'commander': 'Legal',\n",
       "   'duel': 'Legal',\n",
       "   'future': 'Blank',\n",
       "   'historic': 'Legal',\n",
       "   'legacy': 'Legal',\n",
       "   'modern': 'Legal',\n",
       "   'oldschool': 'Blank',\n",
       "   'pauper': 'Legal',\n",
       "   'penny': 'Legal',\n",
       "   'pioneer': 'Legal',\n",
       "   'standard': 'Blank',\n",
       "   'vintage': 'Legal'},\n",
       "  {'Names': 'Moldervine_Reclamation-M20',\n",
       "   'similarity': '0.67159927',\n",
       "   'id': '29164.0',\n",
       "   'mtgArenaId': '69999.0',\n",
       "   'scryfallId': '618d21fe-8e3d-4887-b2e4-b92194ba1902',\n",
       "   'name': 'Moldervine Reclamation',\n",
       "   'colors': 'B,G',\n",
       "   'setName': 'Core Set 2020',\n",
       "   'convertedManaCost': '5.0',\n",
       "   'manaCost': '{3}{B}{G}',\n",
       "   'loyalty': '0',\n",
       "   'power': '0',\n",
       "   'toughness': '0',\n",
       "   'type': 'Enchantment',\n",
       "   'types': 'Enchantment',\n",
       "   'subtypes': '0',\n",
       "   'text': 'Whenever a creature you control dies, you gain 1 life and draw a card.',\n",
       "   'brawl': 'Blank',\n",
       "   'commander': 'Legal',\n",
       "   'duel': 'Legal',\n",
       "   'future': 'Blank',\n",
       "   'historic': 'Legal',\n",
       "   'legacy': 'Legal',\n",
       "   'modern': 'Legal',\n",
       "   'oldschool': 'Blank',\n",
       "   'pauper': 'Blank',\n",
       "   'penny': 'Legal',\n",
       "   'pioneer': 'Legal',\n",
       "   'standard': 'Blank',\n",
       "   'vintage': 'Legal'}]}"
      ]
     },
     "metadata": {},
     "execution_count": 111
    }
   ],
   "source": [
    "Item"
   ]
  },
  {
   "cell_type": "code",
   "execution_count": 110,
   "metadata": {},
   "outputs": [
    {
     "output_type": "execute_result",
     "data": {
      "text/plain": [
       "{'ResponseMetadata': {'RequestId': '8T1Q3VPFI4JLVM3MA2OU1L5D0NVV4KQNSO5AEMVJF66Q9ASUAAJG',\n",
       "  'HTTPStatusCode': 200,\n",
       "  'HTTPHeaders': {'server': 'Server',\n",
       "   'date': 'Sun, 27 Dec 2020 01:21:30 GMT',\n",
       "   'content-type': 'application/x-amz-json-1.0',\n",
       "   'content-length': '2',\n",
       "   'connection': 'keep-alive',\n",
       "   'x-amzn-requestid': '8T1Q3VPFI4JLVM3MA2OU1L5D0NVV4KQNSO5AEMVJF66Q9ASUAAJG',\n",
       "   'x-amz-crc32': '2745614147'},\n",
       "  'RetryAttempts': 0}}"
      ]
     },
     "metadata": {},
     "execution_count": 110
    }
   ],
   "source": [
    "table.put_item(\n",
    "    Item=Item\n",
    ")"
   ]
  },
  {
   "cell_type": "code",
   "execution_count": null,
   "metadata": {},
   "outputs": [],
   "source": []
  },
  {
   "cell_type": "code",
   "execution_count": 99,
   "metadata": {},
   "outputs": [
    {
     "output_type": "execute_result",
     "data": {
      "text/plain": [
       "                                scryfallId                   name\n",
       "4753  94f05268-0d4f-4638-aec3-a85fc339e3a7  Archon of Sun's Grace\n",
       "4754  ba315deb-d5a9-4013-b6ef-e4efe652e569        Audacious Thief\n",
       "4755  ca112bae-6ac5-4cdf-9e8c-1b99f7396995        Banishing Light\n",
       "4756  82839c0f-3e71-4c7d-af3d-dace06e4d94b        Bond of Revival\n",
       "4757  0d02db50-315a-4b15-b9bd-7feb20e3bae0         Carnifex Demon"
      ],
      "text/html": "<div>\n<style scoped>\n    .dataframe tbody tr th:only-of-type {\n        vertical-align: middle;\n    }\n\n    .dataframe tbody tr th {\n        vertical-align: top;\n    }\n\n    .dataframe thead th {\n        text-align: right;\n    }\n</style>\n<table border=\"1\" class=\"dataframe\">\n  <thead>\n    <tr style=\"text-align: right;\">\n      <th></th>\n      <th>scryfallId</th>\n      <th>name</th>\n    </tr>\n  </thead>\n  <tbody>\n    <tr>\n      <th>4753</th>\n      <td>94f05268-0d4f-4638-aec3-a85fc339e3a7</td>\n      <td>Archon of Sun's Grace</td>\n    </tr>\n    <tr>\n      <th>4754</th>\n      <td>ba315deb-d5a9-4013-b6ef-e4efe652e569</td>\n      <td>Audacious Thief</td>\n    </tr>\n    <tr>\n      <th>4755</th>\n      <td>ca112bae-6ac5-4cdf-9e8c-1b99f7396995</td>\n      <td>Banishing Light</td>\n    </tr>\n    <tr>\n      <th>4756</th>\n      <td>82839c0f-3e71-4c7d-af3d-dace06e4d94b</td>\n      <td>Bond of Revival</td>\n    </tr>\n    <tr>\n      <th>4757</th>\n      <td>0d02db50-315a-4b15-b9bd-7feb20e3bae0</td>\n      <td>Carnifex Demon</td>\n    </tr>\n  </tbody>\n</table>\n</div>"
     },
     "metadata": {},
     "execution_count": 99
    }
   ],
   "source": [
    "cards_df[['scryfallId','name']].head(5)"
   ]
  },
  {
   "source": [
    "## Get card item from Dyanmo"
   ],
   "cell_type": "markdown",
   "metadata": {}
  },
  {
   "cell_type": "code",
   "execution_count": 33,
   "metadata": {},
   "outputs": [],
   "source": [
    "import os\n",
    "import json\n",
    "import boto3\n",
    "from boto3.dynamodb.conditions import Key"
   ]
  },
  {
   "cell_type": "code",
   "execution_count": 20,
   "metadata": {},
   "outputs": [],
   "source": [
    "SIMILARITY_TABLE = 'similarity-dev'"
   ]
  },
  {
   "cell_type": "code",
   "execution_count": 21,
   "metadata": {},
   "outputs": [],
   "source": [
    "boto_sess = boto3.Session(profile_name='lw2134')\n",
    "dynamodb = boto_sess.resource('dynamodb')\n",
    "table = dynamodb.Table(SIMILARITY_TABLE)"
   ]
  },
  {
   "cell_type": "code",
   "execution_count": 39,
   "metadata": {},
   "outputs": [],
   "source": [
    "# QUERY BY NAME\n",
    "card_item = table.query(\n",
    "    TableName=SIMILARITY_TABLE,\n",
    "    IndexName='name-index',\n",
    "    KeyConditionExpression=Key('name').eq('Zof Consumption // Zof Bloodbog')\n",
    ")"
   ]
  },
  {
   "cell_type": "code",
   "execution_count": 23,
   "metadata": {},
   "outputs": [],
   "source": [
    "# QUERY BY SCRYFALL ID\n",
    "card_item = table.get_item(\n",
    "    TableName='similarity-dev',\n",
    "    Key={'scryfallId': 'ca112bae-6ac5-4cdf-9e8c-1b99f7396995'}\n",
    ")"
   ]
  },
  {
   "cell_type": "code",
   "execution_count": 53,
   "metadata": {},
   "outputs": [
    {
     "output_type": "stream",
     "name": "stdout",
     "text": [
      "Zof Consumption // Zof Bloodbog\nEach opponent loses 4 life and you gain 4 life.\n"
     ]
    }
   ],
   "source": [
    "print(card_item['Items'][0]['name'])\n",
    "print(card_item['Items'][0]['text'])"
   ]
  },
  {
   "cell_type": "code",
   "execution_count": 66,
   "metadata": {},
   "outputs": [
    {
     "output_type": "execute_result",
     "data": {
      "text/plain": [
       "{'subtypes': '0',\n",
       " 'setName': 'Zendikar Rising',\n",
       " 'duel': 'Legal',\n",
       " 'mtgArenaId': Decimal('73331'),\n",
       " 'scryfallId': '98496d5b-1519-4f0c-8b46-0a43be643dfb',\n",
       " 'types': 'Sorcery',\n",
       " 'brawl': 'Legal',\n",
       " 'name': 'Zof Consumption // Zof Bloodbog',\n",
       " 'penny': 'Legal',\n",
       " 'pioneer': 'Legal',\n",
       " 'convertedManaCost': '6.0',\n",
       " 'modern': 'Legal',\n",
       " 'colors': 'B',\n",
       " 'id': Decimal('55942'),\n",
       " 'future': 'Legal',\n",
       " 'historic': 'Legal',\n",
       " 'commander': 'Legal',\n",
       " 'toughness': '0',\n",
       " 'loyalty': '0',\n",
       " 'pauper': 'Blank',\n",
       " 'Names': 'Zof_Consumption_II_Zof_Bloodbog-ZNR',\n",
       " 'text': 'Each opponent loses 4 life and you gain 4 life.',\n",
       " 'similarities': '[{\"Names\": \"Zof_Consumption_II_Zof_Bloodbog-ZNR\", \"similarity\": \"1.0000002000000001\", \"id\": 55941, \"mtgArenaId\": 73331, \"scryfallId\": \"98496d5b-1519-4f0c-8b46-0a43be643dfb\", \"name\": \"Zof Consumption // Zof Bloodbog\", \"colors\": \"0\", \"setName\": \"Zendikar Rising\", \"convertedManaCost\": \"6.0\", \"manaCost\": \"0\", \"loyalty\": \"0\", \"power\": \"0\", \"toughness\": \"0\", \"type\": \"Land\", \"types\": \"Land\", \"subtypes\": \"0\", \"text\": \"Zof Bloodbog enters the battlefield tapped.\\\\n{T}: Add {B}.\", \"brawl\": \"Legal\", \"commander\": \"Legal\", \"duel\": \"Legal\", \"future\": \"Legal\", \"historic\": \"Legal\", \"legacy\": \"Legal\", \"modern\": \"Legal\", \"oldschool\": \"Blank\", \"pauper\": \"Blank\", \"penny\": \"Legal\", \"pioneer\": \"Legal\", \"standard\": \"Legal\", \"vintage\": \"Legal\"}, {\"Names\": \"Marauding_Blight-Priest-ZNR\", \"similarity\": \"0.8388815999999999\", \"id\": 55708, \"mtgArenaId\": 73310, \"scryfallId\": \"730ddbcd-0814-4e22-85e9-78b0878324b6\", \"name\": \"Marauding Blight-Priest\", \"colors\": \"B\", \"setName\": \"Zendikar Rising\", \"convertedManaCost\": \"3.0\", \"manaCost\": \"{2}{B}\", \"loyalty\": \"0\", \"power\": \"3\", \"toughness\": \"2\", \"type\": \"Creature \\\\u2014 Vampire Cleric\", \"types\": \"Creature\", \"subtypes\": \"Vampire,Cleric\", \"text\": \"Whenever you gain life, each opponent loses 1 life.\", \"brawl\": \"Legal\", \"commander\": \"Legal\", \"duel\": \"Legal\", \"future\": \"Legal\", \"historic\": \"Legal\", \"legacy\": \"Legal\", \"modern\": \"Legal\", \"oldschool\": \"Blank\", \"pauper\": \"Legal\", \"penny\": \"Legal\", \"pioneer\": \"Legal\", \"standard\": \"Legal\", \"vintage\": \"Legal\"}, {\"Names\": \"Epicure_of_Blood-M19\", \"similarity\": \"0.8388815999999999\", \"id\": 28735, \"mtgArenaId\": 67870, \"scryfallId\": \"40b03528-f4ec-4825-ba4c-c485cb4eab3a\", \"name\": \"Epicure of Blood\", \"colors\": \"B\", \"setName\": \"Core Set 2019\", \"convertedManaCost\": \"5.0\", \"manaCost\": \"{4}{B}\", \"loyalty\": \"0\", \"power\": \"4\", \"toughness\": \"4\", \"type\": \"Creature \\\\u2014 Vampire\", \"types\": \"Creature\", \"subtypes\": \"Vampire\", \"text\": \"Whenever you gain life, each opponent loses 1 life.\", \"brawl\": \"Blank\", \"commander\": \"Legal\", \"duel\": \"Legal\", \"future\": \"Blank\", \"historic\": \"Legal\", \"legacy\": \"Legal\", \"modern\": \"Legal\", \"oldschool\": \"Blank\", \"pauper\": \"Legal\", \"penny\": \"Legal\", \"pioneer\": \"Legal\", \"standard\": \"Blank\", \"vintage\": \"Legal\"}, {\"Names\": \"Epicure_of_Blood-M20\", \"similarity\": \"0.8388815999999999\", \"id\": 29065, \"mtgArenaId\": 69884, \"scryfallId\": \"4b060bc4-2d0c-46f4-b2b4-21583c2428f2\", \"name\": \"Epicure of Blood\", \"colors\": \"B\", \"setName\": \"Core Set 2020\", \"convertedManaCost\": \"5.0\", \"manaCost\": \"{4}{B}\", \"loyalty\": \"0\", \"power\": \"4\", \"toughness\": \"4\", \"type\": \"Creature \\\\u2014 Vampire\", \"types\": \"Creature\", \"subtypes\": \"Vampire\", \"text\": \"Whenever you gain life, each opponent loses 1 life.\", \"brawl\": \"Blank\", \"commander\": \"Legal\", \"duel\": \"Legal\", \"future\": \"Blank\", \"historic\": \"Legal\", \"legacy\": \"Legal\", \"modern\": \"Legal\", \"oldschool\": \"Blank\", \"pauper\": \"Legal\", \"penny\": \"Legal\", \"pioneer\": \"Legal\", \"standard\": \"Blank\", \"vintage\": \"Legal\"}, {\"Names\": \"Vampire_Neonate-M19\", \"similarity\": \"0.82612944\", \"id\": 28954, \"mtgArenaId\": 67928, \"scryfallId\": \"167822a5-2ab5-42f5-afa4-562fe2d7501b\", \"name\": \"Vampire Neonate\", \"colors\": \"B\", \"setName\": \"Core Set 2019\", \"convertedManaCost\": \"1.0\", \"manaCost\": \"{B}\", \"loyalty\": \"0\", \"power\": \"0\", \"toughness\": \"3\", \"type\": \"Creature \\\\u2014 Vampire\", \"types\": \"Creature\", \"subtypes\": \"Vampire\", \"text\": \"{2}, {T}: Each opponent loses 1 life and you gain 1 life.\", \"brawl\": \"Blank\", \"commander\": \"Legal\", \"duel\": \"Legal\", \"future\": \"Blank\", \"historic\": \"Legal\", \"legacy\": \"Legal\", \"modern\": \"Legal\", \"oldschool\": \"Blank\", \"pauper\": \"Legal\", \"penny\": \"Blank\", \"pioneer\": \"Legal\", \"standard\": \"Blank\", \"vintage\": \"Legal\"}, {\"Names\": \"Vampire_Neonate-JMP\", \"similarity\": \"0.82612944\", \"id\": 24521, \"mtgArenaId\": 72347, \"scryfallId\": \"c7649d57-3537-45a2-b57e-98e7d32025c9\", \"name\": \"Vampire Neonate\", \"colors\": \"B\", \"setName\": \"Jumpstart\", \"convertedManaCost\": \"1.0\", \"manaCost\": \"{B}\", \"loyalty\": \"0\", \"power\": \"0\", \"toughness\": \"3\", \"type\": \"Creature \\\\u2014 Vampire\", \"types\": \"Creature\", \"subtypes\": \"Vampire\", \"text\": \"{2}, {T}: Each opponent loses 1 life and you gain 1 life.\", \"brawl\": \"Blank\", \"commander\": \"Legal\", \"duel\": \"Legal\", \"future\": \"Blank\", \"historic\": \"Legal\", \"legacy\": \"Legal\", \"modern\": \"Legal\", \"oldschool\": \"Blank\", \"pauper\": \"Legal\", \"penny\": \"Blank\", \"pioneer\": \"Legal\", \"standard\": \"Blank\", \"vintage\": \"Legal\"}, {\"Names\": \"Gruesome_Fate-RIX\", \"similarity\": \"0.80057025\", \"id\": 45725, \"mtgArenaId\": 66767, \"scryfallId\": \"3ea07116-afe7-4d88-a530-54424e791b74\", \"name\": \"Gruesome Fate\", \"colors\": \"B\", \"setName\": \"Rivals of Ixalan\", \"convertedManaCost\": \"3.0\", \"manaCost\": \"{2}{B}\", \"loyalty\": \"0\", \"power\": \"0\", \"toughness\": \"0\", \"type\": \"Sorcery\", \"types\": \"Sorcery\", \"subtypes\": \"0\", \"text\": \"Each opponent loses 1 life for each creature you control.\", \"brawl\": \"Blank\", \"commander\": \"Legal\", \"duel\": \"Legal\", \"future\": \"Blank\", \"historic\": \"Legal\", \"legacy\": \"Legal\", \"modern\": \"Legal\", \"oldschool\": \"Blank\", \"pauper\": \"Legal\", \"penny\": \"Legal\", \"pioneer\": \"Legal\", \"standard\": \"Blank\", \"vintage\": \"Legal\"}, {\"Names\": \"Vampire_Opportunist-WAR\", \"similarity\": \"0.80009294\", \"id\": 53464, \"mtgArenaId\": 69561, \"scryfallId\": \"a8cf21a4-616d-48a5-a104-180c24491761\", \"name\": \"Vampire Opportunist\", \"colors\": \"B\", \"setName\": \"War of the Spark\", \"convertedManaCost\": \"2.0\", \"manaCost\": \"{1}{B}\", \"loyalty\": \"0\", \"power\": \"2\", \"toughness\": \"1\", \"type\": \"Creature \\\\u2014 Vampire\", \"types\": \"Creature\", \"subtypes\": \"Vampire\", \"text\": \"{6}{B}: Each opponent loses 2 life and you gain 2 life.\", \"brawl\": \"Blank\", \"commander\": \"Legal\", \"duel\": \"Legal\", \"future\": \"Blank\", \"historic\": \"Legal\", \"legacy\": \"Legal\", \"modern\": \"Legal\", \"oldschool\": \"Blank\", \"pauper\": \"Legal\", \"penny\": \"Legal\", \"pioneer\": \"Legal\", \"standard\": \"Blank\", \"vintage\": \"Legal\"}, {\"Names\": \"Vampire_Opportunist-ANB\", \"similarity\": \"0.80009294\", \"id\": 6028, \"mtgArenaId\": 75506, \"scryfallId\": \"982538c4-0b93-416d-9110-e0d2602d70aa\", \"name\": \"Vampire Opportunist\", \"colors\": \"B\", \"setName\": \"Arena Beginner Set\", \"convertedManaCost\": \"2.0\", \"manaCost\": \"{1}{B}\", \"loyalty\": \"0\", \"power\": \"2\", \"toughness\": \"1\", \"type\": \"Creature \\\\u2014 Vampire\", \"types\": \"Creature\", \"subtypes\": \"Vampire\", \"text\": \"{6}{B}: Each opponent loses 2 life and you gain 2 life.\", \"brawl\": \"Blank\", \"commander\": \"Legal\", \"duel\": \"Legal\", \"future\": \"Blank\", \"historic\": \"Legal\", \"legacy\": \"Legal\", \"modern\": \"Legal\", \"oldschool\": \"Blank\", \"pauper\": \"Legal\", \"penny\": \"Legal\", \"pioneer\": \"Legal\", \"standard\": \"Blank\", \"vintage\": \"Legal\"}, {\"Names\": \"Vampire_Opportunist-M20\", \"similarity\": \"0.80009294\", \"id\": 29287, \"mtgArenaId\": 70110, \"scryfallId\": \"ced4b4a9-73a8-4135-b150-cd78d1558aca\", \"name\": \"Vampire Opportunist\", \"colors\": \"B\", \"setName\": \"Core Set 2020\", \"convertedManaCost\": \"2.0\", \"manaCost\": \"{1}{B}\", \"loyalty\": \"0\", \"power\": \"2\", \"toughness\": \"1\", \"type\": \"Creature \\\\u2014 Vampire\", \"types\": \"Creature\", \"subtypes\": \"Vampire\", \"text\": \"{6}{B}: Each opponent loses 2 life and you gain 2 life.\", \"brawl\": \"Blank\", \"commander\": \"Legal\", \"duel\": \"Legal\", \"future\": \"Blank\", \"historic\": \"Legal\", \"legacy\": \"Legal\", \"modern\": \"Legal\", \"oldschool\": \"Blank\", \"pauper\": \"Legal\", \"penny\": \"Legal\", \"pioneer\": \"Legal\", \"standard\": \"Blank\", \"vintage\": \"Legal\"}, {\"Names\": \"Life_Goes_On-M21\", \"similarity\": \"0.79618657\", \"id\": 29491, \"mtgArenaId\": 71974, \"scryfallId\": \"3888197f-5da4-4413-9cad-b37a12ba1e60\", \"name\": \"Life Goes On\", \"colors\": \"G\", \"setName\": \"Core Set 2021\", \"convertedManaCost\": \"1.0\", \"manaCost\": \"{G}\", \"loyalty\": \"0\", \"power\": \"0\", \"toughness\": \"0\", \"type\": \"Instant\", \"types\": \"Instant\", \"subtypes\": \"0\", \"text\": \"You gain 4 life. If a creature died this turn, you gain 8 life instead.\", \"brawl\": \"Legal\", \"commander\": \"Legal\", \"duel\": \"Legal\", \"future\": \"Legal\", \"historic\": \"Legal\", \"legacy\": \"Legal\", \"modern\": \"Legal\", \"oldschool\": \"Blank\", \"pauper\": \"Legal\", \"penny\": \"Legal\", \"pioneer\": \"Legal\", \"standard\": \"Legal\", \"vintage\": \"Legal\"}, {\"Names\": \"Life_Goes_On-AKR\", \"similarity\": \"0.79618657\", \"id\": 5253, \"mtgArenaId\": 73979, \"scryfallId\": \"e87e6db1-528b-4d3a-8c13-155760345089\", \"name\": \"Life Goes On\", \"colors\": \"G\", \"setName\": \"Amonkhet Remastered\", \"convertedManaCost\": \"1.0\", \"manaCost\": \"{G}\", \"loyalty\": \"0\", \"power\": \"0\", \"toughness\": \"0\", \"type\": \"Instant\", \"types\": \"Instant\", \"subtypes\": \"0\", \"text\": \"You gain 4 life. If a creature died this turn, you gain 8 life instead.\", \"brawl\": \"Legal\", \"commander\": \"Legal\", \"duel\": \"Legal\", \"future\": \"Legal\", \"historic\": \"Legal\", \"legacy\": \"Legal\", \"modern\": \"Legal\", \"oldschool\": \"Blank\", \"pauper\": \"Legal\", \"penny\": \"Legal\", \"pioneer\": \"Legal\", \"standard\": \"Legal\", \"vintage\": \"Legal\"}, {\"Names\": \"Ambition\\'s_Cost-XANA\", \"similarity\": \"0.79207027\", \"id\": 54728, \"mtgArenaId\": 68798, \"scryfallId\": \"43e2d5fe-9b9c-4450-908a-3e8e091c385a\", \"name\": \"Ambition\\'s Cost\", \"colors\": \"B\", \"setName\": \"Arena New Player Experience Extras\", \"convertedManaCost\": \"4.0\", \"manaCost\": \"{3}{B}\", \"loyalty\": \"0\", \"power\": \"0\", \"toughness\": \"0\", \"type\": \"Sorcery\", \"types\": \"Sorcery\", \"subtypes\": \"0\", \"text\": \"You draw three cards and you lose 3 life.\", \"brawl\": \"Blank\", \"commander\": \"Legal\", \"duel\": \"Legal\", \"future\": \"Blank\", \"historic\": \"Blank\", \"legacy\": \"Legal\", \"modern\": \"Legal\", \"oldschool\": \"Blank\", \"pauper\": \"Blank\", \"penny\": \"Legal\", \"pioneer\": \"Blank\", \"standard\": \"Blank\", \"vintage\": \"Legal\"}, {\"Names\": \"Sovereign\\'s_Bite-M19\", \"similarity\": \"0.78571427\", \"id\": 28910, \"mtgArenaId\": 67920, \"scryfallId\": \"5326d251-bb91-4653-b1fa-44f14c4e0b88\", \"name\": \"Sovereign\\'s Bite\", \"colors\": \"B\", \"setName\": \"Core Set 2019\", \"convertedManaCost\": \"2.0\", \"manaCost\": \"{1}{B}\", \"loyalty\": \"0\", \"power\": \"0\", \"toughness\": \"0\", \"type\": \"Sorcery\", \"types\": \"Sorcery\", \"subtypes\": \"0\", \"text\": \"Target player loses 3 life and you gain 3 life.\", \"brawl\": \"Blank\", \"commander\": \"Legal\", \"duel\": \"Legal\", \"future\": \"Blank\", \"historic\": \"Legal\", \"legacy\": \"Legal\", \"modern\": \"Legal\", \"oldschool\": \"Blank\", \"pauper\": \"Legal\", \"penny\": \"Legal\", \"pioneer\": \"Legal\", \"standard\": \"Blank\", \"vintage\": \"Legal\"}, {\"Names\": \"Lampad_of_Death\\'s_Vigil-THB\", \"similarity\": \"0.7646303000000001\", \"id\": 49264, \"mtgArenaId\": 70614, \"scryfallId\": \"e8c9ada9-ea25-4a96-a4be-e4cf8f7a014f\", \"name\": \"Lampad of Death\\'s Vigil\", \"colors\": \"B\", \"setName\": \"Theros Beyond Death\", \"convertedManaCost\": \"2.0\", \"manaCost\": \"{1}{B}\", \"loyalty\": \"0\", \"power\": \"1\", \"toughness\": \"3\", \"type\": \"Enchantment Creature \\\\u2014 Nymph\", \"types\": \"Enchantment,Creature\", \"subtypes\": \"Nymph\", \"text\": \"{1}, Sacrifice a creature: Each opponent loses 1 life and you gain 1 life.\", \"brawl\": \"Legal\", \"commander\": \"Legal\", \"duel\": \"Legal\", \"future\": \"Legal\", \"historic\": \"Legal\", \"legacy\": \"Legal\", \"modern\": \"Legal\", \"oldschool\": \"Blank\", \"pauper\": \"Legal\", \"penny\": \"Legal\", \"pioneer\": \"Legal\", \"standard\": \"Legal\", \"vintage\": \"Legal\"}, {\"Names\": \"Bad_Deal-ANB\", \"similarity\": \"0.75924915\", \"id\": 5932, \"mtgArenaId\": 75486, \"scryfallId\": \"c73d8462-6901-47c4-99e8-93efb5d54737\", \"name\": \"Bad Deal\", \"colors\": \"B\", \"setName\": \"Arena Beginner Set\", \"convertedManaCost\": \"6.0\", \"manaCost\": \"{4}{B}{B}\", \"loyalty\": \"0\", \"power\": \"0\", \"toughness\": \"0\", \"type\": \"Sorcery\", \"types\": \"Sorcery\", \"subtypes\": \"0\", \"text\": \"You draw two cards and each opponent discards two cards. Each player loses 2 life.\", \"brawl\": \"Legal\", \"commander\": \"Legal\", \"duel\": \"Legal\", \"future\": \"Legal\", \"historic\": \"Legal\", \"legacy\": \"Legal\", \"modern\": \"Legal\", \"oldschool\": \"Blank\", \"pauper\": \"Blank\", \"penny\": \"Legal\", \"pioneer\": \"Legal\", \"standard\": \"Legal\", \"vintage\": \"Legal\"}, {\"Names\": \"Bad_Deal-M21\", \"similarity\": \"0.75924915\", \"id\": 29328, \"mtgArenaId\": 71871, \"scryfallId\": \"7a3f8bc2-ef66-474f-92a3-9c4df1670cec\", \"name\": \"Bad Deal\", \"colors\": \"B\", \"setName\": \"Core Set 2021\", \"convertedManaCost\": \"6.0\", \"manaCost\": \"{4}{B}{B}\", \"loyalty\": \"0\", \"power\": \"0\", \"toughness\": \"0\", \"type\": \"Sorcery\", \"types\": \"Sorcery\", \"subtypes\": \"0\", \"text\": \"You draw two cards and each opponent discards two cards. Each player loses 2 life.\", \"brawl\": \"Legal\", \"commander\": \"Legal\", \"duel\": \"Legal\", \"future\": \"Legal\", \"historic\": \"Legal\", \"legacy\": \"Legal\", \"modern\": \"Legal\", \"oldschool\": \"Blank\", \"pauper\": \"Blank\", \"penny\": \"Legal\", \"pioneer\": \"Legal\", \"standard\": \"Legal\", \"vintage\": \"Legal\"}, {\"Names\": \"Spirit_of_Malevolence-M21\", \"similarity\": \"0.75385785\", \"id\": 29620, \"mtgArenaId\": 72053, \"scryfallId\": \"cf3765b7-11e2-4837-b5e5-ca24adc0e33c\", \"name\": \"Spirit of Malevolence\", \"colors\": \"B\", \"setName\": \"Core Set 2021\", \"convertedManaCost\": \"2.0\", \"manaCost\": \"{1}{B}\", \"loyalty\": \"0\", \"power\": \"2\", \"toughness\": \"1\", \"type\": \"Creature \\\\u2014 Spirit\", \"types\": \"Creature\", \"subtypes\": \"Spirit\", \"text\": \"When Spirit of Malevolence dies, each opponent loses 1 life and you gain 1 life.\", \"brawl\": \"Legal\", \"commander\": \"Legal\", \"duel\": \"Legal\", \"future\": \"Legal\", \"historic\": \"Legal\", \"legacy\": \"Legal\", \"modern\": \"Legal\", \"oldschool\": \"Blank\", \"pauper\": \"Legal\", \"penny\": \"Blank\", \"pioneer\": \"Legal\", \"standard\": \"Legal\", \"vintage\": \"Legal\"}, {\"Names\": \"Phyrexian_Arena-HA1\", \"similarity\": \"0.7535291999999999\", \"id\": 21633, \"mtgArenaId\": 19577, \"scryfallId\": \"f7733d0e-ede5-4efc-a622-514a56d77fde\", \"name\": \"Phyrexian Arena\", \"colors\": \"B\", \"setName\": \"Historic Anthology 1\", \"convertedManaCost\": \"3.0\", \"manaCost\": \"{1}{B}{B}\", \"loyalty\": \"0\", \"power\": \"0\", \"toughness\": \"0\", \"type\": \"Enchantment\", \"types\": \"Enchantment\", \"subtypes\": \"0\", \"text\": \"At the beginning of your upkeep, you draw a card and you lose 1 life.\", \"brawl\": \"Blank\", \"commander\": \"Legal\", \"duel\": \"Legal\", \"future\": \"Blank\", \"historic\": \"Legal\", \"legacy\": \"Legal\", \"modern\": \"Legal\", \"oldschool\": \"Blank\", \"pauper\": \"Blank\", \"penny\": \"Blank\", \"pioneer\": \"Blank\", \"standard\": \"Blank\", \"vintage\": \"Legal\"}, {\"Names\": \"Wayward_Servant-AKR\", \"similarity\": \"0.74693835\", \"id\": 5434, \"mtgArenaId\": 74089, \"scryfallId\": \"3f78276a-d2a7-4b7f-aff8-dcbb982aa909\", \"name\": \"Wayward Servant\", \"colors\": \"B,W\", \"setName\": \"Amonkhet Remastered\", \"convertedManaCost\": \"2.0\", \"manaCost\": \"{W}{B}\", \"loyalty\": \"0\", \"power\": \"2\", \"toughness\": \"2\", \"type\": \"Creature \\\\u2014 Zombie\", \"types\": \"Creature\", \"subtypes\": \"Zombie\", \"text\": \"Whenever another Zombie enters the battlefield under your control, each opponent loses 1 life and you gain 1 life.\", \"brawl\": \"Blank\", \"commander\": \"Legal\", \"duel\": \"Legal\", \"future\": \"Blank\", \"historic\": \"Legal\", \"legacy\": \"Legal\", \"modern\": \"Legal\", \"oldschool\": \"Blank\", \"pauper\": \"Blank\", \"penny\": \"Blank\", \"pioneer\": \"Legal\", \"standard\": \"Blank\", \"vintage\": \"Legal\"}, {\"Names\": \"Arterial_Flow-RIX\", \"similarity\": \"0.7430283000000001\", \"id\": 45657, \"mtgArenaId\": 66741, \"scryfallId\": \"13c41212-9f16-48e0-8c4b-985ce331164b\", \"name\": \"Arterial Flow\", \"colors\": \"B\", \"setName\": \"Rivals of Ixalan\", \"convertedManaCost\": \"3.0\", \"manaCost\": \"{1}{B}{B}\", \"loyalty\": \"0\", \"power\": \"0\", \"toughness\": \"0\", \"type\": \"Sorcery\", \"types\": \"Sorcery\", \"subtypes\": \"0\", \"text\": \"Each opponent discards two cards. If you control a Vampire, each opponent loses 2 life and you gain 2 life.\", \"brawl\": \"Blank\", \"commander\": \"Legal\", \"duel\": \"Legal\", \"future\": \"Blank\", \"historic\": \"Legal\", \"legacy\": \"Legal\", \"modern\": \"Legal\", \"oldschool\": \"Blank\", \"pauper\": \"Blank\", \"penny\": \"Legal\", \"pioneer\": \"Legal\", \"standard\": \"Blank\", \"vintage\": \"Legal\"}, {\"Names\": \"Sanctum_Seeker-XLN\", \"similarity\": \"0.7414353\", \"id\": 54965, \"mtgArenaId\": 66205, \"scryfallId\": \"72150779-0bb6-4d20-a898-cda93a66e7cd\", \"name\": \"Sanctum Seeker\", \"colors\": \"B\", \"setName\": \"Ixalan\", \"convertedManaCost\": \"4.0\", \"manaCost\": \"{2}{B}{B}\", \"loyalty\": \"0\", \"power\": \"3\", \"toughness\": \"4\", \"type\": \"Creature \\\\u2014 Vampire Knight\", \"types\": \"Creature\", \"subtypes\": \"Vampire,Knight\", \"text\": \"Whenever a Vampire you control attacks, each opponent loses 1 life and you gain 1 life.\", \"brawl\": \"Blank\", \"commander\": \"Legal\", \"duel\": \"Legal\", \"future\": \"Blank\", \"historic\": \"Legal\", \"legacy\": \"Legal\", \"modern\": \"Legal\", \"oldschool\": \"Blank\", \"pauper\": \"Blank\", \"penny\": \"Legal\", \"pioneer\": \"Legal\", \"standard\": \"Blank\", \"vintage\": \"Legal\"}, {\"Names\": \"Blood_Artist-JMP\", \"similarity\": \"0.7327551\", \"id\": 24106, \"mtgArenaId\": 72268, \"scryfallId\": \"465d8c18-c76b-488a-a4ec-ec0d2267a307\", \"name\": \"Blood Artist\", \"colors\": \"B\", \"setName\": \"Jumpstart\", \"convertedManaCost\": \"2.0\", \"manaCost\": \"{1}{B}\", \"loyalty\": \"0\", \"power\": \"0\", \"toughness\": \"1\", \"type\": \"Creature \\\\u2014 Vampire\", \"types\": \"Creature\", \"subtypes\": \"Vampire\", \"text\": \"Whenever Blood Artist or another creature dies, target player loses 1 life and you gain 1 life.\", \"brawl\": \"Blank\", \"commander\": \"Legal\", \"duel\": \"Legal\", \"future\": \"Blank\", \"historic\": \"Legal\", \"legacy\": \"Legal\", \"modern\": \"Legal\", \"oldschool\": \"Blank\", \"pauper\": \"Blank\", \"penny\": \"Blank\", \"pioneer\": \"Blank\", \"standard\": \"Blank\", \"vintage\": \"Legal\"}, {\"Names\": \"Corpse_Knight-M20\", \"similarity\": \"0.7327161999999999\", \"id\": 29038, \"mtgArenaId\": 69991, \"scryfallId\": \"8b45117b-8369-48fc-8e5d-8986e662d123\", \"name\": \"Corpse Knight\", \"colors\": \"B,W\", \"setName\": \"Core Set 2020\", \"convertedManaCost\": \"2.0\", \"manaCost\": \"{W}{B}\", \"loyalty\": \"0\", \"power\": \"2\", \"toughness\": \"2\", \"type\": \"Creature \\\\u2014 Zombie Knight\", \"types\": \"Creature\", \"subtypes\": \"Zombie,Knight\", \"text\": \"Whenever another creature enters the battlefield under your control, each opponent loses 1 life.\", \"brawl\": \"Blank\", \"commander\": \"Legal\", \"duel\": \"Legal\", \"future\": \"Blank\", \"historic\": \"Legal\", \"legacy\": \"Legal\", \"modern\": \"Legal\", \"oldschool\": \"Blank\", \"pauper\": \"Blank\", \"penny\": \"Blank\", \"pioneer\": \"Legal\", \"standard\": \"Blank\", \"vintage\": \"Legal\"}, {\"Names\": \"Kambal,_Consul_of_Allocation-KLR\", \"similarity\": \"0.72744066\", \"id\": 25350, \"mtgArenaId\": 75776, \"scryfallId\": \"b1fbbbec-aa47-4063-8c06-76cbfee6b684\", \"name\": \"Kambal, Consul of Allocation\", \"colors\": \"B,W\", \"setName\": \"Kaladesh Remastered\", \"convertedManaCost\": \"3.0\", \"manaCost\": \"{1}{W}{B}\", \"loyalty\": \"0\", \"power\": \"2\", \"toughness\": \"3\", \"type\": \"Legendary Creature \\\\u2014 Human Advisor\", \"types\": \"Creature\", \"subtypes\": \"Human,Advisor\", \"text\": \"Whenever an opponent casts a noncreature spell, that player loses 2 life and you gain 2 life.\", \"brawl\": \"Blank\", \"commander\": \"Legal\", \"duel\": \"Legal\", \"future\": \"Blank\", \"historic\": \"Legal\", \"legacy\": \"Legal\", \"modern\": \"Legal\", \"oldschool\": \"Blank\", \"pauper\": \"Blank\", \"penny\": \"Legal\", \"pioneer\": \"Legal\", \"standard\": \"Blank\", \"vintage\": \"Legal\"}, {\"Names\": \"Moldervine_Reclamation-M20\", \"similarity\": \"0.72604173\", \"id\": 29164, \"mtgArenaId\": 69999, \"scryfallId\": \"618d21fe-8e3d-4887-b2e4-b92194ba1902\", \"name\": \"Moldervine Reclamation\", \"colors\": \"B,G\", \"setName\": \"Core Set 2020\", \"convertedManaCost\": \"5.0\", \"manaCost\": \"{3}{B}{G}\", \"loyalty\": \"0\", \"power\": \"0\", \"toughness\": \"0\", \"type\": \"Enchantment\", \"types\": \"Enchantment\", \"subtypes\": \"0\", \"text\": \"Whenever a creature you control dies, you gain 1 life and draw a card.\", \"brawl\": \"Blank\", \"commander\": \"Legal\", \"duel\": \"Legal\", \"future\": \"Blank\", \"historic\": \"Legal\", \"legacy\": \"Legal\", \"modern\": \"Legal\", \"oldschool\": \"Blank\", \"pauper\": \"Blank\", \"penny\": \"Legal\", \"pioneer\": \"Legal\", \"standard\": \"Blank\", \"vintage\": \"Legal\"}, {\"Names\": \"God-Pharaoh\\'s_Statue-WAR\", \"similarity\": \"0.72247696\", \"id\": 53280, \"mtgArenaId\": 69689, \"scryfallId\": \"7dce06ba-c1e1-45ec-82a7-fc10b0fa8870\", \"name\": \"God-Pharaoh\\'s Statue\", \"colors\": \"0\", \"setName\": \"War of the Spark\", \"convertedManaCost\": \"6.0\", \"manaCost\": \"{6}\", \"loyalty\": \"0\", \"power\": \"0\", \"toughness\": \"0\", \"type\": \"Legendary Artifact\", \"types\": \"Artifact\", \"subtypes\": \"0\", \"text\": \"Spells your opponents cast cost {2} more to cast.\\\\nAt the beginning of your end step, each opponent loses 1 life.\", \"brawl\": \"Blank\", \"commander\": \"Legal\", \"duel\": \"Legal\", \"future\": \"Blank\", \"historic\": \"Legal\", \"legacy\": \"Legal\", \"modern\": \"Legal\", \"oldschool\": \"Blank\", \"pauper\": \"Blank\", \"penny\": \"Legal\", \"pioneer\": \"Legal\", \"standard\": \"Blank\", \"vintage\": \"Legal\"}, {\"Names\": \"Blight_Keeper-XLN\", \"similarity\": \"0.7221420999999999\", \"id\": 54774, \"mtgArenaId\": 66149, \"scryfallId\": \"3bcabe2d-82d2-4c1b-8f28-21dc29c9dbf2\", \"name\": \"Blight Keeper\", \"colors\": \"B\", \"setName\": \"Ixalan\", \"convertedManaCost\": \"1.0\", \"manaCost\": \"{B}\", \"loyalty\": \"0\", \"power\": \"1\", \"toughness\": \"1\", \"type\": \"Creature \\\\u2014 Bat Imp\", \"types\": \"Creature\", \"subtypes\": \"Bat,Imp\", \"text\": \"Flying\\\\n{7}{B}, {T}, Sacrifice Blight Keeper: Target opponent loses 4 life and you gain 4 life.\", \"brawl\": \"Blank\", \"commander\": \"Legal\", \"duel\": \"Legal\", \"future\": \"Blank\", \"historic\": \"Legal\", \"legacy\": \"Legal\", \"modern\": \"Legal\", \"oldschool\": \"Blank\", \"pauper\": \"Legal\", \"penny\": \"Legal\", \"pioneer\": \"Legal\", \"standard\": \"Blank\", \"vintage\": \"Legal\"}, {\"Names\": \"River_Hoopoe-AKR\", \"similarity\": \"0.7184020999999999\", \"id\": 5343, \"mtgArenaId\": 74072, \"scryfallId\": \"d7b42a91-81e7-45e9-80ae-0ca905884692\", \"name\": \"River Hoopoe\", \"colors\": \"G,U\", \"setName\": \"Amonkhet Remastered\", \"convertedManaCost\": \"2.0\", \"manaCost\": \"{G}{U}\", \"loyalty\": \"0\", \"power\": \"1\", \"toughness\": \"3\", \"type\": \"Creature \\\\u2014 Bird\", \"types\": \"Creature\", \"subtypes\": \"Bird\", \"text\": \"Flying\\\\n{3}{G}{U}: You gain 2 life and draw a card.\", \"brawl\": \"Blank\", \"commander\": \"Legal\", \"duel\": \"Legal\", \"future\": \"Blank\", \"historic\": \"Legal\", \"legacy\": \"Legal\", \"modern\": \"Legal\", \"oldschool\": \"Blank\", \"pauper\": \"Blank\", \"penny\": \"Blank\", \"pioneer\": \"Legal\", \"standard\": \"Blank\", \"vintage\": \"Legal\"}, {\"Names\": \"Funeral_Rites-THB\", \"similarity\": \"0.7156531\", \"id\": 49207, \"mtgArenaId\": 70608, \"scryfallId\": \"30aa6796-0cb6-426b-9e3f-4d7e4959a6a4\", \"name\": \"Funeral Rites\", \"colors\": \"B\", \"setName\": \"Theros Beyond Death\", \"convertedManaCost\": \"3.0\", \"manaCost\": \"{2}{B}\", \"loyalty\": \"0\", \"power\": \"0\", \"toughness\": \"0\", \"type\": \"Sorcery\", \"types\": \"Sorcery\", \"subtypes\": \"0\", \"text\": \"You draw two cards, lose 2 life, then mill two cards.\", \"brawl\": \"Legal\", \"commander\": \"Legal\", \"duel\": \"Legal\", \"future\": \"Legal\", \"historic\": \"Legal\", \"legacy\": \"Legal\", \"modern\": \"Legal\", \"oldschool\": \"Blank\", \"pauper\": \"Legal\", \"penny\": \"Legal\", \"pioneer\": \"Legal\", \"standard\": \"Legal\", \"vintage\": \"Legal\"}, {\"Names\": \"Funeral_Rites-JMP\", \"similarity\": \"0.7156531\", \"id\": 24227, \"mtgArenaId\": 72297, \"scryfallId\": \"ecb5fb06-d7b3-4871-a530-9004110596ad\", \"name\": \"Funeral Rites\", \"colors\": \"B\", \"setName\": \"Jumpstart\", \"convertedManaCost\": \"3.0\", \"manaCost\": \"{2}{B}\", \"loyalty\": \"0\", \"power\": \"0\", \"toughness\": \"0\", \"type\": \"Sorcery\", \"types\": \"Sorcery\", \"subtypes\": \"0\", \"text\": \"You draw two cards, lose 2 life, then mill two cards.\", \"brawl\": \"Legal\", \"commander\": \"Legal\", \"duel\": \"Legal\", \"future\": \"Legal\", \"historic\": \"Legal\", \"legacy\": \"Legal\", \"modern\": \"Legal\", \"oldschool\": \"Blank\", \"pauper\": \"Legal\", \"penny\": \"Legal\", \"pioneer\": \"Legal\", \"standard\": \"Legal\", \"vintage\": \"Legal\"}, {\"Names\": \"Vindictive_Vampire-RNA\", \"similarity\": \"0.7141717\", \"id\": 46133, \"mtgArenaId\": 69218, \"scryfallId\": \"7c0bfb47-c753-42fa-969b-7b10b87b0462\", \"name\": \"Vindictive Vampire\", \"colors\": \"B\", \"setName\": \"Ravnica Allegiance\", \"convertedManaCost\": \"4.0\", \"manaCost\": \"{3}{B}\", \"loyalty\": \"0\", \"power\": \"2\", \"toughness\": \"3\", \"type\": \"Creature \\\\u2014 Vampire\", \"types\": \"Creature\", \"subtypes\": \"Vampire\", \"text\": \"Whenever another creature you control dies, Vindictive Vampire deals 1 damage to each opponent and you gain 1 life.\", \"brawl\": \"Blank\", \"commander\": \"Legal\", \"duel\": \"Legal\", \"future\": \"Blank\", \"historic\": \"Legal\", \"legacy\": \"Legal\", \"modern\": \"Legal\", \"oldschool\": \"Blank\", \"pauper\": \"Blank\", \"penny\": \"Blank\", \"pioneer\": \"Legal\", \"standard\": \"Blank\", \"vintage\": \"Legal\"}, {\"Names\": \"Exquisite_Blood-JMP\", \"similarity\": \"0.7113651999999999\", \"id\": 24199, \"mtgArenaId\": 72293, \"scryfallId\": \"b1653811-1c2c-4e6c-bf1c-287d1b496d51\", \"name\": \"Exquisite Blood\", \"colors\": \"B\", \"setName\": \"Jumpstart\", \"convertedManaCost\": \"5.0\", \"manaCost\": \"{4}{B}\", \"loyalty\": \"0\", \"power\": \"0\", \"toughness\": \"0\", \"type\": \"Enchantment\", \"types\": \"Enchantment\", \"subtypes\": \"0\", \"text\": \"Whenever an opponent loses life, you gain that much life.\", \"brawl\": \"Blank\", \"commander\": \"Legal\", \"duel\": \"Legal\", \"future\": \"Blank\", \"historic\": \"Legal\", \"legacy\": \"Legal\", \"modern\": \"Legal\", \"oldschool\": \"Blank\", \"pauper\": \"Blank\", \"penny\": \"Blank\", \"pioneer\": \"Blank\", \"standard\": \"Blank\", \"vintage\": \"Legal\"}, {\"Names\": \"Triumphant_Surge-THB\", \"similarity\": \"0.70673764\", \"id\": 49434, \"mtgArenaId\": 70552, \"scryfallId\": \"75d6eb18-a49d-4fa5-a333-78aafbc4abcb\", \"name\": \"Triumphant Surge\", \"colors\": \"W\", \"setName\": \"Theros Beyond Death\", \"convertedManaCost\": \"4.0\", \"manaCost\": \"{3}{W}\", \"loyalty\": \"0\", \"power\": \"0\", \"toughness\": \"0\", \"type\": \"Instant\", \"types\": \"Instant\", \"subtypes\": \"0\", \"text\": \"Destroy target creature with power 4 or greater. You gain 3 life.\", \"brawl\": \"Legal\", \"commander\": \"Legal\", \"duel\": \"Legal\", \"future\": \"Legal\", \"historic\": \"Legal\", \"legacy\": \"Legal\", \"modern\": \"Legal\", \"oldschool\": \"Blank\", \"pauper\": \"Legal\", \"penny\": \"Legal\", \"pioneer\": \"Legal\", \"standard\": \"Legal\", \"vintage\": \"Legal\"}, {\"Names\": \"Vilis,_Broker_of_Blood-M20\", \"similarity\": \"0.6981758000000001\", \"id\": 29292, \"mtgArenaId\": 69907, \"scryfallId\": \"ecdf2bd9-87b9-470a-ad2e-0ebf98560f87\", \"name\": \"Vilis, Broker of Blood\", \"colors\": \"B\", \"setName\": \"Core Set 2020\", \"convertedManaCost\": \"8.0\", \"manaCost\": \"{5}{B}{B}{B}\", \"loyalty\": \"0\", \"power\": \"8\", \"toughness\": \"8\", \"type\": \"Legendary Creature \\\\u2014 Demon\", \"types\": \"Creature\", \"subtypes\": \"Demon\", \"text\": \"Flying\\\\n{B}, Pay 2 life: Target creature gets -1/-1 until end of turn.\\\\nWhenever you lose life, draw that many cards. (Damage causes loss of life.)\", \"brawl\": \"Blank\", \"commander\": \"Legal\", \"duel\": \"Legal\", \"future\": \"Blank\", \"historic\": \"Legal\", \"legacy\": \"Legal\", \"modern\": \"Legal\", \"oldschool\": \"Blank\", \"pauper\": \"Blank\", \"penny\": \"Blank\", \"pioneer\": \"Legal\", \"standard\": \"Blank\", \"vintage\": \"Legal\"}, {\"Names\": \"Soul_Warden-HA1\", \"similarity\": \"0.6974654\", \"id\": 21635, \"mtgArenaId\": 32675, \"scryfallId\": \"790ef1e1-8ea2-49a9-8237-d37de97e1339\", \"name\": \"Soul Warden\", \"colors\": \"W\", \"setName\": \"Historic Anthology 1\", \"convertedManaCost\": \"1.0\", \"manaCost\": \"{W}\", \"loyalty\": \"0\", \"power\": \"1\", \"toughness\": \"1\", \"type\": \"Creature \\\\u2014 Human Cleric\", \"types\": \"Creature\", \"subtypes\": \"Human,Cleric\", \"text\": \"Whenever another creature enters the battlefield, you gain 1 life.\", \"brawl\": \"Blank\", \"commander\": \"Legal\", \"duel\": \"Legal\", \"future\": \"Blank\", \"historic\": \"Legal\", \"legacy\": \"Legal\", \"modern\": \"Legal\", \"oldschool\": \"Blank\", \"pauper\": \"Legal\", \"penny\": \"Blank\", \"pioneer\": \"Blank\", \"standard\": \"Blank\", \"vintage\": \"Legal\"}, {\"Names\": \"Impassioned_Orator-M20\", \"similarity\": \"0.6956477\", \"id\": 29121, \"mtgArenaId\": 70090, \"scryfallId\": \"696d6c4b-69d7-498b-87d4-0a03b16cc971\", \"name\": \"Impassioned Orator\", \"colors\": \"W\", \"setName\": \"Core Set 2020\", \"convertedManaCost\": \"2.0\", \"manaCost\": \"{1}{W}\", \"loyalty\": \"0\", \"power\": \"2\", \"toughness\": \"2\", \"type\": \"Creature \\\\u2014 Human Cleric\", \"types\": \"Creature\", \"subtypes\": \"Human,Cleric\", \"text\": \"Whenever another creature enters the battlefield under your control, you gain 1 life.\", \"brawl\": \"Blank\", \"commander\": \"Legal\", \"duel\": \"Legal\", \"future\": \"Blank\", \"historic\": \"Legal\", \"legacy\": \"Legal\", \"modern\": \"Legal\", \"oldschool\": \"Blank\", \"pauper\": \"Legal\", \"penny\": \"Legal\", \"pioneer\": \"Legal\", \"standard\": \"Blank\", \"vintage\": \"Legal\"}, {\"Names\": \"Impassioned_Orator-ANB\", \"similarity\": \"0.6956477\", \"id\": 5967, \"mtgArenaId\": 75451, \"scryfallId\": \"20726907-ee1f-49ef-a694-7d3f53ee1e2d\", \"name\": \"Impassioned Orator\", \"colors\": \"W\", \"setName\": \"Arena Beginner Set\", \"convertedManaCost\": \"2.0\", \"manaCost\": \"{1}{W}\", \"loyalty\": \"0\", \"power\": \"2\", \"toughness\": \"2\", \"type\": \"Creature \\\\u2014 Human Cleric\", \"types\": \"Creature\", \"subtypes\": \"Human,Cleric\", \"text\": \"Whenever another creature enters the battlefield under your control, you gain 1 life.\", \"brawl\": \"Blank\", \"commander\": \"Legal\", \"duel\": \"Legal\", \"future\": \"Blank\", \"historic\": \"Legal\", \"legacy\": \"Legal\", \"modern\": \"Legal\", \"oldschool\": \"Blank\", \"pauper\": \"Legal\", \"penny\": \"Legal\", \"pioneer\": \"Legal\", \"standard\": \"Blank\", \"vintage\": \"Legal\"}, {\"Names\": \"Impassioned_Orator-RNA\", \"similarity\": \"0.6956477\", \"id\": 45991, \"mtgArenaId\": 69140, \"scryfallId\": \"2bd746e3-8934-4c86-894e-2cb1738b1d58\", \"name\": \"Impassioned Orator\", \"colors\": \"W\", \"setName\": \"Ravnica Allegiance\", \"convertedManaCost\": \"2.0\", \"manaCost\": \"{1}{W}\", \"loyalty\": \"0\", \"power\": \"2\", \"toughness\": \"2\", \"type\": \"Creature \\\\u2014 Human Cleric\", \"types\": \"Creature\", \"subtypes\": \"Human,Cleric\", \"text\": \"Whenever another creature enters the battlefield under your control, you gain 1 life.\", \"brawl\": \"Blank\", \"commander\": \"Legal\", \"duel\": \"Legal\", \"future\": \"Blank\", \"historic\": \"Legal\", \"legacy\": \"Legal\", \"modern\": \"Legal\", \"oldschool\": \"Blank\", \"pauper\": \"Legal\", \"penny\": \"Legal\", \"pioneer\": \"Legal\", \"standard\": \"Blank\", \"vintage\": \"Legal\"}, {\"Names\": \"Lich\\'s_Caress-M19\", \"similarity\": \"0.69273174\", \"id\": 28803, \"mtgArenaId\": 67890, \"scryfallId\": \"32bd3acd-aa62-4708-9336-e3430fd0e541\", \"name\": \"Lich\\'s Caress\", \"colors\": \"B\", \"setName\": \"Core Set 2019\", \"convertedManaCost\": \"5.0\", \"manaCost\": \"{3}{B}{B}\", \"loyalty\": \"0\", \"power\": \"0\", \"toughness\": \"0\", \"type\": \"Sorcery\", \"types\": \"Sorcery\", \"subtypes\": \"0\", \"text\": \"Destroy target creature. You gain 3 life.\", \"brawl\": \"Blank\", \"commander\": \"Legal\", \"duel\": \"Legal\", \"future\": \"Blank\", \"historic\": \"Legal\", \"legacy\": \"Legal\", \"modern\": \"Legal\", \"oldschool\": \"Blank\", \"pauper\": \"Legal\", \"penny\": \"Legal\", \"pioneer\": \"Legal\", \"standard\": \"Blank\", \"vintage\": \"Legal\"}, {\"Names\": \"Basilica_Bell-Haunt-RNA\", \"similarity\": \"0.68616974\", \"id\": 45879, \"mtgArenaId\": 69284, \"scryfallId\": \"e72f4329-db6f-4284-b63e-55f22a0a0f6e\", \"name\": \"Basilica Bell-Haunt\", \"colors\": \"B,W\", \"setName\": \"Ravnica Allegiance\", \"convertedManaCost\": \"4.0\", \"manaCost\": \"{W}{W}{B}{B}\", \"loyalty\": \"0\", \"power\": \"3\", \"toughness\": \"4\", \"type\": \"Creature \\\\u2014 Spirit\", \"types\": \"Creature\", \"subtypes\": \"Spirit\", \"text\": \"When Basilica Bell-Haunt enters the battlefield, each opponent discards a card and you gain 3 life.\", \"brawl\": \"Blank\", \"commander\": \"Legal\", \"duel\": \"Legal\", \"future\": \"Blank\", \"historic\": \"Legal\", \"legacy\": \"Legal\", \"modern\": \"Legal\", \"oldschool\": \"Blank\", \"pauper\": \"Blank\", \"penny\": \"Legal\", \"pioneer\": \"Legal\", \"standard\": \"Blank\", \"vintage\": \"Legal\"}, {\"Names\": \"Bontu\\'s_Monument-AKR\", \"similarity\": \"0.6858123\", \"id\": 5104, \"mtgArenaId\": 74091, \"scryfallId\": \"18c1fcb8-1b50-4fc0-a3e1-34a748652a60\", \"name\": \"Bontu\\'s Monument\", \"colors\": \"0\", \"setName\": \"Amonkhet Remastered\", \"convertedManaCost\": \"3.0\", \"manaCost\": \"{3}\", \"loyalty\": \"0\", \"power\": \"0\", \"toughness\": \"0\", \"type\": \"Legendary Artifact\", \"types\": \"Artifact\", \"subtypes\": \"0\", \"text\": \"Black creature spells you cast cost {1} less to cast.\\\\nWhenever you cast a creature spell, each opponent loses 1 life and you gain 1 life.\", \"brawl\": \"Blank\", \"commander\": \"Legal\", \"duel\": \"Legal\", \"future\": \"Blank\", \"historic\": \"Legal\", \"legacy\": \"Legal\", \"modern\": \"Legal\", \"oldschool\": \"Blank\", \"pauper\": \"Blank\", \"penny\": \"Blank\", \"pioneer\": \"Legal\", \"standard\": \"Blank\", \"vintage\": \"Legal\"}, {\"Names\": \"Tattered_Mummy-M19\", \"similarity\": \"0.6842854\", \"id\": 28931, \"mtgArenaId\": 68272, \"scryfallId\": \"6a27ce41-69e7-4b86-9b9c-1a724d0728e9\", \"name\": \"Tattered Mummy\", \"colors\": \"B\", \"setName\": \"Core Set 2019\", \"convertedManaCost\": \"2.0\", \"manaCost\": \"{1}{B}\", \"loyalty\": \"0\", \"power\": \"1\", \"toughness\": \"2\", \"type\": \"Creature \\\\u2014 Zombie Jackal\", \"types\": \"Creature\", \"subtypes\": \"Zombie,Jackal\", \"text\": \"When Tattered Mummy dies, each opponent loses 2 life.\", \"brawl\": \"Blank\", \"commander\": \"Legal\", \"duel\": \"Legal\", \"future\": \"Blank\", \"historic\": \"Legal\", \"legacy\": \"Legal\", \"modern\": \"Legal\", \"oldschool\": \"Blank\", \"pauper\": \"Legal\", \"penny\": \"Blank\", \"pioneer\": \"Legal\", \"standard\": \"Blank\", \"vintage\": \"Legal\"}, {\"Names\": \"Ajani\\'s_Welcome-M19\", \"similarity\": \"0.68412185\", \"id\": 28667, \"mtgArenaId\": 67692, \"scryfallId\": \"c9045fcb-b633-4c35-8058-6234311551ae\", \"name\": \"Ajani\\'s Welcome\", \"colors\": \"W\", \"setName\": \"Core Set 2019\", \"convertedManaCost\": \"1.0\", \"manaCost\": \"{W}\", \"loyalty\": \"0\", \"power\": \"0\", \"toughness\": \"0\", \"type\": \"Enchantment\", \"types\": \"Enchantment\", \"subtypes\": \"0\", \"text\": \"Whenever a creature enters the battlefield under your control, you gain 1 life.\", \"brawl\": \"Blank\", \"commander\": \"Legal\", \"duel\": \"Legal\", \"future\": \"Blank\", \"historic\": \"Legal\", \"legacy\": \"Legal\", \"modern\": \"Legal\", \"oldschool\": \"Blank\", \"pauper\": \"Blank\", \"penny\": \"Blank\", \"pioneer\": \"Legal\", \"standard\": \"Blank\", \"vintage\": \"Legal\"}, {\"Names\": \"Undercity\\'s_Embrace-RNA\", \"similarity\": \"0.6800377\", \"id\": 46131, \"mtgArenaId\": 69217, \"scryfallId\": \"bfcb9805-eca0-476c-9480-0c958acdb50f\", \"name\": \"Undercity\\'s Embrace\", \"colors\": \"B\", \"setName\": \"Ravnica Allegiance\", \"convertedManaCost\": \"3.0\", \"manaCost\": \"{2}{B}\", \"loyalty\": \"0\", \"power\": \"0\", \"toughness\": \"0\", \"type\": \"Instant\", \"types\": \"Instant\", \"subtypes\": \"0\", \"text\": \"Target opponent sacrifices a creature. If you control a creature with power 4 or greater, you gain 4 life.\", \"brawl\": \"Blank\", \"commander\": \"Legal\", \"duel\": \"Legal\", \"future\": \"Blank\", \"historic\": \"Legal\", \"legacy\": \"Legal\", \"modern\": \"Legal\", \"oldschool\": \"Blank\", \"pauper\": \"Legal\", \"penny\": \"Legal\", \"pioneer\": \"Legal\", \"standard\": \"Blank\", \"vintage\": \"Legal\"}, {\"Names\": \"Live_Fast-KLR\", \"similarity\": \"0.6786865\", \"id\": 25359, \"mtgArenaId\": 75673, \"scryfallId\": \"3aaba860-65ed-4aa5-b6fd-42a54dde9a4a\", \"name\": \"Live Fast\", \"colors\": \"B\", \"setName\": \"Kaladesh Remastered\", \"convertedManaCost\": \"3.0\", \"manaCost\": \"{2}{B}\", \"loyalty\": \"0\", \"power\": \"0\", \"toughness\": \"0\", \"type\": \"Sorcery\", \"types\": \"Sorcery\", \"subtypes\": \"0\", \"text\": \"You draw two cards, lose 2 life, and get {E}{E} (two energy counters).\", \"brawl\": \"Blank\", \"commander\": \"Legal\", \"duel\": \"Legal\", \"future\": \"Blank\", \"historic\": \"Legal\", \"legacy\": \"Legal\", \"modern\": \"Legal\", \"oldschool\": \"Blank\", \"pauper\": \"Legal\", \"penny\": \"Legal\", \"pioneer\": \"Legal\", \"standard\": \"Blank\", \"vintage\": \"Legal\"}, {\"Names\": \"Phyrexian_Rager-JMP\", \"similarity\": \"0.67746973\", \"id\": 24387, \"mtgArenaId\": 72328, \"scryfallId\": \"86eb76e0-11ed-4f89-a2f4-04bc67f3c94d\", \"name\": \"Phyrexian Rager\", \"colors\": \"B\", \"setName\": \"Jumpstart\", \"convertedManaCost\": \"3.0\", \"manaCost\": \"{2}{B}\", \"loyalty\": \"0\", \"power\": \"2\", \"toughness\": \"2\", \"type\": \"Creature \\\\u2014 Horror\", \"types\": \"Creature\", \"subtypes\": \"Horror\", \"text\": \"When Phyrexian Rager enters the battlefield, you draw a card and you lose 1 life.\", \"brawl\": \"Blank\", \"commander\": \"Legal\", \"duel\": \"Legal\", \"future\": \"Blank\", \"historic\": \"Legal\", \"legacy\": \"Legal\", \"modern\": \"Legal\", \"oldschool\": \"Blank\", \"pauper\": \"Legal\", \"penny\": \"Legal\", \"pioneer\": \"Blank\", \"standard\": \"Blank\", \"vintage\": \"Legal\"}, {\"Names\": \"Nightmare\\'s_Thirst-M19\", \"similarity\": \"0.6750859\", \"id\": 28839, \"mtgArenaId\": 67902, \"scryfallId\": \"f12efbc0-ce88-4622-ad07-2808e651ac5a\", \"name\": \"Nightmare\\'s Thirst\", \"colors\": \"B\", \"setName\": \"Core Set 2019\", \"convertedManaCost\": \"1.0\", \"manaCost\": \"{B}\", \"loyalty\": \"0\", \"power\": \"0\", \"toughness\": \"0\", \"type\": \"Instant\", \"types\": \"Instant\", \"subtypes\": \"0\", \"text\": \"You gain 1 life. Target creature gets -X/-X until end of turn, where X is the amount of life you gained this turn.\", \"brawl\": \"Blank\", \"commander\": \"Legal\", \"duel\": \"Legal\", \"future\": \"Blank\", \"historic\": \"Legal\", \"legacy\": \"Legal\", \"modern\": \"Legal\", \"oldschool\": \"Blank\", \"pauper\": \"Blank\", \"penny\": \"Legal\", \"pioneer\": \"Legal\", \"standard\": \"Blank\", \"vintage\": \"Legal\"}, {\"Names\": \"Vampire_Sovereign-M19\", \"similarity\": \"0.67493623\", \"id\": 28955, \"mtgArenaId\": 67930, \"scryfallId\": \"ee338221-ead9-4b89-8b0c-12745c4ca13d\", \"name\": \"Vampire Sovereign\", \"colors\": \"B\", \"setName\": \"Core Set 2019\", \"convertedManaCost\": \"5.0\", \"manaCost\": \"{3}{B}{B}\", \"loyalty\": \"0\", \"power\": \"3\", \"toughness\": \"4\", \"type\": \"Creature \\\\u2014 Vampire Noble\", \"types\": \"Creature\", \"subtypes\": \"Vampire,Noble\", \"text\": \"Flying\\\\nWhen Vampire Sovereign enters the battlefield, target opponent loses 3 life and you gain 3 life.\", \"brawl\": \"Blank\", \"commander\": \"Legal\", \"duel\": \"Legal\", \"future\": \"Blank\", \"historic\": \"Legal\", \"legacy\": \"Legal\", \"modern\": \"Legal\", \"oldschool\": \"Blank\", \"pauper\": \"Blank\", \"penny\": \"Legal\", \"pioneer\": \"Legal\", \"standard\": \"Blank\", \"vintage\": \"Legal\"}]',\n",
       " 'vintage': 'Legal',\n",
       " 'power': '0',\n",
       " 'manaCost': '{4}{B}{B}',\n",
       " 'legacy': 'Legal',\n",
       " 'similarity': '1.0000002000000001',\n",
       " 'standard': 'Legal',\n",
       " 'type': 'Sorcery',\n",
       " 'oldschool': 'Blank'}"
      ]
     },
     "metadata": {},
     "execution_count": 66
    }
   ],
   "source": [
    "card_item['Items'][0]"
   ]
  },
  {
   "cell_type": "code",
   "execution_count": 41,
   "metadata": {},
   "outputs": [],
   "source": [
    "import requests"
   ]
  },
  {
   "cell_type": "code",
   "execution_count": 96,
   "metadata": {},
   "outputs": [],
   "source": [
    "query = {\n",
    "  \"key\": \"name\",\n",
    "  \"value\": \"Audacious Thief\"\n",
    "}"
   ]
  },
  {
   "cell_type": "code",
   "execution_count": 97,
   "metadata": {},
   "outputs": [],
   "source": [
    "res = requests.post('https://jjshh8ng78.execute-api.us-east-1.amazonaws.com/dev/query', json=query)"
   ]
  },
  {
   "cell_type": "code",
   "execution_count": 98,
   "metadata": {},
   "outputs": [
    {
     "output_type": "execute_result",
     "data": {
      "text/plain": [
       "{'message': 'Internal server error'}"
      ]
     },
     "metadata": {},
     "execution_count": 98
    }
   ],
   "source": [
    "res.json()"
   ]
  },
  {
   "source": [
    "## Lambda Cards Sorter Master"
   ],
   "cell_type": "markdown",
   "metadata": {}
  },
  {
   "cell_type": "code",
   "execution_count": 39,
   "metadata": {},
   "outputs": [],
   "source": [
    "STAGE = 'dev'"
   ]
  },
  {
   "cell_type": "code",
   "execution_count": 40,
   "metadata": {},
   "outputs": [],
   "source": [
    "_, s3, boto_sess = aws_connect('s3', 'lw2134', session=True)\n",
    "lambda_client = boto_sess.client('lambda')"
   ]
  },
  {
   "cell_type": "code",
   "execution_count": 41,
   "metadata": {},
   "outputs": [],
   "source": [
    "all_cards = pred_df.columns"
   ]
  },
  {
   "cell_type": "code",
   "execution_count": 47,
   "metadata": {},
   "outputs": [
    {
     "output_type": "stream",
     "name": "stdout",
     "text": [
      "542\n"
     ]
    },
    {
     "output_type": "execute_result",
     "data": {
      "text/plain": [
       "[\"Archon_of_Sun's_Grace-AJMP\",\n",
       " 'Audacious_Thief-AJMP',\n",
       " 'Banishing_Light-AJMP',\n",
       " 'Bond_of_Revival-AJMP',\n",
       " 'Carnifex_Demon-AJMP',\n",
       " 'Doomed_Necromancer-AJMP',\n",
       " 'Dryad_Greenseeker-AJMP',\n",
       " 'Fanatic_of_Mogis-AJMP',\n",
       " 'Gadwick,_the_Wizened-AJMP',\n",
       " 'Goblin_Oriflamme-AJMP']"
      ]
     },
     "metadata": {},
     "execution_count": 47
    }
   ],
   "source": [
    "BATCHES_OF = 10\n",
    "batches = [list(all_cards[n:n+BATCHES_OF]) for n in range(1, len(all_cards), BATCHES_OF)]\n",
    "print(len(batches))\n",
    "batches[0]"
   ]
  },
  {
   "cell_type": "code",
   "execution_count": 49,
   "metadata": {},
   "outputs": [],
   "source": [
    "import json"
   ]
  },
  {
   "cell_type": "code",
   "execution_count": 54,
   "metadata": {},
   "outputs": [
    {
     "output_type": "execute_result",
     "data": {
      "text/plain": [
       "'[\"Archon_of_Sun\\'s_Grace-AJMP\", \"Audacious_Thief-AJMP\", \"Banishing_Light-AJMP\", \"Bond_of_Revival-AJMP\", \"Carnifex_Demon-AJMP\"]'"
      ]
     },
     "metadata": {},
     "execution_count": 54
    }
   ],
   "source": [
    "json.dumps(batches[0][0:5])"
   ]
  },
  {
   "cell_type": "code",
   "execution_count": 141,
   "metadata": {},
   "outputs": [],
   "source": [
    "for cards in batches:\n",
    "    payload = {'cards': cards}\n",
    "\n",
    "    res = lambda_client.invoke(\n",
    "        FunctionName='magicml-similarity-{}-stage_embed_worker'.format(STAGE),\n",
    "        InvocationType='Event',\n",
    "        Payload=json.dumps(payload)\n",
    "    )"
   ]
  },
  {
   "cell_type": "code",
   "execution_count": null,
   "metadata": {},
   "outputs": [],
   "source": []
  },
  {
   "cell_type": "code",
   "execution_count": null,
   "metadata": {},
   "outputs": [],
   "source": []
  },
  {
   "cell_type": "code",
   "execution_count": 142,
   "metadata": {},
   "outputs": [
    {
     "output_type": "stream",
     "name": "stdout",
     "text": [
      "(7639, 33)\n"
     ]
    }
   ],
   "source": [
    "a_card = pd.read_csv('sorted/Banishing_Light-AJMP.csv')\n",
    "print(a_card.shape)"
   ]
  },
  {
   "cell_type": "code",
   "execution_count": 149,
   "metadata": {},
   "outputs": [
    {
     "output_type": "execute_result",
     "data": {
      "text/plain": [
       "   Banishing_Light-AJMP     id  mtgArenaId  \\\n",
       "0              1.000000   4756     74986.0   \n",
       "1              1.000000  49136     70515.0   \n",
       "2              0.773027  28775     67708.0   \n",
       "\n",
       "                             scryfallId                name colorIdentity  \\\n",
       "0  ca112bae-6ac5-4cdf-9e8c-1b99f7396995     Banishing Light             W   \n",
       "1  a1ddd113-140f-49c9-b45c-cf1b0d1dffd8     Banishing Light             W   \n",
       "2  197743cd-249c-42ba-ac8d-027c088f8418  Hieromancer's Cage             W   \n",
       "\n",
       "  colors                     setName  convertedManaCost manaCost  ...  future  \\\n",
       "0      W  Jumpstart Arena Exclusives                3.0   {2}{W}  ...   Legal   \n",
       "1      W         Theros Beyond Death                3.0   {2}{W}  ...   Legal   \n",
       "2      W               Core Set 2019                4.0   {3}{W}  ...   Blank   \n",
       "\n",
       "  historic legacy modern oldschool pauper  penny pioneer standard vintage  \n",
       "0    Legal  Legal  Legal     Blank  Blank  Legal   Legal    Legal   Legal  \n",
       "1    Legal  Legal  Legal     Blank  Blank  Legal   Legal    Legal   Legal  \n",
       "2    Legal  Legal  Legal     Blank  Blank  Blank   Legal    Blank   Legal  \n",
       "\n",
       "[3 rows x 33 columns]"
      ],
      "text/html": "<div>\n<style scoped>\n    .dataframe tbody tr th:only-of-type {\n        vertical-align: middle;\n    }\n\n    .dataframe tbody tr th {\n        vertical-align: top;\n    }\n\n    .dataframe thead th {\n        text-align: right;\n    }\n</style>\n<table border=\"1\" class=\"dataframe\">\n  <thead>\n    <tr style=\"text-align: right;\">\n      <th></th>\n      <th>Banishing_Light-AJMP</th>\n      <th>id</th>\n      <th>mtgArenaId</th>\n      <th>scryfallId</th>\n      <th>name</th>\n      <th>colorIdentity</th>\n      <th>colors</th>\n      <th>setName</th>\n      <th>convertedManaCost</th>\n      <th>manaCost</th>\n      <th>...</th>\n      <th>future</th>\n      <th>historic</th>\n      <th>legacy</th>\n      <th>modern</th>\n      <th>oldschool</th>\n      <th>pauper</th>\n      <th>penny</th>\n      <th>pioneer</th>\n      <th>standard</th>\n      <th>vintage</th>\n    </tr>\n  </thead>\n  <tbody>\n    <tr>\n      <th>0</th>\n      <td>1.000000</td>\n      <td>4756</td>\n      <td>74986.0</td>\n      <td>ca112bae-6ac5-4cdf-9e8c-1b99f7396995</td>\n      <td>Banishing Light</td>\n      <td>W</td>\n      <td>W</td>\n      <td>Jumpstart Arena Exclusives</td>\n      <td>3.0</td>\n      <td>{2}{W}</td>\n      <td>...</td>\n      <td>Legal</td>\n      <td>Legal</td>\n      <td>Legal</td>\n      <td>Legal</td>\n      <td>Blank</td>\n      <td>Blank</td>\n      <td>Legal</td>\n      <td>Legal</td>\n      <td>Legal</td>\n      <td>Legal</td>\n    </tr>\n    <tr>\n      <th>1</th>\n      <td>1.000000</td>\n      <td>49136</td>\n      <td>70515.0</td>\n      <td>a1ddd113-140f-49c9-b45c-cf1b0d1dffd8</td>\n      <td>Banishing Light</td>\n      <td>W</td>\n      <td>W</td>\n      <td>Theros Beyond Death</td>\n      <td>3.0</td>\n      <td>{2}{W}</td>\n      <td>...</td>\n      <td>Legal</td>\n      <td>Legal</td>\n      <td>Legal</td>\n      <td>Legal</td>\n      <td>Blank</td>\n      <td>Blank</td>\n      <td>Legal</td>\n      <td>Legal</td>\n      <td>Legal</td>\n      <td>Legal</td>\n    </tr>\n    <tr>\n      <th>2</th>\n      <td>0.773027</td>\n      <td>28775</td>\n      <td>67708.0</td>\n      <td>197743cd-249c-42ba-ac8d-027c088f8418</td>\n      <td>Hieromancer's Cage</td>\n      <td>W</td>\n      <td>W</td>\n      <td>Core Set 2019</td>\n      <td>4.0</td>\n      <td>{3}{W}</td>\n      <td>...</td>\n      <td>Blank</td>\n      <td>Legal</td>\n      <td>Legal</td>\n      <td>Legal</td>\n      <td>Blank</td>\n      <td>Blank</td>\n      <td>Blank</td>\n      <td>Legal</td>\n      <td>Blank</td>\n      <td>Legal</td>\n    </tr>\n  </tbody>\n</table>\n<p>3 rows × 33 columns</p>\n</div>"
     },
     "metadata": {},
     "execution_count": 149
    }
   ],
   "source": [
    "a_card.head(3)"
   ]
  },
  {
   "cell_type": "code",
   "execution_count": null,
   "metadata": {},
   "outputs": [],
   "source": []
  }
 ]
}